{
 "cells": [
  {
   "cell_type": "markdown",
   "id": "b20a6f8d",
   "metadata": {},
   "source": [
    "### `Conv2DPytTest` code"
   ]
  },
  {
   "cell_type": "code",
   "execution_count": 1,
   "id": "19182ede",
   "metadata": {},
   "outputs": [],
   "source": [
    "import numpy as np"
   ]
  },
  {
   "cell_type": "code",
   "execution_count": 2,
   "id": "7ed1691b",
   "metadata": {},
   "outputs": [],
   "source": [
    "class Conv2DPytTest:\n",
    "    \"\"\" Computes convolution given the input parameters \"\"\"\n",
    "    \n",
    "    \"\"\" * The class implementation will be along the lines of torch.nn.Conv2D in order to \n",
    "          enable comparison of this NumPy only implementation and seamless testing\n",
    "        * Can expect extensive refactoring of the existing code in the days to come\n",
    "        * As part of refactoring, some code will be de-modularized\n",
    "        * Old code will be retained at the end of the notebook for reference\n",
    "    \"\"\"\n",
    "    \"\"\"\n",
    "        TODO:\n",
    "        * Parameter error checking and assertion\n",
    "        * Implementing other features and caveats offered by nn.torch.Conv2D \n",
    "          (e.g., `groups` flag to enable depthwise convolution, uniform sampling of kernel weights etc.)\n",
    "        * Optimizing code\n",
    "    \"\"\"\n",
    "    \n",
    "    def __init__(\n",
    "        self, \n",
    "        in_channels, \n",
    "        out_channels, \n",
    "        kernel_size, \n",
    "        padding = 0, \n",
    "        stride = 1, \n",
    "        dilation = 1, \n",
    "        groups = 1, \n",
    "        bias = True, \n",
    "        padding_mode = 'zeros', \n",
    "        device = None, \n",
    "        dtype = None, \n",
    "        verbose = True, \n",
    "        debug = False\n",
    "        ):\n",
    "        super(Conv2DPytTest, self).__init__()\n",
    "        \n",
    "        ''' mandatory parameters '''\n",
    "        self.in_channels = in_channels\n",
    "        self.out_channels = out_channels\n",
    "        self.kernel_size = kernel_size\n",
    "        \n",
    "        ''' optional parameters '''\n",
    "        self.padding = padding\n",
    "        self.stride = stride\n",
    "        self.dilation = dilation\n",
    "        \n",
    "        ''' optional parameters (dummy, yet to be implemented)'''\n",
    "        self.groups = groups\n",
    "        self.bias = bias\n",
    "        self.padding_mode = padding_mode\n",
    "        self.device = device\n",
    "        self.dtype = dtype\n",
    "        \n",
    "        ''' additional parameters (different from torch.nn.Conv2D)'''\n",
    "        self.verbose = verbose\n",
    "        self.verboseprint = print if self.verbose else lambda *a, **k: None\n",
    "        self.debug = debug\n",
    "        self.debugprint = print if self.debug else lambda *a, **k: None\n",
    "        self.print_params()\n",
    "    \n",
    "    def print_params(self):\n",
    "        self.verboseprint('*** parameters ***')\n",
    "        self.verboseprint('in_channels: {}, out_channels: {}, kernel_size: {}'.format(self.in_channels, self.out_channels, self.kernel_size))\n",
    "        self.verboseprint('padding: {}, stride: {}, dilation factor: {}'.format(self.padding, self.stride, self.dilation))\n",
    "        self.verboseprint('groups: {}, bias: {}, padding_mode: {}, device: {}, dtype: {}'.format(self.groups, self.bias, self.padding_mode, self.device, self.dtype))\n",
    "        self.verboseprint('\\n')\n",
    "    \n",
    "    def add_padding(self, _input):\n",
    "        # add zero padding based on the input parameters\n",
    "        if self.padding != 0:\n",
    "            _input = np.array([[np.pad(channel,self.padding, 'constant', constant_values = 0) for channel in batch] for batch in _input])    \n",
    "            self.verboseprint('*** padded input image ***')\n",
    "            self.verboseprint('input batches: {}, input channels: {}, input height: {}, input weight: {}'.format(_input.shape[0], _input.shape[1], _input.shape[2], _input.shape[3]))\n",
    "            self.verboseprint(_input)\n",
    "            self.verboseprint('\\n')\n",
    "        return _input\n",
    "    \n",
    "    def create_kernels(self, kernels):\n",
    "        # use the provided kernels or create random kernels based on the input kernel parameters\n",
    "        if kernels is not None:\n",
    "            self.verboseprint('*** kernels ***')\n",
    "            self.verboseprint('kernels: {}, kernel channels: {}, kernel height: {}, kernel weight: {}'.format(self.out_channels, self.in_channels, self.kernel_size[0], self.kernel_size[1]))\n",
    "            kernels = self.dilate_kernels(kernels)\n",
    "            return kernels\n",
    "        \n",
    "        ''' Below code never executes as we are passing `kernels` as input - can be commented/removed '''\n",
    "        kernels = []\n",
    "        self.verboseprint('*** kernels ***')\n",
    "        self.verboseprint('kernels: {}, kernel channels: {}, kernel height: {}, kernel weight: {}'.format(self.out_channels, self.in_channels, self.kernel_size[0], self.kernel_size[1]))\n",
    "        for k in range(self.out_channels):\n",
    "            kernel = np.random.rand(self.in_channels, self.kernel_size[0], self.kernel_size[1]) # define a random kernel based on the kernel parameters\n",
    "            if self.debug:\n",
    "                kernel = k * np.ones_like(kernel)\n",
    "            kernels.append(kernel)\n",
    "            self.verboseprint('kernel {}'.format(k))\n",
    "            self.verboseprint(kernel)\n",
    "        self.verboseprint('\\n')\n",
    "        kernels = self.dilate_kernels(kernels)\n",
    "        return kernels \n",
    "    \n",
    "    def dilate_kernels(self, kernels):\n",
    "        # dilate a kernel\n",
    "        dil_ker_h = self.dilation * (self.kernel_size[0] - 1) + 1\n",
    "        dil_ker_w = self.dilation * (self.kernel_size[1] - 1) + 1\n",
    "        dil_kernels = []\n",
    "        for kernel in kernels:\n",
    "            dil_kernel = []\n",
    "            for channel in kernel:\n",
    "                dil_channel = np.zeros((dil_ker_h, dil_ker_w))\n",
    "                for row in range(len(channel)):\n",
    "                    for col in range(len(channel[0])):\n",
    "                        dil_channel[self.dilation*row][self.dilation*col] = channel[row][col]\n",
    "                dil_kernel.append(dil_channel.tolist())\n",
    "            dil_kernels.append(dil_kernel)\n",
    "        kernels, self.kernel_size = dil_kernels, (dil_ker_h, dil_ker_w)\n",
    "        self.verboseprint('*** dilated kernels ***')\n",
    "        self.verboseprint('kernels: {}, dilation factor: {}, kernel channels: {}, kernel height: {}, kernel weight: {}'.format(self.out_channels, self.dilation, self.in_channels, self.kernel_size[0], self.kernel_size[1]))\n",
    "        for k in range(self.out_channels):\n",
    "            self.verboseprint('kernel {}'.format(k))\n",
    "            self.verboseprint(kernels[k])\n",
    "        self.verboseprint('\\n')\n",
    "        return kernels\n",
    "    \n",
    "    def compute_out_vol(self, _input):\n",
    "        # compute output volume from the input and kernel parameters\n",
    "        _input_n, _, _input_h, _input_w = _input.shape\n",
    "        \n",
    "        out_n = int(_input_n)\n",
    "        out_c = int(self.out_channels)\n",
    "        out_h = int((_input_h - self.kernel_size[0])/self.stride) + 1\n",
    "        out_w = int((_input_w - self.kernel_size[1])/self.stride) + 1\n",
    "        return out_n, out_c, out_h, out_w\n",
    "    \n",
    "    def forward(self, _input, kernels):\n",
    "        # create output from the input and kernel parameters \n",
    "        _input = self.add_padding(_input)\n",
    "        if self.debug:\n",
    "            for b in range(_input.shape[0]):\n",
    "                _input[b] = (b+1) * np.ones_like(_input[b]) # define an image of all ones (twos etc.) based on the input parameters\n",
    "        kernels = self.create_kernels(kernels)\n",
    "        out_n, out_c, out_h, out_w = self.compute_out_vol(_input)\n",
    "        output = np.zeros([out_n, out_c, out_h, out_w])\n",
    "        # parse through every element of the output and compute the convolution value for that element\n",
    "        for b in range(out_n):\n",
    "            for k in range(out_c):\n",
    "                for h in range(out_h):\n",
    "                    for w in range(out_w):\n",
    "                        # output[b, k, h, w] += self.convolve(h, w, k, b, _input, kernels)\n",
    "                        # convolve kernel over the input slices\n",
    "                        self.debugprint('kernel indices, image indices')\n",
    "                        self.debugprint('[c, h, w]', '[n, c, h, w]')\n",
    "                        convol_sum = 0\n",
    "                        ker_c = self.in_channels\n",
    "                        ker_h = self.kernel_size[0]\n",
    "                        ker_w = self.kernel_size[1]\n",
    "                        for c_ker in range(ker_c):\n",
    "                            for h_ker in range(ker_h):\n",
    "                                for w_ker in range(ker_w):\n",
    "                                    self.debugprint([c_ker, h_ker, w_ker], [b, c_ker, h_ker + self.stride*h, w_ker + self.stride*w])\n",
    "                                    convol_sum += kernels[k][c_ker][h_ker][w_ker] * _input[b][c_ker][h_ker + self.stride*h][w_ker + self.stride*w]\n",
    "                        self.debugprint('\\n')\n",
    "                        output[b, k, h, w] += convol_sum\n",
    "        self.verboseprint('*** Conv2DPytTest output ***')\n",
    "        output_shape = output.shape\n",
    "        self.verboseprint('output batches: {}, ouput channels: {}, output height: {}, output weight: {}'.format(output_shape[0], output_shape[1], output_shape[2], output_shape[3]))\n",
    "        assert((out_n, out_c, out_h, out_w) == output_shape)\n",
    "        self.verboseprint(output)\n",
    "        self.verboseprint('\\n')\n",
    "        return output"
   ]
  },
  {
   "cell_type": "markdown",
   "id": "7450ac24",
   "metadata": {},
   "source": [
    "### Standalone test"
   ]
  },
  {
   "cell_type": "code",
   "execution_count": 3,
   "id": "a0377df6",
   "metadata": {},
   "outputs": [],
   "source": [
    "debug = False # DO NOT CHANGE THIS while using Conv2DPytTest - TODO: modify this flag to `test`\n",
    "\n",
    "in_channels = 2 # input channels\n",
    "out_channels = 3 # output channels\n",
    "kernel_size = (2, 2) # kernel size\n",
    "\n",
    "padding = 1 # padding (optional)\n",
    "stride = 2 # stride (optional)\n",
    "dilation = 1 # dilation factor (optional)\n",
    "\n",
    "in_batches = 2 # input batches\n",
    "in_h = 4 # input height\n",
    "in_w = 4 # input weight\n",
    "\n",
    "_input = np.random.rand(in_batches, in_channels, in_h, in_w) # define a random image based on the input parameters\n",
    "kernels = []\n",
    "for k in range(out_channels):\n",
    "    kernel = np.random.rand(in_channels, kernel_size[0], kernel_size[1]) # define a random kernel based on the kernel parameters\n",
    "    kernels.append(kernel)"
   ]
  },
  {
   "cell_type": "code",
   "execution_count": 4,
   "id": "29c79bef",
   "metadata": {},
   "outputs": [
    {
     "name": "stdout",
     "output_type": "stream",
     "text": [
      "*** parameters ***\n",
      "in_channels: 2, out_channels: 3, kernel_size: (2, 2)\n",
      "padding: 1, stride: 2, dilation factor: 1\n",
      "groups: 1, bias: True, padding_mode: zeros, device: None, dtype: None\n",
      "\n",
      "\n",
      "*** padded input image ***\n",
      "input batches: 2, input channels: 2, input height: 6, input weight: 6\n",
      "[[[[0.         0.         0.         0.         0.         0.        ]\n",
      "   [0.         0.83672081 0.36264696 0.5983482  0.59536027 0.        ]\n",
      "   [0.         0.98458614 0.05046472 0.02306613 0.06208951 0.        ]\n",
      "   [0.         0.73242363 0.46557687 0.59200138 0.16819485 0.        ]\n",
      "   [0.         0.73433603 0.34704122 0.51759645 0.57526481 0.        ]\n",
      "   [0.         0.         0.         0.         0.         0.        ]]\n",
      "\n",
      "  [[0.         0.         0.         0.         0.         0.        ]\n",
      "   [0.         0.5092462  0.85067404 0.6605529  0.79828189 0.        ]\n",
      "   [0.         0.32925848 0.5330689  0.80769057 0.27678479 0.        ]\n",
      "   [0.         0.79653086 0.89060773 0.33116185 0.56860589 0.        ]\n",
      "   [0.         0.60934846 0.37162087 0.79105106 0.10655578 0.        ]\n",
      "   [0.         0.         0.         0.         0.         0.        ]]]\n",
      "\n",
      "\n",
      " [[[0.         0.         0.         0.         0.         0.        ]\n",
      "   [0.         0.89671068 0.4356954  0.85782594 0.53465971 0.        ]\n",
      "   [0.         0.40452856 0.36038693 0.02849386 0.83386537 0.        ]\n",
      "   [0.         0.66154107 0.33198857 0.0734973  0.04631675 0.        ]\n",
      "   [0.         0.3330395  0.80054324 0.52359678 0.84972255 0.        ]\n",
      "   [0.         0.         0.         0.         0.         0.        ]]\n",
      "\n",
      "  [[0.         0.         0.         0.         0.         0.        ]\n",
      "   [0.         0.95725001 0.39556391 0.06515905 0.06737268 0.        ]\n",
      "   [0.         0.4632727  0.69595101 0.00971145 0.73687733 0.        ]\n",
      "   [0.         0.55341196 0.01839366 0.88920364 0.26630928 0.        ]\n",
      "   [0.         0.58592158 0.18806721 0.55990108 0.77242411 0.        ]\n",
      "   [0.         0.         0.         0.         0.         0.        ]]]]\n",
      "\n",
      "\n",
      "*** kernels ***\n",
      "kernels: 3, kernel channels: 2, kernel height: 2, kernel weight: 2\n",
      "*** dilated kernels ***\n",
      "kernels: 3, dilation factor: 1, kernel channels: 2, kernel height: 2, kernel weight: 2\n",
      "kernel 0\n",
      "[[[0.47561149602254404, 0.21685604557407623], [0.550235740119611, 0.6647428198786632]], [[0.5771807140952903, 0.43983291936933633], [0.7272056038254062, 0.28193685661401113]]]\n",
      "kernel 1\n",
      "[[[0.07624117981369438, 0.3924065382132943], [0.32176610701259056, 0.1554061180280223]], [[0.5289713241838987, 0.23169266238008235], [0.018642471257016013, 0.12308826227496816]]]\n",
      "kernel 2\n",
      "[[[0.3978904889187056, 0.03369215229889988], [0.9537876433835192, 0.8534610561817314]], [[0.9892017825341716, 0.403386638321071], [0.3817860291058849, 0.7012900126906787]]]\n",
      "\n",
      "\n",
      "*** Conv2DPytTest output ***\n",
      "output batches: 2, ouput channels: 3, output height: 3, output weight: 3\n",
      "[[[[0.69977942 1.40213813 0.90810357]\n",
      "   [1.06977693 2.08265698 0.69532554]\n",
      "   [0.42725672 0.83972341 0.3351045 ]]\n",
      "\n",
      "  [[0.19271376 0.30683945 0.20644871]\n",
      "   [0.67451153 0.78118569 0.21586461]\n",
      "   [0.42933983 0.60942457 0.10022382]]\n",
      "\n",
      "  [[1.0712379  1.64456969 0.87262015]\n",
      "   [1.34968548 2.39555454 0.67600878]\n",
      "   [0.27054439 0.8422308  0.33429756]]]\n",
      "\n",
      "\n",
      " [[[0.86596605 1.11599585 0.34318267]\n",
      "   [0.88726895 1.07914818 1.04105407]\n",
      "   [0.32992923 0.84910439 0.84996611]]\n",
      "\n",
      "  [[0.25718057 0.28889802 0.17329137]\n",
      "   [0.43700258 0.63708374 0.47322968]\n",
      "   [0.26644061 0.4957043  0.47337405]]\n",
      "\n",
      "  [[1.43661752 1.34439809 0.53567377]\n",
      "   [1.15320928 1.84669375 1.20655698]\n",
      "   [0.24757375 0.74806268 1.10217982]]]]\n",
      "\n",
      "\n"
     ]
    }
   ],
   "source": [
    "# get Conv2DPytTest output with the random inputs\n",
    "\n",
    "conv2dpyttest = Conv2DPytTest(in_channels, out_channels, kernel_size, stride = stride, padding = padding, dilation = dilation, debug = debug) # call an instance of the class with the input parameters \n",
    "_output = conv2dpyttest.forward(_input, kernels) # perform convolution"
   ]
  },
  {
   "cell_type": "code",
   "execution_count": 5,
   "id": "df346af0",
   "metadata": {},
   "outputs": [
    {
     "name": "stdout",
     "output_type": "stream",
     "text": [
      "*** PyTorch output ***\n",
      "tensor([[[[0.6998, 1.4021, 0.9081],\n",
      "          [1.0698, 2.0827, 0.6953],\n",
      "          [0.4273, 0.8397, 0.3351]],\n",
      "\n",
      "         [[0.1927, 0.3068, 0.2064],\n",
      "          [0.6745, 0.7812, 0.2159],\n",
      "          [0.4293, 0.6094, 0.1002]],\n",
      "\n",
      "         [[1.0712, 1.6446, 0.8726],\n",
      "          [1.3497, 2.3956, 0.6760],\n",
      "          [0.2705, 0.8422, 0.3343]]],\n",
      "\n",
      "\n",
      "        [[[0.8660, 1.1160, 0.3432],\n",
      "          [0.8873, 1.0791, 1.0411],\n",
      "          [0.3299, 0.8491, 0.8500]],\n",
      "\n",
      "         [[0.2572, 0.2889, 0.1733],\n",
      "          [0.4370, 0.6371, 0.4732],\n",
      "          [0.2664, 0.4957, 0.4734]],\n",
      "\n",
      "         [[1.4366, 1.3444, 0.5357],\n",
      "          [1.1532, 1.8467, 1.2066],\n",
      "          [0.2476, 0.7481, 1.1022]]]], dtype=torch.float64)\n"
     ]
    }
   ],
   "source": [
    "# get PyTorch output with the same random inputs as above\n",
    "\n",
    "import torch\n",
    "\n",
    "x = torch.DoubleTensor(_input)\n",
    "weights = torch.stack([torch.DoubleTensor(kernel) for kernel in kernels])\n",
    "output = torch.nn.functional.conv2d(x, weights, stride = stride, padding = padding, dilation = dilation)\n",
    "print(\"*** PyTorch output ***\")\n",
    "print(output)"
   ]
  },
  {
   "cell_type": "code",
   "execution_count": 6,
   "id": "d8e5a3f5",
   "metadata": {
    "scrolled": true
   },
   "outputs": [
    {
     "name": "stdout",
     "output_type": "stream",
     "text": [
      "True\n"
     ]
    }
   ],
   "source": [
    "# compare outputs of conv-Numpy and PyTorch\n",
    "print(torch.equal(torch.round(torch.DoubleTensor(_output)), torch.round(output))) # need to round the output due to precision difference"
   ]
  },
  {
   "cell_type": "markdown",
   "id": "c87813f3",
   "metadata": {},
   "source": [
    "### Extensive tests"
   ]
  },
  {
   "cell_type": "code",
   "execution_count": 7,
   "id": "8b986f3c",
   "metadata": {},
   "outputs": [],
   "source": [
    "def valid_params(num_tests):\n",
    "    # generates `num_samples` number of valid input and kernel parameters \n",
    "    params_list = []\n",
    "    sample_count = 0\n",
    "    while sample_count < num_tests:\n",
    "        in_channels = np.random.randint(20) + 1 # input channels\n",
    "        out_channels = np.random.randint(40) + 1 # output channels\n",
    "\n",
    "        ker_h = np.random.randint(20) + 1\n",
    "        ker_w = np.random.randint(20) + 1\n",
    "        kernel_size = (ker_h, ker_w) # kernel size\n",
    "\n",
    "        padding = np.random.randint(10) + 1 # padding (optional)\n",
    "        stride = np.random.randint(5) + 1 # stride (optional)\n",
    "        dilation = np.random.randint(10) + 1 # dilation factor (optional)\n",
    "\n",
    "        in_batches = np.random.randint(5) + 1 # input batches\n",
    "        in_h = np.random.randint(30) + 5 # input height\n",
    "        in_w = np.random.randint(30) + 5 # input weight\n",
    "    \n",
    "        ker_h_flag, ker_w_flag, out_h_flag, out_w_flag = True, True, True, True\n",
    "        \n",
    "        if in_h + 2 * padding < dilation * (ker_h - 1) + 1: # check if (dilated) ker_h is valid\n",
    "            ker_h_flag = False\n",
    "        if in_w + 2 * padding < dilation * (ker_w - 1) + 1: # check if (dilated) ker_w is valid\n",
    "            ker_w_flag = False\n",
    "        if ((in_h + 2 * padding - (dilation * (ker_h - 1) + 1)) / stride) + 1 < 0: # check if out_h is valid\n",
    "            out_h_flag = False\n",
    "        if ((in_w + 2 * padding - (dilation * (ker_w - 1) + 1)) / stride) + 1 < 0: # check if out_w is valid\n",
    "            out_w_flag = False\n",
    "            \n",
    "        if ker_h_flag and ker_w_flag and out_h_flag and out_w_flag:\n",
    "            params_list.append({'in_channels': in_channels, 'out_channels': out_channels, 'kernel_size': kernel_size,\n",
    "                          'padding': padding, 'stride': stride, 'dilation': dilation, 'in_batches': in_batches,\n",
    "                          'in_h': in_h, 'in_w': in_w})\n",
    "            sample_count += 1\n",
    "    return params_list"
   ]
  },
  {
   "cell_type": "code",
   "execution_count": 8,
   "id": "472a4c0f",
   "metadata": {},
   "outputs": [
    {
     "name": "stdout",
     "output_type": "stream",
     "text": [
      "Number of tests: 50\n",
      "\n",
      "\n"
     ]
    },
    {
     "name": "stderr",
     "output_type": "stream",
     "text": [
      "\r",
      "  0%|                                                    | 0/50 [00:00<?, ?it/s]"
     ]
    },
    {
     "name": "stdout",
     "output_type": "stream",
     "text": [
      "Test: 0\n",
      "Params: {'in_channels': 18, 'out_channels': 33, 'kernel_size': (4, 9), 'padding': 8, 'stride': 3, 'dilation': 5, 'in_batches': 5, 'in_h': 6, 'in_w': 30}\n"
     ]
    },
    {
     "name": "stderr",
     "output_type": "stream",
     "text": [
      "\r",
      "  2%|▉                                           | 1/50 [00:33<26:58, 33.03s/it]"
     ]
    },
    {
     "name": "stdout",
     "output_type": "stream",
     "text": [
      "Result: True\n",
      "\n",
      "\n",
      "Test: 1\n",
      "Params: {'in_channels': 15, 'out_channels': 31, 'kernel_size': (5, 1), 'padding': 7, 'stride': 5, 'dilation': 5, 'in_batches': 4, 'in_h': 25, 'in_w': 27}\n"
     ]
    },
    {
     "name": "stderr",
     "output_type": "stream",
     "text": [
      "\r",
      "  4%|█▊                                          | 2/50 [00:37<12:52, 16.09s/it]"
     ]
    },
    {
     "name": "stdout",
     "output_type": "stream",
     "text": [
      "Result: True\n",
      "\n",
      "\n",
      "Test: 2\n",
      "Params: {'in_channels': 4, 'out_channels': 21, 'kernel_size': (6, 6), 'padding': 3, 'stride': 3, 'dilation': 4, 'in_batches': 2, 'in_h': 28, 'in_w': 15}\n"
     ]
    },
    {
     "name": "stderr",
     "output_type": "stream",
     "text": [
      "\r",
      "  6%|██▋                                         | 3/50 [00:38<07:19,  9.35s/it]"
     ]
    },
    {
     "name": "stdout",
     "output_type": "stream",
     "text": [
      "Result: True\n",
      "\n",
      "\n",
      "Test: 3\n",
      "Params: {'in_channels': 5, 'out_channels': 8, 'kernel_size': (4, 11), 'padding': 6, 'stride': 2, 'dilation': 2, 'in_batches': 1, 'in_h': 34, 'in_w': 13}\n"
     ]
    },
    {
     "name": "stderr",
     "output_type": "stream",
     "text": [
      "\r",
      "  8%|███▌                                        | 4/50 [00:39<04:36,  6.02s/it]"
     ]
    },
    {
     "name": "stdout",
     "output_type": "stream",
     "text": [
      "Result: True\n",
      "\n",
      "\n",
      "Test: 4\n",
      "Params: {'in_channels': 13, 'out_channels': 24, 'kernel_size': (8, 8), 'padding': 7, 'stride': 3, 'dilation': 4, 'in_batches': 4, 'in_h': 19, 'in_w': 26}\n"
     ]
    },
    {
     "name": "stderr",
     "output_type": "stream",
     "text": [
      "\r",
      " 10%|████▍                                       | 5/50 [00:59<08:13, 10.97s/it]"
     ]
    },
    {
     "name": "stdout",
     "output_type": "stream",
     "text": [
      "Result: True\n",
      "\n",
      "\n",
      "Test: 5\n",
      "Params: {'in_channels': 3, 'out_channels': 8, 'kernel_size': (9, 13), 'padding': 5, 'stride': 4, 'dilation': 1, 'in_batches': 3, 'in_h': 24, 'in_w': 22}\n"
     ]
    },
    {
     "name": "stderr",
     "output_type": "stream",
     "text": [
      "\r",
      " 12%|█████▎                                      | 6/50 [00:59<05:28,  7.47s/it]"
     ]
    },
    {
     "name": "stdout",
     "output_type": "stream",
     "text": [
      "Result: True\n",
      "\n",
      "\n",
      "Test: 6\n",
      "Params: {'in_channels': 3, 'out_channels': 1, 'kernel_size': (2, 11), 'padding': 1, 'stride': 5, 'dilation': 1, 'in_batches': 2, 'in_h': 15, 'in_w': 26}\n",
      "Result: True\n",
      "\n",
      "\n",
      "Test: 7\n",
      "Params: {'in_channels': 19, 'out_channels': 24, 'kernel_size': (7, 8), 'padding': 9, 'stride': 4, 'dilation': 2, 'in_batches': 1, 'in_h': 22, 'in_w': 29}\n"
     ]
    },
    {
     "name": "stderr",
     "output_type": "stream",
     "text": [
      "\r",
      " 16%|███████                                     | 8/50 [01:14<05:08,  7.33s/it]"
     ]
    },
    {
     "name": "stdout",
     "output_type": "stream",
     "text": [
      "Result: True\n",
      "\n",
      "\n",
      "Test: 8\n",
      "Params: {'in_channels': 1, 'out_channels': 5, 'kernel_size': (3, 11), 'padding': 5, 'stride': 4, 'dilation': 1, 'in_batches': 3, 'in_h': 11, 'in_w': 32}\n",
      "Result: True\n",
      "\n",
      "\n",
      "Test: 9\n",
      "Params: {'in_channels': 10, 'out_channels': 13, 'kernel_size': (12, 7), 'padding': 1, 'stride': 4, 'dilation': 1, 'in_batches': 4, 'in_h': 31, 'in_w': 10}\n"
     ]
    },
    {
     "name": "stderr",
     "output_type": "stream",
     "text": [
      "\r",
      " 20%|████████▌                                  | 10/50 [01:15<03:03,  4.58s/it]"
     ]
    },
    {
     "name": "stdout",
     "output_type": "stream",
     "text": [
      "Result: True\n",
      "\n",
      "\n",
      "Test: 10\n",
      "Params: {'in_channels': 8, 'out_channels': 5, 'kernel_size': (9, 1), 'padding': 10, 'stride': 3, 'dilation': 2, 'in_batches': 4, 'in_h': 13, 'in_w': 32}\n"
     ]
    },
    {
     "name": "stderr",
     "output_type": "stream",
     "text": [
      "\r",
      " 22%|█████████▍                                 | 11/50 [01:16<02:24,  3.71s/it]"
     ]
    },
    {
     "name": "stdout",
     "output_type": "stream",
     "text": [
      "Result: True\n",
      "\n",
      "\n",
      "Test: 11\n",
      "Params: {'in_channels': 19, 'out_channels': 18, 'kernel_size': (1, 9), 'padding': 8, 'stride': 1, 'dilation': 2, 'in_batches': 2, 'in_h': 31, 'in_w': 25}\n"
     ]
    },
    {
     "name": "stderr",
     "output_type": "stream",
     "text": [
      "\r",
      " 24%|██████████▎                                | 12/50 [01:47<06:39, 10.50s/it]"
     ]
    },
    {
     "name": "stdout",
     "output_type": "stream",
     "text": [
      "Result: True\n",
      "\n",
      "\n",
      "Test: 12\n",
      "Params: {'in_channels': 17, 'out_channels': 3, 'kernel_size': (4, 8), 'padding': 10, 'stride': 3, 'dilation': 3, 'in_batches': 1, 'in_h': 10, 'in_w': 28}\n"
     ]
    },
    {
     "name": "stderr",
     "output_type": "stream",
     "text": [
      "\r",
      " 26%|███████████▏                               | 13/50 [01:49<05:02,  8.17s/it]"
     ]
    },
    {
     "name": "stdout",
     "output_type": "stream",
     "text": [
      "Result: True\n",
      "\n",
      "\n",
      "Test: 13\n",
      "Params: {'in_channels': 7, 'out_channels': 37, 'kernel_size': (7, 8), 'padding': 4, 'stride': 3, 'dilation': 2, 'in_batches': 2, 'in_h': 29, 'in_w': 10}\n"
     ]
    },
    {
     "name": "stderr",
     "output_type": "stream",
     "text": [
      "\r",
      " 28%|████████████                               | 14/50 [01:53<04:11,  6.99s/it]"
     ]
    },
    {
     "name": "stdout",
     "output_type": "stream",
     "text": [
      "Result: True\n",
      "\n",
      "\n",
      "Test: 14\n",
      "Params: {'in_channels': 17, 'out_channels': 23, 'kernel_size': (12, 1), 'padding': 6, 'stride': 2, 'dilation': 2, 'in_batches': 1, 'in_h': 33, 'in_w': 27}\n"
     ]
    },
    {
     "name": "stderr",
     "output_type": "stream",
     "text": [
      "\r",
      " 30%|████████████▉                              | 15/50 [01:58<03:47,  6.51s/it]"
     ]
    },
    {
     "name": "stdout",
     "output_type": "stream",
     "text": [
      "Result: True\n",
      "\n",
      "\n",
      "Test: 15\n",
      "Params: {'in_channels': 19, 'out_channels': 26, 'kernel_size': (16, 12), 'padding': 5, 'stride': 3, 'dilation': 1, 'in_batches': 1, 'in_h': 30, 'in_w': 31}\n"
     ]
    },
    {
     "name": "stderr",
     "output_type": "stream",
     "text": [
      " 34%|██████████████▌                            | 17/50 [02:18<04:06,  7.47s/it]"
     ]
    },
    {
     "name": "stdout",
     "output_type": "stream",
     "text": [
      "Result: True\n",
      "\n",
      "\n",
      "Test: 16\n",
      "Params: {'in_channels': 7, 'out_channels': 35, 'kernel_size': (6, 12), 'padding': 1, 'stride': 5, 'dilation': 1, 'in_batches': 1, 'in_h': 14, 'in_w': 11}\n",
      "Result: True\n",
      "\n",
      "\n",
      "Test: 17\n",
      "Params: {'in_channels': 7, 'out_channels': 16, 'kernel_size': (13, 17), 'padding': 10, 'stride': 5, 'dilation': 3, 'in_batches': 3, 'in_h': 19, 'in_w': 33}\n"
     ]
    },
    {
     "name": "stderr",
     "output_type": "stream",
     "text": [
      "\r",
      " 36%|███████████████▍                           | 18/50 [02:20<03:03,  5.74s/it]"
     ]
    },
    {
     "name": "stdout",
     "output_type": "stream",
     "text": [
      "Result: True\n",
      "\n",
      "\n",
      "Test: 18\n",
      "Params: {'in_channels': 11, 'out_channels': 11, 'kernel_size': (15, 13), 'padding': 5, 'stride': 2, 'dilation': 1, 'in_batches': 3, 'in_h': 11, 'in_w': 32}\n"
     ]
    },
    {
     "name": "stderr",
     "output_type": "stream",
     "text": [
      "\r",
      " 38%|████████████████▎                          | 19/50 [02:30<03:41,  7.14s/it]"
     ]
    },
    {
     "name": "stdout",
     "output_type": "stream",
     "text": [
      "Result: True\n",
      "\n",
      "\n",
      "Test: 19\n",
      "Params: {'in_channels': 6, 'out_channels': 33, 'kernel_size': (1, 8), 'padding': 5, 'stride': 3, 'dilation': 2, 'in_batches': 5, 'in_h': 16, 'in_w': 30}\n"
     ]
    },
    {
     "name": "stderr",
     "output_type": "stream",
     "text": [
      "\r",
      " 40%|█████████████████▏                         | 20/50 [02:34<02:59,  5.98s/it]"
     ]
    },
    {
     "name": "stdout",
     "output_type": "stream",
     "text": [
      "Result: True\n",
      "\n",
      "\n",
      "Test: 20\n",
      "Params: {'in_channels': 16, 'out_channels': 25, 'kernel_size': (2, 5), 'padding': 8, 'stride': 3, 'dilation': 3, 'in_batches': 1, 'in_h': 8, 'in_w': 16}\n"
     ]
    },
    {
     "name": "stderr",
     "output_type": "stream",
     "text": [
      "\r",
      " 42%|██████████████████                         | 21/50 [02:36<02:22,  4.90s/it]"
     ]
    },
    {
     "name": "stdout",
     "output_type": "stream",
     "text": [
      "Result: True\n",
      "\n",
      "\n",
      "Test: 21\n",
      "Params: {'in_channels': 18, 'out_channels': 25, 'kernel_size': (16, 12), 'padding': 7, 'stride': 4, 'dilation': 2, 'in_batches': 1, 'in_h': 23, 'in_w': 12}\n"
     ]
    },
    {
     "name": "stderr",
     "output_type": "stream",
     "text": [
      "\r",
      " 44%|██████████████████▉                        | 22/50 [02:38<01:50,  3.93s/it]"
     ]
    },
    {
     "name": "stdout",
     "output_type": "stream",
     "text": [
      "Result: True\n",
      "\n",
      "\n",
      "Test: 22\n",
      "Params: {'in_channels': 20, 'out_channels': 11, 'kernel_size': (12, 9), 'padding': 9, 'stride': 2, 'dilation': 3, 'in_batches': 3, 'in_h': 24, 'in_w': 27}\n"
     ]
    },
    {
     "name": "stderr",
     "output_type": "stream",
     "text": [
      "\r",
      " 46%|███████████████████▊                       | 23/50 [03:45<10:16, 22.85s/it]"
     ]
    },
    {
     "name": "stdout",
     "output_type": "stream",
     "text": [
      "Result: True\n",
      "\n",
      "\n",
      "Test: 23\n",
      "Params: {'in_channels': 16, 'out_channels': 16, 'kernel_size': (18, 6), 'padding': 9, 'stride': 1, 'dilation': 1, 'in_batches': 3, 'in_h': 9, 'in_w': 31}\n"
     ]
    },
    {
     "name": "stderr",
     "output_type": "stream",
     "text": [
      "\r",
      " 48%|████████████████████▋                      | 24/50 [05:13<18:20, 42.32s/it]"
     ]
    },
    {
     "name": "stdout",
     "output_type": "stream",
     "text": [
      "Result: True\n",
      "\n",
      "\n",
      "Test: 24\n",
      "Params: {'in_channels': 16, 'out_channels': 28, 'kernel_size': (1, 11), 'padding': 4, 'stride': 4, 'dilation': 1, 'in_batches': 4, 'in_h': 32, 'in_w': 34}\n"
     ]
    },
    {
     "name": "stderr",
     "output_type": "stream",
     "text": [
      "\r",
      " 50%|█████████████████████▌                     | 25/50 [05:16<12:46, 30.64s/it]"
     ]
    },
    {
     "name": "stdout",
     "output_type": "stream",
     "text": [
      "Result: True\n",
      "\n",
      "\n",
      "Test: 25\n",
      "Params: {'in_channels': 6, 'out_channels': 37, 'kernel_size': (8, 6), 'padding': 10, 'stride': 1, 'dilation': 3, 'in_batches': 2, 'in_h': 28, 'in_w': 26}\n"
     ]
    },
    {
     "name": "stderr",
     "output_type": "stream",
     "text": [
      "\r",
      " 52%|█████████████████████▊                    | 26/50 [10:11<43:55, 109.80s/it]"
     ]
    },
    {
     "name": "stdout",
     "output_type": "stream",
     "text": [
      "Result: True\n",
      "\n",
      "\n",
      "Test: 26\n",
      "Params: {'in_channels': 11, 'out_channels': 5, 'kernel_size': (12, 9), 'padding': 5, 'stride': 2, 'dilation': 1, 'in_batches': 5, 'in_h': 14, 'in_w': 17}\n"
     ]
    },
    {
     "name": "stderr",
     "output_type": "stream",
     "text": [
      "\r",
      " 54%|███████████████████████▏                   | 27/50 [10:16<29:59, 78.25s/it]"
     ]
    },
    {
     "name": "stdout",
     "output_type": "stream",
     "text": [
      "Result: True\n",
      "\n",
      "\n",
      "Test: 27\n",
      "Params: {'in_channels': 8, 'out_channels': 30, 'kernel_size': (5, 6), 'padding': 7, 'stride': 2, 'dilation': 1, 'in_batches': 4, 'in_h': 10, 'in_w': 9}\n"
     ]
    },
    {
     "name": "stderr",
     "output_type": "stream",
     "text": [
      "\r",
      " 56%|████████████████████████                   | 28/50 [10:21<20:41, 56.42s/it]"
     ]
    },
    {
     "name": "stdout",
     "output_type": "stream",
     "text": [
      "Result: True\n",
      "\n",
      "\n",
      "Test: 28\n",
      "Params: {'in_channels': 11, 'out_channels': 33, 'kernel_size': (20, 16), 'padding': 5, 'stride': 1, 'dilation': 2, 'in_batches': 3, 'in_h': 30, 'in_w': 23}\n"
     ]
    },
    {
     "name": "stderr",
     "output_type": "stream",
     "text": [
      "\r",
      " 58%|████████████████████████▉                  | 29/50 [10:37<15:31, 44.34s/it]"
     ]
    },
    {
     "name": "stdout",
     "output_type": "stream",
     "text": [
      "Result: True\n",
      "\n",
      "\n",
      "Test: 29\n",
      "Params: {'in_channels': 2, 'out_channels': 40, 'kernel_size': (1, 7), 'padding': 5, 'stride': 2, 'dilation': 3, 'in_batches': 2, 'in_h': 11, 'in_w': 32}\n"
     ]
    },
    {
     "name": "stderr",
     "output_type": "stream",
     "text": [
      " 62%|██████████████████████████▋                | 31/50 [10:38<06:57, 22.00s/it]"
     ]
    },
    {
     "name": "stdout",
     "output_type": "stream",
     "text": [
      "Result: True\n",
      "\n",
      "\n",
      "Test: 30\n",
      "Params: {'in_channels': 3, 'out_channels': 1, 'kernel_size': (4, 1), 'padding': 7, 'stride': 1, 'dilation': 1, 'in_batches': 3, 'in_h': 27, 'in_w': 32}\n",
      "Result: True\n",
      "\n",
      "\n",
      "Test: 31\n",
      "Params: {'in_channels': 2, 'out_channels': 21, 'kernel_size': (8, 3), 'padding': 10, 'stride': 5, 'dilation': 2, 'in_batches': 2, 'in_h': 30, 'in_w': 14}\n"
     ]
    },
    {
     "name": "stderr",
     "output_type": "stream",
     "text": [
      "\r",
      " 64%|███████████████████████████▌               | 32/50 [10:39<04:41, 15.61s/it]"
     ]
    },
    {
     "name": "stdout",
     "output_type": "stream",
     "text": [
      "Result: True\n",
      "\n",
      "\n",
      "Test: 32\n",
      "Params: {'in_channels': 2, 'out_channels': 10, 'kernel_size': (13, 13), 'padding': 1, 'stride': 1, 'dilation': 1, 'in_batches': 1, 'in_h': 32, 'in_w': 15}\n"
     ]
    },
    {
     "name": "stderr",
     "output_type": "stream",
     "text": [
      "\r",
      " 66%|████████████████████████████▍              | 33/50 [10:40<03:09, 11.17s/it]"
     ]
    },
    {
     "name": "stdout",
     "output_type": "stream",
     "text": [
      "Result: True\n",
      "\n",
      "\n",
      "Test: 33\n",
      "Params: {'in_channels': 5, 'out_channels': 35, 'kernel_size': (4, 9), 'padding': 7, 'stride': 2, 'dilation': 3, 'in_batches': 3, 'in_h': 19, 'in_w': 20}\n"
     ]
    },
    {
     "name": "stderr",
     "output_type": "stream",
     "text": [
      "\r",
      " 68%|█████████████████████████████▏             | 34/50 [10:57<03:29, 13.10s/it]"
     ]
    },
    {
     "name": "stdout",
     "output_type": "stream",
     "text": [
      "Result: True\n",
      "\n",
      "\n",
      "Test: 34\n",
      "Params: {'in_channels': 10, 'out_channels': 7, 'kernel_size': (3, 3), 'padding': 8, 'stride': 4, 'dilation': 7, 'in_batches': 5, 'in_h': 34, 'in_w': 31}\n"
     ]
    },
    {
     "name": "stderr",
     "output_type": "stream",
     "text": [
      "\r",
      " 70%|██████████████████████████████             | 35/50 [11:11<03:20, 13.36s/it]"
     ]
    },
    {
     "name": "stdout",
     "output_type": "stream",
     "text": [
      "Result: True\n",
      "\n",
      "\n",
      "Test: 35\n",
      "Params: {'in_channels': 12, 'out_channels': 20, 'kernel_size': (5, 7), 'padding': 10, 'stride': 1, 'dilation': 3, 'in_batches': 1, 'in_h': 33, 'in_w': 22}\n"
     ]
    },
    {
     "name": "stderr",
     "output_type": "stream",
     "text": [
      "\r",
      " 72%|██████████████████████████████▉            | 36/50 [13:11<10:32, 45.17s/it]"
     ]
    },
    {
     "name": "stdout",
     "output_type": "stream",
     "text": [
      "Result: True\n",
      "\n",
      "\n",
      "Test: 36\n",
      "Params: {'in_channels': 10, 'out_channels': 32, 'kernel_size': (4, 7), 'padding': 8, 'stride': 4, 'dilation': 2, 'in_batches': 2, 'in_h': 26, 'in_w': 31}\n"
     ]
    },
    {
     "name": "stderr",
     "output_type": "stream",
     "text": [
      "\r",
      " 74%|███████████████████████████████▊           | 37/50 [13:20<07:28, 34.47s/it]"
     ]
    },
    {
     "name": "stdout",
     "output_type": "stream",
     "text": [
      "Result: True\n",
      "\n",
      "\n",
      "Test: 37\n",
      "Params: {'in_channels': 10, 'out_channels': 10, 'kernel_size': (6, 15), 'padding': 10, 'stride': 2, 'dilation': 1, 'in_batches': 4, 'in_h': 16, 'in_w': 29}\n"
     ]
    },
    {
     "name": "stderr",
     "output_type": "stream",
     "text": [
      "\r",
      " 76%|████████████████████████████████▋          | 38/50 [13:42<06:06, 30.54s/it]"
     ]
    },
    {
     "name": "stdout",
     "output_type": "stream",
     "text": [
      "Result: True\n",
      "\n",
      "\n",
      "Test: 38\n",
      "Params: {'in_channels': 14, 'out_channels': 29, 'kernel_size': (6, 9), 'padding': 9, 'stride': 4, 'dilation': 5, 'in_batches': 2, 'in_h': 19, 'in_w': 34}\n"
     ]
    },
    {
     "name": "stderr",
     "output_type": "stream",
     "text": [
      "\r",
      " 78%|█████████████████████████████████▌         | 39/50 [13:57<04:46, 26.05s/it]"
     ]
    },
    {
     "name": "stdout",
     "output_type": "stream",
     "text": [
      "Result: True\n",
      "\n",
      "\n",
      "Test: 39\n",
      "Params: {'in_channels': 5, 'out_channels': 4, 'kernel_size': (1, 15), 'padding': 6, 'stride': 4, 'dilation': 1, 'in_batches': 5, 'in_h': 26, 'in_w': 6}\n",
      "Result: True\n",
      "\n",
      "\n",
      "Test: 40\n",
      "Params: {'in_channels': 5, 'out_channels': 4, 'kernel_size': (1, 3), 'padding': 9, 'stride': 3, 'dilation': 4, 'in_batches': 5, 'in_h': 14, 'in_w': 30}\n"
     ]
    },
    {
     "name": "stderr",
     "output_type": "stream",
     "text": [
      "\r",
      " 82%|███████████████████████████████████▎       | 41/50 [13:58<02:06, 14.10s/it]"
     ]
    },
    {
     "name": "stdout",
     "output_type": "stream",
     "text": [
      "Result: True\n",
      "\n",
      "\n",
      "Test: 41\n",
      "Params: {'in_channels': 1, 'out_channels': 33, 'kernel_size': (4, 4), 'padding': 6, 'stride': 2, 'dilation': 3, 'in_batches': 3, 'in_h': 28, 'in_w': 17}\n"
     ]
    },
    {
     "name": "stderr",
     "output_type": "stream",
     "text": [
      "\r",
      " 84%|████████████████████████████████████       | 42/50 [14:01<01:31, 11.44s/it]"
     ]
    },
    {
     "name": "stdout",
     "output_type": "stream",
     "text": [
      "Result: True\n",
      "\n",
      "\n",
      "Test: 42\n",
      "Params: {'in_channels': 7, 'out_channels': 36, 'kernel_size': (6, 10), 'padding': 2, 'stride': 2, 'dilation': 1, 'in_batches': 1, 'in_h': 9, 'in_w': 16}\n"
     ]
    },
    {
     "name": "stderr",
     "output_type": "stream",
     "text": [
      "\r",
      " 86%|████████████████████████████████████▉      | 43/50 [14:02<01:00,  8.66s/it]"
     ]
    },
    {
     "name": "stdout",
     "output_type": "stream",
     "text": [
      "Result: True\n",
      "\n",
      "\n",
      "Test: 43\n",
      "Params: {'in_channels': 19, 'out_channels': 6, 'kernel_size': (9, 4), 'padding': 7, 'stride': 2, 'dilation': 3, 'in_batches': 2, 'in_h': 30, 'in_w': 22}\n"
     ]
    },
    {
     "name": "stderr",
     "output_type": "stream",
     "text": [
      "\r",
      " 88%|█████████████████████████████████████▊     | 44/50 [14:18<01:04, 10.80s/it]"
     ]
    },
    {
     "name": "stdout",
     "output_type": "stream",
     "text": [
      "Result: True\n",
      "\n",
      "\n",
      "Test: 44\n",
      "Params: {'in_channels': 16, 'out_channels': 17, 'kernel_size': (16, 11), 'padding': 4, 'stride': 5, 'dilation': 1, 'in_batches': 2, 'in_h': 20, 'in_w': 25}\n"
     ]
    },
    {
     "name": "stderr",
     "output_type": "stream",
     "text": [
      "\r",
      " 90%|██████████████████████████████████████▋    | 45/50 [14:21<00:43,  8.60s/it]"
     ]
    },
    {
     "name": "stdout",
     "output_type": "stream",
     "text": [
      "Result: True\n",
      "\n",
      "\n",
      "Test: 45\n",
      "Params: {'in_channels': 12, 'out_channels': 31, 'kernel_size': (3, 4), 'padding': 8, 'stride': 4, 'dilation': 9, 'in_batches': 3, 'in_h': 20, 'in_w': 27}\n"
     ]
    },
    {
     "name": "stderr",
     "output_type": "stream",
     "text": [
      "\r",
      " 92%|███████████████████████████████████████▌   | 46/50 [14:45<00:52, 13.02s/it]"
     ]
    },
    {
     "name": "stdout",
     "output_type": "stream",
     "text": [
      "Result: True\n",
      "\n",
      "\n",
      "Test: 46\n",
      "Params: {'in_channels': 8, 'out_channels': 13, 'kernel_size': (17, 11), 'padding': 2, 'stride': 5, 'dilation': 1, 'in_batches': 5, 'in_h': 14, 'in_w': 33}\n"
     ]
    },
    {
     "name": "stderr",
     "output_type": "stream",
     "text": [
      "\r",
      " 94%|████████████████████████████████████████▍  | 47/50 [14:46<00:28,  9.60s/it]"
     ]
    },
    {
     "name": "stdout",
     "output_type": "stream",
     "text": [
      "Result: True\n",
      "\n",
      "\n",
      "Test: 47\n",
      "Params: {'in_channels': 5, 'out_channels': 14, 'kernel_size': (11, 13), 'padding': 5, 'stride': 5, 'dilation': 2, 'in_batches': 4, 'in_h': 25, 'in_w': 18}\n"
     ]
    },
    {
     "name": "stderr",
     "output_type": "stream",
     "text": [
      "\r",
      " 96%|█████████████████████████████████████████▎ | 48/50 [14:47<00:14,  7.05s/it]"
     ]
    },
    {
     "name": "stdout",
     "output_type": "stream",
     "text": [
      "Result: True\n",
      "\n",
      "\n",
      "Test: 48\n",
      "Params: {'in_channels': 11, 'out_channels': 3, 'kernel_size': (14, 18), 'padding': 6, 'stride': 5, 'dilation': 1, 'in_batches': 4, 'in_h': 5, 'in_w': 9}\n",
      "Result: True\n",
      "\n",
      "\n",
      "Test: 49\n",
      "Params: {'in_channels': 10, 'out_channels': 10, 'kernel_size': (6, 3), 'padding': 9, 'stride': 3, 'dilation': 1, 'in_batches': 2, 'in_h': 16, 'in_w': 10}\n"
     ]
    },
    {
     "name": "stderr",
     "output_type": "stream",
     "text": [
      "100%|███████████████████████████████████████████| 50/50 [14:48<00:00, 17.77s/it]"
     ]
    },
    {
     "name": "stdout",
     "output_type": "stream",
     "text": [
      "Result: True\n",
      "\n",
      "\n",
      "50 out of 50 (100.0%) tests passed\n"
     ]
    },
    {
     "name": "stderr",
     "output_type": "stream",
     "text": [
      "\n"
     ]
    }
   ],
   "source": [
    "# for loop sweeping different input parameters and testing the outputs of Conv2DPytTest and PyTorch\n",
    "from tqdm import tqdm\n",
    "\n",
    "num_tests = 50\n",
    "num_passed = 0\n",
    "params_list = valid_params(num_tests)\n",
    "print('Number of tests: {}\\n\\n'.format(len(params_list)))\n",
    "\n",
    "for i, params in enumerate(tqdm(params_list)):\n",
    "    print('Test: {}\\nParams: {}'.format(i, params))\n",
    "    debug = False # DO NOT CHANGE THIS while using Conv2DPytTest - TODO: modify this flag to `test`\n",
    "\n",
    "    in_channels = params['in_channels'] # input channels\n",
    "    out_channels = params['out_channels'] # output channels\n",
    "    \n",
    "    kernel_size = params['kernel_size'] # kernel size\n",
    "\n",
    "    padding = params['padding'] # padding (optional)\n",
    "    stride = params['stride'] # stride (optional)\n",
    "    dilation = params['dilation'] # dilation factor (optional)\n",
    "\n",
    "    in_batches = params['in_batches'] # input batches\n",
    "    in_h = params['in_h'] # input height\n",
    "    in_w = params['in_w'] # input weight\n",
    "    \n",
    "    _input = np.random.rand(in_batches, in_channels, in_h, in_w) # define a random image based on the input parameters\n",
    "    kernels = []\n",
    "    for k in range(out_channels):\n",
    "        kernel = np.random.rand(in_channels, kernel_size[0], kernel_size[1]) # define a random kernel based on the kernel parameters\n",
    "        kernels.append(kernel)\n",
    "    \n",
    "    try:\n",
    "        # get Conv2DPytTest output with the random inputs\n",
    "\n",
    "        conv2dpyttest = Conv2DPytTest(in_channels, out_channels, kernel_size, stride = stride, padding = padding, dilation = dilation, debug = debug, verbose = False) # call an instance of the class with the input parameters \n",
    "        _output = conv2dpyttest.forward(_input, kernels) # perform convolution\n",
    "\n",
    "        # get PyTorch output with the same random inputs as above\n",
    "\n",
    "        x = torch.DoubleTensor(_input)\n",
    "        weights = torch.stack([torch.DoubleTensor(kernel) for kernel in kernels])\n",
    "        output = torch.nn.functional.conv2d(x, weights, stride = stride, padding = padding, dilation = dilation)\n",
    "        \n",
    "    except Exception as e:\n",
    "        print(e)\n",
    "        pass\n",
    "    \n",
    "    # compare outputs of conv-Numpy and PyTorch\n",
    "    result = torch.equal(torch.round(torch.DoubleTensor(_output)), torch.round(output)) # need to round the output due to precision difference\n",
    "    print('Result: {}\\n\\n'.format(result))\n",
    "    if result:\n",
    "        num_passed += 1\n",
    "\n",
    "print('{} out of {} ({}%) tests passed'.format(num_passed, num_tests, float(100 * num_passed / num_tests)))\n",
    "    "
   ]
  },
  {
   "cell_type": "markdown",
   "id": "8fe45ea6",
   "metadata": {},
   "source": [
    "### Modular code for `forward()`"
   ]
  },
  {
   "cell_type": "raw",
   "id": "51abe93d",
   "metadata": {},
   "source": [
    "''' Modular code - can be replaced with bloated def forward()'''\n",
    "'''\n",
    "    def convolve(self, h, w, ker_num, batch_num, _input, kernels):\n",
    "        # convolve kernel over the input slices\n",
    "        self.debugprint('kernel indices, image indices')\n",
    "        self.debugprint('[c, h, w]', '[n, c, h, w]')\n",
    "        convol_sum = 0\n",
    "        ker_c = self.in_channels\n",
    "        ker_h = self.kernel_size[0]\n",
    "        ker_w = self.kernel_size[1]\n",
    "        for c_ker in range(ker_c):\n",
    "            for h_ker in range(ker_h):\n",
    "                for w_ker in range(ker_w):\n",
    "                    self.debugprint([c_ker, h_ker, w_ker], [batch_num, c_ker, h_ker + self.stride*h, w_ker + self.stride*w])\n",
    "                    convol_sum += kernels[ker_num][c_ker][h_ker][w_ker] * _input[batch_num][c_ker][h_ker + self.stride*h][w_ker + self.stride*w]\n",
    "        self.debugprint('\\n')\n",
    "        return convol_sum\n",
    "    '''\n",
    "    '''\n",
    "    def forward(self, _input):\n",
    "        # create output from the input and kernel parameters \n",
    "        _input = self.add_padding(_input)\n",
    "        if self.debug:\n",
    "            for b in range(_input.shape[0]):\n",
    "                _input[b] = (b+1) * np.ones_like(_input[b]) # define an image of all ones (twos etc.) based on the input parameters\n",
    "        kernels = self.create_kernels()\n",
    "        out_n, out_c, out_h, out_w = self.compute_out_vol(_input)\n",
    "        output = np.zeros([out_n, out_c, out_h, out_w])\n",
    "        # parse through every element of the output and compute the convolution value for that element\n",
    "        for b in range(out_n):\n",
    "            for k in range(out_c):\n",
    "                for h in range(out_h):\n",
    "                    for w in range(out_w):\n",
    "                        output[b, k, h, w] += self.convolve(h, w, k, b, _input, kernels)\n",
    "        self.verboseprint('*** output ***')\n",
    "        output_shape = output.shape\n",
    "        self.verboseprint('output batches: {}, ouput channels: {}, output height: {}, output weight: {}'.format(output_shape[0], output_shape[1], output_shape[2], output_shape[3]))\n",
    "        assert((out_n, out_c, out_h, out_w) == output_shape)\n",
    "        self.verboseprint(output)\n",
    "        self.verboseprint('\\n')\n",
    "        return output\n",
    "    '''\n",
    "    "
   ]
  },
  {
   "cell_type": "markdown",
   "id": "c8eb97cc",
   "metadata": {},
   "source": [
    "### Old `Conv2D` code  for reference"
   ]
  },
  {
   "cell_type": "raw",
   "id": "eb6b032e",
   "metadata": {},
   "source": [
    "'''\n",
    "class Conv2D:\n",
    "    \"\"\"Computes convolution given the input parameters\"\"\"\n",
    "    def __init__(self, params, verbose=True, debug=False):\n",
    "        super(Conv2D, self).__init__()\n",
    "        default_params = {\n",
    "        'stride': 1,\n",
    "        'dilation': 1,\n",
    "        'padding': 0\n",
    "        }\n",
    "        for key, value in default_params.items():\n",
    "            setattr(self, key, params.get(key, value))\n",
    "        self.inp_n = params['inp_n']\n",
    "        self.inp_c = params['inp_c']\n",
    "        self.inp_h = params['inp_h']\n",
    "        self.inp_w = params['inp_w']\n",
    "        self.ker_c = params['ker_c']\n",
    "        self.ker_h = params['ker_h']\n",
    "        self.ker_w = params['ker_w']\n",
    "        self.num_ker = params['num_ker']\n",
    "        self.input_img = None\n",
    "        self.kernels = None\n",
    "        self.out_n = None\n",
    "        self.out_c = None\n",
    "        self.out_h = None\n",
    "        self.out_w = None\n",
    "        self.output = None\n",
    "        self.verbose = verbose\n",
    "        self.verboseprint = print if self.verbose else lambda *a, **k: None\n",
    "        self.debug = debug\n",
    "        self.debugprint = print if self.debug else lambda *a, **k: None\n",
    "        self.print_params()\n",
    "\n",
    "    def print_params(self):\n",
    "        self.verboseprint('*** parameters ***')\n",
    "        self.verboseprint('input batches: {}, input channels: {}, input height: {}, input weight: {}'.format(self.inp_n, self.inp_c, self.inp_h, self.inp_w))\n",
    "        self.verboseprint('kernels: {}, kernel channels: {}, kernel height: {}, kernel weight: {}'.format(self.num_ker, self.ker_c, self.ker_h, self.ker_w))\n",
    "        self.verboseprint('stride: {}, dilation factor: {}, padding: {}'.format(self.stride, self.dilation, self.padding))\n",
    "        self.verboseprint('\\n')\n",
    "\n",
    "    def create_input_img(self):\n",
    "        # create image from the input parameters\n",
    "        input_img = np.random.rand(self.inp_n, self.inp_c, self.inp_h, self.inp_w) # define a random image based on the input parameters\n",
    "        if self.debug:\n",
    "            for b in range(self.inp_n):\n",
    "                input_img[b] = (b+1) * np.ones_like(input_img[b]) # define an image of all ones (twos etc.) based on the input parameters\n",
    "        self.verboseprint('*** input image ***')\n",
    "        self.verboseprint('input batches: {}, input channels: {}, input height: {}, input weight: {}'.format(self.inp_n, self.inp_c, self.inp_h, self.inp_w))\n",
    "        self.verboseprint(input_img)\n",
    "        self.verboseprint('\\n')\n",
    "        self.input_img = input_img\n",
    "        self.add_padding()\n",
    "\n",
    "    def add_padding(self):\n",
    "        # add zero padding based on the input parameters\n",
    "        if self.padding != 0:\n",
    "            self.input_img = [[np.pad(channel,self.padding, 'constant', constant_values=0) for channel in batch] for batch in self.input_img]    \n",
    "            self.inp_h += 2 * self.padding\n",
    "            self.inp_w += 2 * self.padding\n",
    "            self.verboseprint('*** padded input image ***')\n",
    "            self.verboseprint('input batches: {}, input channels: {}, input height: {}, input weight: {}'.format(self.inp_n, self.inp_c, self.inp_h, self.inp_w))\n",
    "            self.verboseprint(self.input_img)\n",
    "            self.verboseprint('\\n')\n",
    "\n",
    "    def create_kernels(self):\n",
    "        # create random kernels based on the input kernel parameters\n",
    "        kernels = []\n",
    "        self.verboseprint('*** kernels ***')\n",
    "        self.verboseprint('kernels: {}, kernel channels: {}, kernel height: {}, kernel weight: {}'.format(self.num_ker, self.ker_c, self.ker_h, self.ker_w))\n",
    "        for k in range(self.num_ker):\n",
    "            kernel = np.random.rand(self.ker_c, self.ker_h, self.ker_w) # define a random kernel based on the kernel parameters\n",
    "            if self.debug:\n",
    "                kernel = k * np.ones_like(kernel)\n",
    "            kernels.append(kernel)\n",
    "            self.verboseprint('kernel {}'.format(k))\n",
    "            self.verboseprint(kernel)\n",
    "        self.verboseprint('\\n')\n",
    "        self.kernels = kernels\n",
    "        self.dilate_kernels()\n",
    "\n",
    "    def dilate_kernels(self):\n",
    "        # dilate a kernel\n",
    "        dil_ker_h = self.dilation * (self.ker_h - 1) + 1\n",
    "        dil_ker_w = self.dilation * (self.ker_w - 1) + 1\n",
    "        dil_kernels = []\n",
    "        for kernel in self.kernels:\n",
    "            dil_kernel = []\n",
    "            for channel in kernel:\n",
    "                dil_channel = np.zeros((dil_ker_h, dil_ker_w))\n",
    "                for row in range(len(channel)):\n",
    "                    for col in range(len(channel[0])):\n",
    "                        dil_channel[self.dilation*row][self.dilation*col] = channel[row][col]\n",
    "                dil_kernel.append(dil_channel.tolist())\n",
    "            dil_kernels.append(dil_kernel)\n",
    "        self.kernels, self.ker_h, self.ker_w = dil_kernels, dil_ker_h, dil_ker_w\n",
    "        self.verboseprint('*** dilated kernels ***')\n",
    "        self.verboseprint('kernels: {}, dilation factor: {}, kernel channels: {}, kernel height: {}, kernel weight: {}'.format(self.num_ker, self.dilation, self.ker_c, self.ker_h, self.ker_w))\n",
    "        for k in range(self.num_ker):\n",
    "            self.verboseprint('kernel {}'.format(k))\n",
    "            self.verboseprint(self.kernels[k])\n",
    "        self.verboseprint('\\n')\n",
    "\n",
    "    def compute_out_vol(self):\n",
    "        # compute output volume from the input and kernel parameters\n",
    "        out_n = int(self.inp_n)\n",
    "        out_c = int(self.num_ker)\n",
    "        out_h = int((self.inp_h - self.ker_h)/self.stride) + 1\n",
    "        out_w = int((self.inp_w - self.ker_w)/self.stride) + 1\n",
    "        self.out_n, self.out_c, self.out_h, self.out_w = out_n, out_c, out_h, out_w\n",
    "\n",
    "    def convolve(self, h, w, ker_num, batch_num):\n",
    "        # convolve kernel over the input slices\n",
    "        self.debugprint('kernel indices, image indices')\n",
    "        self.debugprint('[c, h, w]', '[n, c, h, w]')\n",
    "        convol_sum = 0\n",
    "        for c_ker in range(self.ker_c):\n",
    "            for h_ker in range(self.ker_h):\n",
    "                for w_ker in range(self.ker_w):\n",
    "                    self.debugprint([c_ker, h_ker, w_ker], [batch_num, c_ker, h_ker + self.stride*h, w_ker + self.stride*w])\n",
    "                    convol_sum += self.kernels[ker_num][c_ker][h_ker][w_ker] * self.input_img[batch_num][c_ker][h_ker + self.stride*h][w_ker + self.stride*w]\n",
    "        self.debugprint('\\n')\n",
    "        return convol_sum\n",
    "\n",
    "    def create_output(self):\n",
    "        # create output from the input and kernel parameters \n",
    "        self.compute_out_vol()\n",
    "        self.output = np.zeros([self.out_n, self.out_c, self.out_h, self.out_w])\n",
    "        # parse through every element of the output and compute the convolution value for that element\n",
    "        for b in range(self.out_n):\n",
    "            for k in range(self.num_ker):\n",
    "                for h in range(self.out_h):\n",
    "                    for w in range(self.out_w):\n",
    "                        self.output[b, k, h, w] += self.convolve(h, w, k, b)\n",
    "        self.verboseprint('*** output ***')\n",
    "        output_shape = self.output.shape\n",
    "        self.verboseprint('output batches: {}, ouput channels: {}, output height: {}, output weight: {}'.format(output_shape[0], output_shape[1], output_shape[2], output_shape[3]))\n",
    "        assert((self.out_n, self.out_c, self.out_h, self.out_w) == output_shape)\n",
    "        self.verboseprint(self.output)\n",
    "        self.verboseprint('\\n')\n",
    "\n",
    "    def forward(self, _input):\n",
    "        # create output from the input and kernel parameters \n",
    "        self.compute_out_vol(_input)\n",
    "        self.output = np.zeros([self.out_n, self.out_c, self.out_h, self.out_w])\n",
    "        # parse through every element of the output and compute the convolution value for that element\n",
    "        for b in range(self.out_n):\n",
    "            for k in range(self.num_ker):\n",
    "                for h in range(self.out_h):\n",
    "                    for w in range(self.out_w):\n",
    "                        self.output[b, k, h, w] += self.convolve(h, w, k, b)\n",
    "        self.verboseprint('*** output ***')\n",
    "        output_shape = self.output.shape\n",
    "        self.verboseprint('output batches: {}, ouput channels: {}, output height: {}, output weight: {}'.format(output_shape[0], output_shape[1], output_shape[2], output_shape[3]))\n",
    "        assert((self.out_n, self.out_c, self.out_h, self.out_w) == output_shape)\n",
    "        self.verboseprint(self.output)\n",
    "        self.verboseprint('\\n')\n",
    "'''"
   ]
  },
  {
   "cell_type": "raw",
   "id": "f4ff949d",
   "metadata": {},
   "source": [
    "'''\n",
    "inp_n = 2 # number of input batches\n",
    "inp_c, inp_h, inp_w = 2, 4, 4 # input channels, input height, input weight\n",
    "ker_c, ker_h, ker_w = 2, 2, 2 # kernel channels, kernel height, kernel weight\n",
    "num_ker = 3 # number of kernels\n",
    "stride = 2 # stride (optional)\n",
    "dilation = 1 # dilation factor (optional)\n",
    "padding = 0 # padding (optional)\n",
    "params = {'inp_n':inp_n, 'inp_c':inp_c, 'inp_h':inp_h, 'inp_w':inp_w, 'ker_c':ker_c, 'ker_h':ker_h, \n",
    "              'ker_w':ker_w, 'num_ker':num_ker, 'stride':stride, 'dilation':dilation, 'padding':padding}\n",
    "\n",
    "conv2D = Conv2D(params, debug=True)\n",
    "conv2D.create_input_img()\n",
    "conv2D.create_kernels()\n",
    "conv2D.create_output()\n",
    "'''"
   ]
  }
 ],
 "metadata": {
  "kernelspec": {
   "display_name": "Python 3 (ipykernel)",
   "language": "python",
   "name": "python3"
  },
  "language_info": {
   "codemirror_mode": {
    "name": "ipython",
    "version": 3
   },
   "file_extension": ".py",
   "mimetype": "text/x-python",
   "name": "python",
   "nbconvert_exporter": "python",
   "pygments_lexer": "ipython3",
   "version": "3.7.1"
  }
 },
 "nbformat": 4,
 "nbformat_minor": 5
}
