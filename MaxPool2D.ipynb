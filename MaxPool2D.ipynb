{
 "cells": [
  {
   "cell_type": "markdown",
   "id": "b20a6f8d",
   "metadata": {},
   "source": [
    "### `MaxPool2D` code"
   ]
  },
  {
   "cell_type": "code",
   "execution_count": 1,
   "id": "19182ede",
   "metadata": {},
   "outputs": [],
   "source": [
    "import numpy as np\n",
    "import torch # needed for tests\n",
    "from tqdm import tqdm # needed for tests"
   ]
  },
  {
   "cell_type": "code",
   "execution_count": 61,
   "id": "7ed1691b",
   "metadata": {},
   "outputs": [],
   "source": [
    "class MaxPool2D:\n",
    "    ''' Computes maxpool given the input parameters '''\n",
    "    \n",
    "    ''' * The class implementation will be along the lines of torch.nn.MaxPool2d in order to \n",
    "          enable comparison of this NumPy only implementation and seamless testing\n",
    "    '''\n",
    "    '''\n",
    "        TODO:\n",
    "        * Replace `torch.round()` with `np.allclose()` for tests\n",
    "        * Optimizing code\n",
    "    '''\n",
    "    \n",
    "    def __init__(\n",
    "        self, \n",
    "        kernel_size, \n",
    "        padding = (0, 0), \n",
    "        stride = (1, 1), \n",
    "        dilation = (1, 1), \n",
    "        return_indices = False,\n",
    "        verbose = False\n",
    "        ):\n",
    "        super(MaxPool2D, self).__init__()\n",
    "        \n",
    "        ''' mandatory parameters '''\n",
    "        if isinstance(kernel_size, tuple):\n",
    "            self.kernel_size = kernel_size\n",
    "        elif isinstance(kernel_size, int):\n",
    "            self.kernel_size = (kernel_size, kernel_size)\n",
    "        else:\n",
    "            raise Exception('invalid input parameters: kernel_size should either be an int or a tuple')\n",
    "        \n",
    "        ''' optional parameters '''\n",
    "        if isinstance(padding, str):\n",
    "            if padding == 'valid':\n",
    "                self.padding = (0, 0)\n",
    "            elif padding == 'same':\n",
    "                raise Exception(\"invalid input parameters: padding = 'same' not yet supported\")\n",
    "            else:\n",
    "                raise Exception('invalid input parameters: padding is not valid')\n",
    "        elif isinstance(padding, tuple):\n",
    "            if padding[0] >= 0 and padding[1] >= 0:\n",
    "                self.padding = padding\n",
    "            else:\n",
    "                raise Exception('invalid input parameters: padding is not valid')\n",
    "        elif isinstance(padding, int):\n",
    "            if padding >= 0:\n",
    "                self.padding = (padding, padding)\n",
    "            else:\n",
    "                raise Exception('invalid input parameters: padding is not valid')\n",
    "        else:\n",
    "            raise Exception('invalid input parametersL padding should be either an int or a tuple')\n",
    "        if isinstance(stride, tuple):\n",
    "            if stride[0] >= 1 and stride[1] >= 1:\n",
    "                self.stride = stride\n",
    "            else:\n",
    "                raise Exception('invalid input parameters: stride is not valid')\n",
    "        elif isinstance(stride, int):\n",
    "            if stride >= 1:\n",
    "                self.stride = (stride, stride)\n",
    "            else:\n",
    "                raise Exception('invalid input parameters: stride is not valid')\n",
    "        else:\n",
    "            raise Exception('invalid input parameters: stride should be either an int or a tuple')\n",
    "        if isinstance(dilation, tuple):\n",
    "            if dilation[0] >= 1 and dilation[1] >= 1:\n",
    "                self.dilation = dilation\n",
    "            else:\n",
    "                raise Exception('invalid input parameters: dilation is not valid')\n",
    "        elif isinstance(dilation, int):\n",
    "            if dilation >= 1:\n",
    "                self.dilation = (dilation, dilation)\n",
    "            else:\n",
    "                raise Exception('invalid input parameters: dilation is not valid')\n",
    "        else:\n",
    "            raise Exception('invalid input parameters: dilation should be either an int or a tuple')\n",
    "        self.return_indices = return_indices\n",
    "        \n",
    "        ''' optional parameters (dummy, yet to be implemented)'''\n",
    "        \n",
    "        \n",
    "        ''' additional parameters (different from torch.nn.Conv2D)'''\n",
    "        self.verbose = verbose\n",
    "        self.verboseprint = print if self.verbose else lambda *a, **k: None\n",
    "        self.verboseprint('*** parameters ***')\n",
    "        self.verboseprint('kernel_size: {}'.format(self.kernel_size))\n",
    "        self.verboseprint('padding: {}, stride: {}, dilation factor: {}'.format(self.padding, self.stride, self.dilation))\n",
    "        self.verboseprint('\\n')\n",
    "    \n",
    "    def forward(self, _input):\n",
    "        ''' forward pass to perform convolution '''\n",
    "        \n",
    "        ''' do error checking '''\n",
    "        _input_n, _input_c, _input_h, _input_w = _input.shape\n",
    "        if _input_h + 2 * self.padding[0] < self.dilation[0] * (self.kernel_size[0] - 1) + 1: # check if (dilated) ker_h is valid\n",
    "            raise Exception('invalid input parameters: kernel height is larger than input height')\n",
    "        if _input_w + 2 * self.padding[1] < self.dilation[1] * (self.kernel_size[1] - 1) + 1: # check if (dilated) ker_w is valid\n",
    "            raise Exception('invalid input parameters: kernel width is larger than input width')\n",
    "        if ((_input_h + 2 * self.padding[0] - (self.dilation[0] * (self.kernel_size[0] - 1) + 1)) / self.stride[0]) + 1 < 0: # check if out_h is valid\n",
    "            raise Exception('invalid input parameters: output height is negative')\n",
    "        if ((_input_w + 2 * self.padding[1] - (self.dilation[1] * (self.kernel_size[1] - 1) + 1)) / self.stride[1]) + 1 < 0: # check if out_w is valid\n",
    "            raise Exception('invalid input parameters: output width is negative')\n",
    "        if self.padding[0] > self.kernel_size[0] // 2: # as PyTorch mandates this\n",
    "            raise Exception('invalid input parameters: padding height is larger than half of kernel height')\n",
    "        if self.padding[1] > self.kernel_size[1] // 2: # as PyTorch mandates this\n",
    "            raise Exception('invalid input parameters: padding width is larger than half of kernel width')\n",
    "        \n",
    "        ''' add zero padding based on the input parameters '''\n",
    "        if self.padding != (0, 0):\n",
    "            _input = np.array([[np.pad(channel, ((self.padding[0], self.padding[0]), (self.padding[1], self.padding[1])), 'constant', constant_values = -np.inf) for channel in batch] for batch in _input])    \n",
    "            self.verboseprint('*** padded input image ***')\n",
    "            self.verboseprint('input batches: {}, input channels: {}, input height: {}, input weight: {}'.format(_input.shape[0], _input.shape[1], _input.shape[2], _input.shape[3]))\n",
    "            self.verboseprint(_input)\n",
    "            self.verboseprint('\\n')\n",
    "        \n",
    "        ''' use the provided kernels or create random kernels based on the input kernel parameters '''\n",
    "        kernels = []\n",
    "        self.verboseprint('*** kernels ***')\n",
    "        self.verboseprint('kernels: {}, kernel channels: {}, kernel height: {}, kernel weight: {}'.format(_input_c, 1, self.kernel_size[0], self.kernel_size[1]))\n",
    "        for k in range(_input_c):\n",
    "            kernel = np.ones((self.kernel_size[0], self.kernel_size[1])) # define a kernel of 1s based on the kernel parameters\n",
    "            kernels.append(kernel)\n",
    "            self.verboseprint('kernel {}'.format(k))\n",
    "            self.verboseprint(kernel)\n",
    "        self.verboseprint('\\n')\n",
    "            \n",
    "        ''' dilate a kernel '''\n",
    "        dil_ker_h = self.dilation[0] * (self.kernel_size[0] - 1) + 1\n",
    "        dil_ker_w = self.dilation[1] * (self.kernel_size[1] - 1) + 1\n",
    "        dil_kernels = []\n",
    "        for kernel in kernels:\n",
    "            dil_kernel = -np.inf * np.ones((dil_ker_h, dil_ker_w)) # instantiate a dilated kernel of all -np.inf (holes)\n",
    "            for row in range(len(kernel)):\n",
    "                for col in range(len(kernel[0])):\n",
    "                    dil_kernel[self.dilation[0] * row][self.dilation[1] * col] = kernel[row][col]\n",
    "            dil_kernels.append(dil_kernel.tolist())\n",
    "        kernels, self.kernel_size = dil_kernels, (dil_ker_h, dil_ker_w)\n",
    "        self.verboseprint('*** dilated kernels ***')\n",
    "        self.verboseprint('dilation factor: {}, kernel channels: {}, kernel height: {}, kernel weight: {}'.format(self.dilation, _input_c, self.kernel_size[0], self.kernel_size[1]))\n",
    "        for k in range(_input_c):\n",
    "            self.verboseprint('kernel {}'.format(k))\n",
    "            self.verboseprint(kernels[k])\n",
    "        self.verboseprint('\\n')\n",
    "        \n",
    "        ''' compute output volume from the input and kernel parameters '''\n",
    "        _input_n, _input_c, _input_h, _input_w = _input.shape\n",
    "        out_n = int(_input_n)\n",
    "        out_c = int(_input_c)\n",
    "        out_h = int((_input_h - self.kernel_size[0]) / self.stride[0]) + 1\n",
    "        out_w = int((_input_w - self.kernel_size[1]) / self.stride[1]) + 1\n",
    "        output = np.zeros([out_n, out_c, out_h, out_w])\n",
    "        max_indices = np.zeros([out_n, out_c, out_h, out_w], dtype = int)\n",
    "        \n",
    "        ''' parse through every element of the output and compute the convolution value for that element '''\n",
    "        for b_out in range(out_n):\n",
    "            for c_out in range(out_c):\n",
    "                for h_out in range(out_h):\n",
    "                    for w_out in range(out_w):\n",
    "                        # convolve kernel over the input slices\n",
    "                        self.verboseprint('kernel indices, image indices')\n",
    "                        self.verboseprint('[n, c, h, w]', '[n, c, h, w]')\n",
    "                        convol_sum = -np.inf\n",
    "                        max_index = 0\n",
    "                        ker_h = self.kernel_size[0]\n",
    "                        ker_w = self.kernel_size[1]\n",
    "                        for h_ker in range(ker_h):\n",
    "                            for w_ker in range(ker_w):\n",
    "                                self.verboseprint([c_out, h_ker, w_ker], [b_out, c_out, h_ker + self.stride[0] * h_out, w_ker + self.stride[1] * w_out])\n",
    "                                if kernels[c_out][h_ker][w_ker] != -np.inf:\n",
    "                                    val = kernels[c_out][h_ker][w_ker] * _input[b_out][c_out][h_ker + self.stride[0] * h_out][w_ker + self.stride[1] * w_out]\n",
    "                                    if val > convol_sum:\n",
    "                                        convol_sum = val\n",
    "                                        max_index = (h_ker + self.stride[0] * h_out) * _input_h + (w_ker + self.stride[1] * w_out)\n",
    "                        self.verboseprint('\\n')\n",
    "                        output[b_out, c_out, h_out, w_out] += convol_sum\n",
    "                        max_indices[b_out, c_out, h_out, w_out] += max_index\n",
    "        self.verboseprint('*** MaxPool2D output ***')\n",
    "        output_shape = output.shape\n",
    "        self.verboseprint('output batches: {}, ouput channels: {}, output height: {}, output weight: {}'.format(output_shape[0], output_shape[1], output_shape[2], output_shape[3]))\n",
    "        assert((out_n, out_c, out_h, out_w) == output_shape)\n",
    "        self.verboseprint(output)\n",
    "        self.verboseprint('\\n')\n",
    "        if self.return_indices:\n",
    "            return (output, max_indices)\n",
    "        return output"
   ]
  },
  {
   "cell_type": "markdown",
   "id": "7450ac24",
   "metadata": {},
   "source": [
    "### Standalone test (random input), where PyTorch output is (supposedly) incorrect"
   ]
  },
  {
   "cell_type": "code",
   "execution_count": 62,
   "id": "a0377df6",
   "metadata": {},
   "outputs": [],
   "source": [
    "in_channels = 1 # input channels\n",
    "kernel_size = (2, 2) # kernel size\n",
    "\n",
    "padding = (1, 1) # padding (optional)\n",
    "stride = (1, 1) # stride (optional)\n",
    "dilation = (2, 2) # dilation factor (optional)\n",
    "\n",
    "in_batches = 1 # input batches\n",
    "in_h = 1 # input height\n",
    "in_w = 2 # input weight\n",
    "\n",
    "_input = np.random.rand(in_batches, in_channels, in_h, in_w) # define a random image based on the input parameters"
   ]
  },
  {
   "cell_type": "code",
   "execution_count": 63,
   "id": "29c79bef",
   "metadata": {},
   "outputs": [
    {
     "name": "stdout",
     "output_type": "stream",
     "text": [
      "*** MaxPool2D output ***\n",
      "[[[[-inf -inf]]]]\n"
     ]
    }
   ],
   "source": [
    "# get MaxPool2D output with the random inputs\n",
    "\n",
    "maxpool2d = MaxPool2D(kernel_size, stride = stride, padding = padding, dilation = dilation) # call an instance of the class with the input parameters \n",
    "_output = maxpool2d.forward(_input) # perform maxpooling\n",
    "print(\"*** MaxPool2D output ***\")\n",
    "print(_output)"
   ]
  },
  {
   "cell_type": "code",
   "execution_count": 64,
   "id": "df346af0",
   "metadata": {
    "scrolled": true
   },
   "outputs": [
    {
     "name": "stdout",
     "output_type": "stream",
     "text": [
      "*** PyTorch output ***\n",
      "tensor([[[[-inf, -inf]]]], dtype=torch.float64)\n"
     ]
    }
   ],
   "source": [
    "# get PyTorch output with the same random inputs as above\n",
    "\n",
    "x = torch.DoubleTensor(_input)\n",
    "m = torch.nn.MaxPool2d(kernel_size, stride = stride, padding = padding, dilation = dilation)\n",
    "output = m(x)\n",
    "print(\"*** PyTorch output ***\")\n",
    "print(output)"
   ]
  },
  {
   "cell_type": "code",
   "execution_count": 65,
   "id": "d8e5a3f5",
   "metadata": {
    "scrolled": true
   },
   "outputs": [
    {
     "name": "stdout",
     "output_type": "stream",
     "text": [
      "True\n"
     ]
    }
   ],
   "source": [
    "# compare outputs of MaxPool2D and PyTorch\n",
    "if isinstance(_output, tuple):\n",
    "    print(torch.equal(torch.round(torch.DoubleTensor(_output[0])), torch.round(output[0])) \n",
    "          and torch.equal(torch.round(torch.DoubleTensor(_output[1])), torch.round(output[1]))) # check if both the output and max indices are correct\n",
    "else:\n",
    "    print(torch.equal(torch.round(torch.DoubleTensor(_output)), torch.round(output))) # need to round the output due to precision difference"
   ]
  },
  {
   "cell_type": "markdown",
   "id": "c87813f3",
   "metadata": {},
   "source": [
    "### Extensive tests (random kernel, random input)"
   ]
  },
  {
   "cell_type": "code",
   "execution_count": 66,
   "id": "8b986f3c",
   "metadata": {},
   "outputs": [],
   "source": [
    "def valid_params(num_tests):\n",
    "    ''' generates `num_tests` number of valid input and kernel parameters '''\n",
    "    np.random.seed(1729)\n",
    "    params_list = []\n",
    "    sample_count = 0\n",
    "    while sample_count < num_tests:\n",
    "        in_channels = np.random.randint(20) + 1 # input channels\n",
    "        \n",
    "        kernel_h = np.random.randint(20) + 1\n",
    "        kernel_w = np.random.randint(20) + 1\n",
    "        kernel_size = (kernel_h, kernel_w) # kernel size\n",
    "        \n",
    "        padding_h = np.random.randint(10) + 1\n",
    "        padding_w = np.random.randint(10) + 1\n",
    "        padding = (padding_h, padding_w) # padding (optional)\n",
    "        stride_h = np.random.randint(5) + 1\n",
    "        stride_w = np.random.randint(5) + 1\n",
    "        stride = (stride_h, stride_w) # stride (optional)\n",
    "        dilation_h = np.random.randint(10) + 1\n",
    "        dilation_w = np.random.randint(10) + 1\n",
    "        dilation = (dilation_h, dilation_w) # dilation factor (optional)\n",
    "        \n",
    "        in_batches = np.random.randint(5) + 1 # input batches\n",
    "        in_h = np.random.randint(30) + 5 # input height\n",
    "        in_w = np.random.randint(30) + 5 # input weight\n",
    "        \n",
    "        return_indices = np.random.choice([True, False])\n",
    "        \n",
    "        ker_h_flag, ker_w_flag, out_h_flag, out_w_flag, pad_h_flag, pad_w_flag = True, True, True, True, True, True\n",
    "        \n",
    "        if in_h + 2 * padding_h < dilation_h * (kernel_h - 1) + 1: # check if (dilated) ker_h is valid\n",
    "            ker_h_flag = False\n",
    "        if in_w + 2 * padding_w < dilation_w * (kernel_w - 1) + 1: # check if (dilated) ker_w is valid\n",
    "            ker_w_flag = False\n",
    "        if ((in_h + 2 * padding_h - (dilation_h * (kernel_h - 1) + 1)) / stride_h) + 1 < 0: # check if out_h is valid\n",
    "            out_h_flag = False\n",
    "        if ((in_w + 2 * padding_w - (dilation_w * (kernel_w - 1) + 1)) / stride_w) + 1 < 0: # check if out_w is valid\n",
    "            out_w_flag = False\n",
    "        if padding_h > kernel_h // 2: # as PyTorch mandates this\n",
    "            pad_h_flag = False\n",
    "        if padding_w > kernel_w // 2: # as PyTorch mandates this\n",
    "            pad_w_flag = False\n",
    "    \n",
    "        if ker_h_flag and ker_w_flag and out_h_flag and out_w_flag and pad_h_flag and pad_w_flag:\n",
    "            params_list.append({'in_channels': in_channels, 'kernel_size': kernel_size,\n",
    "                          'padding': padding, 'stride': stride, 'dilation': dilation, 'in_batches': in_batches,\n",
    "                          'in_h': in_h, 'in_w': in_w, 'return_indices': return_indices})\n",
    "            sample_count += 1\n",
    "    return params_list"
   ]
  },
  {
   "cell_type": "code",
   "execution_count": 67,
   "id": "472a4c0f",
   "metadata": {
    "scrolled": true
   },
   "outputs": [],
   "source": [
    "def run_tests(num_tests):\n",
    "    ''' sweep different input parameters and test by comparing outputs of Conv2D and PyTorch '''\n",
    "    \n",
    "    num_passed = 0\n",
    "    params_list = valid_params(num_tests)\n",
    "    print('Number of tests: {}\\n\\n'.format(len(params_list)))\n",
    "\n",
    "    for i, params in enumerate(tqdm(params_list)):\n",
    "        print('Test: {}\\nParams: {}'.format(i, params))\n",
    "        in_channels = params['in_channels'] # input channels\n",
    "        kernel_size = params['kernel_size'] # kernel size\n",
    "\n",
    "        padding = params['padding'] # padding (optional)\n",
    "        stride = params['stride'] # stride (optional)\n",
    "        dilation = params['dilation'] # dilation factor (optional)\n",
    "        return_indices = return_indices = params['return_indices'] # return indices (optional)\n",
    "        \n",
    "        in_batches = params['in_batches'] # input batches\n",
    "        in_h = params['in_h'] # input height\n",
    "        in_w = params['in_w'] # input weight\n",
    "        \n",
    "        _input = np.random.rand(in_batches, in_channels, in_h, in_w) # define a random image based on the input parameters\n",
    "    \n",
    "        try:\n",
    "            # get MaxPool2D output with the random inputs\n",
    "            maxpool2d = MaxPool2D(kernel_size, stride = stride, padding = padding, dilation = dilation, return_indices = return_indices) # call an instance of the class with the input parameters \n",
    "            _output = maxpool2d.forward(_input) # perform convolution\n",
    "\n",
    "            # get PyTorch output with the same random inputs as above\n",
    "            x = torch.DoubleTensor(_input)\n",
    "            m = torch.nn.MaxPool2d(kernel_size, stride = stride, padding = padding, dilation = dilation, return_indices = return_indices)\n",
    "            output = m(x)\n",
    "\n",
    "        except Exception as e:\n",
    "            print(e)\n",
    "            print('Result: False\\n\\n') # treating exception as a failed test\n",
    "            continue\n",
    "\n",
    "        # compare outputs of MaxPool2D and PyTorch\n",
    "        if isinstance(_output, tuple):\n",
    "            result = torch.equal(torch.round(torch.DoubleTensor(_output[0])), torch.round(output[0])) # check if both the output and max indices are correct\n",
    "            print('Result: {}\\n\\n'.format(result))\n",
    "        else:\n",
    "            result = torch.equal(torch.round(torch.DoubleTensor(_output)), torch.round(output)) # need to round the output due to precision difference\n",
    "            print('Result: {}\\n\\n'.format(result))\n",
    "        if result:\n",
    "            num_passed += 1\n",
    "    print('{} out of {} ({}%) tests passed'.format(num_passed, num_tests, float(100 * num_passed / num_tests))) "
   ]
  },
  {
   "cell_type": "code",
   "execution_count": null,
   "id": "ab748d82",
   "metadata": {},
   "outputs": [
    {
     "name": "stdout",
     "output_type": "stream",
     "text": [
      "Number of tests: 100\n",
      "\n",
      "\n"
     ]
    },
    {
     "name": "stderr",
     "output_type": "stream",
     "text": [
      "\r",
      "  0%|                                                   | 0/100 [00:00<?, ?it/s]"
     ]
    },
    {
     "name": "stdout",
     "output_type": "stream",
     "text": [
      "Test: 0\n",
      "Params: {'in_channels': 16, 'kernel_size': (20, 12), 'padding': (7, 4), 'stride': (4, 5), 'dilation': (1, 1), 'in_batches': 2, 'in_h': 15, 'in_w': 26, 'return_indices': True}\n"
     ]
    },
    {
     "name": "stderr",
     "output_type": "stream",
     "text": [
      "\r",
      "  1%|▍                                          | 1/100 [00:00<00:30,  3.20it/s]"
     ]
    },
    {
     "name": "stdout",
     "output_type": "stream",
     "text": [
      "Result: True\n",
      "\n",
      "\n",
      "Test: 1\n",
      "Params: {'in_channels': 18, 'kernel_size': (10, 20), 'padding': (2, 5), 'stride': (4, 4), 'dilation': (2, 1), 'in_batches': 1, 'in_h': 26, 'in_w': 14, 'return_indices': True}\n",
      "Result: True\n",
      "\n",
      "\n",
      "Test: 2\n",
      "Params: {'in_channels': 3, 'kernel_size': (2, 19), 'padding': (1, 1), 'stride': (1, 3), 'dilation': (7, 1), 'in_batches': 5, 'in_h': 25, 'in_w': 32, 'return_indices': True}\n"
     ]
    },
    {
     "name": "stderr",
     "output_type": "stream",
     "text": [
      "\r",
      "  3%|█▎                                         | 3/100 [00:00<00:26,  3.72it/s]"
     ]
    },
    {
     "name": "stdout",
     "output_type": "stream",
     "text": [
      "Result: True\n",
      "\n",
      "\n",
      "Test: 3\n",
      "Params: {'in_channels': 1, 'kernel_size': (9, 18), 'padding': (2, 4), 'stride': (3, 3), 'dilation': (1, 1), 'in_batches': 5, 'in_h': 21, 'in_w': 16, 'return_indices': True}\n",
      "Result: True\n",
      "\n",
      "\n",
      "Test: 4\n",
      "Params: {'in_channels': 19, 'kernel_size': (10, 8), 'padding': (5, 4), 'stride': (2, 3), 'dilation': (1, 2), 'in_batches': 5, 'in_h': 20, 'in_w': 33, 'return_indices': True}\n"
     ]
    },
    {
     "name": "stderr",
     "output_type": "stream",
     "text": [
      "  6%|██▌                                        | 6/100 [00:03<01:01,  1.52it/s]"
     ]
    },
    {
     "name": "stdout",
     "output_type": "stream",
     "text": [
      "Result: True\n",
      "\n",
      "\n",
      "Test: 5\n",
      "Params: {'in_channels': 9, 'kernel_size': (15, 16), 'padding': (4, 6), 'stride': (3, 4), 'dilation': (1, 2), 'in_batches': 4, 'in_h': 10, 'in_w': 27, 'return_indices': True}\n",
      "Result: True\n",
      "\n",
      "\n",
      "Test: 6\n",
      "Params: {'in_channels': 4, 'kernel_size': (6, 8), 'padding': (1, 4), 'stride': (2, 5), 'dilation': (1, 3), 'in_batches': 1, 'in_h': 12, 'in_w': 30, 'return_indices': True}\n",
      "Result: True\n",
      "\n",
      "\n",
      "Test: 7\n",
      "Params: {'in_channels': 17, 'kernel_size': (11, 14), 'padding': (3, 5), 'stride': (5, 5), 'dilation': (3, 2), 'in_batches': 3, 'in_h': 34, 'in_w': 30, 'return_indices': True}\n"
     ]
    },
    {
     "name": "stderr",
     "output_type": "stream",
     "text": [
      "\r",
      "  8%|███▍                                       | 8/100 [00:04<00:40,  2.28it/s]"
     ]
    },
    {
     "name": "stdout",
     "output_type": "stream",
     "text": [
      "Result: True\n",
      "\n",
      "\n",
      "Test: 8\n",
      "Params: {'in_channels': 13, 'kernel_size': (13, 12), 'padding': (3, 5), 'stride': (2, 1), 'dilation': (1, 3), 'in_batches': 5, 'in_h': 28, 'in_w': 29, 'return_indices': False}\n"
     ]
    },
    {
     "name": "stderr",
     "output_type": "stream",
     "text": [
      " 12%|█████                                     | 12/100 [00:07<00:46,  1.90it/s]"
     ]
    },
    {
     "name": "stdout",
     "output_type": "stream",
     "text": [
      "Result: True\n",
      "\n",
      "\n",
      "Test: 9\n",
      "Params: {'in_channels': 8, 'kernel_size': (20, 10), 'padding': (7, 3), 'stride': (4, 4), 'dilation': (1, 2), 'in_batches': 1, 'in_h': 9, 'in_w': 31, 'return_indices': True}\n",
      "Result: True\n",
      "\n",
      "\n",
      "Test: 10\n",
      "Params: {'in_channels': 1, 'kernel_size': (6, 8), 'padding': (2, 2), 'stride': (5, 3), 'dilation': (5, 1), 'in_batches': 4, 'in_h': 31, 'in_w': 25, 'return_indices': True}\n",
      "Result: True\n",
      "\n",
      "\n",
      "Test: 11\n",
      "Params: {'in_channels': 11, 'kernel_size': (17, 6), 'padding': (3, 2), 'stride': (4, 2), 'dilation': (1, 1), 'in_batches': 1, 'in_h': 33, 'in_w': 11, 'return_indices': True}\n",
      "Result: True\n",
      "\n",
      "\n",
      "Test: 12\n",
      "Params: {'in_channels': 18, 'kernel_size': (14, 17), 'padding': (4, 8), 'stride': (4, 1), 'dilation': (1, 1), 'in_batches': 1, 'in_h': 6, 'in_w': 23, 'return_indices': False}\n"
     ]
    },
    {
     "name": "stderr",
     "output_type": "stream",
     "text": [
      "\r",
      " 13%|█████▍                                    | 13/100 [00:07<00:41,  2.11it/s]"
     ]
    },
    {
     "name": "stdout",
     "output_type": "stream",
     "text": [
      "Result: True\n",
      "\n",
      "\n",
      "Test: 13\n",
      "Params: {'in_channels': 7, 'kernel_size': (8, 5), 'padding': (4, 2), 'stride': (5, 2), 'dilation': (1, 1), 'in_batches': 5, 'in_h': 17, 'in_w': 29, 'return_indices': True}\n"
     ]
    },
    {
     "name": "stderr",
     "output_type": "stream",
     "text": [
      " 15%|██████▎                                   | 15/100 [00:07<00:29,  2.89it/s]"
     ]
    },
    {
     "name": "stdout",
     "output_type": "stream",
     "text": [
      "Result: True\n",
      "\n",
      "\n",
      "Test: 14\n",
      "Params: {'in_channels': 6, 'kernel_size': (5, 10), 'padding': (2, 5), 'stride': (3, 4), 'dilation': (2, 2), 'in_batches': 4, 'in_h': 11, 'in_w': 32, 'return_indices': True}\n",
      "Result: True\n",
      "\n",
      "\n",
      "Test: 15\n",
      "Params: {'in_channels': 18, 'kernel_size': (10, 10), 'padding': (3, 3), 'stride': (2, 4), 'dilation': (2, 3), 'in_batches': 5, 'in_h': 14, 'in_w': 33, 'return_indices': False}\n"
     ]
    },
    {
     "name": "stderr",
     "output_type": "stream",
     "text": [
      " 17%|███████▏                                  | 17/100 [00:07<00:21,  3.79it/s]"
     ]
    },
    {
     "name": "stdout",
     "output_type": "stream",
     "text": [
      "Result: True\n",
      "\n",
      "\n",
      "Test: 16\n",
      "Params: {'in_channels': 15, 'kernel_size': (14, 5), 'padding': (5, 2), 'stride': (5, 5), 'dilation': (1, 7), 'in_batches': 5, 'in_h': 23, 'in_w': 29, 'return_indices': True}\n",
      "Result: True\n",
      "\n",
      "\n",
      "Test: 17\n",
      "Params: {'in_channels': 8, 'kernel_size': (12, 20), 'padding': (1, 7), 'stride': (1, 3), 'dilation': (1, 1), 'in_batches': 3, 'in_h': 17, 'in_w': 21, 'return_indices': True}\n"
     ]
    },
    {
     "name": "stderr",
     "output_type": "stream",
     "text": [
      "\r",
      " 18%|███████▌                                  | 18/100 [00:08<00:30,  2.68it/s]"
     ]
    },
    {
     "name": "stdout",
     "output_type": "stream",
     "text": [
      "Result: True\n",
      "\n",
      "\n",
      "Test: 18\n",
      "Params: {'in_channels': 7, 'kernel_size': (8, 3), 'padding': (4, 1), 'stride': (1, 1), 'dilation': (1, 9), 'in_batches': 4, 'in_h': 8, 'in_w': 24, 'return_indices': False}\n"
     ]
    },
    {
     "name": "stderr",
     "output_type": "stream",
     "text": [
      "\r",
      " 19%|███████▉                                  | 19/100 [00:09<00:30,  2.66it/s]"
     ]
    },
    {
     "name": "stdout",
     "output_type": "stream",
     "text": [
      "Result: True\n",
      "\n",
      "\n",
      "Test: 19\n",
      "Params: {'in_channels': 15, 'kernel_size': (6, 13), 'padding': (1, 1), 'stride': (5, 5), 'dilation': (3, 1), 'in_batches': 1, 'in_h': 34, 'in_w': 27, 'return_indices': True}\n",
      "Result: True\n",
      "\n",
      "\n",
      "Test: 20\n",
      "Params: {'in_channels': 20, 'kernel_size': (9, 15), 'padding': (2, 6), 'stride': (3, 1), 'dilation': (2, 1), 'in_batches': 5, 'in_h': 31, 'in_w': 19, 'return_indices': True}\n"
     ]
    },
    {
     "name": "stderr",
     "output_type": "stream",
     "text": [
      "\r",
      " 21%|████████▊                                 | 21/100 [00:14<01:49,  1.39s/it]"
     ]
    },
    {
     "name": "stdout",
     "output_type": "stream",
     "text": [
      "Result: True\n",
      "\n",
      "\n",
      "Test: 21\n",
      "Params: {'in_channels': 1, 'kernel_size': (4, 17), 'padding': (1, 3), 'stride': (1, 5), 'dilation': (6, 1), 'in_batches': 5, 'in_h': 22, 'in_w': 17, 'return_indices': False}\n",
      "Result: True\n",
      "\n",
      "\n",
      "Test: 22\n",
      "Params: {'in_channels': 19, 'kernel_size': (18, 9), 'padding': (9, 4), 'stride': (2, 3), 'dilation': (2, 1), 'in_batches': 2, 'in_h': 20, 'in_w': 17, 'return_indices': True}\n"
     ]
    },
    {
     "name": "stderr",
     "output_type": "stream",
     "text": [
      "\r",
      " 23%|█████████▋                                | 23/100 [00:14<01:09,  1.11it/s]"
     ]
    },
    {
     "name": "stdout",
     "output_type": "stream",
     "text": [
      "Result: True\n",
      "\n",
      "\n",
      "Test: 23\n",
      "Params: {'in_channels': 14, 'kernel_size': (8, 9), 'padding': (2, 2), 'stride': (4, 5), 'dilation': (2, 2), 'in_batches': 5, 'in_h': 28, 'in_w': 32, 'return_indices': True}\n"
     ]
    },
    {
     "name": "stderr",
     "output_type": "stream",
     "text": [
      "\r",
      " 24%|██████████                                | 24/100 [00:15<01:01,  1.23it/s]"
     ]
    },
    {
     "name": "stdout",
     "output_type": "stream",
     "text": [
      "Result: True\n",
      "\n",
      "\n",
      "Test: 24\n",
      "Params: {'in_channels': 10, 'kernel_size': (20, 12), 'padding': (10, 6), 'stride': (3, 5), 'dilation': (1, 2), 'in_batches': 2, 'in_h': 33, 'in_w': 34, 'return_indices': False}\n"
     ]
    }
   ],
   "source": [
    "num_tests = 100\n",
    "run_tests(num_tests)"
   ]
  },
  {
   "cell_type": "code",
   "execution_count": null,
   "id": "e23ecb13",
   "metadata": {},
   "outputs": [],
   "source": []
  }
 ],
 "metadata": {
  "kernelspec": {
   "display_name": "Python 3 (ipykernel)",
   "language": "python",
   "name": "python3"
  },
  "language_info": {
   "codemirror_mode": {
    "name": "ipython",
    "version": 3
   },
   "file_extension": ".py",
   "mimetype": "text/x-python",
   "name": "python",
   "nbconvert_exporter": "python",
   "pygments_lexer": "ipython3",
   "version": "3.7.1"
  }
 },
 "nbformat": 4,
 "nbformat_minor": 5
}
