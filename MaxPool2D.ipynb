{
 "cells": [
  {
   "cell_type": "markdown",
   "id": "b20a6f8d",
   "metadata": {},
   "source": [
    "### `MaxPool2D` code"
   ]
  },
  {
   "cell_type": "code",
   "execution_count": 15,
   "id": "19182ede",
   "metadata": {},
   "outputs": [],
   "source": [
    "import numpy as np\n",
    "import torch # needed for tests\n",
    "from tqdm import tqdm # needed for tests"
   ]
  },
  {
   "cell_type": "code",
   "execution_count": 16,
   "id": "7ed1691b",
   "metadata": {},
   "outputs": [],
   "source": [
    "class MaxPool2D:\n",
    "    ''' Computes maxpool given the input parameters '''\n",
    "    \n",
    "    ''' * The class implementation will be along the lines of torch.nn.MaxPool2d in order to \n",
    "          enable comparison of this NumPy only implementation and seamless testing\n",
    "    '''\n",
    "    '''\n",
    "        TODO:\n",
    "        * Replace `torch.round()` with `np.allclose()` for tests\n",
    "        * Optimizing code\n",
    "    '''\n",
    "    \n",
    "    def __init__(\n",
    "        self, \n",
    "        # in_channels, \n",
    "        # out_channels, \n",
    "        kernel_size, \n",
    "        padding = (0, 0), \n",
    "        stride = (1, 1), \n",
    "        dilation = (1, 1), \n",
    "        # groups = 1, \n",
    "        # bias = True, \n",
    "        # padding_mode = 'zeros', \n",
    "        # device = None, \n",
    "        # dtype = None, \n",
    "        verbose = False\n",
    "        ):\n",
    "        super(MaxPool2D, self).__init__()\n",
    "        \n",
    "        ''' mandatory parameters '''\n",
    "        # self.in_channels = in_channels\n",
    "        # self.out_channels = out_channels\n",
    "        if isinstance(kernel_size, tuple):\n",
    "            self.kernel_size = kernel_size\n",
    "        elif isinstance(kernel_size, int):\n",
    "            self.kernel_size = (kernel_size, kernel_size)\n",
    "        else:\n",
    "            raise Exception('invalid input parameters: kernel_size should either be an int or a tuple')\n",
    "        \n",
    "        ''' optional parameters '''\n",
    "        if isinstance(padding, str):\n",
    "            if padding == 'valid':\n",
    "                self.padding = (0, 0)\n",
    "            elif padding == 'same':\n",
    "                raise Exception(\"invalid input parameters: padding = 'same' not yet supported\")\n",
    "            else:\n",
    "                raise Exception('invalid input parameters: padding is not valid')\n",
    "        elif isinstance(padding, tuple):\n",
    "            if padding[0] >= 0 and padding[1] >= 0:\n",
    "                self.padding = padding\n",
    "            else:\n",
    "                raise Exception('invalid input parameters: padding is not valid')\n",
    "        elif isinstance(padding, int):\n",
    "            if padding >= 0:\n",
    "                self.padding = (padding, padding)\n",
    "            else:\n",
    "                raise Exception('invalid input parameters: padding is not valid')\n",
    "        else:\n",
    "            raise Exception('invalid input parametersL padding should be either an int or a tuple')\n",
    "        if isinstance(stride, tuple):\n",
    "            if stride[0] >= 1 and stride[1] >= 1:\n",
    "                self.stride = stride\n",
    "            else:\n",
    "                raise Exception('invalid input parameters: stride is not valid')\n",
    "        elif isinstance(stride, int):\n",
    "            if stride >= 1:\n",
    "                self.stride = (stride, stride)\n",
    "            else:\n",
    "                raise Exception('invalid input parameters: stride is not valid')\n",
    "        else:\n",
    "            raise Exception('invalid input parameters: stride should be either an int or a tuple')\n",
    "        if isinstance(dilation, tuple):\n",
    "            if dilation[0] >= 1 and dilation[1] >= 1:\n",
    "                self.dilation = dilation\n",
    "            else:\n",
    "                raise Exception('invalid input parameters: dilation is not valid')\n",
    "        elif isinstance(dilation, int):\n",
    "            if dilation >= 1:\n",
    "                self.dilation = (dilation, dilation)\n",
    "            else:\n",
    "                raise Exception('invalid input parameters: dilation is not valid')\n",
    "        else:\n",
    "            raise Exception('invalid input parameters: dilation should be either an int or a tuple')\n",
    "        # self.groups = groups\n",
    "        \n",
    "        ''' optional parameters (dummy, yet to be implemented)'''\n",
    "        # self.bias = bias\n",
    "        # self.padding_mode = padding_mode\n",
    "        # self.device = device\n",
    "        # self.dtype = dtype\n",
    "        \n",
    "        ''' additional parameters (different from torch.nn.Conv2D)'''\n",
    "        self.verbose = verbose\n",
    "        self.verboseprint = print if self.verbose else lambda *a, **k: None\n",
    "        self.verboseprint('*** parameters ***')\n",
    "        # self.verboseprint('in_channels: {}, out_channels: {}, kernel_size: {}'.format(self.in_channels, self.out_channels, self.kernel_size))\n",
    "        self.verboseprint('kernel_size: {}'.format(self.kernel_size))\n",
    "        self.verboseprint('padding: {}, stride: {}, dilation factor: {}'.format(self.padding, self.stride, self.dilation))\n",
    "        # self.verboseprint('groups: {}, bias: {}, padding_mode: {}, device: {}, dtype: {}'.format(self.groups, self.bias, self.padding_mode, self.device, self.dtype))\n",
    "        # self.verboseprint('groups: {}'.format(self.groups))\n",
    "        self.verboseprint('\\n')\n",
    "    \n",
    "    def forward(self, _input):\n",
    "        ''' forward pass to perform convolution '''\n",
    "        \n",
    "        ''' do error checking '''\n",
    "        _input_n, _input_c, _input_h, _input_w = _input.shape\n",
    "        if _input_h + 2 * self.padding[0] < self.dilation[0] * (self.kernel_size[0] - 1) + 1: # check if (dilated) ker_h is valid\n",
    "            raise Exception('invalid input parameters: kernel height is larger than input height')\n",
    "        if _input_w + 2 * self.padding[1] < self.dilation[1] * (self.kernel_size[1] - 1) + 1: # check if (dilated) ker_w is valid\n",
    "            raise Exception('invalid input parameters: kernel width is larger than input width')\n",
    "        if ((_input_h + 2 * self.padding[0] - (self.dilation[0] * (self.kernel_size[0] - 1) + 1)) / self.stride[0]) + 1 < 0: # check if out_h is valid\n",
    "            raise Exception('invalid input parameters: output height is negative')\n",
    "        if ((_input_w + 2 * self.padding[1] - (self.dilation[1] * (self.kernel_size[1] - 1) + 1)) / self.stride[1]) + 1 < 0: # check if out_w is valid\n",
    "            raise Exception('invalid input parameters: output width is negative')\n",
    "        # if  self.in_channels % self.groups != 0: # check if groups is valid\n",
    "            # raise Exception('invalid input parameters: input channels is not divisible by groups')\n",
    "        # if self.out_channels % self.groups != 0: # check if groups is valid\n",
    "            # raise Exception('invalid input parametes: output channels is not divisible by groups')\n",
    "         \n",
    "        ''' add zero padding based on the input parameters '''\n",
    "        if self.padding != (0, 0):\n",
    "            _input = np.array([[np.pad(channel, ((self.padding[0], self.padding[0]), (self.padding[1], self.padding[1])), 'constant', constant_values = -np.inf) for channel in batch] for batch in _input])    \n",
    "            self.verboseprint('*** padded input image ***')\n",
    "            self.verboseprint('input batches: {}, input channels: {}, input height: {}, input weight: {}'.format(_input.shape[0], _input.shape[1], _input.shape[2], _input.shape[3]))\n",
    "            self.verboseprint(_input)\n",
    "            self.verboseprint('\\n')\n",
    "        \n",
    "        ''' use the provided kernels or create random kernels based on the input kernel parameters '''\n",
    "        '''\n",
    "        if kernels is not None:\n",
    "            self.verboseprint('*** kernels ***')\n",
    "            self.verboseprint('kernels: {}, kernel channels: {}, kernel height: {}, kernel weight: {}'.format(self.out_channels, int(self.in_channels / self.groups), self.kernel_size[0], self.kernel_size[1]))\n",
    "        else:\n",
    "            kernels = []\n",
    "            self.verboseprint('*** kernels ***')\n",
    "            self.verboseprint('kernels: {}, kernel channels: {}, kernel height: {}, kernel weight: {}'.format(self.out_channels, int(self.in_channels / self.groups), self.kernel_size[0], self.kernel_size[1]))\n",
    "            for k in range(self.out_channels):\n",
    "                kernel = np.random.rand(int(self.in_channels / self.groups), self.kernel_size[0], self.kernel_size[1]) # define a random kernel based on the kernel parameters\n",
    "                kernels.append(kernel)\n",
    "                self.verboseprint('kernel {}'.format(k))\n",
    "                self.verboseprint(kernel)\n",
    "            self.verboseprint('\\n')\n",
    "        '''\n",
    "        \n",
    "        ''' dilate a kernel '''\n",
    "        dil_ker_h = self.dilation[0] * (self.kernel_size[0] - 1) + 1\n",
    "        dil_ker_w = self.dilation[1] * (self.kernel_size[1] - 1) + 1\n",
    "        '''\n",
    "        dil_kernels = []\n",
    "        for kernel in kernels:\n",
    "            dil_kernel = []\n",
    "            for channel in kernel:\n",
    "                dil_channel = np.zeros((dil_ker_h, dil_ker_w))\n",
    "                for row in range(len(channel)):\n",
    "                    for col in range(len(channel[0])):\n",
    "                        dil_channel[self.dilation[0] * row][self.dilation[1] * col] = channel[row][col] # check if the indices 0 and 1 need to be swapped\n",
    "                dil_kernel.append(dil_channel.tolist())\n",
    "            dil_kernels.append(dil_kernel)\n",
    "        '''\n",
    "        # kernels, self.kernel_size = dil_kernels, (dil_ker_h, dil_ker_w)\n",
    "        self.kernel_size = (dil_ker_h, dil_ker_w)\n",
    "        self.verboseprint('*** dilated kernels ***')\n",
    "        # self.verboseprint('kernels: {}, dilation factor: {}, kernel channels: {}, kernel height: {}, kernel weight: {}'.format(self.out_channels, self.dilation, int(self.in_channels / self.groups), self.kernel_size[0], self.kernel_size[1]))\n",
    "        self.verboseprint('dilation factor: {}, kernel channels: {}, kernel height: {}, kernel weight: {}'.format(self.dilation, int(_input_c), self.kernel_size[0], self.kernel_size[1]))\n",
    "        '''\n",
    "        for k in range(self.out_channels):\n",
    "            self.verboseprint('kernel {}'.format(k))\n",
    "            self.verboseprint(kernels[k])\n",
    "        '''\n",
    "        self.verboseprint('\\n')\n",
    "        \n",
    "        ''' compute output volume from the input and kernel parameters '''\n",
    "        _input_n, _input_c, _input_h, _input_w = _input.shape\n",
    "        out_n = int(_input_n)\n",
    "        out_c = int(_input_c)\n",
    "        out_h = int((_input_h - self.kernel_size[0]) / self.stride[0]) + 1\n",
    "        out_w = int((_input_w - self.kernel_size[1]) / self.stride[1]) + 1\n",
    "        output = np.zeros([out_n, out_c, out_h, out_w]) # may need to initialize to -np.inf\n",
    "        \n",
    "        ''' parse through every element of the output and compute the convolution value for that element '''\n",
    "        for b in range(out_n):\n",
    "            for k in range(out_c):\n",
    "                for h in range(out_h):\n",
    "                    for w in range(out_w):\n",
    "                        # convolve kernel over the input slices\n",
    "                        self.verboseprint('kernel indices, image indices')\n",
    "                        self.verboseprint('[n, c, h, w]', '[n, c, h, w]')\n",
    "                        convol_sum = -np.inf\n",
    "                        # ker_c = 1\n",
    "                        ker_h = self.kernel_size[0]\n",
    "                        ker_w = self.kernel_size[1]\n",
    "                        # for c_ker in range(ker_c):\n",
    "                        for h_ker in range(ker_h):\n",
    "                            for w_ker in range(ker_w):\n",
    "                                self.verboseprint([b, k, h_ker + self.stride[0] * h, w_ker + self.stride[1] * w])\n",
    "                                if _input[b][k][h_ker + self.stride[0] * h][w_ker + self.stride[1] * w] > convol_sum: # works for all 1 <= `groups` <= in_channels\n",
    "                                    convol_sum = _input[b][k][h_ker + self.stride[0] * h][w_ker + self.stride[1] * w]\n",
    "\n",
    "                                # self.verboseprint([k, c_ker, h_ker, w_ker], [b, c_ker + (ker_c * int(np.floor(k / _input_c))), h_ker + self.stride[0] * h, w_ker + self.stride[1] * w])\n",
    "                                # if _input[b][c_ker + (ker_c * int(np.floor(k / _input_c)))][h_ker + self.stride[0] * h][w_ker + self.stride[1] * w] > convol_sum: # works for all 1 <= `groups` <= in_channels\n",
    "                                    # convol_sum = _input[b][c_ker + (ker_c * int(np.floor(k / _input_c)))][h_ker + self.stride[0] * h][w_ker + self.stride[1] * w]\n",
    "                                # self.verboseprint([k, c_ker, h_ker, w_ker], [b, c_ker + (ker_c * int(np.floor(k / (self.out_channels / self.groups)))), h_ker + self.stride[0] * h, w_ker + self.stride[1] * w])\n",
    "                                # convol_sum += kernels[k][c_ker][h_ker][w_ker] * _input[b][c_ker + (ker_c * int(np.floor(k / (self.out_channels / self.groups))))][h_ker + self.stride[0] * h][w_ker + self.stride[1] * w] # works for all 1 <= `groups` <= in_channels\n",
    "                        self.verboseprint('\\n')\n",
    "                        output[b, k, h, w] += convol_sum\n",
    "        self.verboseprint('*** MaxPool2D output ***')\n",
    "        output_shape = output.shape\n",
    "        self.verboseprint('output batches: {}, ouput channels: {}, output height: {}, output weight: {}'.format(output_shape[0], output_shape[1], output_shape[2], output_shape[3]))\n",
    "        assert((out_n, out_c, out_h, out_w) == output_shape)\n",
    "        self.verboseprint(output)\n",
    "        self.verboseprint('\\n')\n",
    "        return output"
   ]
  },
  {
   "cell_type": "markdown",
   "id": "7450ac24",
   "metadata": {},
   "source": [
    "### Standalone test (random kernel, random input)"
   ]
  },
  {
   "cell_type": "code",
   "execution_count": 114,
   "id": "a0377df6",
   "metadata": {},
   "outputs": [],
   "source": [
    "in_channels = 15 #2 # input channels\n",
    "# out_channels = 4 # output channels\n",
    "kernel_size = (7, 2) #(2, 2) # kernel size\n",
    "\n",
    "padding = (1, 1) #(0, 0) # padding (optional)\n",
    "stride = (4, 4) #(2, 2) # stride (optional)\n",
    "dilation = (1, 9) #(1, 1) # dilation factor (optional)\n",
    "# groups = 2 # groups (optional)\n",
    "\n",
    "in_batches = 1 #1 # input batches\n",
    "in_h = 20 #4 # input height\n",
    "in_w = 20 #4 # input weight\n",
    "\n",
    "np.random.seed(30)\n",
    "_input = np.random.rand(in_batches, in_channels, in_h, in_w) # define a random image based on the input parameters\n",
    "# kernels = []\n",
    "# for k in range(out_channels):\n",
    "    # kernel = np.random.rand(int(in_channels / groups), kernel_size[0], kernel_size[1]) # define a random kernel based on the kernel parameters\n",
    "    # kernels.append(kernel)"
   ]
  },
  {
   "cell_type": "code",
   "execution_count": 115,
   "id": "29c79bef",
   "metadata": {},
   "outputs": [
    {
     "name": "stdout",
     "output_type": "stream",
     "text": [
      "*** MaxPool2D output ***\n",
      "[[[[0.99310313 0.99310313 0.95691278 0.99419368]\n",
      "   [0.99310313 0.99310313 0.98865854 0.98339226]\n",
      "   [0.99741096 0.98313394 0.98444799 0.98742331]\n",
      "   [0.99894214 0.99894214 0.99894214 0.98742331]]\n",
      "\n",
      "  [[0.99454453 0.99454453 0.99454453 0.97349741]\n",
      "   [0.99454453 0.99454453 0.99454453 0.99443237]\n",
      "   [0.97598299 0.97357177 0.94153434 0.99047825]\n",
      "   [0.97598299 0.99471545 0.99471545 0.99047825]]\n",
      "\n",
      "  [[0.97291192 0.98857684 0.99708791 0.99708791]\n",
      "   [0.98003362 0.98916951 0.99708791 0.99708791]\n",
      "   [0.98003362 0.98916951 0.98916951 0.96189053]\n",
      "   [0.99974348 0.99974348 0.98088865 0.96796626]]\n",
      "\n",
      "  [[0.97587393 0.99921808 0.99921808 0.99444064]\n",
      "   [0.98700251 0.98700251 0.96643368 0.95632998]\n",
      "   [0.98700251 0.98700251 0.95790703 0.95790703]\n",
      "   [0.96080253 0.95988199 0.95790703 0.96593383]]\n",
      "\n",
      "  [[0.99659986 0.98579669 0.99605204 0.99605204]\n",
      "   [0.9765062  0.9765062  0.99605204 0.99605204]\n",
      "   [0.99282703 0.966368   0.98760292 0.98760292]\n",
      "   [0.99282703 0.98267004 0.98267004 0.97833891]]\n",
      "\n",
      "  [[0.95861632 0.95861632 0.98648385 0.98648385]\n",
      "   [0.95911742 0.9723937  0.98916809 0.98916809]\n",
      "   [0.9702393  0.98953169 0.98953169 0.98953169]\n",
      "   [0.98949006 0.98953169 0.98953169 0.98953169]]\n",
      "\n",
      "  [[0.94377236 0.9780654  0.98978565 0.9956194 ]\n",
      "   [0.9980342  0.9980342  0.9735244  0.9956194 ]\n",
      "   [0.9980342  0.9980342  0.98318381 0.96805518]\n",
      "   [0.98318381 0.98390798 0.98390798 0.98390798]]\n",
      "\n",
      "  [[0.92674136 0.99561103 0.99561103 0.95838251]\n",
      "   [0.91753689 0.99561103 0.99561103 0.99197237]\n",
      "   [0.99810053 0.99810053 0.99810053 0.99525912]\n",
      "   [0.99810053 0.99810053 0.99810053 0.99525912]]\n",
      "\n",
      "  [[0.94877033 0.99680306 0.99680306 0.99680306]\n",
      "   [0.8815064  0.91123913 0.91123913 0.99580551]\n",
      "   [0.9913411  0.9913411  0.90370653 0.99580551]\n",
      "   [0.9913411  0.9913411  0.98287627 0.97451869]]\n",
      "\n",
      "  [[0.99762391 0.99762391 0.99750268 0.99750268]\n",
      "   [0.99762391 0.99762391 0.99750268 0.99750268]\n",
      "   [0.98129773 0.98129773 0.96280336 0.98354362]\n",
      "   [0.97089593 0.97089593 0.96551655 0.98354362]]\n",
      "\n",
      "  [[0.99720223 0.99720223 0.99720223 0.98868952]\n",
      "   [0.99720223 0.99720223 0.99720223 0.96943112]\n",
      "   [0.9763734  0.99106756 0.99106756 0.96943112]\n",
      "   [0.98058622 0.99106756 0.99106756 0.94372631]]\n",
      "\n",
      "  [[0.98023953 0.98023953 0.99286966 0.99286966]\n",
      "   [0.98284417 0.99911062 0.99911062 0.99911062]\n",
      "   [0.98284417 0.99930134 0.99930134 0.99930134]\n",
      "   [0.99756827 0.99930134 0.99930134 0.99930134]]\n",
      "\n",
      "  [[0.96590197 0.98823895 0.99217772 0.99217772]\n",
      "   [0.99475312 0.99475312 0.98020066 0.97742992]\n",
      "   [0.99475312 0.99475312 0.98020066 0.97742992]\n",
      "   [0.97320227 0.97320227 0.96429009 0.89870434]]\n",
      "\n",
      "  [[0.99786845 0.99750774 0.99750774 0.99750774]\n",
      "   [0.99786845 0.98844237 0.99080679 0.99080679]\n",
      "   [0.97959935 0.98716741 0.99080679 0.99080679]\n",
      "   [0.99597055 0.99597055 0.98716741 0.98339234]]\n",
      "\n",
      "  [[0.99134167 0.99134167 0.99134167 0.92293204]\n",
      "   [0.97876011 0.97876011 0.9996241  0.9996241 ]\n",
      "   [0.97876011 0.99926346 0.99926346 0.99926346]\n",
      "   [0.98482666 0.96847659 0.98750275 0.99119959]]]]\n"
     ]
    }
   ],
   "source": [
    "# get MaxPool2D output with the random inputs\n",
    "\n",
    "maxpool2d = MaxPool2D(kernel_size, stride = stride, padding = padding, dilation = dilation) # call an instance of the class with the input parameters \n",
    "_output = maxpool2d.forward(_input) # perform convolution\n",
    "print(\"*** MaxPool2D output ***\")\n",
    "print(_output)"
   ]
  },
  {
   "cell_type": "code",
   "execution_count": 116,
   "id": "df346af0",
   "metadata": {
    "scrolled": true
   },
   "outputs": [
    {
     "name": "stdout",
     "output_type": "stream",
     "text": [
      "*** PyTorch output ***\n",
      "tensor([[[[0.6326, 0.9931, 0.9569, 0.6379],\n",
      "          [0.9887, 0.9931, 0.9569, 0.7702],\n",
      "          [0.9651, 0.8978, 0.9831, 0.7702],\n",
      "          [0.9989, 0.9343, 0.9831, 0.7174]],\n",
      "\n",
      "         [[0.9604, 0.9412, 0.9945, 0.8164],\n",
      "          [0.9837, 0.9412, 0.9945, 0.8164],\n",
      "          [0.9373, 0.9415, 0.8484, 0.8456],\n",
      "          [0.9600, 0.9079, 0.9435, 0.8456]],\n",
      "\n",
      "         [[0.6688, 0.9886, 0.9729, 0.7704],\n",
      "          [0.9222, 0.9412, 0.9729, 0.7884],\n",
      "          [0.9469, 0.9296, 0.9608, 0.9360],\n",
      "          [0.9469, 0.9511, 0.9608, 0.9680]],\n",
      "\n",
      "         [[0.6560, 0.8000, 0.9759, 0.9554],\n",
      "          [0.9377, 0.7640, 0.9231, 0.8397],\n",
      "          [0.9377, 0.9579, 0.8579, 0.7814],\n",
      "          [0.7448, 0.9579, 0.8579, 0.9078]],\n",
      "\n",
      "         [[0.7505, 0.9027, 0.9486, 0.8230],\n",
      "          [0.9219, 0.9027, 0.9271, 0.8641],\n",
      "          [0.9219, 0.8287, 0.8203, 0.9249],\n",
      "          [0.9365, 0.8481, 0.9827, 0.9249]],\n",
      "\n",
      "         [[0.8813, 0.9504, 0.9810, 0.8055],\n",
      "          [0.8813, 0.9504, 0.9285, 0.8530],\n",
      "          [0.9632, 0.9294, 0.9285, 0.9895],\n",
      "          [0.9632, 0.9895, 0.9408, 0.9895]],\n",
      "\n",
      "         [[0.4996, 0.9678, 0.9898, 0.9781],\n",
      "          [0.7533, 0.9438, 0.8272, 0.9681],\n",
      "          [0.9832, 0.8837, 0.9733, 0.9681],\n",
      "          [0.9832, 0.8092, 0.9493, 0.9839]],\n",
      "\n",
      "         [[0.9267, 0.9584, 0.6225, 0.7730],\n",
      "          [0.9175, 0.9584, 0.9920, 0.8280],\n",
      "          [0.9981, 0.8517, 0.9920, 0.8280],\n",
      "          [0.9981, 0.9635, 0.9684, 0.8262]],\n",
      "\n",
      "         [[0.7239, 0.9968, 0.9412, 0.8627],\n",
      "          [0.7239, 0.8295, 0.8963, 0.8627],\n",
      "          [0.8521, 0.9003, 0.7886, 0.7993],\n",
      "          [0.8521, 0.9003, 0.9123, 0.7892]],\n",
      "\n",
      "         [[0.9148, 0.9828, 0.8952, 0.9049],\n",
      "          [0.4699, 0.9507, 0.8952, 0.9492],\n",
      "          [0.8805, 0.9628, 0.9523, 0.9492],\n",
      "          [0.8805, 0.9628, 0.9582, 0.5706]],\n",
      "\n",
      "         [[0.8562, 0.9887, 0.9972, 0.7801],\n",
      "          [0.9495, 0.9399, 0.9972, 0.9120],\n",
      "          [0.9495, 0.9399, 0.9764, 0.9355],\n",
      "          [0.9454, 0.9533, 0.9437, 0.7451]],\n",
      "\n",
      "         [[0.8504, 0.9032, 0.9802, 0.8390],\n",
      "          [0.8989, 0.9991, 0.9650, 0.9743],\n",
      "          [0.9597, 0.9991, 0.9584, 0.9993],\n",
      "          [0.9597, 0.9871, 0.9087, 0.9993]],\n",
      "\n",
      "         [[0.9235, 0.9700, 0.9659, 0.8346],\n",
      "          [0.9802, 0.9852, 0.8717, 0.9133],\n",
      "          [0.9802, 0.9852, 0.8221, 0.9133],\n",
      "          [0.9643, 0.8757, 0.8221, 0.8902]],\n",
      "\n",
      "         [[0.9680, 0.9884, 0.9792, 0.9975],\n",
      "          [0.9213, 0.9884, 0.9441, 0.8961],\n",
      "          [0.9796, 0.9376, 0.7130, 0.8791],\n",
      "          [0.9796, 0.9682, 0.7130, 0.4215]],\n",
      "\n",
      "         [[0.9913, 0.9085, 0.8739, 0.7867],\n",
      "          [0.9788, 0.9715, 0.9225, 0.7867],\n",
      "          [0.9788, 0.9993, 0.9538, 0.7936],\n",
      "          [0.9190, 0.7459, 0.9538, 0.8590]]]], dtype=torch.float64)\n"
     ]
    }
   ],
   "source": [
    "# get PyTorch output with the same random inputs as above\n",
    "\n",
    "x = torch.DoubleTensor(_input)\n",
    "# weights = torch.stack([torch.DoubleTensor(kernel) for kernel in kernels])\n",
    "m = torch.nn.MaxPool2d(kernel_size, stride = stride, padding = padding, dilation = dilation)\n",
    "output = m(x)\n",
    "print(\"*** PyTorch output ***\")\n",
    "print(output)"
   ]
  },
  {
   "cell_type": "code",
   "execution_count": 113,
   "id": "d8e5a3f5",
   "metadata": {
    "scrolled": true
   },
   "outputs": [
    {
     "name": "stdout",
     "output_type": "stream",
     "text": [
      "False\n"
     ]
    }
   ],
   "source": [
    "# compare outputs of Conv2D and PyTorch\n",
    "print(torch.equal(torch.round(torch.DoubleTensor(_output)), torch.round(output))) # need to round the output due to precision difference"
   ]
  },
  {
   "cell_type": "markdown",
   "id": "c87813f3",
   "metadata": {},
   "source": [
    "### Extensive tests (random kernel, random input)"
   ]
  },
  {
   "cell_type": "code",
   "execution_count": 7,
   "id": "8b986f3c",
   "metadata": {},
   "outputs": [],
   "source": [
    "def valid_params(num_tests):\n",
    "    ''' generates `num_tests` number of valid input and kernel parameters '''\n",
    "    \n",
    "    params_list = []\n",
    "    sample_count = 0\n",
    "    while sample_count < num_tests:\n",
    "        in_channels = np.random.randint(20) + 1 # input channels\n",
    "        # out_channels = np.random.randint(20) + 1 # output channels\n",
    "        \n",
    "        kernel_h = np.random.randint(20) + 1\n",
    "        kernel_w = np.random.randint(20) + 1\n",
    "        kernel_size = (kernel_h, kernel_w) # kernel size\n",
    "        \n",
    "        padding_h = np.random.randint(10) + 1\n",
    "        padding_w = np.random.randint(10) + 1\n",
    "        padding = (padding_h, padding_w) # padding (optional)\n",
    "        stride_h = np.random.randint(5) + 1\n",
    "        stride_w = np.random.randint(5) + 1\n",
    "        stride = (stride_h, stride_w) # stride (optional)\n",
    "        dilation_h = np.random.randint(10) + 1\n",
    "        dilation_w = np.random.randint(10) + 1\n",
    "        dilation = (dilation_h, dilation_w) # dilation factor (optional)\n",
    "        # groups = np.random.randint(in_channels) + 1 # groups (optional)\n",
    "        \n",
    "        in_batches = np.random.randint(5) + 1 # input batches\n",
    "        in_h = np.random.randint(30) + 5 # input height\n",
    "        in_w = np.random.randint(30) + 5 # input weight\n",
    "    \n",
    "        ker_h_flag, ker_w_flag, out_h_flag, out_w_flag, pad_h_flag, pad_w_flag = True, True, True, True, True, True\n",
    "        \n",
    "        if in_h + 2 * padding_h < dilation_h * (kernel_h - 1) + 1: # check if (dilated) ker_h is valid\n",
    "            ker_h_flag = False\n",
    "        if in_w + 2 * padding_w < dilation_w * (kernel_w - 1) + 1: # check if (dilated) ker_w is valid\n",
    "            ker_w_flag = False\n",
    "        if ((in_h + 2 * padding_h - (dilation_h * (kernel_h - 1) + 1)) / stride_h) + 1 < 0: # check if out_h is valid\n",
    "            out_h_flag = False\n",
    "        if ((in_w + 2 * padding_w - (dilation_w * (kernel_w - 1) + 1)) / stride_w) + 1 < 0: # check if out_w is valid\n",
    "            out_w_flag = False\n",
    "        if padding_h > kernel_h // 2:\n",
    "            pad_h_flag = False\n",
    "        if padding_w > kernel_w // 2:\n",
    "            pad_w_flag = False\n",
    "        # if in_channels % groups != 0: # check if groups is valid\n",
    "            # in_group_flag = False\n",
    "        # if out_channels % groups != 0: # check if groups is valid\n",
    "            # out_group_flag = False\n",
    "        \n",
    "        if ker_h_flag and ker_w_flag and out_h_flag and out_w_flag and pad_h_flag and pad_w_flag:\n",
    "            params_list.append({'in_channels': in_channels, 'kernel_size': kernel_size,\n",
    "                          'padding': padding, 'stride': stride, 'dilation': dilation, 'in_batches': in_batches,\n",
    "                          'in_h': in_h, 'in_w': in_w})\n",
    "            sample_count += 1\n",
    "    return params_list"
   ]
  },
  {
   "cell_type": "code",
   "execution_count": 8,
   "id": "472a4c0f",
   "metadata": {
    "scrolled": true
   },
   "outputs": [],
   "source": [
    "def run_tests(num_tests):\n",
    "    ''' sweep different input parameters and test by comparing outputs of Conv2D and PyTorch '''\n",
    "    \n",
    "    num_passed = 0\n",
    "    params_list = valid_params(num_tests)\n",
    "    print('Number of tests: {}\\n\\n'.format(len(params_list)))\n",
    "\n",
    "    for i, params in enumerate(tqdm(params_list)):\n",
    "        print('Test: {}\\nParams: {}'.format(i, params))\n",
    "        in_channels = params['in_channels'] # input channels\n",
    "        # out_channels = params['out_channels'] # output channels\n",
    "        kernel_size = params['kernel_size'] # kernel size\n",
    "\n",
    "        padding = params['padding'] # padding (optional)\n",
    "        stride = params['stride'] # stride (optional)\n",
    "        dilation = params['dilation'] # dilation factor (optional)\n",
    "        # groups = params['groups'] # groups (optional)\n",
    "\n",
    "        in_batches = params['in_batches'] # input batches\n",
    "        in_h = params['in_h'] # input height\n",
    "        in_w = params['in_w'] # input weight\n",
    "\n",
    "        _input = np.random.rand(in_batches, in_channels, in_h, in_w) # define a random image based on the input parameters\n",
    "        # kernels = []\n",
    "        # for k in range(out_channels):\n",
    "            # kernel = np.random.rand(int(in_channels / groups), kernel_size[0], kernel_size[1]) # define a random kernel based on the kernel parameters\n",
    "            # kernels.append(kernel)\n",
    "\n",
    "        try:\n",
    "            # get MaxPool2D output with the random inputs\n",
    "            maxpool2d = MaxPool2D(kernel_size, stride = stride, padding = padding, dilation = dilation) # call an instance of the class with the input parameters \n",
    "            _output = maxpool2d.forward(_input) # perform convolution\n",
    "\n",
    "            # get PyTorch output with the same random inputs as above\n",
    "            x = torch.DoubleTensor(_input)\n",
    "            m = torch.nn.MaxPool2d(kernel_size, stride = stride, padding = padding, dilation = dilation)\n",
    "            output = m(x)\n",
    "\n",
    "        except Exception as e:\n",
    "            print(e)\n",
    "            print('Result: False\\n\\n') # treating exception as a failed test\n",
    "            continue\n",
    "\n",
    "        # compare outputs of MaxPool2D and PyTorch\n",
    "        result = torch.equal(torch.round(torch.DoubleTensor(_output)), torch.round(output)) # need to round the output due to precision difference\n",
    "        print('Result: {}\\n\\n'.format(result))\n",
    "        if result:\n",
    "            num_passed += 1\n",
    "\n",
    "    print('{} out of {} ({}%) tests passed'.format(num_passed, num_tests, float(100 * num_passed / num_tests)))\n"
   ]
  },
  {
   "cell_type": "code",
   "execution_count": 10,
   "id": "ab748d82",
   "metadata": {},
   "outputs": [
    {
     "name": "stdout",
     "output_type": "stream",
     "text": [
      "Number of tests: 100\n",
      "\n",
      "\n"
     ]
    },
    {
     "name": "stderr",
     "output_type": "stream",
     "text": [
      "  3%|█▎                                         | 3/100 [00:00<00:03, 26.69it/s]"
     ]
    },
    {
     "name": "stdout",
     "output_type": "stream",
     "text": [
      "Test: 0\n",
      "Params: {'in_channels': 2, 'kernel_size': (7, 12), 'padding': (2, 1), 'stride': (4, 4), 'dilation': (2, 3), 'in_batches': 4, 'in_h': 12, 'in_w': 33}\n",
      "Result: True\n",
      "\n",
      "\n",
      "Test: 1\n",
      "Params: {'in_channels': 14, 'kernel_size': (20, 2), 'padding': (5, 1), 'stride': (2, 2), 'dilation': (1, 6), 'in_batches': 3, 'in_h': 19, 'in_w': 11}\n",
      "Result: True\n",
      "\n",
      "\n",
      "Test: 2\n",
      "Params: {'in_channels': 17, 'kernel_size': (15, 16), 'padding': (5, 6), 'stride': (5, 5), 'dilation': (1, 1), 'in_batches': 1, 'in_h': 19, 'in_w': 6}\n",
      "Result: True\n",
      "\n",
      "\n",
      "Test: 3\n",
      "Params: {'in_channels': 18, 'kernel_size': (16, 11), 'padding': (1, 4), 'stride': (3, 4), 'dilation': (1, 1), 'in_batches': 4, 'in_h': 17, 'in_w': 11}\n",
      "Result: True\n",
      "\n",
      "\n",
      "Test: 4\n",
      "Params: {'in_channels': 16, 'kernel_size': (15, 16), 'padding': (2, 8), 'stride': (2, 1), 'dilation': (2, 1), 'in_batches': 5, 'in_h': 31, 'in_w': 16}\n"
     ]
    },
    {
     "name": "stderr",
     "output_type": "stream",
     "text": [
      "  8%|███▍                                       | 8/100 [00:02<00:26,  3.50it/s]"
     ]
    },
    {
     "name": "stdout",
     "output_type": "stream",
     "text": [
      "Result: True\n",
      "\n",
      "\n",
      "Test: 5\n",
      "Params: {'in_channels': 2, 'kernel_size': (11, 8), 'padding': (5, 4), 'stride': (5, 4), 'dilation': (3, 3), 'in_batches': 1, 'in_h': 21, 'in_w': 15}\n",
      "Result: True\n",
      "\n",
      "\n",
      "Test: 6\n",
      "Params: {'in_channels': 5, 'kernel_size': (14, 10), 'padding': (1, 5), 'stride': (2, 1), 'dilation': (1, 4), 'in_batches': 1, 'in_h': 29, 'in_w': 28}\n",
      "Result: True\n",
      "\n",
      "\n",
      "Test: 7\n",
      "Params: {'in_channels': 4, 'kernel_size': (12, 15), 'padding': (6, 3), 'stride': (3, 5), 'dilation': (2, 1), 'in_batches': 3, 'in_h': 17, 'in_w': 32}\n",
      "Result: True\n",
      "\n",
      "\n",
      "Test: 8\n",
      "Params: {'in_channels': 20, 'kernel_size': (10, 18), 'padding': (1, 3), 'stride': (4, 5), 'dilation': (1, 2), 'in_batches': 1, 'in_h': 10, 'in_w': 29}\n",
      "Result: True\n",
      "\n",
      "\n",
      "Test: 9\n",
      "Params: {'in_channels': 19, 'kernel_size': (3, 10), 'padding': (1, 4), 'stride': (1, 1), 'dilation': (6, 1), 'in_batches': 4, 'in_h': 33, 'in_w': 8}\n"
     ]
    },
    {
     "name": "stderr",
     "output_type": "stream",
     "text": [
      "\r",
      " 10%|████▏                                     | 10/100 [00:03<00:37,  2.38it/s]"
     ]
    },
    {
     "name": "stdout",
     "output_type": "stream",
     "text": [
      "Result: True\n",
      "\n",
      "\n",
      "Test: 10\n",
      "Params: {'in_channels': 12, 'kernel_size': (19, 16), 'padding': (7, 7), 'stride': (4, 3), 'dilation': (1, 1), 'in_batches': 4, 'in_h': 23, 'in_w': 29}\n"
     ]
    },
    {
     "name": "stderr",
     "output_type": "stream",
     "text": [
      "\r",
      " 11%|████▌                                     | 11/100 [00:04<00:41,  2.16it/s]"
     ]
    },
    {
     "name": "stdout",
     "output_type": "stream",
     "text": [
      "Result: True\n",
      "\n",
      "\n",
      "Test: 11\n",
      "Params: {'in_channels': 12, 'kernel_size': (20, 18), 'padding': (1, 9), 'stride': (5, 5), 'dilation': (1, 1), 'in_batches': 2, 'in_h': 23, 'in_w': 17}\n",
      "Result: True\n",
      "\n",
      "\n",
      "Test: 12\n",
      "Params: {'in_channels': 18, 'kernel_size': (12, 11), 'padding': (5, 4), 'stride': (1, 3), 'dilation': (1, 3), 'in_batches': 4, 'in_h': 33, 'in_w': 31}\n"
     ]
    },
    {
     "name": "stderr",
     "output_type": "stream",
     "text": [
      " 16%|██████▋                                   | 16/100 [00:06<00:36,  2.30it/s]"
     ]
    },
    {
     "name": "stdout",
     "output_type": "stream",
     "text": [
      "Result: True\n",
      "\n",
      "\n",
      "Test: 13\n",
      "Params: {'in_channels': 8, 'kernel_size': (18, 15), 'padding': (5, 6), 'stride': (4, 5), 'dilation': (1, 2), 'in_batches': 4, 'in_h': 9, 'in_w': 18}\n",
      "Result: True\n",
      "\n",
      "\n",
      "Test: 14\n",
      "Params: {'in_channels': 9, 'kernel_size': (9, 11), 'padding': (2, 1), 'stride': (5, 1), 'dilation': (4, 1), 'in_batches': 3, 'in_h': 29, 'in_w': 10}\n",
      "Result: True\n",
      "\n",
      "\n",
      "Test: 15\n",
      "Params: {'in_channels': 14, 'kernel_size': (20, 17), 'padding': (5, 7), 'stride': (3, 5), 'dilation': (1, 1), 'in_batches': 1, 'in_h': 29, 'in_w': 21}\n",
      "Result: True\n",
      "\n",
      "\n",
      "Test: 16\n",
      "Params: {'in_channels': 12, 'kernel_size': (2, 14), 'padding': (1, 5), 'stride': (1, 1), 'dilation': (8, 1), 'in_batches': 2, 'in_h': 25, 'in_w': 33}\n"
     ]
    },
    {
     "name": "stderr",
     "output_type": "stream",
     "text": [
      "\r",
      " 17%|███████▏                                  | 17/100 [00:08<00:50,  1.66it/s]"
     ]
    },
    {
     "name": "stdout",
     "output_type": "stream",
     "text": [
      "Result: True\n",
      "\n",
      "\n",
      "Test: 17\n",
      "Params: {'in_channels': 20, 'kernel_size': (3, 19), 'padding': (1, 3), 'stride': (2, 4), 'dilation': (2, 1), 'in_batches': 2, 'in_h': 12, 'in_w': 26}\n",
      "Result: True\n",
      "\n",
      "\n",
      "Test: 18\n",
      "Params: {'in_channels': 20, 'kernel_size': (5, 10), 'padding': (1, 5), 'stride': (2, 5), 'dilation': (2, 2), 'in_batches': 4, 'in_h': 34, 'in_w': 29}\n"
     ]
    },
    {
     "name": "stderr",
     "output_type": "stream",
     "text": [
      " 22%|█████████▏                                | 22/100 [00:09<00:27,  2.85it/s]"
     ]
    },
    {
     "name": "stdout",
     "output_type": "stream",
     "text": [
      "Result: True\n",
      "\n",
      "\n",
      "Test: 19\n",
      "Params: {'in_channels': 3, 'kernel_size': (4, 4), 'padding': (1, 2), 'stride': (4, 2), 'dilation': (2, 5), 'in_batches': 4, 'in_h': 24, 'in_w': 21}\n",
      "Result: True\n",
      "\n",
      "\n",
      "Test: 20\n",
      "Params: {'in_channels': 3, 'kernel_size': (13, 15), 'padding': (2, 7), 'stride': (5, 3), 'dilation': (2, 2), 'in_batches': 1, 'in_h': 33, 'in_w': 20}\n",
      "Result: True\n",
      "\n",
      "\n",
      "Test: 21\n",
      "Params: {'in_channels': 19, 'kernel_size': (10, 15), 'padding': (1, 3), 'stride': (3, 2), 'dilation': (1, 2), 'in_batches': 4, 'in_h': 24, 'in_w': 23}\n",
      "Result: True\n",
      "\n",
      "\n",
      "Test: 22\n",
      "Params: {'in_channels': 11, 'kernel_size': (7, 8), 'padding': (1, 2), 'stride': (3, 4), 'dilation': (1, 3), 'in_batches': 1, 'in_h': 11, 'in_w': 32}\n",
      "Result: True\n",
      "\n",
      "\n",
      "Test: 23\n",
      "Params: {'in_channels': 12, 'kernel_size': (8, 12), 'padding': (2, 6), 'stride': (4, 3), 'dilation': (3, 2), 'in_batches': 4, 'in_h': 22, 'in_w': 22}\n"
     ]
    },
    {
     "name": "stderr",
     "output_type": "stream",
     "text": [
      "\r",
      " 24%|██████████                                | 24/100 [00:09<00:21,  3.59it/s]"
     ]
    },
    {
     "name": "stdout",
     "output_type": "stream",
     "text": [
      "Result: True\n",
      "\n",
      "\n",
      "Test: 24\n",
      "Params: {'in_channels': 10, 'kernel_size': (7, 2), 'padding': (2, 1), 'stride': (2, 1), 'dilation': (2, 2), 'in_batches': 3, 'in_h': 11, 'in_w': 19}\n",
      "Result: False\n",
      "\n",
      "\n",
      "Test: 25\n",
      "Params: {'in_channels': 6, 'kernel_size': (15, 6), 'padding': (4, 2), 'stride': (1, 1), 'dilation': (2, 3), 'in_batches': 5, 'in_h': 34, 'in_w': 26}\n"
     ]
    },
    {
     "name": "stderr",
     "output_type": "stream",
     "text": [
      "\r",
      " 26%|██████████▉                               | 26/100 [00:11<00:40,  1.82it/s]"
     ]
    },
    {
     "name": "stdout",
     "output_type": "stream",
     "text": [
      "Result: True\n",
      "\n",
      "\n",
      "Test: 26\n",
      "Params: {'in_channels': 20, 'kernel_size': (15, 18), 'padding': (2, 2), 'stride': (1, 2), 'dilation': (1, 1), 'in_batches': 5, 'in_h': 14, 'in_w': 26}\n"
     ]
    },
    {
     "name": "stderr",
     "output_type": "stream",
     "text": [
      "\r",
      " 27%|███████████▎                              | 27/100 [00:12<00:40,  1.79it/s]"
     ]
    },
    {
     "name": "stdout",
     "output_type": "stream",
     "text": [
      "Result: True\n",
      "\n",
      "\n",
      "Test: 27\n",
      "Params: {'in_channels': 18, 'kernel_size': (7, 16), 'padding': (1, 6), 'stride': (1, 1), 'dilation': (2, 1), 'in_batches': 5, 'in_h': 14, 'in_w': 12}\n"
     ]
    },
    {
     "name": "stderr",
     "output_type": "stream",
     "text": [
      "\r",
      " 28%|███████████▊                              | 28/100 [00:13<00:40,  1.79it/s]"
     ]
    },
    {
     "name": "stdout",
     "output_type": "stream",
     "text": [
      "Result: True\n",
      "\n",
      "\n",
      "Test: 28\n",
      "Params: {'in_channels': 9, 'kernel_size': (3, 19), 'padding': (1, 8), 'stride': (2, 2), 'dilation': (5, 1), 'in_batches': 3, 'in_h': 14, 'in_w': 13}\n",
      "Result: True\n",
      "\n",
      "\n",
      "Test: 29\n",
      "Params: {'in_channels': 6, 'kernel_size': (15, 9), 'padding': (5, 2), 'stride': (5, 1), 'dilation': (2, 1), 'in_batches': 4, 'in_h': 29, 'in_w': 28}\n"
     ]
    },
    {
     "name": "stderr",
     "output_type": "stream",
     "text": [
      "\r",
      " 30%|████████████▌                             | 30/100 [00:13<00:30,  2.28it/s]"
     ]
    },
    {
     "name": "stdout",
     "output_type": "stream",
     "text": [
      "Result: True\n",
      "\n",
      "\n",
      "Test: 30\n",
      "Params: {'in_channels': 4, 'kernel_size': (8, 12), 'padding': (4, 4), 'stride': (2, 3), 'dilation': (4, 2), 'in_batches': 4, 'in_h': 25, 'in_w': 18}\n",
      "Result: True\n",
      "\n",
      "\n",
      "Test: 31\n",
      "Params: {'in_channels': 13, 'kernel_size': (14, 5), 'padding': (4, 2), 'stride': (4, 3), 'dilation': (1, 7), 'in_batches': 4, 'in_h': 11, 'in_w': 25}\n",
      "Result: True\n",
      "\n",
      "\n",
      "Test: 32\n",
      "Params: {'in_channels': 17, 'kernel_size': (17, 2), 'padding': (7, 1), 'stride': (1, 3), 'dilation': (2, 2), 'in_batches': 5, 'in_h': 32, 'in_w': 32}\n"
     ]
    },
    {
     "name": "stderr",
     "output_type": "stream",
     "text": [
      "\r",
      " 33%|█████████████▊                            | 33/100 [00:14<00:29,  2.27it/s]"
     ]
    },
    {
     "name": "stdout",
     "output_type": "stream",
     "text": [
      "Result: True\n",
      "\n",
      "\n",
      "Test: 33\n",
      "Params: {'in_channels': 8, 'kernel_size': (14, 19), 'padding': (6, 7), 'stride': (5, 1), 'dilation': (1, 2), 'in_batches': 1, 'in_h': 19, 'in_w': 26}\n",
      "Result: True\n",
      "\n",
      "\n",
      "Test: 34\n",
      "Params: {'in_channels': 7, 'kernel_size': (18, 11), 'padding': (9, 3), 'stride': (3, 1), 'dilation': (1, 2), 'in_batches': 4, 'in_h': 21, 'in_w': 25}\n"
     ]
    },
    {
     "name": "stderr",
     "output_type": "stream",
     "text": [
      "\r",
      " 35%|██████████████▋                           | 35/100 [00:15<00:28,  2.29it/s]"
     ]
    },
    {
     "name": "stdout",
     "output_type": "stream",
     "text": [
      "Result: True\n",
      "\n",
      "\n",
      "Test: 35\n",
      "Params: {'in_channels': 13, 'kernel_size': (4, 13), 'padding': (2, 4), 'stride': (3, 5), 'dilation': (5, 1), 'in_batches': 4, 'in_h': 30, 'in_w': 21}\n"
     ]
    },
    {
     "name": "stderr",
     "output_type": "stream",
     "text": [
      " 40%|████████████████▊                         | 40/100 [00:16<00:13,  4.52it/s]"
     ]
    },
    {
     "name": "stdout",
     "output_type": "stream",
     "text": [
      "Result: True\n",
      "\n",
      "\n",
      "Test: 36\n",
      "Params: {'in_channels': 2, 'kernel_size': (5, 19), 'padding': (1, 9), 'stride': (4, 2), 'dilation': (4, 1), 'in_batches': 2, 'in_h': 25, 'in_w': 18}\n",
      "Result: True\n",
      "\n",
      "\n",
      "Test: 37\n",
      "Params: {'in_channels': 3, 'kernel_size': (19, 17), 'padding': (9, 5), 'stride': (2, 3), 'dilation': (1, 1), 'in_batches': 1, 'in_h': 24, 'in_w': 10}\n",
      "Result: True\n",
      "\n",
      "\n",
      "Test: 38\n",
      "Params: {'in_channels': 5, 'kernel_size': (5, 4), 'padding': (2, 1), 'stride': (4, 4), 'dilation': (5, 8), 'in_batches': 2, 'in_h': 21, 'in_w': 27}\n",
      "Result: True\n",
      "\n",
      "\n",
      "Test: 39\n",
      "Params: {'in_channels': 16, 'kernel_size': (6, 6), 'padding': (2, 3), 'stride': (3, 5), 'dilation': (1, 3), 'in_batches': 5, 'in_h': 25, 'in_w': 13}\n",
      "Result: True\n",
      "\n",
      "\n",
      "Test: 40\n",
      "Params: {'in_channels': 19, 'kernel_size': (11, 13), 'padding': (3, 2), 'stride': (4, 1), 'dilation': (1, 1), 'in_batches': 1, 'in_h': 20, 'in_w': 34}\n"
     ]
    },
    {
     "name": "stderr",
     "output_type": "stream",
     "text": [
      " 44%|██████████████████▍                       | 44/100 [00:16<00:09,  6.11it/s]"
     ]
    },
    {
     "name": "stdout",
     "output_type": "stream",
     "text": [
      "Result: True\n",
      "\n",
      "\n",
      "Test: 41\n",
      "Params: {'in_channels': 5, 'kernel_size': (5, 7), 'padding': (1, 3), 'stride': (5, 4), 'dilation': (8, 1), 'in_batches': 1, 'in_h': 32, 'in_w': 7}\n",
      "Result: True\n",
      "\n",
      "\n",
      "Test: 42\n",
      "Params: {'in_channels': 2, 'kernel_size': (16, 15), 'padding': (7, 3), 'stride': (1, 2), 'dilation': (1, 1), 'in_batches': 2, 'in_h': 23, 'in_w': 18}\n",
      "Result: True\n",
      "\n",
      "\n",
      "Test: 43\n",
      "Params: {'in_channels': 12, 'kernel_size': (15, 10), 'padding': (7, 4), 'stride': (4, 4), 'dilation': (1, 1), 'in_batches': 1, 'in_h': 24, 'in_w': 27}\n",
      "Result: True\n",
      "\n",
      "\n",
      "Test: 44\n",
      "Params: {'in_channels': 11, 'kernel_size': (11, 15), 'padding': (5, 2), 'stride': (2, 4), 'dilation': (2, 1), 'in_batches': 4, 'in_h': 23, 'in_w': 31}\n"
     ]
    },
    {
     "name": "stderr",
     "output_type": "stream",
     "text": [
      " 47%|███████████████████▋                      | 47/100 [00:17<00:09,  5.44it/s]"
     ]
    },
    {
     "name": "stdout",
     "output_type": "stream",
     "text": [
      "Result: True\n",
      "\n",
      "\n",
      "Test: 45\n",
      "Params: {'in_channels': 1, 'kernel_size': (18, 17), 'padding': (2, 2), 'stride': (2, 5), 'dilation': (1, 1), 'in_batches': 3, 'in_h': 15, 'in_w': 19}\n",
      "Result: True\n",
      "\n",
      "\n",
      "Test: 46\n",
      "Params: {'in_channels': 9, 'kernel_size': (4, 14), 'padding': (2, 2), 'stride': (2, 5), 'dilation': (9, 2), 'in_batches': 4, 'in_h': 30, 'in_w': 30}\n",
      "Result: True\n",
      "\n",
      "\n",
      "Test: 47\n",
      "Params: {'in_channels': 3, 'kernel_size': (12, 12), 'padding': (5, 6), 'stride': (5, 4), 'dilation': (1, 3), 'in_batches': 4, 'in_h': 22, 'in_w': 24}\n",
      "Result: True\n",
      "\n",
      "\n",
      "Test: 48\n",
      "Params: {'in_channels': 3, 'kernel_size': (10, 14), 'padding': (4, 7), 'stride': (3, 3), 'dilation': (2, 2), 'in_batches': 4, 'in_h': 27, 'in_w': 25}\n"
     ]
    },
    {
     "name": "stderr",
     "output_type": "stream",
     "text": [
      "\r",
      " 49%|████████████████████▌                     | 49/100 [00:17<00:07,  6.54it/s]"
     ]
    },
    {
     "name": "stdout",
     "output_type": "stream",
     "text": [
      "Result: True\n",
      "\n",
      "\n",
      "Test: 49\n",
      "Params: {'in_channels': 19, 'kernel_size': (9, 13), 'padding': (4, 6), 'stride': (3, 4), 'dilation': (1, 2), 'in_batches': 5, 'in_h': 16, 'in_w': 22}\n"
     ]
    },
    {
     "name": "stderr",
     "output_type": "stream",
     "text": [
      "\r",
      " 50%|█████████████████████                     | 50/100 [00:17<00:09,  5.50it/s]"
     ]
    },
    {
     "name": "stdout",
     "output_type": "stream",
     "text": [
      "Result: True\n",
      "\n",
      "\n",
      "Test: 50\n",
      "Params: {'in_channels': 14, 'kernel_size': (12, 9), 'padding': (5, 3), 'stride': (1, 4), 'dilation': (2, 2), 'in_batches': 4, 'in_h': 24, 'in_w': 24}\n"
     ]
    },
    {
     "name": "stderr",
     "output_type": "stream",
     "text": [
      "\r",
      " 51%|█████████████████████▍                    | 51/100 [00:18<00:15,  3.15it/s]"
     ]
    },
    {
     "name": "stdout",
     "output_type": "stream",
     "text": [
      "Result: True\n",
      "\n",
      "\n",
      "Test: 51\n",
      "Params: {'in_channels': 16, 'kernel_size': (20, 2), 'padding': (9, 1), 'stride': (4, 1), 'dilation': (1, 9), 'in_batches': 1, 'in_h': 25, 'in_w': 33}\n"
     ]
    },
    {
     "name": "stderr",
     "output_type": "stream",
     "text": [
      "\r",
      " 52%|█████████████████████▊                    | 52/100 [00:18<00:16,  2.91it/s]"
     ]
    },
    {
     "name": "stdout",
     "output_type": "stream",
     "text": [
      "Result: True\n",
      "\n",
      "\n",
      "Test: 52\n",
      "Params: {'in_channels': 7, 'kernel_size': (5, 7), 'padding': (2, 2), 'stride': (1, 4), 'dilation': (3, 5), 'in_batches': 4, 'in_h': 23, 'in_w': 32}\n"
     ]
    },
    {
     "name": "stderr",
     "output_type": "stream",
     "text": [
      " 55%|███████████████████████                   | 55/100 [00:19<00:09,  4.63it/s]"
     ]
    },
    {
     "name": "stdout",
     "output_type": "stream",
     "text": [
      "Result: True\n",
      "\n",
      "\n",
      "Test: 53\n",
      "Params: {'in_channels': 8, 'kernel_size': (20, 12), 'padding': (5, 3), 'stride': (3, 3), 'dilation': (1, 1), 'in_batches': 5, 'in_h': 17, 'in_w': 11}\n",
      "Result: True\n",
      "\n",
      "\n",
      "Test: 54\n",
      "Params: {'in_channels': 4, 'kernel_size': (7, 14), 'padding': (3, 2), 'stride': (1, 2), 'dilation': (6, 1), 'in_batches': 3, 'in_h': 31, 'in_w': 30}\n",
      "Result: True\n",
      "\n",
      "\n",
      "Test: 55\n",
      "Params: {'in_channels': 19, 'kernel_size': (14, 13), 'padding': (5, 3), 'stride': (4, 1), 'dilation': (3, 2), 'in_batches': 4, 'in_h': 34, 'in_w': 34}\n"
     ]
    },
    {
     "name": "stderr",
     "output_type": "stream",
     "text": [
      "\r",
      " 56%|███████████████████████▌                  | 56/100 [00:21<00:27,  1.59it/s]"
     ]
    },
    {
     "name": "stdout",
     "output_type": "stream",
     "text": [
      "Result: True\n",
      "\n",
      "\n",
      "Test: 56\n",
      "Params: {'in_channels': 13, 'kernel_size': (14, 3), 'padding': (3, 1), 'stride': (5, 4), 'dilation': (1, 4), 'in_batches': 2, 'in_h': 16, 'in_w': 27}\n",
      "Result: True\n",
      "\n",
      "\n",
      "Test: 57\n",
      "Params: {'in_channels': 16, 'kernel_size': (5, 19), 'padding': (2, 9), 'stride': (1, 1), 'dilation': (1, 1), 'in_batches': 4, 'in_h': 27, 'in_w': 8}\n"
     ]
    },
    {
     "name": "stderr",
     "output_type": "stream",
     "text": [
      "\r",
      " 58%|████████████████████████▎                 | 58/100 [00:22<00:26,  1.61it/s]"
     ]
    },
    {
     "name": "stdout",
     "output_type": "stream",
     "text": [
      "Result: True\n",
      "\n",
      "\n",
      "Test: 58\n",
      "Params: {'in_channels': 11, 'kernel_size': (11, 15), 'padding': (4, 3), 'stride': (2, 2), 'dilation': (3, 1), 'in_batches': 4, 'in_h': 31, 'in_w': 19}\n"
     ]
    },
    {
     "name": "stderr",
     "output_type": "stream",
     "text": [
      "\r",
      " 59%|████████████████████████▊                 | 59/100 [00:23<00:24,  1.69it/s]"
     ]
    },
    {
     "name": "stdout",
     "output_type": "stream",
     "text": [
      "Result: True\n",
      "\n",
      "\n",
      "Test: 59\n",
      "Params: {'in_channels': 11, 'kernel_size': (15, 12), 'padding': (6, 3), 'stride': (3, 2), 'dilation': (1, 1), 'in_batches': 3, 'in_h': 29, 'in_w': 29}\n"
     ]
    },
    {
     "name": "stderr",
     "output_type": "stream",
     "text": [
      " 61%|█████████████████████████▌                | 61/100 [00:23<00:18,  2.17it/s]"
     ]
    },
    {
     "name": "stdout",
     "output_type": "stream",
     "text": [
      "Result: True\n",
      "\n",
      "\n",
      "Test: 60\n",
      "Params: {'in_channels': 8, 'kernel_size': (13, 8), 'padding': (4, 2), 'stride': (2, 5), 'dilation': (3, 1), 'in_batches': 5, 'in_h': 32, 'in_w': 33}\n",
      "Result: True\n",
      "\n",
      "\n",
      "Test: 61\n",
      "Params: {'in_channels': 10, 'kernel_size': (6, 10), 'padding': (2, 1), 'stride': (4, 1), 'dilation': (4, 1), 'in_batches': 2, 'in_h': 30, 'in_w': 13}\n"
     ]
    },
    {
     "name": "stderr",
     "output_type": "stream",
     "text": [
      "\r",
      " 63%|██████████████████████████▍               | 63/100 [00:23<00:10,  3.46it/s]"
     ]
    },
    {
     "name": "stdout",
     "output_type": "stream",
     "text": [
      "Result: True\n",
      "\n",
      "\n",
      "Test: 62\n",
      "Params: {'in_channels': 14, 'kernel_size': (8, 6), 'padding': (1, 1), 'stride': (5, 1), 'dilation': (1, 1), 'in_batches': 3, 'in_h': 8, 'in_w': 9}\n",
      "Result: True\n",
      "\n",
      "\n",
      "Test: 63\n",
      "Params: {'in_channels': 2, 'kernel_size': (14, 12), 'padding': (2, 4), 'stride': (4, 1), 'dilation': (2, 1), 'in_batches': 1, 'in_h': 28, 'in_w': 33}\n",
      "Result: True\n",
      "\n",
      "\n",
      "Test: 64\n",
      "Params: {'in_channels': 11, 'kernel_size': (20, 5), 'padding': (4, 2), 'stride': (2, 1), 'dilation': (1, 5), 'in_batches': 5, 'in_h': 22, 'in_w': 28}\n"
     ]
    },
    {
     "name": "stderr",
     "output_type": "stream",
     "text": [
      "\r",
      " 65%|███████████████████████████▎              | 65/100 [00:25<00:15,  2.31it/s]"
     ]
    },
    {
     "name": "stdout",
     "output_type": "stream",
     "text": [
      "Result: True\n",
      "\n",
      "\n",
      "Test: 65\n",
      "Params: {'in_channels': 20, 'kernel_size': (18, 19), 'padding': (8, 9), 'stride': (1, 2), 'dilation': (1, 1), 'in_batches': 1, 'in_h': 30, 'in_w': 14}\n"
     ]
    },
    {
     "name": "stderr",
     "output_type": "stream",
     "text": [
      " 67%|████████████████████████████▏             | 67/100 [00:26<00:16,  1.96it/s]"
     ]
    },
    {
     "name": "stdout",
     "output_type": "stream",
     "text": [
      "Result: True\n",
      "\n",
      "\n",
      "Test: 66\n",
      "Params: {'in_channels': 14, 'kernel_size': (4, 8), 'padding': (2, 1), 'stride': (2, 2), 'dilation': (1, 1), 'in_batches': 5, 'in_h': 10, 'in_w': 32}\n",
      "Result: True\n",
      "\n",
      "\n",
      "Test: 67\n",
      "Params: {'in_channels': 11, 'kernel_size': (10, 7), 'padding': (3, 2), 'stride': (5, 3), 'dilation': (1, 2), 'in_batches': 4, 'in_h': 22, 'in_w': 20}\n"
     ]
    },
    {
     "name": "stderr",
     "output_type": "stream",
     "text": [
      " 71%|█████████████████████████████▊            | 71/100 [00:26<00:06,  4.20it/s]"
     ]
    },
    {
     "name": "stdout",
     "output_type": "stream",
     "text": [
      "Result: True\n",
      "\n",
      "\n",
      "Test: 68\n",
      "Params: {'in_channels': 2, 'kernel_size': (18, 11), 'padding': (1, 4), 'stride': (2, 4), 'dilation': (1, 1), 'in_batches': 5, 'in_h': 27, 'in_w': 18}\n",
      "Result: True\n",
      "\n",
      "\n",
      "Test: 69\n",
      "Params: {'in_channels': 4, 'kernel_size': (17, 7), 'padding': (5, 1), 'stride': (1, 5), 'dilation': (1, 1), 'in_batches': 2, 'in_h': 32, 'in_w': 18}\n",
      "Result: True\n",
      "\n",
      "\n",
      "Test: 70\n",
      "Params: {'in_channels': 14, 'kernel_size': (12, 8), 'padding': (4, 3), 'stride': (4, 4), 'dilation': (2, 4), 'in_batches': 1, 'in_h': 34, 'in_w': 28}\n",
      "Result: True\n",
      "\n",
      "\n",
      "Test: 71\n",
      "Params: {'in_channels': 2, 'kernel_size': (2, 10), 'padding': (1, 3), 'stride': (5, 3), 'dilation': (3, 1), 'in_batches': 2, 'in_h': 5, 'in_w': 14}\n",
      "Result: True\n",
      "\n",
      "\n",
      "Test: 72\n",
      "Params: {'in_channels': 7, 'kernel_size': (5, 19), 'padding': (2, 8), 'stride': (4, 3), 'dilation': (3, 1), 'in_batches': 5, 'in_h': 15, 'in_w': 33}\n"
     ]
    },
    {
     "name": "stderr",
     "output_type": "stream",
     "text": [
      "\r",
      " 73%|██████████████████████████████▋           | 73/100 [00:27<00:04,  5.43it/s]"
     ]
    },
    {
     "name": "stdout",
     "output_type": "stream",
     "text": [
      "Result: True\n",
      "\n",
      "\n",
      "Test: 73\n",
      "Params: {'in_channels': 2, 'kernel_size': (14, 7), 'padding': (3, 1), 'stride': (2, 5), 'dilation': (2, 3), 'in_batches': 5, 'in_h': 32, 'in_w': 33}\n",
      "Result: True\n",
      "\n",
      "\n",
      "Test: 74\n",
      "Params: {'in_channels': 12, 'kernel_size': (14, 12), 'padding': (7, 5), 'stride': (4, 1), 'dilation': (1, 1), 'in_batches': 4, 'in_h': 17, 'in_w': 21}\n"
     ]
    },
    {
     "name": "stderr",
     "output_type": "stream",
     "text": [
      "\r",
      " 75%|███████████████████████████████▌          | 75/100 [00:27<00:06,  3.84it/s]"
     ]
    },
    {
     "name": "stdout",
     "output_type": "stream",
     "text": [
      "Result: True\n",
      "\n",
      "\n",
      "Test: 75\n",
      "Params: {'in_channels': 14, 'kernel_size': (7, 11), 'padding': (3, 5), 'stride': (4, 3), 'dilation': (3, 2), 'in_batches': 4, 'in_h': 29, 'in_w': 24}\n"
     ]
    },
    {
     "name": "stderr",
     "output_type": "stream",
     "text": [
      " 78%|████████████████████████████████▊         | 78/100 [00:28<00:05,  4.36it/s]"
     ]
    },
    {
     "name": "stdout",
     "output_type": "stream",
     "text": [
      "Result: True\n",
      "\n",
      "\n",
      "Test: 76\n",
      "Params: {'in_channels': 11, 'kernel_size': (3, 2), 'padding': (1, 1), 'stride': (1, 5), 'dilation': (2, 3), 'in_batches': 3, 'in_h': 7, 'in_w': 30}\n",
      "Result: False\n",
      "\n",
      "\n",
      "Test: 77\n",
      "Params: {'in_channels': 11, 'kernel_size': (5, 20), 'padding': (1, 7), 'stride': (2, 1), 'dilation': (2, 1), 'in_batches': 1, 'in_h': 11, 'in_w': 28}\n",
      "Result: True\n",
      "\n",
      "\n",
      "Test: 78\n",
      "Params: {'in_channels': 17, 'kernel_size': (17, 2), 'padding': (5, 1), 'stride': (5, 4), 'dilation': (1, 8), 'in_batches': 2, 'in_h': 7, 'in_w': 14}\n",
      "Result: True\n",
      "\n",
      "\n",
      "Test: 79\n",
      "Params: {'in_channels': 17, 'kernel_size': (12, 14), 'padding': (3, 7), 'stride': (4, 5), 'dilation': (2, 2), 'in_batches': 2, 'in_h': 33, 'in_w': 19}\n"
     ]
    },
    {
     "name": "stderr",
     "output_type": "stream",
     "text": [
      "\r",
      " 80%|█████████████████████████████████▌        | 80/100 [00:28<00:03,  5.39it/s]"
     ]
    },
    {
     "name": "stdout",
     "output_type": "stream",
     "text": [
      "Result: True\n",
      "\n",
      "\n",
      "Test: 80\n",
      "Params: {'in_channels': 12, 'kernel_size': (14, 16), 'padding': (7, 1), 'stride': (2, 5), 'dilation': (2, 1), 'in_batches': 2, 'in_h': 30, 'in_w': 28}\n"
     ]
    },
    {
     "name": "stderr",
     "output_type": "stream",
     "text": [
      " 83%|██████████████████████████████████▊       | 83/100 [00:29<00:02,  6.53it/s]"
     ]
    },
    {
     "name": "stdout",
     "output_type": "stream",
     "text": [
      "Result: True\n",
      "\n",
      "\n",
      "Test: 81\n",
      "Params: {'in_channels': 4, 'kernel_size': (13, 14), 'padding': (1, 7), 'stride': (3, 3), 'dilation': (1, 2), 'in_batches': 1, 'in_h': 14, 'in_w': 20}\n",
      "Result: True\n",
      "\n",
      "\n",
      "Test: 82\n",
      "Params: {'in_channels': 13, 'kernel_size': (6, 12), 'padding': (1, 4), 'stride': (4, 3), 'dilation': (5, 2), 'in_batches': 5, 'in_h': 30, 'in_w': 20}\n",
      "Result: True\n",
      "\n",
      "\n",
      "Test: 83\n",
      "Params: {'in_channels': 17, 'kernel_size': (7, 6), 'padding': (2, 3), 'stride': (5, 4), 'dilation': (2, 2), 'in_batches': 1, 'in_h': 17, 'in_w': 19}\n",
      "Result: True\n",
      "\n",
      "\n",
      "Test: 84\n",
      "Params: {'in_channels': 15, 'kernel_size': (18, 8), 'padding': (6, 4), 'stride': (4, 5), 'dilation': (1, 2), 'in_batches': 2, 'in_h': 30, 'in_w': 19}\n"
     ]
    },
    {
     "name": "stderr",
     "output_type": "stream",
     "text": [
      " 87%|████████████████████████████████████▌     | 87/100 [00:29<00:01,  9.26it/s]"
     ]
    },
    {
     "name": "stdout",
     "output_type": "stream",
     "text": [
      "Result: True\n",
      "\n",
      "\n",
      "Test: 85\n",
      "Params: {'in_channels': 4, 'kernel_size': (7, 4), 'padding': (1, 2), 'stride': (5, 1), 'dilation': (2, 2), 'in_batches': 3, 'in_h': 28, 'in_w': 6}\n",
      "Result: True\n",
      "\n",
      "\n",
      "Test: 86\n",
      "Params: {'in_channels': 12, 'kernel_size': (11, 15), 'padding': (2, 1), 'stride': (5, 4), 'dilation': (2, 1), 'in_batches': 3, 'in_h': 26, 'in_w': 29}\n",
      "Result: True\n",
      "\n",
      "\n",
      "Test: 87\n",
      "Params: {'in_channels': 3, 'kernel_size': (19, 10), 'padding': (3, 4), 'stride': (2, 5), 'dilation': (1, 1), 'in_batches': 3, 'in_h': 21, 'in_w': 5}\n",
      "Result: True\n",
      "\n",
      "\n",
      "Test: 88\n",
      "Params: {'in_channels': 10, 'kernel_size': (4, 14), 'padding': (1, 6), 'stride': (5, 5), 'dilation': (3, 2), 'in_batches': 4, 'in_h': 31, 'in_w': 23}\n"
     ]
    },
    {
     "name": "stderr",
     "output_type": "stream",
     "text": [
      "\r",
      " 89%|█████████████████████████████████████▍    | 89/100 [00:29<00:00, 11.05it/s]"
     ]
    },
    {
     "name": "stdout",
     "output_type": "stream",
     "text": [
      "Result: True\n",
      "\n",
      "\n",
      "Test: 89\n",
      "Params: {'in_channels': 16, 'kernel_size': (4, 11), 'padding': (1, 1), 'stride': (5, 3), 'dilation': (4, 2), 'in_batches': 2, 'in_h': 33, 'in_w': 34}\n"
     ]
    },
    {
     "name": "stderr",
     "output_type": "stream",
     "text": [
      " 93%|███████████████████████████████████████   | 93/100 [00:30<00:00, 10.60it/s]"
     ]
    },
    {
     "name": "stdout",
     "output_type": "stream",
     "text": [
      "Result: True\n",
      "\n",
      "\n",
      "Test: 90\n",
      "Params: {'in_channels': 6, 'kernel_size': (9, 5), 'padding': (3, 2), 'stride': (1, 5), 'dilation': (1, 1), 'in_batches': 2, 'in_h': 14, 'in_w': 26}\n",
      "Result: True\n",
      "\n",
      "\n",
      "Test: 91\n",
      "Params: {'in_channels': 9, 'kernel_size': (10, 7), 'padding': (1, 3), 'stride': (3, 2), 'dilation': (2, 1), 'in_batches': 1, 'in_h': 19, 'in_w': 5}\n",
      "Result: True\n",
      "\n",
      "\n",
      "Test: 92\n",
      "Params: {'in_channels': 6, 'kernel_size': (14, 5), 'padding': (6, 2), 'stride': (2, 2), 'dilation': (1, 2), 'in_batches': 3, 'in_h': 11, 'in_w': 23}\n",
      "Result: True\n",
      "\n",
      "\n",
      "Test: 93\n",
      "Params: {'in_channels': 2, 'kernel_size': (18, 10), 'padding': (8, 5), 'stride': (1, 2), 'dilation': (1, 4), 'in_batches': 4, 'in_h': 9, 'in_w': 28}\n",
      "Result: True\n",
      "\n",
      "\n",
      "Test: 94\n",
      "Params: {'in_channels': 13, 'kernel_size': (14, 14), 'padding': (4, 4), 'stride': (1, 4), 'dilation': (1, 2), 'in_batches': 5, 'in_h': 18, 'in_w': 32}\n"
     ]
    },
    {
     "name": "stderr",
     "output_type": "stream",
     "text": [
      " 96%|████████████████████████████████████████▎ | 96/100 [00:31<00:00,  4.45it/s]"
     ]
    },
    {
     "name": "stdout",
     "output_type": "stream",
     "text": [
      "Result: True\n",
      "\n",
      "\n",
      "Test: 95\n",
      "Params: {'in_channels': 9, 'kernel_size': (8, 18), 'padding': (3, 6), 'stride': (1, 3), 'dilation': (3, 1), 'in_batches': 1, 'in_h': 26, 'in_w': 22}\n",
      "Result: True\n",
      "\n",
      "\n",
      "Test: 96\n",
      "Params: {'in_channels': 20, 'kernel_size': (16, 7), 'padding': (8, 2), 'stride': (5, 1), 'dilation': (1, 2), 'in_batches': 1, 'in_h': 34, 'in_w': 34}\n"
     ]
    },
    {
     "name": "stderr",
     "output_type": "stream",
     "text": [
      "100%|█████████████████████████████████████████| 100/100 [00:32<00:00,  3.12it/s]"
     ]
    },
    {
     "name": "stdout",
     "output_type": "stream",
     "text": [
      "Result: True\n",
      "\n",
      "\n",
      "Test: 97\n",
      "Params: {'in_channels': 15, 'kernel_size': (13, 11), 'padding': (5, 2), 'stride': (4, 5), 'dilation': (1, 1), 'in_batches': 5, 'in_h': 29, 'in_w': 9}\n",
      "Result: True\n",
      "\n",
      "\n",
      "Test: 98\n",
      "Params: {'in_channels': 11, 'kernel_size': (19, 15), 'padding': (7, 1), 'stride': (4, 4), 'dilation': (1, 1), 'in_batches': 3, 'in_h': 12, 'in_w': 17}\n",
      "Result: True\n",
      "\n",
      "\n",
      "Test: 99\n",
      "Params: {'in_channels': 3, 'kernel_size': (13, 14), 'padding': (5, 1), 'stride': (4, 4), 'dilation': (2, 2), 'in_batches': 1, 'in_h': 33, 'in_w': 33}\n",
      "Result: True\n",
      "\n",
      "\n",
      "98 out of 100 (98.0%) tests passed\n"
     ]
    },
    {
     "name": "stderr",
     "output_type": "stream",
     "text": [
      "\n"
     ]
    }
   ],
   "source": [
    "num_tests = 100\n",
    "run_tests(num_tests)"
   ]
  },
  {
   "cell_type": "code",
   "execution_count": null,
   "id": "e23ecb13",
   "metadata": {},
   "outputs": [],
   "source": []
  }
 ],
 "metadata": {
  "kernelspec": {
   "display_name": "Python 3 (ipykernel)",
   "language": "python",
   "name": "python3"
  },
  "language_info": {
   "codemirror_mode": {
    "name": "ipython",
    "version": 3
   },
   "file_extension": ".py",
   "mimetype": "text/x-python",
   "name": "python",
   "nbconvert_exporter": "python",
   "pygments_lexer": "ipython3",
   "version": "3.10.9"
  }
 },
 "nbformat": 4,
 "nbformat_minor": 5
}
