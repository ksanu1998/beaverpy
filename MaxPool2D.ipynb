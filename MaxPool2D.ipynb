{
 "cells": [
  {
   "cell_type": "markdown",
   "id": "b20a6f8d",
   "metadata": {},
   "source": [
    "### `MaxPool2D` code"
   ]
  },
  {
   "cell_type": "code",
   "execution_count": 1,
   "id": "19182ede",
   "metadata": {},
   "outputs": [],
   "source": [
    "import numpy as np\n",
    "import torch # needed for tests\n",
    "from tqdm import tqdm # needed for tests"
   ]
  },
  {
   "cell_type": "code",
   "execution_count": 2,
   "id": "7ed1691b",
   "metadata": {},
   "outputs": [],
   "source": [
    "class MaxPool2D:\n",
    "    ''' Computes maxpool given the input parameters '''\n",
    "    \n",
    "    ''' * The class implementation will be along the lines of torch.nn.MaxPool2d in order to \n",
    "          enable comparison of this NumPy only implementation and seamless testing\n",
    "    '''\n",
    "    '''\n",
    "        TODO:\n",
    "        * Replace `torch.round()` with `np.allclose()` for tests\n",
    "        * Optimizing code\n",
    "    '''\n",
    "    \n",
    "    def __init__(\n",
    "        self, \n",
    "        kernel_size, \n",
    "        padding = (0, 0), \n",
    "        stride = (1, 1), \n",
    "        dilation = (1, 1), \n",
    "        verbose = False\n",
    "        ):\n",
    "        super(MaxPool2D, self).__init__()\n",
    "        \n",
    "        ''' mandatory parameters '''\n",
    "        if isinstance(kernel_size, tuple):\n",
    "            self.kernel_size = kernel_size\n",
    "        elif isinstance(kernel_size, int):\n",
    "            self.kernel_size = (kernel_size, kernel_size)\n",
    "        else:\n",
    "            raise Exception('invalid input parameters: kernel_size should either be an int or a tuple')\n",
    "        \n",
    "        ''' optional parameters '''\n",
    "        if isinstance(padding, str):\n",
    "            if padding == 'valid':\n",
    "                self.padding = (0, 0)\n",
    "            elif padding == 'same':\n",
    "                raise Exception(\"invalid input parameters: padding = 'same' not yet supported\")\n",
    "            else:\n",
    "                raise Exception('invalid input parameters: padding is not valid')\n",
    "        elif isinstance(padding, tuple):\n",
    "            if padding[0] >= 0 and padding[1] >= 0:\n",
    "                self.padding = padding\n",
    "            else:\n",
    "                raise Exception('invalid input parameters: padding is not valid')\n",
    "        elif isinstance(padding, int):\n",
    "            if padding >= 0:\n",
    "                self.padding = (padding, padding)\n",
    "            else:\n",
    "                raise Exception('invalid input parameters: padding is not valid')\n",
    "        else:\n",
    "            raise Exception('invalid input parametersL padding should be either an int or a tuple')\n",
    "        if isinstance(stride, tuple):\n",
    "            if stride[0] >= 1 and stride[1] >= 1:\n",
    "                self.stride = stride\n",
    "            else:\n",
    "                raise Exception('invalid input parameters: stride is not valid')\n",
    "        elif isinstance(stride, int):\n",
    "            if stride >= 1:\n",
    "                self.stride = (stride, stride)\n",
    "            else:\n",
    "                raise Exception('invalid input parameters: stride is not valid')\n",
    "        else:\n",
    "            raise Exception('invalid input parameters: stride should be either an int or a tuple')\n",
    "        if isinstance(dilation, tuple):\n",
    "            if dilation[0] >= 1 and dilation[1] >= 1:\n",
    "                self.dilation = dilation\n",
    "            else:\n",
    "                raise Exception('invalid input parameters: dilation is not valid')\n",
    "        elif isinstance(dilation, int):\n",
    "            if dilation >= 1:\n",
    "                self.dilation = (dilation, dilation)\n",
    "            else:\n",
    "                raise Exception('invalid input parameters: dilation is not valid')\n",
    "        else:\n",
    "            raise Exception('invalid input parameters: dilation should be either an int or a tuple')\n",
    "        \n",
    "        ''' optional parameters (dummy, yet to be implemented)'''\n",
    "        \n",
    "        \n",
    "        ''' additional parameters (different from torch.nn.Conv2D)'''\n",
    "        self.verbose = verbose\n",
    "        self.verboseprint = print if self.verbose else lambda *a, **k: None\n",
    "        self.verboseprint('*** parameters ***')\n",
    "        self.verboseprint('kernel_size: {}'.format(self.kernel_size))\n",
    "        self.verboseprint('padding: {}, stride: {}, dilation factor: {}'.format(self.padding, self.stride, self.dilation))\n",
    "        self.verboseprint('\\n')\n",
    "    \n",
    "    def forward(self, _input):\n",
    "        ''' forward pass to perform convolution '''\n",
    "        \n",
    "        ''' do error checking '''\n",
    "        _input_n, _input_c, _input_h, _input_w = _input.shape\n",
    "        if _input_h + 2 * self.padding[0] < self.dilation[0] * (self.kernel_size[0] - 1) + 1: # check if (dilated) ker_h is valid\n",
    "            raise Exception('invalid input parameters: kernel height is larger than input height')\n",
    "        if _input_w + 2 * self.padding[1] < self.dilation[1] * (self.kernel_size[1] - 1) + 1: # check if (dilated) ker_w is valid\n",
    "            raise Exception('invalid input parameters: kernel width is larger than input width')\n",
    "        if ((_input_h + 2 * self.padding[0] - (self.dilation[0] * (self.kernel_size[0] - 1) + 1)) / self.stride[0]) + 1 < 0: # check if out_h is valid\n",
    "            raise Exception('invalid input parameters: output height is negative')\n",
    "        if ((_input_w + 2 * self.padding[1] - (self.dilation[1] * (self.kernel_size[1] - 1) + 1)) / self.stride[1]) + 1 < 0: # check if out_w is valid\n",
    "            raise Exception('invalid input parameters: output width is negative')\n",
    "        if self.padding[0] > self.kernel_size[0] // 2: # as PyTorch mandates this\n",
    "            raise Exception('invalid input parameters: padding height is larger than half of kernel height')\n",
    "        if self.padding[1] > self.kernel_size[1] // 2: # as PyTorch mandates this\n",
    "            raise Exception('invalid input parameters: padding width is larger than half of kernel width')\n",
    "        \n",
    "        ''' add zero padding based on the input parameters '''\n",
    "        if self.padding != (0, 0):\n",
    "            _input = np.array([[np.pad(channel, ((self.padding[0], self.padding[0]), (self.padding[1], self.padding[1])), 'constant', constant_values = -np.inf) for channel in batch] for batch in _input])    \n",
    "            self.verboseprint('*** padded input image ***')\n",
    "            self.verboseprint('input batches: {}, input channels: {}, input height: {}, input weight: {}'.format(_input.shape[0], _input.shape[1], _input.shape[2], _input.shape[3]))\n",
    "            self.verboseprint(_input)\n",
    "            self.verboseprint('\\n')\n",
    "        \n",
    "        ''' dilate a kernel '''\n",
    "        dil_ker_h = self.dilation[0] * (self.kernel_size[0] - 1) + 1\n",
    "        dil_ker_w = self.dilation[1] * (self.kernel_size[1] - 1) + 1\n",
    "        self.kernel_size = (dil_ker_h, dil_ker_w)\n",
    "        self.verboseprint('*** dilated kernels ***')\n",
    "        self.verboseprint('dilation factor: {}, kernel channels: {}, kernel height: {}, kernel weight: {}'.format(self.dilation, int(_input_c), self.kernel_size[0], self.kernel_size[1]))\n",
    "        self.verboseprint('\\n')\n",
    "        \n",
    "        ''' compute output volume from the input and kernel parameters '''\n",
    "        _input_n, _input_c, _input_h, _input_w = _input.shape\n",
    "        out_n = int(_input_n)\n",
    "        out_c = int(_input_c)\n",
    "        out_h = int((_input_h - self.kernel_size[0]) / self.stride[0]) + 1\n",
    "        out_w = int((_input_w - self.kernel_size[1]) / self.stride[1]) + 1\n",
    "        output = np.zeros([out_n, out_c, out_h, out_w])\n",
    "        \n",
    "        ''' parse through every element of the output and compute the convolution value for that element '''\n",
    "        for b in range(out_n):\n",
    "            for k in range(out_c):\n",
    "                for h in range(out_h):\n",
    "                    for w in range(out_w):\n",
    "                        # convolve kernel over the input slices\n",
    "                        self.verboseprint('kernel indices, image indices')\n",
    "                        self.verboseprint('[n, c, h, w]', '[n, c, h, w]')\n",
    "                        convol_sum = -np.inf\n",
    "                        ker_h = self.kernel_size[0]\n",
    "                        ker_w = self.kernel_size[1]\n",
    "                        for h_ker in range(ker_h):\n",
    "                            for w_ker in range(ker_w):\n",
    "                                self.verboseprint([b, k, h_ker + self.stride[0] * h, w_ker + self.stride[1] * w])\n",
    "                                if _input[b][k][h_ker + self.stride[0] * h][w_ker + self.stride[1] * w] > convol_sum: # works for all 1 <= `groups` <= in_channels\n",
    "                                    convol_sum = _input[b][k][h_ker + self.stride[0] * h][w_ker + self.stride[1] * w]\n",
    "                        self.verboseprint('\\n')\n",
    "                        output[b, k, h, w] += convol_sum\n",
    "        self.verboseprint('*** MaxPool2D output ***')\n",
    "        output_shape = output.shape\n",
    "        self.verboseprint('output batches: {}, ouput channels: {}, output height: {}, output weight: {}'.format(output_shape[0], output_shape[1], output_shape[2], output_shape[3]))\n",
    "        assert((out_n, out_c, out_h, out_w) == output_shape)\n",
    "        self.verboseprint(output)\n",
    "        self.verboseprint('\\n')\n",
    "        return output"
   ]
  },
  {
   "cell_type": "markdown",
   "id": "7450ac24",
   "metadata": {},
   "source": [
    "### Standalone test (random kernel, random input)"
   ]
  },
  {
   "cell_type": "code",
   "execution_count": 3,
   "id": "a0377df6",
   "metadata": {},
   "outputs": [],
   "source": [
    "in_channels = 2 # input channels\n",
    "kernel_size = (2, 2) # kernel size\n",
    "\n",
    "padding = (0, 0) # padding (optional)\n",
    "stride = (2, 2) # stride (optional)\n",
    "dilation = (1, 1) # dilation factor (optional)\n",
    "\n",
    "in_batches = 1 # input batches\n",
    "in_h = 4 # input height\n",
    "in_w = 4 # input weight\n",
    "\n",
    "_input = np.random.rand(in_batches, in_channels, in_h, in_w) # define a random image based on the input parameters"
   ]
  },
  {
   "cell_type": "code",
   "execution_count": 4,
   "id": "29c79bef",
   "metadata": {},
   "outputs": [
    {
     "name": "stdout",
     "output_type": "stream",
     "text": [
      "*** MaxPool2D output ***\n",
      "[[[[0.97531315 0.97531315 0.98736302 0.98736302 0.9849193  0.9991104\n",
      "    0.98521671 0.97823002 0.97823002]\n",
      "   [0.97531315 0.97531315 0.98736302 0.98736302 0.98608482 0.9991104\n",
      "    0.98521671 0.97823002 0.97823002]\n",
      "   [0.9839269  0.97531315 0.98736302 0.98736302 0.98608482 0.9991104\n",
      "    0.98521671 0.99842113 0.99842113]\n",
      "   [0.9839269  0.98016109 0.98736302 0.98736302 0.98608482 0.98608482\n",
      "    0.98041436 0.99842113 0.99842113]\n",
      "   [0.9839269  0.98016109 0.98016109 0.95893345 0.95893345 0.9186637\n",
      "    0.9560461  0.99842113 0.99842113]\n",
      "   [0.99113498 0.99113498 0.98016109 0.95893345 0.95893345 0.93390951\n",
      "    0.9560461  0.99842113 0.99842113]\n",
      "   [0.99113498 0.99657488 0.99657488 0.99094851 0.99094851 0.93390951\n",
      "    0.93366799 0.93366799 0.92043122]\n",
      "   [0.99113498 0.99941284 0.99657488 0.99094851 0.99094851 0.93390951\n",
      "    0.93366799 0.93366799 0.9325343 ]\n",
      "   [0.99113498 0.99941284 0.99657488 0.99094851 0.99094851 0.93390951\n",
      "    0.93366799 0.93366799 0.9325343 ]]\n",
      "\n",
      "  [[0.99010567 0.99010567 0.96548292 0.98600837 0.98221525 0.98221525\n",
      "    0.96295613 0.97705345 0.95533866]\n",
      "   [0.99889663 0.99010567 0.96548292 0.98600837 0.98221525 0.98221525\n",
      "    0.98013854 0.97705345 0.95533866]\n",
      "   [0.99889663 0.99010567 0.96548292 0.99870992 0.99870992 0.97415189\n",
      "    0.98013854 0.97705345 0.9773728 ]\n",
      "   [0.99889663 0.96728852 0.94538511 0.99870992 0.99870992 0.97415189\n",
      "    0.98013854 0.94972956 0.9773728 ]\n",
      "   [0.86384769 0.88405379 0.93237853 0.99870992 0.99870992 0.991683\n",
      "    0.991683   0.94972956 0.9773728 ]\n",
      "   [0.86384769 0.96779616 0.98370833 0.9992265  0.9992265  0.991683\n",
      "    0.991683   0.99869569 0.99869569]\n",
      "   [0.9051881  0.96779616 0.98370833 0.9992265  0.9992265  0.991683\n",
      "    0.991683   0.99869569 0.99869569]\n",
      "   [0.92161397 0.96779616 0.98370833 0.9992265  0.9992265  0.98019317\n",
      "    0.98979649 0.99869569 0.99869569]\n",
      "   [0.92161397 0.96779616 0.96779616 0.9839135  0.97085641 0.98019317\n",
      "    0.98979649 0.99869569 0.99869569]]\n",
      "\n",
      "  [[0.99364835 0.99364835 0.98086983 0.98699346 0.97910988 0.97910988\n",
      "    0.97427856 0.99493552 0.99493552]\n",
      "   [0.99364835 0.998328   0.98086983 0.98699346 0.97910988 0.97910988\n",
      "    0.97427856 0.99493552 0.99493552]\n",
      "   [0.99364835 0.998328   0.98086983 0.97900185 0.94164136 0.94695289\n",
      "    0.97427856 0.99493552 0.99493552]\n",
      "   [0.97986298 0.998328   0.98249058 0.98249058 0.94164136 0.9839033\n",
      "    0.97013794 0.9937106  0.9937106 ]\n",
      "   [0.97986298 0.97690465 0.98249058 0.98249058 0.94164136 0.9839033\n",
      "    0.98322108 0.9937106  0.99564354]\n",
      "   [0.98773699 0.97690465 0.98249058 0.98249058 0.98268504 0.9839033\n",
      "    0.99248187 0.99248187 0.99564354]\n",
      "   [0.98773699 0.97635238 0.97258596 0.9749938  0.98268504 0.98322108\n",
      "    0.99248187 0.99248187 0.99670025]\n",
      "   [0.98773699 0.97635238 0.97258596 0.9749938  0.98268504 0.98268504\n",
      "    0.99248187 0.99248187 0.99670025]\n",
      "   [0.98773699 0.97635238 0.95745749 0.95745749 0.90294476 0.97119671\n",
      "    0.99248187 0.99248187 0.99670025]]\n",
      "\n",
      "  [[0.97744178 0.97744178 0.9953826  0.99984315 0.96885841 0.98652334\n",
      "    0.98652334 0.97739675 0.95376787]\n",
      "   [0.97744178 0.97744178 0.9953826  0.99984315 0.99996052 0.99996052\n",
      "    0.98652334 0.97739675 0.96847219]\n",
      "   [0.97744178 0.97744178 0.99517979 0.98162229 0.99996052 0.99996052\n",
      "    0.98652334 0.98178052 0.98041158]\n",
      "   [0.97744178 0.97744178 0.99517979 0.98162229 0.99996052 0.99996052\n",
      "    0.99266593 0.98178052 0.98041158]\n",
      "   [0.87804952 0.96790643 0.99517979 0.98162229 0.99829415 0.99829415\n",
      "    0.99645838 0.99808869 0.99808869]\n",
      "   [0.9903157  0.962205   0.98162229 0.98162229 0.99829415 0.99829415\n",
      "    0.99645838 0.99808869 0.99808869]\n",
      "   [0.9903157  0.962205   0.95862529 0.96407668 0.99829415 0.99829415\n",
      "    0.99645838 0.99808869 0.99808869]\n",
      "   [0.9903157  0.99270341 0.99270341 0.96407668 0.96129551 0.98168127\n",
      "    0.98940201 0.99808869 0.99808869]\n",
      "   [0.9903157  0.99270341 0.99270341 0.96407668 0.96129551 0.97533034\n",
      "    0.98940201 0.98940201 0.96287422]]\n",
      "\n",
      "  [[0.95830836 0.94300771 0.94396539 0.94396539 0.91191101 0.98162775\n",
      "    0.98162775 0.9149908  0.94053152]\n",
      "   [0.98694957 0.97115737 0.98292881 0.98761893 0.98761893 0.98162775\n",
      "    0.98162775 0.9149908  0.94053152]\n",
      "   [0.98694957 0.97989765 0.98542923 0.98761893 0.98761893 0.98162775\n",
      "    0.98162775 0.9939131  0.9939131 ]\n",
      "   [0.99943496 0.97989765 0.98542923 0.98761893 0.98761893 0.93716084\n",
      "    0.95444711 0.9939131  0.9939131 ]\n",
      "   [0.99943496 0.98297999 0.98542923 0.98542923 0.94571485 0.93716084\n",
      "    0.95444711 0.9939131  0.9939131 ]\n",
      "   [0.99943496 0.9888355  0.98542923 0.98542923 0.94571485 0.95082648\n",
      "    0.99034402 0.9939131  0.9939131 ]\n",
      "   [0.99899986 0.9888355  0.95691877 0.92283831 0.93077773 0.95082648\n",
      "    0.99034402 0.99034402 0.98276757]\n",
      "   [0.99899986 0.9888355  0.95691877 0.92283831 0.93077773 0.95082648\n",
      "    0.99034402 0.99034402 0.98276757]\n",
      "   [0.99899986 0.98201861 0.95691877 0.92283831 0.93077773 0.93355453\n",
      "    0.99034402 0.99034402 0.98276757]]\n",
      "\n",
      "  [[0.97981153 0.97983965 0.97964853 0.98578568 0.99215922 0.99681786\n",
      "    0.97971288 0.98512613 0.98512613]\n",
      "   [0.97981153 0.99195346 0.99195346 0.98578568 0.99215922 0.99681786\n",
      "    0.99184264 0.98512613 0.98512613]\n",
      "   [0.9934926  0.99195346 0.99195346 0.99724306 0.99215922 0.99215922\n",
      "    0.99184264 0.98512613 0.98512613]\n",
      "   [0.9934926  0.99195346 0.99195346 0.99724306 0.99122613 0.99184264\n",
      "    0.99334429 0.99334429 0.97677172]\n",
      "   [0.9934926  0.99195346 0.99773777 0.99724306 0.98956282 0.96926616\n",
      "    0.99334429 0.99334429 0.99811931]\n",
      "   [0.9934926  0.98953529 0.99773777 0.99724306 0.98956282 0.97778436\n",
      "    0.99334429 0.99334429 0.99811931]\n",
      "   [0.9160708  0.99354712 0.99773777 0.99564608 0.98956282 0.98311599\n",
      "    0.98311599 0.97677172 0.99811931]\n",
      "   [0.99197292 0.99354712 0.99773777 0.99564608 0.95395688 0.98311599\n",
      "    0.98311599 0.97671819 0.99811931]\n",
      "   [0.99197292 0.99354712 0.9910102  0.99564608 0.95395688 0.98311599\n",
      "    0.98311599 0.97671819 0.95382394]]\n",
      "\n",
      "  [[0.9671908  0.9671908  0.98641122 0.98641122 0.99865605 0.99865605\n",
      "    0.99072433 0.99601329 0.98935552]\n",
      "   [0.9671908  0.9671908  0.98641122 0.98961298 0.99865605 0.99865605\n",
      "    0.99072433 0.99601329 0.98935552]\n",
      "   [0.97042887 0.97042887 0.98641122 0.98961298 0.99865605 0.99865605\n",
      "    0.96909502 0.99601329 0.98935552]\n",
      "   [0.97042887 0.97042887 0.96798507 0.98961298 0.99865605 0.99865605\n",
      "    0.97327636 0.9804834  0.98935552]\n",
      "   [0.97042887 0.97098666 0.97165797 0.98524551 0.98524551 0.91729192\n",
      "    0.99775921 0.99775921 0.98359845]\n",
      "   [0.99608153 0.99608153 0.97165797 0.97165797 0.96511345 0.942956\n",
      "    0.99775921 0.99775921 0.98359845]\n",
      "   [0.99608153 0.99608153 0.97165797 0.97165797 0.96511345 0.942956\n",
      "    0.99775921 0.99775921 0.98889393]\n",
      "   [0.99608153 0.99608153 0.97165797 0.97165797 0.96375608 0.942956\n",
      "    0.99775921 0.99775921 0.98889393]\n",
      "   [0.99608153 0.99608153 0.90781699 0.96635003 0.96375608 0.942956\n",
      "    0.94437949 0.97691553 0.98889393]]\n",
      "\n",
      "  [[0.94968253 0.98100443 0.99493163 0.99493163 0.95856972 0.95856972\n",
      "    0.95812952 0.99547783 0.99547783]\n",
      "   [0.97059156 0.99836528 0.99493163 0.99493163 0.994743   0.994743\n",
      "    0.95812952 0.99547783 0.99671513]\n",
      "   [0.98259958 0.99836528 0.99493163 0.99493163 0.994743   0.994743\n",
      "    0.97481967 0.95812952 0.99671513]\n",
      "   [0.98259958 0.99836528 0.99493163 0.99493163 0.994743   0.994743\n",
      "    0.97481967 0.91211895 0.99671513]\n",
      "   [0.98724982 0.99836528 0.98256168 0.98256168 0.98481502 0.95812802\n",
      "    0.97481967 0.9304993  0.94312336]\n",
      "   [0.99153874 0.95363175 0.98256168 0.98256168 0.98481502 0.95012811\n",
      "    0.97481967 0.96986234 0.99076541]\n",
      "   [0.99153874 0.95363175 0.98256168 0.98256168 0.98481502 0.95012811\n",
      "    0.9974491  0.99529501 0.99529501]\n",
      "   [0.99153874 0.95363175 0.98719221 0.99148281 0.95368618 0.95368618\n",
      "    0.9974491  0.99529501 0.99529501]\n",
      "   [0.99153874 0.95363175 0.98719221 0.99148281 0.95368618 0.95368618\n",
      "    0.9974491  0.99529501 0.99529501]]\n",
      "\n",
      "  [[0.91927116 0.93655075 0.95433538 0.99714441 0.99714441 0.99470275\n",
      "    0.97699761 0.97699761 0.9914767 ]\n",
      "   [0.91927116 0.97427816 0.97427816 0.99714441 0.99714441 0.99470275\n",
      "    0.98223941 0.99523021 0.99523021]\n",
      "   [0.94309657 0.99759325 0.99759325 0.99714441 0.99714441 0.99470275\n",
      "    0.98223941 0.99523021 0.99523021]\n",
      "   [0.97052591 0.99759325 0.99759325 0.99714441 0.99714441 0.99666396\n",
      "    0.99666396 0.99523021 0.99523021]\n",
      "   [0.97052591 0.99759325 0.99759325 0.99286781 0.99286781 0.99862764\n",
      "    0.99862764 0.98316218 0.98316218]\n",
      "   [0.97052591 0.97052591 0.96956765 0.99286781 0.99286781 0.99862764\n",
      "    0.99862764 0.98316218 0.98316218]\n",
      "   [0.95898071 0.95898071 0.96791462 0.99683983 0.99683983 0.99862764\n",
      "    0.99862764 0.98316218 0.98574594]\n",
      "   [0.97301733 0.94024475 0.98935567 0.99683983 0.99683983 0.96825381\n",
      "    0.99382183 0.96904663 0.98574594]\n",
      "   [0.97301733 0.94024475 0.98935567 0.99683983 0.99683983 0.96825381\n",
      "    0.99382183 0.96904663 0.98574594]]\n",
      "\n",
      "  [[0.93092668 0.93640629 0.95873156 0.99251912 0.99251912 0.99957824\n",
      "    0.94759012 0.97203675 0.99735735]\n",
      "   [0.94431657 0.93640629 0.95873156 0.99251912 0.99251912 0.99957824\n",
      "    0.94759012 0.97203675 0.99735735]\n",
      "   [0.97690537 0.97690537 0.95873156 0.99251912 0.99389835 0.99957824\n",
      "    0.99475799 0.99042956 0.99735735]\n",
      "   [0.97690537 0.97690537 0.95873156 0.99251912 0.99389835 0.99475799\n",
      "    0.99475799 0.99435615 0.99478653]\n",
      "   [0.98127324 0.97690537 0.95796717 0.95796717 0.99389835 0.99475799\n",
      "    0.99475799 0.99435615 0.92694826]\n",
      "   [0.98127324 0.97690537 0.95796717 0.97294837 0.99389835 0.99475799\n",
      "    0.99475799 0.99435615 0.96204401]\n",
      "   [0.98127324 0.9410295  0.9410295  0.97294837 0.97294837 0.93287815\n",
      "    0.99435615 0.99435615 0.96204401]\n",
      "   [0.98127324 0.99843296 0.96137849 0.97968847 0.99551421 0.95789331\n",
      "    0.95789331 0.92694826 0.99866016]\n",
      "   [0.9742394  0.99843296 0.96137849 0.97968847 0.99551421 0.95789331\n",
      "    0.95789331 0.91583259 0.99866016]]]]\n"
     ]
    }
   ],
   "source": [
    "# get MaxPool2D output with the random inputs\n",
    "\n",
    "maxpool2d = MaxPool2D(kernel_size, stride = stride, padding = padding, dilation = dilation) # call an instance of the class with the input parameters \n",
    "_output = maxpool2d.forward(_input) # perform convolution\n",
    "print(\"*** MaxPool2D output ***\")\n",
    "print(_output)"
   ]
  },
  {
   "cell_type": "code",
   "execution_count": 5,
   "id": "df346af0",
   "metadata": {
    "scrolled": true
   },
   "outputs": [
    {
     "name": "stdout",
     "output_type": "stream",
     "text": [
      "*** PyTorch output ***\n",
      "tensor([[[[0.9753, 0.8690, 0.9874, 0.9363, 0.9849, 0.9852, 0.9705, 0.9521,\n",
      "           0.7587],\n",
      "          [0.9615, 0.9601, 0.9119, 0.9259, 0.9861, 0.9804, 0.9236, 0.9782,\n",
      "           0.9560],\n",
      "          [0.9753, 0.8690, 0.9874, 0.9363, 0.9297, 0.9852, 0.8018, 0.9521,\n",
      "           0.9984],\n",
      "          [0.8824, 0.9802, 0.9446, 0.9589, 0.9861, 0.9804, 0.9560, 0.9782,\n",
      "           0.9669],\n",
      "          [0.9382, 0.8244, 0.8834, 0.7669, 0.9297, 0.8841, 0.7718, 0.9146,\n",
      "           0.9984],\n",
      "          [0.8118, 0.9911, 0.9446, 0.9589, 0.8360, 0.9339, 0.9560, 0.8849,\n",
      "           0.9669],\n",
      "          [0.9382, 0.9966, 0.8064, 0.9284, 0.9909, 0.8841, 0.9337, 0.8839,\n",
      "           0.9111],\n",
      "          [0.9831, 0.9911, 0.9108, 0.8175, 0.7419, 0.9339, 0.8838, 0.9173,\n",
      "           0.8331],\n",
      "          [0.6918, 0.9966, 0.7075, 0.9578, 0.9909, 0.7370, 0.9337, 0.8839,\n",
      "           0.8485]],\n",
      "\n",
      "         [[0.7960, 0.9901, 0.9655, 0.5994, 0.6637, 0.8431, 0.9523, 0.9630,\n",
      "           0.9311],\n",
      "          [0.8734, 0.9454, 0.8030, 0.8260, 0.9692, 0.9822, 0.8623, 0.8948,\n",
      "           0.9553],\n",
      "          [0.7618, 0.9901, 0.9655, 0.9945, 0.9987, 0.8431, 0.9523, 0.9630,\n",
      "           0.8202],\n",
      "          [0.8734, 0.9454, 0.8030, 0.9324, 0.9692, 0.9554, 0.9297, 0.8517,\n",
      "           0.7683],\n",
      "          [0.7358, 0.7600, 0.9126, 0.9945, 0.9987, 0.9917, 0.8895, 0.9009,\n",
      "           0.9159],\n",
      "          [0.6966, 0.8638, 0.7922, 0.9324, 0.9992, 0.9780, 0.9297, 0.7315,\n",
      "           0.7922],\n",
      "          [0.7358, 0.8170, 0.9678, 0.8921, 0.8918, 0.9917, 0.9898, 0.9987,\n",
      "           0.9264],\n",
      "          [0.8137, 0.8490, 0.9462, 0.9595, 0.9992, 0.9780, 0.9477, 0.8111,\n",
      "           0.9959],\n",
      "          [0.6908, 0.8170, 0.9678, 0.8921, 0.8918, 0.7941, 0.9898, 0.9987,\n",
      "           0.9264]],\n",
      "\n",
      "         [[0.9936, 0.7340, 0.8864, 0.9589, 0.9205, 0.8477, 0.9056, 0.9743,\n",
      "           0.9949],\n",
      "          [0.5720, 0.9690, 0.9325, 0.8044, 0.9149, 0.9791, 0.9470, 0.9290,\n",
      "           0.9187],\n",
      "          [0.9936, 0.9169, 0.9066, 0.9589, 0.9416, 0.9431, 0.8380, 0.9937,\n",
      "           0.9949],\n",
      "          [0.8139, 0.9690, 0.9825, 0.9626, 0.8751, 0.8671, 0.9470, 0.9701,\n",
      "           0.9206],\n",
      "          [0.8019, 0.9573, 0.9066, 0.9726, 0.9416, 0.9431, 0.9832, 0.9937,\n",
      "           0.9680],\n",
      "          [0.9747, 0.9283, 0.9825, 0.9626, 0.9827, 0.9701, 0.9712, 0.9701,\n",
      "           0.9829],\n",
      "          [0.5158, 0.9764, 0.8556, 0.9726, 0.9309, 0.6843, 0.9925, 0.9664,\n",
      "           0.9478],\n",
      "          [0.9747, 0.7830, 0.9633, 0.9575, 0.9827, 0.9701, 0.9712, 0.9646,\n",
      "           0.9859],\n",
      "          [0.6061, 0.9764, 0.8556, 0.6301, 0.8895, 0.7842, 0.9925, 0.9664,\n",
      "           0.9478]],\n",
      "\n",
      "         [[0.9774, 0.7948, 0.8425, 0.9954, 0.9122, 0.6501, 0.9865, 0.9538,\n",
      "           0.8246],\n",
      "          [0.9322, 0.9215, 0.9679, 0.9568, 0.9652, 1.0000, 0.9774, 0.9038,\n",
      "           0.9685],\n",
      "          [0.9774, 0.7948, 0.9816, 0.9347, 0.9540, 0.9136, 0.9865, 0.8584,\n",
      "           0.9707],\n",
      "          [0.8738, 0.9028, 0.9679, 0.9421, 0.9983, 1.0000, 0.9573, 0.9818,\n",
      "           0.9685],\n",
      "          [0.7102, 0.7750, 0.9816, 0.9288, 0.9540, 0.9965, 0.9079, 0.9981,\n",
      "           0.9707],\n",
      "          [0.5378, 0.9622, 0.9586, 0.9421, 0.9983, 0.9927, 0.9817, 0.9818,\n",
      "           0.9657],\n",
      "          [0.7102, 0.5837, 0.4881, 0.9288, 0.9433, 0.9965, 0.9894, 0.9981,\n",
      "           0.8968],\n",
      "          [0.9548, 0.9622, 0.9927, 0.9179, 0.8836, 0.9218, 0.9817, 0.9361,\n",
      "           0.9657],\n",
      "          [0.4710, 0.8385, 0.5156, 0.9114, 0.8306, 0.8571, 0.9894, 0.9221,\n",
      "           0.8968]],\n",
      "\n",
      "         [[0.3863, 0.8979, 0.9430, 0.7833, 0.6662, 0.9467, 0.8150, 0.7522,\n",
      "           0.8867],\n",
      "          [0.9712, 0.8136, 0.9829, 0.8952, 0.9876, 0.9816, 0.9026, 0.8373,\n",
      "           0.9405],\n",
      "          [0.8943, 0.9654, 0.9430, 0.7833, 0.6310, 0.9467, 0.8150, 0.9544,\n",
      "           0.8867],\n",
      "          [0.9712, 0.6483, 0.9829, 0.9854, 0.9876, 0.9372, 0.9307, 0.8550,\n",
      "           0.9939],\n",
      "          [0.8943, 0.9654, 0.8500, 0.6406, 0.8809, 0.8228, 0.8223, 0.9544,\n",
      "           0.8490],\n",
      "          [0.7231, 0.9888, 0.9174, 0.9854, 0.9457, 0.8962, 0.9508, 0.9903,\n",
      "           0.9939],\n",
      "          [0.9201, 0.9757, 0.9569, 0.9228, 0.9308, 0.9286, 0.8282, 0.9624,\n",
      "           0.8490],\n",
      "          [0.8947, 0.9888, 0.8807, 0.7944, 0.8867, 0.7870, 0.9508, 0.9903,\n",
      "           0.9537],\n",
      "          [0.9390, 0.9757, 0.9569, 0.9228, 0.9308, 0.9286, 0.8282, 0.9624,\n",
      "           0.8090]],\n",
      "\n",
      "         [[0.7904, 0.9211, 0.9701, 0.9390, 0.9922, 0.9546, 0.9336, 0.9797,\n",
      "           0.5771],\n",
      "          [0.9479, 0.9798, 0.9796, 0.9858, 0.9544, 0.9918, 0.9629, 0.9206,\n",
      "           0.9851],\n",
      "          [0.9755, 0.9211, 0.9920, 0.9390, 0.9922, 0.9546, 0.9336, 0.9797,\n",
      "           0.9397],\n",
      "          [0.8974, 0.9735, 0.9483, 0.9858, 0.9896, 0.9918, 0.9933, 0.9607,\n",
      "           0.8282],\n",
      "          [0.9755, 0.9895, 0.9920, 0.9199, 0.9289, 0.8711, 0.7767, 0.9517,\n",
      "           0.9768],\n",
      "          [0.8723, 0.8930, 0.9483, 0.9282, 0.9896, 0.9540, 0.9933, 0.9607,\n",
      "           0.8711],\n",
      "          [0.6591, 0.9910, 0.9130, 0.9082, 0.8841, 0.8996, 0.9831, 0.9418,\n",
      "           0.9768],\n",
      "          [0.8723, 0.9019, 0.9893, 0.8745, 0.8601, 0.9540, 0.8598, 0.9767,\n",
      "           0.8711],\n",
      "          [0.7836, 0.9910, 0.9014, 0.8946, 0.8841, 0.8996, 0.9831, 0.6098,\n",
      "           0.9361]],\n",
      "\n",
      "         [[0.9535, 0.9672, 0.7641, 0.9864, 0.9484, 0.9024, 0.9907, 0.9316,\n",
      "           0.8750],\n",
      "          [0.9514, 0.9474, 0.6723, 0.9896, 0.9987, 0.9654, 0.8343, 0.9146,\n",
      "           0.9742],\n",
      "          [0.9535, 0.9704, 0.8422, 0.9864, 0.9484, 0.9173, 0.9218, 0.9316,\n",
      "           0.9805],\n",
      "          [0.5193, 0.9515, 0.8987, 0.9896, 0.9987, 0.8002, 0.9098, 0.9078,\n",
      "           0.9742],\n",
      "          [0.7652, 0.9704, 0.9717, 0.9852, 0.8997, 0.9173, 0.9218, 0.9825,\n",
      "           0.9805],\n",
      "          [0.5791, 0.9961, 0.9415, 0.8710, 0.9651, 0.8002, 0.9098, 0.9978,\n",
      "           0.8162],\n",
      "          [0.8404, 0.6718, 0.9717, 0.9174, 0.9124, 0.9430, 0.9403, 0.9825,\n",
      "           0.9889],\n",
      "          [0.7170, 0.9961, 0.9415, 0.9638, 0.9503, 0.8592, 0.9270, 0.9978,\n",
      "           0.8132],\n",
      "          [0.8858, 0.6162, 0.8843, 0.8387, 0.9124, 0.9430, 0.9403, 0.8992,\n",
      "           0.9889]],\n",
      "\n",
      "         [[0.8394, 0.9485, 0.8733, 0.8774, 0.8402, 0.9586, 0.9581, 0.8784,\n",
      "           0.9638],\n",
      "          [0.8373, 0.9810, 0.9949, 0.9179, 0.8305, 0.9947, 0.9581, 0.8745,\n",
      "           0.9955],\n",
      "          [0.9208, 0.9485, 0.9419, 0.9180, 0.9753, 0.9586, 0.9581, 0.8784,\n",
      "           0.9638],\n",
      "          [0.9363, 0.9726, 0.9949, 0.9729, 0.8914, 0.9947, 0.9581, 0.8482,\n",
      "           0.6895],\n",
      "          [0.9208, 0.7727, 0.9520, 0.9180, 0.9753, 0.7544, 0.8946, 0.8405,\n",
      "           0.6532],\n",
      "          [0.9363, 0.9536, 0.8498, 0.9826, 0.8914, 0.7916, 0.8606, 0.9699,\n",
      "           0.9131],\n",
      "          [0.8373, 0.7727, 0.9520, 0.8965, 0.8036, 0.7158, 0.8946, 0.9953,\n",
      "           0.9908],\n",
      "          [0.6944, 0.9536, 0.9872, 0.9826, 0.8724, 0.9537, 0.9509, 0.9699,\n",
      "           0.9404],\n",
      "          [0.6735, 0.6925, 0.6153, 0.8436, 0.8913, 0.7353, 0.9472, 0.9953,\n",
      "           0.9908]],\n",
      "\n",
      "         [[0.6456, 0.9366, 0.8740, 0.8689, 0.7282, 0.8457, 0.9108, 0.9770,\n",
      "           0.9225],\n",
      "          [0.8104, 0.9193, 0.9595, 0.9912, 0.9971, 0.9768, 0.9822, 0.9952,\n",
      "           0.9520],\n",
      "          [0.6976, 0.9976, 0.9743, 0.9486, 0.8979, 0.9709, 0.9108, 0.9770,\n",
      "           0.9225],\n",
      "          [0.9705, 0.9590, 0.9595, 0.8200, 0.9971, 0.9967, 0.9822, 0.9952,\n",
      "           0.9520],\n",
      "          [0.9058, 0.9976, 0.9743, 0.9486, 0.8979, 0.9709, 0.9986, 0.9832,\n",
      "           0.9504],\n",
      "          [0.9705, 0.9590, 0.7478, 0.8200, 0.9929, 0.9967, 0.9659, 0.7934,\n",
      "           0.9614],\n",
      "          [0.9058, 0.9048, 0.9679, 0.9026, 0.8520, 0.9683, 0.9986, 0.9832,\n",
      "           0.9504],\n",
      "          [0.7775, 0.9190, 0.7984, 0.9968, 0.9783, 0.8459, 0.8942, 0.7934,\n",
      "           0.9614],\n",
      "          [0.6431, 0.9048, 0.9894, 0.8434, 0.8520, 0.9683, 0.9319, 0.9690,\n",
      "           0.6616]],\n",
      "\n",
      "         [[0.9309, 0.7497, 0.9587, 0.9925, 0.8866, 0.9459, 0.8298, 0.9720,\n",
      "           0.5020],\n",
      "          [0.9170, 0.7217, 0.8611, 0.9808, 0.9597, 0.6960, 0.9476, 0.7859,\n",
      "           0.9948],\n",
      "          [0.9309, 0.9769, 0.9587, 0.9925, 0.8866, 0.9706, 0.8491, 0.9904,\n",
      "           0.7025],\n",
      "          [0.8714, 0.8952, 0.9061, 0.9808, 0.9329, 0.8286, 0.9948, 0.9247,\n",
      "           0.9948],\n",
      "          [0.9114, 0.9769, 0.7912, 0.9029, 0.8082, 0.9706, 0.9199, 0.9944,\n",
      "           0.9269],\n",
      "          [0.8714, 0.9410, 0.9061, 0.9729, 0.9329, 0.8535, 0.9948, 0.9247,\n",
      "           0.9620],\n",
      "          [0.9114, 0.8381, 0.7640, 0.9220, 0.9322, 0.8576, 0.9199, 0.9944,\n",
      "           0.9269],\n",
      "          [0.9323, 0.9709, 0.9614, 0.9797, 0.8711, 0.9347, 0.9579, 0.7760,\n",
      "           0.9620],\n",
      "          [0.9051, 0.8306, 0.7062, 0.9220, 0.9473, 0.8281, 0.8301, 0.8732,\n",
      "           0.8995]]]], dtype=torch.float64)\n"
     ]
    }
   ],
   "source": [
    "# get PyTorch output with the same random inputs as above\n",
    "\n",
    "x = torch.DoubleTensor(_input)\n",
    "m = torch.nn.MaxPool2d(kernel_size, stride = stride, padding = padding, dilation = dilation)\n",
    "output = m(x)\n",
    "print(\"*** PyTorch output ***\")\n",
    "print(output)"
   ]
  },
  {
   "cell_type": "code",
   "execution_count": 6,
   "id": "d8e5a3f5",
   "metadata": {
    "scrolled": true
   },
   "outputs": [
    {
     "name": "stdout",
     "output_type": "stream",
     "text": [
      "False\n"
     ]
    }
   ],
   "source": [
    "# compare outputs of Conv2D and PyTorch\n",
    "print(torch.equal(torch.round(torch.DoubleTensor(_output)), torch.round(output))) # need to round the output due to precision difference"
   ]
  },
  {
   "cell_type": "markdown",
   "id": "c87813f3",
   "metadata": {},
   "source": [
    "### Extensive tests (random kernel, random input)"
   ]
  },
  {
   "cell_type": "code",
   "execution_count": 7,
   "id": "8b986f3c",
   "metadata": {},
   "outputs": [],
   "source": [
    "def valid_params(num_tests):\n",
    "    ''' generates `num_tests` number of valid input and kernel parameters '''\n",
    "    np.random.seed(1729)\n",
    "    params_list = []\n",
    "    sample_count = 0\n",
    "    while sample_count < num_tests:\n",
    "        in_channels = np.random.randint(20) + 1 # input channels\n",
    "        \n",
    "        kernel_h = np.random.randint(20) + 1\n",
    "        kernel_w = np.random.randint(20) + 1\n",
    "        kernel_size = (kernel_h, kernel_w) # kernel size\n",
    "        \n",
    "        padding_h = np.random.randint(10) + 1\n",
    "        padding_w = np.random.randint(10) + 1\n",
    "        padding = (padding_h, padding_w) # padding (optional)\n",
    "        stride_h = np.random.randint(5) + 1\n",
    "        stride_w = np.random.randint(5) + 1\n",
    "        stride = (stride_h, stride_w) # stride (optional)\n",
    "        dilation_h = np.random.randint(10) + 1\n",
    "        dilation_w = np.random.randint(10) + 1\n",
    "        dilation = (dilation_h, dilation_w) # dilation factor (optional)\n",
    "        \n",
    "        in_batches = np.random.randint(5) + 1 # input batches\n",
    "        in_h = np.random.randint(30) + 5 # input height\n",
    "        in_w = np.random.randint(30) + 5 # input weight\n",
    "    \n",
    "        ker_h_flag, ker_w_flag, out_h_flag, out_w_flag, pad_h_flag, pad_w_flag = True, True, True, True, True, True\n",
    "        \n",
    "        if in_h + 2 * padding_h < dilation_h * (kernel_h - 1) + 1: # check if (dilated) ker_h is valid\n",
    "            ker_h_flag = False\n",
    "        if in_w + 2 * padding_w < dilation_w * (kernel_w - 1) + 1: # check if (dilated) ker_w is valid\n",
    "            ker_w_flag = False\n",
    "        if ((in_h + 2 * padding_h - (dilation_h * (kernel_h - 1) + 1)) / stride_h) + 1 < 0: # check if out_h is valid\n",
    "            out_h_flag = False\n",
    "        if ((in_w + 2 * padding_w - (dilation_w * (kernel_w - 1) + 1)) / stride_w) + 1 < 0: # check if out_w is valid\n",
    "            out_w_flag = False\n",
    "        if padding_h > kernel_h // 2: # as PyTorch mandates this\n",
    "            pad_h_flag = False\n",
    "        if padding_w > kernel_w // 2: # as PyTorch mandates this\n",
    "            pad_w_flag = False\n",
    "    \n",
    "        if ker_h_flag and ker_w_flag and out_h_flag and out_w_flag and pad_h_flag and pad_w_flag:\n",
    "            params_list.append({'in_channels': in_channels, 'kernel_size': kernel_size,\n",
    "                          'padding': padding, 'stride': stride, 'dilation': dilation, 'in_batches': in_batches,\n",
    "                          'in_h': in_h, 'in_w': in_w})\n",
    "            sample_count += 1\n",
    "    return params_list"
   ]
  },
  {
   "cell_type": "code",
   "execution_count": 8,
   "id": "472a4c0f",
   "metadata": {
    "scrolled": true
   },
   "outputs": [],
   "source": [
    "def run_tests(num_tests):\n",
    "    ''' sweep different input parameters and test by comparing outputs of Conv2D and PyTorch '''\n",
    "    \n",
    "    num_passed = 0\n",
    "    params_list = valid_params(num_tests)\n",
    "    print('Number of tests: {}\\n\\n'.format(len(params_list)))\n",
    "\n",
    "    for i, params in enumerate(tqdm(params_list)):\n",
    "        print('Test: {}\\nParams: {}'.format(i, params))\n",
    "        in_channels = params['in_channels'] # input channels\n",
    "        # out_channels = params['out_channels'] # output channels\n",
    "        kernel_size = params['kernel_size'] # kernel size\n",
    "\n",
    "        padding = params['padding'] # padding (optional)\n",
    "        stride = params['stride'] # stride (optional)\n",
    "        dilation = params['dilation'] # dilation factor (optional)\n",
    "        # groups = params['groups'] # groups (optional)\n",
    "\n",
    "        in_batches = params['in_batches'] # input batches\n",
    "        in_h = params['in_h'] # input height\n",
    "        in_w = params['in_w'] # input weight\n",
    "\n",
    "        _input = np.random.rand(in_batches, in_channels, in_h, in_w) # define a random image based on the input parameters\n",
    "        # kernels = []\n",
    "        # for k in range(out_channels):\n",
    "            # kernel = np.random.rand(int(in_channels / groups), kernel_size[0], kernel_size[1]) # define a random kernel based on the kernel parameters\n",
    "            # kernels.append(kernel)\n",
    "\n",
    "        try:\n",
    "            # get MaxPool2D output with the random inputs\n",
    "            maxpool2d = MaxPool2D(kernel_size, stride = stride, padding = padding, dilation = dilation) # call an instance of the class with the input parameters \n",
    "            _output = maxpool2d.forward(_input) # perform convolution\n",
    "\n",
    "            # get PyTorch output with the same random inputs as above\n",
    "            x = torch.DoubleTensor(_input)\n",
    "            m = torch.nn.MaxPool2d(kernel_size, stride = stride, padding = padding, dilation = dilation)\n",
    "            output = m(x)\n",
    "\n",
    "        except Exception as e:\n",
    "            print(e)\n",
    "            print('Result: False\\n\\n') # treating exception as a failed test\n",
    "            continue\n",
    "\n",
    "        # compare outputs of MaxPool2D and PyTorch\n",
    "        result = torch.equal(torch.round(torch.DoubleTensor(_output)), torch.round(output)) # need to round the output due to precision difference\n",
    "        print('Result: {}\\n\\n'.format(result))\n",
    "        if result:\n",
    "            num_passed += 1\n",
    "\n",
    "    print('{} out of {} ({}%) tests passed'.format(num_passed, num_tests, float(100 * num_passed / num_tests)))\n"
   ]
  },
  {
   "cell_type": "code",
   "execution_count": 9,
   "id": "ab748d82",
   "metadata": {},
   "outputs": [
    {
     "name": "stdout",
     "output_type": "stream",
     "text": [
      "Number of tests: 100\n",
      "\n",
      "\n"
     ]
    },
    {
     "name": "stderr",
     "output_type": "stream",
     "text": [
      "  2%|▊                                          | 2/100 [00:00<00:07, 12.78it/s]"
     ]
    },
    {
     "name": "stdout",
     "output_type": "stream",
     "text": [
      "Test: 0\n",
      "Params: {'in_channels': 10, 'kernel_size': (16, 20), 'padding': (7, 4), 'stride': (4, 5), 'dilation': (1, 1), 'in_batches': 2, 'in_h': 15, 'in_w': 26}\n",
      "Result: True\n",
      "\n",
      "\n",
      "Test: 1\n",
      "Params: {'in_channels': 4, 'kernel_size': (20, 12), 'padding': (10, 1), 'stride': (1, 3), 'dilation': (2, 2), 'in_batches': 2, 'in_h': 33, 'in_w': 23}\n",
      "Result: True\n",
      "\n",
      "\n",
      "Test: 2\n",
      "Params: {'in_channels': 2, 'kernel_size': (18, 7), 'padding': (5, 2), 'stride': (5, 1), 'dilation': (2, 4), 'in_batches': 5, 'in_h': 29, 'in_w': 25}\n",
      "Result: True\n",
      "\n",
      "\n",
      "Test: 3\n",
      "Params: {'in_channels': 7, 'kernel_size': (10, 13), 'padding': (2, 1), 'stride': (4, 3), 'dilation': (3, 2), 'in_batches': 5, 'in_h': 30, 'in_w': 25}\n"
     ]
    },
    {
     "name": "stderr",
     "output_type": "stream",
     "text": [
      "\r",
      "  5%|██▏                                        | 5/100 [00:00<00:05, 18.64it/s]"
     ]
    },
    {
     "name": "stdout",
     "output_type": "stream",
     "text": [
      "Result: True\n",
      "\n",
      "\n",
      "Test: 4\n",
      "Params: {'in_channels': 3, 'kernel_size': (11, 5), 'padding': (1, 2), 'stride': (1, 5), 'dilation': (2, 8), 'in_batches': 1, 'in_h': 33, 'in_w': 34}\n",
      "Result: True\n",
      "\n",
      "\n",
      "Test: 5\n",
      "Params: {'in_channels': 20, 'kernel_size': (6, 14), 'padding': (1, 5), 'stride': (1, 1), 'dilation': (2, 1), 'in_batches': 1, 'in_h': 10, 'in_w': 16}\n",
      "Result: True\n",
      "\n",
      "\n",
      "Test: 6\n",
      "Params: {'in_channels': 20, 'kernel_size': (15, 11), 'padding': (7, 3), 'stride': (3, 3), 'dilation': (2, 3), 'in_batches': 4, 'in_h': 28, 'in_w': 34}\n"
     ]
    },
    {
     "name": "stderr",
     "output_type": "stream",
     "text": [
      "\r",
      "  7%|███                                        | 7/100 [00:01<00:24,  3.72it/s]"
     ]
    },
    {
     "name": "stdout",
     "output_type": "stream",
     "text": [
      "Result: True\n",
      "\n",
      "\n",
      "Test: 7\n",
      "Params: {'in_channels': 7, 'kernel_size': (6, 8), 'padding': (3, 1), 'stride': (2, 5), 'dilation': (4, 2), 'in_batches': 5, 'in_h': 30, 'in_w': 28}\n"
     ]
    },
    {
     "name": "stderr",
     "output_type": "stream",
     "text": [
      " 11%|████▌                                     | 11/100 [00:01<00:15,  5.87it/s]"
     ]
    },
    {
     "name": "stdout",
     "output_type": "stream",
     "text": [
      "Result: True\n",
      "\n",
      "\n",
      "Test: 8\n",
      "Params: {'in_channels': 8, 'kernel_size': (17, 4), 'padding': (8, 2), 'stride': (5, 3), 'dilation': (1, 3), 'in_batches': 1, 'in_h': 12, 'in_w': 30}\n",
      "Result: True\n",
      "\n",
      "\n",
      "Test: 9\n",
      "Params: {'in_channels': 1, 'kernel_size': (14, 4), 'padding': (4, 2), 'stride': (4, 4), 'dilation': (1, 9), 'in_batches': 3, 'in_h': 26, 'in_w': 26}\n",
      "Result: True\n",
      "\n",
      "\n",
      "Test: 10\n",
      "Params: {'in_channels': 6, 'kernel_size': (12, 5), 'padding': (5, 1), 'stride': (5, 5), 'dilation': (2, 4), 'in_batches': 5, 'in_h': 29, 'in_w': 28}\n",
      "Result: True\n",
      "\n",
      "\n",
      "Test: 11\n",
      "Params: {'in_channels': 18, 'kernel_size': (18, 15), 'padding': (9, 5), 'stride': (5, 3), 'dilation': (1, 2), 'in_batches': 1, 'in_h': 17, 'in_w': 30}\n"
     ]
    },
    {
     "name": "stderr",
     "output_type": "stream",
     "text": [
      "\r",
      " 13%|█████▍                                    | 13/100 [00:02<00:14,  6.14it/s]"
     ]
    },
    {
     "name": "stdout",
     "output_type": "stream",
     "text": [
      "Result: True\n",
      "\n",
      "\n",
      "Test: 12\n",
      "Params: {'in_channels': 13, 'kernel_size': (11, 10), 'padding': (1, 3), 'stride': (1, 4), 'dilation': (2, 2), 'in_batches': 5, 'in_h': 26, 'in_w': 15}\n",
      "Result: True\n",
      "\n",
      "\n",
      "Test: 13\n",
      "Params: {'in_channels': 13, 'kernel_size': (13, 12), 'padding': (3, 5), 'stride': (2, 1), 'dilation': (1, 3), 'in_batches': 5, 'in_h': 28, 'in_w': 29}\n"
     ]
    },
    {
     "name": "stderr",
     "output_type": "stream",
     "text": [
      " 18%|███████▌                                  | 18/100 [00:04<00:20,  3.92it/s]"
     ]
    },
    {
     "name": "stdout",
     "output_type": "stream",
     "text": [
      "Result: True\n",
      "\n",
      "\n",
      "Test: 14\n",
      "Params: {'in_channels': 11, 'kernel_size': (17, 6), 'padding': (3, 2), 'stride': (4, 2), 'dilation': (1, 1), 'in_batches': 1, 'in_h': 33, 'in_w': 11}\n",
      "Result: True\n",
      "\n",
      "\n",
      "Test: 15\n",
      "Params: {'in_channels': 15, 'kernel_size': (18, 2), 'padding': (4, 1), 'stride': (2, 2), 'dilation': (2, 5), 'in_batches': 3, 'in_h': 27, 'in_w': 14}\n",
      "Result: True\n",
      "\n",
      "\n",
      "Test: 16\n",
      "Params: {'in_channels': 1, 'kernel_size': (5, 12), 'padding': (2, 6), 'stride': (2, 5), 'dilation': (3, 2), 'in_batches': 1, 'in_h': 32, 'in_w': 11}\n",
      "Result: True\n",
      "\n",
      "\n",
      "Test: 17\n",
      "Params: {'in_channels': 18, 'kernel_size': (14, 17), 'padding': (4, 8), 'stride': (4, 1), 'dilation': (1, 1), 'in_batches': 1, 'in_h': 6, 'in_w': 23}\n",
      "Result: True\n",
      "\n",
      "\n",
      "Test: 18\n",
      "Params: {'in_channels': 1, 'kernel_size': (3, 3), 'padding': (1, 1), 'stride': (3, 2), 'dilation': (1, 10), 'in_batches': 3, 'in_h': 6, 'in_w': 25}\n",
      "Result: False\n",
      "\n",
      "\n",
      "Test: 19\n",
      "Params: {'in_channels': 15, 'kernel_size': (8, 5), 'padding': (3, 2), 'stride': (1, 3), 'dilation': (1, 3), 'in_batches': 4, 'in_h': 34, 'in_w': 28}\n"
     ]
    },
    {
     "name": "stderr",
     "output_type": "stream",
     "text": [
      "\r",
      " 20%|████████▍                                 | 20/100 [00:05<00:28,  2.81it/s]"
     ]
    },
    {
     "name": "stdout",
     "output_type": "stream",
     "text": [
      "Result: True\n",
      "\n",
      "\n",
      "Test: 20\n",
      "Params: {'in_channels': 11, 'kernel_size': (8, 12), 'padding': (4, 1), 'stride': (1, 3), 'dilation': (1, 1), 'in_batches': 3, 'in_h': 17, 'in_w': 21}\n"
     ]
    },
    {
     "name": "stderr",
     "output_type": "stream",
     "text": [
      "\r",
      " 21%|████████▊                                 | 21/100 [00:05<00:26,  2.99it/s]"
     ]
    },
    {
     "name": "stdout",
     "output_type": "stream",
     "text": [
      "Result: True\n",
      "\n",
      "\n",
      "Test: 21\n",
      "Params: {'in_channels': 13, 'kernel_size': (13, 9), 'padding': (4, 4), 'stride': (4, 3), 'dilation': (1, 1), 'in_batches': 5, 'in_h': 5, 'in_w': 17}\n",
      "Result: True\n",
      "\n",
      "\n",
      "Test: 22\n",
      "Params: {'in_channels': 7, 'kernel_size': (8, 3), 'padding': (4, 1), 'stride': (1, 1), 'dilation': (1, 9), 'in_batches': 4, 'in_h': 8, 'in_w': 24}\n"
     ]
    },
    {
     "name": "stderr",
     "output_type": "stream",
     "text": [
      " 25%|██████████▌                               | 25/100 [00:06<00:15,  4.71it/s]"
     ]
    },
    {
     "name": "stdout",
     "output_type": "stream",
     "text": [
      "Result: False\n",
      "\n",
      "\n",
      "Test: 23\n",
      "Params: {'in_channels': 11, 'kernel_size': (19, 10), 'padding': (5, 1), 'stride': (3, 3), 'dilation': (1, 2), 'in_batches': 3, 'in_h': 16, 'in_w': 25}\n",
      "Result: True\n",
      "\n",
      "\n",
      "Test: 24\n",
      "Params: {'in_channels': 4, 'kernel_size': (17, 3), 'padding': (8, 1), 'stride': (5, 1), 'dilation': (1, 3), 'in_batches': 3, 'in_h': 34, 'in_w': 10}\n",
      "Result: True\n",
      "\n",
      "\n",
      "Test: 25\n",
      "Params: {'in_channels': 1, 'kernel_size': (8, 11), 'padding': (3, 5), 'stride': (2, 2), 'dilation': (3, 3), 'in_batches': 3, 'in_h': 29, 'in_w': 30}\n",
      "Result: True\n",
      "\n",
      "\n",
      "Test: 26\n",
      "Params: {'in_channels': 20, 'kernel_size': (10, 18), 'padding': (2, 9), 'stride': (2, 4), 'dilation': (1, 1), 'in_batches': 4, 'in_h': 31, 'in_w': 22}\n"
     ]
    },
    {
     "name": "stderr",
     "output_type": "stream",
     "text": [
      "\r",
      " 27%|███████████▎                              | 27/100 [00:07<00:22,  3.26it/s]"
     ]
    },
    {
     "name": "stdout",
     "output_type": "stream",
     "text": [
      "Result: True\n",
      "\n",
      "\n",
      "Test: 27\n",
      "Params: {'in_channels': 10, 'kernel_size': (20, 12), 'padding': (10, 6), 'stride': (3, 5), 'dilation': (1, 2), 'in_batches': 2, 'in_h': 33, 'in_w': 34}\n"
     ]
    },
    {
     "name": "stderr",
     "output_type": "stream",
     "text": [
      "\r",
      " 28%|███████████▊                              | 28/100 [00:07<00:23,  3.00it/s]"
     ]
    },
    {
     "name": "stdout",
     "output_type": "stream",
     "text": [
      "Result: True\n",
      "\n",
      "\n",
      "Test: 28\n",
      "Params: {'in_channels': 15, 'kernel_size': (4, 12), 'padding': (2, 5), 'stride': (3, 1), 'dilation': (5, 2), 'in_batches': 4, 'in_h': 25, 'in_w': 33}\n"
     ]
    },
    {
     "name": "stderr",
     "output_type": "stream",
     "text": [
      "\r",
      " 29%|████████████▏                             | 29/100 [00:09<00:46,  1.53it/s]"
     ]
    },
    {
     "name": "stdout",
     "output_type": "stream",
     "text": [
      "Result: True\n",
      "\n",
      "\n",
      "Test: 29\n",
      "Params: {'in_channels': 18, 'kernel_size': (5, 18), 'padding': (2, 3), 'stride': (4, 2), 'dilation': (4, 1), 'in_batches': 3, 'in_h': 26, 'in_w': 25}\n"
     ]
    },
    {
     "name": "stderr",
     "output_type": "stream",
     "text": [
      " 31%|█████████████                             | 31/100 [00:09<00:33,  2.08it/s]"
     ]
    },
    {
     "name": "stdout",
     "output_type": "stream",
     "text": [
      "Result: True\n",
      "\n",
      "\n",
      "Test: 30\n",
      "Params: {'in_channels': 12, 'kernel_size': (6, 20), 'padding': (2, 9), 'stride': (3, 3), 'dilation': (3, 1), 'in_batches': 1, 'in_h': 26, 'in_w': 25}\n",
      "Result: True\n",
      "\n",
      "\n",
      "Test: 31\n",
      "Params: {'in_channels': 4, 'kernel_size': (8, 13), 'padding': (2, 2), 'stride': (5, 2), 'dilation': (2, 2), 'in_batches': 2, 'in_h': 34, 'in_w': 30}\n"
     ]
    },
    {
     "name": "stderr",
     "output_type": "stream",
     "text": [
      "\r",
      " 33%|█████████████▊                            | 33/100 [00:10<00:21,  3.09it/s]"
     ]
    },
    {
     "name": "stdout",
     "output_type": "stream",
     "text": [
      "Result: True\n",
      "\n",
      "\n",
      "Test: 32\n",
      "Params: {'in_channels': 18, 'kernel_size': (7, 10), 'padding': (3, 3), 'stride': (5, 4), 'dilation': (3, 3), 'in_batches': 2, 'in_h': 19, 'in_w': 34}\n",
      "Result: True\n",
      "\n",
      "\n",
      "Test: 33\n",
      "Params: {'in_channels': 15, 'kernel_size': (7, 12), 'padding': (2, 1), 'stride': (3, 2), 'dilation': (2, 2), 'in_batches': 5, 'in_h': 15, 'in_w': 31}\n"
     ]
    },
    {
     "name": "stderr",
     "output_type": "stream",
     "text": [
      " 36%|███████████████                           | 36/100 [00:10<00:14,  4.47it/s]"
     ]
    },
    {
     "name": "stdout",
     "output_type": "stream",
     "text": [
      "Result: True\n",
      "\n",
      "\n",
      "Test: 34\n",
      "Params: {'in_channels': 5, 'kernel_size': (17, 17), 'padding': (3, 1), 'stride': (2, 3), 'dilation': (2, 1), 'in_batches': 2, 'in_h': 30, 'in_w': 21}\n",
      "Result: True\n",
      "\n",
      "\n",
      "Test: 35\n",
      "Params: {'in_channels': 8, 'kernel_size': (12, 2), 'padding': (5, 1), 'stride': (5, 2), 'dilation': (2, 3), 'in_batches': 4, 'in_h': 25, 'in_w': 17}\n",
      "Result: True\n",
      "\n",
      "\n",
      "Test: 36\n",
      "Params: {'in_channels': 19, 'kernel_size': (13, 3), 'padding': (2, 1), 'stride': (2, 2), 'dilation': (1, 10), 'in_batches': 4, 'in_h': 12, 'in_w': 19}\n",
      "Result: False\n",
      "\n",
      "\n",
      "Test: 37\n",
      "Params: {'in_channels': 18, 'kernel_size': (3, 4), 'padding': (1, 2), 'stride': (1, 5), 'dilation': (7, 5), 'in_batches': 3, 'in_h': 33, 'in_w': 19}\n"
     ]
    },
    {
     "name": "stderr",
     "output_type": "stream",
     "text": [
      "\r",
      " 38%|███████████████▉                          | 38/100 [00:11<00:15,  3.95it/s]"
     ]
    },
    {
     "name": "stdout",
     "output_type": "stream",
     "text": [
      "Result: False\n",
      "\n",
      "\n",
      "Test: 38\n",
      "Params: {'in_channels': 4, 'kernel_size': (11, 6), 'padding': (4, 3), 'stride': (3, 4), 'dilation': (3, 7), 'in_batches': 4, 'in_h': 24, 'in_w': 34}\n",
      "Result: True\n",
      "\n",
      "\n",
      "Test: 39\n",
      "Params: {'in_channels': 15, 'kernel_size': (17, 14), 'padding': (6, 6), 'stride': (2, 1), 'dilation': (1, 2), 'in_batches': 3, 'in_h': 34, 'in_w': 23}\n"
     ]
    },
    {
     "name": "stderr",
     "output_type": "stream",
     "text": [
      " 42%|█████████████████▋                        | 42/100 [00:13<00:23,  2.43it/s]"
     ]
    },
    {
     "name": "stdout",
     "output_type": "stream",
     "text": [
      "Result: True\n",
      "\n",
      "\n",
      "Test: 40\n",
      "Params: {'in_channels': 6, 'kernel_size': (19, 11), 'padding': (8, 2), 'stride': (5, 5), 'dilation': (1, 1), 'in_batches': 2, 'in_h': 27, 'in_w': 26}\n",
      "Result: True\n",
      "\n",
      "\n",
      "Test: 41\n",
      "Params: {'in_channels': 4, 'kernel_size': (18, 9), 'padding': (2, 1), 'stride': (2, 2), 'dilation': (1, 1), 'in_batches': 2, 'in_h': 32, 'in_w': 28}\n",
      "Result: True\n",
      "\n",
      "\n",
      "Test: 42\n",
      "Params: {'in_channels': 3, 'kernel_size': (20, 5), 'padding': (10, 2), 'stride': (3, 2), 'dilation': (1, 6), 'in_batches': 4, 'in_h': 8, 'in_w': 24}\n",
      "Result: True\n",
      "\n",
      "\n",
      "Test: 43\n",
      "Params: {'in_channels': 19, 'kernel_size': (6, 20), 'padding': (1, 7), 'stride': (5, 3), 'dilation': (4, 2), 'in_batches': 2, 'in_h': 31, 'in_w': 32}\n"
     ]
    },
    {
     "name": "stderr",
     "output_type": "stream",
     "text": [
      "\r",
      " 44%|██████████████████▍                       | 44/100 [00:14<00:18,  3.03it/s]"
     ]
    },
    {
     "name": "stdout",
     "output_type": "stream",
     "text": [
      "Result: True\n",
      "\n",
      "\n",
      "Test: 44\n",
      "Params: {'in_channels': 4, 'kernel_size': (18, 18), 'padding': (4, 1), 'stride': (2, 1), 'dilation': (1, 1), 'in_batches': 2, 'in_h': 15, 'in_w': 22}\n",
      "Result: True\n",
      "\n",
      "\n",
      "Test: 45\n",
      "Params: {'in_channels': 8, 'kernel_size': (8, 5), 'padding': (2, 1), 'stride': (1, 5), 'dilation': (1, 4), 'in_batches': 5, 'in_h': 34, 'in_w': 27}\n"
     ]
    },
    {
     "name": "stderr",
     "output_type": "stream",
     "text": [
      "\r",
      " 46%|███████████████████▎                      | 46/100 [00:14<00:16,  3.28it/s]"
     ]
    },
    {
     "name": "stdout",
     "output_type": "stream",
     "text": [
      "Result: True\n",
      "\n",
      "\n",
      "Test: 46\n",
      "Params: {'in_channels': 20, 'kernel_size': (9, 10), 'padding': (1, 5), 'stride': (4, 3), 'dilation': (1, 2), 'in_batches': 3, 'in_h': 15, 'in_w': 28}\n"
     ]
    },
    {
     "name": "stderr",
     "output_type": "stream",
     "text": [
      " 49%|████████████████████▌                     | 49/100 [00:14<00:11,  4.61it/s]"
     ]
    },
    {
     "name": "stdout",
     "output_type": "stream",
     "text": [
      "Result: True\n",
      "\n",
      "\n",
      "Test: 47\n",
      "Params: {'in_channels': 11, 'kernel_size': (4, 14), 'padding': (2, 7), 'stride': (4, 3), 'dilation': (2, 1), 'in_batches': 2, 'in_h': 19, 'in_w': 25}\n",
      "Result: True\n",
      "\n",
      "\n",
      "Test: 48\n",
      "Params: {'in_channels': 14, 'kernel_size': (2, 4), 'padding': (1, 2), 'stride': (2, 5), 'dilation': (1, 1), 'in_batches': 5, 'in_h': 31, 'in_w': 17}\n",
      "Result: True\n",
      "\n",
      "\n",
      "Test: 49\n",
      "Params: {'in_channels': 14, 'kernel_size': (10, 10), 'padding': (3, 2), 'stride': (4, 1), 'dilation': (2, 3), 'in_batches': 1, 'in_h': 20, 'in_w': 27}\n"
     ]
    },
    {
     "name": "stderr",
     "output_type": "stream",
     "text": [
      "\r",
      " 52%|█████████████████████▊                    | 52/100 [00:15<00:07,  6.30it/s]"
     ]
    },
    {
     "name": "stdout",
     "output_type": "stream",
     "text": [
      "Result: True\n",
      "\n",
      "\n",
      "Test: 50\n",
      "Params: {'in_channels': 16, 'kernel_size': (18, 16), 'padding': (4, 3), 'stride': (4, 4), 'dilation': (1, 1), 'in_batches': 1, 'in_h': 10, 'in_w': 14}\n",
      "Result: True\n",
      "\n",
      "\n",
      "Test: 51\n",
      "Params: {'in_channels': 6, 'kernel_size': (20, 16), 'padding': (7, 4), 'stride': (5, 4), 'dilation': (1, 1), 'in_batches': 5, 'in_h': 34, 'in_w': 17}\n",
      "Result: True\n",
      "\n",
      "\n",
      "Test: 52\n",
      "Params: {'in_channels': 5, 'kernel_size': (10, 11), 'padding': (4, 2), 'stride': (4, 2), 'dilation': (4, 1), 'in_batches': 3, 'in_h': 31, 'in_w': 10}\n",
      "Result: True\n",
      "\n",
      "\n",
      "Test: 53\n",
      "Params: {'in_channels': 9, 'kernel_size': (6, 10), 'padding': (1, 5), 'stride': (3, 4), 'dilation': (1, 1), 'in_batches': 5, 'in_h': 22, 'in_w': 19}\n"
     ]
    },
    {
     "name": "stderr",
     "output_type": "stream",
     "text": [
      " 56%|███████████████████████▌                  | 56/100 [00:15<00:04,  8.84it/s]"
     ]
    },
    {
     "name": "stdout",
     "output_type": "stream",
     "text": [
      "Result: True\n",
      "\n",
      "\n",
      "Test: 54\n",
      "Params: {'in_channels': 11, 'kernel_size': (2, 15), 'padding': (1, 5), 'stride': (3, 4), 'dilation': (8, 2), 'in_batches': 4, 'in_h': 8, 'in_w': 23}\n",
      "Result: True\n",
      "\n",
      "\n",
      "Test: 55\n",
      "Params: {'in_channels': 17, 'kernel_size': (10, 14), 'padding': (1, 5), 'stride': (5, 1), 'dilation': (1, 2), 'in_batches': 1, 'in_h': 14, 'in_w': 30}\n",
      "Result: True\n",
      "\n",
      "\n",
      "Test: 56\n",
      "Params: {'in_channels': 19, 'kernel_size': (13, 7), 'padding': (1, 1), 'stride': (5, 1), 'dilation': (2, 2), 'in_batches': 2, 'in_h': 29, 'in_w': 16}\n"
     ]
    },
    {
     "name": "stderr",
     "output_type": "stream",
     "text": [
      "\r",
      " 58%|████████████████████████▎                 | 58/100 [00:15<00:04,  9.75it/s]"
     ]
    },
    {
     "name": "stdout",
     "output_type": "stream",
     "text": [
      "Result: True\n",
      "\n",
      "\n",
      "Test: 57\n",
      "Params: {'in_channels': 2, 'kernel_size': (5, 12), 'padding': (1, 4), 'stride': (4, 2), 'dilation': (1, 1), 'in_batches': 2, 'in_h': 26, 'in_w': 24}\n",
      "Result: True\n",
      "\n",
      "\n",
      "Test: 58\n",
      "Params: {'in_channels': 15, 'kernel_size': (20, 14), 'padding': (8, 4), 'stride': (4, 2), 'dilation': (1, 1), 'in_batches': 3, 'in_h': 29, 'in_w': 29}\n"
     ]
    },
    {
     "name": "stderr",
     "output_type": "stream",
     "text": [
      " 61%|█████████████████████████▌                | 61/100 [00:16<00:07,  5.15it/s]"
     ]
    },
    {
     "name": "stdout",
     "output_type": "stream",
     "text": [
      "Result: True\n",
      "\n",
      "\n",
      "Test: 59\n",
      "Params: {'in_channels': 2, 'kernel_size': (11, 3), 'padding': (4, 1), 'stride': (3, 5), 'dilation': (2, 5), 'in_batches': 2, 'in_h': 30, 'in_w': 13}\n",
      "Result: True\n",
      "\n",
      "\n",
      "Test: 60\n",
      "Params: {'in_channels': 13, 'kernel_size': (3, 14), 'padding': (1, 3), 'stride': (3, 5), 'dilation': (6, 1), 'in_batches': 4, 'in_h': 24, 'in_w': 21}\n",
      "Result: True\n",
      "\n",
      "\n",
      "Test: 61\n",
      "Params: {'in_channels': 10, 'kernel_size': (18, 16), 'padding': (9, 2), 'stride': (5, 3), 'dilation': (1, 1), 'in_batches': 4, 'in_h': 7, 'in_w': 31}\n"
     ]
    },
    {
     "name": "stderr",
     "output_type": "stream",
     "text": [
      "\r",
      " 62%|██████████████████████████                | 62/100 [00:16<00:06,  5.45it/s]"
     ]
    },
    {
     "name": "stdout",
     "output_type": "stream",
     "text": [
      "Result: True\n",
      "\n",
      "\n",
      "Test: 62\n",
      "Params: {'in_channels': 13, 'kernel_size': (2, 8), 'padding': (1, 1), 'stride': (3, 5), 'dilation': (7, 1), 'in_batches': 1, 'in_h': 11, 'in_w': 25}\n",
      "Result: True\n",
      "\n",
      "\n",
      "Test: 63\n",
      "Params: {'in_channels': 15, 'kernel_size': (18, 4), 'padding': (2, 1), 'stride': (5, 5), 'dilation': (1, 1), 'in_batches': 5, 'in_h': 18, 'in_w': 26}\n",
      "Result: True\n",
      "\n",
      "\n",
      "Test: 64\n",
      "Params: {'in_channels': 8, 'kernel_size': (15, 7), 'padding': (7, 2), 'stride': (2, 1), 'dilation': (2, 5), 'in_batches': 1, 'in_h': 27, 'in_w': 34}\n"
     ]
    },
    {
     "name": "stderr",
     "output_type": "stream",
     "text": [
      "\r",
      " 65%|███████████████████████████▎              | 65/100 [00:17<00:05,  6.22it/s]"
     ]
    },
    {
     "name": "stdout",
     "output_type": "stream",
     "text": [
      "Result: True\n",
      "\n",
      "\n",
      "Test: 65\n",
      "Params: {'in_channels': 6, 'kernel_size': (14, 17), 'padding': (5, 5), 'stride': (1, 3), 'dilation': (2, 1), 'in_batches': 4, 'in_h': 29, 'in_w': 21}\n"
     ]
    },
    {
     "name": "stderr",
     "output_type": "stream",
     "text": [
      " 68%|████████████████████████████▌             | 68/100 [00:18<00:06,  5.19it/s]"
     ]
    },
    {
     "name": "stdout",
     "output_type": "stream",
     "text": [
      "Result: True\n",
      "\n",
      "\n",
      "Test: 66\n",
      "Params: {'in_channels': 4, 'kernel_size': (18, 10), 'padding': (8, 3), 'stride': (1, 4), 'dilation': (2, 1), 'in_batches': 2, 'in_h': 21, 'in_w': 8}\n",
      "Result: True\n",
      "\n",
      "\n",
      "Test: 67\n",
      "Params: {'in_channels': 20, 'kernel_size': (18, 17), 'padding': (7, 7), 'stride': (2, 4), 'dilation': (1, 2), 'in_batches': 1, 'in_h': 31, 'in_w': 20}\n",
      "Result: True\n",
      "\n",
      "\n",
      "Test: 68\n",
      "Params: {'in_channels': 9, 'kernel_size': (6, 17), 'padding': (3, 4), 'stride': (3, 4), 'dilation': (1, 1), 'in_batches': 1, 'in_h': 32, 'in_w': 20}\n"
     ]
    },
    {
     "name": "stderr",
     "output_type": "stream",
     "text": [
      "\r",
      " 72%|██████████████████████████████▏           | 72/100 [00:18<00:03,  8.99it/s]"
     ]
    },
    {
     "name": "stdout",
     "output_type": "stream",
     "text": [
      "Result: True\n",
      "\n",
      "\n",
      "Test: 69\n",
      "Params: {'in_channels': 4, 'kernel_size': (8, 14), 'padding': (2, 3), 'stride': (3, 5), 'dilation': (1, 1), 'in_batches': 3, 'in_h': 19, 'in_w': 17}\n",
      "Result: True\n",
      "\n",
      "\n",
      "Test: 70\n",
      "Params: {'in_channels': 1, 'kernel_size': (4, 13), 'padding': (1, 2), 'stride': (4, 1), 'dilation': (5, 1), 'in_batches': 2, 'in_h': 23, 'in_w': 10}\n",
      "Result: True\n",
      "\n",
      "\n",
      "Test: 71\n",
      "Params: {'in_channels': 6, 'kernel_size': (4, 20), 'padding': (2, 1), 'stride': (2, 1), 'dilation': (10, 1), 'in_batches': 2, 'in_h': 29, 'in_w': 21}\n",
      "Result: True\n",
      "\n",
      "\n",
      "Test: 72\n",
      "Params: {'in_channels': 14, 'kernel_size': (6, 6), 'padding': (2, 1), 'stride': (4, 1), 'dilation': (2, 2), 'in_batches': 2, 'in_h': 9, 'in_w': 18}\n",
      "Result: True\n",
      "\n",
      "\n",
      "Test: 73\n",
      "Params: {'in_channels': 13, 'kernel_size': (4, 18), 'padding': (2, 4), 'stride': (3, 1), 'dilation': (3, 1), 'in_batches': 2, 'in_h': 10, 'in_w': 27}\n"
     ]
    },
    {
     "name": "stderr",
     "output_type": "stream",
     "text": [
      "\r",
      " 74%|███████████████████████████████           | 74/100 [00:18<00:02,  9.41it/s]"
     ]
    },
    {
     "name": "stdout",
     "output_type": "stream",
     "text": [
      "Result: True\n",
      "\n",
      "\n",
      "Test: 74\n",
      "Params: {'in_channels': 11, 'kernel_size': (10, 8), 'padding': (5, 2), 'stride': (1, 4), 'dilation': (2, 3), 'in_batches': 1, 'in_h': 34, 'in_w': 28}\n",
      "Result: True\n",
      "\n",
      "\n",
      "Test: 75\n",
      "Params: {'in_channels': 13, 'kernel_size': (2, 12), 'padding': (1, 5), 'stride': (2, 1), 'dilation': (4, 2), 'in_batches': 3, 'in_h': 27, 'in_w': 34}\n"
     ]
    },
    {
     "name": "stderr",
     "output_type": "stream",
     "text": [
      "\r",
      " 76%|███████████████████████████████▉          | 76/100 [00:19<00:06,  3.73it/s]"
     ]
    },
    {
     "name": "stdout",
     "output_type": "stream",
     "text": [
      "Result: False\n",
      "\n",
      "\n",
      "Test: 76\n",
      "Params: {'in_channels': 6, 'kernel_size': (18, 8), 'padding': (3, 2), 'stride': (4, 5), 'dilation': (2, 1), 'in_batches': 5, 'in_h': 33, 'in_w': 20}\n",
      "Result: True\n",
      "\n",
      "\n",
      "Test: 77\n",
      "Params: {'in_channels': 17, 'kernel_size': (20, 6), 'padding': (10, 3), 'stride': (3, 4), 'dilation': (1, 3), 'in_batches': 2, 'in_h': 6, 'in_w': 33}\n"
     ]
    },
    {
     "name": "stderr",
     "output_type": "stream",
     "text": [
      "\r",
      " 78%|████████████████████████████████▊         | 78/100 [00:19<00:04,  4.45it/s]"
     ]
    },
    {
     "name": "stdout",
     "output_type": "stream",
     "text": [
      "Result: True\n",
      "\n",
      "\n",
      "Test: 78\n",
      "Params: {'in_channels': 17, 'kernel_size': (4, 20), 'padding': (2, 10), 'stride': (4, 2), 'dilation': (1, 2), 'in_batches': 2, 'in_h': 26, 'in_w': 24}\n",
      "Result: True\n",
      "\n",
      "\n",
      "Test: 79\n",
      "Params: {'in_channels': 11, 'kernel_size': (4, 13), 'padding': (1, 6), 'stride': (5, 2), 'dilation': (7, 1), 'in_batches': 3, 'in_h': 32, 'in_w': 20}\n"
     ]
    },
    {
     "name": "stderr",
     "output_type": "stream",
     "text": [
      "\r",
      " 80%|█████████████████████████████████▌        | 80/100 [00:20<00:04,  4.74it/s]"
     ]
    },
    {
     "name": "stdout",
     "output_type": "stream",
     "text": [
      "Result: True\n",
      "\n",
      "\n",
      "Test: 80\n",
      "Params: {'in_channels': 3, 'kernel_size': (3, 18), 'padding': (1, 6), 'stride': (4, 3), 'dilation': (8, 1), 'in_batches': 2, 'in_h': 24, 'in_w': 7}\n",
      "Result: True\n",
      "\n",
      "\n",
      "Test: 81\n",
      "Params: {'in_channels': 4, 'kernel_size': (12, 8), 'padding': (5, 2), 'stride': (1, 2), 'dilation': (2, 2), 'in_batches': 2, 'in_h': 13, 'in_w': 14}\n",
      "Result: True\n",
      "\n",
      "\n",
      "Test: 82\n",
      "Params: {'in_channels': 15, 'kernel_size': (11, 16), 'padding': (4, 6), 'stride': (5, 4), 'dilation': (1, 1), 'in_batches': 5, 'in_h': 34, 'in_w': 14}\n"
     ]
    },
    {
     "name": "stderr",
     "output_type": "stream",
     "text": [
      "\r",
      " 83%|██████████████████████████████████▊       | 83/100 [00:20<00:02,  6.00it/s]"
     ]
    },
    {
     "name": "stdout",
     "output_type": "stream",
     "text": [
      "Result: True\n",
      "\n",
      "\n",
      "Test: 83\n",
      "Params: {'in_channels': 1, 'kernel_size': (19, 6), 'padding': (8, 3), 'stride': (2, 1), 'dilation': (1, 5), 'in_batches': 2, 'in_h': 17, 'in_w': 28}\n",
      "Result: True\n",
      "\n",
      "\n",
      "Test: 84\n",
      "Params: {'in_channels': 14, 'kernel_size': (9, 6), 'padding': (4, 2), 'stride': (2, 2), 'dilation': (3, 1), 'in_batches': 4, 'in_h': 23, 'in_w': 24}\n"
     ]
    },
    {
     "name": "stderr",
     "output_type": "stream",
     "text": [
      "\r",
      " 85%|███████████████████████████████████▋      | 85/100 [00:20<00:02,  5.58it/s]"
     ]
    },
    {
     "name": "stdout",
     "output_type": "stream",
     "text": [
      "Result: True\n",
      "\n",
      "\n",
      "Test: 85\n",
      "Params: {'in_channels': 9, 'kernel_size': (20, 14), 'padding': (10, 5), 'stride': (3, 1), 'dilation': (1, 2), 'in_batches': 5, 'in_h': 31, 'in_w': 30}\n"
     ]
    },
    {
     "name": "stderr",
     "output_type": "stream",
     "text": [
      "\r",
      " 86%|████████████████████████████████████      | 86/100 [00:24<00:09,  1.53it/s]"
     ]
    },
    {
     "name": "stdout",
     "output_type": "stream",
     "text": [
      "Result: True\n",
      "\n",
      "\n",
      "Test: 86\n",
      "Params: {'in_channels': 9, 'kernel_size': (14, 7), 'padding': (6, 1), 'stride': (2, 3), 'dilation': (2, 1), 'in_batches': 4, 'in_h': 30, 'in_w': 17}\n"
     ]
    },
    {
     "name": "stderr",
     "output_type": "stream",
     "text": [
      "\r",
      " 87%|████████████████████████████████████▌     | 87/100 [00:24<00:07,  1.74it/s]"
     ]
    },
    {
     "name": "stdout",
     "output_type": "stream",
     "text": [
      "Result: True\n",
      "\n",
      "\n",
      "Test: 87\n",
      "Params: {'in_channels': 9, 'kernel_size': (9, 16), 'padding': (1, 8), 'stride': (1, 3), 'dilation': (1, 1), 'in_batches': 5, 'in_h': 34, 'in_w': 34}\n"
     ]
    },
    {
     "name": "stderr",
     "output_type": "stream",
     "text": [
      "\r",
      " 88%|████████████████████████████████████▉     | 88/100 [00:26<00:10,  1.18it/s]"
     ]
    },
    {
     "name": "stdout",
     "output_type": "stream",
     "text": [
      "Result: True\n",
      "\n",
      "\n",
      "Test: 88\n",
      "Params: {'in_channels': 6, 'kernel_size': (7, 3), 'padding': (2, 1), 'stride': (5, 2), 'dilation': (2, 4), 'in_batches': 1, 'in_h': 30, 'in_w': 33}\n",
      "Result: True\n",
      "\n",
      "\n",
      "Test: 89\n",
      "Params: {'in_channels': 5, 'kernel_size': (19, 11), 'padding': (9, 5), 'stride': (3, 3), 'dilation': (2, 2), 'in_batches': 5, 'in_h': 32, 'in_w': 26}\n"
     ]
    },
    {
     "name": "stderr",
     "output_type": "stream",
     "text": [
      " 93%|███████████████████████████████████████   | 93/100 [00:26<00:02,  2.73it/s]"
     ]
    },
    {
     "name": "stdout",
     "output_type": "stream",
     "text": [
      "Result: True\n",
      "\n",
      "\n",
      "Test: 90\n",
      "Params: {'in_channels': 5, 'kernel_size': (7, 17), 'padding': (2, 6), 'stride': (2, 5), 'dilation': (1, 1), 'in_batches': 5, 'in_h': 7, 'in_w': 14}\n",
      "Result: True\n",
      "\n",
      "\n",
      "Test: 91\n",
      "Params: {'in_channels': 5, 'kernel_size': (4, 11), 'padding': (2, 2), 'stride': (5, 5), 'dilation': (3, 1), 'in_batches': 1, 'in_h': 19, 'in_w': 27}\n",
      "Result: True\n",
      "\n",
      "\n",
      "Test: 92\n",
      "Params: {'in_channels': 11, 'kernel_size': (8, 18), 'padding': (2, 5), 'stride': (4, 1), 'dilation': (1, 1), 'in_batches': 3, 'in_h': 5, 'in_w': 31}\n",
      "Result: True\n",
      "\n",
      "\n",
      "Test: 93\n",
      "Params: {'in_channels': 11, 'kernel_size': (18, 10), 'padding': (5, 4), 'stride': (3, 5), 'dilation': (1, 1), 'in_batches': 4, 'in_h': 18, 'in_w': 7}\n",
      "Result: True\n",
      "\n",
      "\n",
      "Test: 94\n",
      "Params: {'in_channels': 18, 'kernel_size': (17, 16), 'padding': (2, 5), 'stride': (1, 5), 'dilation': (1, 2), 'in_batches': 4, 'in_h': 33, 'in_w': 22}\n"
     ]
    },
    {
     "name": "stderr",
     "output_type": "stream",
     "text": [
      " 97%|████████████████████████████████████████▋ | 97/100 [00:27<00:00,  3.56it/s]"
     ]
    },
    {
     "name": "stdout",
     "output_type": "stream",
     "text": [
      "Result: True\n",
      "\n",
      "\n",
      "Test: 95\n",
      "Params: {'in_channels': 14, 'kernel_size': (6, 20), 'padding': (2, 2), 'stride': (4, 2), 'dilation': (1, 1), 'in_batches': 1, 'in_h': 12, 'in_w': 26}\n",
      "Result: True\n",
      "\n",
      "\n",
      "Test: 96\n",
      "Params: {'in_channels': 10, 'kernel_size': (19, 7), 'padding': (1, 2), 'stride': (4, 1), 'dilation': (1, 4), 'in_batches': 1, 'in_h': 33, 'in_w': 24}\n",
      "Result: True\n",
      "\n",
      "\n",
      "Test: 97\n",
      "Params: {'in_channels': 4, 'kernel_size': (19, 6), 'padding': (5, 2), 'stride': (4, 1), 'dilation': (1, 3), 'in_batches': 5, 'in_h': 33, 'in_w': 33}\n"
     ]
    },
    {
     "name": "stderr",
     "output_type": "stream",
     "text": [
      "\r",
      " 99%|█████████████████████████████████████████▌| 99/100 [00:28<00:00,  3.14it/s]"
     ]
    },
    {
     "name": "stdout",
     "output_type": "stream",
     "text": [
      "Result: True\n",
      "\n",
      "\n",
      "Test: 98\n",
      "Params: {'in_channels': 4, 'kernel_size': (10, 9), 'padding': (5, 1), 'stride': (4, 4), 'dilation': (1, 1), 'in_batches': 4, 'in_h': 13, 'in_w': 23}\n",
      "Result: True\n",
      "\n",
      "\n",
      "Test: 99\n",
      "Params: {'in_channels': 12, 'kernel_size': (16, 17), 'padding': (5, 6), 'stride': (1, 2), 'dilation': (2, 1), 'in_batches': 5, 'in_h': 30, 'in_w': 5}\n"
     ]
    },
    {
     "name": "stderr",
     "output_type": "stream",
     "text": [
      "100%|█████████████████████████████████████████| 100/100 [00:28<00:00,  3.46it/s]"
     ]
    },
    {
     "name": "stdout",
     "output_type": "stream",
     "text": [
      "Result: True\n",
      "\n",
      "\n",
      "95 out of 100 (95.0%) tests passed\n"
     ]
    },
    {
     "name": "stderr",
     "output_type": "stream",
     "text": [
      "\n"
     ]
    }
   ],
   "source": [
    "num_tests = 100\n",
    "run_tests(num_tests)"
   ]
  },
  {
   "cell_type": "code",
   "execution_count": null,
   "id": "e23ecb13",
   "metadata": {},
   "outputs": [],
   "source": []
  }
 ],
 "metadata": {
  "kernelspec": {
   "display_name": "Python 3 (ipykernel)",
   "language": "python",
   "name": "python3"
  },
  "language_info": {
   "codemirror_mode": {
    "name": "ipython",
    "version": 3
   },
   "file_extension": ".py",
   "mimetype": "text/x-python",
   "name": "python",
   "nbconvert_exporter": "python",
   "pygments_lexer": "ipython3",
   "version": "3.10.9"
  }
 },
 "nbformat": 4,
 "nbformat_minor": 5
}
