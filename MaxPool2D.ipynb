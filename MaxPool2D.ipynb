{
 "cells": [
  {
   "cell_type": "markdown",
   "id": "b20a6f8d",
   "metadata": {},
   "source": [
    "### `MaxPool2D` code"
   ]
  },
  {
   "cell_type": "code",
   "execution_count": 25,
   "id": "19182ede",
   "metadata": {},
   "outputs": [],
   "source": [
    "import numpy as np\n",
    "import torch # needed for tests\n",
    "from tqdm import tqdm # needed for tests"
   ]
  },
  {
   "cell_type": "code",
   "execution_count": 26,
   "id": "7ed1691b",
   "metadata": {},
   "outputs": [],
   "source": [
    "class MaxPool2D:\n",
    "    ''' Computes maxpool given the input parameters '''\n",
    "    \n",
    "    ''' * The class implementation will be along the lines of torch.nn.MaxPool2d in order to \n",
    "          enable comparison of this NumPy only implementation and seamless testing\n",
    "    '''\n",
    "    '''\n",
    "        TODO:\n",
    "        * Replace `torch.round()` with `np.allclose()` for tests\n",
    "        * Optimizing code\n",
    "    '''\n",
    "    \n",
    "    def __init__(\n",
    "        self, \n",
    "        kernel_size, \n",
    "        padding = (0, 0), \n",
    "        stride = (1, 1), \n",
    "        dilation = (1, 1), \n",
    "        return_indices = False,\n",
    "        verbose = False\n",
    "        ):\n",
    "        super(MaxPool2D, self).__init__()\n",
    "        \n",
    "        ''' mandatory parameters '''\n",
    "        if isinstance(kernel_size, tuple):\n",
    "            self.kernel_size = kernel_size\n",
    "        elif isinstance(kernel_size, int):\n",
    "            self.kernel_size = (kernel_size, kernel_size)\n",
    "        else:\n",
    "            raise Exception('invalid input parameters: kernel_size should either be an int or a tuple')\n",
    "        \n",
    "        ''' optional parameters '''\n",
    "        if isinstance(padding, str):\n",
    "            if padding == 'valid':\n",
    "                self.padding = (0, 0)\n",
    "            elif padding == 'same':\n",
    "                raise Exception(\"invalid input parameters: padding = 'same' not yet supported\")\n",
    "            else:\n",
    "                raise Exception('invalid input parameters: padding is not valid')\n",
    "        elif isinstance(padding, tuple):\n",
    "            if padding[0] >= 0 and padding[1] >= 0:\n",
    "                self.padding = padding\n",
    "            else:\n",
    "                raise Exception('invalid input parameters: padding is not valid')\n",
    "        elif isinstance(padding, int):\n",
    "            if padding >= 0:\n",
    "                self.padding = (padding, padding)\n",
    "            else:\n",
    "                raise Exception('invalid input parameters: padding is not valid')\n",
    "        else:\n",
    "            raise Exception('invalid input parametersL padding should be either an int or a tuple')\n",
    "        if isinstance(stride, tuple):\n",
    "            if stride[0] >= 1 and stride[1] >= 1:\n",
    "                self.stride = stride\n",
    "            else:\n",
    "                raise Exception('invalid input parameters: stride is not valid')\n",
    "        elif isinstance(stride, int):\n",
    "            if stride >= 1:\n",
    "                self.stride = (stride, stride)\n",
    "            else:\n",
    "                raise Exception('invalid input parameters: stride is not valid')\n",
    "        else:\n",
    "            raise Exception('invalid input parameters: stride should be either an int or a tuple')\n",
    "        if isinstance(dilation, tuple):\n",
    "            if dilation[0] >= 1 and dilation[1] >= 1:\n",
    "                self.dilation = dilation\n",
    "            else:\n",
    "                raise Exception('invalid input parameters: dilation is not valid')\n",
    "        elif isinstance(dilation, int):\n",
    "            if dilation >= 1:\n",
    "                self.dilation = (dilation, dilation)\n",
    "            else:\n",
    "                raise Exception('invalid input parameters: dilation is not valid')\n",
    "        else:\n",
    "            raise Exception('invalid input parameters: dilation should be either an int or a tuple')\n",
    "        self.return_indices = return_indices\n",
    "        \n",
    "        ''' optional parameters (dummy, yet to be implemented)'''\n",
    "        \n",
    "        \n",
    "        ''' additional parameters (different from torch.nn.Conv2D)'''\n",
    "        self.verbose = verbose\n",
    "        self.verboseprint = print if self.verbose else lambda *a, **k: None\n",
    "        self.verboseprint('*** parameters ***')\n",
    "        self.verboseprint('kernel_size: {}'.format(self.kernel_size))\n",
    "        self.verboseprint('padding: {}, stride: {}, dilation factor: {}'.format(self.padding, self.stride, self.dilation))\n",
    "        self.verboseprint('\\n')\n",
    "    \n",
    "    def forward(self, _input):\n",
    "        ''' forward pass to perform convolution '''\n",
    "        \n",
    "        ''' do error checking '''\n",
    "        _input_n, _input_c, _input_h, _input_w = _input.shape\n",
    "        if _input_h + 2 * self.padding[0] < self.dilation[0] * (self.kernel_size[0] - 1) + 1: # check if (dilated) ker_h is valid\n",
    "            raise Exception('invalid input parameters: kernel height is larger than input height')\n",
    "        if _input_w + 2 * self.padding[1] < self.dilation[1] * (self.kernel_size[1] - 1) + 1: # check if (dilated) ker_w is valid\n",
    "            raise Exception('invalid input parameters: kernel width is larger than input width')\n",
    "        if ((_input_h + 2 * self.padding[0] - (self.dilation[0] * (self.kernel_size[0] - 1) + 1)) / self.stride[0]) + 1 < 0: # check if out_h is valid\n",
    "            raise Exception('invalid input parameters: output height is negative')\n",
    "        if ((_input_w + 2 * self.padding[1] - (self.dilation[1] * (self.kernel_size[1] - 1) + 1)) / self.stride[1]) + 1 < 0: # check if out_w is valid\n",
    "            raise Exception('invalid input parameters: output width is negative')\n",
    "        if self.padding[0] > self.kernel_size[0] // 2: # as PyTorch mandates this\n",
    "            raise Exception('invalid input parameters: padding height is larger than half of kernel height')\n",
    "        if self.padding[1] > self.kernel_size[1] // 2: # as PyTorch mandates this\n",
    "            raise Exception('invalid input parameters: padding width is larger than half of kernel width')\n",
    "        \n",
    "        ''' add zero padding based on the input parameters '''\n",
    "        if self.padding != (0, 0):\n",
    "            _input = np.array([[np.pad(channel, ((self.padding[0], self.padding[0]), (self.padding[1], self.padding[1])), 'constant', constant_values = -np.inf) for channel in batch] for batch in _input])    \n",
    "            self.verboseprint('*** padded input image ***')\n",
    "            self.verboseprint('input batches: {}, input channels: {}, input height: {}, input weight: {}'.format(_input.shape[0], _input.shape[1], _input.shape[2], _input.shape[3]))\n",
    "            self.verboseprint(_input)\n",
    "            self.verboseprint('\\n')\n",
    "        \n",
    "        ''' dilate a kernel '''\n",
    "        dil_ker_h = self.dilation[0] * (self.kernel_size[0] - 1) + 1\n",
    "        dil_ker_w = self.dilation[1] * (self.kernel_size[1] - 1) + 1\n",
    "        self.kernel_size = (dil_ker_h, dil_ker_w)\n",
    "        self.verboseprint('*** dilated kernels ***')\n",
    "        self.verboseprint('dilation factor: {}, kernel channels: {}, kernel height: {}, kernel weight: {}'.format(self.dilation, int(_input_c), self.kernel_size[0], self.kernel_size[1]))\n",
    "        self.verboseprint('\\n')\n",
    "        \n",
    "        ''' compute output volume from the input and kernel parameters '''\n",
    "        _input_n, _input_c, _input_h, _input_w = _input.shape\n",
    "        out_n = int(_input_n)\n",
    "        out_c = int(_input_c)\n",
    "        out_h = int((_input_h - self.kernel_size[0]) / self.stride[0]) + 1\n",
    "        out_w = int((_input_w - self.kernel_size[1]) / self.stride[1]) + 1\n",
    "        output = np.zeros([out_n, out_c, out_h, out_w])\n",
    "        max_indices = np.zeros([out_n, out_c, out_h, out_w], dtype = int)\n",
    "        \n",
    "        ''' parse through every element of the output and compute the convolution value for that element '''\n",
    "        for b_out in range(out_n):\n",
    "            for c_out in range(out_c):\n",
    "                for h_out in range(out_h):\n",
    "                    for w_out in range(out_w):\n",
    "                        # convolve kernel over the input slices\n",
    "                        self.verboseprint('kernel indices, image indices')\n",
    "                        self.verboseprint('[n, c, h, w]', '[n, c, h, w]')\n",
    "                        convol_sum = -np.inf\n",
    "                        max_index = 0\n",
    "                        ker_h = self.kernel_size[0]\n",
    "                        ker_w = self.kernel_size[1]\n",
    "                        for h_ker in range(ker_h):\n",
    "                            for w_ker in range(ker_w):\n",
    "                                self.verboseprint([b_out, c_out, h_ker + self.stride[0] * h_out, w_ker + self.stride[1] * w_out])\n",
    "                                if _input[b_out][c_out][h_ker + self.stride[0] * h_out][w_ker + self.stride[1] * w_out] > convol_sum: # works for all 1 <= `groups` <= in_channels\n",
    "                                    convol_sum = _input[b_out][c_out][h_ker + self.stride[0] * h_out][w_ker + self.stride[1] * w_out]\n",
    "                                    max_index = (h_ker + self.stride[0] * h_out) * _input_h + (w_ker + self.stride[1] * w_out)\n",
    "                        self.verboseprint('\\n')\n",
    "                        output[b_out, c_out, h_out, w_out] += convol_sum\n",
    "                        max_indices[b_out, c_out, h_out, w_out] += max_index\n",
    "        self.verboseprint('*** MaxPool2D output ***')\n",
    "        output_shape = output.shape\n",
    "        self.verboseprint('output batches: {}, ouput channels: {}, output height: {}, output weight: {}'.format(output_shape[0], output_shape[1], output_shape[2], output_shape[3]))\n",
    "        assert((out_n, out_c, out_h, out_w) == output_shape)\n",
    "        self.verboseprint(output)\n",
    "        self.verboseprint('\\n')\n",
    "        if self.return_indices:\n",
    "            return (output, max_indices)\n",
    "        return output"
   ]
  },
  {
   "cell_type": "markdown",
   "id": "7450ac24",
   "metadata": {},
   "source": [
    "### Standalone test (random kernel, random input)"
   ]
  },
  {
   "cell_type": "code",
   "execution_count": 27,
   "id": "a0377df6",
   "metadata": {},
   "outputs": [],
   "source": [
    "in_channels = 2 # input channels\n",
    "kernel_size = (2, 2) # kernel size\n",
    "\n",
    "padding = (0, 0) # padding (optional)\n",
    "stride = (2, 2) # stride (optional)\n",
    "dilation = (1, 1) # dilation factor (optional)\n",
    "\n",
    "in_batches = 1 # input batches\n",
    "in_h = 4 # input height\n",
    "in_w = 4 # input weight\n",
    "\n",
    "_input = np.random.rand(in_batches, in_channels, in_h, in_w) # define a random image based on the input parameters"
   ]
  },
  {
   "cell_type": "code",
   "execution_count": 28,
   "id": "29c79bef",
   "metadata": {},
   "outputs": [
    {
     "name": "stdout",
     "output_type": "stream",
     "text": [
      "*** MaxPool2D output ***\n",
      "(array([[[[0.90611405, 0.95132166],\n",
      "         [0.84386731, 0.99173978]],\n",
      "\n",
      "        [[0.9920803 , 0.66458161],\n",
      "         [0.90881899, 0.87794781]]]]), array([[[[ 1,  7],\n",
      "         [13, 10]],\n",
      "\n",
      "        [[ 1,  7],\n",
      "         [ 9, 10]]]]))\n"
     ]
    }
   ],
   "source": [
    "# get MaxPool2D output with the random inputs\n",
    "\n",
    "maxpool2d = MaxPool2D(kernel_size, stride = stride, padding = padding, dilation = dilation, return_indices = True) # call an instance of the class with the input parameters \n",
    "_output = maxpool2d.forward(_input) # perform maxpooling\n",
    "print(\"*** MaxPool2D output ***\")\n",
    "print(_output)"
   ]
  },
  {
   "cell_type": "code",
   "execution_count": 29,
   "id": "df346af0",
   "metadata": {
    "scrolled": true
   },
   "outputs": [
    {
     "name": "stdout",
     "output_type": "stream",
     "text": [
      "*** PyTorch output ***\n",
      "(tensor([[[[0.9061, 0.9513],\n",
      "          [0.8439, 0.9917]],\n",
      "\n",
      "         [[0.9921, 0.6646],\n",
      "          [0.9088, 0.8779]]]], dtype=torch.float64), tensor([[[[ 1,  7],\n",
      "          [13, 10]],\n",
      "\n",
      "         [[ 1,  7],\n",
      "          [ 9, 10]]]]))\n"
     ]
    }
   ],
   "source": [
    "# get PyTorch output with the same random inputs as above\n",
    "\n",
    "x = torch.DoubleTensor(_input)\n",
    "m = torch.nn.MaxPool2d(kernel_size, stride = stride, padding = padding, dilation = dilation, return_indices = True)\n",
    "output = m(x)\n",
    "print(\"*** PyTorch output ***\")\n",
    "print(output)"
   ]
  },
  {
   "cell_type": "code",
   "execution_count": 30,
   "id": "d8e5a3f5",
   "metadata": {
    "scrolled": true
   },
   "outputs": [
    {
     "name": "stdout",
     "output_type": "stream",
     "text": [
      "True\n"
     ]
    }
   ],
   "source": [
    "# compare outputs of MaxPool2D and PyTorch\n",
    "if isinstance(_output, tuple):\n",
    "    print(torch.equal(torch.round(torch.DoubleTensor(_output[0])), torch.round(output[0])) \n",
    "          and torch.equal(torch.round(torch.DoubleTensor(_output[1])), torch.round(output[1]))) # check if both the output and max indices are correct\n",
    "else:\n",
    "    print(torch.equal(torch.round(torch.DoubleTensor(_output)), torch.round(output))) # need to round the output due to precision difference"
   ]
  },
  {
   "cell_type": "markdown",
   "id": "c87813f3",
   "metadata": {},
   "source": [
    "### Extensive tests (random kernel, random input)"
   ]
  },
  {
   "cell_type": "code",
   "execution_count": 31,
   "id": "8b986f3c",
   "metadata": {},
   "outputs": [],
   "source": [
    "def valid_params(num_tests):\n",
    "    ''' generates `num_tests` number of valid input and kernel parameters '''\n",
    "    np.random.seed(1729)\n",
    "    params_list = []\n",
    "    sample_count = 0\n",
    "    while sample_count < num_tests:\n",
    "        in_channels = np.random.randint(20) + 1 # input channels\n",
    "        \n",
    "        kernel_h = np.random.randint(20) + 1\n",
    "        kernel_w = np.random.randint(20) + 1\n",
    "        kernel_size = (kernel_h, kernel_w) # kernel size\n",
    "        \n",
    "        padding_h = np.random.randint(10) + 1\n",
    "        padding_w = np.random.randint(10) + 1\n",
    "        padding = (padding_h, padding_w) # padding (optional)\n",
    "        stride_h = np.random.randint(5) + 1\n",
    "        stride_w = np.random.randint(5) + 1\n",
    "        stride = (stride_h, stride_w) # stride (optional)\n",
    "        dilation_h = np.random.randint(10) + 1\n",
    "        dilation_w = np.random.randint(10) + 1\n",
    "        dilation = (dilation_h, dilation_w) # dilation factor (optional)\n",
    "        \n",
    "        in_batches = np.random.randint(5) + 1 # input batches\n",
    "        in_h = np.random.randint(30) + 5 # input height\n",
    "        in_w = np.random.randint(30) + 5 # input weight\n",
    "        \n",
    "        return_indices = np.random.choice([True, False])\n",
    "        \n",
    "        ker_h_flag, ker_w_flag, out_h_flag, out_w_flag, pad_h_flag, pad_w_flag = True, True, True, True, True, True\n",
    "        \n",
    "        if in_h + 2 * padding_h < dilation_h * (kernel_h - 1) + 1: # check if (dilated) ker_h is valid\n",
    "            ker_h_flag = False\n",
    "        if in_w + 2 * padding_w < dilation_w * (kernel_w - 1) + 1: # check if (dilated) ker_w is valid\n",
    "            ker_w_flag = False\n",
    "        if ((in_h + 2 * padding_h - (dilation_h * (kernel_h - 1) + 1)) / stride_h) + 1 < 0: # check if out_h is valid\n",
    "            out_h_flag = False\n",
    "        if ((in_w + 2 * padding_w - (dilation_w * (kernel_w - 1) + 1)) / stride_w) + 1 < 0: # check if out_w is valid\n",
    "            out_w_flag = False\n",
    "        if padding_h > kernel_h // 2: # as PyTorch mandates this\n",
    "            pad_h_flag = False\n",
    "        if padding_w > kernel_w // 2: # as PyTorch mandates this\n",
    "            pad_w_flag = False\n",
    "    \n",
    "        if ker_h_flag and ker_w_flag and out_h_flag and out_w_flag and pad_h_flag and pad_w_flag:\n",
    "            params_list.append({'in_channels': in_channels, 'kernel_size': kernel_size,\n",
    "                          'padding': padding, 'stride': stride, 'dilation': dilation, 'in_batches': in_batches,\n",
    "                          'in_h': in_h, 'in_w': in_w, 'return_indices': return_indices})\n",
    "            sample_count += 1\n",
    "    return params_list"
   ]
  },
  {
   "cell_type": "code",
   "execution_count": 32,
   "id": "472a4c0f",
   "metadata": {
    "scrolled": true
   },
   "outputs": [],
   "source": [
    "def run_tests(num_tests):\n",
    "    ''' sweep different input parameters and test by comparing outputs of Conv2D and PyTorch '''\n",
    "    \n",
    "    num_passed = 0\n",
    "    num_values_passed = 0\n",
    "    num_indices_passed = 0\n",
    "    num_indices_tests = 0\n",
    "    params_list = valid_params(num_tests)\n",
    "    print('Number of tests: {}\\n\\n'.format(len(params_list)))\n",
    "\n",
    "    for i, params in enumerate(tqdm(params_list)):\n",
    "        print('Test: {}\\nParams: {}'.format(i, params))\n",
    "        in_channels = params['in_channels'] # input channels\n",
    "        kernel_size = params['kernel_size'] # kernel size\n",
    "\n",
    "        padding = params['padding'] # padding (optional)\n",
    "        stride = params['stride'] # stride (optional)\n",
    "        dilation = params['dilation'] # dilation factor (optional)\n",
    "        return_indices = return_indices = params['return_indices'] # return indices (optional)\n",
    "        \n",
    "        in_batches = params['in_batches'] # input batches\n",
    "        in_h = params['in_h'] # input height\n",
    "        in_w = params['in_w'] # input weight\n",
    "        \n",
    "        _input = np.random.rand(in_batches, in_channels, in_h, in_w) # define a random image based on the input parameters\n",
    "    \n",
    "        try:\n",
    "            # get MaxPool2D output with the random inputs\n",
    "            maxpool2d = MaxPool2D(kernel_size, stride = stride, padding = padding, dilation = dilation, return_indices = return_indices) # call an instance of the class with the input parameters \n",
    "            _output = maxpool2d.forward(_input) # perform convolution\n",
    "\n",
    "            # get PyTorch output with the same random inputs as above\n",
    "            x = torch.DoubleTensor(_input)\n",
    "            m = torch.nn.MaxPool2d(kernel_size, stride = stride, padding = padding, dilation = dilation, return_indices = return_indices)\n",
    "            output = m(x)\n",
    "\n",
    "        except Exception as e:\n",
    "            print(e)\n",
    "            print('Result: False\\n\\n') # treating exception as a failed test\n",
    "            continue\n",
    "\n",
    "        # compare outputs of MaxPool2D and PyTorch\n",
    "        if isinstance(_output, tuple):\n",
    "            result = torch.equal(torch.round(torch.DoubleTensor(_output[0])), torch.round(output[0])) and torch.equal(torch.round(torch.DoubleTensor(_output[1])), torch.round(output[1])) # check if both the output and max indices are correct\n",
    "            result_value = torch.equal(torch.round(torch.DoubleTensor(_output[0])), torch.round(output[0])) # check if both the output and max indices are correct\n",
    "            result_indices = torch.equal(torch.round(torch.DoubleTensor(_output[1])), torch.round(output[1]))\n",
    "            num_indices_tests += 1\n",
    "            print('Result (value): {}'.format(result_value))\n",
    "            print('Result (indices): {}'.format(result_indices))\n",
    "            print('Result (overall): {}\\n\\n'.format(result))\n",
    "        else:\n",
    "            result = torch.equal(torch.round(torch.DoubleTensor(_output)), torch.round(output)) # need to round the output due to precision difference\n",
    "            result_value = result\n",
    "            print('Result (overall): {}\\n\\n'.format(result))\n",
    "        if result_value:\n",
    "            num_values_passed += 1\n",
    "        if result_indices:\n",
    "            num_indices_passed += 1\n",
    "        if result:\n",
    "            num_passed += 1\n",
    "    print('{} out of {} ({}%) value tests passed'.format(num_values_passed, num_tests, float(100 * num_values_passed / num_tests)))\n",
    "    print('{} out of {} ({}%) indices tests passed'.format(num_indices_passed, num_indices_tests, float(100 * num_indices_passed / num_indices_tests)))\n",
    "    print('{} out of {} ({}%) overall tests passed'.format(num_passed, num_tests, float(100 * num_passed / num_tests)))\n",
    "          "
   ]
  },
  {
   "cell_type": "code",
   "execution_count": null,
   "id": "ab748d82",
   "metadata": {},
   "outputs": [
    {
     "name": "stdout",
     "output_type": "stream",
     "text": [
      "Number of tests: 300\n",
      "\n",
      "\n"
     ]
    },
    {
     "name": "stderr",
     "output_type": "stream",
     "text": [
      "\r",
      "  0%|                                                   | 0/300 [00:00<?, ?it/s]"
     ]
    },
    {
     "name": "stdout",
     "output_type": "stream",
     "text": [
      "Test: 0\n",
      "Params: {'in_channels': 16, 'kernel_size': (20, 12), 'padding': (7, 4), 'stride': (4, 5), 'dilation': (1, 1), 'in_batches': 2, 'in_h': 15, 'in_w': 26, 'return_indices': True}\n"
     ]
    },
    {
     "name": "stderr",
     "output_type": "stream",
     "text": [
      "\r",
      "  0%|▏                                          | 1/300 [00:00<01:10,  4.22it/s]"
     ]
    },
    {
     "name": "stdout",
     "output_type": "stream",
     "text": [
      "Result (value): True\n",
      "Result (indices): False\n",
      "Result (overall): False\n",
      "\n",
      "\n",
      "Test: 1\n",
      "Params: {'in_channels': 18, 'kernel_size': (10, 20), 'padding': (2, 5), 'stride': (4, 4), 'dilation': (2, 1), 'in_batches': 1, 'in_h': 26, 'in_w': 14, 'return_indices': True}\n",
      "Result (value): True\n",
      "Result (indices): False\n",
      "Result (overall): False\n",
      "\n",
      "\n",
      "Test: 2\n",
      "Params: {'in_channels': 3, 'kernel_size': (2, 19), 'padding': (1, 1), 'stride': (1, 3), 'dilation': (7, 1), 'in_batches': 5, 'in_h': 25, 'in_w': 32, 'return_indices': True}\n"
     ]
    },
    {
     "name": "stderr",
     "output_type": "stream",
     "text": [
      "\r",
      "  1%|▍                                          | 3/300 [00:00<01:26,  3.42it/s]"
     ]
    },
    {
     "name": "stdout",
     "output_type": "stream",
     "text": [
      "Result (value): True\n",
      "Result (indices): False\n",
      "Result (overall): False\n",
      "\n",
      "\n",
      "Test: 3\n",
      "Params: {'in_channels': 1, 'kernel_size': (9, 18), 'padding': (2, 4), 'stride': (3, 3), 'dilation': (1, 1), 'in_batches': 5, 'in_h': 21, 'in_w': 16, 'return_indices': True}\n",
      "Result (value): True\n",
      "Result (indices): False\n",
      "Result (overall): False\n",
      "\n",
      "\n",
      "Test: 4\n",
      "Params: {'in_channels': 19, 'kernel_size': (10, 8), 'padding': (5, 4), 'stride': (2, 3), 'dilation': (1, 2), 'in_batches': 5, 'in_h': 20, 'in_w': 33, 'return_indices': True}\n"
     ]
    },
    {
     "name": "stderr",
     "output_type": "stream",
     "text": [
      "\r",
      "  2%|▋                                          | 5/300 [00:04<04:53,  1.00it/s]"
     ]
    },
    {
     "name": "stdout",
     "output_type": "stream",
     "text": [
      "Result (value): True\n",
      "Result (indices): False\n",
      "Result (overall): False\n",
      "\n",
      "\n",
      "Test: 5\n",
      "Params: {'in_channels': 9, 'kernel_size': (15, 16), 'padding': (4, 6), 'stride': (3, 4), 'dilation': (1, 2), 'in_batches': 4, 'in_h': 10, 'in_w': 27, 'return_indices': True}\n"
     ]
    },
    {
     "name": "stderr",
     "output_type": "stream",
     "text": [
      "\r",
      "  2%|▊                                          | 6/300 [00:04<03:50,  1.27it/s]"
     ]
    },
    {
     "name": "stdout",
     "output_type": "stream",
     "text": [
      "Result (value): True\n",
      "Result (indices): False\n",
      "Result (overall): False\n",
      "\n",
      "\n",
      "Test: 6\n",
      "Params: {'in_channels': 4, 'kernel_size': (6, 8), 'padding': (1, 4), 'stride': (2, 5), 'dilation': (1, 3), 'in_batches': 1, 'in_h': 12, 'in_w': 30, 'return_indices': True}\n",
      "Result (value): True\n",
      "Result (indices): False\n",
      "Result (overall): False\n",
      "\n",
      "\n",
      "Test: 7\n",
      "Params: {'in_channels': 17, 'kernel_size': (11, 14), 'padding': (3, 5), 'stride': (5, 5), 'dilation': (3, 2), 'in_batches': 3, 'in_h': 34, 'in_w': 30, 'return_indices': True}\n"
     ]
    },
    {
     "name": "stderr",
     "output_type": "stream",
     "text": [
      "\r",
      "  3%|█▏                                         | 8/300 [00:05<02:51,  1.70it/s]"
     ]
    },
    {
     "name": "stdout",
     "output_type": "stream",
     "text": [
      "Result (value): True\n",
      "Result (indices): False\n",
      "Result (overall): False\n",
      "\n",
      "\n",
      "Test: 8\n",
      "Params: {'in_channels': 13, 'kernel_size': (13, 12), 'padding': (3, 5), 'stride': (2, 1), 'dilation': (1, 3), 'in_batches': 5, 'in_h': 28, 'in_w': 29, 'return_indices': False}\n"
     ]
    },
    {
     "name": "stderr",
     "output_type": "stream",
     "text": [
      "  4%|█▋                                        | 12/300 [00:09<03:22,  1.42it/s]"
     ]
    },
    {
     "name": "stdout",
     "output_type": "stream",
     "text": [
      "Result (overall): True\n",
      "\n",
      "\n",
      "Test: 9\n",
      "Params: {'in_channels': 8, 'kernel_size': (20, 10), 'padding': (7, 3), 'stride': (4, 4), 'dilation': (1, 2), 'in_batches': 1, 'in_h': 9, 'in_w': 31, 'return_indices': True}\n",
      "Result (value): True\n",
      "Result (indices): False\n",
      "Result (overall): False\n",
      "\n",
      "\n",
      "Test: 10\n",
      "Params: {'in_channels': 1, 'kernel_size': (6, 8), 'padding': (2, 2), 'stride': (5, 3), 'dilation': (5, 1), 'in_batches': 4, 'in_h': 31, 'in_w': 25, 'return_indices': True}\n",
      "Result (value): True\n",
      "Result (indices): False\n",
      "Result (overall): False\n",
      "\n",
      "\n",
      "Test: 11\n",
      "Params: {'in_channels': 11, 'kernel_size': (17, 6), 'padding': (3, 2), 'stride': (4, 2), 'dilation': (1, 1), 'in_batches': 1, 'in_h': 33, 'in_w': 11, 'return_indices': True}\n",
      "Result (value): True\n",
      "Result (indices): False\n",
      "Result (overall): False\n",
      "\n",
      "\n",
      "Test: 12\n",
      "Params: {'in_channels': 18, 'kernel_size': (14, 17), 'padding': (4, 8), 'stride': (4, 1), 'dilation': (1, 1), 'in_batches': 1, 'in_h': 6, 'in_w': 23, 'return_indices': False}\n"
     ]
    },
    {
     "name": "stderr",
     "output_type": "stream",
     "text": [
      "  5%|█▉                                        | 14/300 [00:09<02:26,  1.95it/s]"
     ]
    },
    {
     "name": "stdout",
     "output_type": "stream",
     "text": [
      "Result (overall): True\n",
      "\n",
      "\n",
      "Test: 13\n",
      "Params: {'in_channels': 7, 'kernel_size': (8, 5), 'padding': (4, 2), 'stride': (5, 2), 'dilation': (1, 1), 'in_batches': 5, 'in_h': 17, 'in_w': 29, 'return_indices': True}\n",
      "Result (value): True\n",
      "Result (indices): False\n",
      "Result (overall): False\n",
      "\n",
      "\n",
      "Test: 14\n",
      "Params: {'in_channels': 6, 'kernel_size': (5, 10), 'padding': (2, 5), 'stride': (3, 4), 'dilation': (2, 2), 'in_batches': 4, 'in_h': 11, 'in_w': 32, 'return_indices': True}\n"
     ]
    },
    {
     "name": "stderr",
     "output_type": "stream",
     "text": [
      "\r",
      "  5%|██                                        | 15/300 [00:09<02:02,  2.34it/s]"
     ]
    },
    {
     "name": "stdout",
     "output_type": "stream",
     "text": [
      "Result (value): True\n",
      "Result (indices): False\n",
      "Result (overall): False\n",
      "\n",
      "\n",
      "Test: 15\n",
      "Params: {'in_channels': 18, 'kernel_size': (10, 10), 'padding': (3, 3), 'stride': (2, 4), 'dilation': (2, 3), 'in_batches': 5, 'in_h': 14, 'in_w': 33, 'return_indices': False}\n"
     ]
    },
    {
     "name": "stderr",
     "output_type": "stream",
     "text": [
      "\r",
      "  5%|██▏                                       | 16/300 [00:09<01:50,  2.57it/s]"
     ]
    },
    {
     "name": "stdout",
     "output_type": "stream",
     "text": [
      "Result (overall): True\n",
      "\n",
      "\n",
      "Test: 16\n",
      "Params: {'in_channels': 15, 'kernel_size': (14, 5), 'padding': (5, 2), 'stride': (5, 5), 'dilation': (1, 7), 'in_batches': 5, 'in_h': 23, 'in_w': 29, 'return_indices': True}\n"
     ]
    },
    {
     "name": "stderr",
     "output_type": "stream",
     "text": [
      "\r",
      "  6%|██▍                                       | 17/300 [00:10<01:42,  2.75it/s]"
     ]
    },
    {
     "name": "stdout",
     "output_type": "stream",
     "text": [
      "Result (value): True\n",
      "Result (indices): False\n",
      "Result (overall): False\n",
      "\n",
      "\n",
      "Test: 17\n",
      "Params: {'in_channels': 8, 'kernel_size': (12, 20), 'padding': (1, 7), 'stride': (1, 3), 'dilation': (1, 1), 'in_batches': 3, 'in_h': 17, 'in_w': 21, 'return_indices': True}\n"
     ]
    },
    {
     "name": "stderr",
     "output_type": "stream",
     "text": [
      "\r",
      "  6%|██▌                                       | 18/300 [00:10<01:56,  2.41it/s]"
     ]
    },
    {
     "name": "stdout",
     "output_type": "stream",
     "text": [
      "Result (value): True\n",
      "Result (indices): False\n",
      "Result (overall): False\n",
      "\n",
      "\n",
      "Test: 18\n",
      "Params: {'in_channels': 7, 'kernel_size': (8, 3), 'padding': (4, 1), 'stride': (1, 1), 'dilation': (1, 9), 'in_batches': 4, 'in_h': 8, 'in_w': 24, 'return_indices': False}\n"
     ]
    },
    {
     "name": "stderr",
     "output_type": "stream",
     "text": [
      "  7%|██▊                                       | 20/300 [00:11<01:50,  2.55it/s]"
     ]
    },
    {
     "name": "stdout",
     "output_type": "stream",
     "text": [
      "Result (overall): True\n",
      "\n",
      "\n",
      "Test: 19\n",
      "Params: {'in_channels': 15, 'kernel_size': (6, 13), 'padding': (1, 1), 'stride': (5, 5), 'dilation': (3, 1), 'in_batches': 1, 'in_h': 34, 'in_w': 27, 'return_indices': True}\n",
      "Result (value): True\n",
      "Result (indices): False\n",
      "Result (overall): False\n",
      "\n",
      "\n",
      "Test: 20\n",
      "Params: {'in_channels': 20, 'kernel_size': (9, 15), 'padding': (2, 6), 'stride': (3, 1), 'dilation': (2, 1), 'in_batches': 5, 'in_h': 31, 'in_w': 19, 'return_indices': True}\n"
     ]
    },
    {
     "name": "stderr",
     "output_type": "stream",
     "text": [
      "\r",
      "  7%|██▉                                       | 21/300 [00:16<08:34,  1.84s/it]"
     ]
    },
    {
     "name": "stdout",
     "output_type": "stream",
     "text": [
      "Result (value): True\n",
      "Result (indices): False\n",
      "Result (overall): False\n",
      "\n",
      "\n",
      "Test: 21\n",
      "Params: {'in_channels': 1, 'kernel_size': (4, 17), 'padding': (1, 3), 'stride': (1, 5), 'dilation': (6, 1), 'in_batches': 5, 'in_h': 22, 'in_w': 17, 'return_indices': False}\n",
      "Result (overall): True\n",
      "\n",
      "\n",
      "Test: 22\n",
      "Params: {'in_channels': 19, 'kernel_size': (18, 9), 'padding': (9, 4), 'stride': (2, 3), 'dilation': (2, 1), 'in_batches': 2, 'in_h': 20, 'in_w': 17, 'return_indices': True}\n"
     ]
    },
    {
     "name": "stderr",
     "output_type": "stream",
     "text": [
      "\r",
      "  8%|███▏                                      | 23/300 [00:17<04:58,  1.08s/it]"
     ]
    },
    {
     "name": "stdout",
     "output_type": "stream",
     "text": [
      "Result (value): True\n",
      "Result (indices): False\n",
      "Result (overall): False\n",
      "\n",
      "\n",
      "Test: 23\n",
      "Params: {'in_channels': 14, 'kernel_size': (8, 9), 'padding': (2, 2), 'stride': (4, 5), 'dilation': (2, 2), 'in_batches': 5, 'in_h': 28, 'in_w': 32, 'return_indices': True}\n"
     ]
    },
    {
     "name": "stderr",
     "output_type": "stream",
     "text": [
      "\r",
      "  8%|███▎                                      | 24/300 [00:17<04:28,  1.03it/s]"
     ]
    },
    {
     "name": "stdout",
     "output_type": "stream",
     "text": [
      "Result (value): True\n",
      "Result (indices): False\n",
      "Result (overall): False\n",
      "\n",
      "\n",
      "Test: 24\n",
      "Params: {'in_channels': 10, 'kernel_size': (20, 12), 'padding': (10, 6), 'stride': (3, 5), 'dilation': (1, 2), 'in_batches': 2, 'in_h': 33, 'in_w': 34, 'return_indices': False}\n"
     ]
    },
    {
     "name": "stderr",
     "output_type": "stream",
     "text": [
      "\r",
      "  8%|███▌                                      | 25/300 [00:18<04:27,  1.03it/s]"
     ]
    },
    {
     "name": "stdout",
     "output_type": "stream",
     "text": [
      "Result (overall): True\n",
      "\n",
      "\n",
      "Test: 25\n",
      "Params: {'in_channels': 5, 'kernel_size': (7, 17), 'padding': (2, 6), 'stride': (1, 5), 'dilation': (1, 2), 'in_batches': 4, 'in_h': 9, 'in_w': 25, 'return_indices': False}\n",
      "Result (overall): True\n",
      "\n",
      "\n",
      "Test: 26\n",
      "Params: {'in_channels': 19, 'kernel_size': (17, 12), 'padding': (8, 4), 'stride': (2, 2), 'dilation': (2, 3), 'in_batches': 3, 'in_h': 17, 'in_w': 31, 'return_indices': False}\n"
     ]
    },
    {
     "name": "stderr",
     "output_type": "stream",
     "text": [
      "\r",
      "  9%|███▊                                      | 27/300 [00:19<02:56,  1.55it/s]"
     ]
    },
    {
     "name": "stdout",
     "output_type": "stream",
     "text": [
      "Result (overall): True\n",
      "\n",
      "\n",
      "Test: 27\n",
      "Params: {'in_channels': 14, 'kernel_size': (10, 11), 'padding': (5, 5), 'stride': (3, 2), 'dilation': (1, 1), 'in_batches': 4, 'in_h': 12, 'in_w': 15, 'return_indices': False}\n"
     ]
    },
    {
     "name": "stderr",
     "output_type": "stream",
     "text": [
      "\r",
      "  9%|███▉                                      | 28/300 [00:19<02:44,  1.66it/s]"
     ]
    },
    {
     "name": "stdout",
     "output_type": "stream",
     "text": [
      "Result (overall): True\n",
      "\n",
      "\n",
      "Test: 28\n",
      "Params: {'in_channels': 19, 'kernel_size': (14, 18), 'padding': (2, 7), 'stride': (1, 1), 'dilation': (1, 1), 'in_batches': 4, 'in_h': 21, 'in_w': 19, 'return_indices': False}\n"
     ]
    },
    {
     "name": "stderr",
     "output_type": "stream",
     "text": [
      " 10%|████▏                                     | 30/300 [00:26<06:59,  1.55s/it]"
     ]
    },
    {
     "name": "stdout",
     "output_type": "stream",
     "text": [
      "Result (overall): True\n",
      "\n",
      "\n",
      "Test: 29\n",
      "Params: {'in_channels': 13, 'kernel_size': (16, 2), 'padding': (1, 1), 'stride': (4, 2), 'dilation': (1, 5), 'in_batches': 1, 'in_h': 23, 'in_w': 33, 'return_indices': False}\n",
      "Result (overall): True\n",
      "\n",
      "\n",
      "Test: 30\n",
      "Params: {'in_channels': 2, 'kernel_size': (20, 18), 'padding': (5, 2), 'stride': (5, 2), 'dilation': (1, 1), 'in_batches': 3, 'in_h': 23, 'in_w': 29, 'return_indices': False}\n"
     ]
    },
    {
     "name": "stderr",
     "output_type": "stream",
     "text": [
      "\r",
      " 10%|████▎                                     | 31/300 [00:26<05:14,  1.17s/it]"
     ]
    },
    {
     "name": "stdout",
     "output_type": "stream",
     "text": [
      "Result (overall): True\n",
      "\n",
      "\n",
      "Test: 31\n",
      "Params: {'in_channels': 18, 'kernel_size': (3, 4), 'padding': (1, 2), 'stride': (1, 5), 'dilation': (7, 5), 'in_batches': 3, 'in_h': 33, 'in_w': 19, 'return_indices': True}\n"
     ]
    },
    {
     "name": "stderr",
     "output_type": "stream",
     "text": [
      "\r",
      " 11%|████▍                                     | 32/300 [00:27<05:15,  1.18s/it]"
     ]
    },
    {
     "name": "stdout",
     "output_type": "stream",
     "text": [
      "Result (value): False\n",
      "Result (indices): False\n",
      "Result (overall): False\n",
      "\n",
      "\n",
      "Test: 32\n",
      "Params: {'in_channels': 1, 'kernel_size': (15, 6), 'padding': (7, 1), 'stride': (3, 3), 'dilation': (2, 6), 'in_batches': 1, 'in_h': 18, 'in_w': 29, 'return_indices': False}\n",
      "Result (overall): True\n",
      "\n",
      "\n",
      "Test: 33\n",
      "Params: {'in_channels': 1, 'kernel_size': (19, 8), 'padding': (5, 1), 'stride': (3, 2), 'dilation': (1, 3), 'in_batches': 1, 'in_h': 21, 'in_w': 33, 'return_indices': True}\n",
      "Result (value): True\n",
      "Result (indices): False\n",
      "Result (overall): False\n",
      "\n",
      "\n",
      "Test: 34\n",
      "Params: {'in_channels': 12, 'kernel_size': (9, 6), 'padding': (4, 3), 'stride': (4, 5), 'dilation': (4, 4), 'in_batches': 1, 'in_h': 26, 'in_w': 20, 'return_indices': True}\n",
      "Result (value): True\n",
      "Result (indices): False\n",
      "Result (overall): False\n",
      "\n",
      "\n",
      "Test: 35\n",
      "Params: {'in_channels': 15, 'kernel_size': (17, 14), 'padding': (6, 6), 'stride': (2, 1), 'dilation': (1, 2), 'in_batches': 3, 'in_h': 34, 'in_w': 23, 'return_indices': True}\n"
     ]
    },
    {
     "name": "stderr",
     "output_type": "stream",
     "text": [
      "\r",
      " 12%|█████                                     | 36/300 [00:32<05:29,  1.25s/it]"
     ]
    },
    {
     "name": "stdout",
     "output_type": "stream",
     "text": [
      "Result (value): True\n",
      "Result (indices): False\n",
      "Result (overall): False\n",
      "\n",
      "\n",
      "Test: 36\n",
      "Params: {'in_channels': 4, 'kernel_size': (18, 9), 'padding': (2, 1), 'stride': (2, 2), 'dilation': (1, 1), 'in_batches': 2, 'in_h': 32, 'in_w': 28, 'return_indices': False}\n"
     ]
    },
    {
     "name": "stderr",
     "output_type": "stream",
     "text": [
      "\r",
      " 12%|█████▏                                    | 37/300 [00:33<04:42,  1.07s/it]"
     ]
    },
    {
     "name": "stdout",
     "output_type": "stream",
     "text": [
      "Result (overall): True\n",
      "\n",
      "\n",
      "Test: 37\n",
      "Params: {'in_channels': 3, 'kernel_size': (20, 5), 'padding': (10, 2), 'stride': (3, 2), 'dilation': (1, 6), 'in_batches': 4, 'in_h': 8, 'in_w': 24, 'return_indices': True}\n",
      "Result (value): True\n",
      "Result (indices): False\n",
      "Result (overall): False\n",
      "\n",
      "\n",
      "Test: 38\n",
      "Params: {'in_channels': 18, 'kernel_size': (18, 4), 'padding': (1, 2), 'stride': (1, 1), 'dilation': (1, 2), 'in_batches': 3, 'in_h': 22, 'in_w': 7, 'return_indices': True}\n"
     ]
    },
    {
     "name": "stderr",
     "output_type": "stream",
     "text": [
      "\r",
      " 13%|█████▍                                    | 39/300 [00:33<03:27,  1.26it/s]"
     ]
    },
    {
     "name": "stdout",
     "output_type": "stream",
     "text": [
      "Result (value): True\n",
      "Result (indices): False\n",
      "Result (overall): False\n",
      "\n",
      "\n",
      "Test: 39\n",
      "Params: {'in_channels': 19, 'kernel_size': (13, 8), 'padding': (1, 3), 'stride': (1, 5), 'dilation': (1, 4), 'in_batches': 2, 'in_h': 30, 'in_w': 26, 'return_indices': False}\n"
     ]
    },
    {
     "name": "stderr",
     "output_type": "stream",
     "text": [
      "\r",
      " 13%|█████▌                                    | 40/300 [00:34<03:13,  1.34it/s]"
     ]
    },
    {
     "name": "stdout",
     "output_type": "stream",
     "text": [
      "Result (overall): True\n",
      "\n",
      "\n",
      "Test: 40\n",
      "Params: {'in_channels': 5, 'kernel_size': (13, 10), 'padding': (3, 4), 'stride': (2, 5), 'dilation': (2, 3), 'in_batches': 4, 'in_h': 26, 'in_w': 30, 'return_indices': True}\n"
     ]
    },
    {
     "name": "stderr",
     "output_type": "stream",
     "text": [
      "\r",
      " 14%|█████▋                                    | 41/300 [00:34<02:47,  1.54it/s]"
     ]
    },
    {
     "name": "stdout",
     "output_type": "stream",
     "text": [
      "Result (value): True\n",
      "Result (indices): False\n",
      "Result (overall): False\n",
      "\n",
      "\n",
      "Test: 41\n",
      "Params: {'in_channels': 20, 'kernel_size': (9, 10), 'padding': (1, 5), 'stride': (4, 3), 'dilation': (1, 2), 'in_batches': 3, 'in_h': 15, 'in_w': 28, 'return_indices': True}\n"
     ]
    },
    {
     "name": "stderr",
     "output_type": "stream",
     "text": [
      " 14%|██████                                    | 43/300 [00:34<02:00,  2.14it/s]"
     ]
    },
    {
     "name": "stdout",
     "output_type": "stream",
     "text": [
      "Result (value): True\n",
      "Result (indices): False\n",
      "Result (overall): False\n",
      "\n",
      "\n",
      "Test: 42\n",
      "Params: {'in_channels': 9, 'kernel_size': (4, 8), 'padding': (1, 2), 'stride': (5, 1), 'dilation': (3, 4), 'in_batches': 5, 'in_h': 12, 'in_w': 28, 'return_indices': False}\n",
      "Result (overall): True\n",
      "\n",
      "\n",
      "Test: 43\n",
      "Params: {'in_channels': 6, 'kernel_size': (16, 12), 'padding': (7, 5), 'stride': (3, 2), 'dilation': (1, 1), 'in_batches': 3, 'in_h': 32, 'in_w': 23, 'return_indices': False}\n"
     ]
    },
    {
     "name": "stderr",
     "output_type": "stream",
     "text": [
      "\r",
      " 15%|██████▏                                   | 44/300 [00:35<02:20,  1.83it/s]"
     ]
    },
    {
     "name": "stdout",
     "output_type": "stream",
     "text": [
      "Result (overall): True\n",
      "\n",
      "\n",
      "Test: 44\n",
      "Params: {'in_channels': 3, 'kernel_size': (5, 16), 'padding': (1, 8), 'stride': (5, 1), 'dilation': (2, 1), 'in_batches': 2, 'in_h': 7, 'in_w': 16, 'return_indices': True}\n",
      "Result (value): True\n",
      "Result (indices): False\n",
      "Result (overall): False\n",
      "\n",
      "\n",
      "Test: 45\n",
      "Params: {'in_channels': 14, 'kernel_size': (4, 16), 'padding': (1, 3), 'stride': (1, 1), 'dilation': (1, 2), 'in_batches': 1, 'in_h': 7, 'in_w': 27, 'return_indices': True}\n",
      "Result (value): True\n",
      "Result (indices): False\n",
      "Result (overall): False\n",
      "\n",
      "\n",
      "Test: 46\n",
      "Params: {'in_channels': 6, 'kernel_size': (9, 6), 'padding': (2, 2), 'stride': (1, 2), 'dilation': (1, 2), 'in_batches': 4, 'in_h': 17, 'in_w': 30, 'return_indices': True}\n"
     ]
    },
    {
     "name": "stderr",
     "output_type": "stream",
     "text": [
      "\r",
      " 16%|██████▌                                   | 47/300 [00:36<01:39,  2.54it/s]"
     ]
    },
    {
     "name": "stdout",
     "output_type": "stream",
     "text": [
      "Result (value): True\n",
      "Result (indices): False\n",
      "Result (overall): False\n",
      "\n",
      "\n",
      "Test: 47\n",
      "Params: {'in_channels': 7, 'kernel_size': (3, 9), 'padding': (1, 4), 'stride': (4, 2), 'dilation': (7, 3), 'in_batches': 5, 'in_h': 26, 'in_w': 22, 'return_indices': True}\n"
     ]
    },
    {
     "name": "stderr",
     "output_type": "stream",
     "text": [
      "\r",
      " 16%|██████▋                                   | 48/300 [00:36<01:34,  2.67it/s]"
     ]
    },
    {
     "name": "stdout",
     "output_type": "stream",
     "text": [
      "Result (value): True\n",
      "Result (indices): False\n",
      "Result (overall): False\n",
      "\n",
      "\n",
      "Test: 48\n",
      "Params: {'in_channels': 5, 'kernel_size': (10, 11), 'padding': (4, 2), 'stride': (4, 2), 'dilation': (4, 1), 'in_batches': 3, 'in_h': 31, 'in_w': 10, 'return_indices': False}\n",
      "Result (overall): True\n",
      "\n",
      "\n",
      "Test: 49\n",
      "Params: {'in_channels': 6, 'kernel_size': (10, 20), 'padding': (5, 1), 'stride': (5, 5), 'dilation': (4, 1), 'in_batches': 2, 'in_h': 28, 'in_w': 30, 'return_indices': False}\n",
      "Result (overall): True\n",
      "\n",
      "\n",
      "Test: 50\n",
      "Params: {'in_channels': 19, 'kernel_size': (18, 8), 'padding': (9, 4), 'stride': (5, 4), 'dilation': (2, 4), 'in_batches': 5, 'in_h': 23, 'in_w': 34, 'return_indices': False}\n"
     ]
    },
    {
     "name": "stderr",
     "output_type": "stream",
     "text": [
      " 18%|███████▍                                  | 53/300 [00:38<01:17,  3.18it/s]"
     ]
    },
    {
     "name": "stdout",
     "output_type": "stream",
     "text": [
      "Result (overall): True\n",
      "\n",
      "\n",
      "Test: 51\n",
      "Params: {'in_channels': 2, 'kernel_size': (9, 12), 'padding': (2, 1), 'stride': (5, 4), 'dilation': (2, 2), 'in_batches': 5, 'in_h': 27, 'in_w': 28, 'return_indices': False}\n",
      "Result (overall): True\n",
      "\n",
      "\n",
      "Test: 52\n",
      "Params: {'in_channels': 10, 'kernel_size': (14, 11), 'padding': (1, 5), 'stride': (5, 1), 'dilation': (1, 2), 'in_batches': 1, 'in_h': 14, 'in_w': 30, 'return_indices': True}\n",
      "Result (value): True\n",
      "Result (indices): False\n",
      "Result (overall): False\n",
      "\n",
      "\n",
      "Test: 53\n",
      "Params: {'in_channels': 16, 'kernel_size': (16, 14), 'padding': (4, 3), 'stride': (1, 1), 'dilation': (1, 1), 'in_batches': 1, 'in_h': 30, 'in_w': 27, 'return_indices': True}\n"
     ]
    },
    {
     "name": "stderr",
     "output_type": "stream",
     "text": [
      "\r",
      " 18%|███████▌                                  | 54/300 [00:41<03:12,  1.28it/s]"
     ]
    },
    {
     "name": "stdout",
     "output_type": "stream",
     "text": [
      "Result (value): True\n",
      "Result (indices): False\n",
      "Result (overall): False\n",
      "\n",
      "\n",
      "Test: 54\n",
      "Params: {'in_channels': 9, 'kernel_size': (4, 13), 'padding': (2, 5), 'stride': (5, 1), 'dilation': (9, 2), 'in_batches': 2, 'in_h': 34, 'in_w': 25, 'return_indices': True}\n"
     ]
    },
    {
     "name": "stderr",
     "output_type": "stream",
     "text": [
      " 19%|███████▉                                  | 57/300 [00:42<02:05,  1.94it/s]"
     ]
    },
    {
     "name": "stdout",
     "output_type": "stream",
     "text": [
      "Result (value): True\n",
      "Result (indices): False\n",
      "Result (overall): False\n",
      "\n",
      "\n",
      "Test: 55\n",
      "Params: {'in_channels': 18, 'kernel_size': (16, 14), 'padding': (5, 3), 'stride': (5, 5), 'dilation': (2, 2), 'in_batches': 1, 'in_h': 23, 'in_w': 32, 'return_indices': False}\n",
      "Result (overall): True\n",
      "\n",
      "\n",
      "Test: 56\n",
      "Params: {'in_channels': 11, 'kernel_size': (2, 10), 'padding': (1, 4), 'stride': (3, 4), 'dilation': (5, 3), 'in_batches': 5, 'in_h': 14, 'in_w': 23, 'return_indices': False}\n",
      "Result (overall): False\n",
      "\n",
      "\n",
      "Test: 57\n",
      "Params: {'in_channels': 16, 'kernel_size': (16, 10), 'padding': (1, 5), 'stride': (5, 5), 'dilation': (1, 3), 'in_batches': 1, 'in_h': 17, 'in_w': 25, 'return_indices': False}\n",
      "Result (overall): True\n",
      "\n",
      "\n",
      "Test: 58\n",
      "Params: {'in_channels': 7, 'kernel_size': (16, 19), 'padding': (2, 1), 'stride': (5, 5), 'dilation': (1, 1), 'in_batches': 5, 'in_h': 29, 'in_w': 29, 'return_indices': True}\n"
     ]
    },
    {
     "name": "stderr",
     "output_type": "stream",
     "text": [
      " 20%|████████▍                                 | 60/300 [00:42<01:21,  2.96it/s]"
     ]
    },
    {
     "name": "stdout",
     "output_type": "stream",
     "text": [
      "Result (value): True\n",
      "Result (indices): False\n",
      "Result (overall): False\n",
      "\n",
      "\n",
      "Test: 59\n",
      "Params: {'in_channels': 18, 'kernel_size': (4, 12), 'padding': (2, 1), 'stride': (5, 5), 'dilation': (1, 1), 'in_batches': 5, 'in_h': 18, 'in_w': 26, 'return_indices': True}\n",
      "Result (value): True\n",
      "Result (indices): False\n",
      "Result (overall): False\n",
      "\n",
      "\n",
      "Test: 60\n",
      "Params: {'in_channels': 18, 'kernel_size': (18, 5), 'padding': (9, 1), 'stride': (5, 2), 'dilation': (3, 6), 'in_batches': 1, 'in_h': 34, 'in_w': 29, 'return_indices': True}\n"
     ]
    },
    {
     "name": "stderr",
     "output_type": "stream",
     "text": [
      " 21%|████████▋                                 | 62/300 [00:42<01:04,  3.68it/s]"
     ]
    },
    {
     "name": "stdout",
     "output_type": "stream",
     "text": [
      "Result (value): True\n",
      "Result (indices): False\n",
      "Result (overall): False\n",
      "\n",
      "\n",
      "Test: 61\n",
      "Params: {'in_channels': 8, 'kernel_size': (9, 7), 'padding': (2, 1), 'stride': (4, 1), 'dilation': (1, 1), 'in_batches': 2, 'in_h': 28, 'in_w': 18, 'return_indices': False}\n",
      "Result (overall): True\n",
      "\n",
      "\n",
      "Test: 62\n",
      "Params: {'in_channels': 12, 'kernel_size': (14, 5), 'padding': (6, 1), 'stride': (2, 2), 'dilation': (2, 7), 'in_batches': 5, 'in_h': 27, 'in_w': 33, 'return_indices': False}\n"
     ]
    },
    {
     "name": "stderr",
     "output_type": "stream",
     "text": [
      " 21%|████████▉                                 | 64/300 [00:45<02:49,  1.39it/s]"
     ]
    },
    {
     "name": "stdout",
     "output_type": "stream",
     "text": [
      "Result (overall): True\n",
      "\n",
      "\n",
      "Test: 63\n",
      "Params: {'in_channels': 1, 'kernel_size': (13, 14), 'padding': (6, 4), 'stride': (3, 1), 'dilation': (1, 1), 'in_batches': 3, 'in_h': 27, 'in_w': 18, 'return_indices': True}\n",
      "Result (value): True\n",
      "Result (indices): False\n",
      "Result (overall): False\n",
      "\n",
      "\n",
      "Test: 64\n",
      "Params: {'in_channels': 18, 'kernel_size': (17, 7), 'padding': (7, 2), 'stride': (4, 3), 'dilation': (1, 2), 'in_batches': 1, 'in_h': 31, 'in_w': 20, 'return_indices': False}\n"
     ]
    },
    {
     "name": "stderr",
     "output_type": "stream",
     "text": [
      " 22%|█████████▍                                | 67/300 [00:46<01:24,  2.76it/s]"
     ]
    },
    {
     "name": "stdout",
     "output_type": "stream",
     "text": [
      "Result (overall): True\n",
      "\n",
      "\n",
      "Test: 65\n",
      "Params: {'in_channels': 13, 'kernel_size': (12, 13), 'padding': (6, 6), 'stride': (1, 1), 'dilation': (4, 3), 'in_batches': 1, 'in_h': 34, 'in_w': 25, 'return_indices': False}\n",
      "Result (overall): True\n",
      "\n",
      "\n",
      "Test: 66\n",
      "Params: {'in_channels': 9, 'kernel_size': (6, 17), 'padding': (3, 4), 'stride': (3, 4), 'dilation': (1, 1), 'in_batches': 1, 'in_h': 32, 'in_w': 20, 'return_indices': False}\n",
      "Result (overall): True\n",
      "\n",
      "\n",
      "Test: 67\n",
      "Params: {'in_channels': 4, 'kernel_size': (9, 13), 'padding': (3, 6), 'stride': (5, 4), 'dilation': (1, 1), 'in_batches': 2, 'in_h': 6, 'in_w': 7, 'return_indices': False}\n",
      "Result (overall): True\n",
      "\n",
      "\n",
      "Test: 68\n",
      "Params: {'in_channels': 9, 'kernel_size': (20, 20), 'padding': (7, 6), 'stride': (5, 5), 'dilation': (1, 1), 'in_batches': 5, 'in_h': 21, 'in_w': 8, 'return_indices': True}\n"
     ]
    },
    {
     "name": "stderr",
     "output_type": "stream",
     "text": [
      "\r",
      " 23%|█████████▋                                | 69/300 [00:46<00:58,  3.98it/s]"
     ]
    },
    {
     "name": "stdout",
     "output_type": "stream",
     "text": [
      "Result (value): True\n",
      "Result (indices): False\n",
      "Result (overall): False\n",
      "\n",
      "\n",
      "Test: 69\n",
      "Params: {'in_channels': 20, 'kernel_size': (12, 6), 'padding': (4, 3), 'stride': (2, 4), 'dilation': (1, 3), 'in_batches': 3, 'in_h': 26, 'in_w': 33, 'return_indices': True}\n"
     ]
    },
    {
     "name": "stderr",
     "output_type": "stream",
     "text": [
      " 24%|█████████▉                                | 71/300 [00:48<01:45,  2.17it/s]"
     ]
    },
    {
     "name": "stdout",
     "output_type": "stream",
     "text": [
      "Result (value): True\n",
      "Result (indices): False\n",
      "Result (overall): False\n",
      "\n",
      "\n",
      "Test: 70\n",
      "Params: {'in_channels': 6, 'kernel_size': (4, 20), 'padding': (2, 1), 'stride': (2, 1), 'dilation': (10, 1), 'in_batches': 2, 'in_h': 29, 'in_w': 21, 'return_indices': False}\n",
      "Result (overall): True\n",
      "\n",
      "\n",
      "Test: 71\n",
      "Params: {'in_channels': 11, 'kernel_size': (10, 4), 'padding': (3, 2), 'stride': (4, 5), 'dilation': (2, 5), 'in_batches': 3, 'in_h': 23, 'in_w': 17, 'return_indices': False}\n"
     ]
    },
    {
     "name": "stderr",
     "output_type": "stream",
     "text": [
      "\r",
      " 24%|██████████                                | 72/300 [00:48<01:28,  2.57it/s]"
     ]
    },
    {
     "name": "stdout",
     "output_type": "stream",
     "text": [
      "Result (overall): True\n",
      "\n",
      "\n",
      "Test: 72\n",
      "Params: {'in_channels': 17, 'kernel_size': (8, 11), 'padding': (4, 3), 'stride': (2, 4), 'dilation': (2, 3), 'in_batches': 4, 'in_h': 7, 'in_w': 31, 'return_indices': True}\n"
     ]
    },
    {
     "name": "stderr",
     "output_type": "stream",
     "text": [
      "\r",
      " 24%|██████████▏                               | 73/300 [00:48<01:17,  2.94it/s]"
     ]
    },
    {
     "name": "stdout",
     "output_type": "stream",
     "text": [
      "Result (value): True\n",
      "Result (indices): False\n",
      "Result (overall): False\n",
      "\n",
      "\n",
      "Test: 73\n",
      "Params: {'in_channels': 2, 'kernel_size': (9, 18), 'padding': (2, 8), 'stride': (1, 1), 'dilation': (1, 2), 'in_batches': 5, 'in_h': 11, 'in_w': 24, 'return_indices': True}\n"
     ]
    },
    {
     "name": "stderr",
     "output_type": "stream",
     "text": [
      " 25%|██████████▌                               | 75/300 [00:49<01:02,  3.60it/s]"
     ]
    },
    {
     "name": "stdout",
     "output_type": "stream",
     "text": [
      "Result (value): True\n",
      "Result (indices): False\n",
      "Result (overall): False\n",
      "\n",
      "\n",
      "Test: 74\n",
      "Params: {'in_channels': 16, 'kernel_size': (9, 5), 'padding': (2, 2), 'stride': (5, 5), 'dilation': (3, 1), 'in_batches': 2, 'in_h': 28, 'in_w': 22, 'return_indices': True}\n",
      "Result (value): True\n",
      "Result (indices): False\n",
      "Result (overall): False\n",
      "\n",
      "\n",
      "Test: 75\n",
      "Params: {'in_channels': 13, 'kernel_size': (2, 12), 'padding': (1, 5), 'stride': (2, 1), 'dilation': (4, 2), 'in_batches': 3, 'in_h': 27, 'in_w': 34, 'return_indices': False}\n"
     ]
    },
    {
     "name": "stderr",
     "output_type": "stream",
     "text": [
      "\r",
      " 25%|██████████▋                               | 76/300 [00:51<03:30,  1.06it/s]"
     ]
    },
    {
     "name": "stdout",
     "output_type": "stream",
     "text": [
      "Result (overall): False\n",
      "\n",
      "\n",
      "Test: 76\n",
      "Params: {'in_channels': 5, 'kernel_size': (10, 20), 'padding': (1, 6), 'stride': (5, 2), 'dilation': (2, 1), 'in_batches': 5, 'in_h': 30, 'in_w': 18, 'return_indices': False}\n"
     ]
    },
    {
     "name": "stderr",
     "output_type": "stream",
     "text": [
      "\r",
      " 26%|██████████▊                               | 77/300 [00:52<02:49,  1.32it/s]"
     ]
    },
    {
     "name": "stdout",
     "output_type": "stream",
     "text": [
      "Result (overall): True\n",
      "\n",
      "\n",
      "Test: 77\n",
      "Params: {'in_channels': 8, 'kernel_size': (14, 8), 'padding': (4, 2), 'stride': (4, 4), 'dilation': (1, 4), 'in_batches': 4, 'in_h': 29, 'in_w': 33, 'return_indices': True}\n"
     ]
    },
    {
     "name": "stderr",
     "output_type": "stream",
     "text": [
      "\r",
      " 26%|██████████▉                               | 78/300 [00:52<02:26,  1.51it/s]"
     ]
    },
    {
     "name": "stdout",
     "output_type": "stream",
     "text": [
      "Result (value): True\n",
      "Result (indices): False\n",
      "Result (overall): False\n",
      "\n",
      "\n",
      "Test: 78\n",
      "Params: {'in_channels': 18, 'kernel_size': (2, 4), 'padding': (1, 2), 'stride': (3, 4), 'dilation': (7, 4), 'in_batches': 5, 'in_h': 14, 'in_w': 24, 'return_indices': False}\n"
     ]
    },
    {
     "name": "stderr",
     "output_type": "stream",
     "text": [
      "\r",
      " 26%|███████████                               | 79/300 [00:52<01:57,  1.88it/s]"
     ]
    },
    {
     "name": "stdout",
     "output_type": "stream",
     "text": [
      "Result (overall): False\n",
      "\n",
      "\n",
      "Test: 79\n",
      "Params: {'in_channels': 2, 'kernel_size': (3, 20), 'padding': (1, 4), 'stride': (2, 4), 'dilation': (4, 1), 'in_batches': 1, 'in_h': 16, 'in_w': 21, 'return_indices': False}\n",
      "Result (overall): True\n",
      "\n",
      "\n",
      "Test: 80\n",
      "Params: {'in_channels': 9, 'kernel_size': (20, 8), 'padding': (1, 2), 'stride': (1, 1), 'dilation': (1, 4), 'in_batches': 3, 'in_h': 24, 'in_w': 32, 'return_indices': True}\n"
     ]
    },
    {
     "name": "stderr",
     "output_type": "stream",
     "text": [
      "\r",
      " 27%|███████████▎                              | 81/300 [00:54<02:28,  1.48it/s]"
     ]
    },
    {
     "name": "stdout",
     "output_type": "stream",
     "text": [
      "Result (value): True\n",
      "Result (indices): False\n",
      "Result (overall): False\n",
      "\n",
      "\n",
      "Test: 81\n",
      "Params: {'in_channels': 17, 'kernel_size': (4, 20), 'padding': (2, 10), 'stride': (4, 2), 'dilation': (1, 2), 'in_batches': 2, 'in_h': 26, 'in_w': 24, 'return_indices': True}\n"
     ]
    },
    {
     "name": "stderr",
     "output_type": "stream",
     "text": [
      "\r",
      " 27%|███████████▍                              | 82/300 [00:54<02:05,  1.74it/s]"
     ]
    },
    {
     "name": "stdout",
     "output_type": "stream",
     "text": [
      "Result (value): True\n",
      "Result (indices): False\n",
      "Result (overall): False\n",
      "\n",
      "\n",
      "Test: 82\n",
      "Params: {'in_channels': 11, 'kernel_size': (18, 18), 'padding': (4, 5), 'stride': (2, 5), 'dilation': (1, 1), 'in_batches': 5, 'in_h': 29, 'in_w': 17, 'return_indices': False}\n"
     ]
    },
    {
     "name": "stderr",
     "output_type": "stream",
     "text": [
      " 28%|███████████▊                              | 84/300 [00:55<01:44,  2.06it/s]"
     ]
    },
    {
     "name": "stdout",
     "output_type": "stream",
     "text": [
      "Result (overall): True\n",
      "\n",
      "\n",
      "Test: 83\n",
      "Params: {'in_channels': 2, 'kernel_size': (9, 18), 'padding': (3, 9), 'stride': (5, 1), 'dilation': (1, 1), 'in_batches': 5, 'in_h': 9, 'in_w': 22, 'return_indices': False}\n",
      "Result (overall): True\n",
      "\n",
      "\n",
      "Test: 84\n",
      "Params: {'in_channels': 14, 'kernel_size': (14, 10), 'padding': (5, 1), 'stride': (1, 1), 'dilation': (2, 1), 'in_batches': 4, 'in_h': 25, 'in_w': 30, 'return_indices': False}\n"
     ]
    },
    {
     "name": "stderr",
     "output_type": "stream",
     "text": [
      "\r",
      " 28%|███████████▉                              | 85/300 [01:01<07:02,  1.97s/it]"
     ]
    },
    {
     "name": "stdout",
     "output_type": "stream",
     "text": [
      "Result (overall): True\n",
      "\n",
      "\n",
      "Test: 85\n",
      "Params: {'in_channels': 7, 'kernel_size': (8, 13), 'padding': (2, 3), 'stride': (4, 3), 'dilation': (2, 1), 'in_batches': 3, 'in_h': 32, 'in_w': 22, 'return_indices': True}\n"
     ]
    },
    {
     "name": "stderr",
     "output_type": "stream",
     "text": [
      "\r",
      " 29%|████████████                              | 86/300 [01:01<05:17,  1.48s/it]"
     ]
    },
    {
     "name": "stdout",
     "output_type": "stream",
     "text": [
      "Result (value): True\n",
      "Result (indices): False\n",
      "Result (overall): False\n",
      "\n",
      "\n",
      "Test: 86\n",
      "Params: {'in_channels': 5, 'kernel_size': (19, 18), 'padding': (6, 9), 'stride': (5, 5), 'dilation': (1, 2), 'in_batches': 1, 'in_h': 22, 'in_w': 24, 'return_indices': False}\n",
      "Result (overall): True\n",
      "\n",
      "\n",
      "Test: 87\n",
      "Params: {'in_channels': 9, 'kernel_size': (9, 16), 'padding': (1, 8), 'stride': (1, 3), 'dilation': (1, 1), 'in_batches': 5, 'in_h': 34, 'in_w': 34, 'return_indices': False}\n"
     ]
    },
    {
     "name": "stderr",
     "output_type": "stream",
     "text": [
      " 30%|████████████▍                             | 89/300 [01:05<04:45,  1.35s/it]"
     ]
    },
    {
     "name": "stdout",
     "output_type": "stream",
     "text": [
      "Result (overall): True\n",
      "\n",
      "\n",
      "Test: 88\n",
      "Params: {'in_channels': 6, 'kernel_size': (7, 3), 'padding': (2, 1), 'stride': (5, 2), 'dilation': (2, 4), 'in_batches': 1, 'in_h': 30, 'in_w': 33, 'return_indices': False}\n",
      "Result (overall): True\n",
      "\n",
      "\n",
      "Test: 89\n",
      "Params: {'in_channels': 10, 'kernel_size': (7, 9), 'padding': (2, 3), 'stride': (1, 2), 'dilation': (3, 1), 'in_batches': 1, 'in_h': 20, 'in_w': 33, 'return_indices': False}\n"
     ]
    },
    {
     "name": "stderr",
     "output_type": "stream",
     "text": [
      "\r",
      " 30%|████████████▌                             | 90/300 [01:06<03:47,  1.08s/it]"
     ]
    },
    {
     "name": "stdout",
     "output_type": "stream",
     "text": [
      "Result (overall): True\n",
      "\n",
      "\n",
      "Test: 90\n",
      "Params: {'in_channels': 2, 'kernel_size': (19, 5), 'padding': (3, 2), 'stride': (3, 3), 'dilation': (1, 2), 'in_batches': 1, 'in_h': 15, 'in_w': 13, 'return_indices': False}\n",
      "Result (overall): True\n",
      "\n",
      "\n",
      "Test: 91\n",
      "Params: {'in_channels': 13, 'kernel_size': (11, 20), 'padding': (1, 9), 'stride': (1, 2), 'dilation': (1, 2), 'in_batches': 4, 'in_h': 11, 'in_w': 24, 'return_indices': True}\n"
     ]
    },
    {
     "name": "stderr",
     "output_type": "stream",
     "text": [
      "\r",
      " 31%|████████████▉                             | 92/300 [01:06<02:20,  1.48it/s]"
     ]
    },
    {
     "name": "stdout",
     "output_type": "stream",
     "text": [
      "Result (value): True\n",
      "Result (indices): False\n",
      "Result (overall): False\n",
      "\n",
      "\n",
      "Test: 92\n",
      "Params: {'in_channels': 18, 'kernel_size': (17, 16), 'padding': (2, 5), 'stride': (1, 5), 'dilation': (1, 2), 'in_batches': 4, 'in_h': 33, 'in_w': 22, 'return_indices': True}\n"
     ]
    },
    {
     "name": "stderr",
     "output_type": "stream",
     "text": [
      "\r",
      " 31%|█████████████                             | 93/300 [01:07<02:54,  1.18it/s]"
     ]
    },
    {
     "name": "stdout",
     "output_type": "stream",
     "text": [
      "Result (value): True\n",
      "Result (indices): False\n",
      "Result (overall): False\n",
      "\n",
      "\n",
      "Test: 93\n",
      "Params: {'in_channels': 10, 'kernel_size': (15, 17), 'padding': (1, 6), 'stride': (2, 3), 'dilation': (1, 2), 'in_batches': 2, 'in_h': 28, 'in_w': 30, 'return_indices': False}\n"
     ]
    },
    {
     "name": "stderr",
     "output_type": "stream",
     "text": [
      "\r",
      " 31%|█████████████▏                            | 94/300 [01:08<02:39,  1.29it/s]"
     ]
    },
    {
     "name": "stdout",
     "output_type": "stream",
     "text": [
      "Result (overall): True\n",
      "\n",
      "\n",
      "Test: 94\n",
      "Params: {'in_channels': 12, 'kernel_size': (5, 14), 'padding': (2, 5), 'stride': (5, 2), 'dilation': (3, 2), 'in_batches': 4, 'in_h': 29, 'in_w': 32, 'return_indices': False}\n"
     ]
    },
    {
     "name": "stderr",
     "output_type": "stream",
     "text": [
      " 32%|█████████████▌                            | 97/300 [01:09<01:48,  1.88it/s]"
     ]
    },
    {
     "name": "stdout",
     "output_type": "stream",
     "text": [
      "Result (overall): True\n",
      "\n",
      "\n",
      "Test: 95\n",
      "Params: {'in_channels': 14, 'kernel_size': (6, 20), 'padding': (2, 2), 'stride': (4, 2), 'dilation': (1, 1), 'in_batches': 1, 'in_h': 12, 'in_w': 26, 'return_indices': True}\n",
      "Result (value): True\n",
      "Result (indices): False\n",
      "Result (overall): False\n",
      "\n",
      "\n",
      "Test: 96\n",
      "Params: {'in_channels': 6, 'kernel_size': (10, 4), 'padding': (5, 2), 'stride': (5, 3), 'dilation': (4, 3), 'in_batches': 4, 'in_h': 33, 'in_w': 10, 'return_indices': False}\n",
      "Result (overall): True\n",
      "\n",
      "\n",
      "Test: 97\n",
      "Params: {'in_channels': 8, 'kernel_size': (5, 7), 'padding': (1, 1), 'stride': (4, 2), 'dilation': (2, 3), 'in_batches': 5, 'in_h': 25, 'in_w': 27, 'return_indices': False}\n"
     ]
    },
    {
     "name": "stderr",
     "output_type": "stream",
     "text": [
      "\r",
      " 33%|█████████████▋                            | 98/300 [01:10<01:40,  2.01it/s]"
     ]
    },
    {
     "name": "stdout",
     "output_type": "stream",
     "text": [
      "Result (overall): True\n",
      "\n",
      "\n",
      "Test: 98\n",
      "Params: {'in_channels': 20, 'kernel_size': (3, 15), 'padding': (1, 7), 'stride': (4, 1), 'dilation': (8, 2), 'in_batches': 2, 'in_h': 22, 'in_w': 24, 'return_indices': False}\n"
     ]
    },
    {
     "name": "stderr",
     "output_type": "stream",
     "text": [
      "\r",
      " 33%|█████████████▊                            | 99/300 [01:10<01:50,  1.82it/s]"
     ]
    },
    {
     "name": "stdout",
     "output_type": "stream",
     "text": [
      "Result (overall): True\n",
      "\n",
      "\n",
      "Test: 99\n",
      "Params: {'in_channels': 16, 'kernel_size': (17, 16), 'padding': (5, 6), 'stride': (1, 2), 'dilation': (2, 1), 'in_batches': 5, 'in_h': 30, 'in_w': 5, 'return_indices': True}\n"
     ]
    },
    {
     "name": "stderr",
     "output_type": "stream",
     "text": [
      "\r",
      " 33%|█████████████▋                           | 100/300 [01:11<01:52,  1.77it/s]"
     ]
    },
    {
     "name": "stdout",
     "output_type": "stream",
     "text": [
      "Result (value): True\n",
      "Result (indices): False\n",
      "Result (overall): False\n",
      "\n",
      "\n",
      "Test: 100\n",
      "Params: {'in_channels': 9, 'kernel_size': (19, 15), 'padding': (5, 6), 'stride': (1, 2), 'dilation': (1, 1), 'in_batches': 1, 'in_h': 17, 'in_w': 5, 'return_indices': False}\n",
      "Result (overall): True\n",
      "\n",
      "\n",
      "Test: 101\n",
      "Params: {'in_channels': 19, 'kernel_size': (6, 10), 'padding': (3, 5), 'stride': (4, 4), 'dilation': (3, 2), 'in_batches': 1, 'in_h': 25, 'in_w': 20, 'return_indices': True}\n"
     ]
    },
    {
     "name": "stderr",
     "output_type": "stream",
     "text": [
      "\r",
      " 34%|█████████████▉                           | 102/300 [01:11<01:12,  2.72it/s]"
     ]
    },
    {
     "name": "stdout",
     "output_type": "stream",
     "text": [
      "Result (value): True\n",
      "Result (indices): False\n",
      "Result (overall): False\n",
      "\n",
      "\n",
      "Test: 102\n",
      "Params: {'in_channels': 4, 'kernel_size': (8, 12), 'padding': (1, 4), 'stride': (1, 1), 'dilation': (1, 2), 'in_batches': 3, 'in_h': 26, 'in_w': 20, 'return_indices': False}\n"
     ]
    },
    {
     "name": "stderr",
     "output_type": "stream",
     "text": [
      " 35%|██████████████▎                          | 105/300 [01:12<00:51,  3.78it/s]"
     ]
    },
    {
     "name": "stdout",
     "output_type": "stream",
     "text": [
      "Result (overall): True\n",
      "\n",
      "\n",
      "Test: 103\n",
      "Params: {'in_channels': 2, 'kernel_size': (12, 15), 'padding': (5, 7), 'stride': (3, 4), 'dilation': (1, 1), 'in_batches': 5, 'in_h': 25, 'in_w': 5, 'return_indices': True}\n",
      "Result (value): True\n",
      "Result (indices): False\n",
      "Result (overall): False\n",
      "\n",
      "\n",
      "Test: 104\n",
      "Params: {'in_channels': 15, 'kernel_size': (7, 5), 'padding': (2, 1), 'stride': (3, 5), 'dilation': (1, 3), 'in_batches': 2, 'in_h': 7, 'in_w': 33, 'return_indices': True}\n",
      "Result (value): True\n",
      "Result (indices): False\n",
      "Result (overall): False\n",
      "\n",
      "\n",
      "Test: 105\n",
      "Params: {'in_channels': 18, 'kernel_size': (2, 16), 'padding': (1, 7), 'stride': (2, 2), 'dilation': (7, 2), 'in_batches': 5, 'in_h': 20, 'in_w': 34, 'return_indices': False}\n"
     ]
    },
    {
     "name": "stderr",
     "output_type": "stream",
     "text": [
      "\r",
      " 35%|██████████████▍                          | 106/300 [01:15<02:59,  1.08it/s]"
     ]
    },
    {
     "name": "stdout",
     "output_type": "stream",
     "text": [
      "Result (overall): True\n",
      "\n",
      "\n",
      "Test: 106\n",
      "Params: {'in_channels': 10, 'kernel_size': (2, 13), 'padding': (1, 3), 'stride': (4, 4), 'dilation': (2, 1), 'in_batches': 4, 'in_h': 7, 'in_w': 24, 'return_indices': False}\n",
      "Result (overall): True\n",
      "\n",
      "\n",
      "Test: 107\n",
      "Params: {'in_channels': 12, 'kernel_size': (3, 14), 'padding': (1, 7), 'stride': (3, 1), 'dilation': (7, 1), 'in_batches': 1, 'in_h': 31, 'in_w': 18, 'return_indices': False}\n"
     ]
    },
    {
     "name": "stderr",
     "output_type": "stream",
     "text": [
      "\r",
      " 36%|██████████████▊                          | 108/300 [01:16<02:19,  1.37it/s]"
     ]
    },
    {
     "name": "stdout",
     "output_type": "stream",
     "text": [
      "Result (overall): True\n",
      "\n",
      "\n",
      "Test: 108\n",
      "Params: {'in_channels': 2, 'kernel_size': (18, 2), 'padding': (8, 1), 'stride': (1, 1), 'dilation': (1, 5), 'in_batches': 1, 'in_h': 23, 'in_w': 28, 'return_indices': True}\n"
     ]
    },
    {
     "name": "stderr",
     "output_type": "stream",
     "text": [
      "\r",
      " 36%|██████████████▉                          | 109/300 [01:16<02:01,  1.57it/s]"
     ]
    },
    {
     "name": "stdout",
     "output_type": "stream",
     "text": [
      "Result (value): True\n",
      "Result (indices): False\n",
      "Result (overall): False\n",
      "\n",
      "\n",
      "Test: 109\n",
      "Params: {'in_channels': 5, 'kernel_size': (16, 14), 'padding': (8, 4), 'stride': (2, 1), 'dilation': (1, 1), 'in_batches': 5, 'in_h': 20, 'in_w': 22, 'return_indices': True}\n"
     ]
    },
    {
     "name": "stderr",
     "output_type": "stream",
     "text": [
      "\r",
      " 37%|███████████████                          | 110/300 [01:18<03:06,  1.02it/s]"
     ]
    },
    {
     "name": "stdout",
     "output_type": "stream",
     "text": [
      "Result (value): True\n",
      "Result (indices): False\n",
      "Result (overall): False\n",
      "\n",
      "\n",
      "Test: 110\n",
      "Params: {'in_channels': 4, 'kernel_size': (13, 4), 'padding': (5, 2), 'stride': (1, 4), 'dilation': (2, 9), 'in_batches': 4, 'in_h': 24, 'in_w': 24, 'return_indices': False}\n"
     ]
    },
    {
     "name": "stderr",
     "output_type": "stream",
     "text": [
      "\r",
      " 37%|███████████████▏                         | 111/300 [01:18<02:29,  1.27it/s]"
     ]
    },
    {
     "name": "stdout",
     "output_type": "stream",
     "text": [
      "Result (overall): True\n",
      "\n",
      "\n",
      "Test: 111\n",
      "Params: {'in_channels': 18, 'kernel_size': (7, 12), 'padding': (1, 1), 'stride': (2, 5), 'dilation': (3, 1), 'in_batches': 2, 'in_h': 21, 'in_w': 33, 'return_indices': False}\n"
     ]
    },
    {
     "name": "stderr",
     "output_type": "stream",
     "text": [
      "\r",
      " 37%|███████████████▎                         | 112/300 [01:19<02:00,  1.55it/s]"
     ]
    },
    {
     "name": "stdout",
     "output_type": "stream",
     "text": [
      "Result (overall): True\n",
      "\n",
      "\n",
      "Test: 112\n",
      "Params: {'in_channels': 3, 'kernel_size': (20, 16), 'padding': (8, 8), 'stride': (4, 2), 'dilation': (1, 1), 'in_batches': 2, 'in_h': 7, 'in_w': 12, 'return_indices': True}\n",
      "Result (value): True\n",
      "Result (indices): False\n",
      "Result (overall): False\n",
      "\n",
      "\n",
      "Test: 113\n",
      "Params: {'in_channels': 9, 'kernel_size': (13, 18), 'padding': (6, 8), 'stride': (3, 2), 'dilation': (2, 1), 'in_batches': 1, 'in_h': 33, 'in_w': 29, 'return_indices': False}\n"
     ]
    },
    {
     "name": "stderr",
     "output_type": "stream",
     "text": [
      "\r",
      " 38%|███████████████▌                         | 114/300 [01:19<01:38,  1.90it/s]"
     ]
    },
    {
     "name": "stdout",
     "output_type": "stream",
     "text": [
      "Result (overall): True\n",
      "\n",
      "\n",
      "Test: 114\n",
      "Params: {'in_channels': 12, 'kernel_size': (11, 10), 'padding': (5, 5), 'stride': (3, 4), 'dilation': (4, 2), 'in_batches': 2, 'in_h': 34, 'in_w': 31, 'return_indices': False}\n"
     ]
    },
    {
     "name": "stderr",
     "output_type": "stream",
     "text": [
      "\r",
      " 38%|███████████████▋                         | 115/300 [01:20<01:32,  2.00it/s]"
     ]
    },
    {
     "name": "stdout",
     "output_type": "stream",
     "text": [
      "Result (overall): True\n",
      "\n",
      "\n",
      "Test: 115\n",
      "Params: {'in_channels': 6, 'kernel_size': (20, 3), 'padding': (7, 1), 'stride': (1, 4), 'dilation': (1, 2), 'in_batches': 5, 'in_h': 26, 'in_w': 13, 'return_indices': True}\n"
     ]
    },
    {
     "name": "stderr",
     "output_type": "stream",
     "text": [
      "\r",
      " 39%|███████████████▊                         | 116/300 [01:20<01:28,  2.08it/s]"
     ]
    },
    {
     "name": "stdout",
     "output_type": "stream",
     "text": [
      "Result (value): True\n",
      "Result (indices): False\n",
      "Result (overall): False\n",
      "\n",
      "\n",
      "Test: 116\n",
      "Params: {'in_channels': 8, 'kernel_size': (13, 14), 'padding': (6, 5), 'stride': (3, 3), 'dilation': (2, 1), 'in_batches': 2, 'in_h': 32, 'in_w': 12, 'return_indices': False}\n"
     ]
    },
    {
     "name": "stderr",
     "output_type": "stream",
     "text": [
      "\r",
      " 39%|███████████████▉                         | 117/300 [01:21<01:15,  2.41it/s]"
     ]
    },
    {
     "name": "stdout",
     "output_type": "stream",
     "text": [
      "Result (overall): True\n",
      "\n",
      "\n",
      "Test: 117\n",
      "Params: {'in_channels': 5, 'kernel_size': (8, 12), 'padding': (4, 6), 'stride': (2, 2), 'dilation': (2, 1), 'in_batches': 4, 'in_h': 34, 'in_w': 5, 'return_indices': True}\n"
     ]
    },
    {
     "name": "stderr",
     "output_type": "stream",
     "text": [
      "\r",
      " 39%|████████████████▏                        | 118/300 [01:21<01:13,  2.47it/s]"
     ]
    },
    {
     "name": "stdout",
     "output_type": "stream",
     "text": [
      "Result (value): True\n",
      "Result (indices): False\n",
      "Result (overall): False\n",
      "\n",
      "\n",
      "Test: 118\n",
      "Params: {'in_channels': 17, 'kernel_size': (4, 10), 'padding': (2, 2), 'stride': (1, 1), 'dilation': (5, 1), 'in_batches': 2, 'in_h': 12, 'in_w': 7, 'return_indices': False}\n",
      "Result (overall): True\n",
      "\n",
      "\n",
      "Test: 119\n",
      "Params: {'in_channels': 19, 'kernel_size': (4, 20), 'padding': (2, 8), 'stride': (1, 3), 'dilation': (9, 1), 'in_batches': 3, 'in_h': 28, 'in_w': 22, 'return_indices': False}\n"
     ]
    },
    {
     "name": "stderr",
     "output_type": "stream",
     "text": [
      "\r",
      " 40%|████████████████▍                        | 120/300 [01:23<02:20,  1.28it/s]"
     ]
    },
    {
     "name": "stdout",
     "output_type": "stream",
     "text": [
      "Result (overall): True\n",
      "\n",
      "\n",
      "Test: 120\n",
      "Params: {'in_channels': 19, 'kernel_size': (13, 12), 'padding': (2, 4), 'stride': (1, 3), 'dilation': (1, 3), 'in_batches': 1, 'in_h': 19, 'in_w': 27, 'return_indices': False}\n"
     ]
    },
    {
     "name": "stderr",
     "output_type": "stream",
     "text": [
      " 41%|████████████████▋                        | 122/300 [01:24<01:31,  1.94it/s]"
     ]
    },
    {
     "name": "stdout",
     "output_type": "stream",
     "text": [
      "Result (overall): True\n",
      "\n",
      "\n",
      "Test: 121\n",
      "Params: {'in_channels': 4, 'kernel_size': (15, 18), 'padding': (6, 6), 'stride': (4, 2), 'dilation': (2, 1), 'in_batches': 5, 'in_h': 18, 'in_w': 14, 'return_indices': True}\n",
      "Result (value): True\n",
      "Result (indices): False\n",
      "Result (overall): False\n",
      "\n",
      "\n",
      "Test: 122\n",
      "Params: {'in_channels': 1, 'kernel_size': (6, 4), 'padding': (3, 1), 'stride': (3, 5), 'dilation': (5, 7), 'in_batches': 4, 'in_h': 29, 'in_w': 28, 'return_indices': True}\n",
      "Result (value): True\n",
      "Result (indices): False\n",
      "Result (overall): False\n",
      "\n",
      "\n",
      "Test: 123\n",
      "Params: {'in_channels': 3, 'kernel_size': (20, 13), 'padding': (3, 5), 'stride': (4, 5), 'dilation': (1, 1), 'in_batches': 2, 'in_h': 26, 'in_w': 33, 'return_indices': False}\n"
     ]
    },
    {
     "name": "stderr",
     "output_type": "stream",
     "text": [
      "\r",
      " 41%|████████████████▉                        | 124/300 [01:24<00:57,  3.08it/s]"
     ]
    },
    {
     "name": "stdout",
     "output_type": "stream",
     "text": [
      "Result (overall): True\n",
      "\n",
      "\n",
      "Test: 124\n",
      "Params: {'in_channels': 1, 'kernel_size': (16, 20), 'padding': (3, 2), 'stride': (3, 2), 'dilation': (1, 1), 'in_batches': 2, 'in_h': 32, 'in_w': 20, 'return_indices': False}\n",
      "Result (overall): True\n",
      "\n",
      "\n",
      "Test: 125\n",
      "Params: {'in_channels': 6, 'kernel_size': (3, 12), 'padding': (1, 3), 'stride': (3, 3), 'dilation': (3, 3), 'in_batches': 1, 'in_h': 11, 'in_w': 33, 'return_indices': False}\n",
      "Result (overall): True\n",
      "\n",
      "\n",
      "Test: 126\n",
      "Params: {'in_channels': 11, 'kernel_size': (8, 12), 'padding': (3, 1), 'stride': (5, 3), 'dilation': (2, 1), 'in_batches': 5, 'in_h': 33, 'in_w': 26, 'return_indices': True}\n"
     ]
    },
    {
     "name": "stderr",
     "output_type": "stream",
     "text": [
      "\r",
      " 42%|█████████████████▎                       | 127/300 [01:25<00:48,  3.59it/s]"
     ]
    },
    {
     "name": "stdout",
     "output_type": "stream",
     "text": [
      "Result (value): True\n",
      "Result (indices): False\n",
      "Result (overall): False\n",
      "\n",
      "\n",
      "Test: 127\n",
      "Params: {'in_channels': 15, 'kernel_size': (12, 18), 'padding': (3, 8), 'stride': (2, 3), 'dilation': (1, 1), 'in_batches': 5, 'in_h': 15, 'in_w': 15, 'return_indices': True}\n"
     ]
    },
    {
     "name": "stderr",
     "output_type": "stream",
     "text": [
      "\r",
      " 43%|█████████████████▍                       | 128/300 [01:25<01:08,  2.52it/s]"
     ]
    },
    {
     "name": "stdout",
     "output_type": "stream",
     "text": [
      "Result (value): True\n",
      "Result (indices): False\n",
      "Result (overall): False\n",
      "\n",
      "\n",
      "Test: 128\n",
      "Params: {'in_channels': 6, 'kernel_size': (11, 14), 'padding': (3, 7), 'stride': (3, 3), 'dilation': (1, 3), 'in_batches': 3, 'in_h': 23, 'in_w': 31, 'return_indices': True}\n"
     ]
    },
    {
     "name": "stderr",
     "output_type": "stream",
     "text": [
      "\r",
      " 43%|█████████████████▋                       | 129/300 [01:26<01:02,  2.74it/s]"
     ]
    },
    {
     "name": "stdout",
     "output_type": "stream",
     "text": [
      "Result (value): True\n",
      "Result (indices): False\n",
      "Result (overall): False\n",
      "\n",
      "\n",
      "Test: 129\n",
      "Params: {'in_channels': 8, 'kernel_size': (17, 3), 'padding': (4, 1), 'stride': (4, 2), 'dilation': (1, 6), 'in_batches': 4, 'in_h': 22, 'in_w': 33, 'return_indices': False}\n"
     ]
    },
    {
     "name": "stderr",
     "output_type": "stream",
     "text": [
      " 44%|██████████████████                       | 132/300 [01:27<00:52,  3.18it/s]"
     ]
    },
    {
     "name": "stdout",
     "output_type": "stream",
     "text": [
      "Result (overall): True\n",
      "\n",
      "\n",
      "Test: 130\n",
      "Params: {'in_channels': 17, 'kernel_size': (5, 3), 'padding': (1, 1), 'stride': (4, 4), 'dilation': (3, 4), 'in_batches': 2, 'in_h': 21, 'in_w': 14, 'return_indices': True}\n",
      "Result (value): False\n",
      "Result (indices): False\n",
      "Result (overall): False\n",
      "\n",
      "\n",
      "Test: 131\n",
      "Params: {'in_channels': 12, 'kernel_size': (3, 12), 'padding': (1, 4), 'stride': (5, 5), 'dilation': (2, 3), 'in_batches': 3, 'in_h': 27, 'in_w': 33, 'return_indices': True}\n",
      "Result (value): True\n",
      "Result (indices): False\n",
      "Result (overall): False\n",
      "\n",
      "\n",
      "Test: 132\n",
      "Params: {'in_channels': 1, 'kernel_size': (19, 5), 'padding': (5, 1), 'stride': (2, 2), 'dilation': (1, 4), 'in_batches': 3, 'in_h': 31, 'in_w': 18, 'return_indices': True}\n"
     ]
    },
    {
     "name": "stderr",
     "output_type": "stream",
     "text": [
      "\r",
      " 45%|██████████████████▎                      | 134/300 [01:27<00:38,  4.36it/s]"
     ]
    },
    {
     "name": "stdout",
     "output_type": "stream",
     "text": [
      "Result (value): True\n",
      "Result (indices): False\n",
      "Result (overall): False\n",
      "\n",
      "\n",
      "Test: 133\n",
      "Params: {'in_channels': 7, 'kernel_size': (20, 17), 'padding': (5, 6), 'stride': (2, 3), 'dilation': (2, 1), 'in_batches': 3, 'in_h': 33, 'in_w': 5, 'return_indices': False}\n",
      "Result (overall): True\n",
      "\n",
      "\n",
      "Test: 134\n",
      "Params: {'in_channels': 3, 'kernel_size': (17, 14), 'padding': (5, 4), 'stride': (4, 3), 'dilation': (2, 2), 'in_batches': 1, 'in_h': 31, 'in_w': 26, 'return_indices': True}\n",
      "Result (value): True\n",
      "Result (indices): False\n",
      "Result (overall): False\n",
      "\n",
      "\n",
      "Test: 135\n",
      "Params: {'in_channels': 11, 'kernel_size': (8, 13), 'padding': (3, 3), 'stride': (5, 3), 'dilation': (1, 2), 'in_batches': 2, 'in_h': 26, 'in_w': 34, 'return_indices': True}\n"
     ]
    },
    {
     "name": "stderr",
     "output_type": "stream",
     "text": [
      "\r",
      " 45%|██████████████████▌                      | 136/300 [01:27<00:35,  4.58it/s]"
     ]
    },
    {
     "name": "stdout",
     "output_type": "stream",
     "text": [
      "Result (value): True\n",
      "Result (indices): False\n",
      "Result (overall): False\n",
      "\n",
      "\n",
      "Test: 136\n",
      "Params: {'in_channels': 11, 'kernel_size': (12, 13), 'padding': (4, 6), 'stride': (2, 3), 'dilation': (1, 3), 'in_batches': 4, 'in_h': 31, 'in_w': 34, 'return_indices': True}\n"
     ]
    },
    {
     "name": "stderr",
     "output_type": "stream",
     "text": [
      "\r",
      " 46%|██████████████████▋                      | 137/300 [01:30<01:40,  1.62it/s]"
     ]
    },
    {
     "name": "stdout",
     "output_type": "stream",
     "text": [
      "Result (value): True\n",
      "Result (indices): False\n",
      "Result (overall): False\n",
      "\n",
      "\n",
      "Test: 137\n",
      "Params: {'in_channels': 14, 'kernel_size': (2, 13), 'padding': (1, 2), 'stride': (2, 5), 'dilation': (5, 2), 'in_batches': 1, 'in_h': 18, 'in_w': 30, 'return_indices': True}\n",
      "Result (value): True\n",
      "Result (indices): False\n",
      "Result (overall): False\n",
      "\n",
      "\n",
      "Test: 138\n",
      "Params: {'in_channels': 15, 'kernel_size': (4, 9), 'padding': (2, 1), 'stride': (1, 4), 'dilation': (1, 3), 'in_batches': 4, 'in_h': 12, 'in_w': 31, 'return_indices': False}\n"
     ]
    },
    {
     "name": "stderr",
     "output_type": "stream",
     "text": [
      "\r",
      " 46%|██████████████████▉                      | 139/300 [01:30<01:20,  1.99it/s]"
     ]
    },
    {
     "name": "stdout",
     "output_type": "stream",
     "text": [
      "Result (overall): True\n",
      "\n",
      "\n",
      "Test: 139\n",
      "Params: {'in_channels': 13, 'kernel_size': (6, 2), 'padding': (3, 1), 'stride': (1, 4), 'dilation': (5, 2), 'in_batches': 3, 'in_h': 28, 'in_w': 33, 'return_indices': False}\n"
     ]
    },
    {
     "name": "stderr",
     "output_type": "stream",
     "text": [
      "\r",
      " 47%|███████████████████▏                     | 140/300 [01:31<01:24,  1.88it/s]"
     ]
    },
    {
     "name": "stdout",
     "output_type": "stream",
     "text": [
      "Result (overall): False\n",
      "\n",
      "\n",
      "Test: 140\n",
      "Params: {'in_channels': 14, 'kernel_size': (18, 11), 'padding': (1, 4), 'stride': (2, 2), 'dilation': (1, 1), 'in_batches': 2, 'in_h': 18, 'in_w': 25, 'return_indices': False}\n"
     ]
    },
    {
     "name": "stderr",
     "output_type": "stream",
     "text": [
      "\r",
      " 47%|███████████████████▎                     | 141/300 [01:31<01:15,  2.12it/s]"
     ]
    },
    {
     "name": "stdout",
     "output_type": "stream",
     "text": [
      "Result (overall): True\n",
      "\n",
      "\n",
      "Test: 141\n",
      "Params: {'in_channels': 19, 'kernel_size': (10, 13), 'padding': (5, 5), 'stride': (4, 3), 'dilation': (3, 1), 'in_batches': 3, 'in_h': 32, 'in_w': 30, 'return_indices': True}\n"
     ]
    },
    {
     "name": "stderr",
     "output_type": "stream",
     "text": [
      "\r",
      " 47%|███████████████████▍                     | 142/300 [01:33<02:03,  1.28it/s]"
     ]
    },
    {
     "name": "stdout",
     "output_type": "stream",
     "text": [
      "Result (value): True\n",
      "Result (indices): False\n",
      "Result (overall): False\n",
      "\n",
      "\n",
      "Test: 142\n",
      "Params: {'in_channels': 18, 'kernel_size': (14, 2), 'padding': (7, 1), 'stride': (1, 4), 'dilation': (2, 3), 'in_batches': 2, 'in_h': 26, 'in_w': 32, 'return_indices': True}\n"
     ]
    },
    {
     "name": "stderr",
     "output_type": "stream",
     "text": [
      "\r",
      " 48%|███████████████████▌                     | 143/300 [01:34<02:08,  1.22it/s]"
     ]
    },
    {
     "name": "stdout",
     "output_type": "stream",
     "text": [
      "Result (value): False\n",
      "Result (indices): False\n",
      "Result (overall): False\n",
      "\n",
      "\n",
      "Test: 143\n",
      "Params: {'in_channels': 13, 'kernel_size': (17, 8), 'padding': (5, 3), 'stride': (5, 4), 'dilation': (1, 4), 'in_batches': 2, 'in_h': 30, 'in_w': 30, 'return_indices': True}\n"
     ]
    },
    {
     "name": "stderr",
     "output_type": "stream",
     "text": [
      "\r",
      " 48%|███████████████████▋                     | 144/300 [01:34<01:43,  1.51it/s]"
     ]
    },
    {
     "name": "stdout",
     "output_type": "stream",
     "text": [
      "Result (value): True\n",
      "Result (indices): False\n",
      "Result (overall): False\n",
      "\n",
      "\n",
      "Test: 144\n",
      "Params: {'in_channels': 7, 'kernel_size': (15, 5), 'padding': (3, 1), 'stride': (3, 1), 'dilation': (1, 4), 'in_batches': 4, 'in_h': 15, 'in_w': 27, 'return_indices': True}\n"
     ]
    },
    {
     "name": "stderr",
     "output_type": "stream",
     "text": [
      "\r",
      " 48%|███████████████████▊                     | 145/300 [01:34<01:38,  1.57it/s]"
     ]
    },
    {
     "name": "stdout",
     "output_type": "stream",
     "text": [
      "Result (value): True\n",
      "Result (indices): False\n",
      "Result (overall): False\n",
      "\n",
      "\n",
      "Test: 145\n",
      "Params: {'in_channels': 11, 'kernel_size': (15, 9), 'padding': (4, 2), 'stride': (2, 5), 'dilation': (2, 2), 'in_batches': 5, 'in_h': 28, 'in_w': 21, 'return_indices': True}\n"
     ]
    },
    {
     "name": "stderr",
     "output_type": "stream",
     "text": [
      "\r",
      " 49%|███████████████████▉                     | 146/300 [01:35<01:33,  1.65it/s]"
     ]
    },
    {
     "name": "stdout",
     "output_type": "stream",
     "text": [
      "Result (value): True\n",
      "Result (indices): False\n",
      "Result (overall): False\n",
      "\n",
      "\n",
      "Test: 146\n",
      "Params: {'in_channels': 18, 'kernel_size': (18, 6), 'padding': (9, 2), 'stride': (5, 5), 'dilation': (1, 2), 'in_batches': 4, 'in_h': 22, 'in_w': 29, 'return_indices': True}\n"
     ]
    },
    {
     "name": "stderr",
     "output_type": "stream",
     "text": [
      "\r",
      " 49%|████████████████████                     | 147/300 [01:36<01:39,  1.53it/s]"
     ]
    },
    {
     "name": "stdout",
     "output_type": "stream",
     "text": [
      "Result (value): True\n",
      "Result (indices): False\n",
      "Result (overall): False\n",
      "\n",
      "\n",
      "Test: 147\n",
      "Params: {'in_channels': 18, 'kernel_size': (8, 16), 'padding': (2, 8), 'stride': (2, 2), 'dilation': (1, 1), 'in_batches': 4, 'in_h': 15, 'in_w': 18, 'return_indices': False}\n"
     ]
    },
    {
     "name": "stderr",
     "output_type": "stream",
     "text": [
      "\r",
      " 49%|████████████████████▏                    | 148/300 [01:37<02:00,  1.26it/s]"
     ]
    },
    {
     "name": "stdout",
     "output_type": "stream",
     "text": [
      "Result (overall): True\n",
      "\n",
      "\n",
      "Test: 148\n",
      "Params: {'in_channels': 19, 'kernel_size': (16, 2), 'padding': (1, 1), 'stride': (5, 3), 'dilation': (1, 5), 'in_batches': 3, 'in_h': 23, 'in_w': 15, 'return_indices': False}\n",
      "Result (overall): True\n",
      "\n",
      "\n",
      "Test: 149\n",
      "Params: {'in_channels': 6, 'kernel_size': (17, 5), 'padding': (7, 2), 'stride': (4, 2), 'dilation': (2, 3), 'in_batches': 4, 'in_h': 33, 'in_w': 18, 'return_indices': False}\n"
     ]
    },
    {
     "name": "stderr",
     "output_type": "stream",
     "text": [
      "\r",
      " 50%|████████████████████▌                    | 150/300 [01:38<01:25,  1.75it/s]"
     ]
    },
    {
     "name": "stdout",
     "output_type": "stream",
     "text": [
      "Result (overall): True\n",
      "\n",
      "\n",
      "Test: 150\n",
      "Params: {'in_channels': 14, 'kernel_size': (18, 4), 'padding': (8, 2), 'stride': (3, 3), 'dilation': (1, 4), 'in_batches': 1, 'in_h': 20, 'in_w': 32, 'return_indices': False}\n"
     ]
    },
    {
     "name": "stderr",
     "output_type": "stream",
     "text": [
      " 51%|████████████████████▉                    | 153/300 [01:38<00:49,  2.97it/s]"
     ]
    },
    {
     "name": "stdout",
     "output_type": "stream",
     "text": [
      "Result (overall): True\n",
      "\n",
      "\n",
      "Test: 151\n",
      "Params: {'in_channels': 3, 'kernel_size': (7, 14), 'padding': (1, 7), 'stride': (5, 5), 'dilation': (1, 1), 'in_batches': 1, 'in_h': 27, 'in_w': 28, 'return_indices': True}\n",
      "Result (value): True\n",
      "Result (indices): False\n",
      "Result (overall): False\n",
      "\n",
      "\n",
      "Test: 152\n",
      "Params: {'in_channels': 5, 'kernel_size': (18, 12), 'padding': (4, 3), 'stride': (3, 2), 'dilation': (2, 1), 'in_batches': 1, 'in_h': 32, 'in_w': 26, 'return_indices': True}\n",
      "Result (value): True\n",
      "Result (indices): False\n",
      "Result (overall): False\n",
      "\n",
      "\n",
      "Test: 153\n",
      "Params: {'in_channels': 3, 'kernel_size': (5, 9), 'padding': (2, 2), 'stride': (3, 5), 'dilation': (1, 1), 'in_batches': 5, 'in_h': 13, 'in_w': 27, 'return_indices': True}\n",
      "Result (value): True\n",
      "Result (indices): False\n",
      "Result (overall): False\n",
      "\n",
      "\n",
      "Test: 154\n",
      "Params: {'in_channels': 18, 'kernel_size': (6, 4), 'padding': (2, 1), 'stride': (1, 3), 'dilation': (3, 3), 'in_batches': 5, 'in_h': 22, 'in_w': 14, 'return_indices': True}\n"
     ]
    },
    {
     "name": "stderr",
     "output_type": "stream",
     "text": [
      "\r",
      " 52%|█████████████████████▏                   | 155/300 [01:39<01:00,  2.41it/s]"
     ]
    },
    {
     "name": "stdout",
     "output_type": "stream",
     "text": [
      "Result (value): True\n",
      "Result (indices): False\n",
      "Result (overall): False\n",
      "\n",
      "\n",
      "Test: 155\n",
      "Params: {'in_channels': 9, 'kernel_size': (8, 19), 'padding': (1, 1), 'stride': (2, 1), 'dilation': (3, 1), 'in_batches': 3, 'in_h': 32, 'in_w': 30, 'return_indices': False}\n"
     ]
    },
    {
     "name": "stderr",
     "output_type": "stream",
     "text": [
      " 52%|█████████████████████▍                   | 157/300 [01:41<01:27,  1.63it/s]"
     ]
    },
    {
     "name": "stdout",
     "output_type": "stream",
     "text": [
      "Result (overall): True\n",
      "\n",
      "\n",
      "Test: 156\n",
      "Params: {'in_channels': 14, 'kernel_size': (16, 18), 'padding': (3, 5), 'stride': (3, 5), 'dilation': (2, 2), 'in_batches': 1, 'in_h': 29, 'in_w': 33, 'return_indices': False}\n",
      "Result (overall): True\n",
      "\n",
      "\n",
      "Test: 157\n",
      "Params: {'in_channels': 3, 'kernel_size': (7, 5), 'padding': (3, 1), 'stride': (5, 3), 'dilation': (3, 1), 'in_batches': 3, 'in_h': 32, 'in_w': 28, 'return_indices': False}\n",
      "Result (overall): True\n",
      "\n",
      "\n",
      "Test: 158\n",
      "Params: {'in_channels': 17, 'kernel_size': (4, 14), 'padding': (2, 6), 'stride': (4, 3), 'dilation': (6, 1), 'in_batches': 2, 'in_h': 21, 'in_w': 33, 'return_indices': True}\n"
     ]
    },
    {
     "name": "stderr",
     "output_type": "stream",
     "text": [
      "\r",
      " 53%|█████████████████████▋                   | 159/300 [01:42<01:03,  2.20it/s]"
     ]
    },
    {
     "name": "stdout",
     "output_type": "stream",
     "text": [
      "Result (value): True\n",
      "Result (indices): False\n",
      "Result (overall): False\n",
      "\n",
      "\n",
      "Test: 159\n",
      "Params: {'in_channels': 18, 'kernel_size': (6, 4), 'padding': (3, 2), 'stride': (1, 4), 'dilation': (4, 7), 'in_batches': 2, 'in_h': 25, 'in_w': 25, 'return_indices': False}\n"
     ]
    },
    {
     "name": "stderr",
     "output_type": "stream",
     "text": [
      "\r",
      " 53%|█████████████████████▊                   | 160/300 [01:42<01:09,  2.01it/s]"
     ]
    },
    {
     "name": "stdout",
     "output_type": "stream",
     "text": [
      "Result (overall): True\n",
      "\n",
      "\n",
      "Test: 160\n",
      "Params: {'in_channels': 18, 'kernel_size': (8, 7), 'padding': (1, 3), 'stride': (1, 2), 'dilation': (3, 1), 'in_batches': 3, 'in_h': 29, 'in_w': 15, 'return_indices': True}\n"
     ]
    },
    {
     "name": "stderr",
     "output_type": "stream",
     "text": [
      " 54%|██████████████████████▏                  | 162/300 [01:44<01:20,  1.72it/s]"
     ]
    },
    {
     "name": "stdout",
     "output_type": "stream",
     "text": [
      "Result (value): True\n",
      "Result (indices): False\n",
      "Result (overall): False\n",
      "\n",
      "\n",
      "Test: 161\n",
      "Params: {'in_channels': 4, 'kernel_size': (7, 14), 'padding': (2, 2), 'stride': (1, 4), 'dilation': (1, 1), 'in_batches': 5, 'in_h': 8, 'in_w': 25, 'return_indices': False}\n",
      "Result (overall): True\n",
      "\n",
      "\n",
      "Test: 162\n",
      "Params: {'in_channels': 11, 'kernel_size': (7, 3), 'padding': (3, 1), 'stride': (4, 5), 'dilation': (4, 1), 'in_batches': 3, 'in_h': 25, 'in_w': 15, 'return_indices': False}\n",
      "Result (overall): True\n",
      "\n",
      "\n",
      "Test: 163\n",
      "Params: {'in_channels': 12, 'kernel_size': (9, 9), 'padding': (2, 1), 'stride': (2, 1), 'dilation': (1, 3), 'in_batches': 4, 'in_h': 31, 'in_w': 30, 'return_indices': True}\n"
     ]
    },
    {
     "name": "stderr",
     "output_type": "stream",
     "text": [
      " 55%|██████████████████████▌                  | 165/300 [01:47<01:34,  1.43it/s]"
     ]
    },
    {
     "name": "stdout",
     "output_type": "stream",
     "text": [
      "Result (value): True\n",
      "Result (indices): False\n",
      "Result (overall): False\n",
      "\n",
      "\n",
      "Test: 164\n",
      "Params: {'in_channels': 5, 'kernel_size': (4, 20), 'padding': (2, 6), 'stride': (4, 1), 'dilation': (3, 1), 'in_batches': 3, 'in_h': 32, 'in_w': 10, 'return_indices': True}\n",
      "Result (value): True\n",
      "Result (indices): False\n",
      "Result (overall): False\n",
      "\n",
      "\n",
      "Test: 165\n",
      "Params: {'in_channels': 10, 'kernel_size': (20, 8), 'padding': (2, 2), 'stride': (4, 4), 'dilation': (1, 1), 'in_batches': 5, 'in_h': 17, 'in_w': 23, 'return_indices': True}\n",
      "Result (value): True\n",
      "Result (indices): False\n",
      "Result (overall): False\n",
      "\n",
      "\n",
      "Test: 166\n",
      "Params: {'in_channels': 7, 'kernel_size': (16, 7), 'padding': (7, 3), 'stride': (5, 2), 'dilation': (2, 4), 'in_batches': 4, 'in_h': 26, 'in_w': 31, 'return_indices': False}\n"
     ]
    },
    {
     "name": "stderr",
     "output_type": "stream",
     "text": [
      "\r",
      " 56%|██████████████████████▊                  | 167/300 [01:47<01:17,  1.73it/s]"
     ]
    },
    {
     "name": "stdout",
     "output_type": "stream",
     "text": [
      "Result (overall): True\n",
      "\n",
      "\n",
      "Test: 167\n",
      "Params: {'in_channels': 12, 'kernel_size': (9, 13), 'padding': (2, 4), 'stride': (2, 3), 'dilation': (2, 1), 'in_batches': 3, 'in_h': 28, 'in_w': 10, 'return_indices': False}\n"
     ]
    },
    {
     "name": "stderr",
     "output_type": "stream",
     "text": [
      "\r",
      " 56%|██████████████████████▉                  | 168/300 [01:48<01:07,  1.96it/s]"
     ]
    },
    {
     "name": "stdout",
     "output_type": "stream",
     "text": [
      "Result (overall): True\n",
      "\n",
      "\n",
      "Test: 168\n",
      "Params: {'in_channels': 16, 'kernel_size': (14, 3), 'padding': (3, 1), 'stride': (2, 5), 'dilation': (1, 4), 'in_batches': 4, 'in_h': 34, 'in_w': 33, 'return_indices': False}\n"
     ]
    },
    {
     "name": "stderr",
     "output_type": "stream",
     "text": [
      "\r",
      " 56%|███████████████████████                  | 169/300 [01:49<01:39,  1.32it/s]"
     ]
    },
    {
     "name": "stdout",
     "output_type": "stream",
     "text": [
      "Result (overall): True\n",
      "\n",
      "\n",
      "Test: 169\n",
      "Params: {'in_channels': 5, 'kernel_size': (18, 8), 'padding': (6, 2), 'stride': (4, 2), 'dilation': (1, 3), 'in_batches': 5, 'in_h': 33, 'in_w': 25, 'return_indices': True}\n"
     ]
    },
    {
     "name": "stderr",
     "output_type": "stream",
     "text": [
      " 57%|███████████████████████▎                 | 171/300 [01:50<01:13,  1.75it/s]"
     ]
    },
    {
     "name": "stdout",
     "output_type": "stream",
     "text": [
      "Result (value): True\n",
      "Result (indices): False\n",
      "Result (overall): False\n",
      "\n",
      "\n",
      "Test: 170\n",
      "Params: {'in_channels': 20, 'kernel_size': (10, 13), 'padding': (3, 5), 'stride': (3, 5), 'dilation': (2, 1), 'in_batches': 5, 'in_h': 13, 'in_w': 17, 'return_indices': True}\n",
      "Result (value): True\n",
      "Result (indices): False\n",
      "Result (overall): False\n",
      "\n",
      "\n",
      "Test: 171\n",
      "Params: {'in_channels': 15, 'kernel_size': (11, 12), 'padding': (2, 3), 'stride': (4, 1), 'dilation': (1, 1), 'in_batches': 2, 'in_h': 24, 'in_w': 6, 'return_indices': True}\n",
      "Result (value): True\n",
      "Result (indices): False\n",
      "Result (overall): False\n",
      "\n",
      "\n",
      "Test: 172\n",
      "Params: {'in_channels': 7, 'kernel_size': (9, 10), 'padding': (2, 3), 'stride': (2, 2), 'dilation': (1, 1), 'in_batches': 3, 'in_h': 23, 'in_w': 24, 'return_indices': True}\n"
     ]
    },
    {
     "name": "stderr",
     "output_type": "stream",
     "text": [
      "\r",
      " 58%|███████████████████████▋                 | 173/300 [01:51<00:57,  2.20it/s]"
     ]
    },
    {
     "name": "stdout",
     "output_type": "stream",
     "text": [
      "Result (value): True\n",
      "Result (indices): False\n",
      "Result (overall): False\n",
      "\n",
      "\n",
      "Test: 173\n",
      "Params: {'in_channels': 17, 'kernel_size': (11, 13), 'padding': (3, 5), 'stride': (1, 2), 'dilation': (2, 2), 'in_batches': 1, 'in_h': 31, 'in_w': 18, 'return_indices': True}\n"
     ]
    },
    {
     "name": "stderr",
     "output_type": "stream",
     "text": [
      " 58%|███████████████████████▉                 | 175/300 [01:51<00:51,  2.42it/s]"
     ]
    },
    {
     "name": "stdout",
     "output_type": "stream",
     "text": [
      "Result (value): True\n",
      "Result (indices): False\n",
      "Result (overall): False\n",
      "\n",
      "\n",
      "Test: 174\n",
      "Params: {'in_channels': 5, 'kernel_size': (5, 12), 'padding': (1, 5), 'stride': (3, 3), 'dilation': (1, 2), 'in_batches': 2, 'in_h': 31, 'in_w': 30, 'return_indices': False}\n",
      "Result (overall): True\n",
      "\n",
      "\n",
      "Test: 175\n",
      "Params: {'in_channels': 10, 'kernel_size': (13, 4), 'padding': (6, 2), 'stride': (3, 3), 'dilation': (1, 4), 'in_batches': 3, 'in_h': 11, 'in_w': 33, 'return_indices': False}\n"
     ]
    },
    {
     "name": "stderr",
     "output_type": "stream",
     "text": [
      " 59%|████████████████████████▏                | 177/300 [01:52<00:40,  3.03it/s]"
     ]
    },
    {
     "name": "stdout",
     "output_type": "stream",
     "text": [
      "Result (overall): True\n",
      "\n",
      "\n",
      "Test: 176\n",
      "Params: {'in_channels': 10, 'kernel_size': (4, 17), 'padding': (1, 1), 'stride': (3, 4), 'dilation': (7, 1), 'in_batches': 2, 'in_h': 24, 'in_w': 23, 'return_indices': True}\n",
      "Result (value): True\n",
      "Result (indices): False\n",
      "Result (overall): False\n",
      "\n",
      "\n",
      "Test: 177\n",
      "Params: {'in_channels': 9, 'kernel_size': (7, 17), 'padding': (1, 2), 'stride': (1, 4), 'dilation': (1, 1), 'in_batches': 1, 'in_h': 15, 'in_w': 30, 'return_indices': True}\n"
     ]
    },
    {
     "name": "stderr",
     "output_type": "stream",
     "text": [
      "\r",
      " 59%|████████████████████████▎                | 178/300 [01:52<00:34,  3.55it/s]"
     ]
    },
    {
     "name": "stdout",
     "output_type": "stream",
     "text": [
      "Result (value): True\n",
      "Result (indices): False\n",
      "Result (overall): False\n",
      "\n",
      "\n",
      "Test: 178\n",
      "Params: {'in_channels': 19, 'kernel_size': (18, 15), 'padding': (2, 7), 'stride': (5, 4), 'dilation': (1, 1), 'in_batches': 4, 'in_h': 24, 'in_w': 25, 'return_indices': True}\n"
     ]
    },
    {
     "name": "stderr",
     "output_type": "stream",
     "text": [
      "\r",
      " 60%|████████████████████████▍                | 179/300 [01:53<00:57,  2.11it/s]"
     ]
    },
    {
     "name": "stdout",
     "output_type": "stream",
     "text": [
      "Result (value): True\n",
      "Result (indices): False\n",
      "Result (overall): False\n",
      "\n",
      "\n",
      "Test: 179\n",
      "Params: {'in_channels': 13, 'kernel_size': (9, 17), 'padding': (1, 8), 'stride': (1, 4), 'dilation': (3, 1), 'in_batches': 3, 'in_h': 26, 'in_w': 20, 'return_indices': True}\n"
     ]
    },
    {
     "name": "stderr",
     "output_type": "stream",
     "text": [
      "\r",
      " 60%|████████████████████████▌                | 180/300 [01:54<01:06,  1.80it/s]"
     ]
    },
    {
     "name": "stdout",
     "output_type": "stream",
     "text": [
      "Result (value): True\n",
      "Result (indices): False\n",
      "Result (overall): False\n",
      "\n",
      "\n",
      "Test: 180\n",
      "Params: {'in_channels': 14, 'kernel_size': (14, 19), 'padding': (5, 6), 'stride': (2, 3), 'dilation': (3, 1), 'in_batches': 1, 'in_h': 34, 'in_w': 26, 'return_indices': False}\n"
     ]
    },
    {
     "name": "stderr",
     "output_type": "stream",
     "text": [
      "\r",
      " 60%|████████████████████████▋                | 181/300 [01:54<01:02,  1.90it/s]"
     ]
    },
    {
     "name": "stdout",
     "output_type": "stream",
     "text": [
      "Result (overall): True\n",
      "\n",
      "\n",
      "Test: 181\n",
      "Params: {'in_channels': 15, 'kernel_size': (16, 18), 'padding': (8, 7), 'stride': (5, 2), 'dilation': (1, 1), 'in_batches': 1, 'in_h': 31, 'in_w': 12, 'return_indices': False}\n"
     ]
    },
    {
     "name": "stderr",
     "output_type": "stream",
     "text": [
      "\r",
      " 61%|████████████████████████▊                | 182/300 [01:55<00:54,  2.15it/s]"
     ]
    },
    {
     "name": "stdout",
     "output_type": "stream",
     "text": [
      "Result (overall): True\n",
      "\n",
      "\n",
      "Test: 182\n",
      "Params: {'in_channels': 6, 'kernel_size': (13, 16), 'padding': (2, 7), 'stride': (1, 4), 'dilation': (3, 1), 'in_batches': 3, 'in_h': 33, 'in_w': 5, 'return_indices': False}\n",
      "Result (overall): True\n",
      "\n",
      "\n",
      "Test: 183\n",
      "Params: {'in_channels': 11, 'kernel_size': (12, 16), 'padding': (5, 2), 'stride': (3, 4), 'dilation': (1, 2), 'in_batches': 4, 'in_h': 9, 'in_w': 34, 'return_indices': True}\n"
     ]
    },
    {
     "name": "stderr",
     "output_type": "stream",
     "text": [
      "\r",
      " 61%|█████████████████████████▏               | 184/300 [01:55<00:35,  3.28it/s]"
     ]
    },
    {
     "name": "stdout",
     "output_type": "stream",
     "text": [
      "Result (value): True\n",
      "Result (indices): False\n",
      "Result (overall): False\n",
      "\n",
      "\n",
      "Test: 184\n",
      "Params: {'in_channels': 15, 'kernel_size': (6, 3), 'padding': (3, 1), 'stride': (5, 5), 'dilation': (7, 1), 'in_batches': 3, 'in_h': 31, 'in_w': 7, 'return_indices': False}\n",
      "Result (overall): True\n",
      "\n",
      "\n",
      "Test: 185\n",
      "Params: {'in_channels': 1, 'kernel_size': (3, 11), 'padding': (1, 2), 'stride': (2, 5), 'dilation': (2, 1), 'in_batches': 5, 'in_h': 12, 'in_w': 10, 'return_indices': True}\n",
      "Result (value): True\n",
      "Result (indices): False\n",
      "Result (overall): False\n",
      "\n",
      "\n",
      "Test: 186\n",
      "Params: {'in_channels': 16, 'kernel_size': (4, 4), 'padding': (1, 2), 'stride': (1, 5), 'dilation': (2, 1), 'in_batches': 4, 'in_h': 20, 'in_w': 15, 'return_indices': False}\n"
     ]
    },
    {
     "name": "stderr",
     "output_type": "stream",
     "text": [
      "\r",
      " 62%|█████████████████████████▌               | 187/300 [01:55<00:23,  4.76it/s]"
     ]
    },
    {
     "name": "stdout",
     "output_type": "stream",
     "text": [
      "Result (overall): False\n",
      "\n",
      "\n",
      "Test: 187\n",
      "Params: {'in_channels': 1, 'kernel_size': (2, 4), 'padding': (1, 2), 'stride': (2, 4), 'dilation': (5, 3), 'in_batches': 4, 'in_h': 29, 'in_w': 30, 'return_indices': False}\n",
      "Result (overall): False\n",
      "\n",
      "\n",
      "Test: 188\n",
      "Params: {'in_channels': 11, 'kernel_size': (5, 4), 'padding': (2, 2), 'stride': (3, 2), 'dilation': (1, 2), 'in_batches': 3, 'in_h': 28, 'in_w': 29, 'return_indices': True}\n"
     ]
    },
    {
     "name": "stderr",
     "output_type": "stream",
     "text": [
      "\r",
      " 63%|█████████████████████████▊               | 189/300 [01:56<00:25,  4.43it/s]"
     ]
    },
    {
     "name": "stdout",
     "output_type": "stream",
     "text": [
      "Result (value): True\n",
      "Result (indices): False\n",
      "Result (overall): False\n",
      "\n",
      "\n",
      "Test: 189\n",
      "Params: {'in_channels': 13, 'kernel_size': (14, 9), 'padding': (4, 2), 'stride': (2, 1), 'dilation': (1, 3), 'in_batches': 1, 'in_h': 6, 'in_w': 27, 'return_indices': False}\n",
      "Result (overall): True\n",
      "\n",
      "\n",
      "Test: 190\n",
      "Params: {'in_channels': 14, 'kernel_size': (13, 8), 'padding': (2, 3), 'stride': (5, 5), 'dilation': (1, 2), 'in_batches': 1, 'in_h': 19, 'in_w': 34, 'return_indices': True}\n"
     ]
    },
    {
     "name": "stderr",
     "output_type": "stream",
     "text": [
      " 64%|██████████████████████████▍              | 193/300 [01:56<00:15,  6.82it/s]"
     ]
    },
    {
     "name": "stdout",
     "output_type": "stream",
     "text": [
      "Result (value): True\n",
      "Result (indices): False\n",
      "Result (overall): False\n",
      "\n",
      "\n",
      "Test: 191\n",
      "Params: {'in_channels': 7, 'kernel_size': (2, 4), 'padding': (1, 2), 'stride': (3, 3), 'dilation': (6, 1), 'in_batches': 5, 'in_h': 9, 'in_w': 6, 'return_indices': True}\n",
      "Result (value): False\n",
      "Result (indices): False\n",
      "Result (overall): False\n",
      "\n",
      "\n",
      "Test: 192\n",
      "Params: {'in_channels': 3, 'kernel_size': (14, 7), 'padding': (6, 1), 'stride': (3, 1), 'dilation': (1, 1), 'in_batches': 3, 'in_h': 25, 'in_w': 8, 'return_indices': False}\n",
      "Result (overall): True\n",
      "\n",
      "\n",
      "Test: 193\n",
      "Params: {'in_channels': 15, 'kernel_size': (2, 12), 'padding': (1, 1), 'stride': (4, 2), 'dilation': (3, 1), 'in_batches': 4, 'in_h': 33, 'in_w': 27, 'return_indices': False}\n"
     ]
    },
    {
     "name": "stderr",
     "output_type": "stream",
     "text": [
      "\r",
      " 65%|██████████████████████████▌              | 194/300 [01:56<00:21,  4.96it/s]"
     ]
    },
    {
     "name": "stdout",
     "output_type": "stream",
     "text": [
      "Result (overall): False\n",
      "\n",
      "\n",
      "Test: 194\n",
      "Params: {'in_channels': 1, 'kernel_size': (5, 13), 'padding': (2, 3), 'stride': (5, 5), 'dilation': (1, 2), 'in_batches': 3, 'in_h': 25, 'in_w': 24, 'return_indices': True}\n",
      "Result (value): True\n",
      "Result (indices): False\n",
      "Result (overall): False\n",
      "\n",
      "\n",
      "Test: 195\n",
      "Params: {'in_channels': 19, 'kernel_size': (12, 15), 'padding': (1, 7), 'stride': (1, 2), 'dilation': (2, 3), 'in_batches': 5, 'in_h': 23, 'in_w': 32, 'return_indices': False}\n"
     ]
    },
    {
     "name": "stderr",
     "output_type": "stream",
     "text": [
      "\r",
      " 65%|██████████████████████████▊              | 196/300 [01:58<00:37,  2.81it/s]"
     ]
    },
    {
     "name": "stdout",
     "output_type": "stream",
     "text": [
      "Result (overall): True\n",
      "\n",
      "\n",
      "Test: 196\n",
      "Params: {'in_channels': 4, 'kernel_size': (6, 19), 'padding': (3, 6), 'stride': (3, 5), 'dilation': (5, 1), 'in_batches': 3, 'in_h': 30, 'in_w': 33, 'return_indices': False}\n"
     ]
    },
    {
     "name": "stderr",
     "output_type": "stream",
     "text": [
      "\r",
      " 66%|██████████████████████████▉              | 197/300 [01:58<00:35,  2.94it/s]"
     ]
    },
    {
     "name": "stdout",
     "output_type": "stream",
     "text": [
      "Result (overall): True\n",
      "\n",
      "\n",
      "Test: 197\n",
      "Params: {'in_channels': 19, 'kernel_size': (6, 9), 'padding': (3, 1), 'stride': (2, 2), 'dilation': (6, 1), 'in_batches': 1, 'in_h': 30, 'in_w': 23, 'return_indices': True}\n"
     ]
    },
    {
     "name": "stderr",
     "output_type": "stream",
     "text": [
      "\r",
      " 66%|███████████████████████████              | 198/300 [01:58<00:34,  2.99it/s]"
     ]
    },
    {
     "name": "stdout",
     "output_type": "stream",
     "text": [
      "Result (value): True\n",
      "Result (indices): False\n",
      "Result (overall): False\n",
      "\n",
      "\n",
      "Test: 198\n",
      "Params: {'in_channels': 14, 'kernel_size': (8, 5), 'padding': (3, 1), 'stride': (3, 2), 'dilation': (1, 3), 'in_batches': 2, 'in_h': 14, 'in_w': 23, 'return_indices': False}\n"
     ]
    },
    {
     "name": "stderr",
     "output_type": "stream",
     "text": [
      "\r",
      " 66%|███████████████████████████▏             | 199/300 [01:59<00:32,  3.11it/s]"
     ]
    },
    {
     "name": "stdout",
     "output_type": "stream",
     "text": [
      "Result (overall): True\n",
      "\n",
      "\n",
      "Test: 199\n",
      "Params: {'in_channels': 2, 'kernel_size': (8, 6), 'padding': (2, 3), 'stride': (2, 3), 'dilation': (4, 3), 'in_batches': 4, 'in_h': 26, 'in_w': 24, 'return_indices': False}\n",
      "Result (overall): True\n",
      "\n",
      "\n",
      "Test: 200\n",
      "Params: {'in_channels': 20, 'kernel_size': (16, 6), 'padding': (2, 2), 'stride': (3, 3), 'dilation': (1, 5), 'in_batches': 5, 'in_h': 33, 'in_w': 24, 'return_indices': False}\n"
     ]
    },
    {
     "name": "stderr",
     "output_type": "stream",
     "text": [
      "\r",
      " 67%|███████████████████████████▍             | 201/300 [01:59<00:34,  2.88it/s]"
     ]
    },
    {
     "name": "stdout",
     "output_type": "stream",
     "text": [
      "Result (overall): True\n",
      "\n",
      "\n",
      "Test: 201\n",
      "Params: {'in_channels': 14, 'kernel_size': (11, 20), 'padding': (5, 3), 'stride': (1, 2), 'dilation': (3, 1), 'in_batches': 4, 'in_h': 27, 'in_w': 21, 'return_indices': True}\n"
     ]
    },
    {
     "name": "stderr",
     "output_type": "stream",
     "text": [
      "\r",
      " 67%|███████████████████████████▌             | 202/300 [02:01<01:11,  1.38it/s]"
     ]
    },
    {
     "name": "stdout",
     "output_type": "stream",
     "text": [
      "Result (value): True\n",
      "Result (indices): False\n",
      "Result (overall): False\n",
      "\n",
      "\n",
      "Test: 202\n",
      "Params: {'in_channels': 20, 'kernel_size': (5, 7), 'padding': (2, 3), 'stride': (5, 5), 'dilation': (1, 3), 'in_batches': 4, 'in_h': 10, 'in_w': 22, 'return_indices': False}\n",
      "Result (overall): True\n",
      "\n",
      "\n",
      "Test: 203\n",
      "Params: {'in_channels': 20, 'kernel_size': (7, 15), 'padding': (1, 2), 'stride': (5, 1), 'dilation': (2, 2), 'in_batches': 2, 'in_h': 30, 'in_w': 29, 'return_indices': True}\n"
     ]
    },
    {
     "name": "stderr",
     "output_type": "stream",
     "text": [
      "\r",
      " 68%|███████████████████████████▉             | 204/300 [02:02<00:54,  1.75it/s]"
     ]
    },
    {
     "name": "stdout",
     "output_type": "stream",
     "text": [
      "Result (value): True\n",
      "Result (indices): False\n",
      "Result (overall): False\n",
      "\n",
      "\n",
      "Test: 204\n",
      "Params: {'in_channels': 2, 'kernel_size': (11, 3), 'padding': (4, 1), 'stride': (4, 5), 'dilation': (2, 4), 'in_batches': 1, 'in_h': 32, 'in_w': 17, 'return_indices': False}\n",
      "Result (overall): True\n",
      "\n",
      "\n",
      "Test: 205\n",
      "Params: {'in_channels': 5, 'kernel_size': (9, 8), 'padding': (1, 4), 'stride': (5, 2), 'dilation': (1, 1), 'in_batches': 1, 'in_h': 28, 'in_w': 7, 'return_indices': True}\n",
      "Result (value): True\n",
      "Result (indices): False\n",
      "Result (overall): False\n",
      "\n",
      "\n",
      "Test: 206\n",
      "Params: {'in_channels': 18, 'kernel_size': (19, 5), 'padding': (8, 1), 'stride': (1, 1), 'dilation': (1, 5), 'in_batches': 5, 'in_h': 22, 'in_w': 26, 'return_indices': False}\n"
     ]
    },
    {
     "name": "stderr",
     "output_type": "stream",
     "text": [
      "\r",
      " 69%|████████████████████████████▎            | 207/300 [02:14<03:11,  2.05s/it]"
     ]
    },
    {
     "name": "stdout",
     "output_type": "stream",
     "text": [
      "Result (overall): True\n",
      "\n",
      "\n",
      "Test: 207\n",
      "Params: {'in_channels': 14, 'kernel_size': (15, 6), 'padding': (6, 2), 'stride': (3, 3), 'dilation': (3, 1), 'in_batches': 4, 'in_h': 32, 'in_w': 31, 'return_indices': False}\n"
     ]
    },
    {
     "name": "stderr",
     "output_type": "stream",
     "text": [
      " 70%|████████████████████████████▌            | 209/300 [02:14<02:09,  1.43s/it]"
     ]
    },
    {
     "name": "stdout",
     "output_type": "stream",
     "text": [
      "Result (overall): True\n",
      "\n",
      "\n",
      "Test: 208\n",
      "Params: {'in_channels': 13, 'kernel_size': (12, 10), 'padding': (2, 3), 'stride': (2, 3), 'dilation': (2, 1), 'in_batches': 1, 'in_h': 26, 'in_w': 15, 'return_indices': False}\n",
      "Result (overall): True\n",
      "\n",
      "\n",
      "Test: 209\n",
      "Params: {'in_channels': 12, 'kernel_size': (11, 3), 'padding': (5, 1), 'stride': (5, 5), 'dilation': (1, 5), 'in_batches': 4, 'in_h': 27, 'in_w': 9, 'return_indices': False}\n"
     ]
    },
    {
     "name": "stderr",
     "output_type": "stream",
     "text": [
      "\r",
      " 70%|████████████████████████████▊            | 211/300 [02:14<01:23,  1.07it/s]"
     ]
    },
    {
     "name": "stdout",
     "output_type": "stream",
     "text": [
      "Result (overall): False\n",
      "\n",
      "\n",
      "Test: 210\n",
      "Params: {'in_channels': 18, 'kernel_size': (9, 5), 'padding': (3, 1), 'stride': (5, 3), 'dilation': (1, 2), 'in_batches': 3, 'in_h': 16, 'in_w': 12, 'return_indices': False}\n",
      "Result (overall): True\n",
      "\n",
      "\n",
      "Test: 211\n",
      "Params: {'in_channels': 18, 'kernel_size': (12, 18), 'padding': (4, 1), 'stride': (1, 5), 'dilation': (2, 2), 'in_batches': 5, 'in_h': 18, 'in_w': 33, 'return_indices': True}\n"
     ]
    },
    {
     "name": "stderr",
     "output_type": "stream",
     "text": [
      "\r",
      " 71%|████████████████████████████▉            | 212/300 [02:15<01:17,  1.14it/s]"
     ]
    },
    {
     "name": "stdout",
     "output_type": "stream",
     "text": [
      "Result (value): True\n",
      "Result (indices): False\n",
      "Result (overall): False\n",
      "\n",
      "\n",
      "Test: 212\n",
      "Params: {'in_channels': 18, 'kernel_size': (17, 18), 'padding': (7, 1), 'stride': (3, 4), 'dilation': (1, 2), 'in_batches': 5, 'in_h': 16, 'in_w': 34, 'return_indices': False}\n"
     ]
    },
    {
     "name": "stderr",
     "output_type": "stream",
     "text": [
      "\r",
      " 71%|█████████████████████████████            | 213/300 [02:16<01:10,  1.24it/s]"
     ]
    },
    {
     "name": "stdout",
     "output_type": "stream",
     "text": [
      "Result (overall): True\n",
      "\n",
      "\n",
      "Test: 213\n",
      "Params: {'in_channels': 14, 'kernel_size': (18, 17), 'padding': (4, 7), 'stride': (3, 3), 'dilation': (1, 1), 'in_batches': 1, 'in_h': 24, 'in_w': 7, 'return_indices': False}\n",
      "Result (overall): True\n",
      "\n",
      "\n",
      "Test: 214\n",
      "Params: {'in_channels': 16, 'kernel_size': (10, 17), 'padding': (1, 8), 'stride': (5, 5), 'dilation': (2, 1), 'in_batches': 5, 'in_h': 24, 'in_w': 18, 'return_indices': True}\n"
     ]
    },
    {
     "name": "stderr",
     "output_type": "stream",
     "text": [
      "\r",
      " 72%|█████████████████████████████▍           | 215/300 [02:16<00:50,  1.68it/s]"
     ]
    },
    {
     "name": "stdout",
     "output_type": "stream",
     "text": [
      "Result (value): True\n",
      "Result (indices): False\n",
      "Result (overall): False\n",
      "\n",
      "\n",
      "Test: 215\n",
      "Params: {'in_channels': 10, 'kernel_size': (2, 10), 'padding': (1, 2), 'stride': (3, 2), 'dilation': (1, 4), 'in_batches': 3, 'in_h': 22, 'in_w': 34, 'return_indices': False}\n",
      "Result (overall): True\n",
      "\n",
      "\n",
      "Test: 216\n",
      "Params: {'in_channels': 20, 'kernel_size': (12, 16), 'padding': (6, 3), 'stride': (3, 3), 'dilation': (2, 1), 'in_batches': 4, 'in_h': 25, 'in_w': 14, 'return_indices': True}\n"
     ]
    },
    {
     "name": "stderr",
     "output_type": "stream",
     "text": [
      " 73%|█████████████████████████████▊           | 218/300 [02:17<00:34,  2.35it/s]"
     ]
    },
    {
     "name": "stdout",
     "output_type": "stream",
     "text": [
      "Result (value): True\n",
      "Result (indices): False\n",
      "Result (overall): False\n",
      "\n",
      "\n",
      "Test: 217\n",
      "Params: {'in_channels': 17, 'kernel_size': (2, 16), 'padding': (1, 6), 'stride': (3, 5), 'dilation': (2, 2), 'in_batches': 4, 'in_h': 17, 'in_w': 21, 'return_indices': False}\n",
      "Result (overall): True\n",
      "\n",
      "\n",
      "Test: 218\n",
      "Params: {'in_channels': 18, 'kernel_size': (11, 19), 'padding': (3, 5), 'stride': (5, 4), 'dilation': (2, 1), 'in_batches': 5, 'in_h': 17, 'in_w': 29, 'return_indices': False}\n"
     ]
    },
    {
     "name": "stderr",
     "output_type": "stream",
     "text": [
      "\r",
      " 73%|█████████████████████████████▉           | 219/300 [02:17<00:35,  2.28it/s]"
     ]
    },
    {
     "name": "stdout",
     "output_type": "stream",
     "text": [
      "Result (overall): True\n",
      "\n",
      "\n",
      "Test: 219\n",
      "Params: {'in_channels': 13, 'kernel_size': (12, 6), 'padding': (5, 3), 'stride': (3, 2), 'dilation': (3, 1), 'in_batches': 3, 'in_h': 28, 'in_w': 33, 'return_indices': True}\n"
     ]
    },
    {
     "name": "stderr",
     "output_type": "stream",
     "text": [
      "\r",
      " 73%|██████████████████████████████           | 220/300 [02:18<00:36,  2.17it/s]"
     ]
    },
    {
     "name": "stdout",
     "output_type": "stream",
     "text": [
      "Result (value): True\n",
      "Result (indices): False\n",
      "Result (overall): False\n",
      "\n",
      "\n",
      "Test: 220\n",
      "Params: {'in_channels': 18, 'kernel_size': (4, 17), 'padding': (2, 8), 'stride': (3, 4), 'dilation': (7, 2), 'in_batches': 2, 'in_h': 27, 'in_w': 19, 'return_indices': True}\n"
     ]
    },
    {
     "name": "stderr",
     "output_type": "stream",
     "text": [
      "\r",
      " 74%|██████████████████████████████▏          | 221/300 [02:18<00:31,  2.54it/s]"
     ]
    },
    {
     "name": "stdout",
     "output_type": "stream",
     "text": [
      "Result (value): True\n",
      "Result (indices): False\n",
      "Result (overall): False\n",
      "\n",
      "\n",
      "Test: 221\n",
      "Params: {'in_channels': 17, 'kernel_size': (13, 14), 'padding': (1, 5), 'stride': (2, 1), 'dilation': (2, 1), 'in_batches': 5, 'in_h': 26, 'in_w': 34, 'return_indices': True}\n"
     ]
    },
    {
     "name": "stderr",
     "output_type": "stream",
     "text": [
      "\r",
      " 74%|██████████████████████████████▎          | 222/300 [02:22<01:36,  1.24s/it]"
     ]
    },
    {
     "name": "stdout",
     "output_type": "stream",
     "text": [
      "Result (value): True\n",
      "Result (indices): False\n",
      "Result (overall): False\n",
      "\n",
      "\n",
      "Test: 222\n",
      "Params: {'in_channels': 16, 'kernel_size': (10, 8), 'padding': (4, 4), 'stride': (2, 2), 'dilation': (1, 5), 'in_batches': 5, 'in_h': 6, 'in_w': 30, 'return_indices': False}\n"
     ]
    },
    {
     "name": "stderr",
     "output_type": "stream",
     "text": [
      "\r",
      " 74%|██████████████████████████████▍          | 223/300 [02:22<01:15,  1.02it/s]"
     ]
    },
    {
     "name": "stdout",
     "output_type": "stream",
     "text": [
      "Result (overall): True\n",
      "\n",
      "\n",
      "Test: 223\n",
      "Params: {'in_channels': 9, 'kernel_size': (16, 16), 'padding': (4, 2), 'stride': (1, 3), 'dilation': (1, 1), 'in_batches': 1, 'in_h': 23, 'in_w': 28, 'return_indices': True}\n"
     ]
    },
    {
     "name": "stderr",
     "output_type": "stream",
     "text": [
      "\r",
      " 75%|██████████████████████████████▌          | 224/300 [02:22<01:02,  1.22it/s]"
     ]
    },
    {
     "name": "stdout",
     "output_type": "stream",
     "text": [
      "Result (value): True\n",
      "Result (indices): False\n",
      "Result (overall): False\n",
      "\n",
      "\n",
      "Test: 224\n",
      "Params: {'in_channels': 3, 'kernel_size': (20, 4), 'padding': (7, 1), 'stride': (1, 2), 'dilation': (1, 1), 'in_batches': 2, 'in_h': 28, 'in_w': 7, 'return_indices': False}\n",
      "Result (overall): True\n",
      "\n",
      "\n",
      "Test: 225\n",
      "Params: {'in_channels': 1, 'kernel_size': (14, 2), 'padding': (7, 1), 'stride': (3, 3), 'dilation': (1, 7), 'in_batches': 4, 'in_h': 9, 'in_w': 16, 'return_indices': True}\n",
      "Result (value): True\n",
      "Result (indices): False\n",
      "Result (overall): False\n",
      "\n",
      "\n",
      "Test: 226\n",
      "Params: {'in_channels': 18, 'kernel_size': (9, 4), 'padding': (1, 2), 'stride': (5, 2), 'dilation': (4, 7), 'in_batches': 4, 'in_h': 34, 'in_w': 31, 'return_indices': True}\n"
     ]
    },
    {
     "name": "stderr",
     "output_type": "stream",
     "text": [
      "\r",
      " 76%|███████████████████████████████          | 227/300 [02:23<00:38,  1.87it/s]"
     ]
    },
    {
     "name": "stdout",
     "output_type": "stream",
     "text": [
      "Result (value): True\n",
      "Result (indices): False\n",
      "Result (overall): False\n",
      "\n",
      "\n",
      "Test: 227\n",
      "Params: {'in_channels': 20, 'kernel_size': (14, 17), 'padding': (7, 4), 'stride': (3, 4), 'dilation': (2, 1), 'in_batches': 4, 'in_h': 22, 'in_w': 26, 'return_indices': False}\n"
     ]
    },
    {
     "name": "stderr",
     "output_type": "stream",
     "text": [
      "\r",
      " 76%|███████████████████████████████▏         | 228/300 [02:25<00:52,  1.38it/s]"
     ]
    },
    {
     "name": "stdout",
     "output_type": "stream",
     "text": [
      "Result (overall): True\n",
      "\n",
      "\n",
      "Test: 228\n",
      "Params: {'in_channels': 10, 'kernel_size': (5, 4), 'padding': (2, 1), 'stride': (4, 5), 'dilation': (4, 2), 'in_batches': 5, 'in_h': 30, 'in_w': 20, 'return_indices': True}\n"
     ]
    },
    {
     "name": "stderr",
     "output_type": "stream",
     "text": [
      "\r",
      " 76%|███████████████████████████████▎         | 229/300 [02:25<00:44,  1.60it/s]"
     ]
    },
    {
     "name": "stdout",
     "output_type": "stream",
     "text": [
      "Result (value): True\n",
      "Result (indices): False\n",
      "Result (overall): False\n",
      "\n",
      "\n",
      "Test: 229\n",
      "Params: {'in_channels': 3, 'kernel_size': (11, 7), 'padding': (2, 2), 'stride': (3, 5), 'dilation': (2, 2), 'in_batches': 1, 'in_h': 24, 'in_w': 26, 'return_indices': True}\n",
      "Result (value): True\n",
      "Result (indices): False\n",
      "Result (overall): False\n",
      "\n",
      "\n",
      "Test: 230\n",
      "Params: {'in_channels': 9, 'kernel_size': (13, 15), 'padding': (5, 4), 'stride': (4, 3), 'dilation': (1, 2), 'in_batches': 2, 'in_h': 29, 'in_w': 33, 'return_indices': True}\n"
     ]
    },
    {
     "name": "stderr",
     "output_type": "stream",
     "text": [
      " 77%|███████████████████████████████▋         | 232/300 [02:26<00:27,  2.50it/s]"
     ]
    },
    {
     "name": "stdout",
     "output_type": "stream",
     "text": [
      "Result (value): True\n",
      "Result (indices): False\n",
      "Result (overall): False\n",
      "\n",
      "\n",
      "Test: 231\n",
      "Params: {'in_channels': 7, 'kernel_size': (16, 5), 'padding': (6, 1), 'stride': (1, 4), 'dilation': (1, 2), 'in_batches': 1, 'in_h': 26, 'in_w': 15, 'return_indices': True}\n",
      "Result (value): True\n",
      "Result (indices): False\n",
      "Result (overall): False\n",
      "\n",
      "\n",
      "Test: 232\n",
      "Params: {'in_channels': 5, 'kernel_size': (14, 14), 'padding': (2, 3), 'stride': (5, 1), 'dilation': (1, 1), 'in_batches': 5, 'in_h': 26, 'in_w': 31, 'return_indices': True}\n"
     ]
    },
    {
     "name": "stderr",
     "output_type": "stream",
     "text": [
      "\r",
      " 78%|███████████████████████████████▊         | 233/300 [02:26<00:34,  1.95it/s]"
     ]
    },
    {
     "name": "stdout",
     "output_type": "stream",
     "text": [
      "Result (value): True\n",
      "Result (indices): False\n",
      "Result (overall): False\n",
      "\n",
      "\n",
      "Test: 233\n",
      "Params: {'in_channels': 16, 'kernel_size': (7, 10), 'padding': (3, 5), 'stride': (2, 2), 'dilation': (2, 1), 'in_batches': 5, 'in_h': 21, 'in_w': 21, 'return_indices': True}\n"
     ]
    },
    {
     "name": "stderr",
     "output_type": "stream",
     "text": [
      "\r",
      " 78%|███████████████████████████████▉         | 234/300 [02:28<00:53,  1.23it/s]"
     ]
    },
    {
     "name": "stdout",
     "output_type": "stream",
     "text": [
      "Result (value): True\n",
      "Result (indices): False\n",
      "Result (overall): False\n",
      "\n",
      "\n",
      "Test: 234\n",
      "Params: {'in_channels': 9, 'kernel_size': (9, 4), 'padding': (2, 1), 'stride': (3, 1), 'dilation': (1, 3), 'in_batches': 5, 'in_h': 12, 'in_w': 23, 'return_indices': True}\n"
     ]
    },
    {
     "name": "stderr",
     "output_type": "stream",
     "text": [
      "\r",
      " 78%|████████████████████████████████         | 235/300 [02:29<00:47,  1.37it/s]"
     ]
    },
    {
     "name": "stdout",
     "output_type": "stream",
     "text": [
      "Result (value): True\n",
      "Result (indices): False\n",
      "Result (overall): False\n",
      "\n",
      "\n",
      "Test: 235\n",
      "Params: {'in_channels': 5, 'kernel_size': (14, 20), 'padding': (5, 8), 'stride': (4, 1), 'dilation': (1, 1), 'in_batches': 1, 'in_h': 29, 'in_w': 25, 'return_indices': True}\n"
     ]
    },
    {
     "name": "stderr",
     "output_type": "stream",
     "text": [
      " 79%|████████████████████████████████▌        | 238/300 [02:29<00:25,  2.42it/s]"
     ]
    },
    {
     "name": "stdout",
     "output_type": "stream",
     "text": [
      "Result (value): True\n",
      "Result (indices): False\n",
      "Result (overall): False\n",
      "\n",
      "\n",
      "Test: 236\n",
      "Params: {'in_channels': 13, 'kernel_size': (7, 2), 'padding': (3, 1), 'stride': (3, 3), 'dilation': (1, 1), 'in_batches': 1, 'in_h': 28, 'in_w': 5, 'return_indices': True}\n",
      "Result (value): True\n",
      "Result (indices): False\n",
      "Result (overall): False\n",
      "\n",
      "\n",
      "Test: 237\n",
      "Params: {'in_channels': 11, 'kernel_size': (3, 9), 'padding': (1, 4), 'stride': (3, 2), 'dilation': (8, 2), 'in_batches': 3, 'in_h': 17, 'in_w': 20, 'return_indices': True}\n",
      "Result (value): True\n",
      "Result (indices): False\n",
      "Result (overall): False\n",
      "\n",
      "\n",
      "Test: 238\n",
      "Params: {'in_channels': 11, 'kernel_size': (11, 17), 'padding': (4, 2), 'stride': (3, 5), 'dilation': (1, 2), 'in_batches': 2, 'in_h': 26, 'in_w': 30, 'return_indices': True}\n"
     ]
    },
    {
     "name": "stderr",
     "output_type": "stream",
     "text": [
      " 80%|████████████████████████████████▊        | 240/300 [02:30<00:18,  3.26it/s]"
     ]
    },
    {
     "name": "stdout",
     "output_type": "stream",
     "text": [
      "Result (value): True\n",
      "Result (indices): False\n",
      "Result (overall): False\n",
      "\n",
      "\n",
      "Test: 239\n",
      "Params: {'in_channels': 11, 'kernel_size': (11, 16), 'padding': (2, 5), 'stride': (4, 3), 'dilation': (3, 1), 'in_batches': 2, 'in_h': 34, 'in_w': 13, 'return_indices': False}\n",
      "Result (overall): True\n",
      "\n",
      "\n",
      "Test: 240\n",
      "Params: {'in_channels': 5, 'kernel_size': (14, 19), 'padding': (7, 4), 'stride': (1, 4), 'dilation': (1, 1), 'in_batches': 2, 'in_h': 30, 'in_w': 16, 'return_indices': False}\n"
     ]
    },
    {
     "name": "stderr",
     "output_type": "stream",
     "text": [
      " 81%|█████████████████████████████████▏       | 243/300 [02:30<00:11,  4.77it/s]"
     ]
    },
    {
     "name": "stdout",
     "output_type": "stream",
     "text": [
      "Result (overall): True\n",
      "\n",
      "\n",
      "Test: 241\n",
      "Params: {'in_channels': 1, 'kernel_size': (9, 2), 'padding': (3, 1), 'stride': (4, 3), 'dilation': (1, 7), 'in_batches': 4, 'in_h': 19, 'in_w': 11, 'return_indices': False}\n",
      "Result (overall): True\n",
      "\n",
      "\n",
      "Test: 242\n",
      "Params: {'in_channels': 15, 'kernel_size': (4, 10), 'padding': (2, 5), 'stride': (5, 2), 'dilation': (5, 3), 'in_batches': 1, 'in_h': 22, 'in_w': 21, 'return_indices': False}\n",
      "Result (overall): True\n",
      "\n",
      "\n",
      "Test: 243\n",
      "Params: {'in_channels': 15, 'kernel_size': (16, 13), 'padding': (5, 3), 'stride': (2, 1), 'dilation': (1, 1), 'in_batches': 5, 'in_h': 23, 'in_w': 29, 'return_indices': False}\n"
     ]
    },
    {
     "name": "stderr",
     "output_type": "stream",
     "text": [
      "\r",
      " 81%|█████████████████████████████████▎       | 244/300 [02:37<01:33,  1.68s/it]"
     ]
    },
    {
     "name": "stdout",
     "output_type": "stream",
     "text": [
      "Result (overall): True\n",
      "\n",
      "\n",
      "Test: 244\n",
      "Params: {'in_channels': 10, 'kernel_size': (20, 10), 'padding': (2, 4), 'stride': (2, 3), 'dilation': (1, 1), 'in_batches': 2, 'in_h': 32, 'in_w': 27, 'return_indices': False}\n"
     ]
    },
    {
     "name": "stderr",
     "output_type": "stream",
     "text": [
      "\r",
      " 82%|█████████████████████████████████▍       | 245/300 [02:37<01:17,  1.41s/it]"
     ]
    },
    {
     "name": "stdout",
     "output_type": "stream",
     "text": [
      "Result (overall): True\n",
      "\n",
      "\n",
      "Test: 245\n",
      "Params: {'in_channels': 6, 'kernel_size': (6, 12), 'padding': (3, 4), 'stride': (3, 5), 'dilation': (5, 2), 'in_batches': 3, 'in_h': 29, 'in_w': 15, 'return_indices': True}\n",
      "Result (value): True\n",
      "Result (indices): False\n",
      "Result (overall): False\n",
      "\n",
      "\n",
      "Test: 246\n",
      "Params: {'in_channels': 20, 'kernel_size': (3, 8), 'padding': (1, 1), 'stride': (5, 3), 'dilation': (6, 2), 'in_batches': 3, 'in_h': 24, 'in_w': 23, 'return_indices': True}\n"
     ]
    },
    {
     "name": "stderr",
     "output_type": "stream",
     "text": [
      " 83%|██████████████████████████████████       | 249/300 [02:38<00:29,  1.72it/s]"
     ]
    },
    {
     "name": "stdout",
     "output_type": "stream",
     "text": [
      "Result (value): True\n",
      "Result (indices): False\n",
      "Result (overall): False\n",
      "\n",
      "\n",
      "Test: 247\n",
      "Params: {'in_channels': 6, 'kernel_size': (10, 12), 'padding': (4, 6), 'stride': (4, 3), 'dilation': (3, 2), 'in_batches': 2, 'in_h': 22, 'in_w': 21, 'return_indices': False}\n",
      "Result (overall): True\n",
      "\n",
      "\n",
      "Test: 248\n",
      "Params: {'in_channels': 11, 'kernel_size': (3, 17), 'padding': (1, 7), 'stride': (3, 5), 'dilation': (6, 1), 'in_batches': 2, 'in_h': 34, 'in_w': 5, 'return_indices': False}\n",
      "Result (overall): True\n",
      "\n",
      "\n",
      "Test: 249\n",
      "Params: {'in_channels': 12, 'kernel_size': (18, 8), 'padding': (6, 4), 'stride': (3, 1), 'dilation': (1, 2), 'in_batches': 1, 'in_h': 21, 'in_w': 29, 'return_indices': False}\n"
     ]
    },
    {
     "name": "stderr",
     "output_type": "stream",
     "text": [
      "\r",
      " 83%|██████████████████████████████████▏      | 250/300 [02:38<00:31,  1.59it/s]"
     ]
    },
    {
     "name": "stdout",
     "output_type": "stream",
     "text": [
      "Result (overall): True\n",
      "\n",
      "\n",
      "Test: 250\n",
      "Params: {'in_channels': 17, 'kernel_size': (19, 2), 'padding': (7, 1), 'stride': (2, 4), 'dilation': (2, 5), 'in_batches': 4, 'in_h': 23, 'in_w': 28, 'return_indices': False}\n"
     ]
    },
    {
     "name": "stderr",
     "output_type": "stream",
     "text": [
      "\r",
      " 84%|██████████████████████████████████▎      | 251/300 [02:39<00:25,  1.89it/s]"
     ]
    },
    {
     "name": "stdout",
     "output_type": "stream",
     "text": [
      "Result (overall): True\n",
      "\n",
      "\n",
      "Test: 251\n",
      "Params: {'in_channels': 10, 'kernel_size': (20, 13), 'padding': (4, 5), 'stride': (2, 5), 'dilation': (1, 3), 'in_batches': 5, 'in_h': 12, 'in_w': 29, 'return_indices': True}\n",
      "Result (value): True\n",
      "Result (indices): False\n",
      "Result (overall): False\n",
      "\n",
      "\n",
      "Test: 252\n",
      "Params: {'in_channels': 14, 'kernel_size': (5, 11), 'padding': (2, 5), 'stride': (5, 5), 'dilation': (1, 1), 'in_batches': 3, 'in_h': 30, 'in_w': 32, 'return_indices': False}\n"
     ]
    },
    {
     "name": "stderr",
     "output_type": "stream",
     "text": [
      "\r",
      " 84%|██████████████████████████████████▌      | 253/300 [02:39<00:17,  2.69it/s]"
     ]
    },
    {
     "name": "stdout",
     "output_type": "stream",
     "text": [
      "Result (overall): True\n",
      "\n",
      "\n",
      "Test: 253\n",
      "Params: {'in_channels': 15, 'kernel_size': (5, 15), 'padding': (1, 5), 'stride': (5, 3), 'dilation': (6, 1), 'in_batches': 5, 'in_h': 29, 'in_w': 26, 'return_indices': False}\n"
     ]
    },
    {
     "name": "stderr",
     "output_type": "stream",
     "text": [
      "\r",
      " 85%|██████████████████████████████████▋      | 254/300 [02:40<00:21,  2.13it/s]"
     ]
    },
    {
     "name": "stdout",
     "output_type": "stream",
     "text": [
      "Result (overall): True\n",
      "\n",
      "\n",
      "Test: 254\n",
      "Params: {'in_channels': 14, 'kernel_size': (17, 8), 'padding': (5, 3), 'stride': (2, 5), 'dilation': (1, 2), 'in_batches': 4, 'in_h': 14, 'in_w': 23, 'return_indices': False}\n"
     ]
    },
    {
     "name": "stderr",
     "output_type": "stream",
     "text": [
      "\r",
      " 85%|██████████████████████████████████▊      | 255/300 [02:40<00:19,  2.30it/s]"
     ]
    },
    {
     "name": "stdout",
     "output_type": "stream",
     "text": [
      "Result (overall): True\n",
      "\n",
      "\n",
      "Test: 255\n",
      "Params: {'in_channels': 13, 'kernel_size': (20, 20), 'padding': (6, 1), 'stride': (2, 3), 'dilation': (2, 1), 'in_batches': 4, 'in_h': 32, 'in_w': 23, 'return_indices': False}\n"
     ]
    },
    {
     "name": "stderr",
     "output_type": "stream",
     "text": [
      " 86%|███████████████████████████████████      | 257/300 [02:41<00:15,  2.83it/s]"
     ]
    },
    {
     "name": "stdout",
     "output_type": "stream",
     "text": [
      "Result (overall): True\n",
      "\n",
      "\n",
      "Test: 256\n",
      "Params: {'in_channels': 15, 'kernel_size': (18, 6), 'padding': (5, 2), 'stride': (5, 3), 'dilation': (1, 6), 'in_batches': 4, 'in_h': 10, 'in_w': 32, 'return_indices': False}\n",
      "Result (overall): True\n",
      "\n",
      "\n",
      "Test: 257\n",
      "Params: {'in_channels': 18, 'kernel_size': (4, 6), 'padding': (1, 1), 'stride': (4, 4), 'dilation': (7, 6), 'in_batches': 4, 'in_h': 25, 'in_w': 30, 'return_indices': False}\n"
     ]
    },
    {
     "name": "stderr",
     "output_type": "stream",
     "text": [
      "\r",
      " 86%|███████████████████████████████████▎     | 258/300 [02:41<00:12,  3.25it/s]"
     ]
    },
    {
     "name": "stdout",
     "output_type": "stream",
     "text": [
      "Result (overall): True\n",
      "\n",
      "\n",
      "Test: 258\n",
      "Params: {'in_channels': 18, 'kernel_size': (9, 10), 'padding': (2, 3), 'stride': (1, 2), 'dilation': (3, 2), 'in_batches': 2, 'in_h': 28, 'in_w': 34, 'return_indices': False}\n"
     ]
    },
    {
     "name": "stderr",
     "output_type": "stream",
     "text": [
      "\r",
      " 86%|███████████████████████████████████▍     | 259/300 [02:44<00:42,  1.04s/it]"
     ]
    },
    {
     "name": "stdout",
     "output_type": "stream",
     "text": [
      "Result (overall): True\n",
      "\n",
      "\n",
      "Test: 259\n",
      "Params: {'in_channels': 13, 'kernel_size': (12, 14), 'padding': (6, 1), 'stride': (5, 3), 'dilation': (1, 1), 'in_batches': 5, 'in_h': 22, 'in_w': 27, 'return_indices': False}\n"
     ]
    },
    {
     "name": "stderr",
     "output_type": "stream",
     "text": [
      "\r",
      " 87%|███████████████████████████████████▌     | 260/300 [02:44<00:37,  1.06it/s]"
     ]
    },
    {
     "name": "stdout",
     "output_type": "stream",
     "text": [
      "Result (overall): True\n",
      "\n",
      "\n",
      "Test: 260\n",
      "Params: {'in_channels': 14, 'kernel_size': (16, 4), 'padding': (8, 2), 'stride': (4, 4), 'dilation': (2, 2), 'in_batches': 3, 'in_h': 29, 'in_w': 22, 'return_indices': True}\n"
     ]
    },
    {
     "name": "stderr",
     "output_type": "stream",
     "text": [
      "\r",
      " 87%|███████████████████████████████████▋     | 261/300 [02:45<00:30,  1.26it/s]"
     ]
    },
    {
     "name": "stdout",
     "output_type": "stream",
     "text": [
      "Result (value): True\n",
      "Result (indices): False\n",
      "Result (overall): False\n",
      "\n",
      "\n",
      "Test: 261\n",
      "Params: {'in_channels': 16, 'kernel_size': (8, 13), 'padding': (1, 3), 'stride': (4, 2), 'dilation': (1, 2), 'in_batches': 5, 'in_h': 19, 'in_w': 26, 'return_indices': False}\n"
     ]
    },
    {
     "name": "stderr",
     "output_type": "stream",
     "text": [
      "\r",
      " 87%|███████████████████████████████████▊     | 262/300 [02:45<00:27,  1.38it/s]"
     ]
    },
    {
     "name": "stdout",
     "output_type": "stream",
     "text": [
      "Result (overall): True\n",
      "\n",
      "\n",
      "Test: 262\n",
      "Params: {'in_channels': 9, 'kernel_size': (3, 5), 'padding': (1, 1), 'stride': (3, 4), 'dilation': (5, 3), 'in_batches': 2, 'in_h': 20, 'in_w': 17, 'return_indices': False}\n",
      "Result (overall): True\n",
      "\n",
      "\n",
      "Test: 263\n",
      "Params: {'in_channels': 1, 'kernel_size': (5, 10), 'padding': (2, 1), 'stride': (5, 5), 'dilation': (7, 2), 'in_batches': 3, 'in_h': 27, 'in_w': 33, 'return_indices': False}\n",
      "Result (overall): True\n",
      "\n",
      "\n",
      "Test: 264\n",
      "Params: {'in_channels': 11, 'kernel_size': (11, 11), 'padding': (1, 5), 'stride': (4, 3), 'dilation': (2, 2), 'in_batches': 5, 'in_h': 34, 'in_w': 21, 'return_indices': False}\n"
     ]
    },
    {
     "name": "stderr",
     "output_type": "stream",
     "text": [
      "\r",
      " 88%|████████████████████████████████████▏    | 265/300 [02:46<00:17,  2.00it/s]"
     ]
    },
    {
     "name": "stdout",
     "output_type": "stream",
     "text": [
      "Result (overall): True\n",
      "\n",
      "\n",
      "Test: 265\n",
      "Params: {'in_channels': 12, 'kernel_size': (5, 19), 'padding': (2, 9), 'stride': (1, 2), 'dilation': (3, 1), 'in_batches': 4, 'in_h': 12, 'in_w': 14, 'return_indices': True}\n"
     ]
    },
    {
     "name": "stderr",
     "output_type": "stream",
     "text": [
      " 89%|████████████████████████████████████▋    | 268/300 [02:47<00:11,  2.71it/s]"
     ]
    },
    {
     "name": "stdout",
     "output_type": "stream",
     "text": [
      "Result (value): True\n",
      "Result (indices): False\n",
      "Result (overall): False\n",
      "\n",
      "\n",
      "Test: 266\n",
      "Params: {'in_channels': 11, 'kernel_size': (12, 2), 'padding': (5, 1), 'stride': (5, 1), 'dilation': (1, 6), 'in_batches': 1, 'in_h': 6, 'in_w': 31, 'return_indices': True}\n",
      "Result (value): False\n",
      "Result (indices): False\n",
      "Result (overall): False\n",
      "\n",
      "\n",
      "Test: 267\n",
      "Params: {'in_channels': 6, 'kernel_size': (11, 18), 'padding': (4, 9), 'stride': (3, 5), 'dilation': (2, 1), 'in_batches': 1, 'in_h': 17, 'in_w': 15, 'return_indices': False}\n",
      "Result (overall): True\n",
      "\n",
      "\n",
      "Test: 268\n",
      "Params: {'in_channels': 7, 'kernel_size': (15, 4), 'padding': (1, 1), 'stride': (4, 1), 'dilation': (1, 3), 'in_batches': 4, 'in_h': 21, 'in_w': 28, 'return_indices': False}\n"
     ]
    },
    {
     "name": "stderr",
     "output_type": "stream",
     "text": [
      "\r",
      " 90%|████████████████████████████████████▊    | 269/300 [02:48<00:12,  2.44it/s]"
     ]
    },
    {
     "name": "stdout",
     "output_type": "stream",
     "text": [
      "Result (overall): True\n",
      "\n",
      "\n",
      "Test: 269\n",
      "Params: {'in_channels': 14, 'kernel_size': (6, 18), 'padding': (3, 4), 'stride': (5, 4), 'dilation': (2, 2), 'in_batches': 3, 'in_h': 12, 'in_w': 27, 'return_indices': True}\n",
      "Result (value): True\n",
      "Result (indices): False\n",
      "Result (overall): False\n",
      "\n",
      "\n",
      "Test: 270\n",
      "Params: {'in_channels': 17, 'kernel_size': (10, 12), 'padding': (5, 3), 'stride': (3, 1), 'dilation': (2, 2), 'in_batches': 1, 'in_h': 34, 'in_w': 33, 'return_indices': True}\n"
     ]
    },
    {
     "name": "stderr",
     "output_type": "stream",
     "text": [
      "\r",
      " 90%|█████████████████████████████████████    | 271/300 [02:50<00:20,  1.44it/s]"
     ]
    },
    {
     "name": "stdout",
     "output_type": "stream",
     "text": [
      "Result (value): True\n",
      "Result (indices): False\n",
      "Result (overall): False\n",
      "\n",
      "\n",
      "Test: 271\n",
      "Params: {'in_channels': 13, 'kernel_size': (10, 17), 'padding': (4, 4), 'stride': (2, 5), 'dilation': (1, 2), 'in_batches': 2, 'in_h': 28, 'in_w': 30, 'return_indices': False}\n"
     ]
    },
    {
     "name": "stderr",
     "output_type": "stream",
     "text": [
      "\r",
      " 91%|█████████████████████████████████████▏   | 272/300 [02:51<00:17,  1.57it/s]"
     ]
    },
    {
     "name": "stdout",
     "output_type": "stream",
     "text": [
      "Result (overall): True\n",
      "\n",
      "\n",
      "Test: 272\n",
      "Params: {'in_channels': 9, 'kernel_size': (19, 12), 'padding': (7, 5), 'stride': (2, 2), 'dilation': (1, 1), 'in_batches': 3, 'in_h': 12, 'in_w': 29, 'return_indices': True}\n"
     ]
    },
    {
     "name": "stderr",
     "output_type": "stream",
     "text": [
      " 91%|█████████████████████████████████████▍   | 274/300 [02:51<00:13,  1.96it/s]"
     ]
    },
    {
     "name": "stdout",
     "output_type": "stream",
     "text": [
      "Result (value): True\n",
      "Result (indices): False\n",
      "Result (overall): False\n",
      "\n",
      "\n",
      "Test: 273\n",
      "Params: {'in_channels': 10, 'kernel_size': (14, 14), 'padding': (4, 2), 'stride': (5, 4), 'dilation': (1, 2), 'in_batches': 3, 'in_h': 16, 'in_w': 29, 'return_indices': True}\n",
      "Result (value): True\n",
      "Result (indices): False\n",
      "Result (overall): False\n",
      "\n",
      "\n",
      "Test: 274\n",
      "Params: {'in_channels': 14, 'kernel_size': (11, 12), 'padding': (3, 6), 'stride': (5, 5), 'dilation': (3, 2), 'in_batches': 5, 'in_h': 26, 'in_w': 28, 'return_indices': True}\n"
     ]
    },
    {
     "name": "stderr",
     "output_type": "stream",
     "text": [
      "\r",
      " 92%|█████████████████████████████████████▌   | 275/300 [02:52<00:11,  2.12it/s]"
     ]
    },
    {
     "name": "stdout",
     "output_type": "stream",
     "text": [
      "Result (value): True\n",
      "Result (indices): False\n",
      "Result (overall): False\n",
      "\n",
      "\n",
      "Test: 275\n",
      "Params: {'in_channels': 20, 'kernel_size': (13, 10), 'padding': (5, 4), 'stride': (1, 2), 'dilation': (1, 2), 'in_batches': 4, 'in_h': 32, 'in_w': 33, 'return_indices': False}\n"
     ]
    },
    {
     "name": "stderr",
     "output_type": "stream",
     "text": [
      "\r",
      " 92%|█████████████████████████████████████▋   | 276/300 [03:05<01:37,  4.06s/it]"
     ]
    },
    {
     "name": "stdout",
     "output_type": "stream",
     "text": [
      "Result (overall): True\n",
      "\n",
      "\n",
      "Test: 276\n",
      "Params: {'in_channels': 20, 'kernel_size': (16, 8), 'padding': (1, 1), 'stride': (2, 4), 'dilation': (2, 2), 'in_batches': 3, 'in_h': 33, 'in_w': 27, 'return_indices': False}\n"
     ]
    },
    {
     "name": "stderr",
     "output_type": "stream",
     "text": [
      "\r",
      " 92%|█████████████████████████████████████▊   | 277/300 [03:06<01:11,  3.12s/it]"
     ]
    },
    {
     "name": "stdout",
     "output_type": "stream",
     "text": [
      "Result (overall): True\n",
      "\n",
      "\n",
      "Test: 277\n",
      "Params: {'in_channels': 17, 'kernel_size': (20, 16), 'padding': (4, 2), 'stride': (3, 5), 'dilation': (1, 1), 'in_batches': 5, 'in_h': 14, 'in_w': 15, 'return_indices': True}\n",
      "Result (value): True\n",
      "Result (indices): False\n",
      "Result (overall): False\n",
      "\n",
      "\n",
      "Test: 278\n",
      "Params: {'in_channels': 8, 'kernel_size': (11, 6), 'padding': (4, 3), 'stride': (4, 1), 'dilation': (3, 2), 'in_batches': 5, 'in_h': 30, 'in_w': 15, 'return_indices': True}\n"
     ]
    },
    {
     "name": "stderr",
     "output_type": "stream",
     "text": [
      "\r",
      " 93%|██████████████████████████████████████▏  | 279/300 [03:07<00:39,  1.90s/it]"
     ]
    },
    {
     "name": "stdout",
     "output_type": "stream",
     "text": [
      "Result (value): True\n",
      "Result (indices): False\n",
      "Result (overall): False\n",
      "\n",
      "\n",
      "Test: 279\n",
      "Params: {'in_channels': 7, 'kernel_size': (12, 20), 'padding': (4, 8), 'stride': (1, 2), 'dilation': (3, 1), 'in_batches': 1, 'in_h': 26, 'in_w': 15, 'return_indices': True}\n",
      "Result (value): True\n",
      "Result (indices): False\n",
      "Result (overall): False\n",
      "\n",
      "\n",
      "Test: 280\n",
      "Params: {'in_channels': 20, 'kernel_size': (12, 7), 'padding': (3, 3), 'stride': (1, 4), 'dilation': (1, 5), 'in_batches': 2, 'in_h': 8, 'in_w': 31, 'return_indices': True}\n"
     ]
    },
    {
     "name": "stderr",
     "output_type": "stream",
     "text": [
      "\r",
      " 94%|██████████████████████████████████████▍  | 281/300 [03:07<00:22,  1.21s/it]"
     ]
    },
    {
     "name": "stdout",
     "output_type": "stream",
     "text": [
      "Result (value): True\n",
      "Result (indices): False\n",
      "Result (overall): False\n",
      "\n",
      "\n",
      "Test: 281\n",
      "Params: {'in_channels': 2, 'kernel_size': (15, 10), 'padding': (5, 2), 'stride': (1, 5), 'dilation': (1, 2), 'in_batches': 1, 'in_h': 8, 'in_w': 16, 'return_indices': True}\n",
      "Result (value): True\n",
      "Result (indices): False\n",
      "Result (overall): False\n",
      "\n",
      "\n",
      "Test: 282\n",
      "Params: {'in_channels': 17, 'kernel_size': (20, 18), 'padding': (9, 7), 'stride': (5, 2), 'dilation': (2, 1), 'in_batches': 5, 'in_h': 21, 'in_w': 26, 'return_indices': True}\n"
     ]
    },
    {
     "name": "stderr",
     "output_type": "stream",
     "text": [
      "\r",
      " 94%|██████████████████████████████████████▋  | 283/300 [03:09<00:18,  1.06s/it]"
     ]
    },
    {
     "name": "stdout",
     "output_type": "stream",
     "text": [
      "Result (value): True\n",
      "Result (indices): False\n",
      "Result (overall): False\n",
      "\n",
      "\n",
      "Test: 283\n",
      "Params: {'in_channels': 17, 'kernel_size': (16, 4), 'padding': (7, 2), 'stride': (4, 3), 'dilation': (2, 3), 'in_batches': 5, 'in_h': 31, 'in_w': 6, 'return_indices': True}\n"
     ]
    },
    {
     "name": "stderr",
     "output_type": "stream",
     "text": [
      "\r",
      " 95%|██████████████████████████████████████▊  | 284/300 [03:09<00:14,  1.12it/s]"
     ]
    },
    {
     "name": "stdout",
     "output_type": "stream",
     "text": [
      "Result (value): True\n",
      "Result (indices): False\n",
      "Result (overall): False\n",
      "\n",
      "\n",
      "Test: 284\n",
      "Params: {'in_channels': 15, 'kernel_size': (2, 14), 'padding': (1, 1), 'stride': (5, 4), 'dilation': (4, 1), 'in_batches': 2, 'in_h': 18, 'in_w': 25, 'return_indices': True}\n",
      "Result (value): True\n",
      "Result (indices): False\n",
      "Result (overall): False\n",
      "\n",
      "\n",
      "Test: 285\n",
      "Params: {'in_channels': 17, 'kernel_size': (4, 3), 'padding': (2, 1), 'stride': (3, 1), 'dilation': (3, 6), 'in_batches': 3, 'in_h': 34, 'in_w': 15, 'return_indices': False}\n"
     ]
    },
    {
     "name": "stderr",
     "output_type": "stream",
     "text": [
      "\r",
      " 95%|███████████████████████████████████████  | 286/300 [03:10<00:10,  1.38it/s]"
     ]
    },
    {
     "name": "stdout",
     "output_type": "stream",
     "text": [
      "Result (overall): False\n",
      "\n",
      "\n",
      "Test: 286\n",
      "Params: {'in_channels': 7, 'kernel_size': (9, 17), 'padding': (2, 5), 'stride': (3, 5), 'dilation': (4, 1), 'in_batches': 5, 'in_h': 31, 'in_w': 32, 'return_indices': False}\n"
     ]
    },
    {
     "name": "stderr",
     "output_type": "stream",
     "text": [
      "\r",
      " 96%|███████████████████████████████████████▏ | 287/300 [03:10<00:08,  1.60it/s]"
     ]
    },
    {
     "name": "stdout",
     "output_type": "stream",
     "text": [
      "Result (overall): True\n",
      "\n",
      "\n",
      "Test: 287\n",
      "Params: {'in_channels': 4, 'kernel_size': (13, 10), 'padding': (6, 3), 'stride': (1, 1), 'dilation': (2, 1), 'in_batches': 2, 'in_h': 31, 'in_w': 30, 'return_indices': False}\n"
     ]
    },
    {
     "name": "stderr",
     "output_type": "stream",
     "text": [
      "\r",
      " 96%|███████████████████████████████████████▎ | 288/300 [03:12<00:12,  1.00s/it]"
     ]
    },
    {
     "name": "stdout",
     "output_type": "stream",
     "text": [
      "Result (overall): True\n",
      "\n",
      "\n",
      "Test: 288\n",
      "Params: {'in_channels': 6, 'kernel_size': (19, 20), 'padding': (4, 8), 'stride': (2, 5), 'dilation': (1, 1), 'in_batches': 4, 'in_h': 32, 'in_w': 28, 'return_indices': False}\n"
     ]
    }
   ],
   "source": [
    "num_tests = 300\n",
    "run_tests(num_tests)"
   ]
  },
  {
   "cell_type": "code",
   "execution_count": null,
   "id": "e23ecb13",
   "metadata": {},
   "outputs": [],
   "source": []
  }
 ],
 "metadata": {
  "kernelspec": {
   "display_name": "Python 3 (ipykernel)",
   "language": "python",
   "name": "python3"
  },
  "language_info": {
   "codemirror_mode": {
    "name": "ipython",
    "version": 3
   },
   "file_extension": ".py",
   "mimetype": "text/x-python",
   "name": "python",
   "nbconvert_exporter": "python",
   "pygments_lexer": "ipython3",
   "version": "3.7.1"
  }
 },
 "nbformat": 4,
 "nbformat_minor": 5
}
