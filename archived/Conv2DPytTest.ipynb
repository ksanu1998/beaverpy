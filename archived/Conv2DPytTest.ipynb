{
 "cells": [
  {
   "cell_type": "markdown",
   "id": "b20a6f8d",
   "metadata": {},
   "source": [
    "### `Conv2DPytTest` code"
   ]
  },
  {
   "cell_type": "code",
   "execution_count": 17,
   "id": "19182ede",
   "metadata": {},
   "outputs": [],
   "source": [
    "import numpy as np"
   ]
  },
  {
   "cell_type": "code",
   "execution_count": 18,
   "id": "7ed1691b",
   "metadata": {},
   "outputs": [],
   "source": [
    "class Conv2DPytTest:\n",
    "    ''' Computes convolution given the input parameters '''\n",
    "    \n",
    "    ''' * The class implementation will be along the lines of torch.nn.Conv2D in order to \n",
    "          enable comparison of this NumPy only implementation and seamless testing\n",
    "        * Can expect extensive refactoring of the existing code in the days to come\n",
    "        * As part of refactoring, some code will be de-modularized\n",
    "        * Old code will be retained at the end of the notebook for reference\n",
    "    '''\n",
    "    '''\n",
    "        TODO:\n",
    "        * Implementing other features and caveats offered by nn.torch.Conv2D \n",
    "          (e.g., `groups` flag to enable depthwise convolution, uniform sampling of kernel weights etc.)\n",
    "        * Optimizing code\n",
    "    '''\n",
    "    \n",
    "    def __init__(\n",
    "        self, \n",
    "        in_channels, \n",
    "        out_channels, \n",
    "        kernel_size, \n",
    "        padding = 0, \n",
    "        stride = 1, \n",
    "        dilation = 1, \n",
    "        groups = 1, \n",
    "        bias = True, \n",
    "        padding_mode = 'zeros', \n",
    "        device = None, \n",
    "        dtype = None, \n",
    "        verbose = True, \n",
    "        debug = False\n",
    "        ):\n",
    "        super(Conv2DPytTest, self).__init__()\n",
    "        \n",
    "        ''' mandatory parameters '''\n",
    "        self.in_channels = in_channels\n",
    "        self.out_channels = out_channels\n",
    "        self.kernel_size = kernel_size\n",
    "        \n",
    "        ''' optional parameters '''\n",
    "        self.padding = padding\n",
    "        self.stride = stride\n",
    "        self.dilation = dilation\n",
    "        \n",
    "        ''' optional parameters (dummy, yet to be implemented)'''\n",
    "        self.groups = groups\n",
    "        self.bias = bias\n",
    "        self.padding_mode = padding_mode\n",
    "        self.device = device\n",
    "        self.dtype = dtype\n",
    "        \n",
    "        ''' additional parameters (different from torch.nn.Conv2D)'''\n",
    "        self.verbose = verbose\n",
    "        self.verboseprint = print if self.verbose else lambda *a, **k: None\n",
    "        self.debug = debug\n",
    "        self.debugprint = print if self.debug else lambda *a, **k: None\n",
    "        self.verboseprint('*** parameters ***')\n",
    "        self.verboseprint('in_channels: {}, out_channels: {}, kernel_size: {}'.format(self.in_channels, self.out_channels, self.kernel_size))\n",
    "        self.verboseprint('padding: {}, stride: {}, dilation factor: {}'.format(self.padding, self.stride, self.dilation))\n",
    "        self.verboseprint('groups: {}, bias: {}, padding_mode: {}, device: {}, dtype: {}'.format(self.groups, self.bias, self.padding_mode, self.device, self.dtype))\n",
    "        self.verboseprint('\\n')\n",
    "    \n",
    "    def forward(self, _input, kernels):\n",
    "        ''' forward pass to perform convolution '''\n",
    "        \n",
    "        ''' do error checking '''\n",
    "        _input_n, _input_c, _input_h, _input_w = _input.shape\n",
    "        if _input_h + 2 * self.padding < self.dilation * (self.kernel_size[0] - 1) + 1: # check if (dilated) ker_h is valid\n",
    "            raise Exception('invalid input parameters: kernel height is larger than input height')\n",
    "        if _input_w + 2 * self.padding < self.dilation * (self.kernel_size[1] - 1) + 1: # check if (dilated) ker_w is valid\n",
    "            raise Exception('invalid input parameters: kernel width is larger than input width')\n",
    "        if ((_input_h + 2 * self.padding - (self.dilation * (self.kernel_size[0] - 1) + 1)) / self.stride) + 1 < 0: # check if out_h is valid\n",
    "            raise Exception('invalid input parameters: output height is negative')\n",
    "        if ((_input_h + 2 * self.padding - (self.dilation * (self.kernel_size[1] - 1) + 1)) / self.stride) + 1 < 0: # check if out_w is valid\n",
    "            raise Exception('invalid input parameters: output width is negative')\n",
    "            \n",
    "        ''' add zero padding based on the input parameters '''\n",
    "        if self.padding != 0:\n",
    "            _input = np.array([[np.pad(channel,self.padding, 'constant', constant_values = 0) for channel in batch] for batch in _input])    \n",
    "            self.verboseprint('*** padded input image ***')\n",
    "            self.verboseprint('input batches: {}, input channels: {}, input height: {}, input weight: {}'.format(_input.shape[0], _input.shape[1], _input.shape[2], _input.shape[3]))\n",
    "            self.verboseprint(_input)\n",
    "            self.verboseprint('\\n')\n",
    "        \n",
    "        if self.debug:\n",
    "            for b in range(_input.shape[0]):\n",
    "                _input[b] = (b+1) * np.ones_like(_input[b]) # define an image of all ones (twos etc.) based on the input parameters\n",
    "        \n",
    "        ''' use the provided kernels or create random kernels based on the input kernel parameters '''\n",
    "        if kernels is not None:\n",
    "            self.verboseprint('*** kernels ***')\n",
    "            self.verboseprint('kernels: {}, kernel channels: {}, kernel height: {}, kernel weight: {}'.format(self.out_channels, self.in_channels, self.kernel_size[0], self.kernel_size[1]))\n",
    "        else:\n",
    "            kernels = []\n",
    "            self.verboseprint('*** kernels ***')\n",
    "            self.verboseprint('kernels: {}, kernel channels: {}, kernel height: {}, kernel weight: {}'.format(self.out_channels, self.in_channels, self.kernel_size[0], self.kernel_size[1]))\n",
    "            for k in range(self.out_channels):\n",
    "                kernel = np.random.rand(self.in_channels, self.kernel_size[0], self.kernel_size[1]) # define a random kernel based on the kernel parameters\n",
    "                if self.debug:\n",
    "                    kernel = k * np.ones_like(kernel)\n",
    "                kernels.append(kernel)\n",
    "                self.verboseprint('kernel {}'.format(k))\n",
    "                self.verboseprint(kernel)\n",
    "            self.verboseprint('\\n')\n",
    "        \n",
    "        ''' dilate a kernel '''\n",
    "        dil_ker_h = self.dilation * (self.kernel_size[0] - 1) + 1\n",
    "        dil_ker_w = self.dilation * (self.kernel_size[1] - 1) + 1\n",
    "        dil_kernels = []\n",
    "        for kernel in kernels:\n",
    "            dil_kernel = []\n",
    "            for channel in kernel:\n",
    "                dil_channel = np.zeros((dil_ker_h, dil_ker_w))\n",
    "                for row in range(len(channel)):\n",
    "                    for col in range(len(channel[0])):\n",
    "                        dil_channel[self.dilation*row][self.dilation*col] = channel[row][col]\n",
    "                dil_kernel.append(dil_channel.tolist())\n",
    "            dil_kernels.append(dil_kernel)\n",
    "        kernels, self.kernel_size = dil_kernels, (dil_ker_h, dil_ker_w)\n",
    "        self.verboseprint('*** dilated kernels ***')\n",
    "        self.verboseprint('kernels: {}, dilation factor: {}, kernel channels: {}, kernel height: {}, kernel weight: {}'.format(self.out_channels, self.dilation, self.in_channels, self.kernel_size[0], self.kernel_size[1]))\n",
    "        for k in range(self.out_channels):\n",
    "            self.verboseprint('kernel {}'.format(k))\n",
    "            self.verboseprint(kernels[k])\n",
    "        self.verboseprint('\\n')\n",
    "        \n",
    "        ''' compute output volume from the input and kernel parameters '''\n",
    "        _input_n, _, _input_h, _input_w = _input.shape\n",
    "        out_n = int(_input_n)\n",
    "        out_c = int(self.out_channels)\n",
    "        out_h = int((_input_h - self.kernel_size[0])/self.stride) + 1\n",
    "        out_w = int((_input_w - self.kernel_size[1])/self.stride) + 1\n",
    "        output = np.zeros([out_n, out_c, out_h, out_w])\n",
    "        \n",
    "        ''' parse through every element of the output and compute the convolution value for that element '''\n",
    "        for b in range(out_n):\n",
    "            for k in range(out_c):\n",
    "                for h in range(out_h):\n",
    "                    for w in range(out_w):\n",
    "                        # convolve kernel over the input slices\n",
    "                        self.debugprint('kernel indices, image indices')\n",
    "                        self.debugprint('[c, h, w]', '[n, c, h, w]')\n",
    "                        convol_sum = 0\n",
    "                        ker_c = self.in_channels\n",
    "                        ker_h = self.kernel_size[0]\n",
    "                        ker_w = self.kernel_size[1]\n",
    "                        for c_ker in range(ker_c):\n",
    "                            for h_ker in range(ker_h):\n",
    "                                for w_ker in range(ker_w):\n",
    "                                    self.debugprint([c_ker, h_ker, w_ker], [b, c_ker, h_ker + self.stride*h, w_ker + self.stride*w])\n",
    "                                    convol_sum += kernels[k][c_ker][h_ker][w_ker] * _input[b][c_ker][h_ker + self.stride*h][w_ker + self.stride*w]\n",
    "                        self.debugprint('\\n')\n",
    "                        output[b, k, h, w] += convol_sum\n",
    "        self.verboseprint('*** Conv2DPytTest output ***')\n",
    "        output_shape = output.shape\n",
    "        self.verboseprint('output batches: {}, ouput channels: {}, output height: {}, output weight: {}'.format(output_shape[0], output_shape[1], output_shape[2], output_shape[3]))\n",
    "        assert((out_n, out_c, out_h, out_w) == output_shape)\n",
    "        self.verboseprint(output)\n",
    "        self.verboseprint('\\n')\n",
    "        return output"
   ]
  },
  {
   "cell_type": "markdown",
   "id": "7450ac24",
   "metadata": {},
   "source": [
    "### Standalone test (random kernel, random input)"
   ]
  },
  {
   "cell_type": "code",
   "execution_count": 19,
   "id": "a0377df6",
   "metadata": {},
   "outputs": [],
   "source": [
    "debug = False # DO NOT CHANGE THIS while using Conv2DPytTest - TODO: modify this flag to `test`\n",
    "\n",
    "in_channels = 2 # input channels\n",
    "out_channels = 3 # output channels\n",
    "kernel_size = (2, 2) # kernel size\n",
    "\n",
    "padding = 1 # padding (optional)\n",
    "stride = 2 # stride (optional)\n",
    "dilation = 1 # dilation factor (optional)\n",
    "\n",
    "in_batches = 2 # input batches\n",
    "in_h = 4 # input height\n",
    "in_w = 4 # input weight\n",
    "\n",
    "_input = np.random.rand(in_batches, in_channels, in_h, in_w) # define a random image based on the input parameters\n",
    "kernels = []\n",
    "for k in range(out_channels):\n",
    "    kernel = np.random.rand(in_channels, kernel_size[0], kernel_size[1]) # define a random kernel based on the kernel parameters\n",
    "    kernels.append(kernel)"
   ]
  },
  {
   "cell_type": "code",
   "execution_count": 20,
   "id": "29c79bef",
   "metadata": {},
   "outputs": [
    {
     "name": "stdout",
     "output_type": "stream",
     "text": [
      "*** parameters ***\n",
      "in_channels: 2, out_channels: 3, kernel_size: (2, 2)\n",
      "padding: 1, stride: 2, dilation factor: 1\n",
      "groups: 1, bias: True, padding_mode: zeros, device: None, dtype: None\n",
      "\n",
      "\n",
      "*** padded input image ***\n",
      "input batches: 2, input channels: 2, input height: 6, input weight: 6\n",
      "[[[[0.00000000e+00 0.00000000e+00 0.00000000e+00 0.00000000e+00\n",
      "    0.00000000e+00 0.00000000e+00]\n",
      "   [0.00000000e+00 2.69370490e-04 5.78882594e-01 4.99688405e-01\n",
      "    8.62905006e-01 0.00000000e+00]\n",
      "   [0.00000000e+00 4.84061298e-01 1.17934588e-01 9.02154300e-01\n",
      "    2.95797546e-01 0.00000000e+00]\n",
      "   [0.00000000e+00 6.35023497e-01 9.39979521e-01 4.41116121e-01\n",
      "    9.83302108e-01 0.00000000e+00]\n",
      "   [0.00000000e+00 5.44206471e-01 8.33367398e-02 7.84177410e-01\n",
      "    9.68514664e-01 0.00000000e+00]\n",
      "   [0.00000000e+00 0.00000000e+00 0.00000000e+00 0.00000000e+00\n",
      "    0.00000000e+00 0.00000000e+00]]\n",
      "\n",
      "  [[0.00000000e+00 0.00000000e+00 0.00000000e+00 0.00000000e+00\n",
      "    0.00000000e+00 0.00000000e+00]\n",
      "   [0.00000000e+00 9.61450518e-01 3.08213444e-01 9.25686563e-01\n",
      "    7.92408036e-01 0.00000000e+00]\n",
      "   [0.00000000e+00 6.72925966e-01 5.48890103e-01 7.15737914e-01\n",
      "    7.35543650e-02 0.00000000e+00]\n",
      "   [0.00000000e+00 4.79881958e-01 1.95325323e-01 5.96866607e-02\n",
      "    2.52828432e-01 0.00000000e+00]\n",
      "   [0.00000000e+00 3.68475162e-01 5.19817545e-01 2.94676011e-01\n",
      "    1.91766172e-01 0.00000000e+00]\n",
      "   [0.00000000e+00 0.00000000e+00 0.00000000e+00 0.00000000e+00\n",
      "    0.00000000e+00 0.00000000e+00]]]\n",
      "\n",
      "\n",
      " [[[0.00000000e+00 0.00000000e+00 0.00000000e+00 0.00000000e+00\n",
      "    0.00000000e+00 0.00000000e+00]\n",
      "   [0.00000000e+00 5.78835804e-02 4.07174084e-01 3.08274555e-02\n",
      "    1.46836095e-01 0.00000000e+00]\n",
      "   [0.00000000e+00 9.56964490e-01 4.44924352e-02 7.10759051e-01\n",
      "    2.13176279e-01 0.00000000e+00]\n",
      "   [0.00000000e+00 7.23208004e-01 6.29578787e-01 1.85717470e-01\n",
      "    1.49824102e-02 0.00000000e+00]\n",
      "   [0.00000000e+00 1.38845423e-01 2.63249984e-01 4.10164047e-01\n",
      "    3.78244523e-01 0.00000000e+00]\n",
      "   [0.00000000e+00 0.00000000e+00 0.00000000e+00 0.00000000e+00\n",
      "    0.00000000e+00 0.00000000e+00]]\n",
      "\n",
      "  [[0.00000000e+00 0.00000000e+00 0.00000000e+00 0.00000000e+00\n",
      "    0.00000000e+00 0.00000000e+00]\n",
      "   [0.00000000e+00 9.98330827e-01 3.72712615e-01 6.63967935e-01\n",
      "    5.92162877e-01 0.00000000e+00]\n",
      "   [0.00000000e+00 9.65446674e-01 2.00946470e-01 7.11203263e-01\n",
      "    5.14941832e-02 0.00000000e+00]\n",
      "   [0.00000000e+00 8.86042875e-01 7.95196789e-01 5.45476399e-01\n",
      "    1.31009515e-01 0.00000000e+00]\n",
      "   [0.00000000e+00 3.86804656e-03 6.96135559e-01 5.91976233e-01\n",
      "    7.95272356e-02 0.00000000e+00]\n",
      "   [0.00000000e+00 0.00000000e+00 0.00000000e+00 0.00000000e+00\n",
      "    0.00000000e+00 0.00000000e+00]]]]\n",
      "\n",
      "\n",
      "*** kernels ***\n",
      "kernels: 3, kernel channels: 2, kernel height: 2, kernel weight: 2\n",
      "*** dilated kernels ***\n",
      "kernels: 3, dilation factor: 1, kernel channels: 2, kernel height: 2, kernel weight: 2\n",
      "kernel 0\n",
      "[[[0.7929254386374055, 0.5140692337700568], [0.6811163169852235, 0.09428537256147207]], [[0.19438193934350134, 0.8588269093415296], [0.46698329371955793, 9.767794183623835e-05]]]\n",
      "kernel 1\n",
      "[[[0.9771468331168497, 0.4471127514113016], [0.12362731858107401, 0.48696269122121505]], [[0.8700783037389332, 0.8357524390436653], [0.3125296660855872, 0.7530592248218896]]]\n",
      "kernel 2\n",
      "[[[0.8982862959358624, 0.9463535668979887], [0.2024067941732367, 0.11301426466474551]], [[0.44618292591060504, 0.5172649657409758], [0.29572551842925554, 0.9797449362464736]]]\n",
      "\n",
      "\n",
      "*** Conv2DPytTest output ***\n",
      "output batches: 2, ouput channels: 3, output height: 3, output weight: 3\n",
      "[[[[1.19310205e-04 5.85420636e-01 9.57779994e-01]\n",
      "   [8.86688249e-01 2.05171809e+00 1.03665280e+00]\n",
      "   [5.96216188e-01 8.23320132e-01 8.05235795e-01]]\n",
      "\n",
      "  [[7.24160356e-01 1.10831796e+00 3.54329651e-01]\n",
      "   [1.44944178e+00 2.03136797e+00 5.53615081e-01]\n",
      "   [5.51275668e-01 1.13060611e+00 1.11323262e+00]]\n",
      "\n",
      "  [[9.42006720e-01 1.17172499e+00 4.08993113e-01]\n",
      "   [1.34810279e+00 1.93117855e+00 5.72324430e-01]\n",
      "   [7.05611027e-01 1.20132863e+00 9.55566242e-01]]]\n",
      "\n",
      "\n",
      " [[[5.55508984e-03 4.54354910e-01 3.76542631e-01]\n",
      "   [1.38937207e+00 1.86824313e+00 2.50426452e-01]\n",
      "   [7.46981429e-02 1.06331162e+00 3.15378363e-01]]\n",
      "\n",
      "  [[7.79989383e-01 6.81840588e-01 2.03221419e-01]\n",
      "   [2.25416352e+00 1.95806334e+00 2.95905093e-01]\n",
      "   [6.53122887e-02 1.54106149e+00 4.38795360e-01]]\n",
      "\n",
      "  [[9.84651243e-01 8.46638596e-01 2.04838297e-01]\n",
      "   [2.35484734e+00 2.08814319e+00 2.56244554e-01]\n",
      "   [1.33397667e-01 1.24144643e+00 3.75255567e-01]]]]\n",
      "\n",
      "\n"
     ]
    }
   ],
   "source": [
    "# get Conv2DPytTest output with the random inputs\n",
    "\n",
    "conv2dpyttest = Conv2DPytTest(in_channels, out_channels, kernel_size, stride = stride, padding = padding, dilation = dilation, debug = debug) # call an instance of the class with the input parameters \n",
    "_output = conv2dpyttest.forward(_input, kernels) # perform convolution"
   ]
  },
  {
   "cell_type": "code",
   "execution_count": 21,
   "id": "df346af0",
   "metadata": {},
   "outputs": [
    {
     "name": "stdout",
     "output_type": "stream",
     "text": [
      "*** PyTorch output ***\n",
      "tensor([[[[1.1931e-04, 5.8542e-01, 9.5778e-01],\n",
      "          [8.8669e-01, 2.0517e+00, 1.0367e+00],\n",
      "          [5.9622e-01, 8.2332e-01, 8.0524e-01]],\n",
      "\n",
      "         [[7.2416e-01, 1.1083e+00, 3.5433e-01],\n",
      "          [1.4494e+00, 2.0314e+00, 5.5362e-01],\n",
      "          [5.5128e-01, 1.1306e+00, 1.1132e+00]],\n",
      "\n",
      "         [[9.4201e-01, 1.1717e+00, 4.0899e-01],\n",
      "          [1.3481e+00, 1.9312e+00, 5.7232e-01],\n",
      "          [7.0561e-01, 1.2013e+00, 9.5557e-01]]],\n",
      "\n",
      "\n",
      "        [[[5.5551e-03, 4.5435e-01, 3.7654e-01],\n",
      "          [1.3894e+00, 1.8682e+00, 2.5043e-01],\n",
      "          [7.4698e-02, 1.0633e+00, 3.1538e-01]],\n",
      "\n",
      "         [[7.7999e-01, 6.8184e-01, 2.0322e-01],\n",
      "          [2.2542e+00, 1.9581e+00, 2.9591e-01],\n",
      "          [6.5312e-02, 1.5411e+00, 4.3880e-01]],\n",
      "\n",
      "         [[9.8465e-01, 8.4664e-01, 2.0484e-01],\n",
      "          [2.3548e+00, 2.0881e+00, 2.5624e-01],\n",
      "          [1.3340e-01, 1.2414e+00, 3.7526e-01]]]], dtype=torch.float64)\n"
     ]
    }
   ],
   "source": [
    "# get PyTorch output with the same random inputs as above\n",
    "\n",
    "import torch\n",
    "\n",
    "x = torch.DoubleTensor(_input)\n",
    "weights = torch.stack([torch.DoubleTensor(kernel) for kernel in kernels])\n",
    "output = torch.nn.functional.conv2d(x, weights, stride = stride, padding = padding, dilation = dilation)\n",
    "print(\"*** PyTorch output ***\")\n",
    "print(output)"
   ]
  },
  {
   "cell_type": "code",
   "execution_count": 22,
   "id": "d8e5a3f5",
   "metadata": {
    "scrolled": true
   },
   "outputs": [
    {
     "name": "stdout",
     "output_type": "stream",
     "text": [
      "True\n"
     ]
    }
   ],
   "source": [
    "# compare outputs of conv-Numpy and PyTorch\n",
    "print(torch.equal(torch.round(torch.DoubleTensor(_output)), torch.round(output))) # need to round the output due to precision difference"
   ]
  },
  {
   "cell_type": "markdown",
   "id": "c87813f3",
   "metadata": {},
   "source": [
    "### Extensive tests (random kernel, random input)"
   ]
  },
  {
   "cell_type": "code",
   "execution_count": 23,
   "id": "8b986f3c",
   "metadata": {},
   "outputs": [],
   "source": [
    "def valid_params(num_tests):\n",
    "    # generates `num_samples` number of valid input and kernel parameters \n",
    "    params_list = []\n",
    "    sample_count = 0\n",
    "    while sample_count < num_tests:\n",
    "        in_channels = np.random.randint(20) + 1 # input channels\n",
    "        out_channels = np.random.randint(40) + 1 # output channels\n",
    "\n",
    "        ker_h = np.random.randint(20) + 1\n",
    "        ker_w = np.random.randint(20) + 1\n",
    "        kernel_size = (ker_h, ker_w) # kernel size\n",
    "\n",
    "        padding = np.random.randint(10) + 1 # padding (optional)\n",
    "        stride = np.random.randint(5) + 1 # stride (optional)\n",
    "        dilation = np.random.randint(10) + 1 # dilation factor (optional)\n",
    "\n",
    "        in_batches = np.random.randint(5) + 1 # input batches\n",
    "        in_h = np.random.randint(30) + 5 # input height\n",
    "        in_w = np.random.randint(30) + 5 # input weight\n",
    "    \n",
    "        ker_h_flag, ker_w_flag, out_h_flag, out_w_flag = True, True, True, True\n",
    "        \n",
    "        if in_h + 2 * padding < dilation * (ker_h - 1) + 1: # check if (dilated) ker_h is valid\n",
    "            ker_h_flag = False\n",
    "        if in_w + 2 * padding < dilation * (ker_w - 1) + 1: # check if (dilated) ker_w is valid\n",
    "            ker_w_flag = False\n",
    "        if ((in_h + 2 * padding - (dilation * (ker_h - 1) + 1)) / stride) + 1 < 0: # check if out_h is valid\n",
    "            out_h_flag = False\n",
    "        if ((in_w + 2 * padding - (dilation * (ker_w - 1) + 1)) / stride) + 1 < 0: # check if out_w is valid\n",
    "            out_w_flag = False\n",
    "            \n",
    "        if ker_h_flag and ker_w_flag and out_h_flag and out_w_flag:\n",
    "            params_list.append({'in_channels': in_channels, 'out_channels': out_channels, 'kernel_size': kernel_size,\n",
    "                          'padding': padding, 'stride': stride, 'dilation': dilation, 'in_batches': in_batches,\n",
    "                          'in_h': in_h, 'in_w': in_w})\n",
    "            sample_count += 1\n",
    "    return params_list"
   ]
  },
  {
   "cell_type": "code",
   "execution_count": 24,
   "id": "472a4c0f",
   "metadata": {},
   "outputs": [
    {
     "name": "stdout",
     "output_type": "stream",
     "text": [
      "Number of tests: 100\n",
      "\n",
      "\n"
     ]
    },
    {
     "name": "stderr",
     "output_type": "stream",
     "text": [
      "\r",
      "  0%|                                                   | 0/100 [00:00<?, ?it/s]"
     ]
    },
    {
     "name": "stdout",
     "output_type": "stream",
     "text": [
      "Test: 0\n",
      "Params: {'in_channels': 11, 'out_channels': 3, 'kernel_size': (16, 10), 'padding': 10, 'stride': 4, 'dilation': 2, 'in_batches': 3, 'in_h': 23, 'in_w': 22}\n"
     ]
    },
    {
     "name": "stderr",
     "output_type": "stream",
     "text": [
      "\r",
      "  1%|▍                                          | 1/100 [00:04<08:05,  4.91s/it]"
     ]
    },
    {
     "name": "stdout",
     "output_type": "stream",
     "text": [
      "Result: True\n",
      "\n",
      "\n",
      "Test: 1\n",
      "Params: {'in_channels': 10, 'out_channels': 29, 'kernel_size': (13, 1), 'padding': 2, 'stride': 3, 'dilation': 1, 'in_batches': 4, 'in_h': 13, 'in_w': 25}\n"
     ]
    },
    {
     "name": "stderr",
     "output_type": "stream",
     "text": [
      "\r",
      "  2%|▊                                          | 2/100 [00:06<04:24,  2.70s/it]"
     ]
    },
    {
     "name": "stdout",
     "output_type": "stream",
     "text": [
      "Result: True\n",
      "\n",
      "\n",
      "Test: 2\n",
      "Params: {'in_channels': 5, 'out_channels': 23, 'kernel_size': (4, 10), 'padding': 6, 'stride': 3, 'dilation': 1, 'in_batches': 4, 'in_h': 30, 'in_w': 16}\n"
     ]
    },
    {
     "name": "stderr",
     "output_type": "stream",
     "text": [
      "\r",
      "  3%|█▎                                         | 3/100 [00:11<06:25,  3.97s/it]"
     ]
    },
    {
     "name": "stdout",
     "output_type": "stream",
     "text": [
      "Result: True\n",
      "\n",
      "\n",
      "Test: 3\n",
      "Params: {'in_channels': 10, 'out_channels': 8, 'kernel_size': (3, 2), 'padding': 4, 'stride': 2, 'dilation': 1, 'in_batches': 5, 'in_h': 21, 'in_w': 13}\n"
     ]
    },
    {
     "name": "stderr",
     "output_type": "stream",
     "text": [
      "\r",
      "  4%|█▋                                         | 4/100 [00:12<04:34,  2.86s/it]"
     ]
    },
    {
     "name": "stdout",
     "output_type": "stream",
     "text": [
      "Result: True\n",
      "\n",
      "\n",
      "Test: 4\n",
      "Params: {'in_channels': 11, 'out_channels': 5, 'kernel_size': (9, 9), 'padding': 10, 'stride': 5, 'dilation': 3, 'in_batches': 4, 'in_h': 10, 'in_w': 9}\n"
     ]
    },
    {
     "name": "stderr",
     "output_type": "stream",
     "text": [
      "\r",
      "  5%|██▏                                        | 5/100 [00:13<03:20,  2.11s/it]"
     ]
    },
    {
     "name": "stdout",
     "output_type": "stream",
     "text": [
      "Result: True\n",
      "\n",
      "\n",
      "Test: 5\n",
      "Params: {'in_channels': 9, 'out_channels': 12, 'kernel_size': (20, 7), 'padding': 2, 'stride': 4, 'dilation': 1, 'in_batches': 3, 'in_h': 19, 'in_w': 26}\n"
     ]
    },
    {
     "name": "stderr",
     "output_type": "stream",
     "text": [
      "\r",
      "  6%|██▌                                        | 6/100 [00:14<02:31,  1.61s/it]"
     ]
    },
    {
     "name": "stdout",
     "output_type": "stream",
     "text": [
      "Result: True\n",
      "\n",
      "\n",
      "Test: 6\n",
      "Params: {'in_channels': 6, 'out_channels': 33, 'kernel_size': (1, 6), 'padding': 6, 'stride': 4, 'dilation': 4, 'in_batches': 5, 'in_h': 17, 'in_w': 30}\n"
     ]
    },
    {
     "name": "stderr",
     "output_type": "stream",
     "text": [
      "\r",
      "  7%|███                                        | 7/100 [00:16<02:47,  1.81s/it]"
     ]
    },
    {
     "name": "stdout",
     "output_type": "stream",
     "text": [
      "Result: True\n",
      "\n",
      "\n",
      "Test: 7\n",
      "Params: {'in_channels': 17, 'out_channels': 17, 'kernel_size': (4, 17), 'padding': 6, 'stride': 2, 'dilation': 2, 'in_batches': 4, 'in_h': 14, 'in_w': 28}\n",
      "invalid input parameters: output width is negative\n",
      "Result: True\n",
      "\n",
      "\n",
      "Test: 8\n",
      "Params: {'in_channels': 4, 'out_channels': 9, 'kernel_size': (11, 3), 'padding': 10, 'stride': 2, 'dilation': 1, 'in_batches': 3, 'in_h': 8, 'in_w': 8}\n"
     ]
    },
    {
     "name": "stderr",
     "output_type": "stream",
     "text": [
      "\r",
      "  9%|███▊                                       | 9/100 [00:17<01:45,  1.16s/it]"
     ]
    },
    {
     "name": "stdout",
     "output_type": "stream",
     "text": [
      "Result: True\n",
      "\n",
      "\n",
      "Test: 9\n",
      "Params: {'in_channels': 4, 'out_channels': 18, 'kernel_size': (12, 2), 'padding': 3, 'stride': 5, 'dilation': 1, 'in_batches': 5, 'in_h': 18, 'in_w': 24}\n"
     ]
    },
    {
     "name": "stderr",
     "output_type": "stream",
     "text": [
      "\r",
      " 10%|████▏                                     | 10/100 [00:17<01:25,  1.05it/s]"
     ]
    },
    {
     "name": "stdout",
     "output_type": "stream",
     "text": [
      "Result: True\n",
      "\n",
      "\n",
      "Test: 10\n",
      "Params: {'in_channels': 9, 'out_channels': 19, 'kernel_size': (19, 18), 'padding': 5, 'stride': 1, 'dilation': 1, 'in_batches': 4, 'in_h': 11, 'in_w': 8}\n"
     ]
    },
    {
     "name": "stderr",
     "output_type": "stream",
     "text": [
      "\r",
      " 11%|████▌                                     | 11/100 [00:19<01:37,  1.09s/it]"
     ]
    },
    {
     "name": "stdout",
     "output_type": "stream",
     "text": [
      "Result: True\n",
      "\n",
      "\n",
      "Test: 11\n",
      "Params: {'in_channels': 10, 'out_channels': 27, 'kernel_size': (5, 5), 'padding': 10, 'stride': 3, 'dilation': 5, 'in_batches': 4, 'in_h': 34, 'in_w': 13}\n"
     ]
    },
    {
     "name": "stderr",
     "output_type": "stream",
     "text": [
      "\r",
      " 12%|█████                                     | 12/100 [01:16<24:38, 16.81s/it]"
     ]
    },
    {
     "name": "stdout",
     "output_type": "stream",
     "text": [
      "Result: True\n",
      "\n",
      "\n",
      "Test: 12\n",
      "Params: {'in_channels': 18, 'out_channels': 27, 'kernel_size': (7, 3), 'padding': 5, 'stride': 2, 'dilation': 1, 'in_batches': 1, 'in_h': 14, 'in_w': 6}\n"
     ]
    },
    {
     "name": "stderr",
     "output_type": "stream",
     "text": [
      "\r",
      " 13%|█████▍                                    | 13/100 [01:18<18:01, 12.44s/it]"
     ]
    },
    {
     "name": "stdout",
     "output_type": "stream",
     "text": [
      "Result: True\n",
      "\n",
      "\n",
      "Test: 13\n",
      "Params: {'in_channels': 12, 'out_channels': 7, 'kernel_size': (10, 5), 'padding': 6, 'stride': 4, 'dilation': 2, 'in_batches': 5, 'in_h': 16, 'in_w': 13}\n"
     ]
    },
    {
     "name": "stderr",
     "output_type": "stream",
     "text": [
      "\r",
      " 14%|█████▉                                    | 14/100 [01:20<13:35,  9.48s/it]"
     ]
    },
    {
     "name": "stdout",
     "output_type": "stream",
     "text": [
      "Result: True\n",
      "\n",
      "\n",
      "Test: 14\n",
      "Params: {'in_channels': 16, 'out_channels': 19, 'kernel_size': (2, 17), 'padding': 3, 'stride': 2, 'dilation': 1, 'in_batches': 1, 'in_h': 12, 'in_w': 16}\n"
     ]
    },
    {
     "name": "stderr",
     "output_type": "stream",
     "text": [
      "\r",
      " 15%|██████▎                                   | 15/100 [01:21<09:45,  6.88s/it]"
     ]
    },
    {
     "name": "stdout",
     "output_type": "stream",
     "text": [
      "Result: True\n",
      "\n",
      "\n",
      "Test: 15\n",
      "Params: {'in_channels': 18, 'out_channels': 6, 'kernel_size': (10, 15), 'padding': 6, 'stride': 4, 'dilation': 1, 'in_batches': 5, 'in_h': 24, 'in_w': 20}\n"
     ]
    },
    {
     "name": "stderr",
     "output_type": "stream",
     "text": [
      "\r",
      " 16%|██████▋                                   | 16/100 [01:26<09:09,  6.54s/it]"
     ]
    },
    {
     "name": "stdout",
     "output_type": "stream",
     "text": [
      "Result: True\n",
      "\n",
      "\n",
      "Test: 16\n",
      "Params: {'in_channels': 18, 'out_channels': 14, 'kernel_size': (5, 3), 'padding': 4, 'stride': 2, 'dilation': 3, 'in_batches': 3, 'in_h': 32, 'in_w': 11}\n"
     ]
    },
    {
     "name": "stderr",
     "output_type": "stream",
     "text": [
      "\r",
      " 17%|███████▏                                  | 17/100 [01:40<11:54,  8.61s/it]"
     ]
    },
    {
     "name": "stdout",
     "output_type": "stream",
     "text": [
      "Result: True\n",
      "\n",
      "\n",
      "Test: 17\n",
      "Params: {'in_channels': 9, 'out_channels': 26, 'kernel_size': (11, 2), 'padding': 6, 'stride': 1, 'dilation': 1, 'in_batches': 5, 'in_h': 23, 'in_w': 5}\n"
     ]
    },
    {
     "name": "stderr",
     "output_type": "stream",
     "text": [
      "\r",
      " 18%|███████▌                                  | 18/100 [02:03<17:28, 12.79s/it]"
     ]
    },
    {
     "name": "stdout",
     "output_type": "stream",
     "text": [
      "Result: True\n",
      "\n",
      "\n",
      "Test: 18\n",
      "Params: {'in_channels': 20, 'out_channels': 20, 'kernel_size': (12, 6), 'padding': 7, 'stride': 3, 'dilation': 3, 'in_batches': 2, 'in_h': 25, 'in_w': 7}\n"
     ]
    },
    {
     "name": "stderr",
     "output_type": "stream",
     "text": [
      "\r",
      " 19%|███████▉                                  | 19/100 [02:06<13:32, 10.03s/it]"
     ]
    },
    {
     "name": "stdout",
     "output_type": "stream",
     "text": [
      "Result: True\n",
      "\n",
      "\n",
      "Test: 19\n",
      "Params: {'in_channels': 14, 'out_channels': 15, 'kernel_size': (11, 11), 'padding': 7, 'stride': 1, 'dilation': 2, 'in_batches': 4, 'in_h': 26, 'in_w': 21}\n"
     ]
    },
    {
     "name": "stderr",
     "output_type": "stream",
     "text": [
      "\r",
      " 20%|████████                                | 20/100 [05:50<1:38:29, 73.86s/it]"
     ]
    },
    {
     "name": "stdout",
     "output_type": "stream",
     "text": [
      "Result: True\n",
      "\n",
      "\n",
      "Test: 20\n",
      "Params: {'in_channels': 13, 'out_channels': 31, 'kernel_size': (14, 6), 'padding': 4, 'stride': 1, 'dilation': 1, 'in_batches': 3, 'in_h': 15, 'in_w': 5}\n"
     ]
    },
    {
     "name": "stderr",
     "output_type": "stream",
     "text": [
      "\r",
      " 21%|████████▍                               | 21/100 [06:08<1:15:14, 57.14s/it]"
     ]
    },
    {
     "name": "stdout",
     "output_type": "stream",
     "text": [
      "Result: True\n",
      "\n",
      "\n",
      "Test: 21\n",
      "Params: {'in_channels': 14, 'out_channels': 13, 'kernel_size': (13, 2), 'padding': 4, 'stride': 2, 'dilation': 1, 'in_batches': 2, 'in_h': 25, 'in_w': 14}\n"
     ]
    },
    {
     "name": "stderr",
     "output_type": "stream",
     "text": [
      "\r",
      " 22%|█████████▏                                | 22/100 [06:11<53:08, 40.88s/it]"
     ]
    },
    {
     "name": "stdout",
     "output_type": "stream",
     "text": [
      "Result: True\n",
      "\n",
      "\n",
      "Test: 22\n",
      "Params: {'in_channels': 18, 'out_channels': 14, 'kernel_size': (9, 4), 'padding': 6, 'stride': 1, 'dilation': 3, 'in_batches': 2, 'in_h': 30, 'in_w': 14}\n"
     ]
    },
    {
     "name": "stderr",
     "output_type": "stream",
     "text": [
      "\r",
      " 23%|█████████▏                              | 23/100 [07:34<1:08:50, 53.64s/it]"
     ]
    },
    {
     "name": "stdout",
     "output_type": "stream",
     "text": [
      "Result: True\n",
      "\n",
      "\n",
      "Test: 23\n",
      "Params: {'in_channels': 14, 'out_channels': 31, 'kernel_size': (6, 3), 'padding': 8, 'stride': 4, 'dilation': 5, 'in_batches': 3, 'in_h': 33, 'in_w': 9}\n"
     ]
    },
    {
     "name": "stderr",
     "output_type": "stream",
     "text": [
      "\r",
      " 24%|██████████                                | 24/100 [07:53<54:34, 43.09s/it]"
     ]
    },
    {
     "name": "stdout",
     "output_type": "stream",
     "text": [
      "Result: True\n",
      "\n",
      "\n",
      "Test: 24\n",
      "Params: {'in_channels': 8, 'out_channels': 13, 'kernel_size': (9, 5), 'padding': 6, 'stride': 4, 'dilation': 3, 'in_batches': 3, 'in_h': 20, 'in_w': 32}\n"
     ]
    },
    {
     "name": "stderr",
     "output_type": "stream",
     "text": [
      "\r",
      " 25%|██████████▌                               | 25/100 [07:56<39:00, 31.21s/it]"
     ]
    },
    {
     "name": "stdout",
     "output_type": "stream",
     "text": [
      "Result: True\n",
      "\n",
      "\n",
      "Test: 25\n",
      "Params: {'in_channels': 11, 'out_channels': 16, 'kernel_size': (10, 13), 'padding': 5, 'stride': 1, 'dilation': 1, 'in_batches': 5, 'in_h': 11, 'in_w': 30}\n"
     ]
    },
    {
     "name": "stderr",
     "output_type": "stream",
     "text": [
      "\r",
      " 26%|██████████▉                               | 26/100 [09:14<55:49, 45.27s/it]"
     ]
    },
    {
     "name": "stdout",
     "output_type": "stream",
     "text": [
      "Result: True\n",
      "\n",
      "\n",
      "Test: 26\n",
      "Params: {'in_channels': 11, 'out_channels': 2, 'kernel_size': (11, 7), 'padding': 10, 'stride': 1, 'dilation': 1, 'in_batches': 1, 'in_h': 18, 'in_w': 25}\n"
     ]
    },
    {
     "name": "stderr",
     "output_type": "stream",
     "text": [
      "\r",
      " 27%|███████████▎                              | 27/100 [09:18<39:58, 32.86s/it]"
     ]
    },
    {
     "name": "stdout",
     "output_type": "stream",
     "text": [
      "Result: True\n",
      "\n",
      "\n",
      "Test: 27\n",
      "Params: {'in_channels': 18, 'out_channels': 9, 'kernel_size': (1, 4), 'padding': 6, 'stride': 3, 'dilation': 6, 'in_batches': 3, 'in_h': 15, 'in_w': 20}\n"
     ]
    },
    {
     "name": "stderr",
     "output_type": "stream",
     "text": [
      "\r",
      " 28%|███████████▊                              | 28/100 [09:19<27:54, 23.26s/it]"
     ]
    },
    {
     "name": "stdout",
     "output_type": "stream",
     "text": [
      "Result: True\n",
      "\n",
      "\n",
      "Test: 28\n",
      "Params: {'in_channels': 4, 'out_channels': 10, 'kernel_size': (6, 3), 'padding': 6, 'stride': 4, 'dilation': 6, 'in_batches': 3, 'in_h': 34, 'in_w': 16}\n"
     ]
    },
    {
     "name": "stderr",
     "output_type": "stream",
     "text": [
      "\r",
      " 29%|████████████▏                             | 29/100 [09:20<19:49, 16.76s/it]"
     ]
    },
    {
     "name": "stdout",
     "output_type": "stream",
     "text": [
      "Result: True\n",
      "\n",
      "\n",
      "Test: 29\n",
      "Params: {'in_channels': 9, 'out_channels': 37, 'kernel_size': (8, 8), 'padding': 10, 'stride': 4, 'dilation': 3, 'in_batches': 1, 'in_h': 26, 'in_w': 25}\n"
     ]
    },
    {
     "name": "stderr",
     "output_type": "stream",
     "text": [
      "\r",
      " 30%|████████████▌                             | 30/100 [09:34<18:36, 15.95s/it]"
     ]
    },
    {
     "name": "stdout",
     "output_type": "stream",
     "text": [
      "Result: True\n",
      "\n",
      "\n",
      "Test: 30\n",
      "Params: {'in_channels': 15, 'out_channels': 20, 'kernel_size': (12, 15), 'padding': 5, 'stride': 3, 'dilation': 1, 'in_batches': 1, 'in_h': 34, 'in_w': 9}\n"
     ]
    },
    {
     "name": "stderr",
     "output_type": "stream",
     "text": [
      "\r",
      " 31%|█████████████                             | 31/100 [09:37<13:40, 11.89s/it]"
     ]
    },
    {
     "name": "stdout",
     "output_type": "stream",
     "text": [
      "Result: True\n",
      "\n",
      "\n",
      "Test: 31\n",
      "Params: {'in_channels': 1, 'out_channels': 20, 'kernel_size': (13, 19), 'padding': 1, 'stride': 3, 'dilation': 1, 'in_batches': 3, 'in_h': 14, 'in_w': 26}\n"
     ]
    },
    {
     "name": "stderr",
     "output_type": "stream",
     "text": [
      "\r",
      " 32%|█████████████▍                            | 32/100 [09:37<09:31,  8.40s/it]"
     ]
    },
    {
     "name": "stdout",
     "output_type": "stream",
     "text": [
      "Result: True\n",
      "\n",
      "\n",
      "Test: 32\n",
      "Params: {'in_channels': 8, 'out_channels': 16, 'kernel_size': (3, 13), 'padding': 5, 'stride': 3, 'dilation': 2, 'in_batches': 2, 'in_h': 21, 'in_w': 19}\n"
     ]
    },
    {
     "name": "stderr",
     "output_type": "stream",
     "text": [
      "\r",
      " 33%|█████████████▊                            | 33/100 [09:38<06:57,  6.23s/it]"
     ]
    },
    {
     "name": "stdout",
     "output_type": "stream",
     "text": [
      "Result: True\n",
      "\n",
      "\n",
      "Test: 33\n",
      "Params: {'in_channels': 15, 'out_channels': 3, 'kernel_size': (7, 18), 'padding': 8, 'stride': 3, 'dilation': 1, 'in_batches': 3, 'in_h': 9, 'in_w': 8}\n"
     ]
    },
    {
     "name": "stderr",
     "output_type": "stream",
     "text": [
      "\r",
      " 34%|██████████████▎                           | 34/100 [09:39<05:02,  4.58s/it]"
     ]
    },
    {
     "name": "stdout",
     "output_type": "stream",
     "text": [
      "Result: True\n",
      "\n",
      "\n",
      "Test: 34\n",
      "Params: {'in_channels': 10, 'out_channels': 28, 'kernel_size': (2, 11), 'padding': 3, 'stride': 1, 'dilation': 2, 'in_batches': 2, 'in_h': 7, 'in_w': 30}\n",
      "invalid input parameters: output width is negative\n",
      "Result: True\n",
      "\n",
      "\n",
      "Test: 35\n",
      "Params: {'in_channels': 5, 'out_channels': 32, 'kernel_size': (2, 18), 'padding': 2, 'stride': 3, 'dilation': 1, 'in_batches': 1, 'in_h': 14, 'in_w': 26}\n"
     ]
    },
    {
     "name": "stderr",
     "output_type": "stream",
     "text": [
      " 37%|███████████████▌                          | 37/100 [09:40<02:03,  1.96s/it]"
     ]
    },
    {
     "name": "stdout",
     "output_type": "stream",
     "text": [
      "Result: True\n",
      "\n",
      "\n",
      "Test: 36\n",
      "Params: {'in_channels': 3, 'out_channels': 5, 'kernel_size': (5, 2), 'padding': 6, 'stride': 5, 'dilation': 2, 'in_batches': 5, 'in_h': 25, 'in_w': 25}\n",
      "Result: True\n",
      "\n",
      "\n",
      "Test: 37\n",
      "Params: {'in_channels': 13, 'out_channels': 17, 'kernel_size': (8, 4), 'padding': 3, 'stride': 4, 'dilation': 1, 'in_batches': 5, 'in_h': 5, 'in_w': 34}\n"
     ]
    },
    {
     "name": "stderr",
     "output_type": "stream",
     "text": [
      "\r",
      " 38%|███████████████▉                          | 38/100 [09:40<01:42,  1.65s/it]"
     ]
    },
    {
     "name": "stdout",
     "output_type": "stream",
     "text": [
      "Result: True\n",
      "\n",
      "\n",
      "Test: 38\n",
      "Params: {'in_channels': 10, 'out_channels': 6, 'kernel_size': (11, 16), 'padding': 7, 'stride': 2, 'dilation': 1, 'in_batches': 1, 'in_h': 22, 'in_w': 12}\n"
     ]
    },
    {
     "name": "stderr",
     "output_type": "stream",
     "text": [
      "\r",
      " 39%|████████████████▍                         | 39/100 [09:42<01:41,  1.66s/it]"
     ]
    },
    {
     "name": "stdout",
     "output_type": "stream",
     "text": [
      "Result: True\n",
      "\n",
      "\n",
      "Test: 39\n",
      "Params: {'in_channels': 6, 'out_channels': 26, 'kernel_size': (12, 2), 'padding': 10, 'stride': 4, 'dilation': 2, 'in_batches': 1, 'in_h': 9, 'in_w': 6}\n"
     ]
    },
    {
     "name": "stderr",
     "output_type": "stream",
     "text": [
      "\r",
      " 40%|████████████████▊                         | 40/100 [09:42<01:16,  1.28s/it]"
     ]
    },
    {
     "name": "stdout",
     "output_type": "stream",
     "text": [
      "Result: True\n",
      "\n",
      "\n",
      "Test: 40\n",
      "Params: {'in_channels': 18, 'out_channels': 17, 'kernel_size': (7, 5), 'padding': 10, 'stride': 2, 'dilation': 6, 'in_batches': 4, 'in_h': 27, 'in_w': 26}\n"
     ]
    },
    {
     "name": "stderr",
     "output_type": "stream",
     "text": [
      "\r",
      " 41%|█████████████████▏                        | 41/100 [12:12<42:47, 43.52s/it]"
     ]
    },
    {
     "name": "stdout",
     "output_type": "stream",
     "text": [
      "Result: True\n",
      "\n",
      "\n",
      "Test: 41\n",
      "Params: {'in_channels': 1, 'out_channels': 22, 'kernel_size': (6, 20), 'padding': 4, 'stride': 3, 'dilation': 2, 'in_batches': 2, 'in_h': 18, 'in_w': 33}\n",
      "invalid input parameters: output width is negative\n",
      "Result: True\n",
      "\n",
      "\n",
      "Test: 42\n",
      "Params: {'in_channels': 1, 'out_channels': 39, 'kernel_size': (3, 3), 'padding': 5, 'stride': 2, 'dilation': 2, 'in_batches': 4, 'in_h': 5, 'in_w': 31}\n"
     ]
    },
    {
     "name": "stderr",
     "output_type": "stream",
     "text": [
      "\r",
      " 43%|██████████████████                        | 43/100 [12:13<22:59, 24.19s/it]"
     ]
    },
    {
     "name": "stdout",
     "output_type": "stream",
     "text": [
      "Result: True\n",
      "\n",
      "\n",
      "Test: 43\n",
      "Params: {'in_channels': 2, 'out_channels': 31, 'kernel_size': (17, 18), 'padding': 8, 'stride': 4, 'dilation': 1, 'in_batches': 4, 'in_h': 13, 'in_w': 11}\n"
     ]
    },
    {
     "name": "stderr",
     "output_type": "stream",
     "text": [
      "\r",
      " 44%|██████████████████▍                       | 44/100 [12:14<17:30, 18.76s/it]"
     ]
    },
    {
     "name": "stdout",
     "output_type": "stream",
     "text": [
      "Result: True\n",
      "\n",
      "\n",
      "Test: 44\n",
      "Params: {'in_channels': 19, 'out_channels': 18, 'kernel_size': (18, 20), 'padding': 7, 'stride': 3, 'dilation': 1, 'in_batches': 2, 'in_h': 7, 'in_w': 9}\n"
     ]
    },
    {
     "name": "stderr",
     "output_type": "stream",
     "text": [
      "\r",
      " 45%|██████████████████▉                       | 45/100 [12:16<13:16, 14.47s/it]"
     ]
    },
    {
     "name": "stdout",
     "output_type": "stream",
     "text": [
      "Result: True\n",
      "\n",
      "\n",
      "Test: 45\n",
      "Params: {'in_channels': 9, 'out_channels': 20, 'kernel_size': (4, 9), 'padding': 10, 'stride': 4, 'dilation': 4, 'in_batches': 5, 'in_h': 28, 'in_w': 31}\n"
     ]
    },
    {
     "name": "stderr",
     "output_type": "stream",
     "text": [
      "\r",
      " 46%|███████████████████▎                      | 46/100 [12:51<17:49, 19.80s/it]"
     ]
    },
    {
     "name": "stdout",
     "output_type": "stream",
     "text": [
      "Result: True\n",
      "\n",
      "\n",
      "Test: 46\n",
      "Params: {'in_channels': 20, 'out_channels': 39, 'kernel_size': (12, 10), 'padding': 7, 'stride': 1, 'dilation': 1, 'in_batches': 5, 'in_h': 15, 'in_w': 32}\n"
     ]
    },
    {
     "name": "stderr",
     "output_type": "stream",
     "text": [
      "\r",
      " 47%|██████████████████▎                    | 47/100 [23:19<2:46:48, 188.83s/it]"
     ]
    },
    {
     "name": "stdout",
     "output_type": "stream",
     "text": [
      "Result: True\n",
      "\n",
      "\n",
      "Test: 47\n",
      "Params: {'in_channels': 1, 'out_channels': 1, 'kernel_size': (3, 19), 'padding': 2, 'stride': 3, 'dilation': 1, 'in_batches': 3, 'in_h': 9, 'in_w': 15}\n",
      "invalid input parameters: output width is negative\n",
      "Result: True\n",
      "\n",
      "\n",
      "Test: 48\n",
      "Params: {'in_channels': 15, 'out_channels': 20, 'kernel_size': (17, 7), 'padding': 4, 'stride': 5, 'dilation': 2, 'in_batches': 4, 'in_h': 27, 'in_w': 6}\n"
     ]
    },
    {
     "name": "stderr",
     "output_type": "stream",
     "text": [
      "\r",
      " 49%|███████████████████                    | 49/100 [23:20<1:29:42, 105.54s/it]"
     ]
    },
    {
     "name": "stdout",
     "output_type": "stream",
     "text": [
      "Result: True\n",
      "\n",
      "\n",
      "Test: 49\n",
      "Params: {'in_channels': 14, 'out_channels': 23, 'kernel_size': (17, 5), 'padding': 10, 'stride': 2, 'dilation': 1, 'in_batches': 1, 'in_h': 17, 'in_w': 25}\n"
     ]
    },
    {
     "name": "stderr",
     "output_type": "stream",
     "text": [
      "\r",
      " 50%|████████████████████                    | 50/100 [23:34<1:09:29, 83.40s/it]"
     ]
    },
    {
     "name": "stdout",
     "output_type": "stream",
     "text": [
      "Result: True\n",
      "\n",
      "\n",
      "Test: 50\n",
      "Params: {'in_channels': 18, 'out_channels': 32, 'kernel_size': (20, 17), 'padding': 7, 'stride': 5, 'dilation': 2, 'in_batches': 5, 'in_h': 28, 'in_w': 30}\n"
     ]
    },
    {
     "name": "stderr",
     "output_type": "stream",
     "text": [
      "\r",
      " 51%|█████████████████████▍                    | 51/100 [23:56<55:20, 67.76s/it]"
     ]
    },
    {
     "name": "stdout",
     "output_type": "stream",
     "text": [
      "Result: True\n",
      "\n",
      "\n",
      "Test: 51\n",
      "Params: {'in_channels': 8, 'out_channels': 7, 'kernel_size': (20, 16), 'padding': 6, 'stride': 3, 'dilation': 1, 'in_batches': 4, 'in_h': 26, 'in_w': 28}\n"
     ]
    },
    {
     "name": "stderr",
     "output_type": "stream",
     "text": [
      "\r",
      " 52%|█████████████████████▊                    | 52/100 [24:05<41:40, 52.09s/it]"
     ]
    },
    {
     "name": "stdout",
     "output_type": "stream",
     "text": [
      "Result: True\n",
      "\n",
      "\n",
      "Test: 52\n",
      "Params: {'in_channels': 16, 'out_channels': 19, 'kernel_size': (10, 11), 'padding': 8, 'stride': 3, 'dilation': 3, 'in_batches': 3, 'in_h': 33, 'in_w': 30}\n"
     ]
    },
    {
     "name": "stderr",
     "output_type": "stream",
     "text": [
      "\r",
      " 53%|██████████████████████▎                   | 53/100 [25:21<46:02, 58.78s/it]"
     ]
    },
    {
     "name": "stdout",
     "output_type": "stream",
     "text": [
      "Result: True\n",
      "\n",
      "\n",
      "Test: 53\n",
      "Params: {'in_channels': 20, 'out_channels': 5, 'kernel_size': (8, 12), 'padding': 4, 'stride': 2, 'dilation': 1, 'in_batches': 1, 'in_h': 7, 'in_w': 33}\n"
     ]
    },
    {
     "name": "stderr",
     "output_type": "stream",
     "text": [
      "\r",
      " 54%|██████████████████████▋                   | 54/100 [25:23<32:34, 42.48s/it]"
     ]
    },
    {
     "name": "stdout",
     "output_type": "stream",
     "text": [
      "Result: True\n",
      "\n",
      "\n",
      "Test: 54\n",
      "Params: {'in_channels': 14, 'out_channels': 26, 'kernel_size': (11, 4), 'padding': 3, 'stride': 3, 'dilation': 3, 'in_batches': 4, 'in_h': 31, 'in_w': 8}\n"
     ]
    },
    {
     "name": "stderr",
     "output_type": "stream",
     "text": [
      "\r",
      " 55%|███████████████████████                   | 55/100 [25:28<23:53, 31.85s/it]"
     ]
    },
    {
     "name": "stdout",
     "output_type": "stream",
     "text": [
      "Result: True\n",
      "\n",
      "\n",
      "Test: 55\n",
      "Params: {'in_channels': 7, 'out_channels': 25, 'kernel_size': (4, 3), 'padding': 4, 'stride': 1, 'dilation': 1, 'in_batches': 2, 'in_h': 16, 'in_w': 30}\n"
     ]
    },
    {
     "name": "stderr",
     "output_type": "stream",
     "text": [
      "\r",
      " 56%|███████████████████████▌                  | 56/100 [25:35<18:01, 24.59s/it]"
     ]
    },
    {
     "name": "stdout",
     "output_type": "stream",
     "text": [
      "Result: True\n",
      "\n",
      "\n",
      "Test: 56\n",
      "Params: {'in_channels': 16, 'out_channels': 6, 'kernel_size': (3, 18), 'padding': 8, 'stride': 2, 'dilation': 1, 'in_batches': 5, 'in_h': 7, 'in_w': 14}\n"
     ]
    },
    {
     "name": "stderr",
     "output_type": "stream",
     "text": [
      "\r",
      " 57%|███████████████████████▉                  | 57/100 [25:39<13:17, 18.54s/it]"
     ]
    },
    {
     "name": "stdout",
     "output_type": "stream",
     "text": [
      "Result: True\n",
      "\n",
      "\n",
      "Test: 57\n",
      "Params: {'in_channels': 8, 'out_channels': 19, 'kernel_size': (13, 12), 'padding': 9, 'stride': 5, 'dilation': 2, 'in_batches': 2, 'in_h': 24, 'in_w': 23}\n"
     ]
    },
    {
     "name": "stderr",
     "output_type": "stream",
     "text": [
      "\r",
      " 58%|████████████████████████▎                 | 58/100 [25:45<10:18, 14.73s/it]"
     ]
    },
    {
     "name": "stdout",
     "output_type": "stream",
     "text": [
      "Result: True\n",
      "\n",
      "\n",
      "Test: 58\n",
      "Params: {'in_channels': 5, 'out_channels': 2, 'kernel_size': (4, 1), 'padding': 7, 'stride': 2, 'dilation': 7, 'in_batches': 3, 'in_h': 26, 'in_w': 22}\n"
     ]
    },
    {
     "name": "stderr",
     "output_type": "stream",
     "text": [
      "\r",
      " 59%|████████████████████████▊                 | 59/100 [25:45<07:08, 10.44s/it]"
     ]
    },
    {
     "name": "stdout",
     "output_type": "stream",
     "text": [
      "Result: True\n",
      "\n",
      "\n",
      "Test: 59\n",
      "Params: {'in_channels': 11, 'out_channels': 39, 'kernel_size': (15, 1), 'padding': 2, 'stride': 4, 'dilation': 1, 'in_batches': 5, 'in_h': 23, 'in_w': 22}\n"
     ]
    },
    {
     "name": "stderr",
     "output_type": "stream",
     "text": [
      "\r",
      " 60%|█████████████████████████▏                | 60/100 [25:47<05:19,  7.98s/it]"
     ]
    },
    {
     "name": "stdout",
     "output_type": "stream",
     "text": [
      "Result: True\n",
      "\n",
      "\n",
      "Test: 60\n",
      "Params: {'in_channels': 14, 'out_channels': 2, 'kernel_size': (3, 9), 'padding': 4, 'stride': 2, 'dilation': 2, 'in_batches': 4, 'in_h': 31, 'in_w': 16}\n"
     ]
    },
    {
     "name": "stderr",
     "output_type": "stream",
     "text": [
      "\r",
      " 61%|█████████████████████████▌                | 61/100 [25:49<03:54,  6.01s/it]"
     ]
    },
    {
     "name": "stdout",
     "output_type": "stream",
     "text": [
      "Result: True\n",
      "\n",
      "\n",
      "Test: 61\n",
      "Params: {'in_channels': 19, 'out_channels': 39, 'kernel_size': (15, 1), 'padding': 8, 'stride': 3, 'dilation': 2, 'in_batches': 5, 'in_h': 30, 'in_w': 31}\n"
     ]
    },
    {
     "name": "stderr",
     "output_type": "stream",
     "text": [
      "\r",
      " 62%|██████████████████████████                | 62/100 [26:13<07:18, 11.55s/it]"
     ]
    },
    {
     "name": "stdout",
     "output_type": "stream",
     "text": [
      "Result: True\n",
      "\n",
      "\n",
      "Test: 62\n",
      "Params: {'in_channels': 8, 'out_channels': 5, 'kernel_size': (4, 4), 'padding': 9, 'stride': 5, 'dilation': 4, 'in_batches': 5, 'in_h': 5, 'in_w': 7}\n"
     ]
    },
    {
     "name": "stderr",
     "output_type": "stream",
     "text": [
      "\r",
      " 63%|██████████████████████████▍               | 63/100 [26:14<05:06,  8.28s/it]"
     ]
    },
    {
     "name": "stdout",
     "output_type": "stream",
     "text": [
      "Result: True\n",
      "\n",
      "\n",
      "Test: 63\n",
      "Params: {'in_channels': 5, 'out_channels': 37, 'kernel_size': (2, 2), 'padding': 8, 'stride': 4, 'dilation': 9, 'in_batches': 1, 'in_h': 25, 'in_w': 21}\n"
     ]
    },
    {
     "name": "stderr",
     "output_type": "stream",
     "text": [
      "\r",
      " 64%|██████████████████████████▉               | 64/100 [26:16<03:51,  6.44s/it]"
     ]
    },
    {
     "name": "stdout",
     "output_type": "stream",
     "text": [
      "Result: True\n",
      "\n",
      "\n",
      "Test: 64\n",
      "Params: {'in_channels': 17, 'out_channels': 36, 'kernel_size': (2, 8), 'padding': 5, 'stride': 5, 'dilation': 2, 'in_batches': 3, 'in_h': 13, 'in_w': 12}\n"
     ]
    },
    {
     "name": "stderr",
     "output_type": "stream",
     "text": [
      "\r",
      " 65%|███████████████████████████▎              | 65/100 [26:18<02:55,  5.02s/it]"
     ]
    },
    {
     "name": "stdout",
     "output_type": "stream",
     "text": [
      "Result: True\n",
      "\n",
      "\n",
      "Test: 65\n",
      "Params: {'in_channels': 4, 'out_channels': 8, 'kernel_size': (6, 10), 'padding': 7, 'stride': 4, 'dilation': 4, 'in_batches': 5, 'in_h': 18, 'in_w': 28}\n",
      "invalid input parameters: output width is negative\n",
      "Result: True\n",
      "\n",
      "\n",
      "Test: 66\n",
      "Params: {'in_channels': 19, 'out_channels': 40, 'kernel_size': (4, 3), 'padding': 3, 'stride': 1, 'dilation': 7, 'in_batches': 2, 'in_h': 23, 'in_w': 24}\n"
     ]
    },
    {
     "name": "stderr",
     "output_type": "stream",
     "text": [
      "\r",
      " 67%|████████████████████████████▏             | 67/100 [28:28<18:03, 32.84s/it]"
     ]
    },
    {
     "name": "stdout",
     "output_type": "stream",
     "text": [
      "Result: True\n",
      "\n",
      "\n",
      "Test: 67\n",
      "Params: {'in_channels': 8, 'out_channels': 26, 'kernel_size': (11, 13), 'padding': 9, 'stride': 2, 'dilation': 1, 'in_batches': 4, 'in_h': 7, 'in_w': 29}\n"
     ]
    },
    {
     "name": "stderr",
     "output_type": "stream",
     "text": [
      "\r",
      " 68%|████████████████████████████▌             | 68/100 [29:03<17:49, 33.41s/it]"
     ]
    },
    {
     "name": "stdout",
     "output_type": "stream",
     "text": [
      "Result: True\n",
      "\n",
      "\n",
      "Test: 68\n",
      "Params: {'in_channels': 15, 'out_channels': 37, 'kernel_size': (2, 7), 'padding': 7, 'stride': 4, 'dilation': 3, 'in_batches': 2, 'in_h': 16, 'in_w': 6}\n"
     ]
    },
    {
     "name": "stderr",
     "output_type": "stream",
     "text": [
      "\r",
      " 69%|████████████████████████████▉             | 69/100 [29:05<12:54, 24.99s/it]"
     ]
    },
    {
     "name": "stdout",
     "output_type": "stream",
     "text": [
      "Result: True\n",
      "\n",
      "\n",
      "Test: 69\n",
      "Params: {'in_channels': 5, 'out_channels': 9, 'kernel_size': (11, 11), 'padding': 9, 'stride': 4, 'dilation': 1, 'in_batches': 5, 'in_h': 32, 'in_w': 18}\n"
     ]
    },
    {
     "name": "stderr",
     "output_type": "stream",
     "text": [
      "\r",
      " 70%|█████████████████████████████▍            | 70/100 [29:08<09:37, 19.25s/it]"
     ]
    },
    {
     "name": "stdout",
     "output_type": "stream",
     "text": [
      "Result: True\n",
      "\n",
      "\n",
      "Test: 70\n",
      "Params: {'in_channels': 2, 'out_channels': 24, 'kernel_size': (8, 7), 'padding': 6, 'stride': 1, 'dilation': 3, 'in_batches': 3, 'in_h': 34, 'in_w': 14}\n"
     ]
    },
    {
     "name": "stderr",
     "output_type": "stream",
     "text": [
      "\r",
      " 71%|█████████████████████████████▊            | 71/100 [29:33<10:00, 20.70s/it]"
     ]
    },
    {
     "name": "stdout",
     "output_type": "stream",
     "text": [
      "Result: True\n",
      "\n",
      "\n",
      "Test: 71\n",
      "Params: {'in_channels': 11, 'out_channels': 4, 'kernel_size': (12, 12), 'padding': 6, 'stride': 3, 'dilation': 1, 'in_batches': 1, 'in_h': 26, 'in_w': 16}\n"
     ]
    },
    {
     "name": "stderr",
     "output_type": "stream",
     "text": [
      "\r",
      " 72%|██████████████████████████████▏           | 72/100 [29:34<06:59, 14.99s/it]"
     ]
    },
    {
     "name": "stdout",
     "output_type": "stream",
     "text": [
      "Result: True\n",
      "\n",
      "\n",
      "Test: 72\n",
      "Params: {'in_channels': 8, 'out_channels': 10, 'kernel_size': (15, 13), 'padding': 5, 'stride': 3, 'dilation': 1, 'in_batches': 1, 'in_h': 27, 'in_w': 24}\n"
     ]
    },
    {
     "name": "stderr",
     "output_type": "stream",
     "text": [
      "\r",
      " 73%|██████████████████████████████▋           | 73/100 [29:36<05:03, 11.25s/it]"
     ]
    },
    {
     "name": "stdout",
     "output_type": "stream",
     "text": [
      "Result: True\n",
      "\n",
      "\n",
      "Test: 73\n",
      "Params: {'in_channels': 10, 'out_channels': 30, 'kernel_size': (11, 9), 'padding': 8, 'stride': 3, 'dilation': 1, 'in_batches': 4, 'in_h': 23, 'in_w': 17}\n"
     ]
    },
    {
     "name": "stderr",
     "output_type": "stream",
     "text": [
      "\r",
      " 74%|███████████████████████████████           | 74/100 [29:58<06:12, 14.34s/it]"
     ]
    },
    {
     "name": "stdout",
     "output_type": "stream",
     "text": [
      "Result: True\n",
      "\n",
      "\n",
      "Test: 74\n",
      "Params: {'in_channels': 18, 'out_channels': 16, 'kernel_size': (3, 2), 'padding': 3, 'stride': 2, 'dilation': 6, 'in_batches': 1, 'in_h': 22, 'in_w': 6}\n"
     ]
    },
    {
     "name": "stderr",
     "output_type": "stream",
     "text": [
      "\r",
      " 75%|███████████████████████████████▌          | 75/100 [29:59<04:22, 10.50s/it]"
     ]
    },
    {
     "name": "stdout",
     "output_type": "stream",
     "text": [
      "Result: True\n",
      "\n",
      "\n",
      "Test: 75\n",
      "Params: {'in_channels': 14, 'out_channels': 14, 'kernel_size': (18, 2), 'padding': 5, 'stride': 5, 'dilation': 1, 'in_batches': 5, 'in_h': 27, 'in_w': 31}\n"
     ]
    },
    {
     "name": "stderr",
     "output_type": "stream",
     "text": [
      "\r",
      " 76%|███████████████████████████████▉          | 76/100 [30:01<03:15,  8.13s/it]"
     ]
    },
    {
     "name": "stdout",
     "output_type": "stream",
     "text": [
      "Result: True\n",
      "\n",
      "\n",
      "Test: 76\n",
      "Params: {'in_channels': 10, 'out_channels': 31, 'kernel_size': (3, 3), 'padding': 3, 'stride': 4, 'dilation': 1, 'in_batches': 2, 'in_h': 15, 'in_w': 11}\n"
     ]
    },
    {
     "name": "stderr",
     "output_type": "stream",
     "text": [
      "\r",
      " 77%|████████████████████████████████▎         | 77/100 [30:02<02:13,  5.79s/it]"
     ]
    },
    {
     "name": "stdout",
     "output_type": "stream",
     "text": [
      "Result: True\n",
      "\n",
      "\n",
      "Test: 77\n",
      "Params: {'in_channels': 16, 'out_channels': 24, 'kernel_size': (15, 16), 'padding': 10, 'stride': 1, 'dilation': 2, 'in_batches': 1, 'in_h': 34, 'in_w': 23}\n"
     ]
    },
    {
     "name": "stderr",
     "output_type": "stream",
     "text": [
      "\r",
      " 78%|████████████████████████████████▊         | 78/100 [33:56<27:05, 73.89s/it]"
     ]
    },
    {
     "name": "stdout",
     "output_type": "stream",
     "text": [
      "Result: True\n",
      "\n",
      "\n",
      "Test: 78\n",
      "Params: {'in_channels': 6, 'out_channels': 17, 'kernel_size': (2, 1), 'padding': 8, 'stride': 3, 'dilation': 5, 'in_batches': 3, 'in_h': 30, 'in_w': 16}\n"
     ]
    },
    {
     "name": "stderr",
     "output_type": "stream",
     "text": [
      "\r",
      " 79%|█████████████████████████████████▏        | 79/100 [33:56<18:12, 52.02s/it]"
     ]
    },
    {
     "name": "stdout",
     "output_type": "stream",
     "text": [
      "Result: True\n",
      "\n",
      "\n",
      "Test: 79\n",
      "Params: {'in_channels': 4, 'out_channels': 14, 'kernel_size': (14, 9), 'padding': 10, 'stride': 4, 'dilation': 2, 'in_batches': 3, 'in_h': 26, 'in_w': 25}\n"
     ]
    },
    {
     "name": "stderr",
     "output_type": "stream",
     "text": [
      " 81%|██████████████████████████████████        | 81/100 [34:03<08:30, 26.88s/it]"
     ]
    },
    {
     "name": "stdout",
     "output_type": "stream",
     "text": [
      "Result: True\n",
      "\n",
      "\n",
      "Test: 80\n",
      "Params: {'in_channels': 7, 'out_channels': 29, 'kernel_size': (12, 1), 'padding': 9, 'stride': 4, 'dilation': 1, 'in_batches': 1, 'in_h': 7, 'in_w': 5}\n",
      "Result: True\n",
      "\n",
      "\n",
      "Test: 81\n",
      "Params: {'in_channels': 2, 'out_channels': 25, 'kernel_size': (16, 16), 'padding': 6, 'stride': 1, 'dilation': 1, 'in_batches': 2, 'in_h': 11, 'in_w': 14}\n"
     ]
    },
    {
     "name": "stderr",
     "output_type": "stream",
     "text": [
      "\r",
      " 82%|██████████████████████████████████▍       | 82/100 [34:07<06:03, 20.17s/it]"
     ]
    },
    {
     "name": "stdout",
     "output_type": "stream",
     "text": [
      "Result: True\n",
      "\n",
      "\n",
      "Test: 82\n",
      "Params: {'in_channels': 19, 'out_channels': 38, 'kernel_size': (2, 4), 'padding': 5, 'stride': 5, 'dilation': 5, 'in_batches': 4, 'in_h': 7, 'in_w': 30}\n"
     ]
    },
    {
     "name": "stderr",
     "output_type": "stream",
     "text": [
      "\r",
      " 83%|██████████████████████████████████▊       | 83/100 [34:16<04:43, 16.65s/it]"
     ]
    },
    {
     "name": "stdout",
     "output_type": "stream",
     "text": [
      "Result: True\n",
      "\n",
      "\n",
      "Test: 83\n",
      "Params: {'in_channels': 19, 'out_channels': 28, 'kernel_size': (12, 13), 'padding': 5, 'stride': 4, 'dilation': 1, 'in_batches': 4, 'in_h': 17, 'in_w': 27}\n"
     ]
    },
    {
     "name": "stderr",
     "output_type": "stream",
     "text": [
      "\r",
      " 84%|███████████████████████████████████▎      | 84/100 [34:35<04:38, 17.39s/it]"
     ]
    },
    {
     "name": "stdout",
     "output_type": "stream",
     "text": [
      "Result: True\n",
      "\n",
      "\n",
      "Test: 84\n",
      "Params: {'in_channels': 2, 'out_channels': 36, 'kernel_size': (9, 14), 'padding': 1, 'stride': 1, 'dilation': 1, 'in_batches': 2, 'in_h': 27, 'in_w': 15}\n"
     ]
    },
    {
     "name": "stderr",
     "output_type": "stream",
     "text": [
      "\r",
      " 85%|███████████████████████████████████▋      | 85/100 [34:38<03:16, 13.10s/it]"
     ]
    },
    {
     "name": "stdout",
     "output_type": "stream",
     "text": [
      "Result: True\n",
      "\n",
      "\n",
      "Test: 85\n",
      "Params: {'in_channels': 15, 'out_channels': 3, 'kernel_size': (3, 10), 'padding': 3, 'stride': 5, 'dilation': 1, 'in_batches': 3, 'in_h': 26, 'in_w': 32}\n"
     ]
    },
    {
     "name": "stderr",
     "output_type": "stream",
     "text": [
      "\r",
      " 86%|████████████████████████████████████      | 86/100 [34:38<02:09,  9.26s/it]"
     ]
    },
    {
     "name": "stdout",
     "output_type": "stream",
     "text": [
      "Result: True\n",
      "\n",
      "\n",
      "Test: 86\n",
      "Params: {'in_channels': 7, 'out_channels': 30, 'kernel_size': (6, 6), 'padding': 2, 'stride': 3, 'dilation': 2, 'in_batches': 2, 'in_h': 16, 'in_w': 26}\n"
     ]
    },
    {
     "name": "stderr",
     "output_type": "stream",
     "text": [
      "\r",
      " 87%|████████████████████████████████████▌     | 87/100 [34:41<01:35,  7.34s/it]"
     ]
    },
    {
     "name": "stdout",
     "output_type": "stream",
     "text": [
      "Result: True\n",
      "\n",
      "\n",
      "Test: 87\n",
      "Params: {'in_channels': 11, 'out_channels': 39, 'kernel_size': (4, 6), 'padding': 6, 'stride': 5, 'dilation': 3, 'in_batches': 3, 'in_h': 24, 'in_w': 12}\n"
     ]
    },
    {
     "name": "stderr",
     "output_type": "stream",
     "text": [
      "\r",
      " 88%|████████████████████████████████████▉     | 88/100 [34:46<01:19,  6.62s/it]"
     ]
    },
    {
     "name": "stdout",
     "output_type": "stream",
     "text": [
      "Result: True\n",
      "\n",
      "\n",
      "Test: 88\n",
      "Params: {'in_channels': 18, 'out_channels': 4, 'kernel_size': (3, 2), 'padding': 9, 'stride': 2, 'dilation': 1, 'in_batches': 2, 'in_h': 20, 'in_w': 17}\n"
     ]
    },
    {
     "name": "stderr",
     "output_type": "stream",
     "text": [
      "\r",
      " 89%|█████████████████████████████████████▍    | 89/100 [34:47<00:53,  4.82s/it]"
     ]
    },
    {
     "name": "stdout",
     "output_type": "stream",
     "text": [
      "Result: True\n",
      "\n",
      "\n",
      "Test: 89\n",
      "Params: {'in_channels': 13, 'out_channels': 40, 'kernel_size': (16, 5), 'padding': 9, 'stride': 3, 'dilation': 1, 'in_batches': 3, 'in_h': 18, 'in_w': 5}\n"
     ]
    },
    {
     "name": "stderr",
     "output_type": "stream",
     "text": [
      "\r",
      " 90%|█████████████████████████████████████▊    | 90/100 [34:59<01:11,  7.16s/it]"
     ]
    },
    {
     "name": "stdout",
     "output_type": "stream",
     "text": [
      "Result: True\n",
      "\n",
      "\n",
      "Test: 90\n",
      "Params: {'in_channels': 11, 'out_channels': 29, 'kernel_size': (4, 9), 'padding': 3, 'stride': 2, 'dilation': 3, 'in_batches': 1, 'in_h': 33, 'in_w': 29}\n"
     ]
    },
    {
     "name": "stderr",
     "output_type": "stream",
     "text": [
      "\r",
      " 91%|██████████████████████████████████████▏   | 91/100 [35:14<01:24,  9.35s/it]"
     ]
    },
    {
     "name": "stdout",
     "output_type": "stream",
     "text": [
      "Result: True\n",
      "\n",
      "\n",
      "Test: 91\n",
      "Params: {'in_channels': 8, 'out_channels': 7, 'kernel_size': (4, 11), 'padding': 5, 'stride': 2, 'dilation': 2, 'in_batches': 2, 'in_h': 34, 'in_w': 32}\n"
     ]
    },
    {
     "name": "stderr",
     "output_type": "stream",
     "text": [
      "\r",
      " 92%|██████████████████████████████████████▋   | 92/100 [35:21<01:08,  8.61s/it]"
     ]
    },
    {
     "name": "stdout",
     "output_type": "stream",
     "text": [
      "Result: True\n",
      "\n",
      "\n",
      "Test: 92\n",
      "Params: {'in_channels': 1, 'out_channels': 40, 'kernel_size': (10, 1), 'padding': 5, 'stride': 2, 'dilation': 2, 'in_batches': 2, 'in_h': 12, 'in_w': 9}\n",
      "Result: True\n",
      "\n",
      "\n",
      "Test: 93\n",
      "Params: {'in_channels': 11, 'out_channels': 33, 'kernel_size': (14, 5), 'padding': 6, 'stride': 5, 'dilation': 3, 'in_batches': 2, 'in_h': 29, 'in_w': 34}\n"
     ]
    },
    {
     "name": "stderr",
     "output_type": "stream",
     "text": [
      "\r",
      " 94%|███████████████████████████████████████▍  | 94/100 [35:26<00:35,  5.88s/it]"
     ]
    },
    {
     "name": "stdout",
     "output_type": "stream",
     "text": [
      "Result: True\n",
      "\n",
      "\n",
      "Test: 94\n",
      "Params: {'in_channels': 1, 'out_channels': 26, 'kernel_size': (5, 8), 'padding': 2, 'stride': 5, 'dilation': 5, 'in_batches': 1, 'in_h': 22, 'in_w': 33}\n",
      "invalid input parameters: output width is negative\n",
      "Result: True\n",
      "\n",
      "\n",
      "Test: 95\n",
      "Params: {'in_channels': 20, 'out_channels': 28, 'kernel_size': (11, 7), 'padding': 5, 'stride': 5, 'dilation': 2, 'in_batches': 3, 'in_h': 11, 'in_w': 11}\n"
     ]
    },
    {
     "name": "stderr",
     "output_type": "stream",
     "text": [
      "\r",
      " 96%|████████████████████████████████████████▎ | 96/100 [35:28<00:15,  3.92s/it]"
     ]
    },
    {
     "name": "stdout",
     "output_type": "stream",
     "text": [
      "Result: True\n",
      "\n",
      "\n",
      "Test: 96\n",
      "Params: {'in_channels': 2, 'out_channels': 22, 'kernel_size': (7, 9), 'padding': 4, 'stride': 3, 'dilation': 2, 'in_batches': 1, 'in_h': 25, 'in_w': 13}\n"
     ]
    },
    {
     "name": "stderr",
     "output_type": "stream",
     "text": [
      "\r",
      " 97%|████████████████████████████████████████▋ | 97/100 [35:28<00:09,  3.12s/it]"
     ]
    },
    {
     "name": "stdout",
     "output_type": "stream",
     "text": [
      "Result: True\n",
      "\n",
      "\n",
      "Test: 97\n",
      "Params: {'in_channels': 8, 'out_channels': 23, 'kernel_size': (20, 13), 'padding': 2, 'stride': 5, 'dilation': 1, 'in_batches': 1, 'in_h': 20, 'in_w': 16}\n"
     ]
    },
    {
     "name": "stderr",
     "output_type": "stream",
     "text": [
      "\r",
      " 98%|█████████████████████████████████████████▏| 98/100 [35:28<00:04,  2.43s/it]"
     ]
    },
    {
     "name": "stdout",
     "output_type": "stream",
     "text": [
      "Result: True\n",
      "\n",
      "\n",
      "Test: 98\n",
      "Params: {'in_channels': 16, 'out_channels': 15, 'kernel_size': (2, 1), 'padding': 6, 'stride': 4, 'dilation': 8, 'in_batches': 2, 'in_h': 23, 'in_w': 28}\n"
     ]
    },
    {
     "name": "stderr",
     "output_type": "stream",
     "text": [
      "\r",
      " 99%|█████████████████████████████████████████▌| 99/100 [35:29<00:02,  2.00s/it]"
     ]
    },
    {
     "name": "stdout",
     "output_type": "stream",
     "text": [
      "Result: True\n",
      "\n",
      "\n",
      "Test: 99\n",
      "Params: {'in_channels': 11, 'out_channels': 37, 'kernel_size': (4, 18), 'padding': 6, 'stride': 4, 'dilation': 1, 'in_batches': 5, 'in_h': 24, 'in_w': 17}\n"
     ]
    },
    {
     "name": "stderr",
     "output_type": "stream",
     "text": [
      "100%|█████████████████████████████████████████| 100/100 [35:37<00:00, 21.38s/it]"
     ]
    },
    {
     "name": "stdout",
     "output_type": "stream",
     "text": [
      "Result: True\n",
      "\n",
      "\n",
      "100 out of 100 (100.0%) tests passed\n"
     ]
    },
    {
     "name": "stderr",
     "output_type": "stream",
     "text": [
      "\n"
     ]
    }
   ],
   "source": [
    "# for loop sweeping different input parameters and testing the outputs of Conv2DPytTest and PyTorch\n",
    "from tqdm import tqdm\n",
    "\n",
    "num_tests = 100 # only test parameter to be varied\n",
    "num_passed = 0\n",
    "params_list = valid_params(num_tests)\n",
    "print('Number of tests: {}\\n\\n'.format(len(params_list)))\n",
    "\n",
    "for i, params in enumerate(tqdm(params_list)):\n",
    "    print('Test: {}\\nParams: {}'.format(i, params))\n",
    "    debug = False # DO NOT CHANGE THIS while using Conv2DPytTest - TODO: modify this flag to `test`\n",
    "\n",
    "    in_channels = params['in_channels'] # input channels\n",
    "    out_channels = params['out_channels'] # output channels\n",
    "    \n",
    "    kernel_size = params['kernel_size'] # kernel size\n",
    "\n",
    "    padding = params['padding'] # padding (optional)\n",
    "    stride = params['stride'] # stride (optional)\n",
    "    dilation = params['dilation'] # dilation factor (optional)\n",
    "\n",
    "    in_batches = params['in_batches'] # input batches\n",
    "    in_h = params['in_h'] # input height\n",
    "    in_w = params['in_w'] # input weight\n",
    "    \n",
    "    _input = np.random.rand(in_batches, in_channels, in_h, in_w) # define a random image based on the input parameters\n",
    "    kernels = []\n",
    "    for k in range(out_channels):\n",
    "        kernel = np.random.rand(in_channels, kernel_size[0], kernel_size[1]) # define a random kernel based on the kernel parameters\n",
    "        kernels.append(kernel)\n",
    "    \n",
    "    try:\n",
    "        # get Conv2DPytTest output with the random inputs\n",
    "        conv2dpyttest = Conv2DPytTest(in_channels, out_channels, kernel_size, stride = stride, padding = padding, dilation = dilation, debug = debug, verbose = False) # call an instance of the class with the input parameters \n",
    "        _output = conv2dpyttest.forward(_input, kernels) # perform convolution\n",
    "\n",
    "        # get PyTorch output with the same random inputs as above\n",
    "        x = torch.DoubleTensor(_input)\n",
    "        weights = torch.stack([torch.DoubleTensor(kernel) for kernel in kernels])\n",
    "        output = torch.nn.functional.conv2d(x, weights, stride = stride, padding = padding, dilation = dilation)\n",
    "        \n",
    "    except Exception as e:\n",
    "        print(e)\n",
    "        pass\n",
    "    \n",
    "    # compare outputs of conv-Numpy and PyTorch\n",
    "    result = torch.equal(torch.round(torch.DoubleTensor(_output)), torch.round(output)) # need to round the output due to precision difference\n",
    "    print('Result: {}\\n\\n'.format(result))\n",
    "    if result:\n",
    "        num_passed += 1\n",
    "\n",
    "print('{} out of {} ({}%) tests passed'.format(num_passed, num_tests, float(100 * num_passed / num_tests)))\n",
    "    "
   ]
  },
  {
   "cell_type": "markdown",
   "id": "00c15508",
   "metadata": {},
   "source": [
    "### Modular code for methods in `forward()`"
   ]
  },
  {
   "cell_type": "raw",
   "id": "aa39fe65",
   "metadata": {},
   "source": [
    "''' Modular code - can replace bloated def forward()'''\n",
    "def print_params(self):\n",
    "    self.verboseprint('*** parameters ***')\n",
    "    self.verboseprint('in_channels: {}, out_channels: {}, kernel_size: {}'.format(self.in_channels, self.out_channels, self.kernel_size))\n",
    "    self.verboseprint('padding: {}, stride: {}, dilation factor: {}'.format(self.padding, self.stride, self.dilation))\n",
    "    self.verboseprint('groups: {}, bias: {}, padding_mode: {}, device: {}, dtype: {}'.format(self.groups, self.bias, self.padding_mode, self.device, self.dtype))\n",
    "    self.verboseprint('\\n')\n",
    "\n",
    "def add_padding(self, _input):\n",
    "    ''' add zero padding based on the input parameters '''\n",
    "    if self.padding != 0:\n",
    "        _input = np.array([[np.pad(channel,self.padding, 'constant', constant_values = 0) for channel in batch] for batch in _input])    \n",
    "        self.verboseprint('*** padded input image ***')\n",
    "        self.verboseprint('input batches: {}, input channels: {}, input height: {}, input weight: {}'.format(_input.shape[0], _input.shape[1], _input.shape[2], _input.shape[3]))\n",
    "        self.verboseprint(_input)\n",
    "        self.verboseprint('\\n')\n",
    "    return _input\n",
    "\n",
    "def create_kernels(self, kernels):\n",
    "    ''' use the provided kernels or create random kernels based on the input kernel parameters '''\n",
    "    if kernels is not None:\n",
    "        self.verboseprint('*** kernels ***')\n",
    "        self.verboseprint('kernels: {}, kernel channels: {}, kernel height: {}, kernel weight: {}'.format(self.out_channels, self.in_channels, self.kernel_size[0], self.kernel_size[1]))\n",
    "        kernels = self.dilate_kernels(kernels)\n",
    "        return kernels\n",
    "\n",
    "    ''' Below code never executes as we are passing `kernels` as input - can be commented/removed '''\n",
    "    kernels = []\n",
    "    self.verboseprint('*** kernels ***')\n",
    "    self.verboseprint('kernels: {}, kernel channels: {}, kernel height: {}, kernel weight: {}'.format(self.out_channels, self.in_channels, self.kernel_size[0], self.kernel_size[1]))\n",
    "    for k in range(self.out_channels):\n",
    "        kernel = np.random.rand(self.in_channels, self.kernel_size[0], self.kernel_size[1]) # define a random kernel based on the kernel parameters\n",
    "        if self.debug:\n",
    "            kernel = k * np.ones_like(kernel)\n",
    "        kernels.append(kernel)\n",
    "        self.verboseprint('kernel {}'.format(k))\n",
    "        self.verboseprint(kernel)\n",
    "    self.verboseprint('\\n')\n",
    "    kernels = self.dilate_kernels(kernels)\n",
    "    return kernels \n",
    "\n",
    "def dilate_kernels(self, kernels):\n",
    "    ''' dilate a kernel '''\n",
    "    dil_ker_h = self.dilation * (self.kernel_size[0] - 1) + 1\n",
    "    dil_ker_w = self.dilation * (self.kernel_size[1] - 1) + 1\n",
    "    dil_kernels = []\n",
    "    for kernel in kernels:\n",
    "        dil_kernel = []\n",
    "        for channel in kernel:\n",
    "            dil_channel = np.zeros((dil_ker_h, dil_ker_w))\n",
    "            for row in range(len(channel)):\n",
    "                for col in range(len(channel[0])):\n",
    "                    dil_channel[self.dilation*row][self.dilation*col] = channel[row][col]\n",
    "            dil_kernel.append(dil_channel.tolist())\n",
    "        dil_kernels.append(dil_kernel)\n",
    "    kernels, self.kernel_size = dil_kernels, (dil_ker_h, dil_ker_w)\n",
    "    self.verboseprint('*** dilated kernels ***')\n",
    "    self.verboseprint('kernels: {}, dilation factor: {}, kernel channels: {}, kernel height: {}, kernel weight: {}'.format(self.out_channels, self.dilation, self.in_channels, self.kernel_size[0], self.kernel_size[1]))\n",
    "    for k in range(self.out_channels):\n",
    "        self.verboseprint('kernel {}'.format(k))\n",
    "        self.verboseprint(kernels[k])\n",
    "    self.verboseprint('\\n')\n",
    "    return kernels\n",
    "\n",
    "def compute_out_vol(self, _input):\n",
    "    ''' compute output volume from the input and kernel parameters '''\n",
    "    _input_n, _, _input_h, _input_w = _input.shape\n",
    "    out_n = int(_input_n)\n",
    "    out_c = int(self.out_channels)\n",
    "    out_h = int((_input_h - self.kernel_size[0])/self.stride) + 1\n",
    "    out_w = int((_input_w - self.kernel_size[1])/self.stride) + 1\n",
    "    return out_n, out_c, out_h, out_w\n",
    "\n",
    "def error_checking(self, _input):\n",
    "    ''' do error checking '''\n",
    "    _input_n, _input_c, _input_h, _input_w = _input.shape\n",
    "    if _input_h + 2 * self.padding < self.dilation * (self.kernel_size[0] - 1) + 1: # check if (dilated) ker_h is valid\n",
    "        raise Exception('invalid input parameters: kernel height is larger than input height')\n",
    "    if _input_w + 2 * self.padding < self.dilation * (self.kernel_size[1] - 1) + 1: # check if (dilated) ker_w is valid\n",
    "        raise Exception('invalid input parameters: kernel width is larger than input width')\n",
    "    if ((_input_h + 2 * self.padding - (self.dilation * (self.kernel_size[0] - 1) + 1)) / self.stride) + 1 < 0: # check if out_h is valid\n",
    "        raise Exception('invalid input parameters: output height is negative')\n",
    "    if ((_input_h + 2 * self.padding - (self.dilation * (self.kernel_size[1] - 1) + 1)) / self.stride) + 1 < 0: # check if out_w is valid\n",
    "        raise Exception('invalid input parameters: output width is negative')\n"
   ]
  },
  {
   "cell_type": "markdown",
   "id": "8fe45ea6",
   "metadata": {},
   "source": [
    "### Modular code for `forward()`"
   ]
  },
  {
   "cell_type": "raw",
   "id": "51abe93d",
   "metadata": {},
   "source": [
    "''' Modular code - can replace bloated def forward()'''\n",
    "'''\n",
    "    def convolve(self, h, w, ker_num, batch_num, _input, kernels):\n",
    "        # convolve kernel over the input slices\n",
    "        self.debugprint('kernel indices, image indices')\n",
    "        self.debugprint('[c, h, w]', '[n, c, h, w]')\n",
    "        convol_sum = 0\n",
    "        ker_c = self.in_channels\n",
    "        ker_h = self.kernel_size[0]\n",
    "        ker_w = self.kernel_size[1]\n",
    "        for c_ker in range(ker_c):\n",
    "            for h_ker in range(ker_h):\n",
    "                for w_ker in range(ker_w):\n",
    "                    self.debugprint([c_ker, h_ker, w_ker], [batch_num, c_ker, h_ker + self.stride*h, w_ker + self.stride*w])\n",
    "                    convol_sum += kernels[ker_num][c_ker][h_ker][w_ker] * _input[batch_num][c_ker][h_ker + self.stride*h][w_ker + self.stride*w]\n",
    "        self.debugprint('\\n')\n",
    "        return convol_sum\n",
    "    '''\n",
    "    '''\n",
    "    def forward(self, _input):\n",
    "        # create output from the input and kernel parameters \n",
    "        _input = self.add_padding(_input)\n",
    "        if self.debug:\n",
    "            for b in range(_input.shape[0]):\n",
    "                _input[b] = (b+1) * np.ones_like(_input[b]) # define an image of all ones (twos etc.) based on the input parameters\n",
    "        kernels = self.create_kernels()\n",
    "        out_n, out_c, out_h, out_w = self.compute_out_vol(_input)\n",
    "        output = np.zeros([out_n, out_c, out_h, out_w])\n",
    "        # parse through every element of the output and compute the convolution value for that element\n",
    "        for b in range(out_n):\n",
    "            for k in range(out_c):\n",
    "                for h in range(out_h):\n",
    "                    for w in range(out_w):\n",
    "                        output[b, k, h, w] += self.convolve(h, w, k, b, _input, kernels)\n",
    "        self.verboseprint('*** output ***')\n",
    "        output_shape = output.shape\n",
    "        self.verboseprint('output batches: {}, ouput channels: {}, output height: {}, output weight: {}'.format(output_shape[0], output_shape[1], output_shape[2], output_shape[3]))\n",
    "        assert((out_n, out_c, out_h, out_w) == output_shape)\n",
    "        self.verboseprint(output)\n",
    "        self.verboseprint('\\n')\n",
    "        return output\n",
    "    '''\n",
    "    "
   ]
  },
  {
   "cell_type": "markdown",
   "id": "c8eb97cc",
   "metadata": {},
   "source": [
    "### Old `Conv2D` code  for reference"
   ]
  },
  {
   "cell_type": "raw",
   "id": "eb6b032e",
   "metadata": {},
   "source": [
    "'''\n",
    "class Conv2D:\n",
    "    \"\"\"Computes convolution given the input parameters\"\"\"\n",
    "    def __init__(self, params, verbose=True, debug=False):\n",
    "        super(Conv2D, self).__init__()\n",
    "        default_params = {\n",
    "        'stride': 1,\n",
    "        'dilation': 1,\n",
    "        'padding': 0\n",
    "        }\n",
    "        for key, value in default_params.items():\n",
    "            setattr(self, key, params.get(key, value))\n",
    "        self.inp_n = params['inp_n']\n",
    "        self.inp_c = params['inp_c']\n",
    "        self.inp_h = params['inp_h']\n",
    "        self.inp_w = params['inp_w']\n",
    "        self.ker_c = params['ker_c']\n",
    "        self.ker_h = params['ker_h']\n",
    "        self.ker_w = params['ker_w']\n",
    "        self.num_ker = params['num_ker']\n",
    "        self.input_img = None\n",
    "        self.kernels = None\n",
    "        self.out_n = None\n",
    "        self.out_c = None\n",
    "        self.out_h = None\n",
    "        self.out_w = None\n",
    "        self.output = None\n",
    "        self.verbose = verbose\n",
    "        self.verboseprint = print if self.verbose else lambda *a, **k: None\n",
    "        self.debug = debug\n",
    "        self.debugprint = print if self.debug else lambda *a, **k: None\n",
    "        self.print_params()\n",
    "\n",
    "    def print_params(self):\n",
    "        self.verboseprint('*** parameters ***')\n",
    "        self.verboseprint('input batches: {}, input channels: {}, input height: {}, input weight: {}'.format(self.inp_n, self.inp_c, self.inp_h, self.inp_w))\n",
    "        self.verboseprint('kernels: {}, kernel channels: {}, kernel height: {}, kernel weight: {}'.format(self.num_ker, self.ker_c, self.ker_h, self.ker_w))\n",
    "        self.verboseprint('stride: {}, dilation factor: {}, padding: {}'.format(self.stride, self.dilation, self.padding))\n",
    "        self.verboseprint('\\n')\n",
    "\n",
    "    def create_input_img(self):\n",
    "        # create image from the input parameters\n",
    "        input_img = np.random.rand(self.inp_n, self.inp_c, self.inp_h, self.inp_w) # define a random image based on the input parameters\n",
    "        if self.debug:\n",
    "            for b in range(self.inp_n):\n",
    "                input_img[b] = (b+1) * np.ones_like(input_img[b]) # define an image of all ones (twos etc.) based on the input parameters\n",
    "        self.verboseprint('*** input image ***')\n",
    "        self.verboseprint('input batches: {}, input channels: {}, input height: {}, input weight: {}'.format(self.inp_n, self.inp_c, self.inp_h, self.inp_w))\n",
    "        self.verboseprint(input_img)\n",
    "        self.verboseprint('\\n')\n",
    "        self.input_img = input_img\n",
    "        self.add_padding()\n",
    "\n",
    "    def add_padding(self):\n",
    "        # add zero padding based on the input parameters\n",
    "        if self.padding != 0:\n",
    "            self.input_img = [[np.pad(channel,self.padding, 'constant', constant_values=0) for channel in batch] for batch in self.input_img]    \n",
    "            self.inp_h += 2 * self.padding\n",
    "            self.inp_w += 2 * self.padding\n",
    "            self.verboseprint('*** padded input image ***')\n",
    "            self.verboseprint('input batches: {}, input channels: {}, input height: {}, input weight: {}'.format(self.inp_n, self.inp_c, self.inp_h, self.inp_w))\n",
    "            self.verboseprint(self.input_img)\n",
    "            self.verboseprint('\\n')\n",
    "\n",
    "    def create_kernels(self):\n",
    "        # create random kernels based on the input kernel parameters\n",
    "        kernels = []\n",
    "        self.verboseprint('*** kernels ***')\n",
    "        self.verboseprint('kernels: {}, kernel channels: {}, kernel height: {}, kernel weight: {}'.format(self.num_ker, self.ker_c, self.ker_h, self.ker_w))\n",
    "        for k in range(self.num_ker):\n",
    "            kernel = np.random.rand(self.ker_c, self.ker_h, self.ker_w) # define a random kernel based on the kernel parameters\n",
    "            if self.debug:\n",
    "                kernel = k * np.ones_like(kernel)\n",
    "            kernels.append(kernel)\n",
    "            self.verboseprint('kernel {}'.format(k))\n",
    "            self.verboseprint(kernel)\n",
    "        self.verboseprint('\\n')\n",
    "        self.kernels = kernels\n",
    "        self.dilate_kernels()\n",
    "\n",
    "    def dilate_kernels(self):\n",
    "        # dilate a kernel\n",
    "        dil_ker_h = self.dilation * (self.ker_h - 1) + 1\n",
    "        dil_ker_w = self.dilation * (self.ker_w - 1) + 1\n",
    "        dil_kernels = []\n",
    "        for kernel in self.kernels:\n",
    "            dil_kernel = []\n",
    "            for channel in kernel:\n",
    "                dil_channel = np.zeros((dil_ker_h, dil_ker_w))\n",
    "                for row in range(len(channel)):\n",
    "                    for col in range(len(channel[0])):\n",
    "                        dil_channel[self.dilation*row][self.dilation*col] = channel[row][col]\n",
    "                dil_kernel.append(dil_channel.tolist())\n",
    "            dil_kernels.append(dil_kernel)\n",
    "        self.kernels, self.ker_h, self.ker_w = dil_kernels, dil_ker_h, dil_ker_w\n",
    "        self.verboseprint('*** dilated kernels ***')\n",
    "        self.verboseprint('kernels: {}, dilation factor: {}, kernel channels: {}, kernel height: {}, kernel weight: {}'.format(self.num_ker, self.dilation, self.ker_c, self.ker_h, self.ker_w))\n",
    "        for k in range(self.num_ker):\n",
    "            self.verboseprint('kernel {}'.format(k))\n",
    "            self.verboseprint(self.kernels[k])\n",
    "        self.verboseprint('\\n')\n",
    "\n",
    "    def compute_out_vol(self):\n",
    "        # compute output volume from the input and kernel parameters\n",
    "        out_n = int(self.inp_n)\n",
    "        out_c = int(self.num_ker)\n",
    "        out_h = int((self.inp_h - self.ker_h)/self.stride) + 1\n",
    "        out_w = int((self.inp_w - self.ker_w)/self.stride) + 1\n",
    "        self.out_n, self.out_c, self.out_h, self.out_w = out_n, out_c, out_h, out_w\n",
    "\n",
    "    def convolve(self, h, w, ker_num, batch_num):\n",
    "        # convolve kernel over the input slices\n",
    "        self.debugprint('kernel indices, image indices')\n",
    "        self.debugprint('[c, h, w]', '[n, c, h, w]')\n",
    "        convol_sum = 0\n",
    "        for c_ker in range(self.ker_c):\n",
    "            for h_ker in range(self.ker_h):\n",
    "                for w_ker in range(self.ker_w):\n",
    "                    self.debugprint([c_ker, h_ker, w_ker], [batch_num, c_ker, h_ker + self.stride*h, w_ker + self.stride*w])\n",
    "                    convol_sum += self.kernels[ker_num][c_ker][h_ker][w_ker] * self.input_img[batch_num][c_ker][h_ker + self.stride*h][w_ker + self.stride*w]\n",
    "        self.debugprint('\\n')\n",
    "        return convol_sum\n",
    "\n",
    "    def create_output(self):\n",
    "        # create output from the input and kernel parameters \n",
    "        self.compute_out_vol()\n",
    "        self.output = np.zeros([self.out_n, self.out_c, self.out_h, self.out_w])\n",
    "        # parse through every element of the output and compute the convolution value for that element\n",
    "        for b in range(self.out_n):\n",
    "            for k in range(self.num_ker):\n",
    "                for h in range(self.out_h):\n",
    "                    for w in range(self.out_w):\n",
    "                        self.output[b, k, h, w] += self.convolve(h, w, k, b)\n",
    "        self.verboseprint('*** output ***')\n",
    "        output_shape = self.output.shape\n",
    "        self.verboseprint('output batches: {}, ouput channels: {}, output height: {}, output weight: {}'.format(output_shape[0], output_shape[1], output_shape[2], output_shape[3]))\n",
    "        assert((self.out_n, self.out_c, self.out_h, self.out_w) == output_shape)\n",
    "        self.verboseprint(self.output)\n",
    "        self.verboseprint('\\n')\n",
    "\n",
    "    def forward(self, _input):\n",
    "        # create output from the input and kernel parameters \n",
    "        self.compute_out_vol(_input)\n",
    "        self.output = np.zeros([self.out_n, self.out_c, self.out_h, self.out_w])\n",
    "        # parse through every element of the output and compute the convolution value for that element\n",
    "        for b in range(self.out_n):\n",
    "            for k in range(self.num_ker):\n",
    "                for h in range(self.out_h):\n",
    "                    for w in range(self.out_w):\n",
    "                        self.output[b, k, h, w] += self.convolve(h, w, k, b)\n",
    "        self.verboseprint('*** output ***')\n",
    "        output_shape = self.output.shape\n",
    "        self.verboseprint('output batches: {}, ouput channels: {}, output height: {}, output weight: {}'.format(output_shape[0], output_shape[1], output_shape[2], output_shape[3]))\n",
    "        assert((self.out_n, self.out_c, self.out_h, self.out_w) == output_shape)\n",
    "        self.verboseprint(self.output)\n",
    "        self.verboseprint('\\n')\n",
    "'''"
   ]
  },
  {
   "cell_type": "raw",
   "id": "f4ff949d",
   "metadata": {},
   "source": [
    "'''\n",
    "inp_n = 2 # number of input batches\n",
    "inp_c, inp_h, inp_w = 2, 4, 4 # input channels, input height, input weight\n",
    "ker_c, ker_h, ker_w = 2, 2, 2 # kernel channels, kernel height, kernel weight\n",
    "num_ker = 3 # number of kernels\n",
    "stride = 2 # stride (optional)\n",
    "dilation = 1 # dilation factor (optional)\n",
    "padding = 0 # padding (optional)\n",
    "params = {'inp_n':inp_n, 'inp_c':inp_c, 'inp_h':inp_h, 'inp_w':inp_w, 'ker_c':ker_c, 'ker_h':ker_h, \n",
    "              'ker_w':ker_w, 'num_ker':num_ker, 'stride':stride, 'dilation':dilation, 'padding':padding}\n",
    "\n",
    "conv2D = Conv2D(params, debug=True)\n",
    "conv2D.create_input_img()\n",
    "conv2D.create_kernels()\n",
    "conv2D.create_output()\n",
    "'''"
   ]
  }
 ],
 "metadata": {
  "kernelspec": {
   "display_name": "Python 3 (ipykernel)",
   "language": "python",
   "name": "python3"
  },
  "language_info": {
   "codemirror_mode": {
    "name": "ipython",
    "version": 3
   },
   "file_extension": ".py",
   "mimetype": "text/x-python",
   "name": "python",
   "nbconvert_exporter": "python",
   "pygments_lexer": "ipython3",
   "version": "3.7.1"
  }
 },
 "nbformat": 4,
 "nbformat_minor": 5
}
