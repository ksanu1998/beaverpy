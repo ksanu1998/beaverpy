{
 "cells": [
  {
   "cell_type": "markdown",
   "id": "b20a6f8d",
   "metadata": {},
   "source": [
    "### `Conv2D` code"
   ]
  },
  {
   "cell_type": "code",
   "execution_count": 153,
   "id": "19182ede",
   "metadata": {},
   "outputs": [],
   "source": [
    "import numpy as np"
   ]
  },
  {
   "cell_type": "code",
   "execution_count": 154,
   "id": "7ed1691b",
   "metadata": {},
   "outputs": [],
   "source": [
    "class Conv2D:\n",
    "    ''' Computes convolution given the input parameters '''\n",
    "    \n",
    "    ''' * The class implementation will be along the lines of torch.nn.Conv2D in order to \n",
    "          enable comparison of this NumPy only implementation and seamless testing\n",
    "        * Can expect extensive refactoring of the existing code in the days to come\n",
    "        * As part of refactoring, some code will be de-modularized\n",
    "        * Old code will be retained at the end of the notebook for reference\n",
    "    '''\n",
    "    '''\n",
    "        TODO:\n",
    "        * Add various 'same' `padding` mode\n",
    "        * Implementing other features and caveats offered by nn.torch.Conv2D \n",
    "          (e.g., uniform sampling of kernel weights, bias etc.)\n",
    "        * Optimizing code\n",
    "    '''\n",
    "    \n",
    "    def __init__(\n",
    "        self, \n",
    "        in_channels, \n",
    "        out_channels, \n",
    "        kernel_size, \n",
    "        padding = (0, 0), \n",
    "        stride = (1, 1), \n",
    "        dilation = (1, 1), \n",
    "        groups = 1, \n",
    "        bias = True, \n",
    "        padding_mode = 'zeros', \n",
    "        device = None, \n",
    "        dtype = None, \n",
    "        verbose = False, \n",
    "        # debug = False\n",
    "        ):\n",
    "        super(Conv2D, self).__init__()\n",
    "        \n",
    "        ''' mandatory parameters '''\n",
    "        self.in_channels = in_channels\n",
    "        self.out_channels = out_channels\n",
    "        if isinstance(kernel_size, tuple):\n",
    "            self.kernel_size = kernel_size\n",
    "        elif isinstance(kernel_size, int):\n",
    "            self.kernel_size = (kernel_size, kernel_size)\n",
    "        else:\n",
    "            raise Exception('invalid input parameters: kernel_size should either be an int or a tuple')\n",
    "        \n",
    "        ''' optional parameters '''\n",
    "        if isinstance(padding, str):\n",
    "            if padding == 'valid':\n",
    "                self.padding = (0, 0)\n",
    "            elif padding == 'same':\n",
    "                raise Exception(\"invalid input parameters: padding = 'same' not yet supported\")\n",
    "            else:\n",
    "                raise Exception('invalid input parameters: padding is not valid')\n",
    "        elif isinstance(padding, tuple):\n",
    "            if padding[0] >= 0 and padding[1] >= 0:\n",
    "                self.padding = padding\n",
    "            else:\n",
    "                raise Exception('invalid input parameters: padding is not valid')\n",
    "        elif isinstance(padding, int):\n",
    "            if padding >= 0:\n",
    "                self.padding = (padding, padding)\n",
    "            else:\n",
    "                raise Exception('invalid input parameters: padding is not valid')\n",
    "        else:\n",
    "            raise Exception('invalid input parametersL padding should be either an int or a tuple')\n",
    "        if isinstance(stride, tuple):\n",
    "            if stride[0] >= 1 and stride[1] >= 1:\n",
    "                self.stride = stride\n",
    "            else:\n",
    "                raise Exception('invalid input parameters: stride is not valid')\n",
    "        elif isinstance(stride, int):\n",
    "            if stride >= 1:\n",
    "                self.stride = (stride, stride)\n",
    "            else:\n",
    "                raise Exception('invalid input parameters: stride is not valid')\n",
    "        else:\n",
    "            raise Exception('invalid input parameters: stride should be either an int or a tuple')\n",
    "        if isinstance(dilation, tuple):\n",
    "            if dilation[0] >= 1 and dilation[1] >= 1:\n",
    "                self.dilation = dilation\n",
    "            else:\n",
    "                raise Exception('invalid input parameters: dilation is not valid')\n",
    "        elif isinstance(dilation, int):\n",
    "            if dilation >= 1:\n",
    "                self.dilation = (dilation, dilation)\n",
    "            else:\n",
    "                raise Exception('invalid input parameters: dilation is not valid')\n",
    "        else:\n",
    "            raise Exception('invalid input parameters: dilation should be either an int or a tuple')\n",
    "        self.groups = groups\n",
    "        \n",
    "        ''' optional parameters (dummy, yet to be implemented)'''\n",
    "        self.bias = bias\n",
    "        self.padding_mode = padding_mode\n",
    "        self.device = device\n",
    "        self.dtype = dtype\n",
    "        \n",
    "        ''' additional parameters (different from torch.nn.Conv2D)'''\n",
    "        self.verbose = verbose\n",
    "        self.verboseprint = print if self.verbose else lambda *a, **k: None\n",
    "        # self.debug = debug\n",
    "        # self.debugprint = print if self.debug else lambda *a, **k: None\n",
    "        self.verboseprint('*** parameters ***')\n",
    "        self.verboseprint('in_channels: {}, out_channels: {}, kernel_size: {}'.format(self.in_channels, self.out_channels, self.kernel_size))\n",
    "        self.verboseprint('padding: {}, stride: {}, dilation factor: {}'.format(self.padding, self.stride, self.dilation))\n",
    "        self.verboseprint('groups: {}, bias: {}, padding_mode: {}, device: {}, dtype: {}'.format(self.groups, self.bias, self.padding_mode, self.device, self.dtype))\n",
    "        self.verboseprint('\\n')\n",
    "    \n",
    "    def forward(self, _input, kernels):\n",
    "        ''' forward pass to perform convolution '''\n",
    "        \n",
    "        ''' do error checking '''\n",
    "        _input_n, _input_c, _input_h, _input_w = _input.shape\n",
    "        if _input_h + 2 * self.padding[0] < self.dilation[0] * (self.kernel_size[0] - 1) + 1: # check if (dilated) ker_h is valid\n",
    "            raise Exception('invalid input parameters: kernel height is larger than input height')\n",
    "        if _input_w + 2 * self.padding[1] < self.dilation[1] * (self.kernel_size[1] - 1) + 1: # check if (dilated) ker_w is valid\n",
    "            raise Exception('invalid input parameters: kernel width is larger than input width')\n",
    "        if ((_input_h + 2 * self.padding[0] - (self.dilation[0] * (self.kernel_size[0] - 1) + 1)) / self.stride[0]) + 1 < 0: # check if out_h is valid\n",
    "            raise Exception('invalid input parameters: output height is negative')\n",
    "        if ((_input_w + 2 * self.padding[1] - (self.dilation[1] * (self.kernel_size[1] - 1) + 1)) / self.stride[1]) + 1 < 0: # check if out_w is valid\n",
    "            raise Exception('invalid input parameters: output width is negative')\n",
    "        if  self.in_channels % self.groups != 0: # check if groups is valid\n",
    "            raise Exception('invalid input parameters: input channels is not divisible by groups')\n",
    "        if self.out_channels % self.groups != 0: # check if groups is valid\n",
    "            raise Exception('invalid input parametes: output channels is not divisible by groups')\n",
    "         \n",
    "        ''' add zero padding based on the input parameters '''\n",
    "        if self.padding != (0, 0):\n",
    "            _input = np.array([[np.pad(channel, ((self.padding[0], self.padding[0]), (self.padding[1], self.padding[1])), 'constant', constant_values = 0) for channel in batch] for batch in _input])    \n",
    "            self.verboseprint('*** padded input image ***')\n",
    "            self.verboseprint('input batches: {}, input channels: {}, input height: {}, input weight: {}'.format(_input.shape[0], _input.shape[1], _input.shape[2], _input.shape[3]))\n",
    "            self.verboseprint(_input)\n",
    "            self.verboseprint('\\n')\n",
    "        # if self.debug:\n",
    "            # for b in range(_input.shape[0]):\n",
    "                # _input[b] = (b + 1) * np.ones_like(_input[b]) # define an image of all ones (twos etc.) based on the input parameters\n",
    "        \n",
    "        ''' use the provided kernels or create random kernels based on the input kernel parameters '''\n",
    "        if kernels is not None:\n",
    "            self.verboseprint('*** kernels ***')\n",
    "            self.verboseprint('kernels: {}, kernel channels: {}, kernel height: {}, kernel weight: {}'.format(self.out_channels, int(self.in_channels / self.groups), self.kernel_size[0], self.kernel_size[1]))\n",
    "        else:\n",
    "            kernels = []\n",
    "            self.verboseprint('*** kernels ***')\n",
    "            self.verboseprint('kernels: {}, kernel channels: {}, kernel height: {}, kernel weight: {}'.format(self.out_channels, int(self.in_channels / self.groups), self.kernel_size[0], self.kernel_size[1]))\n",
    "            for k in range(self.out_channels):\n",
    "                kernel = np.random.rand(int(self.in_channels / self.groups), self.kernel_size[0], self.kernel_size[1]) # define a random kernel based on the kernel parameters\n",
    "                # if self.debug:\n",
    "                    # kernel = k * np.ones_like(kernel)\n",
    "                kernels.append(kernel)\n",
    "                self.verboseprint('kernel {}'.format(k))\n",
    "                self.verboseprint(kernel)\n",
    "            self.verboseprint('\\n')\n",
    "        \n",
    "        ''' dilate a kernel '''\n",
    "        dil_ker_h = self.dilation[0] * (self.kernel_size[0] - 1) + 1\n",
    "        dil_ker_w = self.dilation[1] * (self.kernel_size[1] - 1) + 1\n",
    "        dil_kernels = []\n",
    "        for kernel in kernels:\n",
    "            dil_kernel = []\n",
    "            for channel in kernel:\n",
    "                dil_channel = np.zeros((dil_ker_h, dil_ker_w))\n",
    "                for row in range(len(channel)):\n",
    "                    for col in range(len(channel[0])):\n",
    "                        dil_channel[self.dilation[0] * row][self.dilation[1] * col] = channel[row][col] # check if the indices 0 and 1 need to be swapped\n",
    "                dil_kernel.append(dil_channel.tolist())\n",
    "            dil_kernels.append(dil_kernel)\n",
    "        kernels, self.kernel_size = dil_kernels, (dil_ker_h, dil_ker_w)\n",
    "        self.verboseprint('*** dilated kernels ***')\n",
    "        self.verboseprint('kernels: {}, dilation factor: {}, kernel channels: {}, kernel height: {}, kernel weight: {}'.format(self.out_channels, self.dilation, int(self.in_channels / self.groups), self.kernel_size[0], self.kernel_size[1]))\n",
    "        for k in range(self.out_channels):\n",
    "            self.verboseprint('kernel {}'.format(k))\n",
    "            self.verboseprint(kernels[k])\n",
    "        self.verboseprint('\\n')\n",
    "        \n",
    "        ''' compute output volume from the input and kernel parameters '''\n",
    "        _input_n, _, _input_h, _input_w = _input.shape\n",
    "        out_n = int(_input_n)\n",
    "        out_c = int(self.out_channels)\n",
    "        out_h = int((_input_h - self.kernel_size[0]) / self.stride[0]) + 1\n",
    "        out_w = int((_input_w - self.kernel_size[1]) / self.stride[1]) + 1\n",
    "        output = np.zeros([out_n, out_c, out_h, out_w])\n",
    "        \n",
    "        ''' parse through every element of the output and compute the convolution value for that element '''\n",
    "        for b in range(out_n):\n",
    "            for k in range(out_c):\n",
    "                for h in range(out_h):\n",
    "                    for w in range(out_w):\n",
    "                        # convolve kernel over the input slices\n",
    "                        self.verboseprint('kernel indices, image indices')\n",
    "                        self.verboseprint('[n, c, h, w]', '[n, c, h, w]')\n",
    "                        convol_sum = 0\n",
    "                        ker_c = int(self.in_channels / self.groups)\n",
    "                        ker_h = self.kernel_size[0]\n",
    "                        ker_w = self.kernel_size[1]\n",
    "                        for c_ker in range(ker_c):\n",
    "                            for h_ker in range(ker_h):\n",
    "                                for w_ker in range(ker_w):\n",
    "                                    # if self.groups == 1:\n",
    "                                        # self.verboseprint([k, c_ker, h_ker, w_ker], [b, c_ker, h_ker + self.stride[0] * h, w_ker + self.stride[1] * w])\n",
    "                                        # convol_sum += kernels[k][c_ker][h_ker][w_ker] * _input[b][c_ker][h_ker + self.stride[0] * h][w_ker + self.stride[1] * w] # works only when `groups` == 1\n",
    "                                    # elif self.groups == self.in_channels:\n",
    "                                        # self.verboseprint([k, c_ker, h_ker, w_ker], [b, k, h_ker + self.stride[0] * h, w_ker + self.stride[1] * w])\n",
    "                                        # convol_sum += kernels[k][c_ker][h_ker][w_ker] * _input[b][k][h_ker + self.stride[0] * h][w_ker + self.stride[1] * w] # works only when `groups` == in_channels\n",
    "                                    # else:\n",
    "                                        # self.verboseprint([k, c_ker, h_ker, w_ker], [b, c_ker if k < self.groups else c_ker + ker_c, h_ker + self.stride[0] * h, w_ker + self.stride[1] * w])\n",
    "                                        # convol_sum += kernels[k][c_ker][h_ker][w_ker] * _input[b][c_ker if k < self.groups else c_ker + ker_c][h_ker + self.stride[0] * h][w_ker + self.stride[1] * w] # works in some cases when 1 < `groups` < in_channels\n",
    "                                    self.verboseprint([k, c_ker, h_ker, w_ker], [b, c_ker + (ker_c * int(np.floor(k / (self.out_channels / self.groups)))), h_ker + self.stride[0] * h, w_ker + self.stride[1] * w])\n",
    "                                    convol_sum += kernels[k][c_ker][h_ker][w_ker] * _input[b][c_ker + (ker_c * int(np.floor(k / (self.out_channels / self.groups))))][h_ker + self.stride[0] * h][w_ker + self.stride[1] * w] # works for all 1 <= `groups` <= in_channels\n",
    "                        self.verboseprint('\\n')\n",
    "                        output[b, k, h, w] += convol_sum\n",
    "        self.verboseprint('*** Conv2DPytTest output ***')\n",
    "        output_shape = output.shape\n",
    "        self.verboseprint('output batches: {}, ouput channels: {}, output height: {}, output weight: {}'.format(output_shape[0], output_shape[1], output_shape[2], output_shape[3]))\n",
    "        assert((out_n, out_c, out_h, out_w) == output_shape)\n",
    "        self.verboseprint(output)\n",
    "        self.verboseprint('\\n')\n",
    "        return output"
   ]
  },
  {
   "cell_type": "markdown",
   "id": "7450ac24",
   "metadata": {},
   "source": [
    "### Standalone test (random kernel, random input)"
   ]
  },
  {
   "cell_type": "code",
   "execution_count": 155,
   "id": "a0377df6",
   "metadata": {},
   "outputs": [],
   "source": [
    "in_channels = 6 # input channels\n",
    "out_channels = 4 # output channels\n",
    "kernel_size = (2, 2) # kernel size\n",
    "\n",
    "padding = (1, 3) # padding (optional)\n",
    "stride = (2, 1) # stride (optional)\n",
    "dilation = (2, 3) # dilation factor (optional)\n",
    "groups = 2 # groups (optional)\n",
    "\n",
    "in_batches = 2 # input batches\n",
    "in_h = 4 # input height\n",
    "in_w = 4 # input weight\n",
    "\n",
    "_input = np.random.rand(in_batches, in_channels, in_h, in_w) # define a random image based on the input parameters\n",
    "kernels = []\n",
    "for k in range(out_channels):\n",
    "    kernel = np.random.rand(int(in_channels / groups), kernel_size[0], kernel_size[1]) # define a random kernel based on the kernel parameters\n",
    "    kernels.append(kernel)"
   ]
  },
  {
   "cell_type": "code",
   "execution_count": 156,
   "id": "29c79bef",
   "metadata": {},
   "outputs": [
    {
     "name": "stdout",
     "output_type": "stream",
     "text": [
      "*** Conv2DPytTestGroups output ***\n",
      "[[[[1.29322222 0.59732106 0.48430893 1.84416206 0.24456822 0.26208592\n",
      "    0.74219291]\n",
      "   [1.5728169  1.73119872 1.99582864 3.48284803 1.59447953 1.30855948\n",
      "    1.28994345]]\n",
      "\n",
      "  [[1.33145361 1.05347664 0.36701413 2.25878962 0.8785711  0.3185761\n",
      "    0.96079477]\n",
      "   [1.35738283 1.55314074 1.58469059 2.52600983 1.04354317 1.53736274\n",
      "    1.2691641 ]]\n",
      "\n",
      "  [[1.07841053 1.12654574 0.24065743 1.55465241 1.04126951 0.32803478\n",
      "    0.49324433]\n",
      "   [1.41429069 1.71767543 1.56997786 4.11684004 2.24767687 1.50559267\n",
      "    2.22214463]]\n",
      "\n",
      "  [[1.63338405 1.48193695 0.93856912 2.1033145  1.14461283 0.69425896\n",
      "    1.25996082]\n",
      "   [2.2519336  2.59685906 1.7481735  4.44865206 1.32466051 0.77799261\n",
      "    1.7717178 ]]]\n",
      "\n",
      "\n",
      " [[[0.24994835 0.99618313 1.08422208 0.41399767 0.82080665 0.77060424\n",
      "    0.08335595]\n",
      "   [1.62585005 1.76325336 1.89752126 2.75501933 1.55708554 2.19540888\n",
      "    1.02395867]]\n",
      "\n",
      "  [[0.41500445 0.40973895 1.16283891 0.68959752 0.80300663 1.401363\n",
      "    0.19071419]\n",
      "   [1.5394968  1.58728637 1.3797745  2.85082305 1.77450108 1.1611685\n",
      "    1.55007985]]\n",
      "\n",
      "  [[0.88761068 0.3961726  0.66835029 2.02434802 0.39064726 0.59727831\n",
      "    1.04044429]\n",
      "   [1.47672124 0.67454414 0.77469236 3.71801332 0.82727453 1.09425989\n",
      "    2.52209785]]\n",
      "\n",
      "  [[0.82086674 0.67150545 0.61568822 1.65497474 0.52336524 0.21144637\n",
      "    1.12520173]\n",
      "   [2.22089564 1.02583447 1.15487657 4.21270844 0.73491026 1.14159858\n",
      "    0.97553386]]]]\n"
     ]
    }
   ],
   "source": [
    "# get Conv2D output with the random inputs\n",
    "\n",
    "conv2d = Conv2D(in_channels, out_channels, kernel_size, stride = stride, padding = padding, dilation = dilation, groups = groups) # call an instance of the class with the input parameters \n",
    "_output = conv2d.forward(_input, kernels) # perform convolution\n",
    "print(\"*** Conv2D output ***\")\n",
    "print(_output)"
   ]
  },
  {
   "cell_type": "code",
   "execution_count": 157,
   "id": "df346af0",
   "metadata": {
    "scrolled": true
   },
   "outputs": [
    {
     "name": "stdout",
     "output_type": "stream",
     "text": [
      "*** PyTorch output ***\n",
      "tensor([[[[1.2932, 0.5973, 0.4843, 1.8442, 0.2446, 0.2621, 0.7422],\n",
      "          [1.5728, 1.7312, 1.9958, 3.4828, 1.5945, 1.3086, 1.2899]],\n",
      "\n",
      "         [[1.3315, 1.0535, 0.3670, 2.2588, 0.8786, 0.3186, 0.9608],\n",
      "          [1.3574, 1.5531, 1.5847, 2.5260, 1.0435, 1.5374, 1.2692]],\n",
      "\n",
      "         [[1.0784, 1.1265, 0.2407, 1.5547, 1.0413, 0.3280, 0.4932],\n",
      "          [1.4143, 1.7177, 1.5700, 4.1168, 2.2477, 1.5056, 2.2221]],\n",
      "\n",
      "         [[1.6334, 1.4819, 0.9386, 2.1033, 1.1446, 0.6943, 1.2600],\n",
      "          [2.2519, 2.5969, 1.7482, 4.4487, 1.3247, 0.7780, 1.7717]]],\n",
      "\n",
      "\n",
      "        [[[0.2499, 0.9962, 1.0842, 0.4140, 0.8208, 0.7706, 0.0834],\n",
      "          [1.6259, 1.7633, 1.8975, 2.7550, 1.5571, 2.1954, 1.0240]],\n",
      "\n",
      "         [[0.4150, 0.4097, 1.1628, 0.6896, 0.8030, 1.4014, 0.1907],\n",
      "          [1.5395, 1.5873, 1.3798, 2.8508, 1.7745, 1.1612, 1.5501]],\n",
      "\n",
      "         [[0.8876, 0.3962, 0.6684, 2.0243, 0.3906, 0.5973, 1.0404],\n",
      "          [1.4767, 0.6745, 0.7747, 3.7180, 0.8273, 1.0943, 2.5221]],\n",
      "\n",
      "         [[0.8209, 0.6715, 0.6157, 1.6550, 0.5234, 0.2114, 1.1252],\n",
      "          [2.2209, 1.0258, 1.1549, 4.2127, 0.7349, 1.1416, 0.9755]]]],\n",
      "       dtype=torch.float64)\n"
     ]
    }
   ],
   "source": [
    "# get PyTorch output with the same random inputs as above\n",
    "\n",
    "import torch\n",
    "\n",
    "x = torch.DoubleTensor(_input)\n",
    "weights = torch.stack([torch.DoubleTensor(kernel) for kernel in kernels])\n",
    "output = torch.nn.functional.conv2d(x, weights, stride = stride, padding = padding, dilation = dilation, groups = groups)\n",
    "print(\"*** PyTorch output ***\")\n",
    "print(output)"
   ]
  },
  {
   "cell_type": "code",
   "execution_count": 158,
   "id": "d8e5a3f5",
   "metadata": {
    "scrolled": true
   },
   "outputs": [
    {
     "name": "stdout",
     "output_type": "stream",
     "text": [
      "True\n"
     ]
    }
   ],
   "source": [
    "# compare outputs of conv-Numpy and PyTorch\n",
    "print(torch.equal(torch.round(torch.DoubleTensor(_output)), torch.round(output))) # need to round the output due to precision difference"
   ]
  },
  {
   "cell_type": "markdown",
   "id": "c87813f3",
   "metadata": {},
   "source": [
    "### Extensive tests (random kernel, random input)"
   ]
  },
  {
   "cell_type": "code",
   "execution_count": 159,
   "id": "8b986f3c",
   "metadata": {},
   "outputs": [],
   "source": [
    "def valid_params(num_tests):\n",
    "    # generates `num_samples` number of valid input and kernel parameters \n",
    "    params_list = []\n",
    "    sample_count = 0\n",
    "    while sample_count < num_tests:\n",
    "        in_channels = np.random.randint(20) + 1 # input channels\n",
    "        out_channels = np.random.randint(20) + 1 # output channels\n",
    "        \n",
    "        kernel_h = np.random.randint(20) + 1\n",
    "        kernel_w = np.random.randint(20) + 1\n",
    "        kernel_size = (kernel_h, kernel_w) # kernel size\n",
    "        \n",
    "        padding_h = np.random.randint(10) + 1\n",
    "        padding_w = np.random.randint(10) + 1\n",
    "        padding = (padding_h, padding_w) # padding (optional)\n",
    "        stride_h = np.random.randint(5) + 1\n",
    "        stride_w = np.random.randint(5) + 1\n",
    "        stride = (stride_h, stride_w) # stride (optional)\n",
    "        dilation_h = np.random.randint(10) + 1\n",
    "        dilation_w = np.random.randint(10) + 1\n",
    "        dilation = (dilation_h, dilation_w) # dilation factor (optional)\n",
    "        groups = np.random.randint(in_channels) + 1 # groups (optional)\n",
    "        \n",
    "        in_batches = np.random.randint(5) + 1 # input batches\n",
    "        in_h = np.random.randint(30) + 5 # input height\n",
    "        in_w = np.random.randint(30) + 5 # input weight\n",
    "    \n",
    "        ker_h_flag, ker_w_flag, out_h_flag, out_w_flag, in_group_flag, out_group_flag = True, True, True, True, True, True\n",
    "        \n",
    "        if in_h + 2 * padding_h < dilation_h * (kernel_h - 1) + 1: # check if (dilated) ker_h is valid\n",
    "            ker_h_flag = False\n",
    "        if in_w + 2 * padding_w < dilation_w * (kernel_w - 1) + 1: # check if (dilated) ker_w is valid\n",
    "            ker_w_flag = False\n",
    "        if ((in_h + 2 * padding_h - (dilation_h * (kernel_h - 1) + 1)) / stride_h) + 1 < 0: # check if out_h is valid\n",
    "            out_h_flag = False\n",
    "        if ((in_w + 2 * padding_w - (dilation_w * (kernel_w - 1) + 1)) / stride_w) + 1 < 0: # check if out_w is valid\n",
    "            out_w_flag = False\n",
    "        if  in_channels % groups != 0: # check if groups is valid\n",
    "            in_group_flag = False\n",
    "        if out_channels % groups != 0: # check if groups is valid\n",
    "            out_group_flag = False\n",
    "        \n",
    "        if ker_h_flag and ker_w_flag and out_h_flag and out_w_flag and in_group_flag and out_group_flag:\n",
    "            params_list.append({'in_channels': in_channels, 'out_channels': out_channels, 'kernel_size': kernel_size,\n",
    "                          'padding': padding, 'stride': stride, 'dilation': dilation, 'groups': groups, 'in_batches': in_batches,\n",
    "                          'in_h': in_h, 'in_w': in_w})\n",
    "            sample_count += 1\n",
    "    return params_list"
   ]
  },
  {
   "cell_type": "code",
   "execution_count": 160,
   "id": "472a4c0f",
   "metadata": {
    "scrolled": true
   },
   "outputs": [
    {
     "name": "stdout",
     "output_type": "stream",
     "text": [
      "Number of tests: 200\n",
      "\n",
      "\n"
     ]
    },
    {
     "name": "stderr",
     "output_type": "stream",
     "text": [
      "\r",
      "  0%|                                                   | 0/200 [00:00<?, ?it/s]"
     ]
    },
    {
     "name": "stdout",
     "output_type": "stream",
     "text": [
      "Test: 0\n",
      "Params: {'in_channels': 1, 'out_channels': 16, 'kernel_size': (2, 5), 'padding': (1, 10), 'stride': (1, 1), 'dilation': (10, 7), 'groups': 1, 'in_batches': 4, 'in_h': 32, 'in_w': 14}\n"
     ]
    },
    {
     "name": "stderr",
     "output_type": "stream",
     "text": [
      "\r",
      "  0%|▏                                          | 1/200 [00:15<50:40, 15.28s/it]"
     ]
    },
    {
     "name": "stdout",
     "output_type": "stream",
     "text": [
      "Result: True\n",
      "\n",
      "\n",
      "Test: 1\n",
      "Params: {'in_channels': 3, 'out_channels': 11, 'kernel_size': (2, 2), 'padding': (1, 10), 'stride': (1, 2), 'dilation': (5, 3), 'groups': 1, 'in_batches': 4, 'in_h': 21, 'in_w': 19}\n"
     ]
    },
    {
     "name": "stderr",
     "output_type": "stream",
     "text": [
      "\r",
      "  1%|▍                                          | 2/200 [00:21<32:00,  9.70s/it]"
     ]
    },
    {
     "name": "stdout",
     "output_type": "stream",
     "text": [
      "Result: True\n",
      "\n",
      "\n",
      "Test: 2\n",
      "Params: {'in_channels': 1, 'out_channels': 18, 'kernel_size': (8, 6), 'padding': (8, 5), 'stride': (1, 1), 'dilation': (3, 5), 'groups': 1, 'in_batches': 2, 'in_h': 13, 'in_w': 20}\n"
     ]
    },
    {
     "name": "stderr",
     "output_type": "stream",
     "text": [
      "\r",
      "  2%|▋                                          | 3/200 [00:25<24:07,  7.35s/it]"
     ]
    },
    {
     "name": "stdout",
     "output_type": "stream",
     "text": [
      "Result: True\n",
      "\n",
      "\n",
      "Test: 3\n",
      "Params: {'in_channels': 1, 'out_channels': 5, 'kernel_size': (3, 1), 'padding': (6, 6), 'stride': (2, 5), 'dilation': (1, 6), 'groups': 1, 'in_batches': 4, 'in_h': 29, 'in_w': 10}\n",
      "Result: True\n",
      "\n",
      "\n",
      "Test: 4\n",
      "Params: {'in_channels': 1, 'out_channels': 6, 'kernel_size': (2, 2), 'padding': (10, 3), 'stride': (3, 4), 'dilation': (2, 4), 'groups': 1, 'in_batches': 5, 'in_h': 16, 'in_w': 20}\n"
     ]
    },
    {
     "name": "stderr",
     "output_type": "stream",
     "text": [
      "\r",
      "  2%|█                                          | 5/200 [00:25<10:35,  3.26s/it]"
     ]
    },
    {
     "name": "stdout",
     "output_type": "stream",
     "text": [
      "Result: True\n",
      "\n",
      "\n",
      "Test: 5\n",
      "Params: {'in_channels': 5, 'out_channels': 19, 'kernel_size': (2, 2), 'padding': (9, 2), 'stride': (1, 2), 'dilation': (2, 6), 'groups': 1, 'in_batches': 4, 'in_h': 16, 'in_w': 31}\n"
     ]
    },
    {
     "name": "stderr",
     "output_type": "stream",
     "text": [
      "\r",
      "  3%|█▎                                         | 6/200 [00:46<26:20,  8.15s/it]"
     ]
    },
    {
     "name": "stdout",
     "output_type": "stream",
     "text": [
      "Result: True\n",
      "\n",
      "\n",
      "Test: 6\n",
      "Params: {'in_channels': 6, 'out_channels': 16, 'kernel_size': (1, 1), 'padding': (8, 8), 'stride': (3, 4), 'dilation': (6, 3), 'groups': 1, 'in_batches': 5, 'in_h': 6, 'in_w': 29}\n"
     ]
    },
    {
     "name": "stderr",
     "output_type": "stream",
     "text": [
      "\r",
      "  4%|█▌                                         | 7/200 [00:46<18:52,  5.87s/it]"
     ]
    },
    {
     "name": "stdout",
     "output_type": "stream",
     "text": [
      "Result: True\n",
      "\n",
      "\n",
      "Test: 7\n",
      "Params: {'in_channels': 1, 'out_channels': 8, 'kernel_size': (11, 7), 'padding': (4, 2), 'stride': (3, 5), 'dilation': (2, 2), 'groups': 1, 'in_batches': 5, 'in_h': 19, 'in_w': 32}\n"
     ]
    },
    {
     "name": "stderr",
     "output_type": "stream",
     "text": [
      "\r",
      "  4%|█▋                                         | 8/200 [00:47<14:04,  4.40s/it]"
     ]
    },
    {
     "name": "stdout",
     "output_type": "stream",
     "text": [
      "Result: True\n",
      "\n",
      "\n",
      "Test: 8\n",
      "Params: {'in_channels': 2, 'out_channels': 16, 'kernel_size': (9, 17), 'padding': (10, 9), 'stride': (4, 3), 'dilation': (1, 2), 'groups': 2, 'in_batches': 5, 'in_h': 31, 'in_w': 19}\n"
     ]
    },
    {
     "name": "stderr",
     "output_type": "stream",
     "text": [
      "\r",
      "  4%|█▉                                         | 9/200 [00:50<12:59,  4.08s/it]"
     ]
    },
    {
     "name": "stdout",
     "output_type": "stream",
     "text": [
      "Result: True\n",
      "\n",
      "\n",
      "Test: 9\n",
      "Params: {'in_channels': 2, 'out_channels': 5, 'kernel_size': (18, 4), 'padding': (10, 5), 'stride': (1, 3), 'dilation': (1, 5), 'groups': 1, 'in_batches': 4, 'in_h': 14, 'in_w': 24}\n"
     ]
    },
    {
     "name": "stderr",
     "output_type": "stream",
     "text": [
      "\r",
      "  5%|██                                        | 10/200 [00:58<16:50,  5.32s/it]"
     ]
    },
    {
     "name": "stdout",
     "output_type": "stream",
     "text": [
      "Result: True\n",
      "\n",
      "\n",
      "Test: 10\n",
      "Params: {'in_channels': 2, 'out_channels': 14, 'kernel_size': (5, 2), 'padding': (10, 3), 'stride': (2, 3), 'dilation': (3, 6), 'groups': 1, 'in_batches': 5, 'in_h': 23, 'in_w': 27}\n"
     ]
    },
    {
     "name": "stderr",
     "output_type": "stream",
     "text": [
      "\r",
      "  6%|██▎                                       | 11/200 [01:08<21:14,  6.74s/it]"
     ]
    },
    {
     "name": "stdout",
     "output_type": "stream",
     "text": [
      "Result: True\n",
      "\n",
      "\n",
      "Test: 11\n",
      "Params: {'in_channels': 18, 'out_channels': 14, 'kernel_size': (1, 19), 'padding': (8, 1), 'stride': (3, 2), 'dilation': (10, 1), 'groups': 1, 'in_batches': 2, 'in_h': 19, 'in_w': 26}\n"
     ]
    },
    {
     "name": "stderr",
     "output_type": "stream",
     "text": [
      "\r",
      "  6%|██▌                                       | 12/200 [01:12<17:45,  5.67s/it]"
     ]
    },
    {
     "name": "stdout",
     "output_type": "stream",
     "text": [
      "Result: True\n",
      "\n",
      "\n",
      "Test: 12\n",
      "Params: {'in_channels': 6, 'out_channels': 3, 'kernel_size': (5, 4), 'padding': (5, 1), 'stride': (1, 2), 'dilation': (5, 4), 'groups': 3, 'in_batches': 3, 'in_h': 25, 'in_w': 30}\n"
     ]
    },
    {
     "name": "stderr",
     "output_type": "stream",
     "text": [
      "  7%|██▉                                       | 14/200 [01:16<11:31,  3.72s/it]"
     ]
    },
    {
     "name": "stdout",
     "output_type": "stream",
     "text": [
      "Result: True\n",
      "\n",
      "\n",
      "Test: 13\n",
      "Params: {'in_channels': 1, 'out_channels': 11, 'kernel_size': (1, 14), 'padding': (9, 9), 'stride': (5, 2), 'dilation': (7, 3), 'groups': 1, 'in_batches': 1, 'in_h': 7, 'in_w': 31}\n",
      "Result: True\n",
      "\n",
      "\n",
      "Test: 14\n",
      "Params: {'in_channels': 16, 'out_channels': 11, 'kernel_size': (3, 13), 'padding': (6, 1), 'stride': (2, 4), 'dilation': (2, 1), 'groups': 1, 'in_batches': 2, 'in_h': 7, 'in_w': 16}\n"
     ]
    },
    {
     "name": "stderr",
     "output_type": "stream",
     "text": [
      "\r",
      "  8%|███▏                                      | 15/200 [01:18<10:01,  3.25s/it]"
     ]
    },
    {
     "name": "stdout",
     "output_type": "stream",
     "text": [
      "Result: True\n",
      "\n",
      "\n",
      "Test: 15\n",
      "Params: {'in_channels': 2, 'out_channels': 14, 'kernel_size': (3, 2), 'padding': (10, 3), 'stride': (2, 1), 'dilation': (4, 9), 'groups': 1, 'in_batches': 4, 'in_h': 6, 'in_w': 24}\n"
     ]
    },
    {
     "name": "stderr",
     "output_type": "stream",
     "text": [
      "\r",
      "  8%|███▎                                      | 16/200 [01:28<16:04,  5.24s/it]"
     ]
    },
    {
     "name": "stdout",
     "output_type": "stream",
     "text": [
      "Result: True\n",
      "\n",
      "\n",
      "Test: 16\n",
      "Params: {'in_channels': 1, 'out_channels': 13, 'kernel_size': (8, 9), 'padding': (2, 8), 'stride': (4, 1), 'dilation': (3, 1), 'groups': 1, 'in_batches': 4, 'in_h': 32, 'in_w': 20}\n"
     ]
    },
    {
     "name": "stderr",
     "output_type": "stream",
     "text": [
      "\r",
      "  8%|███▌                                      | 17/200 [01:36<18:06,  5.94s/it]"
     ]
    },
    {
     "name": "stdout",
     "output_type": "stream",
     "text": [
      "Result: True\n",
      "\n",
      "\n",
      "Test: 17\n",
      "Params: {'in_channels': 4, 'out_channels': 4, 'kernel_size': (19, 3), 'padding': (6, 3), 'stride': (5, 2), 'dilation': (1, 1), 'groups': 4, 'in_batches': 2, 'in_h': 7, 'in_w': 10}\n",
      "Result: True\n",
      "\n",
      "\n",
      "Test: 18\n",
      "Params: {'in_channels': 4, 'out_channels': 4, 'kernel_size': (13, 2), 'padding': (3, 1), 'stride': (5, 5), 'dilation': (2, 6), 'groups': 4, 'in_batches': 3, 'in_h': 33, 'in_w': 29}\n"
     ]
    },
    {
     "name": "stderr",
     "output_type": "stream",
     "text": [
      "\r",
      " 10%|███▉                                      | 19/200 [01:36<09:55,  3.29s/it]"
     ]
    },
    {
     "name": "stdout",
     "output_type": "stream",
     "text": [
      "Result: True\n",
      "\n",
      "\n",
      "Test: 19\n",
      "Params: {'in_channels': 2, 'out_channels': 3, 'kernel_size': (9, 5), 'padding': (8, 5), 'stride': (5, 1), 'dilation': (2, 5), 'groups': 1, 'in_batches': 4, 'in_h': 18, 'in_w': 23}\n"
     ]
    },
    {
     "name": "stderr",
     "output_type": "stream",
     "text": [
      "\r",
      " 10%|████▏                                     | 20/200 [01:40<10:06,  3.37s/it]"
     ]
    },
    {
     "name": "stdout",
     "output_type": "stream",
     "text": [
      "Result: True\n",
      "\n",
      "\n",
      "Test: 20\n",
      "Params: {'in_channels': 1, 'out_channels': 4, 'kernel_size': (2, 13), 'padding': (6, 8), 'stride': (2, 2), 'dilation': (8, 1), 'groups': 1, 'in_batches': 5, 'in_h': 23, 'in_w': 11}\n"
     ]
    },
    {
     "name": "stderr",
     "output_type": "stream",
     "text": [
      "\r",
      " 10%|████▍                                     | 21/200 [01:42<09:08,  3.07s/it]"
     ]
    },
    {
     "name": "stdout",
     "output_type": "stream",
     "text": [
      "Result: True\n",
      "\n",
      "\n",
      "Test: 21\n",
      "Params: {'in_channels': 15, 'out_channels': 9, 'kernel_size': (3, 4), 'padding': (2, 7), 'stride': (5, 3), 'dilation': (10, 4), 'groups': 3, 'in_batches': 1, 'in_h': 29, 'in_w': 33}\n"
     ]
    },
    {
     "name": "stderr",
     "output_type": "stream",
     "text": [
      "\r",
      " 11%|████▌                                     | 22/200 [01:45<09:27,  3.19s/it]"
     ]
    },
    {
     "name": "stdout",
     "output_type": "stream",
     "text": [
      "Result: True\n",
      "\n",
      "\n",
      "Test: 22\n",
      "Params: {'in_channels': 3, 'out_channels': 9, 'kernel_size': (18, 16), 'padding': (8, 8), 'stride': (4, 3), 'dilation': (2, 2), 'groups': 1, 'in_batches': 1, 'in_h': 29, 'in_w': 33}\n"
     ]
    },
    {
     "name": "stderr",
     "output_type": "stream",
     "text": [
      "\r",
      " 12%|████▊                                     | 23/200 [01:49<09:50,  3.33s/it]"
     ]
    },
    {
     "name": "stdout",
     "output_type": "stream",
     "text": [
      "Result: True\n",
      "\n",
      "\n",
      "Test: 23\n",
      "Params: {'in_channels': 3, 'out_channels': 14, 'kernel_size': (5, 19), 'padding': (7, 10), 'stride': (3, 5), 'dilation': (4, 1), 'groups': 1, 'in_batches': 4, 'in_h': 15, 'in_w': 24}\n"
     ]
    },
    {
     "name": "stderr",
     "output_type": "stream",
     "text": [
      "\r",
      " 12%|█████                                     | 24/200 [02:00<16:29,  5.62s/it]"
     ]
    },
    {
     "name": "stdout",
     "output_type": "stream",
     "text": [
      "Result: True\n",
      "\n",
      "\n",
      "Test: 24\n",
      "Params: {'in_channels': 10, 'out_channels': 4, 'kernel_size': (1, 4), 'padding': (5, 7), 'stride': (5, 1), 'dilation': (9, 10), 'groups': 2, 'in_batches': 4, 'in_h': 33, 'in_w': 31}\n"
     ]
    },
    {
     "name": "stderr",
     "output_type": "stream",
     "text": [
      "\r",
      " 12%|█████▎                                    | 25/200 [02:03<13:53,  4.76s/it]"
     ]
    },
    {
     "name": "stdout",
     "output_type": "stream",
     "text": [
      "Result: True\n",
      "\n",
      "\n",
      "Test: 25\n",
      "Params: {'in_channels': 20, 'out_channels': 4, 'kernel_size': (6, 4), 'padding': (10, 5), 'stride': (4, 4), 'dilation': (4, 9), 'groups': 1, 'in_batches': 5, 'in_h': 31, 'in_w': 31}\n"
     ]
    },
    {
     "name": "stderr",
     "output_type": "stream",
     "text": [
      "\r",
      " 13%|█████▍                                    | 26/200 [02:52<51:25, 17.73s/it]"
     ]
    },
    {
     "name": "stdout",
     "output_type": "stream",
     "text": [
      "Result: True\n",
      "\n",
      "\n",
      "Test: 26\n",
      "Params: {'in_channels': 16, 'out_channels': 20, 'kernel_size': (3, 6), 'padding': (1, 9), 'stride': (2, 1), 'dilation': (2, 8), 'groups': 4, 'in_batches': 1, 'in_h': 24, 'in_w': 30}\n"
     ]
    },
    {
     "name": "stderr",
     "output_type": "stream",
     "text": [
      "\r",
      " 14%|█████▋                                    | 27/200 [03:03<44:55, 15.58s/it]"
     ]
    },
    {
     "name": "stdout",
     "output_type": "stream",
     "text": [
      "Result: True\n",
      "\n",
      "\n",
      "Test: 27\n",
      "Params: {'in_channels': 1, 'out_channels': 16, 'kernel_size': (5, 1), 'padding': (5, 3), 'stride': (2, 3), 'dilation': (3, 6), 'groups': 1, 'in_batches': 2, 'in_h': 9, 'in_w': 7}\n",
      "Result: True\n",
      "\n",
      "\n",
      "Test: 28\n",
      "Params: {'in_channels': 9, 'out_channels': 18, 'kernel_size': (4, 1), 'padding': (4, 4), 'stride': (1, 5), 'dilation': (3, 2), 'groups': 3, 'in_batches': 1, 'in_h': 24, 'in_w': 12}\n"
     ]
    },
    {
     "name": "stderr",
     "output_type": "stream",
     "text": [
      "\r",
      " 14%|██████                                    | 29/200 [03:03<24:20,  8.54s/it]"
     ]
    },
    {
     "name": "stdout",
     "output_type": "stream",
     "text": [
      "Result: True\n",
      "\n",
      "\n",
      "Test: 29\n",
      "Params: {'in_channels': 1, 'out_channels': 12, 'kernel_size': (15, 5), 'padding': (9, 7), 'stride': (1, 3), 'dilation': (2, 3), 'groups': 1, 'in_batches': 5, 'in_h': 13, 'in_w': 15}\n"
     ]
    },
    {
     "name": "stderr",
     "output_type": "stream",
     "text": [
      "\r",
      " 15%|██████▎                                   | 30/200 [03:05<19:41,  6.95s/it]"
     ]
    },
    {
     "name": "stdout",
     "output_type": "stream",
     "text": [
      "Result: True\n",
      "\n",
      "\n",
      "Test: 30\n",
      "Params: {'in_channels': 9, 'out_channels': 18, 'kernel_size': (6, 6), 'padding': (3, 8), 'stride': (2, 1), 'dilation': (2, 3), 'groups': 9, 'in_batches': 5, 'in_h': 9, 'in_w': 23}\n"
     ]
    },
    {
     "name": "stderr",
     "output_type": "stream",
     "text": [
      " 16%|██████▋                                   | 32/200 [03:11<13:46,  4.92s/it]"
     ]
    },
    {
     "name": "stdout",
     "output_type": "stream",
     "text": [
      "Result: True\n",
      "\n",
      "\n",
      "Test: 31\n",
      "Params: {'in_channels': 20, 'out_channels': 10, 'kernel_size': (2, 5), 'padding': (2, 10), 'stride': (4, 5), 'dilation': (1, 2), 'groups': 10, 'in_batches': 1, 'in_h': 31, 'in_w': 27}\n",
      "Result: True\n",
      "\n",
      "\n",
      "Test: 32\n",
      "Params: {'in_channels': 7, 'out_channels': 20, 'kernel_size': (12, 7), 'padding': (4, 7), 'stride': (5, 3), 'dilation': (2, 6), 'groups': 1, 'in_batches': 3, 'in_h': 24, 'in_w': 30}\n"
     ]
    },
    {
     "name": "stderr",
     "output_type": "stream",
     "text": [
      "\r",
      " 16%|██████▉                                   | 33/200 [03:23<18:49,  6.76s/it]"
     ]
    },
    {
     "name": "stdout",
     "output_type": "stream",
     "text": [
      "Result: True\n",
      "\n",
      "\n",
      "Test: 33\n",
      "Params: {'in_channels': 1, 'out_channels': 14, 'kernel_size': (2, 3), 'padding': (8, 8), 'stride': (3, 3), 'dilation': (1, 7), 'groups': 1, 'in_batches': 2, 'in_h': 29, 'in_w': 18}\n"
     ]
    },
    {
     "name": "stderr",
     "output_type": "stream",
     "text": [
      "\r",
      " 17%|███████▏                                  | 34/200 [03:23<13:54,  5.03s/it]"
     ]
    },
    {
     "name": "stdout",
     "output_type": "stream",
     "text": [
      "Result: True\n",
      "\n",
      "\n",
      "Test: 34\n",
      "Params: {'in_channels': 1, 'out_channels': 9, 'kernel_size': (1, 2), 'padding': (8, 6), 'stride': (4, 1), 'dilation': (3, 10), 'groups': 1, 'in_batches': 2, 'in_h': 34, 'in_w': 23}\n"
     ]
    },
    {
     "name": "stderr",
     "output_type": "stream",
     "text": [
      "\r",
      " 18%|███████▎                                  | 35/200 [03:24<10:08,  3.69s/it]"
     ]
    },
    {
     "name": "stdout",
     "output_type": "stream",
     "text": [
      "Result: True\n",
      "\n",
      "\n",
      "Test: 35\n",
      "Params: {'in_channels': 5, 'out_channels': 7, 'kernel_size': (3, 10), 'padding': (3, 5), 'stride': (3, 2), 'dilation': (4, 2), 'groups': 1, 'in_batches': 1, 'in_h': 6, 'in_w': 29}\n"
     ]
    },
    {
     "name": "stderr",
     "output_type": "stream",
     "text": [
      "\r",
      " 18%|███████▌                                  | 36/200 [03:24<07:41,  2.82s/it]"
     ]
    },
    {
     "name": "stdout",
     "output_type": "stream",
     "text": [
      "Result: True\n",
      "\n",
      "\n",
      "Test: 36\n",
      "Params: {'in_channels': 1, 'out_channels': 10, 'kernel_size': (8, 2), 'padding': (10, 5), 'stride': (1, 5), 'dilation': (1, 3), 'groups': 1, 'in_batches': 2, 'in_h': 33, 'in_w': 15}\n"
     ]
    },
    {
     "name": "stderr",
     "output_type": "stream",
     "text": [
      "\r",
      " 18%|███████▊                                  | 37/200 [03:25<06:03,  2.23s/it]"
     ]
    },
    {
     "name": "stdout",
     "output_type": "stream",
     "text": [
      "Result: True\n",
      "\n",
      "\n",
      "Test: 37\n",
      "Params: {'in_channels': 12, 'out_channels': 20, 'kernel_size': (3, 20), 'padding': (6, 2), 'stride': (4, 3), 'dilation': (4, 1), 'groups': 4, 'in_batches': 1, 'in_h': 24, 'in_w': 31}\n"
     ]
    },
    {
     "name": "stderr",
     "output_type": "stream",
     "text": [
      "\r",
      " 19%|███████▉                                  | 38/200 [03:28<06:09,  2.28s/it]"
     ]
    },
    {
     "name": "stdout",
     "output_type": "stream",
     "text": [
      "Result: True\n",
      "\n",
      "\n",
      "Test: 38\n",
      "Params: {'in_channels': 8, 'out_channels': 10, 'kernel_size': (11, 7), 'padding': (8, 9), 'stride': (4, 1), 'dilation': (4, 1), 'groups': 1, 'in_batches': 5, 'in_h': 34, 'in_w': 16}\n"
     ]
    },
    {
     "name": "stderr",
     "output_type": "stream",
     "text": [
      "\r",
      " 20%|████████▏                                 | 39/200 [04:22<47:36, 17.74s/it]"
     ]
    },
    {
     "name": "stdout",
     "output_type": "stream",
     "text": [
      "Result: True\n",
      "\n",
      "\n",
      "Test: 39\n",
      "Params: {'in_channels': 1, 'out_channels': 6, 'kernel_size': (10, 4), 'padding': (6, 6), 'stride': (3, 2), 'dilation': (2, 6), 'groups': 1, 'in_batches': 4, 'in_h': 26, 'in_w': 32}\n"
     ]
    },
    {
     "name": "stderr",
     "output_type": "stream",
     "text": [
      "\r",
      " 20%|████████▍                                 | 40/200 [04:26<36:32, 13.70s/it]"
     ]
    },
    {
     "name": "stdout",
     "output_type": "stream",
     "text": [
      "Result: True\n",
      "\n",
      "\n",
      "Test: 40\n",
      "Params: {'in_channels': 1, 'out_channels': 6, 'kernel_size': (3, 7), 'padding': (3, 4), 'stride': (3, 4), 'dilation': (4, 1), 'groups': 1, 'in_batches': 5, 'in_h': 14, 'in_w': 21}\n"
     ]
    },
    {
     "name": "stderr",
     "output_type": "stream",
     "text": [
      "\r",
      " 20%|████████▌                                 | 41/200 [04:26<25:39,  9.68s/it]"
     ]
    },
    {
     "name": "stdout",
     "output_type": "stream",
     "text": [
      "Result: True\n",
      "\n",
      "\n",
      "Test: 41\n",
      "Params: {'in_channels': 14, 'out_channels': 4, 'kernel_size': (7, 7), 'padding': (10, 10), 'stride': (5, 5), 'dilation': (4, 3), 'groups': 2, 'in_batches': 2, 'in_h': 13, 'in_w': 33}\n"
     ]
    },
    {
     "name": "stderr",
     "output_type": "stream",
     "text": [
      "\r",
      " 21%|████████▊                                 | 42/200 [04:28<19:29,  7.40s/it]"
     ]
    },
    {
     "name": "stdout",
     "output_type": "stream",
     "text": [
      "Result: True\n",
      "\n",
      "\n",
      "Test: 42\n",
      "Params: {'in_channels': 19, 'out_channels': 4, 'kernel_size': (8, 2), 'padding': (4, 6), 'stride': (2, 4), 'dilation': (2, 10), 'groups': 1, 'in_batches': 3, 'in_h': 18, 'in_w': 6}\n"
     ]
    },
    {
     "name": "stderr",
     "output_type": "stream",
     "text": [
      "\r",
      " 22%|█████████                                 | 43/200 [04:31<15:25,  5.89s/it]"
     ]
    },
    {
     "name": "stdout",
     "output_type": "stream",
     "text": [
      "Result: True\n",
      "\n",
      "\n",
      "Test: 43\n",
      "Params: {'in_channels': 14, 'out_channels': 10, 'kernel_size': (3, 9), 'padding': (4, 7), 'stride': (5, 5), 'dilation': (7, 5), 'groups': 2, 'in_batches': 2, 'in_h': 22, 'in_w': 27}\n"
     ]
    },
    {
     "name": "stderr",
     "output_type": "stream",
     "text": [
      "\r",
      " 22%|█████████▏                                | 44/200 [04:33<12:10,  4.68s/it]"
     ]
    },
    {
     "name": "stdout",
     "output_type": "stream",
     "text": [
      "Result: True\n",
      "\n",
      "\n",
      "Test: 44\n",
      "Params: {'in_channels': 6, 'out_channels': 10, 'kernel_size': (11, 1), 'padding': (9, 6), 'stride': (5, 4), 'dilation': (2, 5), 'groups': 2, 'in_batches': 5, 'in_h': 9, 'in_w': 10}\n"
     ]
    },
    {
     "name": "stderr",
     "output_type": "stream",
     "text": [
      "\r",
      " 22%|█████████▍                                | 45/200 [04:33<08:39,  3.35s/it]"
     ]
    },
    {
     "name": "stdout",
     "output_type": "stream",
     "text": [
      "Result: True\n",
      "\n",
      "\n",
      "Test: 45\n",
      "Params: {'in_channels': 4, 'out_channels': 15, 'kernel_size': (4, 1), 'padding': (6, 4), 'stride': (1, 5), 'dilation': (2, 3), 'groups': 1, 'in_batches': 4, 'in_h': 21, 'in_w': 32}\n"
     ]
    },
    {
     "name": "stderr",
     "output_type": "stream",
     "text": [
      "\r",
      " 23%|█████████▋                                | 46/200 [04:35<07:38,  2.98s/it]"
     ]
    },
    {
     "name": "stdout",
     "output_type": "stream",
     "text": [
      "Result: True\n",
      "\n",
      "\n",
      "Test: 46\n",
      "Params: {'in_channels': 1, 'out_channels': 3, 'kernel_size': (6, 5), 'padding': (8, 3), 'stride': (1, 2), 'dilation': (3, 4), 'groups': 1, 'in_batches': 5, 'in_h': 8, 'in_w': 31}\n"
     ]
    },
    {
     "name": "stderr",
     "output_type": "stream",
     "text": [
      "\r",
      " 24%|█████████▊                                | 47/200 [04:37<06:56,  2.72s/it]"
     ]
    },
    {
     "name": "stdout",
     "output_type": "stream",
     "text": [
      "Result: True\n",
      "\n",
      "\n",
      "Test: 47\n",
      "Params: {'in_channels': 3, 'out_channels': 20, 'kernel_size': (5, 13), 'padding': (2, 3), 'stride': (3, 3), 'dilation': (3, 2), 'groups': 1, 'in_batches': 1, 'in_h': 24, 'in_w': 31}\n"
     ]
    },
    {
     "name": "stderr",
     "output_type": "stream",
     "text": [
      "\r",
      " 24%|██████████                                | 48/200 [04:40<07:08,  2.82s/it]"
     ]
    },
    {
     "name": "stdout",
     "output_type": "stream",
     "text": [
      "Result: True\n",
      "\n",
      "\n",
      "Test: 48\n",
      "Params: {'in_channels': 5, 'out_channels': 10, 'kernel_size': (5, 4), 'padding': (6, 5), 'stride': (4, 4), 'dilation': (5, 8), 'groups': 5, 'in_batches': 2, 'in_h': 9, 'in_w': 33}\n"
     ]
    },
    {
     "name": "stderr",
     "output_type": "stream",
     "text": [
      "\r",
      " 24%|██████████▎                               | 49/200 [04:40<05:11,  2.06s/it]"
     ]
    },
    {
     "name": "stdout",
     "output_type": "stream",
     "text": [
      "Result: True\n",
      "\n",
      "\n",
      "Test: 49\n",
      "Params: {'in_channels': 7, 'out_channels': 2, 'kernel_size': (15, 9), 'padding': (4, 9), 'stride': (4, 3), 'dilation': (2, 5), 'groups': 1, 'in_batches': 4, 'in_h': 33, 'in_w': 30}\n"
     ]
    },
    {
     "name": "stderr",
     "output_type": "stream",
     "text": [
      " 26%|██████████▋                               | 51/200 [04:45<04:48,  1.93s/it]"
     ]
    },
    {
     "name": "stdout",
     "output_type": "stream",
     "text": [
      "Result: True\n",
      "\n",
      "\n",
      "Test: 50\n",
      "Params: {'in_channels': 2, 'out_channels': 6, 'kernel_size': (1, 7), 'padding': (2, 4), 'stride': (1, 3), 'dilation': (3, 4), 'groups': 2, 'in_batches': 1, 'in_h': 16, 'in_w': 32}\n",
      "Result: True\n",
      "\n",
      "\n",
      "Test: 51\n",
      "Params: {'in_channels': 3, 'out_channels': 16, 'kernel_size': (8, 1), 'padding': (10, 2), 'stride': (2, 3), 'dilation': (4, 5), 'groups': 1, 'in_batches': 2, 'in_h': 10, 'in_w': 25}\n"
     ]
    },
    {
     "name": "stderr",
     "output_type": "stream",
     "text": [
      "\r",
      " 26%|██████████▉                               | 52/200 [04:45<03:28,  1.41s/it]"
     ]
    },
    {
     "name": "stdout",
     "output_type": "stream",
     "text": [
      "Result: True\n",
      "\n",
      "\n",
      "Test: 52\n",
      "Params: {'in_channels': 8, 'out_channels': 4, 'kernel_size': (1, 3), 'padding': (1, 8), 'stride': (4, 3), 'dilation': (5, 2), 'groups': 2, 'in_batches': 1, 'in_h': 26, 'in_w': 5}\n",
      "Result: True\n",
      "\n",
      "\n",
      "Test: 53\n",
      "Params: {'in_channels': 5, 'out_channels': 20, 'kernel_size': (12, 1), 'padding': (9, 9), 'stride': (2, 3), 'dilation': (2, 7), 'groups': 5, 'in_batches': 5, 'in_h': 12, 'in_w': 30}\n"
     ]
    },
    {
     "name": "stderr",
     "output_type": "stream",
     "text": [
      "\r",
      " 27%|███████████▎                              | 54/200 [04:46<02:20,  1.04it/s]"
     ]
    },
    {
     "name": "stdout",
     "output_type": "stream",
     "text": [
      "Result: True\n",
      "\n",
      "\n",
      "Test: 54\n",
      "Params: {'in_channels': 12, 'out_channels': 4, 'kernel_size': (6, 2), 'padding': (9, 4), 'stride': (4, 1), 'dilation': (4, 10), 'groups': 2, 'in_batches': 2, 'in_h': 33, 'in_w': 5}\n"
     ]
    },
    {
     "name": "stderr",
     "output_type": "stream",
     "text": [
      "\r",
      " 28%|███████████▌                              | 55/200 [04:47<02:36,  1.08s/it]"
     ]
    },
    {
     "name": "stdout",
     "output_type": "stream",
     "text": [
      "Result: True\n",
      "\n",
      "\n",
      "Test: 55\n",
      "Params: {'in_channels': 1, 'out_channels': 7, 'kernel_size': (4, 1), 'padding': (5, 7), 'stride': (3, 3), 'dilation': (6, 5), 'groups': 1, 'in_batches': 4, 'in_h': 33, 'in_w': 21}\n"
     ]
    },
    {
     "name": "stderr",
     "output_type": "stream",
     "text": [
      "\r",
      " 28%|███████████▊                              | 56/200 [04:48<02:08,  1.12it/s]"
     ]
    },
    {
     "name": "stdout",
     "output_type": "stream",
     "text": [
      "Result: True\n",
      "\n",
      "\n",
      "Test: 56\n",
      "Params: {'in_channels': 4, 'out_channels': 8, 'kernel_size': (4, 6), 'padding': (8, 8), 'stride': (4, 5), 'dilation': (2, 1), 'groups': 2, 'in_batches': 5, 'in_h': 12, 'in_w': 8}\n"
     ]
    },
    {
     "name": "stderr",
     "output_type": "stream",
     "text": [
      "\r",
      " 28%|███████████▉                              | 57/200 [04:48<01:50,  1.30it/s]"
     ]
    },
    {
     "name": "stdout",
     "output_type": "stream",
     "text": [
      "Result: True\n",
      "\n",
      "\n",
      "Test: 57\n",
      "Params: {'in_channels': 4, 'out_channels': 6, 'kernel_size': (1, 2), 'padding': (8, 9), 'stride': (1, 1), 'dilation': (10, 10), 'groups': 2, 'in_batches': 2, 'in_h': 33, 'in_w': 21}\n"
     ]
    },
    {
     "name": "stderr",
     "output_type": "stream",
     "text": [
      "\r",
      " 29%|████████████▏                             | 58/200 [04:50<02:41,  1.13s/it]"
     ]
    },
    {
     "name": "stdout",
     "output_type": "stream",
     "text": [
      "Result: True\n",
      "\n",
      "\n",
      "Test: 58\n",
      "Params: {'in_channels': 6, 'out_channels': 11, 'kernel_size': (6, 3), 'padding': (5, 9), 'stride': (3, 1), 'dilation': (1, 7), 'groups': 1, 'in_batches': 5, 'in_h': 21, 'in_w': 10}\n"
     ]
    },
    {
     "name": "stderr",
     "output_type": "stream",
     "text": [
      "\r",
      " 30%|████████████▍                             | 59/200 [05:11<15:53,  6.76s/it]"
     ]
    },
    {
     "name": "stdout",
     "output_type": "stream",
     "text": [
      "Result: True\n",
      "\n",
      "\n",
      "Test: 59\n",
      "Params: {'in_channels': 15, 'out_channels': 12, 'kernel_size': (3, 5), 'padding': (9, 7), 'stride': (2, 2), 'dilation': (8, 8), 'groups': 1, 'in_batches': 3, 'in_h': 19, 'in_w': 33}\n"
     ]
    },
    {
     "name": "stderr",
     "output_type": "stream",
     "text": [
      "\r",
      " 30%|████████████                            | 60/200 [07:57<2:03:16, 52.83s/it]"
     ]
    },
    {
     "name": "stdout",
     "output_type": "stream",
     "text": [
      "Result: True\n",
      "\n",
      "\n",
      "Test: 60\n",
      "Params: {'in_channels': 8, 'out_channels': 18, 'kernel_size': (8, 2), 'padding': (3, 7), 'stride': (2, 4), 'dilation': (2, 4), 'groups': 2, 'in_batches': 2, 'in_h': 14, 'in_w': 20}\n"
     ]
    },
    {
     "name": "stderr",
     "output_type": "stream",
     "text": [
      "\r",
      " 30%|████████████▏                           | 61/200 [07:58<1:27:30, 37.77s/it]"
     ]
    },
    {
     "name": "stdout",
     "output_type": "stream",
     "text": [
      "Result: True\n",
      "\n",
      "\n",
      "Test: 61\n",
      "Params: {'in_channels': 6, 'out_channels': 14, 'kernel_size': (1, 13), 'padding': (3, 10), 'stride': (1, 3), 'dilation': (6, 1), 'groups': 1, 'in_batches': 5, 'in_h': 25, 'in_w': 31}\n"
     ]
    },
    {
     "name": "stderr",
     "output_type": "stream",
     "text": [
      "\r",
      " 31%|████████████▍                           | 62/200 [08:10<1:09:14, 30.11s/it]"
     ]
    },
    {
     "name": "stdout",
     "output_type": "stream",
     "text": [
      "Result: True\n",
      "\n",
      "\n",
      "Test: 62\n",
      "Params: {'in_channels': 1, 'out_channels': 16, 'kernel_size': (1, 2), 'padding': (10, 3), 'stride': (2, 4), 'dilation': (8, 4), 'groups': 1, 'in_batches': 5, 'in_h': 32, 'in_w': 25}\n"
     ]
    },
    {
     "name": "stderr",
     "output_type": "stream",
     "text": [
      "\r",
      " 32%|█████████████▏                            | 63/200 [08:10<48:41, 21.32s/it]"
     ]
    },
    {
     "name": "stdout",
     "output_type": "stream",
     "text": [
      "Result: True\n",
      "\n",
      "\n",
      "Test: 63\n",
      "Params: {'in_channels': 2, 'out_channels': 6, 'kernel_size': (4, 5), 'padding': (2, 4), 'stride': (2, 1), 'dilation': (7, 5), 'groups': 2, 'in_batches': 4, 'in_h': 34, 'in_w': 34}\n"
     ]
    },
    {
     "name": "stderr",
     "output_type": "stream",
     "text": [
      "\r",
      " 32%|█████████████▍                            | 64/200 [08:22<41:55, 18.50s/it]"
     ]
    },
    {
     "name": "stdout",
     "output_type": "stream",
     "text": [
      "Result: True\n",
      "\n",
      "\n",
      "Test: 64\n",
      "Params: {'in_channels': 18, 'out_channels': 5, 'kernel_size': (11, 8), 'padding': (4, 2), 'stride': (3, 4), 'dilation': (1, 2), 'groups': 1, 'in_batches': 3, 'in_h': 7, 'in_w': 22}\n"
     ]
    },
    {
     "name": "stderr",
     "output_type": "stream",
     "text": [
      "\r",
      " 32%|█████████████▋                            | 65/200 [08:24<30:10, 13.41s/it]"
     ]
    },
    {
     "name": "stdout",
     "output_type": "stream",
     "text": [
      "Result: True\n",
      "\n",
      "\n",
      "Test: 65\n",
      "Params: {'in_channels': 12, 'out_channels': 13, 'kernel_size': (4, 13), 'padding': (9, 9), 'stride': (2, 4), 'dilation': (2, 2), 'groups': 1, 'in_batches': 5, 'in_h': 20, 'in_w': 25}\n"
     ]
    },
    {
     "name": "stderr",
     "output_type": "stream",
     "text": [
      "\r",
      " 33%|█████████████▏                          | 66/200 [09:32<1:06:23, 29.73s/it]"
     ]
    },
    {
     "name": "stdout",
     "output_type": "stream",
     "text": [
      "Result: True\n",
      "\n",
      "\n",
      "Test: 66\n",
      "Params: {'in_channels': 4, 'out_channels': 2, 'kernel_size': (14, 7), 'padding': (3, 6), 'stride': (2, 5), 'dilation': (1, 3), 'groups': 1, 'in_batches': 1, 'in_h': 31, 'in_w': 25}\n"
     ]
    },
    {
     "name": "stderr",
     "output_type": "stream",
     "text": [
      "\r",
      " 34%|██████████████                            | 67/200 [09:33<46:45, 21.09s/it]"
     ]
    },
    {
     "name": "stdout",
     "output_type": "stream",
     "text": [
      "Result: True\n",
      "\n",
      "\n",
      "Test: 67\n",
      "Params: {'in_channels': 1, 'out_channels': 15, 'kernel_size': (8, 5), 'padding': (6, 7), 'stride': (4, 2), 'dilation': (3, 3), 'groups': 1, 'in_batches': 3, 'in_h': 25, 'in_w': 11}\n"
     ]
    },
    {
     "name": "stderr",
     "output_type": "stream",
     "text": [
      "\r",
      " 34%|██████████████▎                           | 68/200 [09:35<34:12, 15.55s/it]"
     ]
    },
    {
     "name": "stdout",
     "output_type": "stream",
     "text": [
      "Result: True\n",
      "\n",
      "\n",
      "Test: 68\n",
      "Params: {'in_channels': 4, 'out_channels': 14, 'kernel_size': (16, 2), 'padding': (3, 6), 'stride': (1, 4), 'dilation': (1, 8), 'groups': 1, 'in_batches': 4, 'in_h': 15, 'in_w': 34}\n"
     ]
    },
    {
     "name": "stderr",
     "output_type": "stream",
     "text": [
      "\r",
      " 34%|██████████████▍                           | 69/200 [09:50<33:22, 15.29s/it]"
     ]
    },
    {
     "name": "stdout",
     "output_type": "stream",
     "text": [
      "Result: True\n",
      "\n",
      "\n",
      "Test: 69\n",
      "Params: {'in_channels': 6, 'out_channels': 9, 'kernel_size': (8, 4), 'padding': (2, 7), 'stride': (2, 2), 'dilation': (2, 5), 'groups': 3, 'in_batches': 5, 'in_h': 24, 'in_w': 18}\n"
     ]
    },
    {
     "name": "stderr",
     "output_type": "stream",
     "text": [
      "\r",
      " 35%|██████████████▋                           | 70/200 [10:02<30:55, 14.27s/it]"
     ]
    },
    {
     "name": "stdout",
     "output_type": "stream",
     "text": [
      "Result: True\n",
      "\n",
      "\n",
      "Test: 70\n",
      "Params: {'in_channels': 1, 'out_channels': 17, 'kernel_size': (5, 16), 'padding': (4, 1), 'stride': (3, 1), 'dilation': (8, 1), 'groups': 1, 'in_batches': 2, 'in_h': 25, 'in_w': 26}\n"
     ]
    },
    {
     "name": "stderr",
     "output_type": "stream",
     "text": [
      "\r",
      " 36%|██████████████▉                           | 71/200 [10:04<23:06, 10.75s/it]"
     ]
    },
    {
     "name": "stdout",
     "output_type": "stream",
     "text": [
      "Result: True\n",
      "\n",
      "\n",
      "Test: 71\n",
      "Params: {'in_channels': 2, 'out_channels': 8, 'kernel_size': (3, 1), 'padding': (4, 9), 'stride': (3, 1), 'dilation': (5, 9), 'groups': 2, 'in_batches': 1, 'in_h': 26, 'in_w': 18}\n"
     ]
    },
    {
     "name": "stderr",
     "output_type": "stream",
     "text": [
      "\r",
      " 36%|███████████████                           | 72/200 [10:05<16:17,  7.64s/it]"
     ]
    },
    {
     "name": "stdout",
     "output_type": "stream",
     "text": [
      "Result: True\n",
      "\n",
      "\n",
      "Test: 72\n",
      "Params: {'in_channels': 1, 'out_channels': 16, 'kernel_size': (19, 1), 'padding': (4, 7), 'stride': (2, 5), 'dilation': (1, 5), 'groups': 1, 'in_batches': 4, 'in_h': 16, 'in_w': 14}\n"
     ]
    },
    {
     "name": "stderr",
     "output_type": "stream",
     "text": [
      "\r",
      " 36%|███████████████▎                          | 73/200 [10:05<11:30,  5.43s/it]"
     ]
    },
    {
     "name": "stdout",
     "output_type": "stream",
     "text": [
      "Result: True\n",
      "\n",
      "\n",
      "Test: 73\n",
      "Params: {'in_channels': 7, 'out_channels': 8, 'kernel_size': (20, 14), 'padding': (2, 5), 'stride': (5, 1), 'dilation': (1, 2), 'groups': 1, 'in_batches': 2, 'in_h': 16, 'in_w': 34}\n"
     ]
    },
    {
     "name": "stderr",
     "output_type": "stream",
     "text": [
      "\r",
      " 37%|███████████████▌                          | 74/200 [10:14<13:43,  6.54s/it]"
     ]
    },
    {
     "name": "stdout",
     "output_type": "stream",
     "text": [
      "Result: True\n",
      "\n",
      "\n",
      "Test: 74\n",
      "Params: {'in_channels': 2, 'out_channels': 10, 'kernel_size': (3, 6), 'padding': (8, 9), 'stride': (2, 4), 'dilation': (1, 4), 'groups': 2, 'in_batches': 5, 'in_h': 13, 'in_w': 23}\n"
     ]
    },
    {
     "name": "stderr",
     "output_type": "stream",
     "text": [
      "\r",
      " 38%|███████████████▊                          | 75/200 [10:16<10:46,  5.17s/it]"
     ]
    },
    {
     "name": "stdout",
     "output_type": "stream",
     "text": [
      "Result: True\n",
      "\n",
      "\n",
      "Test: 75\n",
      "Params: {'in_channels': 5, 'out_channels': 10, 'kernel_size': (3, 7), 'padding': (3, 3), 'stride': (4, 2), 'dilation': (7, 5), 'groups': 1, 'in_batches': 1, 'in_h': 9, 'in_w': 27}\n"
     ]
    },
    {
     "name": "stderr",
     "output_type": "stream",
     "text": [
      "\r",
      " 38%|███████████████▉                          | 76/200 [10:17<07:48,  3.78s/it]"
     ]
    },
    {
     "name": "stdout",
     "output_type": "stream",
     "text": [
      "Result: True\n",
      "\n",
      "\n",
      "Test: 76\n",
      "Params: {'in_channels': 14, 'out_channels': 15, 'kernel_size': (2, 2), 'padding': (4, 10), 'stride': (3, 4), 'dilation': (8, 1), 'groups': 1, 'in_batches': 5, 'in_h': 16, 'in_w': 25}\n"
     ]
    },
    {
     "name": "stderr",
     "output_type": "stream",
     "text": [
      " 39%|████████████████▍                         | 78/200 [10:27<08:12,  4.04s/it]"
     ]
    },
    {
     "name": "stdout",
     "output_type": "stream",
     "text": [
      "Result: True\n",
      "\n",
      "\n",
      "Test: 77\n",
      "Params: {'in_channels': 2, 'out_channels': 4, 'kernel_size': (1, 1), 'padding': (3, 10), 'stride': (1, 1), 'dilation': (8, 5), 'groups': 1, 'in_batches': 2, 'in_h': 14, 'in_w': 34}\n",
      "Result: True\n",
      "\n",
      "\n",
      "Test: 78\n",
      "Params: {'in_channels': 1, 'out_channels': 2, 'kernel_size': (18, 4), 'padding': (10, 8), 'stride': (5, 2), 'dilation': (1, 5), 'groups': 1, 'in_batches': 4, 'in_h': 29, 'in_w': 25}\n"
     ]
    },
    {
     "name": "stderr",
     "output_type": "stream",
     "text": [
      "\r",
      " 40%|████████████████▌                         | 79/200 [10:28<06:26,  3.20s/it]"
     ]
    },
    {
     "name": "stdout",
     "output_type": "stream",
     "text": [
      "Result: True\n",
      "\n",
      "\n",
      "Test: 79\n",
      "Params: {'in_channels': 18, 'out_channels': 9, 'kernel_size': (7, 5), 'padding': (6, 4), 'stride': (1, 4), 'dilation': (2, 6), 'groups': 1, 'in_batches': 2, 'in_h': 6, 'in_w': 20}\n"
     ]
    },
    {
     "name": "stderr",
     "output_type": "stream",
     "text": [
      "\r",
      " 40%|████████████████▊                         | 80/200 [10:32<07:07,  3.56s/it]"
     ]
    },
    {
     "name": "stdout",
     "output_type": "stream",
     "text": [
      "Result: True\n",
      "\n",
      "\n",
      "Test: 80\n",
      "Params: {'in_channels': 5, 'out_channels': 10, 'kernel_size': (8, 4), 'padding': (7, 4), 'stride': (3, 2), 'dilation': (2, 5), 'groups': 1, 'in_batches': 2, 'in_h': 32, 'in_w': 30}\n"
     ]
    },
    {
     "name": "stderr",
     "output_type": "stream",
     "text": [
      "\r",
      " 40%|█████████████████                         | 81/200 [10:51<16:09,  8.15s/it]"
     ]
    },
    {
     "name": "stdout",
     "output_type": "stream",
     "text": [
      "Result: True\n",
      "\n",
      "\n",
      "Test: 81\n",
      "Params: {'in_channels': 16, 'out_channels': 2, 'kernel_size': (5, 12), 'padding': (4, 4), 'stride': (2, 3), 'dilation': (1, 2), 'groups': 2, 'in_batches': 3, 'in_h': 14, 'in_w': 30}\n"
     ]
    },
    {
     "name": "stderr",
     "output_type": "stream",
     "text": [
      "\r",
      " 41%|█████████████████▏                        | 82/200 [10:53<12:22,  6.29s/it]"
     ]
    },
    {
     "name": "stdout",
     "output_type": "stream",
     "text": [
      "Result: True\n",
      "\n",
      "\n",
      "Test: 82\n",
      "Params: {'in_channels': 6, 'out_channels': 5, 'kernel_size': (1, 10), 'padding': (6, 6), 'stride': (3, 4), 'dilation': (9, 1), 'groups': 1, 'in_batches': 3, 'in_h': 10, 'in_w': 30}\n"
     ]
    },
    {
     "name": "stderr",
     "output_type": "stream",
     "text": [
      "\r",
      " 42%|█████████████████▍                        | 83/200 [10:54<08:49,  4.52s/it]"
     ]
    },
    {
     "name": "stdout",
     "output_type": "stream",
     "text": [
      "Result: True\n",
      "\n",
      "\n",
      "Test: 83\n",
      "Params: {'in_channels': 2, 'out_channels': 14, 'kernel_size': (3, 2), 'padding': (1, 4), 'stride': (5, 1), 'dilation': (7, 9), 'groups': 1, 'in_batches': 2, 'in_h': 25, 'in_w': 14}\n"
     ]
    },
    {
     "name": "stderr",
     "output_type": "stream",
     "text": [
      "\r",
      " 42%|█████████████████▋                        | 84/200 [10:56<07:12,  3.73s/it]"
     ]
    },
    {
     "name": "stdout",
     "output_type": "stream",
     "text": [
      "Result: True\n",
      "\n",
      "\n",
      "Test: 84\n",
      "Params: {'in_channels': 1, 'out_channels': 12, 'kernel_size': (16, 9), 'padding': (8, 9), 'stride': (3, 2), 'dilation': (2, 2), 'groups': 1, 'in_batches': 5, 'in_h': 21, 'in_w': 25}\n"
     ]
    },
    {
     "name": "stderr",
     "output_type": "stream",
     "text": [
      "\r",
      " 42%|█████████████████▊                        | 85/200 [11:03<09:13,  4.81s/it]"
     ]
    },
    {
     "name": "stdout",
     "output_type": "stream",
     "text": [
      "Result: True\n",
      "\n",
      "\n",
      "Test: 85\n",
      "Params: {'in_channels': 8, 'out_channels': 14, 'kernel_size': (5, 11), 'padding': (9, 10), 'stride': (5, 2), 'dilation': (2, 4), 'groups': 1, 'in_batches': 5, 'in_h': 9, 'in_w': 33}\n"
     ]
    },
    {
     "name": "stderr",
     "output_type": "stream",
     "text": [
      "\r",
      " 43%|██████████████████                        | 86/200 [11:46<31:02, 16.33s/it]"
     ]
    },
    {
     "name": "stdout",
     "output_type": "stream",
     "text": [
      "Result: True\n",
      "\n",
      "\n",
      "Test: 86\n",
      "Params: {'in_channels': 2, 'out_channels': 16, 'kernel_size': (13, 3), 'padding': (3, 4), 'stride': (3, 2), 'dilation': (2, 2), 'groups': 2, 'in_batches': 1, 'in_h': 28, 'in_w': 9}\n"
     ]
    },
    {
     "name": "stderr",
     "output_type": "stream",
     "text": [
      "\r",
      " 44%|██████████████████▎                       | 87/200 [11:47<21:55, 11.64s/it]"
     ]
    },
    {
     "name": "stdout",
     "output_type": "stream",
     "text": [
      "Result: True\n",
      "\n",
      "\n",
      "Test: 87\n",
      "Params: {'in_channels': 13, 'out_channels': 15, 'kernel_size': (4, 3), 'padding': (3, 9), 'stride': (2, 4), 'dilation': (3, 2), 'groups': 1, 'in_batches': 3, 'in_h': 23, 'in_w': 27}\n"
     ]
    },
    {
     "name": "stderr",
     "output_type": "stream",
     "text": [
      "\r",
      " 44%|██████████████████▍                       | 88/200 [12:08<27:10, 14.56s/it]"
     ]
    },
    {
     "name": "stdout",
     "output_type": "stream",
     "text": [
      "Result: True\n",
      "\n",
      "\n",
      "Test: 88\n",
      "Params: {'in_channels': 12, 'out_channels': 18, 'kernel_size': (1, 19), 'padding': (6, 7), 'stride': (1, 3), 'dilation': (1, 1), 'groups': 3, 'in_batches': 3, 'in_h': 33, 'in_w': 20}\n"
     ]
    },
    {
     "name": "stderr",
     "output_type": "stream",
     "text": [
      "\r",
      " 44%|██████████████████▋                       | 89/200 [12:14<22:20, 12.07s/it]"
     ]
    },
    {
     "name": "stdout",
     "output_type": "stream",
     "text": [
      "Result: True\n",
      "\n",
      "\n",
      "Test: 89\n",
      "Params: {'in_channels': 3, 'out_channels': 3, 'kernel_size': (1, 8), 'padding': (3, 9), 'stride': (3, 3), 'dilation': (1, 4), 'groups': 1, 'in_batches': 1, 'in_h': 29, 'in_w': 11}\n",
      "Result: True\n",
      "\n",
      "\n",
      "Test: 90\n",
      "Params: {'in_channels': 2, 'out_channels': 16, 'kernel_size': (5, 6), 'padding': (5, 8), 'stride': (2, 3), 'dilation': (9, 5), 'groups': 2, 'in_batches': 1, 'in_h': 31, 'in_w': 18}\n"
     ]
    },
    {
     "name": "stderr",
     "output_type": "stream",
     "text": [
      "\r",
      " 46%|███████████████████                       | 91/200 [12:15<12:09,  6.69s/it]"
     ]
    },
    {
     "name": "stdout",
     "output_type": "stream",
     "text": [
      "Result: True\n",
      "\n",
      "\n",
      "Test: 91\n",
      "Params: {'in_channels': 9, 'out_channels': 3, 'kernel_size': (10, 6), 'padding': (3, 7), 'stride': (5, 1), 'dilation': (3, 5), 'groups': 3, 'in_batches': 1, 'in_h': 34, 'in_w': 14}\n"
     ]
    },
    {
     "name": "stderr",
     "output_type": "stream",
     "text": [
      "\r",
      " 46%|███████████████████▎                      | 92/200 [12:16<09:13,  5.12s/it]"
     ]
    },
    {
     "name": "stdout",
     "output_type": "stream",
     "text": [
      "Result: True\n",
      "\n",
      "\n",
      "Test: 92\n",
      "Params: {'in_channels': 2, 'out_channels': 2, 'kernel_size': (4, 13), 'padding': (10, 5), 'stride': (1, 2), 'dilation': (3, 3), 'groups': 1, 'in_batches': 2, 'in_h': 29, 'in_w': 33}\n"
     ]
    },
    {
     "name": "stderr",
     "output_type": "stream",
     "text": [
      "\r",
      " 46%|███████████████████▌                      | 93/200 [12:18<07:59,  4.48s/it]"
     ]
    },
    {
     "name": "stdout",
     "output_type": "stream",
     "text": [
      "Result: True\n",
      "\n",
      "\n",
      "Test: 93\n",
      "Params: {'in_channels': 5, 'out_channels': 7, 'kernel_size': (6, 6), 'padding': (7, 5), 'stride': (5, 5), 'dilation': (4, 6), 'groups': 1, 'in_batches': 2, 'in_h': 29, 'in_w': 33}\n"
     ]
    },
    {
     "name": "stderr",
     "output_type": "stream",
     "text": [
      "\r",
      " 47%|███████████████████▋                      | 94/200 [12:22<07:35,  4.30s/it]"
     ]
    },
    {
     "name": "stdout",
     "output_type": "stream",
     "text": [
      "Result: True\n",
      "\n",
      "\n",
      "Test: 94\n",
      "Params: {'in_channels': 6, 'out_channels': 9, 'kernel_size': (8, 10), 'padding': (9, 4), 'stride': (4, 5), 'dilation': (1, 3), 'groups': 3, 'in_batches': 3, 'in_h': 18, 'in_w': 22}\n"
     ]
    },
    {
     "name": "stderr",
     "output_type": "stream",
     "text": [
      "\r",
      " 48%|███████████████████▉                      | 95/200 [12:23<05:41,  3.25s/it]"
     ]
    },
    {
     "name": "stdout",
     "output_type": "stream",
     "text": [
      "Result: True\n",
      "\n",
      "\n",
      "Test: 95\n",
      "Params: {'in_channels': 6, 'out_channels': 5, 'kernel_size': (7, 4), 'padding': (5, 2), 'stride': (1, 2), 'dilation': (6, 1), 'groups': 1, 'in_batches': 2, 'in_h': 29, 'in_w': 10}\n"
     ]
    },
    {
     "name": "stderr",
     "output_type": "stream",
     "text": [
      "\r",
      " 48%|████████████████████▏                     | 96/200 [12:24<04:28,  2.58s/it]"
     ]
    },
    {
     "name": "stdout",
     "output_type": "stream",
     "text": [
      "Result: True\n",
      "\n",
      "\n",
      "Test: 96\n",
      "Params: {'in_channels': 5, 'out_channels': 5, 'kernel_size': (3, 1), 'padding': (7, 5), 'stride': (5, 3), 'dilation': (8, 4), 'groups': 1, 'in_batches': 1, 'in_h': 8, 'in_w': 17}\n",
      "Result: True\n",
      "\n",
      "\n",
      "Test: 97\n",
      "Params: {'in_channels': 15, 'out_channels': 3, 'kernel_size': (16, 17), 'padding': (7, 8), 'stride': (5, 3), 'dilation': (1, 2), 'groups': 3, 'in_batches': 4, 'in_h': 22, 'in_w': 25}\n"
     ]
    },
    {
     "name": "stderr",
     "output_type": "stream",
     "text": [
      " 50%|████████████████████▊                     | 99/200 [12:26<02:38,  1.57s/it]"
     ]
    },
    {
     "name": "stdout",
     "output_type": "stream",
     "text": [
      "Result: True\n",
      "\n",
      "\n",
      "Test: 98\n",
      "Params: {'in_channels': 1, 'out_channels': 2, 'kernel_size': (3, 6), 'padding': (4, 1), 'stride': (3, 1), 'dilation': (3, 1), 'groups': 1, 'in_batches': 4, 'in_h': 9, 'in_w': 19}\n",
      "Result: True\n",
      "\n",
      "\n",
      "Test: 99\n",
      "Params: {'in_channels': 12, 'out_channels': 18, 'kernel_size': (2, 4), 'padding': (8, 10), 'stride': (2, 1), 'dilation': (3, 2), 'groups': 3, 'in_batches': 4, 'in_h': 25, 'in_w': 26}\n"
     ]
    },
    {
     "name": "stderr",
     "output_type": "stream",
     "text": [
      "\r",
      " 50%|████████████████████▌                    | 100/200 [13:06<19:08, 11.48s/it]"
     ]
    },
    {
     "name": "stdout",
     "output_type": "stream",
     "text": [
      "Result: True\n",
      "\n",
      "\n",
      "Test: 100\n",
      "Params: {'in_channels': 5, 'out_channels': 7, 'kernel_size': (4, 9), 'padding': (2, 8), 'stride': (3, 2), 'dilation': (6, 1), 'groups': 1, 'in_batches': 3, 'in_h': 34, 'in_w': 10}\n"
     ]
    },
    {
     "name": "stderr",
     "output_type": "stream",
     "text": [
      "\r",
      " 50%|████████████████████▋                    | 101/200 [13:19<19:19, 11.71s/it]"
     ]
    },
    {
     "name": "stdout",
     "output_type": "stream",
     "text": [
      "Result: True\n",
      "\n",
      "\n",
      "Test: 101\n",
      "Params: {'in_channels': 6, 'out_channels': 15, 'kernel_size': (5, 12), 'padding': (3, 8), 'stride': (3, 2), 'dilation': (7, 1), 'groups': 1, 'in_batches': 4, 'in_h': 25, 'in_w': 14}\n"
     ]
    },
    {
     "name": "stderr",
     "output_type": "stream",
     "text": [
      "\r",
      " 51%|████████████████████▉                    | 102/200 [13:26<17:16, 10.57s/it]"
     ]
    },
    {
     "name": "stdout",
     "output_type": "stream",
     "text": [
      "Result: True\n",
      "\n",
      "\n",
      "Test: 102\n",
      "Params: {'in_channels': 2, 'out_channels': 17, 'kernel_size': (7, 4), 'padding': (6, 3), 'stride': (5, 4), 'dilation': (3, 8), 'groups': 1, 'in_batches': 1, 'in_h': 7, 'in_w': 33}\n"
     ]
    },
    {
     "name": "stderr",
     "output_type": "stream",
     "text": [
      "\r",
      " 52%|█████████████████████                    | 103/200 [13:27<12:25,  7.68s/it]"
     ]
    },
    {
     "name": "stdout",
     "output_type": "stream",
     "text": [
      "Result: True\n",
      "\n",
      "\n",
      "Test: 103\n",
      "Params: {'in_channels': 7, 'out_channels': 15, 'kernel_size': (1, 3), 'padding': (6, 10), 'stride': (5, 5), 'dilation': (6, 4), 'groups': 1, 'in_batches': 2, 'in_h': 20, 'in_w': 30}\n"
     ]
    },
    {
     "name": "stderr",
     "output_type": "stream",
     "text": [
      "\r",
      " 52%|█████████████████████▎                   | 104/200 [13:28<09:06,  5.69s/it]"
     ]
    },
    {
     "name": "stdout",
     "output_type": "stream",
     "text": [
      "Result: True\n",
      "\n",
      "\n",
      "Test: 104\n",
      "Params: {'in_channels': 1, 'out_channels': 5, 'kernel_size': (4, 3), 'padding': (3, 9), 'stride': (4, 3), 'dilation': (3, 9), 'groups': 1, 'in_batches': 4, 'in_h': 27, 'in_w': 34}\n"
     ]
    },
    {
     "name": "stderr",
     "output_type": "stream",
     "text": [
      "\r",
      " 52%|█████████████████████▌                   | 105/200 [13:29<07:07,  4.50s/it]"
     ]
    },
    {
     "name": "stdout",
     "output_type": "stream",
     "text": [
      "Result: True\n",
      "\n",
      "\n",
      "Test: 105\n",
      "Params: {'in_channels': 3, 'out_channels': 7, 'kernel_size': (2, 6), 'padding': (2, 5), 'stride': (4, 1), 'dilation': (4, 4), 'groups': 1, 'in_batches': 3, 'in_h': 21, 'in_w': 34}\n"
     ]
    },
    {
     "name": "stderr",
     "output_type": "stream",
     "text": [
      "\r",
      " 53%|█████████████████████▋                   | 106/200 [13:35<07:42,  4.92s/it]"
     ]
    },
    {
     "name": "stdout",
     "output_type": "stream",
     "text": [
      "Result: True\n",
      "\n",
      "\n",
      "Test: 106\n",
      "Params: {'in_channels': 2, 'out_channels': 1, 'kernel_size': (6, 6), 'padding': (7, 3), 'stride': (3, 1), 'dilation': (3, 1), 'groups': 1, 'in_batches': 1, 'in_h': 30, 'in_w': 15}\n"
     ]
    },
    {
     "name": "stderr",
     "output_type": "stream",
     "text": [
      "\r",
      " 54%|█████████████████████▉                   | 107/200 [13:35<05:28,  3.53s/it]"
     ]
    },
    {
     "name": "stdout",
     "output_type": "stream",
     "text": [
      "Result: True\n",
      "\n",
      "\n",
      "Test: 107\n",
      "Params: {'in_channels': 3, 'out_channels': 10, 'kernel_size': (3, 20), 'padding': (1, 3), 'stride': (4, 3), 'dilation': (5, 1), 'groups': 1, 'in_batches': 5, 'in_h': 32, 'in_w': 19}\n"
     ]
    },
    {
     "name": "stderr",
     "output_type": "stream",
     "text": [
      "\r",
      " 54%|██████████████████████▏                  | 108/200 [13:38<04:58,  3.24s/it]"
     ]
    },
    {
     "name": "stdout",
     "output_type": "stream",
     "text": [
      "Result: True\n",
      "\n",
      "\n",
      "Test: 108\n",
      "Params: {'in_channels': 1, 'out_channels': 16, 'kernel_size': (9, 4), 'padding': (9, 4), 'stride': (5, 2), 'dilation': (3, 1), 'groups': 1, 'in_batches': 5, 'in_h': 28, 'in_w': 26}\n"
     ]
    },
    {
     "name": "stderr",
     "output_type": "stream",
     "text": [
      "\r",
      " 55%|██████████████████████▎                  | 109/200 [13:42<05:20,  3.52s/it]"
     ]
    },
    {
     "name": "stdout",
     "output_type": "stream",
     "text": [
      "Result: True\n",
      "\n",
      "\n",
      "Test: 109\n",
      "Params: {'in_channels': 12, 'out_channels': 16, 'kernel_size': (6, 7), 'padding': (5, 7), 'stride': (4, 2), 'dilation': (4, 2), 'groups': 1, 'in_batches': 4, 'in_h': 22, 'in_w': 19}\n"
     ]
    },
    {
     "name": "stderr",
     "output_type": "stream",
     "text": [
      "\r",
      " 55%|██████████████████████▌                  | 110/200 [14:34<26:54, 17.94s/it]"
     ]
    },
    {
     "name": "stdout",
     "output_type": "stream",
     "text": [
      "Result: True\n",
      "\n",
      "\n",
      "Test: 110\n",
      "Params: {'in_channels': 1, 'out_channels': 17, 'kernel_size': (4, 7), 'padding': (3, 7), 'stride': (3, 1), 'dilation': (2, 1), 'groups': 1, 'in_batches': 3, 'in_h': 12, 'in_w': 22}\n"
     ]
    },
    {
     "name": "stderr",
     "output_type": "stream",
     "text": [
      " 56%|██████████████████████▉                  | 112/200 [14:36<13:29,  9.20s/it]"
     ]
    },
    {
     "name": "stdout",
     "output_type": "stream",
     "text": [
      "Result: True\n",
      "\n",
      "\n",
      "Test: 111\n",
      "Params: {'in_channels': 3, 'out_channels': 6, 'kernel_size': (2, 11), 'padding': (6, 9), 'stride': (1, 5), 'dilation': (1, 2), 'groups': 3, 'in_batches': 2, 'in_h': 17, 'in_w': 11}\n",
      "Result: True\n",
      "\n",
      "\n",
      "Test: 112\n",
      "Params: {'in_channels': 11, 'out_channels': 8, 'kernel_size': (5, 12), 'padding': (10, 6), 'stride': (2, 5), 'dilation': (10, 1), 'groups': 1, 'in_batches': 4, 'in_h': 23, 'in_w': 29}\n"
     ]
    },
    {
     "name": "stderr",
     "output_type": "stream",
     "text": [
      "\r",
      " 56%|███████████████████████▏                 | 113/200 [14:47<14:20,  9.89s/it]"
     ]
    },
    {
     "name": "stdout",
     "output_type": "stream",
     "text": [
      "Result: True\n",
      "\n",
      "\n",
      "Test: 113\n",
      "Params: {'in_channels': 2, 'out_channels': 10, 'kernel_size': (19, 7), 'padding': (5, 8), 'stride': (3, 3), 'dilation': (1, 1), 'groups': 1, 'in_batches': 3, 'in_h': 20, 'in_w': 10}\n"
     ]
    },
    {
     "name": "stderr",
     "output_type": "stream",
     "text": [
      "\r",
      " 57%|███████████████████████▎                 | 114/200 [14:49<10:31,  7.34s/it]"
     ]
    },
    {
     "name": "stdout",
     "output_type": "stream",
     "text": [
      "Result: True\n",
      "\n",
      "\n",
      "Test: 114\n",
      "Params: {'in_channels': 4, 'out_channels': 2, 'kernel_size': (3, 13), 'padding': (5, 7), 'stride': (1, 3), 'dilation': (9, 1), 'groups': 1, 'in_batches': 4, 'in_h': 30, 'in_w': 17}\n"
     ]
    },
    {
     "name": "stderr",
     "output_type": "stream",
     "text": [
      "\r",
      " 57%|███████████████████████▌                 | 115/200 [14:56<10:23,  7.34s/it]"
     ]
    },
    {
     "name": "stdout",
     "output_type": "stream",
     "text": [
      "Result: True\n",
      "\n",
      "\n",
      "Test: 115\n",
      "Params: {'in_channels': 1, 'out_channels': 10, 'kernel_size': (2, 4), 'padding': (1, 5), 'stride': (3, 5), 'dilation': (7, 6), 'groups': 1, 'in_batches': 1, 'in_h': 6, 'in_w': 34}\n",
      "Result: True\n",
      "\n",
      "\n",
      "Test: 116\n",
      "Params: {'in_channels': 16, 'out_channels': 14, 'kernel_size': (2, 11), 'padding': (6, 7), 'stride': (2, 4), 'dilation': (10, 1), 'groups': 2, 'in_batches': 5, 'in_h': 6, 'in_w': 15}\n"
     ]
    },
    {
     "name": "stderr",
     "output_type": "stream",
     "text": [
      "\r",
      " 58%|███████████████████████▉                 | 117/200 [15:04<07:59,  5.78s/it]"
     ]
    },
    {
     "name": "stdout",
     "output_type": "stream",
     "text": [
      "Result: True\n",
      "\n",
      "\n",
      "Test: 117\n",
      "Params: {'in_channels': 12, 'out_channels': 18, 'kernel_size': (7, 4), 'padding': (9, 3), 'stride': (1, 5), 'dilation': (1, 8), 'groups': 1, 'in_batches': 3, 'in_h': 31, 'in_w': 23}\n"
     ]
    },
    {
     "name": "stderr",
     "output_type": "stream",
     "text": [
      "\r",
      " 59%|████████████████████████▏                | 118/200 [15:31<15:15, 11.17s/it]"
     ]
    },
    {
     "name": "stdout",
     "output_type": "stream",
     "text": [
      "Result: True\n",
      "\n",
      "\n",
      "Test: 118\n",
      "Params: {'in_channels': 2, 'out_channels': 16, 'kernel_size': (3, 4), 'padding': (5, 6), 'stride': (3, 5), 'dilation': (8, 4), 'groups': 1, 'in_batches': 3, 'in_h': 13, 'in_w': 23}\n"
     ]
    },
    {
     "name": "stderr",
     "output_type": "stream",
     "text": [
      "\r",
      " 60%|████████████████████████▍                | 119/200 [15:33<11:45,  8.71s/it]"
     ]
    },
    {
     "name": "stdout",
     "output_type": "stream",
     "text": [
      "Result: True\n",
      "\n",
      "\n",
      "Test: 119\n",
      "Params: {'in_channels': 2, 'out_channels': 10, 'kernel_size': (1, 1), 'padding': (1, 5), 'stride': (3, 4), 'dilation': (4, 10), 'groups': 2, 'in_batches': 1, 'in_h': 28, 'in_w': 20}\n",
      "Result: True\n",
      "\n",
      "\n",
      "Test: 120\n",
      "Params: {'in_channels': 1, 'out_channels': 5, 'kernel_size': (13, 3), 'padding': (1, 9), 'stride': (5, 3), 'dilation': (1, 4), 'groups': 1, 'in_batches': 3, 'in_h': 21, 'in_w': 32}\n"
     ]
    },
    {
     "name": "stderr",
     "output_type": "stream",
     "text": [
      "\r",
      " 60%|████████████████████████▊                | 121/200 [15:34<06:41,  5.08s/it]"
     ]
    },
    {
     "name": "stdout",
     "output_type": "stream",
     "text": [
      "Result: True\n",
      "\n",
      "\n",
      "Test: 121\n",
      "Params: {'in_channels': 2, 'out_channels': 19, 'kernel_size': (12, 15), 'padding': (9, 8), 'stride': (2, 3), 'dilation': (1, 3), 'groups': 1, 'in_batches': 4, 'in_h': 16, 'in_w': 33}\n"
     ]
    },
    {
     "name": "stderr",
     "output_type": "stream",
     "text": [
      "\r",
      " 61%|█████████████████████████                | 122/200 [15:50<10:09,  7.82s/it]"
     ]
    },
    {
     "name": "stdout",
     "output_type": "stream",
     "text": [
      "Result: True\n",
      "\n",
      "\n",
      "Test: 122\n",
      "Params: {'in_channels': 6, 'out_channels': 14, 'kernel_size': (4, 10), 'padding': (3, 10), 'stride': (3, 2), 'dilation': (9, 4), 'groups': 1, 'in_batches': 5, 'in_h': 23, 'in_w': 33}\n"
     ]
    },
    {
     "name": "stderr",
     "output_type": "stream",
     "text": [
      "\r",
      " 62%|█████████████████████████▏               | 123/200 [16:19<16:39, 12.98s/it]"
     ]
    },
    {
     "name": "stdout",
     "output_type": "stream",
     "text": [
      "Result: True\n",
      "\n",
      "\n",
      "Test: 123\n",
      "Params: {'in_channels': 6, 'out_channels': 7, 'kernel_size': (5, 4), 'padding': (3, 6), 'stride': (2, 5), 'dilation': (2, 3), 'groups': 1, 'in_batches': 5, 'in_h': 18, 'in_w': 7}\n"
     ]
    },
    {
     "name": "stderr",
     "output_type": "stream",
     "text": [
      " 62%|█████████████████████████▋               | 125/200 [16:21<09:11,  7.35s/it]"
     ]
    },
    {
     "name": "stdout",
     "output_type": "stream",
     "text": [
      "Result: True\n",
      "\n",
      "\n",
      "Test: 124\n",
      "Params: {'in_channels': 14, 'out_channels': 2, 'kernel_size': (2, 12), 'padding': (2, 10), 'stride': (5, 4), 'dilation': (4, 3), 'groups': 2, 'in_batches': 2, 'in_h': 8, 'in_w': 23}\n",
      "Result: True\n",
      "\n",
      "\n",
      "Test: 125\n",
      "Params: {'in_channels': 1, 'out_channels': 2, 'kernel_size': (3, 4), 'padding': (5, 5), 'stride': (2, 4), 'dilation': (9, 6), 'groups': 1, 'in_batches': 4, 'in_h': 10, 'in_w': 31}\n"
     ]
    },
    {
     "name": "stderr",
     "output_type": "stream",
     "text": [
      "\r",
      " 63%|█████████████████████████▊               | 126/200 [16:21<06:32,  5.31s/it]"
     ]
    },
    {
     "name": "stdout",
     "output_type": "stream",
     "text": [
      "Result: True\n",
      "\n",
      "\n",
      "Test: 126\n",
      "Params: {'in_channels': 1, 'out_channels': 2, 'kernel_size': (10, 3), 'padding': (4, 1), 'stride': (5, 4), 'dilation': (3, 8), 'groups': 1, 'in_batches': 3, 'in_h': 29, 'in_w': 16}\n",
      "Result: True\n",
      "\n",
      "\n",
      "Test: 127\n",
      "Params: {'in_channels': 18, 'out_channels': 6, 'kernel_size': (18, 5), 'padding': (1, 6), 'stride': (2, 3), 'dilation': (1, 5), 'groups': 1, 'in_batches': 5, 'in_h': 32, 'in_w': 30}\n"
     ]
    },
    {
     "name": "stderr",
     "output_type": "stream",
     "text": [
      "\r",
      " 64%|██████████████████████████▏              | 128/200 [18:01<30:09, 25.13s/it]"
     ]
    },
    {
     "name": "stdout",
     "output_type": "stream",
     "text": [
      "Result: True\n",
      "\n",
      "\n",
      "Test: 128\n",
      "Params: {'in_channels': 1, 'out_channels': 2, 'kernel_size': (7, 4), 'padding': (10, 8), 'stride': (3, 3), 'dilation': (4, 4), 'groups': 1, 'in_batches': 5, 'in_h': 34, 'in_w': 16}\n"
     ]
    },
    {
     "name": "stderr",
     "output_type": "stream",
     "text": [
      "\r",
      " 64%|██████████████████████████▍              | 129/200 [18:02<23:03, 19.49s/it]"
     ]
    },
    {
     "name": "stdout",
     "output_type": "stream",
     "text": [
      "Result: True\n",
      "\n",
      "\n",
      "Test: 129\n",
      "Params: {'in_channels': 4, 'out_channels': 4, 'kernel_size': (9, 1), 'padding': (3, 4), 'stride': (1, 4), 'dilation': (1, 6), 'groups': 4, 'in_batches': 2, 'in_h': 6, 'in_w': 8}\n",
      "Result: True\n",
      "\n",
      "\n",
      "Test: 130\n",
      "Params: {'in_channels': 1, 'out_channels': 11, 'kernel_size': (5, 8), 'padding': (9, 4), 'stride': (1, 2), 'dilation': (8, 4), 'groups': 1, 'in_batches': 2, 'in_h': 28, 'in_w': 33}\n"
     ]
    },
    {
     "name": "stderr",
     "output_type": "stream",
     "text": [
      "\r",
      " 66%|██████████████████████████▊              | 131/200 [18:19<17:13, 14.98s/it]"
     ]
    },
    {
     "name": "stdout",
     "output_type": "stream",
     "text": [
      "Result: True\n",
      "\n",
      "\n",
      "Test: 131\n",
      "Params: {'in_channels': 1, 'out_channels': 13, 'kernel_size': (3, 19), 'padding': (6, 9), 'stride': (1, 5), 'dilation': (1, 1), 'groups': 1, 'in_batches': 5, 'in_h': 10, 'in_w': 11}\n"
     ]
    },
    {
     "name": "stderr",
     "output_type": "stream",
     "text": [
      "\r",
      " 66%|███████████████████████████              | 132/200 [18:21<13:39, 12.06s/it]"
     ]
    },
    {
     "name": "stdout",
     "output_type": "stream",
     "text": [
      "Result: True\n",
      "\n",
      "\n",
      "Test: 132\n",
      "Params: {'in_channels': 2, 'out_channels': 18, 'kernel_size': (2, 3), 'padding': (9, 4), 'stride': (1, 1), 'dilation': (9, 1), 'groups': 2, 'in_batches': 4, 'in_h': 11, 'in_w': 13}\n"
     ]
    },
    {
     "name": "stderr",
     "output_type": "stream",
     "text": [
      "\r",
      " 66%|███████████████████████████▎             | 133/200 [18:29<12:16, 10.99s/it]"
     ]
    },
    {
     "name": "stdout",
     "output_type": "stream",
     "text": [
      "Result: True\n",
      "\n",
      "\n",
      "Test: 133\n",
      "Params: {'in_channels': 5, 'out_channels': 12, 'kernel_size': (2, 5), 'padding': (8, 5), 'stride': (1, 3), 'dilation': (9, 9), 'groups': 1, 'in_batches': 5, 'in_h': 20, 'in_w': 30}\n"
     ]
    },
    {
     "name": "stderr",
     "output_type": "stream",
     "text": [
      "\r",
      " 67%|███████████████████████████▍             | 134/200 [19:08<19:59, 18.18s/it]"
     ]
    },
    {
     "name": "stdout",
     "output_type": "stream",
     "text": [
      "Result: True\n",
      "\n",
      "\n",
      "Test: 134\n",
      "Params: {'in_channels': 1, 'out_channels': 4, 'kernel_size': (3, 3), 'padding': (3, 4), 'stride': (3, 2), 'dilation': (8, 1), 'groups': 1, 'in_batches': 3, 'in_h': 13, 'in_w': 32}\n",
      "Result: True\n",
      "\n",
      "\n",
      "Test: 135\n",
      "Params: {'in_channels': 1, 'out_channels': 11, 'kernel_size': (1, 13), 'padding': (9, 5), 'stride': (4, 2), 'dilation': (7, 1), 'groups': 1, 'in_batches': 5, 'in_h': 9, 'in_w': 9}\n"
     ]
    },
    {
     "name": "stderr",
     "output_type": "stream",
     "text": [
      "\r",
      " 68%|███████████████████████████▉             | 136/200 [19:08<11:12, 10.51s/it]"
     ]
    },
    {
     "name": "stdout",
     "output_type": "stream",
     "text": [
      "Result: True\n",
      "\n",
      "\n",
      "Test: 136\n",
      "Params: {'in_channels': 1, 'out_channels': 7, 'kernel_size': (5, 3), 'padding': (4, 3), 'stride': (5, 2), 'dilation': (1, 8), 'groups': 1, 'in_batches': 5, 'in_h': 9, 'in_w': 23}\n"
     ]
    },
    {
     "name": "stderr",
     "output_type": "stream",
     "text": [
      "\r",
      " 68%|████████████████████████████             | 137/200 [19:08<08:34,  8.16s/it]"
     ]
    },
    {
     "name": "stdout",
     "output_type": "stream",
     "text": [
      "Result: True\n",
      "\n",
      "\n",
      "Test: 137\n",
      "Params: {'in_channels': 1, 'out_channels': 18, 'kernel_size': (3, 1), 'padding': (2, 8), 'stride': (2, 5), 'dilation': (2, 5), 'groups': 1, 'in_batches': 2, 'in_h': 7, 'in_w': 34}\n",
      "Result: True\n",
      "\n",
      "\n",
      "Test: 138\n",
      "Params: {'in_channels': 18, 'out_channels': 3, 'kernel_size': (6, 5), 'padding': (1, 10), 'stride': (2, 5), 'dilation': (1, 5), 'groups': 1, 'in_batches': 1, 'in_h': 20, 'in_w': 27}\n"
     ]
    },
    {
     "name": "stderr",
     "output_type": "stream",
     "text": [
      "\r",
      " 70%|████████████████████████████▍            | 139/200 [19:11<05:31,  5.43s/it]"
     ]
    },
    {
     "name": "stdout",
     "output_type": "stream",
     "text": [
      "Result: True\n",
      "\n",
      "\n",
      "Test: 139\n",
      "Params: {'in_channels': 7, 'out_channels': 20, 'kernel_size': (9, 6), 'padding': (8, 10), 'stride': (1, 1), 'dilation': (1, 2), 'groups': 1, 'in_batches': 3, 'in_h': 20, 'in_w': 24}\n"
     ]
    },
    {
     "name": "stderr",
     "output_type": "stream",
     "text": [
      "\r",
      " 70%|███████████████████████████▎           | 140/200 [23:23<1:00:04, 60.07s/it]"
     ]
    },
    {
     "name": "stdout",
     "output_type": "stream",
     "text": [
      "Result: True\n",
      "\n",
      "\n",
      "Test: 140\n",
      "Params: {'in_channels': 6, 'out_channels': 3, 'kernel_size': (3, 2), 'padding': (6, 1), 'stride': (4, 3), 'dilation': (4, 3), 'groups': 3, 'in_batches': 3, 'in_h': 15, 'in_w': 5}\n",
      "Result: True\n",
      "\n",
      "\n",
      "Test: 141\n",
      "Params: {'in_channels': 2, 'out_channels': 20, 'kernel_size': (11, 3), 'padding': (6, 6), 'stride': (5, 1), 'dilation': (1, 10), 'groups': 2, 'in_batches': 1, 'in_h': 8, 'in_w': 19}\n"
     ]
    },
    {
     "name": "stderr",
     "output_type": "stream",
     "text": [
      "\r",
      " 71%|█████████████████████████████            | 142/200 [23:23<35:38, 36.88s/it]"
     ]
    },
    {
     "name": "stdout",
     "output_type": "stream",
     "text": [
      "Result: True\n",
      "\n",
      "\n",
      "Test: 142\n",
      "Params: {'in_channels': 3, 'out_channels': 18, 'kernel_size': (6, 6), 'padding': (6, 6), 'stride': (1, 1), 'dilation': (1, 2), 'groups': 1, 'in_batches': 4, 'in_h': 10, 'in_w': 12}\n"
     ]
    },
    {
     "name": "stderr",
     "output_type": "stream",
     "text": [
      "\r",
      " 72%|█████████████████████████████▎           | 143/200 [23:42<31:13, 32.87s/it]"
     ]
    },
    {
     "name": "stdout",
     "output_type": "stream",
     "text": [
      "Result: True\n",
      "\n",
      "\n",
      "Test: 143\n",
      "Params: {'in_channels': 18, 'out_channels': 18, 'kernel_size': (2, 16), 'padding': (9, 10), 'stride': (3, 5), 'dilation': (3, 1), 'groups': 18, 'in_batches': 5, 'in_h': 16, 'in_w': 27}\n"
     ]
    },
    {
     "name": "stderr",
     "output_type": "stream",
     "text": [
      "\r",
      " 72%|█████████████████████████████▌           | 144/200 [23:44<23:57, 25.67s/it]"
     ]
    },
    {
     "name": "stdout",
     "output_type": "stream",
     "text": [
      "Result: True\n",
      "\n",
      "\n",
      "Test: 144\n",
      "Params: {'in_channels': 10, 'out_channels': 7, 'kernel_size': (9, 8), 'padding': (6, 6), 'stride': (4, 1), 'dilation': (1, 1), 'groups': 1, 'in_batches': 3, 'in_h': 33, 'in_w': 24}\n"
     ]
    },
    {
     "name": "stderr",
     "output_type": "stream",
     "text": [
      "\r",
      " 72%|█████████████████████████████▋           | 145/200 [24:07<22:56, 25.03s/it]"
     ]
    },
    {
     "name": "stdout",
     "output_type": "stream",
     "text": [
      "Result: True\n",
      "\n",
      "\n",
      "Test: 145\n",
      "Params: {'in_channels': 1, 'out_channels': 14, 'kernel_size': (10, 12), 'padding': (3, 9), 'stride': (2, 5), 'dilation': (1, 1), 'groups': 1, 'in_batches': 4, 'in_h': 17, 'in_w': 19}\n"
     ]
    },
    {
     "name": "stderr",
     "output_type": "stream",
     "text": [
      "\r",
      " 73%|█████████████████████████████▉           | 146/200 [24:09<16:55, 18.80s/it]"
     ]
    },
    {
     "name": "stdout",
     "output_type": "stream",
     "text": [
      "Result: True\n",
      "\n",
      "\n",
      "Test: 146\n",
      "Params: {'in_channels': 2, 'out_channels': 1, 'kernel_size': (6, 5), 'padding': (9, 7), 'stride': (2, 4), 'dilation': (3, 2), 'groups': 1, 'in_batches': 1, 'in_h': 27, 'in_w': 30}\n"
     ]
    },
    {
     "name": "stderr",
     "output_type": "stream",
     "text": [
      "\r",
      " 74%|██████████████████████████████▏          | 147/200 [24:09<12:05, 13.69s/it]"
     ]
    },
    {
     "name": "stdout",
     "output_type": "stream",
     "text": [
      "Result: True\n",
      "\n",
      "\n",
      "Test: 147\n",
      "Params: {'in_channels': 1, 'out_channels': 18, 'kernel_size': (12, 3), 'padding': (8, 3), 'stride': (3, 2), 'dilation': (2, 6), 'groups': 1, 'in_batches': 5, 'in_h': 15, 'in_w': 34}\n"
     ]
    },
    {
     "name": "stderr",
     "output_type": "stream",
     "text": [
      "\r",
      " 74%|██████████████████████████████▎          | 148/200 [24:15<10:00, 11.55s/it]"
     ]
    },
    {
     "name": "stdout",
     "output_type": "stream",
     "text": [
      "Result: True\n",
      "\n",
      "\n",
      "Test: 148\n",
      "Params: {'in_channels': 18, 'out_channels': 1, 'kernel_size': (2, 4), 'padding': (3, 7), 'stride': (4, 5), 'dilation': (5, 3), 'groups': 1, 'in_batches': 3, 'in_h': 25, 'in_w': 16}\n"
     ]
    },
    {
     "name": "stderr",
     "output_type": "stream",
     "text": [
      "\r",
      " 74%|██████████████████████████████▌          | 149/200 [24:16<07:08,  8.41s/it]"
     ]
    },
    {
     "name": "stdout",
     "output_type": "stream",
     "text": [
      "Result: True\n",
      "\n",
      "\n",
      "Test: 149\n",
      "Params: {'in_channels': 13, 'out_channels': 13, 'kernel_size': (5, 1), 'padding': (6, 4), 'stride': (5, 5), 'dilation': (2, 6), 'groups': 1, 'in_batches': 5, 'in_h': 27, 'in_w': 34}\n"
     ]
    },
    {
     "name": "stderr",
     "output_type": "stream",
     "text": [
      " 76%|██████████████████████████████▉          | 151/200 [24:19<03:56,  4.82s/it]"
     ]
    },
    {
     "name": "stdout",
     "output_type": "stream",
     "text": [
      "Result: True\n",
      "\n",
      "\n",
      "Test: 150\n",
      "Params: {'in_channels': 2, 'out_channels': 8, 'kernel_size': (7, 2), 'padding': (4, 4), 'stride': (3, 3), 'dilation': (4, 4), 'groups': 2, 'in_batches': 1, 'in_h': 29, 'in_w': 12}\n",
      "Result: True\n",
      "\n",
      "\n",
      "Test: 151\n",
      "Params: {'in_channels': 3, 'out_channels': 18, 'kernel_size': (3, 3), 'padding': (5, 9), 'stride': (5, 1), 'dilation': (10, 9), 'groups': 3, 'in_batches': 4, 'in_h': 27, 'in_w': 27}\n"
     ]
    },
    {
     "name": "stderr",
     "output_type": "stream",
     "text": [
      "\r",
      " 76%|███████████████████████████████▏         | 152/200 [24:35<06:29,  8.11s/it]"
     ]
    },
    {
     "name": "stdout",
     "output_type": "stream",
     "text": [
      "Result: True\n",
      "\n",
      "\n",
      "Test: 152\n",
      "Params: {'in_channels': 17, 'out_channels': 4, 'kernel_size': (6, 1), 'padding': (4, 5), 'stride': (1, 4), 'dilation': (6, 9), 'groups': 1, 'in_batches': 5, 'in_h': 23, 'in_w': 32}\n"
     ]
    },
    {
     "name": "stderr",
     "output_type": "stream",
     "text": [
      "\r",
      " 76%|███████████████████████████████▎         | 153/200 [24:35<04:37,  5.91s/it]"
     ]
    },
    {
     "name": "stdout",
     "output_type": "stream",
     "text": [
      "Result: True\n",
      "\n",
      "\n",
      "Test: 153\n",
      "Params: {'in_channels': 13, 'out_channels': 11, 'kernel_size': (4, 6), 'padding': (9, 9), 'stride': (3, 2), 'dilation': (9, 7), 'groups': 1, 'in_batches': 4, 'in_h': 13, 'in_w': 34}\n"
     ]
    },
    {
     "name": "stderr",
     "output_type": "stream",
     "text": [
      "\r",
      " 77%|███████████████████████████████▌         | 154/200 [25:33<16:28, 21.48s/it]"
     ]
    },
    {
     "name": "stdout",
     "output_type": "stream",
     "text": [
      "Result: True\n",
      "\n",
      "\n",
      "Test: 154\n",
      "Params: {'in_channels': 1, 'out_channels': 19, 'kernel_size': (19, 6), 'padding': (8, 4), 'stride': (5, 5), 'dilation': (1, 5), 'groups': 1, 'in_batches': 2, 'in_h': 32, 'in_w': 18}\n"
     ]
    },
    {
     "name": "stderr",
     "output_type": "stream",
     "text": [
      "\r",
      " 78%|███████████████████████████████▊         | 155/200 [25:34<11:27, 15.27s/it]"
     ]
    },
    {
     "name": "stdout",
     "output_type": "stream",
     "text": [
      "Result: True\n",
      "\n",
      "\n",
      "Test: 155\n",
      "Params: {'in_channels': 2, 'out_channels': 12, 'kernel_size': (4, 3), 'padding': (10, 8), 'stride': (2, 5), 'dilation': (8, 6), 'groups': 2, 'in_batches': 4, 'in_h': 10, 'in_w': 19}\n"
     ]
    },
    {
     "name": "stderr",
     "output_type": "stream",
     "text": [
      "\r",
      " 78%|███████████████████████████████▉         | 156/200 [25:36<08:13, 11.22s/it]"
     ]
    },
    {
     "name": "stdout",
     "output_type": "stream",
     "text": [
      "Result: True\n",
      "\n",
      "\n",
      "Test: 156\n",
      "Params: {'in_channels': 20, 'out_channels': 18, 'kernel_size': (3, 3), 'padding': (7, 4), 'stride': (5, 1), 'dilation': (9, 7), 'groups': 1, 'in_batches': 2, 'in_h': 5, 'in_w': 14}\n"
     ]
    },
    {
     "name": "stderr",
     "output_type": "stream",
     "text": [
      "\r",
      " 78%|████████████████████████████████▏        | 157/200 [25:47<08:04, 11.26s/it]"
     ]
    },
    {
     "name": "stdout",
     "output_type": "stream",
     "text": [
      "Result: True\n",
      "\n",
      "\n",
      "Test: 157\n",
      "Params: {'in_channels': 2, 'out_channels': 9, 'kernel_size': (4, 3), 'padding': (1, 7), 'stride': (1, 1), 'dilation': (5, 3), 'groups': 1, 'in_batches': 5, 'in_h': 22, 'in_w': 5}\n"
     ]
    },
    {
     "name": "stderr",
     "output_type": "stream",
     "text": [
      "\r",
      " 79%|████████████████████████████████▍        | 158/200 [25:56<07:22, 10.53s/it]"
     ]
    },
    {
     "name": "stdout",
     "output_type": "stream",
     "text": [
      "Result: True\n",
      "\n",
      "\n",
      "Test: 158\n",
      "Params: {'in_channels': 19, 'out_channels': 11, 'kernel_size': (12, 3), 'padding': (4, 5), 'stride': (5, 5), 'dilation': (2, 4), 'groups': 1, 'in_batches': 4, 'in_h': 30, 'in_w': 7}\n"
     ]
    },
    {
     "name": "stderr",
     "output_type": "stream",
     "text": [
      "\r",
      " 80%|████████████████████████████████▌        | 159/200 [26:03<06:29,  9.51s/it]"
     ]
    },
    {
     "name": "stdout",
     "output_type": "stream",
     "text": [
      "Result: True\n",
      "\n",
      "\n",
      "Test: 159\n",
      "Params: {'in_channels': 2, 'out_channels': 14, 'kernel_size': (13, 18), 'padding': (1, 3), 'stride': (1, 3), 'dilation': (1, 1), 'groups': 2, 'in_batches': 5, 'in_h': 28, 'in_w': 22}\n"
     ]
    },
    {
     "name": "stderr",
     "output_type": "stream",
     "text": [
      "\r",
      " 80%|████████████████████████████████▊        | 160/200 [26:09<05:40,  8.52s/it]"
     ]
    },
    {
     "name": "stdout",
     "output_type": "stream",
     "text": [
      "Result: True\n",
      "\n",
      "\n",
      "Test: 160\n",
      "Params: {'in_channels': 3, 'out_channels': 9, 'kernel_size': (13, 7), 'padding': (10, 4), 'stride': (1, 1), 'dilation': (3, 2), 'groups': 3, 'in_batches': 3, 'in_h': 18, 'in_w': 23}\n"
     ]
    },
    {
     "name": "stderr",
     "output_type": "stream",
     "text": [
      "\r",
      " 80%|█████████████████████████████████        | 161/200 [26:12<04:23,  6.76s/it]"
     ]
    },
    {
     "name": "stdout",
     "output_type": "stream",
     "text": [
      "Result: True\n",
      "\n",
      "\n",
      "Test: 161\n",
      "Params: {'in_channels': 2, 'out_channels': 17, 'kernel_size': (9, 5), 'padding': (9, 5), 'stride': (5, 2), 'dilation': (2, 3), 'groups': 1, 'in_batches': 5, 'in_h': 27, 'in_w': 20}\n"
     ]
    },
    {
     "name": "stderr",
     "output_type": "stream",
     "text": [
      "\r",
      " 81%|█████████████████████████████████▏       | 162/200 [26:23<05:02,  7.95s/it]"
     ]
    },
    {
     "name": "stdout",
     "output_type": "stream",
     "text": [
      "Result: True\n",
      "\n",
      "\n",
      "Test: 162\n",
      "Params: {'in_channels': 10, 'out_channels': 18, 'kernel_size': (9, 5), 'padding': (7, 3), 'stride': (1, 2), 'dilation': (2, 2), 'groups': 2, 'in_batches': 5, 'in_h': 11, 'in_w': 25}\n"
     ]
    },
    {
     "name": "stderr",
     "output_type": "stream",
     "text": [
      "\r",
      " 82%|█████████████████████████████████▍       | 163/200 [27:05<11:20, 18.39s/it]"
     ]
    },
    {
     "name": "stdout",
     "output_type": "stream",
     "text": [
      "Result: True\n",
      "\n",
      "\n",
      "Test: 163\n",
      "Params: {'in_channels': 3, 'out_channels': 18, 'kernel_size': (8, 3), 'padding': (6, 6), 'stride': (4, 4), 'dilation': (1, 6), 'groups': 1, 'in_batches': 1, 'in_h': 34, 'in_w': 13}\n"
     ]
    },
    {
     "name": "stderr",
     "output_type": "stream",
     "text": [
      "\r",
      " 82%|█████████████████████████████████▌       | 164/200 [27:07<07:57, 13.26s/it]"
     ]
    },
    {
     "name": "stdout",
     "output_type": "stream",
     "text": [
      "Result: True\n",
      "\n",
      "\n",
      "Test: 164\n",
      "Params: {'in_channels': 2, 'out_channels': 18, 'kernel_size': (10, 5), 'padding': (10, 4), 'stride': (4, 4), 'dilation': (1, 4), 'groups': 2, 'in_batches': 2, 'in_h': 13, 'in_w': 17}\n"
     ]
    },
    {
     "name": "stderr",
     "output_type": "stream",
     "text": [
      "\r",
      " 82%|█████████████████████████████████▊       | 165/200 [27:07<05:31,  9.47s/it]"
     ]
    },
    {
     "name": "stdout",
     "output_type": "stream",
     "text": [
      "Result: True\n",
      "\n",
      "\n",
      "Test: 165\n",
      "Params: {'in_channels': 7, 'out_channels': 3, 'kernel_size': (4, 3), 'padding': (3, 10), 'stride': (1, 3), 'dilation': (2, 4), 'groups': 1, 'in_batches': 1, 'in_h': 19, 'in_w': 32}\n"
     ]
    },
    {
     "name": "stderr",
     "output_type": "stream",
     "text": [
      "\r",
      " 83%|██████████████████████████████████       | 166/200 [27:10<04:10,  7.37s/it]"
     ]
    },
    {
     "name": "stdout",
     "output_type": "stream",
     "text": [
      "Result: True\n",
      "\n",
      "\n",
      "Test: 166\n",
      "Params: {'in_channels': 1, 'out_channels': 16, 'kernel_size': (8, 10), 'padding': (9, 9), 'stride': (5, 3), 'dilation': (2, 2), 'groups': 1, 'in_batches': 1, 'in_h': 25, 'in_w': 8}\n"
     ]
    },
    {
     "name": "stderr",
     "output_type": "stream",
     "text": [
      "\r",
      " 84%|██████████████████████████████████▏      | 167/200 [27:10<02:55,  5.32s/it]"
     ]
    },
    {
     "name": "stdout",
     "output_type": "stream",
     "text": [
      "Result: True\n",
      "\n",
      "\n",
      "Test: 167\n",
      "Params: {'in_channels': 2, 'out_channels': 13, 'kernel_size': (5, 6), 'padding': (8, 1), 'stride': (5, 2), 'dilation': (2, 1), 'groups': 1, 'in_batches': 4, 'in_h': 30, 'in_w': 5}\n"
     ]
    },
    {
     "name": "stderr",
     "output_type": "stream",
     "text": [
      "\r",
      " 84%|██████████████████████████████████▍      | 168/200 [27:11<02:02,  3.83s/it]"
     ]
    },
    {
     "name": "stdout",
     "output_type": "stream",
     "text": [
      "Result: True\n",
      "\n",
      "\n",
      "Test: 168\n",
      "Params: {'in_channels': 8, 'out_channels': 12, 'kernel_size': (7, 1), 'padding': (7, 2), 'stride': (3, 4), 'dilation': (3, 2), 'groups': 1, 'in_batches': 3, 'in_h': 33, 'in_w': 17}\n"
     ]
    },
    {
     "name": "stderr",
     "output_type": "stream",
     "text": [
      "\r",
      " 84%|██████████████████████████████████▋      | 169/200 [27:13<01:44,  3.38s/it]"
     ]
    },
    {
     "name": "stdout",
     "output_type": "stream",
     "text": [
      "Result: True\n",
      "\n",
      "\n",
      "Test: 169\n",
      "Params: {'in_channels': 12, 'out_channels': 12, 'kernel_size': (3, 3), 'padding': (9, 7), 'stride': (1, 3), 'dilation': (10, 5), 'groups': 1, 'in_batches': 1, 'in_h': 14, 'in_w': 6}\n"
     ]
    },
    {
     "name": "stderr",
     "output_type": "stream",
     "text": [
      "\r",
      " 85%|██████████████████████████████████▊      | 170/200 [27:24<02:51,  5.72s/it]"
     ]
    },
    {
     "name": "stdout",
     "output_type": "stream",
     "text": [
      "Result: True\n",
      "\n",
      "\n",
      "Test: 170\n",
      "Params: {'in_channels': 9, 'out_channels': 9, 'kernel_size': (6, 4), 'padding': (5, 2), 'stride': (4, 3), 'dilation': (8, 3), 'groups': 1, 'in_batches': 2, 'in_h': 32, 'in_w': 18}\n"
     ]
    },
    {
     "name": "stderr",
     "output_type": "stream",
     "text": [
      "\r",
      " 86%|███████████████████████████████████      | 171/200 [27:26<02:13,  4.59s/it]"
     ]
    },
    {
     "name": "stdout",
     "output_type": "stream",
     "text": [
      "Result: True\n",
      "\n",
      "\n",
      "Test: 171\n",
      "Params: {'in_channels': 1, 'out_channels': 14, 'kernel_size': (8, 17), 'padding': (7, 7), 'stride': (2, 4), 'dilation': (2, 1), 'groups': 1, 'in_batches': 3, 'in_h': 9, 'in_w': 32}\n"
     ]
    },
    {
     "name": "stderr",
     "output_type": "stream",
     "text": [
      "\r",
      " 86%|███████████████████████████████████▎     | 172/200 [27:28<01:49,  3.89s/it]"
     ]
    },
    {
     "name": "stdout",
     "output_type": "stream",
     "text": [
      "Result: True\n",
      "\n",
      "\n",
      "Test: 172\n",
      "Params: {'in_channels': 3, 'out_channels': 2, 'kernel_size': (11, 2), 'padding': (4, 3), 'stride': (4, 3), 'dilation': (2, 5), 'groups': 1, 'in_batches': 3, 'in_h': 24, 'in_w': 5}\n",
      "Result: True\n",
      "\n",
      "\n",
      "Test: 173\n",
      "Params: {'in_channels': 2, 'out_channels': 7, 'kernel_size': (2, 1), 'padding': (8, 1), 'stride': (4, 1), 'dilation': (5, 4), 'groups': 1, 'in_batches': 3, 'in_h': 12, 'in_w': 22}\n"
     ]
    },
    {
     "name": "stderr",
     "output_type": "stream",
     "text": [
      "\r",
      " 87%|███████████████████████████████████▋     | 174/200 [27:29<00:56,  2.17s/it]"
     ]
    },
    {
     "name": "stdout",
     "output_type": "stream",
     "text": [
      "Result: True\n",
      "\n",
      "\n",
      "Test: 174\n",
      "Params: {'in_channels': 8, 'out_channels': 17, 'kernel_size': (7, 4), 'padding': (10, 4), 'stride': (5, 1), 'dilation': (5, 6), 'groups': 1, 'in_batches': 1, 'in_h': 24, 'in_w': 19}\n"
     ]
    },
    {
     "name": "stderr",
     "output_type": "stream",
     "text": [
      "\r",
      " 88%|███████████████████████████████████▉     | 175/200 [27:41<01:54,  4.56s/it]"
     ]
    },
    {
     "name": "stdout",
     "output_type": "stream",
     "text": [
      "Result: True\n",
      "\n",
      "\n",
      "Test: 175\n",
      "Params: {'in_channels': 5, 'out_channels': 10, 'kernel_size': (16, 12), 'padding': (5, 10), 'stride': (5, 4), 'dilation': (2, 2), 'groups': 5, 'in_batches': 4, 'in_h': 31, 'in_w': 24}\n"
     ]
    },
    {
     "name": "stderr",
     "output_type": "stream",
     "text": [
      "\r",
      " 88%|████████████████████████████████████     | 176/200 [27:43<01:37,  4.07s/it]"
     ]
    },
    {
     "name": "stdout",
     "output_type": "stream",
     "text": [
      "Result: True\n",
      "\n",
      "\n",
      "Test: 176\n",
      "Params: {'in_channels': 17, 'out_channels': 3, 'kernel_size': (3, 11), 'padding': (2, 6), 'stride': (5, 1), 'dilation': (5, 2), 'groups': 1, 'in_batches': 4, 'in_h': 25, 'in_w': 11}\n"
     ]
    },
    {
     "name": "stderr",
     "output_type": "stream",
     "text": [
      "\r",
      " 88%|████████████████████████████████████▎    | 177/200 [27:46<01:26,  3.75s/it]"
     ]
    },
    {
     "name": "stdout",
     "output_type": "stream",
     "text": [
      "Result: True\n",
      "\n",
      "\n",
      "Test: 177\n",
      "Params: {'in_channels': 4, 'out_channels': 12, 'kernel_size': (3, 3), 'padding': (10, 9), 'stride': (1, 5), 'dilation': (9, 7), 'groups': 2, 'in_batches': 2, 'in_h': 26, 'in_w': 8}\n"
     ]
    },
    {
     "name": "stderr",
     "output_type": "stream",
     "text": [
      "\r",
      " 89%|████████████████████████████████████▍    | 178/200 [27:52<01:35,  4.36s/it]"
     ]
    },
    {
     "name": "stdout",
     "output_type": "stream",
     "text": [
      "Result: True\n",
      "\n",
      "\n",
      "Test: 178\n",
      "Params: {'in_channels': 8, 'out_channels': 16, 'kernel_size': (4, 19), 'padding': (5, 4), 'stride': (1, 4), 'dilation': (4, 1), 'groups': 1, 'in_batches': 1, 'in_h': 25, 'in_w': 21}\n"
     ]
    },
    {
     "name": "stderr",
     "output_type": "stream",
     "text": [
      "\r",
      " 90%|████████████████████████████████████▋    | 179/200 [28:03<02:11,  6.26s/it]"
     ]
    },
    {
     "name": "stdout",
     "output_type": "stream",
     "text": [
      "Result: True\n",
      "\n",
      "\n",
      "Test: 179\n",
      "Params: {'in_channels': 5, 'out_channels': 10, 'kernel_size': (2, 5), 'padding': (9, 10), 'stride': (2, 2), 'dilation': (10, 7), 'groups': 5, 'in_batches': 2, 'in_h': 25, 'in_w': 15}\n"
     ]
    },
    {
     "name": "stderr",
     "output_type": "stream",
     "text": [
      "\r",
      " 90%|████████████████████████████████████▉    | 180/200 [28:06<01:42,  5.13s/it]"
     ]
    },
    {
     "name": "stdout",
     "output_type": "stream",
     "text": [
      "Result: True\n",
      "\n",
      "\n",
      "Test: 180\n",
      "Params: {'in_channels': 17, 'out_channels': 20, 'kernel_size': (1, 20), 'padding': (9, 8), 'stride': (4, 4), 'dilation': (9, 1), 'groups': 1, 'in_batches': 4, 'in_h': 19, 'in_w': 29}\n"
     ]
    },
    {
     "name": "stderr",
     "output_type": "stream",
     "text": [
      "\r",
      " 90%|█████████████████████████████████████    | 181/200 [28:15<02:02,  6.46s/it]"
     ]
    },
    {
     "name": "stdout",
     "output_type": "stream",
     "text": [
      "Result: True\n",
      "\n",
      "\n",
      "Test: 181\n",
      "Params: {'in_channels': 3, 'out_channels': 19, 'kernel_size': (5, 3), 'padding': (4, 10), 'stride': (2, 3), 'dilation': (8, 6), 'groups': 1, 'in_batches': 4, 'in_h': 30, 'in_w': 26}\n"
     ]
    },
    {
     "name": "stderr",
     "output_type": "stream",
     "text": [
      "\r",
      " 91%|█████████████████████████████████████▎   | 182/200 [28:35<03:04, 10.27s/it]"
     ]
    },
    {
     "name": "stdout",
     "output_type": "stream",
     "text": [
      "Result: True\n",
      "\n",
      "\n",
      "Test: 182\n",
      "Params: {'in_channels': 1, 'out_channels': 7, 'kernel_size': (17, 20), 'padding': (3, 10), 'stride': (5, 4), 'dilation': (2, 2), 'groups': 1, 'in_batches': 5, 'in_h': 33, 'in_w': 22}\n"
     ]
    },
    {
     "name": "stderr",
     "output_type": "stream",
     "text": [
      "\r",
      " 92%|█████████████████████████████████████▌   | 183/200 [28:35<02:05,  7.38s/it]"
     ]
    },
    {
     "name": "stdout",
     "output_type": "stream",
     "text": [
      "Result: True\n",
      "\n",
      "\n",
      "Test: 183\n",
      "Params: {'in_channels': 1, 'out_channels': 6, 'kernel_size': (10, 3), 'padding': (10, 5), 'stride': (1, 5), 'dilation': (2, 4), 'groups': 1, 'in_batches': 3, 'in_h': 7, 'in_w': 20}\n"
     ]
    },
    {
     "name": "stderr",
     "output_type": "stream",
     "text": [
      "\r",
      " 92%|█████████████████████████████████████▋   | 184/200 [28:36<01:26,  5.41s/it]"
     ]
    },
    {
     "name": "stdout",
     "output_type": "stream",
     "text": [
      "Result: True\n",
      "\n",
      "\n",
      "Test: 184\n",
      "Params: {'in_channels': 1, 'out_channels': 5, 'kernel_size': (9, 2), 'padding': (9, 5), 'stride': (4, 2), 'dilation': (1, 7), 'groups': 1, 'in_batches': 5, 'in_h': 30, 'in_w': 27}\n"
     ]
    },
    {
     "name": "stderr",
     "output_type": "stream",
     "text": [
      "\r",
      " 92%|█████████████████████████████████████▉   | 185/200 [28:37<01:03,  4.23s/it]"
     ]
    },
    {
     "name": "stdout",
     "output_type": "stream",
     "text": [
      "Result: True\n",
      "\n",
      "\n",
      "Test: 185\n",
      "Params: {'in_channels': 2, 'out_channels': 3, 'kernel_size': (1, 15), 'padding': (4, 2), 'stride': (4, 1), 'dilation': (6, 1), 'groups': 1, 'in_batches': 3, 'in_h': 33, 'in_w': 26}\n"
     ]
    },
    {
     "name": "stderr",
     "output_type": "stream",
     "text": [
      "\r",
      " 93%|██████████████████████████████████████▏  | 186/200 [28:38<00:42,  3.05s/it]"
     ]
    },
    {
     "name": "stdout",
     "output_type": "stream",
     "text": [
      "Result: True\n",
      "\n",
      "\n",
      "Test: 186\n",
      "Params: {'in_channels': 1, 'out_channels': 5, 'kernel_size': (13, 5), 'padding': (10, 9), 'stride': (4, 5), 'dilation': (3, 1), 'groups': 1, 'in_batches': 2, 'in_h': 27, 'in_w': 28}\n"
     ]
    },
    {
     "name": "stderr",
     "output_type": "stream",
     "text": [
      "\r",
      " 94%|██████████████████████████████████████▎  | 187/200 [28:38<00:28,  2.23s/it]"
     ]
    },
    {
     "name": "stdout",
     "output_type": "stream",
     "text": [
      "Result: True\n",
      "\n",
      "\n",
      "Test: 187\n",
      "Params: {'in_channels': 2, 'out_channels': 20, 'kernel_size': (19, 2), 'padding': (9, 5), 'stride': (4, 3), 'dilation': (1, 5), 'groups': 2, 'in_batches': 3, 'in_h': 20, 'in_w': 11}\n"
     ]
    },
    {
     "name": "stderr",
     "output_type": "stream",
     "text": [
      "\r",
      " 94%|██████████████████████████████████████▌  | 188/200 [28:39<00:22,  1.91s/it]"
     ]
    },
    {
     "name": "stdout",
     "output_type": "stream",
     "text": [
      "Result: True\n",
      "\n",
      "\n",
      "Test: 188\n",
      "Params: {'in_channels': 3, 'out_channels': 18, 'kernel_size': (9, 2), 'padding': (8, 7), 'stride': (1, 5), 'dilation': (3, 4), 'groups': 3, 'in_batches': 4, 'in_h': 11, 'in_w': 30}\n"
     ]
    },
    {
     "name": "stderr",
     "output_type": "stream",
     "text": [
      "\r",
      " 94%|██████████████████████████████████████▋  | 189/200 [28:40<00:18,  1.73s/it]"
     ]
    },
    {
     "name": "stdout",
     "output_type": "stream",
     "text": [
      "Result: True\n",
      "\n",
      "\n",
      "Test: 189\n",
      "Params: {'in_channels': 17, 'out_channels': 7, 'kernel_size': (16, 2), 'padding': (2, 2), 'stride': (5, 2), 'dilation': (2, 10), 'groups': 1, 'in_batches': 5, 'in_h': 32, 'in_w': 19}\n"
     ]
    },
    {
     "name": "stderr",
     "output_type": "stream",
     "text": [
      "\r",
      " 95%|██████████████████████████████████████▉  | 190/200 [29:03<01:20,  8.04s/it]"
     ]
    },
    {
     "name": "stdout",
     "output_type": "stream",
     "text": [
      "Result: True\n",
      "\n",
      "\n",
      "Test: 190\n",
      "Params: {'in_channels': 2, 'out_channels': 3, 'kernel_size': (6, 2), 'padding': (8, 2), 'stride': (1, 5), 'dilation': (4, 7), 'groups': 1, 'in_batches': 2, 'in_h': 31, 'in_w': 8}\n"
     ]
    },
    {
     "name": "stderr",
     "output_type": "stream",
     "text": [
      "\r",
      " 96%|███████████████████████████████████████▏ | 191/200 [29:03<00:51,  5.73s/it]"
     ]
    },
    {
     "name": "stdout",
     "output_type": "stream",
     "text": [
      "Result: True\n",
      "\n",
      "\n",
      "Test: 191\n",
      "Params: {'in_channels': 1, 'out_channels': 19, 'kernel_size': (20, 7), 'padding': (9, 2), 'stride': (3, 3), 'dilation': (1, 4), 'groups': 1, 'in_batches': 5, 'in_h': 24, 'in_w': 27}\n"
     ]
    },
    {
     "name": "stderr",
     "output_type": "stream",
     "text": [
      "\r",
      " 96%|███████████████████████████████████████▎ | 192/200 [29:11<00:49,  6.14s/it]"
     ]
    },
    {
     "name": "stdout",
     "output_type": "stream",
     "text": [
      "Result: True\n",
      "\n",
      "\n",
      "Test: 192\n",
      "Params: {'in_channels': 6, 'out_channels': 15, 'kernel_size': (2, 9), 'padding': (10, 5), 'stride': (3, 2), 'dilation': (4, 1), 'groups': 1, 'in_batches': 5, 'in_h': 6, 'in_w': 14}\n"
     ]
    },
    {
     "name": "stderr",
     "output_type": "stream",
     "text": [
      "\r",
      " 96%|███████████████████████████████████████▌ | 193/200 [29:19<00:47,  6.80s/it]"
     ]
    },
    {
     "name": "stdout",
     "output_type": "stream",
     "text": [
      "Result: True\n",
      "\n",
      "\n",
      "Test: 193\n",
      "Params: {'in_channels': 2, 'out_channels': 12, 'kernel_size': (4, 7), 'padding': (1, 9), 'stride': (2, 5), 'dilation': (1, 3), 'groups': 2, 'in_batches': 5, 'in_h': 31, 'in_w': 6}\n"
     ]
    },
    {
     "name": "stderr",
     "output_type": "stream",
     "text": [
      "\r",
      " 97%|███████████████████████████████████████▊ | 194/200 [29:20<00:30,  5.03s/it]"
     ]
    },
    {
     "name": "stdout",
     "output_type": "stream",
     "text": [
      "Result: True\n",
      "\n",
      "\n",
      "Test: 194\n",
      "Params: {'in_channels': 2, 'out_channels': 9, 'kernel_size': (10, 2), 'padding': (9, 7), 'stride': (2, 4), 'dilation': (3, 5), 'groups': 1, 'in_batches': 1, 'in_h': 25, 'in_w': 6}\n"
     ]
    },
    {
     "name": "stderr",
     "output_type": "stream",
     "text": [
      "\r",
      " 98%|███████████████████████████████████████▉ | 195/200 [29:20<00:18,  3.71s/it]"
     ]
    },
    {
     "name": "stdout",
     "output_type": "stream",
     "text": [
      "Result: True\n",
      "\n",
      "\n",
      "Test: 195\n",
      "Params: {'in_channels': 1, 'out_channels': 3, 'kernel_size': (2, 1), 'padding': (5, 2), 'stride': (1, 5), 'dilation': (7, 2), 'groups': 1, 'in_batches': 4, 'in_h': 19, 'in_w': 10}\n",
      "Result: True\n",
      "\n",
      "\n",
      "Test: 196\n",
      "Params: {'in_channels': 14, 'out_channels': 3, 'kernel_size': (4, 2), 'padding': (7, 9), 'stride': (1, 4), 'dilation': (2, 7), 'groups': 1, 'in_batches': 2, 'in_h': 21, 'in_w': 32}\n"
     ]
    },
    {
     "name": "stderr",
     "output_type": "stream",
     "text": [
      "\r",
      " 98%|████████████████████████████████████████▍| 197/200 [29:29<00:12,  4.08s/it]"
     ]
    },
    {
     "name": "stdout",
     "output_type": "stream",
     "text": [
      "Result: True\n",
      "\n",
      "\n",
      "Test: 197\n",
      "Params: {'in_channels': 8, 'out_channels': 4, 'kernel_size': (3, 1), 'padding': (8, 9), 'stride': (4, 4), 'dilation': (3, 5), 'groups': 4, 'in_batches': 5, 'in_h': 28, 'in_w': 28}\n"
     ]
    },
    {
     "name": "stderr",
     "output_type": "stream",
     "text": [
      "\r",
      " 99%|████████████████████████████████████████▌| 198/200 [29:30<00:06,  3.13s/it]"
     ]
    },
    {
     "name": "stdout",
     "output_type": "stream",
     "text": [
      "Result: True\n",
      "\n",
      "\n",
      "Test: 198\n",
      "Params: {'in_channels': 8, 'out_channels': 7, 'kernel_size': (17, 1), 'padding': (5, 7), 'stride': (5, 5), 'dilation': (1, 6), 'groups': 1, 'in_batches': 1, 'in_h': 21, 'in_w': 6}\n",
      "Result: True\n",
      "\n",
      "\n",
      "Test: 199\n",
      "Params: {'in_channels': 6, 'out_channels': 12, 'kernel_size': (4, 6), 'padding': (10, 10), 'stride': (1, 4), 'dilation': (6, 2), 'groups': 1, 'in_batches': 1, 'in_h': 7, 'in_w': 21}\n"
     ]
    },
    {
     "name": "stderr",
     "output_type": "stream",
     "text": [
      "100%|█████████████████████████████████████████| 200/200 [29:36<00:00,  8.88s/it]"
     ]
    },
    {
     "name": "stdout",
     "output_type": "stream",
     "text": [
      "Result: True\n",
      "\n",
      "\n",
      "200 out of 200 (100.0%) tests passed\n"
     ]
    },
    {
     "name": "stderr",
     "output_type": "stream",
     "text": [
      "\n"
     ]
    }
   ],
   "source": [
    "# for loop sweeping different input parameters and testing the outputs of Conv2DPytTestGroups and PyTorch\n",
    "from tqdm import tqdm\n",
    "\n",
    "num_tests = 200 # only test parameter to be varied\n",
    "num_passed = 0\n",
    "params_list = valid_params(num_tests)\n",
    "print('Number of tests: {}\\n\\n'.format(len(params_list)))\n",
    "\n",
    "for i, params in enumerate(tqdm(params_list)):\n",
    "    print('Test: {}\\nParams: {}'.format(i, params))\n",
    "    # debug = False # DO NOT CHANGE THIS while using Conv2DPytTest - TODO: modify this flag to `test`\n",
    "\n",
    "    in_channels = params['in_channels'] # input channels\n",
    "    out_channels = params['out_channels'] # output channels\n",
    "    \n",
    "    kernel_size = params['kernel_size'] # kernel size\n",
    "\n",
    "    padding = params['padding'] # padding (optional)\n",
    "    stride = params['stride'] # stride (optional)\n",
    "    dilation = params['dilation'] # dilation factor (optional)\n",
    "    groups = params['groups'] # groups (optional)\n",
    "    \n",
    "    in_batches = params['in_batches'] # input batches\n",
    "    in_h = params['in_h'] # input height\n",
    "    in_w = params['in_w'] # input weight\n",
    "    \n",
    "    _input = np.random.rand(in_batches, in_channels, in_h, in_w) # define a random image based on the input parameters\n",
    "    kernels = []\n",
    "    for k in range(out_channels):\n",
    "        kernel = np.random.rand(int(in_channels / groups), kernel_size[0], kernel_size[1]) # define a random kernel based on the kernel parameters\n",
    "        kernels.append(kernel)\n",
    "    \n",
    "    try:\n",
    "        # get Conv2DPytTest output with the random inputs\n",
    "        conv2dpyttestgroups = Conv2DPytTestGroups(in_channels, out_channels, kernel_size, stride = stride, padding = padding, dilation = dilation, groups = groups) # call an instance of the class with the input parameters \n",
    "        _output = conv2dpyttestgroups.forward(_input, kernels) # perform convolution\n",
    "\n",
    "        # get PyTorch output with the same random inputs as above\n",
    "        x = torch.DoubleTensor(_input)\n",
    "        weights = torch.stack([torch.DoubleTensor(kernel) for kernel in kernels])\n",
    "        output = torch.nn.functional.conv2d(x, weights, stride = stride, padding = padding, dilation = dilation, groups = groups)\n",
    "        \n",
    "    except Exception as e:\n",
    "        print(e)\n",
    "        print('Result: False\\n\\n') # treating exception as a failed test\n",
    "        continue\n",
    "    \n",
    "    # compare outputs of conv-Numpy and PyTorch\n",
    "    result = torch.equal(torch.round(torch.DoubleTensor(_output)), torch.round(output)) # need to round the output due to precision difference\n",
    "    print('Result: {}\\n\\n'.format(result))\n",
    "    if result:\n",
    "        num_passed += 1\n",
    "\n",
    "print('{} out of {} ({}%) tests passed'.format(num_passed, num_tests, float(100 * num_passed / num_tests)))\n",
    "    "
   ]
  },
  {
   "cell_type": "markdown",
   "id": "8fe45ea6",
   "metadata": {},
   "source": [
    "### Modular code for methods in `forward()`"
   ]
  },
  {
   "cell_type": "raw",
   "id": "b53291ca",
   "metadata": {},
   "source": [
    "''' Modular code - can replace bloated def forward()'''\n",
    "def print_params(self):\n",
    "    self.verboseprint('*** parameters ***')\n",
    "    self.verboseprint('in_channels: {}, out_channels: {}, kernel_size: {}'.format(self.in_channels, self.out_channels, self.kernel_size))\n",
    "    self.verboseprint('padding: {}, stride: {}, dilation factor: {}'.format(self.padding, self.stride, self.dilation))\n",
    "    self.verboseprint('groups: {}, bias: {}, padding_mode: {}, device: {}, dtype: {}'.format(self.groups, self.bias, self.padding_mode, self.device, self.dtype))\n",
    "    self.verboseprint('\\n')\n",
    "\n",
    "def add_padding(self, _input):\n",
    "    ''' add zero padding based on the input parameters '''\n",
    "    if self.padding != 0:\n",
    "        _input = np.array([[np.pad(channel,self.padding, 'constant', constant_values = 0) for channel in batch] for batch in _input])    \n",
    "        self.verboseprint('*** padded input image ***')\n",
    "        self.verboseprint('input batches: {}, input channels: {}, input height: {}, input weight: {}'.format(_input.shape[0], _input.shape[1], _input.shape[2], _input.shape[3]))\n",
    "        self.verboseprint(_input)\n",
    "        self.verboseprint('\\n')\n",
    "    return _input\n",
    "\n",
    "def create_kernels(self, kernels):\n",
    "    ''' use the provided kernels or create random kernels based on the input kernel parameters '''\n",
    "    if kernels is not None:\n",
    "        self.verboseprint('*** kernels ***')\n",
    "        self.verboseprint('kernels: {}, kernel channels: {}, kernel height: {}, kernel weight: {}'.format(self.out_channels, int(self.in_channels / self.groups), self.kernel_size[0], self.kernel_size[1]))\n",
    "        kernels = self.dilate_kernels(kernels)\n",
    "        return kernels\n",
    "\n",
    "    ''' Below code never executes as we are passing `kernels` as input - can be commented/removed '''\n",
    "    kernels = []\n",
    "    self.verboseprint('*** kernels ***')\n",
    "    self.verboseprint('kernels: {}, kernel channels: {}, kernel height: {}, kernel weight: {}'.format(self.out_channels, int(self.in_channels / self.groups), self.kernel_size[0], self.kernel_size[1]))\n",
    "    for k in range(self.out_channels):\n",
    "        kernel = np.random.rand(int(self.in_channels/self.groups), self.kernel_size[0], self.kernel_size[1]) # define a random kernel based on the kernel parameters\n",
    "        if self.debug:\n",
    "            kernel = k * np.ones_like(kernel)\n",
    "        kernels.append(kernel)\n",
    "        self.verboseprint('kernel {}'.format(k))\n",
    "        self.verboseprint(kernel)\n",
    "    self.verboseprint('\\n')\n",
    "    kernels = self.dilate_kernels(kernels)\n",
    "    return kernels \n",
    "\n",
    "def dilate_kernels(self, kernels):\n",
    "    ''' dilate a kernel '''\n",
    "    dil_ker_h = self.dilation * (self.kernel_size[0] - 1) + 1\n",
    "    dil_ker_w = self.dilation * (self.kernel_size[1] - 1) + 1\n",
    "    dil_kernels = []\n",
    "    for kernel in kernels:\n",
    "        dil_kernel = []\n",
    "        for channel in kernel:\n",
    "            dil_channel = np.zeros((dil_ker_h, dil_ker_w))\n",
    "            for row in range(len(channel)):\n",
    "                for col in range(len(channel[0])):\n",
    "                    dil_channel[self.dilation*row][self.dilation*col] = channel[row][col]\n",
    "            dil_kernel.append(dil_channel.tolist())\n",
    "        dil_kernels.append(dil_kernel)\n",
    "    kernels, self.kernel_size = dil_kernels, (dil_ker_h, dil_ker_w)\n",
    "    self.verboseprint('*** dilated kernels ***')\n",
    "    self.verboseprint('kernels: {}, dilation factor: {}, kernel channels: {}, kernel height: {}, kernel weight: {}'.format(self.out_channels, self.dilation, int(self.in_channels / self.groups), self.kernel_size[0], self.kernel_size[1]))\n",
    "    for k in range(self.out_channels):\n",
    "        self.verboseprint('kernel {}'.format(k))\n",
    "        self.verboseprint(kernels[k])\n",
    "    self.verboseprint('\\n')\n",
    "    return kernels\n",
    "\n",
    "def compute_out_vol(self, _input):\n",
    "    ''' compute output volume from the input and kernel parameters '''\n",
    "    _input_n, _, _input_h, _input_w = _input.shape\n",
    "    out_n = int(_input_n)\n",
    "    out_c = int(self.out_channels)\n",
    "    out_h = int((_input_h - self.kernel_size[0])/self.stride) + 1\n",
    "    out_w = int((_input_w - self.kernel_size[1])/self.stride) + 1\n",
    "    return out_n, out_c, out_h, out_w\n",
    "\n",
    "def error_checking(self, _input):\n",
    "    ''' do error checking '''\n",
    "    _input_n, _input_c, _input_h, _input_w = _input.shape\n",
    "    if _input_h + 2 * self.padding < self.dilation * (self.kernel_size[0] - 1) + 1: # check if (dilated) ker_h is valid\n",
    "        raise Exception('invalid input parameters: kernel height is larger than input height')\n",
    "    if _input_w + 2 * self.padding < self.dilation * (self.kernel_size[1] - 1) + 1: # check if (dilated) ker_w is valid\n",
    "        raise Exception('invalid input parameters: kernel width is larger than input width')\n",
    "    if ((_input_h + 2 * self.padding - (self.dilation * (self.kernel_size[0] - 1) + 1)) / self.stride) + 1 < 0: # check if out_h is valid\n",
    "        raise Exception('invalid input parameters: output height is negative')\n",
    "    if ((_input_h + 2 * self.padding - (self.dilation * (self.kernel_size[1] - 1) + 1)) / self.stride) + 1 < 0: # check if out_w is valid\n",
    "        raise Exception('invalid input parameters: output width is negative')\n",
    "    if  self.in_channels % self.groups != 0: # check if groups is valid\n",
    "        raise Exception('invalid input parameters: input channels is not divisible by groups')\n",
    "    if self.out_channels % self.groups != 0: # check if groups is valid\n",
    "        raise Exception('invalid input parametes: output channels is not divisible by groups')\n",
    "    if not (self.groups == 1 or self.groups == self.in_channels): # check if groups is valid - remove once groups is properly implemented\n",
    "        raise Exception('invalid input parameters: currently groups == 1 or groups == in_channels only supported')\n"
   ]
  },
  {
   "cell_type": "markdown",
   "id": "ca85c279",
   "metadata": {},
   "source": [
    "### Modular code for `forward()`"
   ]
  },
  {
   "cell_type": "raw",
   "id": "51abe93d",
   "metadata": {},
   "source": [
    "''' Modular code - can replace bloated def forward()'''\n",
    "'''\n",
    "    def convolve(self, h, w, ker_num, batch_num, _input, kernels):\n",
    "        # convolve kernel over the input slices\n",
    "        self.debugprint('kernel indices, image indices')\n",
    "        self.debugprint('[c, h, w]', '[n, c, h, w]')\n",
    "        convol_sum = 0\n",
    "        ker_c = self.in_channels\n",
    "        ker_h = self.kernel_size[0]\n",
    "        ker_w = self.kernel_size[1]\n",
    "        for c_ker in range(ker_c):\n",
    "            for h_ker in range(ker_h):\n",
    "                for w_ker in range(ker_w):\n",
    "                    self.debugprint([c_ker, h_ker, w_ker], [batch_num, c_ker, h_ker + self.stride*h, w_ker + self.stride*w])\n",
    "                    convol_sum += kernels[ker_num][c_ker][h_ker][w_ker] * _input[batch_num][c_ker][h_ker + self.stride*h][w_ker + self.stride*w]\n",
    "        self.debugprint('\\n')\n",
    "        return convol_sum\n",
    "    '''\n",
    "    '''\n",
    "    def forward(self, _input):\n",
    "        # create output from the input and kernel parameters \n",
    "        _input = self.add_padding(_input)\n",
    "        if self.debug:\n",
    "            for b in range(_input.shape[0]):\n",
    "                _input[b] = (b+1) * np.ones_like(_input[b]) # define an image of all ones (twos etc.) based on the input parameters\n",
    "        kernels = self.create_kernels()\n",
    "        out_n, out_c, out_h, out_w = self.compute_out_vol(_input)\n",
    "        output = np.zeros([out_n, out_c, out_h, out_w])\n",
    "        # parse through every element of the output and compute the convolution value for that element\n",
    "        for b in range(out_n):\n",
    "            for k in range(out_c):\n",
    "                for h in range(out_h):\n",
    "                    for w in range(out_w):\n",
    "                        output[b, k, h, w] += self.convolve(h, w, k, b, _input, kernels)\n",
    "        self.verboseprint('*** output ***')\n",
    "        output_shape = output.shape\n",
    "        self.verboseprint('output batches: {}, ouput channels: {}, output height: {}, output weight: {}'.format(output_shape[0], output_shape[1], output_shape[2], output_shape[3]))\n",
    "        assert((out_n, out_c, out_h, out_w) == output_shape)\n",
    "        self.verboseprint(output)\n",
    "        self.verboseprint('\\n')\n",
    "        return output\n",
    "    '''\n",
    "    "
   ]
  },
  {
   "cell_type": "markdown",
   "id": "c8eb97cc",
   "metadata": {},
   "source": [
    "### Old `Conv2D` code  for reference"
   ]
  },
  {
   "cell_type": "raw",
   "id": "eb6b032e",
   "metadata": {},
   "source": [
    "'''\n",
    "class Conv2D:\n",
    "    \"\"\"Computes convolution given the input parameters\"\"\"\n",
    "    def __init__(self, params, verbose=True, debug=False):\n",
    "        super(Conv2D, self).__init__()\n",
    "        default_params = {\n",
    "        'stride': 1,\n",
    "        'dilation': 1,\n",
    "        'padding': 0\n",
    "        }\n",
    "        for key, value in default_params.items():\n",
    "            setattr(self, key, params.get(key, value))\n",
    "        self.inp_n = params['inp_n']\n",
    "        self.inp_c = params['inp_c']\n",
    "        self.inp_h = params['inp_h']\n",
    "        self.inp_w = params['inp_w']\n",
    "        self.ker_c = params['ker_c']\n",
    "        self.ker_h = params['ker_h']\n",
    "        self.ker_w = params['ker_w']\n",
    "        self.num_ker = params['num_ker']\n",
    "        self.input_img = None\n",
    "        self.kernels = None\n",
    "        self.out_n = None\n",
    "        self.out_c = None\n",
    "        self.out_h = None\n",
    "        self.out_w = None\n",
    "        self.output = None\n",
    "        self.verbose = verbose\n",
    "        self.verboseprint = print if self.verbose else lambda *a, **k: None\n",
    "        self.debug = debug\n",
    "        self.debugprint = print if self.debug else lambda *a, **k: None\n",
    "        self.print_params()\n",
    "\n",
    "    def print_params(self):\n",
    "        self.verboseprint('*** parameters ***')\n",
    "        self.verboseprint('input batches: {}, input channels: {}, input height: {}, input weight: {}'.format(self.inp_n, self.inp_c, self.inp_h, self.inp_w))\n",
    "        self.verboseprint('kernels: {}, kernel channels: {}, kernel height: {}, kernel weight: {}'.format(self.num_ker, self.ker_c, self.ker_h, self.ker_w))\n",
    "        self.verboseprint('stride: {}, dilation factor: {}, padding: {}'.format(self.stride, self.dilation, self.padding))\n",
    "        self.verboseprint('\\n')\n",
    "\n",
    "    def create_input_img(self):\n",
    "        # create image from the input parameters\n",
    "        input_img = np.random.rand(self.inp_n, self.inp_c, self.inp_h, self.inp_w) # define a random image based on the input parameters\n",
    "        if self.debug:\n",
    "            for b in range(self.inp_n):\n",
    "                input_img[b] = (b+1) * np.ones_like(input_img[b]) # define an image of all ones (twos etc.) based on the input parameters\n",
    "        self.verboseprint('*** input image ***')\n",
    "        self.verboseprint('input batches: {}, input channels: {}, input height: {}, input weight: {}'.format(self.inp_n, self.inp_c, self.inp_h, self.inp_w))\n",
    "        self.verboseprint(input_img)\n",
    "        self.verboseprint('\\n')\n",
    "        self.input_img = input_img\n",
    "        self.add_padding()\n",
    "\n",
    "    def add_padding(self):\n",
    "        # add zero padding based on the input parameters\n",
    "        if self.padding != 0:\n",
    "            self.input_img = [[np.pad(channel,self.padding, 'constant', constant_values=0) for channel in batch] for batch in self.input_img]    \n",
    "            self.inp_h += 2 * self.padding\n",
    "            self.inp_w += 2 * self.padding\n",
    "            self.verboseprint('*** padded input image ***')\n",
    "            self.verboseprint('input batches: {}, input channels: {}, input height: {}, input weight: {}'.format(self.inp_n, self.inp_c, self.inp_h, self.inp_w))\n",
    "            self.verboseprint(self.input_img)\n",
    "            self.verboseprint('\\n')\n",
    "\n",
    "    def create_kernels(self):\n",
    "        # create random kernels based on the input kernel parameters\n",
    "        kernels = []\n",
    "        self.verboseprint('*** kernels ***')\n",
    "        self.verboseprint('kernels: {}, kernel channels: {}, kernel height: {}, kernel weight: {}'.format(self.num_ker, self.ker_c, self.ker_h, self.ker_w))\n",
    "        for k in range(self.num_ker):\n",
    "            kernel = np.random.rand(self.ker_c, self.ker_h, self.ker_w) # define a random kernel based on the kernel parameters\n",
    "            if self.debug:\n",
    "                kernel = k * np.ones_like(kernel)\n",
    "            kernels.append(kernel)\n",
    "            self.verboseprint('kernel {}'.format(k))\n",
    "            self.verboseprint(kernel)\n",
    "        self.verboseprint('\\n')\n",
    "        self.kernels = kernels\n",
    "        self.dilate_kernels()\n",
    "\n",
    "    def dilate_kernels(self):\n",
    "        # dilate a kernel\n",
    "        dil_ker_h = self.dilation * (self.ker_h - 1) + 1\n",
    "        dil_ker_w = self.dilation * (self.ker_w - 1) + 1\n",
    "        dil_kernels = []\n",
    "        for kernel in self.kernels:\n",
    "            dil_kernel = []\n",
    "            for channel in kernel:\n",
    "                dil_channel = np.zeros((dil_ker_h, dil_ker_w))\n",
    "                for row in range(len(channel)):\n",
    "                    for col in range(len(channel[0])):\n",
    "                        dil_channel[self.dilation*row][self.dilation*col] = channel[row][col]\n",
    "                dil_kernel.append(dil_channel.tolist())\n",
    "            dil_kernels.append(dil_kernel)\n",
    "        self.kernels, self.ker_h, self.ker_w = dil_kernels, dil_ker_h, dil_ker_w\n",
    "        self.verboseprint('*** dilated kernels ***')\n",
    "        self.verboseprint('kernels: {}, dilation factor: {}, kernel channels: {}, kernel height: {}, kernel weight: {}'.format(self.num_ker, self.dilation, self.ker_c, self.ker_h, self.ker_w))\n",
    "        for k in range(self.num_ker):\n",
    "            self.verboseprint('kernel {}'.format(k))\n",
    "            self.verboseprint(self.kernels[k])\n",
    "        self.verboseprint('\\n')\n",
    "\n",
    "    def compute_out_vol(self):\n",
    "        # compute output volume from the input and kernel parameters\n",
    "        out_n = int(self.inp_n)\n",
    "        out_c = int(self.num_ker)\n",
    "        out_h = int((self.inp_h - self.ker_h)/self.stride) + 1\n",
    "        out_w = int((self.inp_w - self.ker_w)/self.stride) + 1\n",
    "        self.out_n, self.out_c, self.out_h, self.out_w = out_n, out_c, out_h, out_w\n",
    "\n",
    "    def convolve(self, h, w, ker_num, batch_num):\n",
    "        # convolve kernel over the input slices\n",
    "        self.debugprint('kernel indices, image indices')\n",
    "        self.debugprint('[c, h, w]', '[n, c, h, w]')\n",
    "        convol_sum = 0\n",
    "        for c_ker in range(self.ker_c):\n",
    "            for h_ker in range(self.ker_h):\n",
    "                for w_ker in range(self.ker_w):\n",
    "                    self.debugprint([c_ker, h_ker, w_ker], [batch_num, c_ker, h_ker + self.stride*h, w_ker + self.stride*w])\n",
    "                    convol_sum += self.kernels[ker_num][c_ker][h_ker][w_ker] * self.input_img[batch_num][c_ker][h_ker + self.stride*h][w_ker + self.stride*w]\n",
    "        self.debugprint('\\n')\n",
    "        return convol_sum\n",
    "\n",
    "    def create_output(self):\n",
    "        # create output from the input and kernel parameters \n",
    "        self.compute_out_vol()\n",
    "        self.output = np.zeros([self.out_n, self.out_c, self.out_h, self.out_w])\n",
    "        # parse through every element of the output and compute the convolution value for that element\n",
    "        for b in range(self.out_n):\n",
    "            for k in range(self.num_ker):\n",
    "                for h in range(self.out_h):\n",
    "                    for w in range(self.out_w):\n",
    "                        self.output[b, k, h, w] += self.convolve(h, w, k, b)\n",
    "        self.verboseprint('*** output ***')\n",
    "        output_shape = self.output.shape\n",
    "        self.verboseprint('output batches: {}, ouput channels: {}, output height: {}, output weight: {}'.format(output_shape[0], output_shape[1], output_shape[2], output_shape[3]))\n",
    "        assert((self.out_n, self.out_c, self.out_h, self.out_w) == output_shape)\n",
    "        self.verboseprint(self.output)\n",
    "        self.verboseprint('\\n')\n",
    "\n",
    "    def forward(self, _input):\n",
    "        # create output from the input and kernel parameters \n",
    "        self.compute_out_vol(_input)\n",
    "        self.output = np.zeros([self.out_n, self.out_c, self.out_h, self.out_w])\n",
    "        # parse through every element of the output and compute the convolution value for that element\n",
    "        for b in range(self.out_n):\n",
    "            for k in range(self.num_ker):\n",
    "                for h in range(self.out_h):\n",
    "                    for w in range(self.out_w):\n",
    "                        self.output[b, k, h, w] += self.convolve(h, w, k, b)\n",
    "        self.verboseprint('*** output ***')\n",
    "        output_shape = self.output.shape\n",
    "        self.verboseprint('output batches: {}, ouput channels: {}, output height: {}, output weight: {}'.format(output_shape[0], output_shape[1], output_shape[2], output_shape[3]))\n",
    "        assert((self.out_n, self.out_c, self.out_h, self.out_w) == output_shape)\n",
    "        self.verboseprint(self.output)\n",
    "        self.verboseprint('\\n')\n",
    "'''"
   ]
  },
  {
   "cell_type": "raw",
   "id": "f4ff949d",
   "metadata": {},
   "source": [
    "'''\n",
    "inp_n = 2 # number of input batches\n",
    "inp_c, inp_h, inp_w = 2, 4, 4 # input channels, input height, input weight\n",
    "ker_c, ker_h, ker_w = 2, 2, 2 # kernel channels, kernel height, kernel weight\n",
    "num_ker = 3 # number of kernels\n",
    "stride = 2 # stride (optional)\n",
    "dilation = 1 # dilation factor (optional)\n",
    "padding = 0 # padding (optional)\n",
    "params = {'inp_n':inp_n, 'inp_c':inp_c, 'inp_h':inp_h, 'inp_w':inp_w, 'ker_c':ker_c, 'ker_h':ker_h, \n",
    "              'ker_w':ker_w, 'num_ker':num_ker, 'stride':stride, 'dilation':dilation, 'padding':padding}\n",
    "\n",
    "conv2D = Conv2D(params, debug=True)\n",
    "conv2D.create_input_img()\n",
    "conv2D.create_kernels()\n",
    "conv2D.create_output()\n",
    "'''"
   ]
  }
 ],
 "metadata": {
  "kernelspec": {
   "display_name": "Python 3 (ipykernel)",
   "language": "python",
   "name": "python3"
  },
  "language_info": {
   "codemirror_mode": {
    "name": "ipython",
    "version": 3
   },
   "file_extension": ".py",
   "mimetype": "text/x-python",
   "name": "python",
   "nbconvert_exporter": "python",
   "pygments_lexer": "ipython3",
   "version": "3.7.1"
  }
 },
 "nbformat": 4,
 "nbformat_minor": 5
}
