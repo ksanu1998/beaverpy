{
 "cells": [
  {
   "cell_type": "markdown",
   "id": "b20a6f8d",
   "metadata": {},
   "source": [
    "### `MaxPool2D` code"
   ]
  },
  {
   "cell_type": "code",
   "execution_count": 1,
   "id": "19182ede",
   "metadata": {},
   "outputs": [],
   "source": [
    "import numpy as np\n",
    "import torch # needed for tests\n",
    "from tqdm import tqdm # needed for tests"
   ]
  },
  {
   "cell_type": "code",
   "execution_count": 3,
   "id": "7ed1691b",
   "metadata": {},
   "outputs": [],
   "source": [
    "class MaxPool2D:\n",
    "    ''' Computes maxpool given the input parameters '''\n",
    "    \n",
    "    ''' * The class implementation will be along the lines of torch.nn.MaxPool2d in order to \n",
    "          enable comparison of this NumPy only implementation and seamless testing\n",
    "    '''\n",
    "    '''\n",
    "        TODO:\n",
    "        * Replace `torch.round()` with `np.allclose()` for tests\n",
    "        * Optimizing code\n",
    "    '''\n",
    "    \n",
    "    def __init__(\n",
    "        self, \n",
    "        # in_channels, \n",
    "        # out_channels, \n",
    "        kernel_size, \n",
    "        padding = (0, 0), \n",
    "        stride = (1, 1), \n",
    "        dilation = (1, 1), \n",
    "        # groups = 1, \n",
    "        # bias = True, \n",
    "        # padding_mode = 'zeros', \n",
    "        # device = None, \n",
    "        # dtype = None, \n",
    "        verbose = False\n",
    "        ):\n",
    "        super(MaxPool2D, self).__init__()\n",
    "        \n",
    "        ''' mandatory parameters '''\n",
    "        # self.in_channels = in_channels\n",
    "        # self.out_channels = out_channels\n",
    "        if isinstance(kernel_size, tuple):\n",
    "            self.kernel_size = kernel_size\n",
    "        elif isinstance(kernel_size, int):\n",
    "            self.kernel_size = (kernel_size, kernel_size)\n",
    "        else:\n",
    "            raise Exception('invalid input parameters: kernel_size should either be an int or a tuple')\n",
    "        \n",
    "        ''' optional parameters '''\n",
    "        if isinstance(padding, str):\n",
    "            if padding == 'valid':\n",
    "                self.padding = (0, 0)\n",
    "            elif padding == 'same':\n",
    "                raise Exception(\"invalid input parameters: padding = 'same' not yet supported\")\n",
    "            else:\n",
    "                raise Exception('invalid input parameters: padding is not valid')\n",
    "        elif isinstance(padding, tuple):\n",
    "            if padding[0] >= 0 and padding[1] >= 0:\n",
    "                self.padding = padding\n",
    "            else:\n",
    "                raise Exception('invalid input parameters: padding is not valid')\n",
    "        elif isinstance(padding, int):\n",
    "            if padding >= 0:\n",
    "                self.padding = (padding, padding)\n",
    "            else:\n",
    "                raise Exception('invalid input parameters: padding is not valid')\n",
    "        else:\n",
    "            raise Exception('invalid input parametersL padding should be either an int or a tuple')\n",
    "        if isinstance(stride, tuple):\n",
    "            if stride[0] >= 1 and stride[1] >= 1:\n",
    "                self.stride = stride\n",
    "            else:\n",
    "                raise Exception('invalid input parameters: stride is not valid')\n",
    "        elif isinstance(stride, int):\n",
    "            if stride >= 1:\n",
    "                self.stride = (stride, stride)\n",
    "            else:\n",
    "                raise Exception('invalid input parameters: stride is not valid')\n",
    "        else:\n",
    "            raise Exception('invalid input parameters: stride should be either an int or a tuple')\n",
    "        if isinstance(dilation, tuple):\n",
    "            if dilation[0] >= 1 and dilation[1] >= 1:\n",
    "                self.dilation = dilation\n",
    "            else:\n",
    "                raise Exception('invalid input parameters: dilation is not valid')\n",
    "        elif isinstance(dilation, int):\n",
    "            if dilation >= 1:\n",
    "                self.dilation = (dilation, dilation)\n",
    "            else:\n",
    "                raise Exception('invalid input parameters: dilation is not valid')\n",
    "        else:\n",
    "            raise Exception('invalid input parameters: dilation should be either an int or a tuple')\n",
    "        self.groups = groups\n",
    "        \n",
    "        ''' optional parameters (dummy, yet to be implemented)'''\n",
    "        # self.bias = bias\n",
    "        # self.padding_mode = padding_mode\n",
    "        # self.device = device\n",
    "        # self.dtype = dtype\n",
    "        \n",
    "        ''' additional parameters (different from torch.nn.Conv2D)'''\n",
    "        self.verbose = verbose\n",
    "        self.verboseprint = print if self.verbose else lambda *a, **k: None\n",
    "        self.verboseprint('*** parameters ***')\n",
    "        self.verboseprint('in_channels: {}, out_channels: {}, kernel_size: {}'.format(self.in_channels, self.out_channels, self.kernel_size))\n",
    "        self.verboseprint('padding: {}, stride: {}, dilation factor: {}'.format(self.padding, self.stride, self.dilation))\n",
    "        self.verboseprint('groups: {}, bias: {}, padding_mode: {}, device: {}, dtype: {}'.format(self.groups, self.bias, self.padding_mode, self.device, self.dtype))\n",
    "        self.verboseprint('\\n')\n",
    "    \n",
    "    def forward(self, _input, kernels = None):\n",
    "        ''' forward pass to perform convolution '''\n",
    "        \n",
    "        ''' do error checking '''\n",
    "        _input_n, _input_c, _input_h, _input_w = _input.shape\n",
    "        if _input_h + 2 * self.padding[0] < self.dilation[0] * (self.kernel_size[0] - 1) + 1: # check if (dilated) ker_h is valid\n",
    "            raise Exception('invalid input parameters: kernel height is larger than input height')\n",
    "        if _input_w + 2 * self.padding[1] < self.dilation[1] * (self.kernel_size[1] - 1) + 1: # check if (dilated) ker_w is valid\n",
    "            raise Exception('invalid input parameters: kernel width is larger than input width')\n",
    "        if ((_input_h + 2 * self.padding[0] - (self.dilation[0] * (self.kernel_size[0] - 1) + 1)) / self.stride[0]) + 1 < 0: # check if out_h is valid\n",
    "            raise Exception('invalid input parameters: output height is negative')\n",
    "        if ((_input_w + 2 * self.padding[1] - (self.dilation[1] * (self.kernel_size[1] - 1) + 1)) / self.stride[1]) + 1 < 0: # check if out_w is valid\n",
    "            raise Exception('invalid input parameters: output width is negative')\n",
    "        if  self.in_channels % self.groups != 0: # check if groups is valid\n",
    "            raise Exception('invalid input parameters: input channels is not divisible by groups')\n",
    "        if self.out_channels % self.groups != 0: # check if groups is valid\n",
    "            raise Exception('invalid input parametes: output channels is not divisible by groups')\n",
    "         \n",
    "        ''' add zero padding based on the input parameters '''\n",
    "        if self.padding != (0, 0):\n",
    "            _input = np.array([[np.pad(channel, ((self.padding[0], self.padding[0]), (self.padding[1], self.padding[1])), 'constant', constant_values = -np.inf) for channel in batch] for batch in _input])    \n",
    "            self.verboseprint('*** padded input image ***')\n",
    "            self.verboseprint('input batches: {}, input channels: {}, input height: {}, input weight: {}'.format(_input.shape[0], _input.shape[1], _input.shape[2], _input.shape[3]))\n",
    "            self.verboseprint(_input)\n",
    "            self.verboseprint('\\n')\n",
    "        \n",
    "        ''' use the provided kernels or create random kernels based on the input kernel parameters '''\n",
    "        if kernels is not None:\n",
    "            self.verboseprint('*** kernels ***')\n",
    "            self.verboseprint('kernels: {}, kernel channels: {}, kernel height: {}, kernel weight: {}'.format(self.out_channels, int(self.in_channels / self.groups), self.kernel_size[0], self.kernel_size[1]))\n",
    "        else:\n",
    "            kernels = []\n",
    "            self.verboseprint('*** kernels ***')\n",
    "            self.verboseprint('kernels: {}, kernel channels: {}, kernel height: {}, kernel weight: {}'.format(self.out_channels, int(self.in_channels / self.groups), self.kernel_size[0], self.kernel_size[1]))\n",
    "            for k in range(self.out_channels):\n",
    "                kernel = np.random.rand(int(self.in_channels / self.groups), self.kernel_size[0], self.kernel_size[1]) # define a random kernel based on the kernel parameters\n",
    "                kernels.append(kernel)\n",
    "                self.verboseprint('kernel {}'.format(k))\n",
    "                self.verboseprint(kernel)\n",
    "            self.verboseprint('\\n')\n",
    "        \n",
    "        ''' dilate a kernel '''\n",
    "        dil_ker_h = self.dilation[0] * (self.kernel_size[0] - 1) + 1\n",
    "        dil_ker_w = self.dilation[1] * (self.kernel_size[1] - 1) + 1\n",
    "        dil_kernels = []\n",
    "        for kernel in kernels:\n",
    "            dil_kernel = []\n",
    "            for channel in kernel:\n",
    "                dil_channel = np.zeros((dil_ker_h, dil_ker_w))\n",
    "                for row in range(len(channel)):\n",
    "                    for col in range(len(channel[0])):\n",
    "                        dil_channel[self.dilation[0] * row][self.dilation[1] * col] = channel[row][col] # check if the indices 0 and 1 need to be swapped\n",
    "                dil_kernel.append(dil_channel.tolist())\n",
    "            dil_kernels.append(dil_kernel)\n",
    "        kernels, self.kernel_size = dil_kernels, (dil_ker_h, dil_ker_w)\n",
    "        self.verboseprint('*** dilated kernels ***')\n",
    "        self.verboseprint('kernels: {}, dilation factor: {}, kernel channels: {}, kernel height: {}, kernel weight: {}'.format(self.out_channels, self.dilation, int(self.in_channels / self.groups), self.kernel_size[0], self.kernel_size[1]))\n",
    "        for k in range(self.out_channels):\n",
    "            self.verboseprint('kernel {}'.format(k))\n",
    "            self.verboseprint(kernels[k])\n",
    "        self.verboseprint('\\n')\n",
    "        \n",
    "        ''' compute output volume from the input and kernel parameters '''\n",
    "        _input_n, _, _input_h, _input_w = _input.shape\n",
    "        out_n = int(_input_n)\n",
    "        out_c = int(self.out_channels)\n",
    "        out_h = int((_input_h - self.kernel_size[0]) / self.stride[0]) + 1\n",
    "        out_w = int((_input_w - self.kernel_size[1]) / self.stride[1]) + 1\n",
    "        output = np.zeros([out_n, out_c, out_h, out_w]) # may need to initialize to -np.inf\n",
    "        \n",
    "        ''' parse through every element of the output and compute the convolution value for that element '''\n",
    "        for b in range(out_n):\n",
    "            for k in range(out_c):\n",
    "                for h in range(out_h):\n",
    "                    for w in range(out_w):\n",
    "                        # convolve kernel over the input slices\n",
    "                        self.verboseprint('kernel indices, image indices')\n",
    "                        self.verboseprint('[n, c, h, w]', '[n, c, h, w]')\n",
    "                        convol_sum = -np.inf\n",
    "                        ker_c = int(self.in_channels / self.groups)\n",
    "                        ker_h = self.kernel_size[0]\n",
    "                        ker_w = self.kernel_size[1]\n",
    "                        for c_ker in range(ker_c):\n",
    "                            for h_ker in range(ker_h):\n",
    "                                for w_ker in range(ker_w):\n",
    "                                    self.verboseprint([k, c_ker, h_ker, w_ker], [b, c_ker + (ker_c * int(np.floor(k / (self.out_channels / self.groups)))), h_ker + self.stride[0] * h, w_ker + self.stride[1] * w])\n",
    "                                    if _input[b][c_ker + (ker_c * int(np.floor(k / (self.out_channels / self.groups))))][h_ker + self.stride[0] * h][w_ker + self.stride[1] * w] > convol_sum: # works for all 1 <= `groups` <= in_channels\n",
    "                                        convol_sum = _input[b][c_ker + (ker_c * int(np.floor(k / (self.out_channels / self.groups))))][h_ker + self.stride[0] * h][w_ker + self.stride[1] * w]\n",
    "                                    # convol_sum += kernels[k][c_ker][h_ker][w_ker] * _input[b][c_ker + (ker_c * int(np.floor(k / (self.out_channels / self.groups))))][h_ker + self.stride[0] * h][w_ker + self.stride[1] * w] # works for all 1 <= `groups` <= in_channels\n",
    "                        self.verboseprint('\\n')\n",
    "                        output[b, k, h, w] += convol_sum\n",
    "        self.verboseprint('*** Conv2D output ***')\n",
    "        output_shape = output.shape\n",
    "        self.verboseprint('output batches: {}, ouput channels: {}, output height: {}, output weight: {}'.format(output_shape[0], output_shape[1], output_shape[2], output_shape[3]))\n",
    "        assert((out_n, out_c, out_h, out_w) == output_shape)\n",
    "        self.verboseprint(output)\n",
    "        self.verboseprint('\\n')\n",
    "        return output"
   ]
  },
  {
   "cell_type": "markdown",
   "id": "7450ac24",
   "metadata": {},
   "source": [
    "### Standalone test (random kernel, random input)"
   ]
  },
  {
   "cell_type": "code",
   "execution_count": 4,
   "id": "a0377df6",
   "metadata": {},
   "outputs": [],
   "source": [
    "in_channels = 6 # input channels\n",
    "out_channels = 4 # output channels\n",
    "kernel_size = (2, 2) # kernel size\n",
    "\n",
    "padding = (1, 3) # padding (optional)\n",
    "stride = (2, 1) # stride (optional)\n",
    "dilation = (2, 3) # dilation factor (optional)\n",
    "groups = 2 # groups (optional)\n",
    "\n",
    "in_batches = 2 # input batches\n",
    "in_h = 4 # input height\n",
    "in_w = 4 # input weight\n",
    "\n",
    "_input = np.random.rand(in_batches, in_channels, in_h, in_w) # define a random image based on the input parameters\n",
    "kernels = []\n",
    "for k in range(out_channels):\n",
    "    kernel = np.random.rand(int(in_channels / groups), kernel_size[0], kernel_size[1]) # define a random kernel based on the kernel parameters\n",
    "    kernels.append(kernel)"
   ]
  },
  {
   "cell_type": "code",
   "execution_count": 9,
   "id": "29c79bef",
   "metadata": {},
   "outputs": [
    {
     "name": "stdout",
     "output_type": "stream",
     "text": [
      "*** Conv2D output ***\n",
      "[[[[1.2226179  0.45447905 0.58417267 2.16799259 0.25020537 0.6679289\n",
      "    0.63399658]\n",
      "   [2.05417983 0.74253376 1.82649097 3.99026358 1.34058497 2.23033477\n",
      "    1.66926256]]\n",
      "\n",
      "  [[0.74630805 0.04825081 0.2706949  1.81533723 0.39624005 0.73089483\n",
      "    0.7169298 ]\n",
      "   [1.06101402 0.54717758 0.90945642 3.39278184 1.09117534 2.25943368\n",
      "    1.45429915]]\n",
      "\n",
      "  [[0.66163928 1.03905948 0.7049118  1.3067838  0.63498366 0.47343891\n",
      "    0.45515179]\n",
      "   [2.42098525 2.546701   2.24447616 3.82116496 1.49009035 1.56908679\n",
      "    1.44727519]]\n",
      "\n",
      "  [[0.87963527 1.4768826  0.82402384 1.40729198 0.75944516 0.40692714\n",
      "    0.76389213]\n",
      "   [2.15710863 1.74521687 2.23945182 3.62426858 1.56371503 1.46047164\n",
      "    1.92876964]]]\n",
      "\n",
      "\n",
      " [[[1.18839563 0.46287686 1.41914261 2.34611337 0.44398644 1.40014687\n",
      "    1.789498  ]\n",
      "   [0.84784474 1.29858034 2.35872887 3.22479113 1.35456866 3.07880121\n",
      "    1.70361493]]\n",
      "\n",
      "  [[0.7757263  0.21271647 0.77620553 2.13611128 0.49798731 1.49774804\n",
      "    1.6803799 ]\n",
      "   [0.5627031  0.6131121  1.26076084 2.14730952 1.35911651 2.83270943\n",
      "    1.72792789]]\n",
      "\n",
      "  [[1.12790219 1.75332309 1.70013871 1.89006834 0.90339656 1.00629118\n",
      "    0.75849631]\n",
      "   [2.50757451 2.62686104 2.51066228 3.40028294 1.7151292  1.66793577\n",
      "    1.32832115]]\n",
      "\n",
      "  [[1.47622081 1.88037514 2.08723522 1.98112154 1.45048912 1.23420244\n",
      "    0.63093812]\n",
      "   [1.6734838  1.76129081 1.45470823 2.59664798 2.05016533 1.63274218\n",
      "    1.07568275]]]]\n"
     ]
    }
   ],
   "source": [
    "# get Conv2D output with the random inputs\n",
    "\n",
    "conv2d = Conv2D(in_channels, out_channels, kernel_size, stride = stride, padding = padding, dilation = dilation, groups = groups) # call an instance of the class with the input parameters \n",
    "_output = conv2d.forward(_input, kernels) # perform convolution\n",
    "print(\"*** Conv2D output ***\")\n",
    "print(_output)"
   ]
  },
  {
   "cell_type": "code",
   "execution_count": 10,
   "id": "df346af0",
   "metadata": {
    "scrolled": true
   },
   "outputs": [
    {
     "name": "stdout",
     "output_type": "stream",
     "text": [
      "*** PyTorch output ***\n",
      "tensor([[[[1.2226, 0.4545, 0.5842, 2.1680, 0.2502, 0.6679, 0.6340],\n",
      "          [2.0542, 0.7425, 1.8265, 3.9903, 1.3406, 2.2303, 1.6693]],\n",
      "\n",
      "         [[0.7463, 0.0483, 0.2707, 1.8153, 0.3962, 0.7309, 0.7169],\n",
      "          [1.0610, 0.5472, 0.9095, 3.3928, 1.0912, 2.2594, 1.4543]],\n",
      "\n",
      "         [[0.6616, 1.0391, 0.7049, 1.3068, 0.6350, 0.4734, 0.4552],\n",
      "          [2.4210, 2.5467, 2.2445, 3.8212, 1.4901, 1.5691, 1.4473]],\n",
      "\n",
      "         [[0.8796, 1.4769, 0.8240, 1.4073, 0.7594, 0.4069, 0.7639],\n",
      "          [2.1571, 1.7452, 2.2395, 3.6243, 1.5637, 1.4605, 1.9288]]],\n",
      "\n",
      "\n",
      "        [[[1.1884, 0.4629, 1.4191, 2.3461, 0.4440, 1.4001, 1.7895],\n",
      "          [0.8478, 1.2986, 2.3587, 3.2248, 1.3546, 3.0788, 1.7036]],\n",
      "\n",
      "         [[0.7757, 0.2127, 0.7762, 2.1361, 0.4980, 1.4977, 1.6804],\n",
      "          [0.5627, 0.6131, 1.2608, 2.1473, 1.3591, 2.8327, 1.7279]],\n",
      "\n",
      "         [[1.1279, 1.7533, 1.7001, 1.8901, 0.9034, 1.0063, 0.7585],\n",
      "          [2.5076, 2.6269, 2.5107, 3.4003, 1.7151, 1.6679, 1.3283]],\n",
      "\n",
      "         [[1.4762, 1.8804, 2.0872, 1.9811, 1.4505, 1.2342, 0.6309],\n",
      "          [1.6735, 1.7613, 1.4547, 2.5966, 2.0502, 1.6327, 1.0757]]]],\n",
      "       dtype=torch.float64)\n"
     ]
    }
   ],
   "source": [
    "# get PyTorch output with the same random inputs as above\n",
    "\n",
    "x = torch.DoubleTensor(_input)\n",
    "weights = torch.stack([torch.DoubleTensor(kernel) for kernel in kernels])\n",
    "output = torch.nn.functional.conv2d(x, weights, stride = stride, padding = padding, dilation = dilation, groups = groups)\n",
    "print(\"*** PyTorch output ***\")\n",
    "print(output)"
   ]
  },
  {
   "cell_type": "code",
   "execution_count": 11,
   "id": "d8e5a3f5",
   "metadata": {
    "scrolled": true
   },
   "outputs": [
    {
     "name": "stdout",
     "output_type": "stream",
     "text": [
      "True\n"
     ]
    }
   ],
   "source": [
    "# compare outputs of Conv2D and PyTorch\n",
    "print(torch.equal(torch.round(torch.DoubleTensor(_output)), torch.round(output))) # need to round the output due to precision difference"
   ]
  },
  {
   "cell_type": "markdown",
   "id": "c87813f3",
   "metadata": {},
   "source": [
    "### Extensive tests (random kernel, random input)"
   ]
  },
  {
   "cell_type": "code",
   "execution_count": 7,
   "id": "8b986f3c",
   "metadata": {},
   "outputs": [],
   "source": [
    "def valid_params(num_tests):\n",
    "    ''' generates `num_tests` number of valid input and kernel parameters '''\n",
    "    \n",
    "    params_list = []\n",
    "    sample_count = 0\n",
    "    while sample_count < num_tests:\n",
    "        in_channels = np.random.randint(20) + 1 # input channels\n",
    "        out_channels = np.random.randint(20) + 1 # output channels\n",
    "        \n",
    "        kernel_h = np.random.randint(20) + 1\n",
    "        kernel_w = np.random.randint(20) + 1\n",
    "        kernel_size = (kernel_h, kernel_w) # kernel size\n",
    "        \n",
    "        padding_h = np.random.randint(10) + 1\n",
    "        padding_w = np.random.randint(10) + 1\n",
    "        padding = (padding_h, padding_w) # padding (optional)\n",
    "        stride_h = np.random.randint(5) + 1\n",
    "        stride_w = np.random.randint(5) + 1\n",
    "        stride = (stride_h, stride_w) # stride (optional)\n",
    "        dilation_h = np.random.randint(10) + 1\n",
    "        dilation_w = np.random.randint(10) + 1\n",
    "        dilation = (dilation_h, dilation_w) # dilation factor (optional)\n",
    "        groups = np.random.randint(in_channels) + 1 # groups (optional)\n",
    "        \n",
    "        in_batches = np.random.randint(5) + 1 # input batches\n",
    "        in_h = np.random.randint(30) + 5 # input height\n",
    "        in_w = np.random.randint(30) + 5 # input weight\n",
    "    \n",
    "        ker_h_flag, ker_w_flag, out_h_flag, out_w_flag, in_group_flag, out_group_flag = True, True, True, True, True, True\n",
    "        \n",
    "        if in_h + 2 * padding_h < dilation_h * (kernel_h - 1) + 1: # check if (dilated) ker_h is valid\n",
    "            ker_h_flag = False\n",
    "        if in_w + 2 * padding_w < dilation_w * (kernel_w - 1) + 1: # check if (dilated) ker_w is valid\n",
    "            ker_w_flag = False\n",
    "        if ((in_h + 2 * padding_h - (dilation_h * (kernel_h - 1) + 1)) / stride_h) + 1 < 0: # check if out_h is valid\n",
    "            out_h_flag = False\n",
    "        if ((in_w + 2 * padding_w - (dilation_w * (kernel_w - 1) + 1)) / stride_w) + 1 < 0: # check if out_w is valid\n",
    "            out_w_flag = False\n",
    "        if  in_channels % groups != 0: # check if groups is valid\n",
    "            in_group_flag = False\n",
    "        if out_channels % groups != 0: # check if groups is valid\n",
    "            out_group_flag = False\n",
    "        \n",
    "        if ker_h_flag and ker_w_flag and out_h_flag and out_w_flag and in_group_flag and out_group_flag:\n",
    "            params_list.append({'in_channels': in_channels, 'out_channels': out_channels, 'kernel_size': kernel_size,\n",
    "                          'padding': padding, 'stride': stride, 'dilation': dilation, 'groups': groups, 'in_batches': in_batches,\n",
    "                          'in_h': in_h, 'in_w': in_w})\n",
    "            sample_count += 1\n",
    "    return params_list"
   ]
  },
  {
   "cell_type": "code",
   "execution_count": 8,
   "id": "472a4c0f",
   "metadata": {
    "scrolled": true
   },
   "outputs": [],
   "source": [
    "def run_tests(num_tests):\n",
    "    ''' sweep different input parameters and test by comparing outputs of Conv2D and PyTorch '''\n",
    "    \n",
    "    num_passed = 0\n",
    "    params_list = valid_params(num_tests)\n",
    "    print('Number of tests: {}\\n\\n'.format(len(params_list)))\n",
    "\n",
    "    for i, params in enumerate(tqdm(params_list)):\n",
    "        print('Test: {}\\nParams: {}'.format(i, params))\n",
    "        in_channels = params['in_channels'] # input channels\n",
    "        out_channels = params['out_channels'] # output channels\n",
    "        kernel_size = params['kernel_size'] # kernel size\n",
    "\n",
    "        padding = params['padding'] # padding (optional)\n",
    "        stride = params['stride'] # stride (optional)\n",
    "        dilation = params['dilation'] # dilation factor (optional)\n",
    "        groups = params['groups'] # groups (optional)\n",
    "\n",
    "        in_batches = params['in_batches'] # input batches\n",
    "        in_h = params['in_h'] # input height\n",
    "        in_w = params['in_w'] # input weight\n",
    "\n",
    "        _input = np.random.rand(in_batches, in_channels, in_h, in_w) # define a random image based on the input parameters\n",
    "        kernels = []\n",
    "        for k in range(out_channels):\n",
    "            kernel = np.random.rand(int(in_channels / groups), kernel_size[0], kernel_size[1]) # define a random kernel based on the kernel parameters\n",
    "            kernels.append(kernel)\n",
    "\n",
    "        try:\n",
    "            # get Conv2D output with the random inputs\n",
    "            conv2d = Conv2D(in_channels, out_channels, kernel_size, stride = stride, padding = padding, dilation = dilation, groups = groups) # call an instance of the class with the input parameters \n",
    "            _output = conv2d.forward(_input, kernels) # perform convolution\n",
    "\n",
    "            # get PyTorch output with the same random inputs as above\n",
    "            x = torch.DoubleTensor(_input)\n",
    "            weights = torch.stack([torch.DoubleTensor(kernel) for kernel in kernels])\n",
    "            output = torch.nn.functional.conv2d(x, weights, stride = stride, padding = padding, dilation = dilation, groups = groups)\n",
    "\n",
    "        except Exception as e:\n",
    "            print(e)\n",
    "            print('Result: False\\n\\n') # treating exception as a failed test\n",
    "            continue\n",
    "\n",
    "        # compare outputs of Conv2D and PyTorch\n",
    "        result = torch.equal(torch.round(torch.DoubleTensor(_output)), torch.round(output)) # need to round the output due to precision difference\n",
    "        print('Result: {}\\n\\n'.format(result))\n",
    "        if result:\n",
    "            num_passed += 1\n",
    "\n",
    "    print('{} out of {} ({}%) tests passed'.format(num_passed, num_tests, float(100 * num_passed / num_tests)))\n"
   ]
  },
  {
   "cell_type": "code",
   "execution_count": 9,
   "id": "ab748d82",
   "metadata": {},
   "outputs": [
    {
     "name": "stdout",
     "output_type": "stream",
     "text": [
      "Number of tests: 200\n",
      "\n",
      "\n"
     ]
    },
    {
     "name": "stderr",
     "output_type": "stream",
     "text": [
      "\r",
      "  0%|                                                   | 0/200 [00:00<?, ?it/s]"
     ]
    },
    {
     "name": "stdout",
     "output_type": "stream",
     "text": [
      "Test: 0\n",
      "Params: {'in_channels': 7, 'out_channels': 18, 'kernel_size': (6, 4), 'padding': (7, 2), 'stride': (3, 5), 'dilation': (6, 8), 'groups': 1, 'in_batches': 4, 'in_h': 22, 'in_w': 22}\n"
     ]
    },
    {
     "name": "stderr",
     "output_type": "stream",
     "text": [
      "\r",
      "  0%|▏                                          | 1/200 [00:08<26:55,  8.12s/it]"
     ]
    },
    {
     "name": "stdout",
     "output_type": "stream",
     "text": [
      "Result: True\n",
      "\n",
      "\n",
      "Test: 1\n",
      "Params: {'in_channels': 6, 'out_channels': 12, 'kernel_size': (2, 6), 'padding': (4, 10), 'stride': (1, 1), 'dilation': (1, 2), 'groups': 3, 'in_batches': 3, 'in_h': 20, 'in_w': 24}\n"
     ]
    },
    {
     "name": "stderr",
     "output_type": "stream",
     "text": [
      "\r",
      "  1%|▍                                          | 2/200 [00:19<33:39, 10.20s/it]"
     ]
    },
    {
     "name": "stdout",
     "output_type": "stream",
     "text": [
      "Result: True\n",
      "\n",
      "\n",
      "Test: 2\n",
      "Params: {'in_channels': 1, 'out_channels': 19, 'kernel_size': (1, 4), 'padding': (8, 2), 'stride': (1, 5), 'dilation': (5, 2), 'groups': 1, 'in_batches': 2, 'in_h': 5, 'in_w': 31}\n"
     ]
    },
    {
     "name": "stderr",
     "output_type": "stream",
     "text": [
      "\r",
      "  2%|▋                                          | 3/200 [00:19<18:30,  5.64s/it]"
     ]
    },
    {
     "name": "stdout",
     "output_type": "stream",
     "text": [
      "Result: True\n",
      "\n",
      "\n",
      "Test: 3\n",
      "Params: {'in_channels': 1, 'out_channels': 3, 'kernel_size': (8, 12), 'padding': (4, 9), 'stride': (4, 1), 'dilation': (5, 1), 'groups': 1, 'in_batches': 3, 'in_h': 29, 'in_w': 23}\n"
     ]
    },
    {
     "name": "stderr",
     "output_type": "stream",
     "text": [
      "\r",
      "  2%|▊                                          | 4/200 [00:21<13:09,  4.03s/it]"
     ]
    },
    {
     "name": "stdout",
     "output_type": "stream",
     "text": [
      "Result: True\n",
      "\n",
      "\n",
      "Test: 4\n",
      "Params: {'in_channels': 2, 'out_channels': 7, 'kernel_size': (2, 3), 'padding': (5, 6), 'stride': (4, 4), 'dilation': (1, 4), 'groups': 1, 'in_batches': 3, 'in_h': 24, 'in_w': 24}\n"
     ]
    },
    {
     "name": "stderr",
     "output_type": "stream",
     "text": [
      "\r",
      "  2%|█                                          | 5/200 [00:22<09:10,  2.82s/it]"
     ]
    },
    {
     "name": "stdout",
     "output_type": "stream",
     "text": [
      "Result: True\n",
      "\n",
      "\n",
      "Test: 5\n",
      "Params: {'in_channels': 1, 'out_channels': 3, 'kernel_size': (6, 17), 'padding': (7, 9), 'stride': (4, 3), 'dilation': (4, 3), 'groups': 1, 'in_batches': 4, 'in_h': 29, 'in_w': 33}\n"
     ]
    },
    {
     "name": "stderr",
     "output_type": "stream",
     "text": [
      "\r",
      "  3%|█▎                                         | 6/200 [00:22<06:51,  2.12s/it]"
     ]
    },
    {
     "name": "stdout",
     "output_type": "stream",
     "text": [
      "Result: True\n",
      "\n",
      "\n",
      "Test: 6\n",
      "Params: {'in_channels': 1, 'out_channels': 13, 'kernel_size': (2, 3), 'padding': (10, 10), 'stride': (2, 5), 'dilation': (5, 4), 'groups': 1, 'in_batches': 4, 'in_h': 19, 'in_w': 10}\n"
     ]
    },
    {
     "name": "stderr",
     "output_type": "stream",
     "text": [
      "\r",
      "  4%|█▌                                         | 7/200 [00:24<06:13,  1.94s/it]"
     ]
    },
    {
     "name": "stdout",
     "output_type": "stream",
     "text": [
      "Result: True\n",
      "\n",
      "\n",
      "Test: 7\n",
      "Params: {'in_channels': 1, 'out_channels': 5, 'kernel_size': (17, 10), 'padding': (7, 10), 'stride': (4, 4), 'dilation': (1, 1), 'groups': 1, 'in_batches': 4, 'in_h': 8, 'in_w': 18}\n"
     ]
    },
    {
     "name": "stderr",
     "output_type": "stream",
     "text": [
      "\r",
      "  4%|█▋                                         | 8/200 [00:24<04:35,  1.43s/it]"
     ]
    },
    {
     "name": "stdout",
     "output_type": "stream",
     "text": [
      "Result: True\n",
      "\n",
      "\n",
      "Test: 8\n",
      "Params: {'in_channels': 4, 'out_channels': 2, 'kernel_size': (5, 4), 'padding': (7, 4), 'stride': (2, 2), 'dilation': (5, 3), 'groups': 1, 'in_batches': 1, 'in_h': 11, 'in_w': 15}\n"
     ]
    },
    {
     "name": "stderr",
     "output_type": "stream",
     "text": [
      "\r",
      "  4%|█▉                                         | 9/200 [00:25<03:20,  1.05s/it]"
     ]
    },
    {
     "name": "stdout",
     "output_type": "stream",
     "text": [
      "Result: True\n",
      "\n",
      "\n",
      "Test: 9\n",
      "Params: {'in_channels': 1, 'out_channels': 3, 'kernel_size': (12, 1), 'padding': (5, 1), 'stride': (5, 4), 'dilation': (2, 1), 'groups': 1, 'in_batches': 1, 'in_h': 20, 'in_w': 15}\n",
      "Result: True\n",
      "\n",
      "\n",
      "Test: 10\n",
      "Params: {'in_channels': 16, 'out_channels': 20, 'kernel_size': (11, 4), 'padding': (10, 2), 'stride': (4, 3), 'dilation': (2, 4), 'groups': 1, 'in_batches': 5, 'in_h': 30, 'in_w': 10}\n"
     ]
    },
    {
     "name": "stderr",
     "output_type": "stream",
     "text": [
      "  6%|██▌                                       | 12/200 [00:47<13:54,  4.44s/it]"
     ]
    },
    {
     "name": "stdout",
     "output_type": "stream",
     "text": [
      "Result: True\n",
      "\n",
      "\n",
      "Test: 11\n",
      "Params: {'in_channels': 1, 'out_channels': 7, 'kernel_size': (1, 6), 'padding': (7, 4), 'stride': (4, 2), 'dilation': (9, 2), 'groups': 1, 'in_batches': 4, 'in_h': 29, 'in_w': 12}\n",
      "Result: True\n",
      "\n",
      "\n",
      "Test: 12\n",
      "Params: {'in_channels': 16, 'out_channels': 20, 'kernel_size': (1, 8), 'padding': (7, 5), 'stride': (4, 5), 'dilation': (1, 4), 'groups': 1, 'in_batches': 3, 'in_h': 34, 'in_w': 29}\n"
     ]
    },
    {
     "name": "stderr",
     "output_type": "stream",
     "text": [
      "\r",
      "  6%|██▋                                       | 13/200 [00:53<15:06,  4.85s/it]"
     ]
    },
    {
     "name": "stdout",
     "output_type": "stream",
     "text": [
      "Result: True\n",
      "\n",
      "\n",
      "Test: 13\n",
      "Params: {'in_channels': 11, 'out_channels': 19, 'kernel_size': (4, 1), 'padding': (7, 2), 'stride': (3, 2), 'dilation': (4, 1), 'groups': 1, 'in_batches': 3, 'in_h': 7, 'in_w': 30}\n"
     ]
    },
    {
     "name": "stderr",
     "output_type": "stream",
     "text": [
      "\r",
      "  7%|██▉                                       | 14/200 [00:56<13:12,  4.26s/it]"
     ]
    },
    {
     "name": "stdout",
     "output_type": "stream",
     "text": [
      "Result: True\n",
      "\n",
      "\n",
      "Test: 14\n",
      "Params: {'in_channels': 4, 'out_channels': 8, 'kernel_size': (2, 5), 'padding': (4, 7), 'stride': (5, 5), 'dilation': (9, 1), 'groups': 2, 'in_batches': 1, 'in_h': 32, 'in_w': 18}\n"
     ]
    },
    {
     "name": "stderr",
     "output_type": "stream",
     "text": [
      "\r",
      "  8%|███▏                                      | 15/200 [00:56<09:36,  3.12s/it]"
     ]
    },
    {
     "name": "stdout",
     "output_type": "stream",
     "text": [
      "Result: True\n",
      "\n",
      "\n",
      "Test: 15\n",
      "Params: {'in_channels': 4, 'out_channels': 6, 'kernel_size': (13, 10), 'padding': (6, 9), 'stride': (3, 4), 'dilation': (2, 3), 'groups': 1, 'in_batches': 3, 'in_h': 20, 'in_w': 18}\n"
     ]
    },
    {
     "name": "stderr",
     "output_type": "stream",
     "text": [
      "\r",
      "  8%|███▎                                      | 16/200 [00:59<09:12,  3.00s/it]"
     ]
    },
    {
     "name": "stdout",
     "output_type": "stream",
     "text": [
      "Result: True\n",
      "\n",
      "\n",
      "Test: 16\n",
      "Params: {'in_channels': 5, 'out_channels': 17, 'kernel_size': (4, 8), 'padding': (10, 9), 'stride': (4, 4), 'dilation': (4, 6), 'groups': 1, 'in_batches': 3, 'in_h': 26, 'in_w': 29}\n"
     ]
    },
    {
     "name": "stderr",
     "output_type": "stream",
     "text": [
      "\r",
      "  8%|███▌                                      | 17/200 [01:14<19:55,  6.53s/it]"
     ]
    },
    {
     "name": "stdout",
     "output_type": "stream",
     "text": [
      "Result: True\n",
      "\n",
      "\n",
      "Test: 17\n",
      "Params: {'in_channels': 13, 'out_channels': 11, 'kernel_size': (5, 2), 'padding': (6, 3), 'stride': (5, 3), 'dilation': (4, 5), 'groups': 1, 'in_batches': 4, 'in_h': 16, 'in_w': 6}\n"
     ]
    },
    {
     "name": "stderr",
     "output_type": "stream",
     "text": [
      "\r",
      "  9%|███▊                                      | 18/200 [01:17<16:53,  5.57s/it]"
     ]
    },
    {
     "name": "stdout",
     "output_type": "stream",
     "text": [
      "Result: True\n",
      "\n",
      "\n",
      "Test: 18\n",
      "Params: {'in_channels': 2, 'out_channels': 20, 'kernel_size': (3, 17), 'padding': (4, 10), 'stride': (1, 2), 'dilation': (6, 2), 'groups': 2, 'in_batches': 1, 'in_h': 25, 'in_w': 33}\n"
     ]
    },
    {
     "name": "stderr",
     "output_type": "stream",
     "text": [
      "\r",
      " 10%|███▉                                      | 19/200 [01:29<22:11,  7.36s/it]"
     ]
    },
    {
     "name": "stdout",
     "output_type": "stream",
     "text": [
      "Result: True\n",
      "\n",
      "\n",
      "Test: 19\n",
      "Params: {'in_channels': 14, 'out_channels': 16, 'kernel_size': (1, 3), 'padding': (5, 6), 'stride': (3, 1), 'dilation': (2, 5), 'groups': 2, 'in_batches': 3, 'in_h': 9, 'in_w': 19}\n"
     ]
    },
    {
     "name": "stderr",
     "output_type": "stream",
     "text": [
      " 10%|████▍                                     | 21/200 [01:32<12:59,  4.36s/it]"
     ]
    },
    {
     "name": "stdout",
     "output_type": "stream",
     "text": [
      "Result: True\n",
      "\n",
      "\n",
      "Test: 20\n",
      "Params: {'in_channels': 1, 'out_channels': 2, 'kernel_size': (5, 1), 'padding': (2, 4), 'stride': (2, 3), 'dilation': (7, 9), 'groups': 1, 'in_batches': 5, 'in_h': 34, 'in_w': 20}\n",
      "Result: True\n",
      "\n",
      "\n",
      "Test: 21\n",
      "Params: {'in_channels': 7, 'out_channels': 3, 'kernel_size': (9, 5), 'padding': (5, 10), 'stride': (2, 1), 'dilation': (4, 6), 'groups': 1, 'in_batches': 2, 'in_h': 24, 'in_w': 28}\n"
     ]
    },
    {
     "name": "stderr",
     "output_type": "stream",
     "text": [
      "\r",
      " 11%|████▌                                     | 22/200 [01:37<13:26,  4.53s/it]"
     ]
    },
    {
     "name": "stdout",
     "output_type": "stream",
     "text": [
      "Result: True\n",
      "\n",
      "\n",
      "Test: 22\n",
      "Params: {'in_channels': 15, 'out_channels': 16, 'kernel_size': (5, 1), 'padding': (10, 9), 'stride': (1, 4), 'dilation': (7, 1), 'groups': 1, 'in_batches': 2, 'in_h': 31, 'in_w': 16}\n"
     ]
    },
    {
     "name": "stderr",
     "output_type": "stream",
     "text": [
      "\r",
      " 12%|████▊                                     | 23/200 [01:56<25:48,  8.75s/it]"
     ]
    },
    {
     "name": "stdout",
     "output_type": "stream",
     "text": [
      "Result: True\n",
      "\n",
      "\n",
      "Test: 23\n",
      "Params: {'in_channels': 12, 'out_channels': 2, 'kernel_size': (1, 13), 'padding': (9, 6), 'stride': (3, 3), 'dilation': (10, 1), 'groups': 2, 'in_batches': 5, 'in_h': 16, 'in_w': 32}\n"
     ]
    },
    {
     "name": "stderr",
     "output_type": "stream",
     "text": [
      "\r",
      " 12%|█████                                     | 24/200 [01:57<18:34,  6.33s/it]"
     ]
    },
    {
     "name": "stdout",
     "output_type": "stream",
     "text": [
      "Result: True\n",
      "\n",
      "\n",
      "Test: 24\n",
      "Params: {'in_channels': 6, 'out_channels': 7, 'kernel_size': (10, 4), 'padding': (7, 8), 'stride': (3, 4), 'dilation': (3, 7), 'groups': 1, 'in_batches': 2, 'in_h': 18, 'in_w': 26}\n"
     ]
    },
    {
     "name": "stderr",
     "output_type": "stream",
     "text": [
      "\r",
      " 12%|█████▎                                    | 25/200 [02:01<16:18,  5.59s/it]"
     ]
    },
    {
     "name": "stdout",
     "output_type": "stream",
     "text": [
      "Result: True\n",
      "\n",
      "\n",
      "Test: 25\n",
      "Params: {'in_channels': 2, 'out_channels': 9, 'kernel_size': (9, 2), 'padding': (10, 1), 'stride': (5, 3), 'dilation': (1, 7), 'groups': 1, 'in_batches': 4, 'in_h': 16, 'in_w': 6}\n"
     ]
    },
    {
     "name": "stderr",
     "output_type": "stream",
     "text": [
      " 14%|█████▋                                    | 27/200 [02:01<08:11,  2.84s/it]"
     ]
    },
    {
     "name": "stdout",
     "output_type": "stream",
     "text": [
      "Result: True\n",
      "\n",
      "\n",
      "Test: 26\n",
      "Params: {'in_channels': 3, 'out_channels': 10, 'kernel_size': (1, 16), 'padding': (10, 7), 'stride': (2, 5), 'dilation': (1, 2), 'groups': 1, 'in_batches': 2, 'in_h': 10, 'in_w': 20}\n",
      "Result: True\n",
      "\n",
      "\n",
      "Test: 27\n",
      "Params: {'in_channels': 14, 'out_channels': 6, 'kernel_size': (3, 8), 'padding': (2, 4), 'stride': (5, 4), 'dilation': (4, 1), 'groups': 2, 'in_batches': 2, 'in_h': 7, 'in_w': 14}\n"
     ]
    },
    {
     "name": "stderr",
     "output_type": "stream",
     "text": [
      "\r",
      " 14%|█████▉                                    | 28/200 [02:01<05:50,  2.04s/it]"
     ]
    },
    {
     "name": "stdout",
     "output_type": "stream",
     "text": [
      "Result: True\n",
      "\n",
      "\n",
      "Test: 28\n",
      "Params: {'in_channels': 10, 'out_channels': 9, 'kernel_size': (5, 10), 'padding': (9, 3), 'stride': (4, 1), 'dilation': (6, 3), 'groups': 1, 'in_batches': 3, 'in_h': 26, 'in_w': 29}\n"
     ]
    },
    {
     "name": "stderr",
     "output_type": "stream",
     "text": [
      " 15%|██████▎                                   | 30/200 [02:45<29:14, 10.32s/it]"
     ]
    },
    {
     "name": "stdout",
     "output_type": "stream",
     "text": [
      "Result: True\n",
      "\n",
      "\n",
      "Test: 29\n",
      "Params: {'in_channels': 2, 'out_channels': 14, 'kernel_size': (8, 1), 'padding': (9, 8), 'stride': (5, 4), 'dilation': (2, 1), 'groups': 2, 'in_batches': 2, 'in_h': 20, 'in_w': 15}\n",
      "Result: True\n",
      "\n",
      "\n",
      "Test: 30\n",
      "Params: {'in_channels': 4, 'out_channels': 1, 'kernel_size': (1, 2), 'padding': (7, 5), 'stride': (1, 1), 'dilation': (6, 10), 'groups': 1, 'in_batches': 3, 'in_h': 18, 'in_w': 23}\n"
     ]
    },
    {
     "name": "stderr",
     "output_type": "stream",
     "text": [
      "\r",
      " 16%|██████▌                                   | 31/200 [02:46<20:52,  7.41s/it]"
     ]
    },
    {
     "name": "stdout",
     "output_type": "stream",
     "text": [
      "Result: True\n",
      "\n",
      "\n",
      "Test: 31\n",
      "Params: {'in_channels': 5, 'out_channels': 2, 'kernel_size': (6, 3), 'padding': (2, 2), 'stride': (4, 3), 'dilation': (2, 5), 'groups': 1, 'in_batches': 5, 'in_h': 9, 'in_w': 10}\n",
      "Result: True\n",
      "\n",
      "\n",
      "Test: 32\n",
      "Params: {'in_channels': 1, 'out_channels': 11, 'kernel_size': (1, 5), 'padding': (6, 9), 'stride': (3, 1), 'dilation': (6, 3), 'groups': 1, 'in_batches': 1, 'in_h': 18, 'in_w': 20}\n"
     ]
    },
    {
     "name": "stderr",
     "output_type": "stream",
     "text": [
      "\r",
      " 16%|██████▉                                   | 33/200 [02:46<11:19,  4.07s/it]"
     ]
    },
    {
     "name": "stdout",
     "output_type": "stream",
     "text": [
      "Result: True\n",
      "\n",
      "\n",
      "Test: 33\n",
      "Params: {'in_channels': 9, 'out_channels': 6, 'kernel_size': (3, 5), 'padding': (4, 7), 'stride': (4, 3), 'dilation': (2, 8), 'groups': 1, 'in_batches': 3, 'in_h': 12, 'in_w': 19}\n"
     ]
    },
    {
     "name": "stderr",
     "output_type": "stream",
     "text": [
      "\r",
      " 17%|███████▏                                  | 34/200 [02:47<08:54,  3.22s/it]"
     ]
    },
    {
     "name": "stdout",
     "output_type": "stream",
     "text": [
      "Result: True\n",
      "\n",
      "\n",
      "Test: 34\n",
      "Params: {'in_channels': 4, 'out_channels': 19, 'kernel_size': (4, 1), 'padding': (8, 8), 'stride': (4, 3), 'dilation': (7, 5), 'groups': 1, 'in_batches': 1, 'in_h': 21, 'in_w': 7}\n"
     ]
    },
    {
     "name": "stderr",
     "output_type": "stream",
     "text": [
      "\r",
      " 18%|███████▎                                  | 35/200 [02:47<06:48,  2.48s/it]"
     ]
    },
    {
     "name": "stdout",
     "output_type": "stream",
     "text": [
      "Result: True\n",
      "\n",
      "\n",
      "Test: 35\n",
      "Params: {'in_channels': 19, 'out_channels': 11, 'kernel_size': (20, 10), 'padding': (10, 10), 'stride': (1, 5), 'dilation': (2, 3), 'groups': 1, 'in_batches': 3, 'in_h': 30, 'in_w': 16}\n"
     ]
    },
    {
     "name": "stderr",
     "output_type": "stream",
     "text": [
      "\r",
      " 18%|███████▏                                | 36/200 [04:24<1:17:03, 28.19s/it]"
     ]
    },
    {
     "name": "stdout",
     "output_type": "stream",
     "text": [
      "Result: True\n",
      "\n",
      "\n",
      "Test: 36\n",
      "Params: {'in_channels': 7, 'out_channels': 3, 'kernel_size': (5, 1), 'padding': (4, 8), 'stride': (3, 2), 'dilation': (3, 8), 'groups': 1, 'in_batches': 3, 'in_h': 21, 'in_w': 6}\n"
     ]
    },
    {
     "name": "stderr",
     "output_type": "stream",
     "text": [
      "\r",
      " 18%|███████▊                                  | 37/200 [04:25<55:26, 20.41s/it]"
     ]
    },
    {
     "name": "stdout",
     "output_type": "stream",
     "text": [
      "Result: True\n",
      "\n",
      "\n",
      "Test: 37\n",
      "Params: {'in_channels': 8, 'out_channels': 4, 'kernel_size': (6, 6), 'padding': (4, 3), 'stride': (5, 1), 'dilation': (1, 1), 'groups': 2, 'in_batches': 3, 'in_h': 9, 'in_w': 18}\n"
     ]
    },
    {
     "name": "stderr",
     "output_type": "stream",
     "text": [
      "\r",
      " 19%|███████▉                                  | 38/200 [04:25<39:50, 14.76s/it]"
     ]
    },
    {
     "name": "stdout",
     "output_type": "stream",
     "text": [
      "Result: True\n",
      "\n",
      "\n",
      "Test: 38\n",
      "Params: {'in_channels': 10, 'out_channels': 10, 'kernel_size': (3, 8), 'padding': (10, 8), 'stride': (4, 2), 'dilation': (9, 3), 'groups': 10, 'in_batches': 5, 'in_h': 18, 'in_w': 12}\n"
     ]
    },
    {
     "name": "stderr",
     "output_type": "stream",
     "text": [
      "\r",
      " 20%|████████▏                                 | 39/200 [04:28<30:02, 11.19s/it]"
     ]
    },
    {
     "name": "stdout",
     "output_type": "stream",
     "text": [
      "Result: True\n",
      "\n",
      "\n",
      "Test: 39\n",
      "Params: {'in_channels': 4, 'out_channels': 4, 'kernel_size': (8, 12), 'padding': (4, 10), 'stride': (4, 1), 'dilation': (1, 4), 'groups': 2, 'in_batches': 5, 'in_h': 20, 'in_w': 31}\n"
     ]
    },
    {
     "name": "stderr",
     "output_type": "stream",
     "text": [
      "\r",
      " 20%|████████▍                                 | 40/200 [04:32<24:16,  9.11s/it]"
     ]
    },
    {
     "name": "stdout",
     "output_type": "stream",
     "text": [
      "Result: True\n",
      "\n",
      "\n",
      "Test: 40\n",
      "Params: {'in_channels': 4, 'out_channels': 1, 'kernel_size': (2, 5), 'padding': (6, 9), 'stride': (4, 1), 'dilation': (9, 3), 'groups': 1, 'in_batches': 4, 'in_h': 29, 'in_w': 16}\n"
     ]
    },
    {
     "name": "stderr",
     "output_type": "stream",
     "text": [
      "\r",
      " 20%|████████▌                                 | 41/200 [04:34<18:42,  7.06s/it]"
     ]
    },
    {
     "name": "stdout",
     "output_type": "stream",
     "text": [
      "Result: True\n",
      "\n",
      "\n",
      "Test: 41\n",
      "Params: {'in_channels': 3, 'out_channels': 20, 'kernel_size': (6, 10), 'padding': (5, 8), 'stride': (5, 1), 'dilation': (3, 4), 'groups': 1, 'in_batches': 5, 'in_h': 17, 'in_w': 23}\n"
     ]
    },
    {
     "name": "stderr",
     "output_type": "stream",
     "text": [
      " 22%|█████████                                 | 43/200 [04:44<14:21,  5.49s/it]"
     ]
    },
    {
     "name": "stdout",
     "output_type": "stream",
     "text": [
      "Result: True\n",
      "\n",
      "\n",
      "Test: 42\n",
      "Params: {'in_channels': 9, 'out_channels': 19, 'kernel_size': (1, 4), 'padding': (7, 5), 'stride': (5, 4), 'dilation': (3, 5), 'groups': 1, 'in_batches': 1, 'in_h': 27, 'in_w': 8}\n",
      "Result: True\n",
      "\n",
      "\n",
      "Test: 43\n",
      "Params: {'in_channels': 3, 'out_channels': 15, 'kernel_size': (5, 3), 'padding': (5, 2), 'stride': (1, 4), 'dilation': (2, 1), 'groups': 1, 'in_batches': 1, 'in_h': 10, 'in_w': 13}\n"
     ]
    },
    {
     "name": "stderr",
     "output_type": "stream",
     "text": [
      "\r",
      " 22%|█████████▏                                | 44/200 [04:44<10:18,  3.96s/it]"
     ]
    },
    {
     "name": "stdout",
     "output_type": "stream",
     "text": [
      "Result: True\n",
      "\n",
      "\n",
      "Test: 44\n",
      "Params: {'in_channels': 2, 'out_channels': 14, 'kernel_size': (13, 6), 'padding': (1, 9), 'stride': (3, 3), 'dilation': (1, 2), 'groups': 1, 'in_batches': 2, 'in_h': 11, 'in_w': 8}\n"
     ]
    },
    {
     "name": "stderr",
     "output_type": "stream",
     "text": [
      "\r",
      " 22%|█████████▍                                | 45/200 [04:44<07:25,  2.87s/it]"
     ]
    },
    {
     "name": "stdout",
     "output_type": "stream",
     "text": [
      "Result: True\n",
      "\n",
      "\n",
      "Test: 45\n",
      "Params: {'in_channels': 5, 'out_channels': 4, 'kernel_size': (7, 16), 'padding': (9, 7), 'stride': (4, 3), 'dilation': (5, 1), 'groups': 1, 'in_batches': 2, 'in_h': 30, 'in_w': 34}\n"
     ]
    },
    {
     "name": "stderr",
     "output_type": "stream",
     "text": [
      "\r",
      " 23%|█████████▋                                | 46/200 [04:51<10:08,  3.95s/it]"
     ]
    },
    {
     "name": "stdout",
     "output_type": "stream",
     "text": [
      "Result: True\n",
      "\n",
      "\n",
      "Test: 46\n",
      "Params: {'in_channels': 3, 'out_channels': 18, 'kernel_size': (10, 3), 'padding': (4, 5), 'stride': (3, 5), 'dilation': (4, 2), 'groups': 1, 'in_batches': 4, 'in_h': 30, 'in_w': 29}\n"
     ]
    },
    {
     "name": "stderr",
     "output_type": "stream",
     "text": [
      "\r",
      " 24%|█████████▊                                | 47/200 [04:53<08:22,  3.28s/it]"
     ]
    },
    {
     "name": "stdout",
     "output_type": "stream",
     "text": [
      "Result: True\n",
      "\n",
      "\n",
      "Test: 47\n",
      "Params: {'in_channels': 3, 'out_channels': 15, 'kernel_size': (4, 1), 'padding': (6, 3), 'stride': (4, 5), 'dilation': (5, 4), 'groups': 3, 'in_batches': 1, 'in_h': 33, 'in_w': 14}\n",
      "Result: True\n",
      "\n",
      "\n",
      "Test: 48\n",
      "Params: {'in_channels': 5, 'out_channels': 15, 'kernel_size': (1, 16), 'padding': (8, 3), 'stride': (2, 3), 'dilation': (3, 2), 'groups': 1, 'in_batches': 1, 'in_h': 26, 'in_w': 33}\n"
     ]
    },
    {
     "name": "stderr",
     "output_type": "stream",
     "text": [
      "\r",
      " 24%|██████████▎                               | 49/200 [04:53<05:00,  1.99s/it]"
     ]
    },
    {
     "name": "stdout",
     "output_type": "stream",
     "text": [
      "Result: True\n",
      "\n",
      "\n",
      "Test: 49\n",
      "Params: {'in_channels': 2, 'out_channels': 16, 'kernel_size': (13, 10), 'padding': (1, 4), 'stride': (1, 4), 'dilation': (2, 2), 'groups': 2, 'in_batches': 3, 'in_h': 23, 'in_w': 28}\n"
     ]
    },
    {
     "name": "stderr",
     "output_type": "stream",
     "text": [
      "\r",
      " 25%|██████████▌                               | 50/200 [04:54<04:10,  1.67s/it]"
     ]
    },
    {
     "name": "stdout",
     "output_type": "stream",
     "text": [
      "Result: True\n",
      "\n",
      "\n",
      "Test: 50\n",
      "Params: {'in_channels': 10, 'out_channels': 1, 'kernel_size': (7, 1), 'padding': (10, 5), 'stride': (1, 4), 'dilation': (5, 9), 'groups': 1, 'in_batches': 3, 'in_h': 25, 'in_w': 9}\n"
     ]
    },
    {
     "name": "stderr",
     "output_type": "stream",
     "text": [
      "\r",
      " 26%|██████████▋                               | 51/200 [04:55<03:21,  1.35s/it]"
     ]
    },
    {
     "name": "stdout",
     "output_type": "stream",
     "text": [
      "Result: True\n",
      "\n",
      "\n",
      "Test: 51\n",
      "Params: {'in_channels': 7, 'out_channels': 14, 'kernel_size': (9, 9), 'padding': (9, 6), 'stride': (3, 1), 'dilation': (4, 3), 'groups': 1, 'in_batches': 1, 'in_h': 28, 'in_w': 15}\n"
     ]
    },
    {
     "name": "stderr",
     "output_type": "stream",
     "text": [
      "\r",
      " 26%|██████████▉                               | 52/200 [05:02<07:22,  2.99s/it]"
     ]
    },
    {
     "name": "stdout",
     "output_type": "stream",
     "text": [
      "Result: True\n",
      "\n",
      "\n",
      "Test: 52\n",
      "Params: {'in_channels': 4, 'out_channels': 20, 'kernel_size': (2, 9), 'padding': (8, 3), 'stride': (5, 2), 'dilation': (3, 2), 'groups': 1, 'in_batches': 4, 'in_h': 27, 'in_w': 16}\n"
     ]
    },
    {
     "name": "stderr",
     "output_type": "stream",
     "text": [
      "\r",
      " 26%|███████████▏                              | 53/200 [05:05<07:23,  3.02s/it]"
     ]
    },
    {
     "name": "stdout",
     "output_type": "stream",
     "text": [
      "Result: True\n",
      "\n",
      "\n",
      "Test: 53\n",
      "Params: {'in_channels': 4, 'out_channels': 5, 'kernel_size': (3, 17), 'padding': (5, 8), 'stride': (1, 2), 'dilation': (1, 1), 'groups': 1, 'in_batches': 3, 'in_h': 28, 'in_w': 28}\n"
     ]
    },
    {
     "name": "stderr",
     "output_type": "stream",
     "text": [
      "\r",
      " 27%|███████████▎                              | 54/200 [05:14<11:39,  4.79s/it]"
     ]
    },
    {
     "name": "stdout",
     "output_type": "stream",
     "text": [
      "Result: True\n",
      "\n",
      "\n",
      "Test: 54\n",
      "Params: {'in_channels': 9, 'out_channels': 3, 'kernel_size': (3, 3), 'padding': (7, 3), 'stride': (4, 3), 'dilation': (2, 8), 'groups': 3, 'in_batches': 1, 'in_h': 25, 'in_w': 33}\n"
     ]
    },
    {
     "name": "stderr",
     "output_type": "stream",
     "text": [
      " 28%|███████████▊                              | 56/200 [05:15<06:02,  2.52s/it]"
     ]
    },
    {
     "name": "stdout",
     "output_type": "stream",
     "text": [
      "Result: True\n",
      "\n",
      "\n",
      "Test: 55\n",
      "Params: {'in_channels': 2, 'out_channels': 3, 'kernel_size': (10, 1), 'padding': (4, 10), 'stride': (2, 5), 'dilation': (2, 4), 'groups': 1, 'in_batches': 2, 'in_h': 25, 'in_w': 23}\n",
      "Result: True\n",
      "\n",
      "\n",
      "Test: 56\n",
      "Params: {'in_channels': 4, 'out_channels': 12, 'kernel_size': (5, 3), 'padding': (9, 9), 'stride': (3, 5), 'dilation': (8, 5), 'groups': 1, 'in_batches': 3, 'in_h': 17, 'in_w': 5}\n"
     ]
    },
    {
     "name": "stderr",
     "output_type": "stream",
     "text": [
      " 29%|████████████▏                             | 58/200 [05:16<03:33,  1.51s/it]"
     ]
    },
    {
     "name": "stdout",
     "output_type": "stream",
     "text": [
      "Result: True\n",
      "\n",
      "\n",
      "Test: 57\n",
      "Params: {'in_channels': 1, 'out_channels': 3, 'kernel_size': (6, 9), 'padding': (3, 8), 'stride': (5, 3), 'dilation': (5, 2), 'groups': 1, 'in_batches': 2, 'in_h': 26, 'in_w': 16}\n",
      "Result: True\n",
      "\n",
      "\n",
      "Test: 58\n",
      "Params: {'in_channels': 3, 'out_channels': 6, 'kernel_size': (16, 3), 'padding': (6, 2), 'stride': (3, 5), 'dilation': (1, 8), 'groups': 1, 'in_batches': 2, 'in_h': 16, 'in_w': 21}\n"
     ]
    },
    {
     "name": "stderr",
     "output_type": "stream",
     "text": [
      "\r",
      " 30%|████████████▍                             | 59/200 [05:17<02:54,  1.24s/it]"
     ]
    },
    {
     "name": "stdout",
     "output_type": "stream",
     "text": [
      "Result: True\n",
      "\n",
      "\n",
      "Test: 59\n",
      "Params: {'in_channels': 8, 'out_channels': 20, 'kernel_size': (1, 3), 'padding': (7, 7), 'stride': (2, 3), 'dilation': (4, 2), 'groups': 2, 'in_batches': 1, 'in_h': 28, 'in_w': 22}\n"
     ]
    },
    {
     "name": "stderr",
     "output_type": "stream",
     "text": [
      "\r",
      " 30%|████████████▌                             | 60/200 [05:17<02:27,  1.05s/it]"
     ]
    },
    {
     "name": "stdout",
     "output_type": "stream",
     "text": [
      "Result: True\n",
      "\n",
      "\n",
      "Test: 60\n",
      "Params: {'in_channels': 1, 'out_channels': 8, 'kernel_size': (5, 17), 'padding': (7, 5), 'stride': (5, 2), 'dilation': (1, 1), 'groups': 1, 'in_batches': 4, 'in_h': 13, 'in_w': 17}\n"
     ]
    },
    {
     "name": "stderr",
     "output_type": "stream",
     "text": [
      "\r",
      " 30%|████████████▊                             | 61/200 [05:18<02:04,  1.12it/s]"
     ]
    },
    {
     "name": "stdout",
     "output_type": "stream",
     "text": [
      "Result: True\n",
      "\n",
      "\n",
      "Test: 61\n",
      "Params: {'in_channels': 4, 'out_channels': 2, 'kernel_size': (18, 2), 'padding': (1, 6), 'stride': (4, 3), 'dilation': (1, 2), 'groups': 2, 'in_batches': 3, 'in_h': 24, 'in_w': 7}\n",
      "Result: True\n",
      "\n",
      "\n",
      "Test: 62\n",
      "Params: {'in_channels': 4, 'out_channels': 20, 'kernel_size': (4, 10), 'padding': (2, 4), 'stride': (2, 4), 'dilation': (1, 2), 'groups': 2, 'in_batches': 1, 'in_h': 20, 'in_w': 14}\n"
     ]
    },
    {
     "name": "stderr",
     "output_type": "stream",
     "text": [
      "\r",
      " 32%|█████████████▏                            | 63/200 [05:18<01:15,  1.82it/s]"
     ]
    },
    {
     "name": "stdout",
     "output_type": "stream",
     "text": [
      "Result: True\n",
      "\n",
      "\n",
      "Test: 63\n",
      "Params: {'in_channels': 12, 'out_channels': 10, 'kernel_size': (5, 2), 'padding': (6, 8), 'stride': (4, 5), 'dilation': (5, 2), 'groups': 2, 'in_batches': 2, 'in_h': 14, 'in_w': 25}\n"
     ]
    },
    {
     "name": "stderr",
     "output_type": "stream",
     "text": [
      "\r",
      " 32%|█████████████▍                            | 64/200 [05:19<01:22,  1.66it/s]"
     ]
    },
    {
     "name": "stdout",
     "output_type": "stream",
     "text": [
      "Result: True\n",
      "\n",
      "\n",
      "Test: 64\n",
      "Params: {'in_channels': 1, 'out_channels': 11, 'kernel_size': (4, 12), 'padding': (6, 5), 'stride': (4, 2), 'dilation': (6, 1), 'groups': 1, 'in_batches': 2, 'in_h': 18, 'in_w': 28}\n"
     ]
    },
    {
     "name": "stderr",
     "output_type": "stream",
     "text": [
      "\r",
      " 32%|█████████████▋                            | 65/200 [05:20<01:44,  1.29it/s]"
     ]
    },
    {
     "name": "stdout",
     "output_type": "stream",
     "text": [
      "Result: True\n",
      "\n",
      "\n",
      "Test: 65\n",
      "Params: {'in_channels': 8, 'out_channels': 14, 'kernel_size': (11, 2), 'padding': (8, 2), 'stride': (4, 4), 'dilation': (2, 3), 'groups': 2, 'in_batches': 5, 'in_h': 20, 'in_w': 26}\n"
     ]
    },
    {
     "name": "stderr",
     "output_type": "stream",
     "text": [
      "\r",
      " 33%|█████████████▊                            | 66/200 [05:24<03:40,  1.65s/it]"
     ]
    },
    {
     "name": "stdout",
     "output_type": "stream",
     "text": [
      "Result: True\n",
      "\n",
      "\n",
      "Test: 66\n",
      "Params: {'in_channels': 3, 'out_channels': 17, 'kernel_size': (11, 5), 'padding': (8, 9), 'stride': (4, 3), 'dilation': (1, 9), 'groups': 1, 'in_batches': 4, 'in_h': 6, 'in_w': 31}\n"
     ]
    },
    {
     "name": "stderr",
     "output_type": "stream",
     "text": [
      "\r",
      " 34%|██████████████                            | 67/200 [05:31<07:13,  3.26s/it]"
     ]
    },
    {
     "name": "stdout",
     "output_type": "stream",
     "text": [
      "Result: True\n",
      "\n",
      "\n",
      "Test: 67\n",
      "Params: {'in_channels': 12, 'out_channels': 12, 'kernel_size': (2, 1), 'padding': (4, 7), 'stride': (1, 1), 'dilation': (9, 3), 'groups': 2, 'in_batches': 3, 'in_h': 6, 'in_w': 8}\n"
     ]
    },
    {
     "name": "stderr",
     "output_type": "stream",
     "text": [
      "\r",
      " 34%|██████████████▎                           | 68/200 [05:33<06:05,  2.77s/it]"
     ]
    },
    {
     "name": "stdout",
     "output_type": "stream",
     "text": [
      "Result: True\n",
      "\n",
      "\n",
      "Test: 68\n",
      "Params: {'in_channels': 4, 'out_channels': 2, 'kernel_size': (3, 7), 'padding': (5, 9), 'stride': (4, 1), 'dilation': (9, 6), 'groups': 1, 'in_batches': 1, 'in_h': 25, 'in_w': 33}\n"
     ]
    },
    {
     "name": "stderr",
     "output_type": "stream",
     "text": [
      "\r",
      " 34%|██████████████▍                           | 69/200 [05:36<05:54,  2.71s/it]"
     ]
    },
    {
     "name": "stdout",
     "output_type": "stream",
     "text": [
      "Result: True\n",
      "\n",
      "\n",
      "Test: 69\n",
      "Params: {'in_channels': 2, 'out_channels': 11, 'kernel_size': (1, 6), 'padding': (2, 3), 'stride': (5, 2), 'dilation': (4, 1), 'groups': 1, 'in_batches': 1, 'in_h': 12, 'in_w': 32}\n",
      "Result: True\n",
      "\n",
      "\n",
      "Test: 70\n",
      "Params: {'in_channels': 4, 'out_channels': 5, 'kernel_size': (5, 5), 'padding': (6, 10), 'stride': (4, 1), 'dilation': (4, 4), 'groups': 1, 'in_batches': 3, 'in_h': 33, 'in_w': 18}\n"
     ]
    },
    {
     "name": "stderr",
     "output_type": "stream",
     "text": [
      "\r",
      " 36%|██████████████▉                           | 71/200 [05:54<11:59,  5.58s/it]"
     ]
    },
    {
     "name": "stdout",
     "output_type": "stream",
     "text": [
      "Result: True\n",
      "\n",
      "\n",
      "Test: 71\n",
      "Params: {'in_channels': 8, 'out_channels': 14, 'kernel_size': (6, 7), 'padding': (4, 8), 'stride': (1, 4), 'dilation': (7, 1), 'groups': 2, 'in_batches': 5, 'in_h': 28, 'in_w': 30}\n"
     ]
    },
    {
     "name": "stderr",
     "output_type": "stream",
     "text": [
      "\r",
      " 36%|███████████████                           | 72/200 [05:58<11:16,  5.29s/it]"
     ]
    },
    {
     "name": "stdout",
     "output_type": "stream",
     "text": [
      "Result: True\n",
      "\n",
      "\n",
      "Test: 72\n",
      "Params: {'in_channels': 4, 'out_channels': 18, 'kernel_size': (3, 3), 'padding': (4, 4), 'stride': (1, 2), 'dilation': (6, 2), 'groups': 2, 'in_batches': 5, 'in_h': 7, 'in_w': 21}\n"
     ]
    },
    {
     "name": "stderr",
     "output_type": "stream",
     "text": [
      "\r",
      " 36%|███████████████▎                          | 73/200 [06:01<09:49,  4.64s/it]"
     ]
    },
    {
     "name": "stdout",
     "output_type": "stream",
     "text": [
      "Result: True\n",
      "\n",
      "\n",
      "Test: 73\n",
      "Params: {'in_channels': 1, 'out_channels': 17, 'kernel_size': (15, 8), 'padding': (5, 8), 'stride': (5, 3), 'dilation': (1, 2), 'groups': 1, 'in_batches': 5, 'in_h': 7, 'in_w': 25}\n"
     ]
    },
    {
     "name": "stderr",
     "output_type": "stream",
     "text": [
      "\r",
      " 37%|███████████████▌                          | 74/200 [06:02<07:43,  3.68s/it]"
     ]
    },
    {
     "name": "stdout",
     "output_type": "stream",
     "text": [
      "Result: True\n",
      "\n",
      "\n",
      "Test: 74\n",
      "Params: {'in_channels': 8, 'out_channels': 4, 'kernel_size': (1, 7), 'padding': (2, 8), 'stride': (3, 4), 'dilation': (3, 7), 'groups': 2, 'in_batches': 4, 'in_h': 30, 'in_w': 31}\n"
     ]
    },
    {
     "name": "stderr",
     "output_type": "stream",
     "text": [
      "\r",
      " 38%|███████████████▊                          | 75/200 [06:02<05:46,  2.77s/it]"
     ]
    },
    {
     "name": "stdout",
     "output_type": "stream",
     "text": [
      "Result: True\n",
      "\n",
      "\n",
      "Test: 75\n",
      "Params: {'in_channels': 19, 'out_channels': 20, 'kernel_size': (10, 5), 'padding': (6, 3), 'stride': (5, 3), 'dilation': (3, 6), 'groups': 1, 'in_batches': 2, 'in_h': 34, 'in_w': 29}\n"
     ]
    },
    {
     "name": "stderr",
     "output_type": "stream",
     "text": [
      "\r",
      " 38%|███████████████▉                          | 76/200 [06:54<34:18, 16.60s/it]"
     ]
    },
    {
     "name": "stdout",
     "output_type": "stream",
     "text": [
      "Result: True\n",
      "\n",
      "\n",
      "Test: 76\n",
      "Params: {'in_channels': 13, 'out_channels': 16, 'kernel_size': (4, 15), 'padding': (1, 10), 'stride': (1, 2), 'dilation': (4, 1), 'groups': 1, 'in_batches': 5, 'in_h': 16, 'in_w': 5}\n"
     ]
    },
    {
     "name": "stderr",
     "output_type": "stream",
     "text": [
      "\r",
      " 38%|████████████████▏                         | 77/200 [07:34<47:50, 23.34s/it]"
     ]
    },
    {
     "name": "stdout",
     "output_type": "stream",
     "text": [
      "Result: True\n",
      "\n",
      "\n",
      "Test: 77\n",
      "Params: {'in_channels': 2, 'out_channels': 16, 'kernel_size': (15, 4), 'padding': (2, 10), 'stride': (2, 5), 'dilation': (1, 6), 'groups': 1, 'in_batches': 4, 'in_h': 15, 'in_w': 18}\n"
     ]
    },
    {
     "name": "stderr",
     "output_type": "stream",
     "text": [
      "\r",
      " 39%|████████████████▍                         | 78/200 [07:36<34:52, 17.16s/it]"
     ]
    },
    {
     "name": "stdout",
     "output_type": "stream",
     "text": [
      "Result: True\n",
      "\n",
      "\n",
      "Test: 78\n",
      "Params: {'in_channels': 7, 'out_channels': 9, 'kernel_size': (10, 4), 'padding': (6, 5), 'stride': (5, 2), 'dilation': (1, 2), 'groups': 1, 'in_batches': 5, 'in_h': 13, 'in_w': 18}\n"
     ]
    },
    {
     "name": "stderr",
     "output_type": "stream",
     "text": [
      "\r",
      " 40%|████████████████▌                         | 79/200 [07:41<27:19, 13.55s/it]"
     ]
    },
    {
     "name": "stdout",
     "output_type": "stream",
     "text": [
      "Result: True\n",
      "\n",
      "\n",
      "Test: 79\n",
      "Params: {'in_channels': 2, 'out_channels': 4, 'kernel_size': (1, 4), 'padding': (5, 5), 'stride': (2, 4), 'dilation': (2, 4), 'groups': 1, 'in_batches': 2, 'in_h': 9, 'in_w': 17}\n",
      "Result: True\n",
      "\n",
      "\n",
      "Test: 80\n",
      "Params: {'in_channels': 4, 'out_channels': 16, 'kernel_size': (5, 3), 'padding': (8, 9), 'stride': (3, 1), 'dilation': (7, 2), 'groups': 4, 'in_batches': 3, 'in_h': 31, 'in_w': 28}\n"
     ]
    },
    {
     "name": "stderr",
     "output_type": "stream",
     "text": [
      "\r",
      " 40%|█████████████████                         | 81/200 [07:51<19:17,  9.72s/it]"
     ]
    },
    {
     "name": "stdout",
     "output_type": "stream",
     "text": [
      "Result: True\n",
      "\n",
      "\n",
      "Test: 81\n",
      "Params: {'in_channels': 2, 'out_channels': 8, 'kernel_size': (2, 6), 'padding': (8, 2), 'stride': (4, 1), 'dilation': (9, 4), 'groups': 1, 'in_batches': 1, 'in_h': 26, 'in_w': 22}\n"
     ]
    },
    {
     "name": "stderr",
     "output_type": "stream",
     "text": [
      "\r",
      " 41%|█████████████████▏                        | 82/200 [07:52<14:52,  7.56s/it]"
     ]
    },
    {
     "name": "stdout",
     "output_type": "stream",
     "text": [
      "Result: True\n",
      "\n",
      "\n",
      "Test: 82\n",
      "Params: {'in_channels': 3, 'out_channels': 2, 'kernel_size': (2, 14), 'padding': (6, 2), 'stride': (2, 1), 'dilation': (8, 1), 'groups': 1, 'in_batches': 2, 'in_h': 9, 'in_w': 34}\n"
     ]
    },
    {
     "name": "stderr",
     "output_type": "stream",
     "text": [
      "\r",
      " 42%|█████████████████▍                        | 83/200 [07:53<11:35,  5.94s/it]"
     ]
    },
    {
     "name": "stdout",
     "output_type": "stream",
     "text": [
      "Result: True\n",
      "\n",
      "\n",
      "Test: 83\n",
      "Params: {'in_channels': 10, 'out_channels': 2, 'kernel_size': (5, 4), 'padding': (8, 6), 'stride': (3, 2), 'dilation': (3, 4), 'groups': 2, 'in_batches': 4, 'in_h': 11, 'in_w': 9}\n"
     ]
    },
    {
     "name": "stderr",
     "output_type": "stream",
     "text": [
      "\r",
      " 42%|█████████████████▋                        | 84/200 [07:54<08:49,  4.57s/it]"
     ]
    },
    {
     "name": "stdout",
     "output_type": "stream",
     "text": [
      "Result: True\n",
      "\n",
      "\n",
      "Test: 84\n",
      "Params: {'in_channels': 6, 'out_channels': 6, 'kernel_size': (6, 3), 'padding': (8, 10), 'stride': (4, 2), 'dilation': (3, 10), 'groups': 2, 'in_batches': 1, 'in_h': 21, 'in_w': 10}\n"
     ]
    },
    {
     "name": "stderr",
     "output_type": "stream",
     "text": [
      "\r",
      " 42%|█████████████████▊                        | 85/200 [07:55<06:48,  3.55s/it]"
     ]
    },
    {
     "name": "stdout",
     "output_type": "stream",
     "text": [
      "Result: True\n",
      "\n",
      "\n",
      "Test: 85\n",
      "Params: {'in_channels': 2, 'out_channels': 6, 'kernel_size': (3, 16), 'padding': (2, 9), 'stride': (5, 2), 'dilation': (7, 1), 'groups': 2, 'in_batches': 3, 'in_h': 13, 'in_w': 16}\n"
     ]
    },
    {
     "name": "stderr",
     "output_type": "stream",
     "text": [
      "\r",
      " 43%|██████████████████                        | 86/200 [07:55<04:56,  2.60s/it]"
     ]
    },
    {
     "name": "stdout",
     "output_type": "stream",
     "text": [
      "Result: True\n",
      "\n",
      "\n",
      "Test: 86\n",
      "Params: {'in_channels': 9, 'out_channels': 19, 'kernel_size': (3, 8), 'padding': (10, 4), 'stride': (1, 3), 'dilation': (7, 3), 'groups': 1, 'in_batches': 5, 'in_h': 34, 'in_w': 30}\n"
     ]
    },
    {
     "name": "stderr",
     "output_type": "stream",
     "text": [
      "\r",
      " 44%|████████████████▉                      | 87/200 [13:38<3:10:26, 101.12s/it]"
     ]
    },
    {
     "name": "stdout",
     "output_type": "stream",
     "text": [
      "Result: True\n",
      "\n",
      "\n",
      "Test: 87\n",
      "Params: {'in_channels': 20, 'out_channels': 20, 'kernel_size': (14, 6), 'padding': (7, 8), 'stride': (2, 2), 'dilation': (1, 1), 'groups': 4, 'in_batches': 3, 'in_h': 14, 'in_w': 28}\n"
     ]
    },
    {
     "name": "stderr",
     "output_type": "stream",
     "text": [
      "\r",
      " 44%|█████████████████▌                      | 88/200 [13:59<2:24:40, 77.50s/it]"
     ]
    },
    {
     "name": "stdout",
     "output_type": "stream",
     "text": [
      "Result: True\n",
      "\n",
      "\n",
      "Test: 88\n",
      "Params: {'in_channels': 3, 'out_channels': 10, 'kernel_size': (13, 5), 'padding': (4, 7), 'stride': (1, 5), 'dilation': (3, 2), 'groups': 1, 'in_batches': 5, 'in_h': 32, 'in_w': 16}\n"
     ]
    },
    {
     "name": "stderr",
     "output_type": "stream",
     "text": [
      " 45%|██████████████████                      | 90/200 [14:04<1:12:29, 39.54s/it]"
     ]
    },
    {
     "name": "stdout",
     "output_type": "stream",
     "text": [
      "Result: True\n",
      "\n",
      "\n",
      "Test: 89\n",
      "Params: {'in_channels': 14, 'out_channels': 8, 'kernel_size': (1, 4), 'padding': (10, 3), 'stride': (1, 5), 'dilation': (10, 1), 'groups': 2, 'in_batches': 1, 'in_h': 9, 'in_w': 22}\n",
      "Result: True\n",
      "\n",
      "\n",
      "Test: 90\n",
      "Params: {'in_channels': 3, 'out_channels': 9, 'kernel_size': (14, 14), 'padding': (7, 9), 'stride': (2, 4), 'dilation': (1, 2), 'groups': 3, 'in_batches': 3, 'in_h': 25, 'in_w': 11}\n"
     ]
    },
    {
     "name": "stderr",
     "output_type": "stream",
     "text": [
      "\r",
      " 46%|███████████████████                       | 91/200 [14:05<50:50, 27.99s/it]"
     ]
    },
    {
     "name": "stdout",
     "output_type": "stream",
     "text": [
      "Result: True\n",
      "\n",
      "\n",
      "Test: 91\n",
      "Params: {'in_channels': 4, 'out_channels': 1, 'kernel_size': (3, 6), 'padding': (3, 1), 'stride': (3, 3), 'dilation': (6, 2), 'groups': 1, 'in_batches': 2, 'in_h': 31, 'in_w': 32}\n"
     ]
    },
    {
     "name": "stderr",
     "output_type": "stream",
     "text": [
      "\r",
      " 46%|███████████████████▎                      | 92/200 [14:05<35:35, 19.77s/it]"
     ]
    },
    {
     "name": "stdout",
     "output_type": "stream",
     "text": [
      "Result: True\n",
      "\n",
      "\n",
      "Test: 92\n",
      "Params: {'in_channels': 9, 'out_channels': 18, 'kernel_size': (7, 4), 'padding': (10, 6), 'stride': (2, 5), 'dilation': (6, 4), 'groups': 9, 'in_batches': 5, 'in_h': 30, 'in_w': 31}\n"
     ]
    },
    {
     "name": "stderr",
     "output_type": "stream",
     "text": [
      "\r",
      " 46%|███████████████████▌                      | 93/200 [14:16<30:25, 17.06s/it]"
     ]
    },
    {
     "name": "stdout",
     "output_type": "stream",
     "text": [
      "Result: True\n",
      "\n",
      "\n",
      "Test: 93\n",
      "Params: {'in_channels': 2, 'out_channels': 17, 'kernel_size': (6, 6), 'padding': (7, 10), 'stride': (2, 3), 'dilation': (1, 2), 'groups': 1, 'in_batches': 2, 'in_h': 20, 'in_w': 32}\n"
     ]
    },
    {
     "name": "stderr",
     "output_type": "stream",
     "text": [
      "\r",
      " 47%|███████████████████▋                      | 94/200 [14:20<23:38, 13.38s/it]"
     ]
    },
    {
     "name": "stdout",
     "output_type": "stream",
     "text": [
      "Result: True\n",
      "\n",
      "\n",
      "Test: 94\n",
      "Params: {'in_channels': 5, 'out_channels': 1, 'kernel_size': (6, 6), 'padding': (2, 8), 'stride': (3, 2), 'dilation': (4, 5), 'groups': 1, 'in_batches': 4, 'in_h': 21, 'in_w': 27}\n"
     ]
    },
    {
     "name": "stderr",
     "output_type": "stream",
     "text": [
      "\r",
      " 48%|███████████████████▉                      | 95/200 [14:21<16:56,  9.68s/it]"
     ]
    },
    {
     "name": "stdout",
     "output_type": "stream",
     "text": [
      "Result: True\n",
      "\n",
      "\n",
      "Test: 95\n",
      "Params: {'in_channels': 15, 'out_channels': 5, 'kernel_size': (1, 4), 'padding': (5, 10), 'stride': (5, 5), 'dilation': (4, 7), 'groups': 1, 'in_batches': 3, 'in_h': 22, 'in_w': 9}\n"
     ]
    },
    {
     "name": "stderr",
     "output_type": "stream",
     "text": [
      "\r",
      " 48%|████████████████████▏                     | 96/200 [14:22<11:56,  6.89s/it]"
     ]
    },
    {
     "name": "stdout",
     "output_type": "stream",
     "text": [
      "Result: True\n",
      "\n",
      "\n",
      "Test: 96\n",
      "Params: {'in_channels': 16, 'out_channels': 6, 'kernel_size': (2, 3), 'padding': (7, 4), 'stride': (2, 5), 'dilation': (9, 3), 'groups': 1, 'in_batches': 1, 'in_h': 16, 'in_w': 28}\n"
     ]
    },
    {
     "name": "stderr",
     "output_type": "stream",
     "text": [
      "\r",
      " 48%|████████████████████▎                     | 97/200 [14:24<09:24,  5.48s/it]"
     ]
    },
    {
     "name": "stdout",
     "output_type": "stream",
     "text": [
      "Result: True\n",
      "\n",
      "\n",
      "Test: 97\n",
      "Params: {'in_channels': 7, 'out_channels': 12, 'kernel_size': (4, 19), 'padding': (8, 3), 'stride': (3, 2), 'dilation': (4, 2), 'groups': 1, 'in_batches': 3, 'in_h': 31, 'in_w': 33}\n"
     ]
    },
    {
     "name": "stderr",
     "output_type": "stream",
     "text": [
      "\r",
      " 49%|████████████████████▌                     | 98/200 [14:38<13:52,  8.17s/it]"
     ]
    },
    {
     "name": "stdout",
     "output_type": "stream",
     "text": [
      "Result: True\n",
      "\n",
      "\n",
      "Test: 98\n",
      "Params: {'in_channels': 2, 'out_channels': 8, 'kernel_size': (18, 4), 'padding': (6, 6), 'stride': (3, 5), 'dilation': (1, 2), 'groups': 1, 'in_batches': 5, 'in_h': 28, 'in_w': 31}\n"
     ]
    },
    {
     "name": "stderr",
     "output_type": "stream",
     "text": [
      "\r",
      " 50%|████████████████████▊                     | 99/200 [14:42<11:16,  6.70s/it]"
     ]
    },
    {
     "name": "stdout",
     "output_type": "stream",
     "text": [
      "Result: True\n",
      "\n",
      "\n",
      "Test: 99\n",
      "Params: {'in_channels': 5, 'out_channels': 20, 'kernel_size': (7, 17), 'padding': (7, 9), 'stride': (2, 1), 'dilation': (2, 2), 'groups': 5, 'in_batches': 5, 'in_h': 8, 'in_w': 17}\n"
     ]
    },
    {
     "name": "stderr",
     "output_type": "stream",
     "text": [
      "\r",
      " 50%|████████████████████▌                    | 100/200 [14:45<09:25,  5.65s/it]"
     ]
    },
    {
     "name": "stdout",
     "output_type": "stream",
     "text": [
      "Result: True\n",
      "\n",
      "\n",
      "Test: 100\n",
      "Params: {'in_channels': 12, 'out_channels': 3, 'kernel_size': (3, 4), 'padding': (10, 7), 'stride': (2, 3), 'dilation': (2, 2), 'groups': 3, 'in_batches': 2, 'in_h': 5, 'in_w': 21}\n"
     ]
    },
    {
     "name": "stderr",
     "output_type": "stream",
     "text": [
      "\r",
      " 50%|████████████████████▋                    | 101/200 [14:45<06:46,  4.11s/it]"
     ]
    },
    {
     "name": "stdout",
     "output_type": "stream",
     "text": [
      "Result: True\n",
      "\n",
      "\n",
      "Test: 101\n",
      "Params: {'in_channels': 2, 'out_channels': 12, 'kernel_size': (2, 1), 'padding': (6, 9), 'stride': (2, 5), 'dilation': (10, 3), 'groups': 2, 'in_batches': 5, 'in_h': 17, 'in_w': 25}\n"
     ]
    },
    {
     "name": "stderr",
     "output_type": "stream",
     "text": [
      "\r",
      " 51%|████████████████████▉                    | 102/200 [14:46<04:52,  2.98s/it]"
     ]
    },
    {
     "name": "stdout",
     "output_type": "stream",
     "text": [
      "Result: True\n",
      "\n",
      "\n",
      "Test: 102\n",
      "Params: {'in_channels': 16, 'out_channels': 13, 'kernel_size': (2, 2), 'padding': (1, 3), 'stride': (2, 5), 'dilation': (5, 7), 'groups': 1, 'in_batches': 1, 'in_h': 12, 'in_w': 7}\n"
     ]
    },
    {
     "name": "stderr",
     "output_type": "stream",
     "text": [
      "\r",
      " 52%|█████████████████████                    | 103/200 [14:46<03:37,  2.25s/it]"
     ]
    },
    {
     "name": "stdout",
     "output_type": "stream",
     "text": [
      "Result: True\n",
      "\n",
      "\n",
      "Test: 103\n",
      "Params: {'in_channels': 4, 'out_channels': 15, 'kernel_size': (8, 5), 'padding': (10, 7), 'stride': (3, 5), 'dilation': (4, 2), 'groups': 1, 'in_batches': 2, 'in_h': 24, 'in_w': 15}\n"
     ]
    },
    {
     "name": "stderr",
     "output_type": "stream",
     "text": [
      "\r",
      " 52%|█████████████████████▎                   | 104/200 [14:51<04:47,  2.99s/it]"
     ]
    },
    {
     "name": "stdout",
     "output_type": "stream",
     "text": [
      "Result: True\n",
      "\n",
      "\n",
      "Test: 104\n",
      "Params: {'in_channels': 14, 'out_channels': 14, 'kernel_size': (7, 14), 'padding': (3, 3), 'stride': (3, 3), 'dilation': (4, 1), 'groups': 1, 'in_batches': 2, 'in_h': 30, 'in_w': 25}\n"
     ]
    },
    {
     "name": "stderr",
     "output_type": "stream",
     "text": [
      "\r",
      " 52%|█████████████████████▌                   | 105/200 [15:07<10:59,  6.94s/it]"
     ]
    },
    {
     "name": "stdout",
     "output_type": "stream",
     "text": [
      "Result: True\n",
      "\n",
      "\n",
      "Test: 105\n",
      "Params: {'in_channels': 5, 'out_channels': 6, 'kernel_size': (14, 6), 'padding': (6, 9), 'stride': (1, 3), 'dilation': (2, 7), 'groups': 1, 'in_batches': 3, 'in_h': 18, 'in_w': 30}\n"
     ]
    },
    {
     "name": "stderr",
     "output_type": "stream",
     "text": [
      "\r",
      " 53%|█████████████████████▋                   | 106/200 [15:16<11:48,  7.54s/it]"
     ]
    },
    {
     "name": "stdout",
     "output_type": "stream",
     "text": [
      "Result: True\n",
      "\n",
      "\n",
      "Test: 106\n",
      "Params: {'in_channels': 4, 'out_channels': 15, 'kernel_size': (6, 6), 'padding': (8, 7), 'stride': (5, 1), 'dilation': (1, 4), 'groups': 1, 'in_batches': 3, 'in_h': 5, 'in_w': 7}\n"
     ]
    },
    {
     "name": "stderr",
     "output_type": "stream",
     "text": [
      "\r",
      " 54%|█████████████████████▉                   | 107/200 [15:17<08:24,  5.42s/it]"
     ]
    },
    {
     "name": "stdout",
     "output_type": "stream",
     "text": [
      "Result: True\n",
      "\n",
      "\n",
      "Test: 107\n",
      "Params: {'in_channels': 11, 'out_channels': 20, 'kernel_size': (4, 14), 'padding': (1, 6), 'stride': (2, 5), 'dilation': (3, 2), 'groups': 1, 'in_batches': 5, 'in_h': 14, 'in_w': 22}\n"
     ]
    },
    {
     "name": "stderr",
     "output_type": "stream",
     "text": [
      "\r",
      " 54%|██████████████████████▏                  | 108/200 [15:28<11:14,  7.34s/it]"
     ]
    },
    {
     "name": "stdout",
     "output_type": "stream",
     "text": [
      "Result: True\n",
      "\n",
      "\n",
      "Test: 108\n",
      "Params: {'in_channels': 2, 'out_channels': 12, 'kernel_size': (12, 3), 'padding': (5, 6), 'stride': (1, 1), 'dilation': (1, 7), 'groups': 1, 'in_batches': 2, 'in_h': 29, 'in_w': 24}\n"
     ]
    },
    {
     "name": "stderr",
     "output_type": "stream",
     "text": [
      "\r",
      " 55%|██████████████████████▎                  | 109/200 [15:55<19:46, 13.03s/it]"
     ]
    },
    {
     "name": "stdout",
     "output_type": "stream",
     "text": [
      "Result: True\n",
      "\n",
      "\n",
      "Test: 109\n",
      "Params: {'in_channels': 12, 'out_channels': 8, 'kernel_size': (4, 3), 'padding': (1, 4), 'stride': (2, 5), 'dilation': (1, 1), 'groups': 2, 'in_batches': 1, 'in_h': 30, 'in_w': 18}\n"
     ]
    },
    {
     "name": "stderr",
     "output_type": "stream",
     "text": [
      "\r",
      " 55%|██████████████████████▌                  | 110/200 [15:55<13:47,  9.20s/it]"
     ]
    },
    {
     "name": "stdout",
     "output_type": "stream",
     "text": [
      "Result: True\n",
      "\n",
      "\n",
      "Test: 110\n",
      "Params: {'in_channels': 18, 'out_channels': 5, 'kernel_size': (5, 18), 'padding': (6, 8), 'stride': (2, 5), 'dilation': (4, 1), 'groups': 1, 'in_batches': 5, 'in_h': 32, 'in_w': 32}\n"
     ]
    },
    {
     "name": "stderr",
     "output_type": "stream",
     "text": [
      "\r",
      " 56%|██████████████████████▊                  | 111/200 [17:00<38:29, 25.95s/it]"
     ]
    },
    {
     "name": "stdout",
     "output_type": "stream",
     "text": [
      "Result: True\n",
      "\n",
      "\n",
      "Test: 111\n",
      "Params: {'in_channels': 2, 'out_channels': 2, 'kernel_size': (17, 7), 'padding': (5, 7), 'stride': (1, 5), 'dilation': (1, 5), 'groups': 1, 'in_batches': 5, 'in_h': 23, 'in_w': 28}\n"
     ]
    },
    {
     "name": "stderr",
     "output_type": "stream",
     "text": [
      "\r",
      " 56%|██████████████████████▉                  | 112/200 [17:03<27:51, 19.00s/it]"
     ]
    },
    {
     "name": "stdout",
     "output_type": "stream",
     "text": [
      "Result: True\n",
      "\n",
      "\n",
      "Test: 112\n",
      "Params: {'in_channels': 1, 'out_channels': 20, 'kernel_size': (6, 9), 'padding': (10, 2), 'stride': (1, 2), 'dilation': (1, 1), 'groups': 1, 'in_batches': 1, 'in_h': 30, 'in_w': 32}\n"
     ]
    },
    {
     "name": "stderr",
     "output_type": "stream",
     "text": [
      " 57%|███████████████████████▎                 | 114/200 [17:07<14:29, 10.11s/it]"
     ]
    },
    {
     "name": "stdout",
     "output_type": "stream",
     "text": [
      "Result: True\n",
      "\n",
      "\n",
      "Test: 113\n",
      "Params: {'in_channels': 8, 'out_channels': 6, 'kernel_size': (16, 4), 'padding': (10, 4), 'stride': (5, 2), 'dilation': (2, 1), 'groups': 1, 'in_batches': 1, 'in_h': 15, 'in_w': 7}\n",
      "Result: True\n",
      "\n",
      "\n",
      "Test: 114\n",
      "Params: {'in_channels': 12, 'out_channels': 6, 'kernel_size': (5, 7), 'padding': (3, 5), 'stride': (4, 5), 'dilation': (6, 5), 'groups': 3, 'in_batches': 2, 'in_h': 32, 'in_w': 22}\n"
     ]
    },
    {
     "name": "stderr",
     "output_type": "stream",
     "text": [
      "\r",
      " 57%|███████████████████████▌                 | 115/200 [17:07<10:20,  7.30s/it]"
     ]
    },
    {
     "name": "stdout",
     "output_type": "stream",
     "text": [
      "Result: True\n",
      "\n",
      "\n",
      "Test: 115\n",
      "Params: {'in_channels': 18, 'out_channels': 9, 'kernel_size': (5, 5), 'padding': (2, 9), 'stride': (3, 3), 'dilation': (5, 8), 'groups': 9, 'in_batches': 4, 'in_h': 33, 'in_w': 22}\n"
     ]
    },
    {
     "name": "stderr",
     "output_type": "stream",
     "text": [
      "\r",
      " 58%|███████████████████████▊                 | 116/200 [17:12<09:01,  6.45s/it]"
     ]
    },
    {
     "name": "stdout",
     "output_type": "stream",
     "text": [
      "Result: True\n",
      "\n",
      "\n",
      "Test: 116\n",
      "Params: {'in_channels': 2, 'out_channels': 14, 'kernel_size': (1, 2), 'padding': (5, 9), 'stride': (2, 5), 'dilation': (5, 2), 'groups': 1, 'in_batches': 3, 'in_h': 27, 'in_w': 26}\n"
     ]
    },
    {
     "name": "stderr",
     "output_type": "stream",
     "text": [
      "\r",
      " 58%|███████████████████████▉                 | 117/200 [17:12<06:21,  4.59s/it]"
     ]
    },
    {
     "name": "stdout",
     "output_type": "stream",
     "text": [
      "Result: True\n",
      "\n",
      "\n",
      "Test: 117\n",
      "Params: {'in_channels': 1, 'out_channels': 14, 'kernel_size': (4, 1), 'padding': (5, 5), 'stride': (1, 1), 'dilation': (1, 9), 'groups': 1, 'in_batches': 3, 'in_h': 5, 'in_w': 34}\n"
     ]
    },
    {
     "name": "stderr",
     "output_type": "stream",
     "text": [
      "\r",
      " 59%|████████████████████████▏                | 118/200 [17:13<04:37,  3.39s/it]"
     ]
    },
    {
     "name": "stdout",
     "output_type": "stream",
     "text": [
      "Result: True\n",
      "\n",
      "\n",
      "Test: 118\n",
      "Params: {'in_channels': 4, 'out_channels': 12, 'kernel_size': (4, 4), 'padding': (3, 4), 'stride': (1, 5), 'dilation': (3, 1), 'groups': 4, 'in_batches': 5, 'in_h': 30, 'in_w': 8}\n"
     ]
    },
    {
     "name": "stderr",
     "output_type": "stream",
     "text": [
      "\r",
      " 60%|████████████████████████▍                | 119/200 [17:14<03:38,  2.69s/it]"
     ]
    },
    {
     "name": "stdout",
     "output_type": "stream",
     "text": [
      "Result: True\n",
      "\n",
      "\n",
      "Test: 119\n",
      "Params: {'in_channels': 7, 'out_channels': 20, 'kernel_size': (14, 14), 'padding': (4, 10), 'stride': (4, 1), 'dilation': (1, 1), 'groups': 1, 'in_batches': 1, 'in_h': 16, 'in_w': 17}\n"
     ]
    },
    {
     "name": "stderr",
     "output_type": "stream",
     "text": [
      "\r",
      " 60%|████████████████████████▌                | 120/200 [17:23<06:23,  4.80s/it]"
     ]
    },
    {
     "name": "stdout",
     "output_type": "stream",
     "text": [
      "Result: True\n",
      "\n",
      "\n",
      "Test: 120\n",
      "Params: {'in_channels': 4, 'out_channels': 4, 'kernel_size': (5, 17), 'padding': (2, 10), 'stride': (2, 2), 'dilation': (3, 1), 'groups': 1, 'in_batches': 2, 'in_h': 26, 'in_w': 33}\n"
     ]
    },
    {
     "name": "stderr",
     "output_type": "stream",
     "text": [
      " 61%|█████████████████████████                | 122/200 [17:30<04:54,  3.77s/it]"
     ]
    },
    {
     "name": "stdout",
     "output_type": "stream",
     "text": [
      "Result: True\n",
      "\n",
      "\n",
      "Test: 121\n",
      "Params: {'in_channels': 2, 'out_channels': 12, 'kernel_size': (2, 1), 'padding': (9, 5), 'stride': (1, 5), 'dilation': (6, 5), 'groups': 1, 'in_batches': 1, 'in_h': 8, 'in_w': 28}\n",
      "Result: True\n",
      "\n",
      "\n",
      "Test: 122\n",
      "Params: {'in_channels': 1, 'out_channels': 2, 'kernel_size': (3, 7), 'padding': (10, 8), 'stride': (2, 1), 'dilation': (10, 6), 'groups': 1, 'in_batches': 5, 'in_h': 15, 'in_w': 28}\n"
     ]
    },
    {
     "name": "stderr",
     "output_type": "stream",
     "text": [
      "\r",
      " 62%|█████████████████████████▏               | 123/200 [17:33<04:21,  3.40s/it]"
     ]
    },
    {
     "name": "stdout",
     "output_type": "stream",
     "text": [
      "Result: True\n",
      "\n",
      "\n",
      "Test: 123\n",
      "Params: {'in_channels': 18, 'out_channels': 10, 'kernel_size': (6, 12), 'padding': (8, 6), 'stride': (1, 3), 'dilation': (5, 2), 'groups': 2, 'in_batches': 2, 'in_h': 20, 'in_w': 24}\n"
     ]
    },
    {
     "name": "stderr",
     "output_type": "stream",
     "text": [
      "\r",
      " 62%|█████████████████████████▍               | 124/200 [18:03<14:30, 11.45s/it]"
     ]
    },
    {
     "name": "stdout",
     "output_type": "stream",
     "text": [
      "Result: True\n",
      "\n",
      "\n",
      "Test: 124\n",
      "Params: {'in_channels': 1, 'out_channels': 3, 'kernel_size': (5, 7), 'padding': (3, 1), 'stride': (1, 1), 'dilation': (2, 3), 'groups': 1, 'in_batches': 2, 'in_h': 31, 'in_w': 25}\n"
     ]
    },
    {
     "name": "stderr",
     "output_type": "stream",
     "text": [
      "\r",
      " 62%|█████████████████████████▋               | 125/200 [18:04<10:31,  8.43s/it]"
     ]
    },
    {
     "name": "stdout",
     "output_type": "stream",
     "text": [
      "Result: True\n",
      "\n",
      "\n",
      "Test: 125\n",
      "Params: {'in_channels': 2, 'out_channels': 18, 'kernel_size': (6, 2), 'padding': (7, 4), 'stride': (1, 4), 'dilation': (6, 9), 'groups': 1, 'in_batches': 2, 'in_h': 32, 'in_w': 21}\n"
     ]
    },
    {
     "name": "stderr",
     "output_type": "stream",
     "text": [
      " 64%|██████████████████████████               | 127/200 [18:13<07:21,  6.05s/it]"
     ]
    },
    {
     "name": "stdout",
     "output_type": "stream",
     "text": [
      "Result: True\n",
      "\n",
      "\n",
      "Test: 126\n",
      "Params: {'in_channels': 1, 'out_channels': 4, 'kernel_size': (2, 3), 'padding': (10, 7), 'stride': (5, 5), 'dilation': (6, 8), 'groups': 1, 'in_batches': 5, 'in_h': 12, 'in_w': 9}\n",
      "Result: True\n",
      "\n",
      "\n",
      "Test: 127\n",
      "Params: {'in_channels': 13, 'out_channels': 11, 'kernel_size': (3, 8), 'padding': (7, 8), 'stride': (5, 4), 'dilation': (2, 2), 'groups': 1, 'in_batches': 1, 'in_h': 11, 'in_w': 8}\n"
     ]
    },
    {
     "name": "stderr",
     "output_type": "stream",
     "text": [
      "\r",
      " 64%|██████████████████████████▏              | 128/200 [18:14<05:22,  4.48s/it]"
     ]
    },
    {
     "name": "stdout",
     "output_type": "stream",
     "text": [
      "Result: True\n",
      "\n",
      "\n",
      "Test: 128\n",
      "Params: {'in_channels': 1, 'out_channels': 9, 'kernel_size': (4, 14), 'padding': (9, 7), 'stride': (2, 2), 'dilation': (9, 2), 'groups': 1, 'in_batches': 4, 'in_h': 12, 'in_w': 31}\n"
     ]
    },
    {
     "name": "stderr",
     "output_type": "stream",
     "text": [
      "\r",
      " 64%|██████████████████████████▍              | 129/200 [18:17<04:41,  3.96s/it]"
     ]
    },
    {
     "name": "stdout",
     "output_type": "stream",
     "text": [
      "Result: True\n",
      "\n",
      "\n",
      "Test: 129\n",
      "Params: {'in_channels': 1, 'out_channels': 20, 'kernel_size': (1, 3), 'padding': (2, 7), 'stride': (4, 3), 'dilation': (5, 7), 'groups': 1, 'in_batches': 4, 'in_h': 11, 'in_w': 27}\n"
     ]
    },
    {
     "name": "stderr",
     "output_type": "stream",
     "text": [
      "\r",
      " 65%|██████████████████████████▋              | 130/200 [18:17<03:19,  2.84s/it]"
     ]
    },
    {
     "name": "stdout",
     "output_type": "stream",
     "text": [
      "Result: True\n",
      "\n",
      "\n",
      "Test: 130\n",
      "Params: {'in_channels': 1, 'out_channels': 5, 'kernel_size': (3, 6), 'padding': (7, 6), 'stride': (1, 1), 'dilation': (8, 3), 'groups': 1, 'in_batches': 2, 'in_h': 29, 'in_w': 26}\n"
     ]
    },
    {
     "name": "stderr",
     "output_type": "stream",
     "text": [
      "\r",
      " 66%|██████████████████████████▊              | 131/200 [18:26<05:13,  4.54s/it]"
     ]
    },
    {
     "name": "stdout",
     "output_type": "stream",
     "text": [
      "Result: True\n",
      "\n",
      "\n",
      "Test: 131\n",
      "Params: {'in_channels': 1, 'out_channels': 3, 'kernel_size': (19, 1), 'padding': (10, 9), 'stride': (1, 4), 'dilation': (2, 2), 'groups': 1, 'in_batches': 2, 'in_h': 29, 'in_w': 33}\n"
     ]
    },
    {
     "name": "stderr",
     "output_type": "stream",
     "text": [
      "\r",
      " 66%|███████████████████████████              | 132/200 [18:26<03:40,  3.24s/it]"
     ]
    },
    {
     "name": "stdout",
     "output_type": "stream",
     "text": [
      "Result: True\n",
      "\n",
      "\n",
      "Test: 132\n",
      "Params: {'in_channels': 20, 'out_channels': 14, 'kernel_size': (7, 13), 'padding': (6, 1), 'stride': (4, 2), 'dilation': (3, 1), 'groups': 1, 'in_batches': 4, 'in_h': 19, 'in_w': 25}\n"
     ]
    },
    {
     "name": "stderr",
     "output_type": "stream",
     "text": [
      "\r",
      " 66%|███████████████████████████▎             | 133/200 [19:10<17:20, 15.53s/it]"
     ]
    },
    {
     "name": "stdout",
     "output_type": "stream",
     "text": [
      "Result: True\n",
      "\n",
      "\n",
      "Test: 133\n",
      "Params: {'in_channels': 13, 'out_channels': 14, 'kernel_size': (3, 12), 'padding': (7, 10), 'stride': (3, 1), 'dilation': (3, 2), 'groups': 1, 'in_batches': 2, 'in_h': 27, 'in_w': 25}\n"
     ]
    },
    {
     "name": "stderr",
     "output_type": "stream",
     "text": [
      "\r",
      " 67%|███████████████████████████▍             | 134/200 [20:48<44:21, 40.32s/it]"
     ]
    },
    {
     "name": "stdout",
     "output_type": "stream",
     "text": [
      "Result: True\n",
      "\n",
      "\n",
      "Test: 134\n",
      "Params: {'in_channels': 14, 'out_channels': 5, 'kernel_size': (1, 4), 'padding': (4, 5), 'stride': (2, 5), 'dilation': (10, 10), 'groups': 1, 'in_batches': 4, 'in_h': 31, 'in_w': 25}\n"
     ]
    },
    {
     "name": "stderr",
     "output_type": "stream",
     "text": [
      "\r",
      " 68%|███████████████████████████▋             | 135/200 [20:49<30:52, 28.50s/it]"
     ]
    },
    {
     "name": "stdout",
     "output_type": "stream",
     "text": [
      "Result: True\n",
      "\n",
      "\n",
      "Test: 135\n",
      "Params: {'in_channels': 3, 'out_channels': 9, 'kernel_size': (8, 2), 'padding': (8, 8), 'stride': (1, 3), 'dilation': (4, 9), 'groups': 1, 'in_batches': 5, 'in_h': 31, 'in_w': 8}\n"
     ]
    },
    {
     "name": "stderr",
     "output_type": "stream",
     "text": [
      "\r",
      " 68%|███████████████████████████▉             | 136/200 [21:17<30:14, 28.35s/it]"
     ]
    },
    {
     "name": "stdout",
     "output_type": "stream",
     "text": [
      "Result: True\n",
      "\n",
      "\n",
      "Test: 136\n",
      "Params: {'in_channels': 2, 'out_channels': 3, 'kernel_size': (6, 6), 'padding': (8, 2), 'stride': (1, 4), 'dilation': (3, 5), 'groups': 1, 'in_batches': 1, 'in_h': 29, 'in_w': 24}\n"
     ]
    },
    {
     "name": "stderr",
     "output_type": "stream",
     "text": [
      "\r",
      " 68%|████████████████████████████             | 137/200 [21:18<21:00, 20.00s/it]"
     ]
    },
    {
     "name": "stdout",
     "output_type": "stream",
     "text": [
      "Result: True\n",
      "\n",
      "\n",
      "Test: 137\n",
      "Params: {'in_channels': 7, 'out_channels': 10, 'kernel_size': (3, 8), 'padding': (8, 6), 'stride': (2, 3), 'dilation': (10, 2), 'groups': 1, 'in_batches': 4, 'in_h': 19, 'in_w': 31}\n"
     ]
    },
    {
     "name": "stderr",
     "output_type": "stream",
     "text": [
      "\r",
      " 69%|████████████████████████████▎            | 138/200 [22:04<28:42, 27.78s/it]"
     ]
    },
    {
     "name": "stdout",
     "output_type": "stream",
     "text": [
      "Result: True\n",
      "\n",
      "\n",
      "Test: 138\n",
      "Params: {'in_channels': 2, 'out_channels': 12, 'kernel_size': (1, 9), 'padding': (10, 6), 'stride': (1, 1), 'dilation': (6, 1), 'groups': 1, 'in_batches': 5, 'in_h': 8, 'in_w': 19}\n"
     ]
    },
    {
     "name": "stderr",
     "output_type": "stream",
     "text": [
      "\r",
      " 70%|████████████████████████████▍            | 139/200 [22:08<21:02, 20.69s/it]"
     ]
    },
    {
     "name": "stdout",
     "output_type": "stream",
     "text": [
      "Result: True\n",
      "\n",
      "\n",
      "Test: 139\n",
      "Params: {'in_channels': 2, 'out_channels': 12, 'kernel_size': (4, 1), 'padding': (7, 10), 'stride': (2, 2), 'dilation': (3, 4), 'groups': 2, 'in_batches': 4, 'in_h': 32, 'in_w': 27}\n"
     ]
    },
    {
     "name": "stderr",
     "output_type": "stream",
     "text": [
      "\r",
      " 70%|████████████████████████████▋            | 140/200 [22:09<14:54, 14.91s/it]"
     ]
    },
    {
     "name": "stdout",
     "output_type": "stream",
     "text": [
      "Result: True\n",
      "\n",
      "\n",
      "Test: 140\n",
      "Params: {'in_channels': 8, 'out_channels': 6, 'kernel_size': (8, 2), 'padding': (10, 10), 'stride': (3, 1), 'dilation': (4, 7), 'groups': 2, 'in_batches': 4, 'in_h': 33, 'in_w': 7}\n"
     ]
    },
    {
     "name": "stderr",
     "output_type": "stream",
     "text": [
      "\r",
      " 70%|████████████████████████████▉            | 141/200 [22:31<16:47, 17.07s/it]"
     ]
    },
    {
     "name": "stdout",
     "output_type": "stream",
     "text": [
      "Result: True\n",
      "\n",
      "\n",
      "Test: 141\n",
      "Params: {'in_channels': 6, 'out_channels': 4, 'kernel_size': (4, 3), 'padding': (9, 10), 'stride': (1, 4), 'dilation': (9, 3), 'groups': 2, 'in_batches': 4, 'in_h': 32, 'in_w': 10}\n"
     ]
    },
    {
     "name": "stderr",
     "output_type": "stream",
     "text": [
      "\r",
      " 71%|█████████████████████████████            | 142/200 [22:39<13:51, 14.34s/it]"
     ]
    },
    {
     "name": "stdout",
     "output_type": "stream",
     "text": [
      "Result: True\n",
      "\n",
      "\n",
      "Test: 142\n",
      "Params: {'in_channels': 13, 'out_channels': 13, 'kernel_size': (6, 2), 'padding': (9, 8), 'stride': (3, 2), 'dilation': (3, 4), 'groups': 1, 'in_batches': 1, 'in_h': 21, 'in_w': 29}\n"
     ]
    },
    {
     "name": "stderr",
     "output_type": "stream",
     "text": [
      "\r",
      " 72%|█████████████████████████████▎           | 143/200 [22:55<13:56, 14.68s/it]"
     ]
    },
    {
     "name": "stdout",
     "output_type": "stream",
     "text": [
      "Result: True\n",
      "\n",
      "\n",
      "Test: 143\n",
      "Params: {'in_channels': 1, 'out_channels': 6, 'kernel_size': (2, 3), 'padding': (3, 10), 'stride': (2, 1), 'dilation': (10, 2), 'groups': 1, 'in_batches': 2, 'in_h': 27, 'in_w': 5}\n"
     ]
    },
    {
     "name": "stderr",
     "output_type": "stream",
     "text": [
      "\r",
      " 72%|█████████████████████████████▌           | 144/200 [22:56<09:53, 10.59s/it]"
     ]
    },
    {
     "name": "stdout",
     "output_type": "stream",
     "text": [
      "Result: True\n",
      "\n",
      "\n",
      "Test: 144\n",
      "Params: {'in_channels': 4, 'out_channels': 15, 'kernel_size': (3, 13), 'padding': (6, 10), 'stride': (1, 5), 'dilation': (8, 3), 'groups': 1, 'in_batches': 4, 'in_h': 13, 'in_w': 22}\n"
     ]
    },
    {
     "name": "stderr",
     "output_type": "stream",
     "text": [
      " 73%|█████████████████████████████▉           | 146/200 [23:12<07:47,  8.66s/it]"
     ]
    },
    {
     "name": "stdout",
     "output_type": "stream",
     "text": [
      "Result: True\n",
      "\n",
      "\n",
      "Test: 145\n",
      "Params: {'in_channels': 2, 'out_channels': 2, 'kernel_size': (11, 3), 'padding': (8, 7), 'stride': (3, 4), 'dilation': (1, 2), 'groups': 2, 'in_batches': 5, 'in_h': 28, 'in_w': 9}\n",
      "Result: True\n",
      "\n",
      "\n",
      "Test: 146\n",
      "Params: {'in_channels': 2, 'out_channels': 17, 'kernel_size': (4, 5), 'padding': (6, 10), 'stride': (5, 3), 'dilation': (3, 3), 'groups': 1, 'in_batches': 1, 'in_h': 27, 'in_w': 15}\n"
     ]
    },
    {
     "name": "stderr",
     "output_type": "stream",
     "text": [
      "\r",
      " 74%|██████████████████████████████▏          | 147/200 [23:13<05:42,  6.46s/it]"
     ]
    },
    {
     "name": "stdout",
     "output_type": "stream",
     "text": [
      "Result: True\n",
      "\n",
      "\n",
      "Test: 147\n",
      "Params: {'in_channels': 11, 'out_channels': 14, 'kernel_size': (4, 6), 'padding': (2, 8), 'stride': (1, 1), 'dilation': (1, 2), 'groups': 1, 'in_batches': 5, 'in_h': 15, 'in_w': 30}\n"
     ]
    },
    {
     "name": "stderr",
     "output_type": "stream",
     "text": [
      "\r",
      " 74%|██████████████████████████████▎          | 148/200 [25:04<32:45, 37.79s/it]"
     ]
    },
    {
     "name": "stdout",
     "output_type": "stream",
     "text": [
      "Result: True\n",
      "\n",
      "\n",
      "Test: 148\n",
      "Params: {'in_channels': 6, 'out_channels': 5, 'kernel_size': (5, 2), 'padding': (7, 3), 'stride': (2, 5), 'dilation': (1, 3), 'groups': 1, 'in_batches': 5, 'in_h': 33, 'in_w': 15}\n"
     ]
    },
    {
     "name": "stderr",
     "output_type": "stream",
     "text": [
      "\r",
      " 74%|██████████████████████████████▌          | 149/200 [25:06<22:50, 26.87s/it]"
     ]
    },
    {
     "name": "stdout",
     "output_type": "stream",
     "text": [
      "Result: True\n",
      "\n",
      "\n",
      "Test: 149\n",
      "Params: {'in_channels': 2, 'out_channels': 5, 'kernel_size': (8, 7), 'padding': (8, 4), 'stride': (4, 5), 'dilation': (2, 1), 'groups': 1, 'in_batches': 3, 'in_h': 30, 'in_w': 14}\n"
     ]
    },
    {
     "name": "stderr",
     "output_type": "stream",
     "text": [
      "\r",
      " 75%|██████████████████████████████▊          | 150/200 [25:06<15:48, 18.97s/it]"
     ]
    },
    {
     "name": "stdout",
     "output_type": "stream",
     "text": [
      "Result: True\n",
      "\n",
      "\n",
      "Test: 150\n",
      "Params: {'in_channels': 2, 'out_channels': 13, 'kernel_size': (1, 2), 'padding': (10, 2), 'stride': (2, 3), 'dilation': (2, 4), 'groups': 1, 'in_batches': 4, 'in_h': 22, 'in_w': 27}\n"
     ]
    },
    {
     "name": "stderr",
     "output_type": "stream",
     "text": [
      "\r",
      " 76%|██████████████████████████████▉          | 151/200 [25:07<10:58, 13.44s/it]"
     ]
    },
    {
     "name": "stdout",
     "output_type": "stream",
     "text": [
      "Result: True\n",
      "\n",
      "\n",
      "Test: 151\n",
      "Params: {'in_channels': 3, 'out_channels': 1, 'kernel_size': (17, 3), 'padding': (1, 5), 'stride': (5, 1), 'dilation': (2, 8), 'groups': 1, 'in_batches': 3, 'in_h': 33, 'in_w': 20}\n"
     ]
    },
    {
     "name": "stderr",
     "output_type": "stream",
     "text": [
      "\r",
      " 76%|███████████████████████████████▏         | 152/200 [25:07<07:37,  9.52s/it]"
     ]
    },
    {
     "name": "stdout",
     "output_type": "stream",
     "text": [
      "Result: True\n",
      "\n",
      "\n",
      "Test: 152\n",
      "Params: {'in_channels': 1, 'out_channels': 4, 'kernel_size': (8, 16), 'padding': (6, 1), 'stride': (2, 3), 'dilation': (1, 1), 'groups': 1, 'in_batches': 5, 'in_h': 28, 'in_w': 26}\n"
     ]
    },
    {
     "name": "stderr",
     "output_type": "stream",
     "text": [
      "\r",
      " 76%|███████████████████████████████▎         | 153/200 [25:08<05:28,  7.00s/it]"
     ]
    },
    {
     "name": "stdout",
     "output_type": "stream",
     "text": [
      "Result: True\n",
      "\n",
      "\n",
      "Test: 153\n",
      "Params: {'in_channels': 20, 'out_channels': 7, 'kernel_size': (2, 2), 'padding': (10, 7), 'stride': (1, 2), 'dilation': (9, 7), 'groups': 1, 'in_batches': 5, 'in_h': 12, 'in_w': 16}\n"
     ]
    },
    {
     "name": "stderr",
     "output_type": "stream",
     "text": [
      "\r",
      " 77%|███████████████████████████████▌         | 154/200 [26:29<22:22, 29.18s/it]"
     ]
    },
    {
     "name": "stdout",
     "output_type": "stream",
     "text": [
      "Result: True\n",
      "\n",
      "\n",
      "Test: 154\n",
      "Params: {'in_channels': 18, 'out_channels': 16, 'kernel_size': (3, 2), 'padding': (2, 1), 'stride': (2, 5), 'dilation': (8, 2), 'groups': 1, 'in_batches': 5, 'in_h': 15, 'in_w': 10}\n"
     ]
    },
    {
     "name": "stderr",
     "output_type": "stream",
     "text": [
      "\r",
      " 78%|███████████████████████████████▊         | 155/200 [26:31<15:44, 20.99s/it]"
     ]
    },
    {
     "name": "stdout",
     "output_type": "stream",
     "text": [
      "Result: True\n",
      "\n",
      "\n",
      "Test: 155\n",
      "Params: {'in_channels': 3, 'out_channels': 1, 'kernel_size': (8, 13), 'padding': (4, 10), 'stride': (2, 2), 'dilation': (2, 2), 'groups': 1, 'in_batches': 1, 'in_h': 29, 'in_w': 7}\n"
     ]
    },
    {
     "name": "stderr",
     "output_type": "stream",
     "text": [
      "\r",
      " 78%|███████████████████████████████▉         | 156/200 [26:31<10:49, 14.75s/it]"
     ]
    },
    {
     "name": "stdout",
     "output_type": "stream",
     "text": [
      "Result: True\n",
      "\n",
      "\n",
      "Test: 156\n",
      "Params: {'in_channels': 20, 'out_channels': 17, 'kernel_size': (4, 4), 'padding': (4, 1), 'stride': (3, 4), 'dilation': (7, 9), 'groups': 1, 'in_batches': 5, 'in_h': 17, 'in_w': 32}\n"
     ]
    },
    {
     "name": "stderr",
     "output_type": "stream",
     "text": [
      "\r",
      " 78%|████████████████████████████████▏        | 157/200 [26:59<13:22, 18.66s/it]"
     ]
    },
    {
     "name": "stdout",
     "output_type": "stream",
     "text": [
      "Result: True\n",
      "\n",
      "\n",
      "Test: 157\n",
      "Params: {'in_channels': 20, 'out_channels': 18, 'kernel_size': (3, 10), 'padding': (6, 8), 'stride': (5, 2), 'dilation': (10, 3), 'groups': 1, 'in_batches': 2, 'in_h': 23, 'in_w': 14}\n"
     ]
    },
    {
     "name": "stderr",
     "output_type": "stream",
     "text": [
      "\r",
      " 79%|████████████████████████████████▍        | 158/200 [27:12<11:48, 16.86s/it]"
     ]
    },
    {
     "name": "stdout",
     "output_type": "stream",
     "text": [
      "Result: True\n",
      "\n",
      "\n",
      "Test: 158\n",
      "Params: {'in_channels': 5, 'out_channels': 9, 'kernel_size': (1, 7), 'padding': (9, 6), 'stride': (2, 2), 'dilation': (4, 6), 'groups': 1, 'in_batches': 3, 'in_h': 12, 'in_w': 34}\n"
     ]
    },
    {
     "name": "stderr",
     "output_type": "stream",
     "text": [
      "\r",
      " 80%|████████████████████████████████▌        | 159/200 [27:14<08:27, 12.39s/it]"
     ]
    },
    {
     "name": "stdout",
     "output_type": "stream",
     "text": [
      "Result: True\n",
      "\n",
      "\n",
      "Test: 159\n",
      "Params: {'in_channels': 2, 'out_channels': 18, 'kernel_size': (2, 5), 'padding': (3, 8), 'stride': (2, 4), 'dilation': (5, 4), 'groups': 2, 'in_batches': 1, 'in_h': 33, 'in_w': 7}\n"
     ]
    },
    {
     "name": "stderr",
     "output_type": "stream",
     "text": [
      " 80%|█████████████████████████████████        | 161/200 [27:14<04:00,  6.18s/it]"
     ]
    },
    {
     "name": "stdout",
     "output_type": "stream",
     "text": [
      "Result: True\n",
      "\n",
      "\n",
      "Test: 160\n",
      "Params: {'in_channels': 1, 'out_channels': 2, 'kernel_size': (2, 1), 'padding': (9, 8), 'stride': (1, 4), 'dilation': (8, 10), 'groups': 1, 'in_batches': 3, 'in_h': 27, 'in_w': 20}\n",
      "Result: True\n",
      "\n",
      "\n",
      "Test: 161\n",
      "Params: {'in_channels': 6, 'out_channels': 11, 'kernel_size': (6, 3), 'padding': (9, 1), 'stride': (5, 4), 'dilation': (2, 3), 'groups': 1, 'in_batches': 4, 'in_h': 11, 'in_w': 26}\n"
     ]
    },
    {
     "name": "stderr",
     "output_type": "stream",
     "text": [
      "\r",
      " 81%|█████████████████████████████████▏       | 162/200 [27:17<03:13,  5.09s/it]"
     ]
    },
    {
     "name": "stdout",
     "output_type": "stream",
     "text": [
      "Result: True\n",
      "\n",
      "\n",
      "Test: 162\n",
      "Params: {'in_channels': 7, 'out_channels': 5, 'kernel_size': (10, 1), 'padding': (8, 9), 'stride': (5, 4), 'dilation': (2, 5), 'groups': 1, 'in_batches': 4, 'in_h': 12, 'in_w': 7}\n"
     ]
    },
    {
     "name": "stderr",
     "output_type": "stream",
     "text": [
      "\r",
      " 82%|█████████████████████████████████▍       | 163/200 [27:17<02:14,  3.63s/it]"
     ]
    },
    {
     "name": "stdout",
     "output_type": "stream",
     "text": [
      "Result: True\n",
      "\n",
      "\n",
      "Test: 163\n",
      "Params: {'in_channels': 2, 'out_channels': 13, 'kernel_size': (1, 12), 'padding': (4, 8), 'stride': (1, 2), 'dilation': (5, 2), 'groups': 1, 'in_batches': 3, 'in_h': 24, 'in_w': 25}\n"
     ]
    },
    {
     "name": "stderr",
     "output_type": "stream",
     "text": [
      "\r",
      " 82%|█████████████████████████████████▌       | 164/200 [27:20<02:03,  3.43s/it]"
     ]
    },
    {
     "name": "stdout",
     "output_type": "stream",
     "text": [
      "Result: True\n",
      "\n",
      "\n",
      "Test: 164\n",
      "Params: {'in_channels': 2, 'out_channels': 6, 'kernel_size': (11, 8), 'padding': (6, 6), 'stride': (1, 3), 'dilation': (1, 3), 'groups': 2, 'in_batches': 4, 'in_h': 24, 'in_w': 34}\n"
     ]
    },
    {
     "name": "stderr",
     "output_type": "stream",
     "text": [
      "\r",
      " 82%|█████████████████████████████████▊       | 165/200 [27:27<02:34,  4.41s/it]"
     ]
    },
    {
     "name": "stdout",
     "output_type": "stream",
     "text": [
      "Result: True\n",
      "\n",
      "\n",
      "Test: 165\n",
      "Params: {'in_channels': 5, 'out_channels': 8, 'kernel_size': (5, 7), 'padding': (5, 8), 'stride': (2, 4), 'dilation': (3, 6), 'groups': 1, 'in_batches': 5, 'in_h': 25, 'in_w': 26}\n"
     ]
    },
    {
     "name": "stderr",
     "output_type": "stream",
     "text": [
      "\r",
      " 83%|██████████████████████████████████       | 166/200 [27:39<03:47,  6.68s/it]"
     ]
    },
    {
     "name": "stdout",
     "output_type": "stream",
     "text": [
      "Result: True\n",
      "\n",
      "\n",
      "Test: 166\n",
      "Params: {'in_channels': 5, 'out_channels': 20, 'kernel_size': (10, 20), 'padding': (10, 10), 'stride': (2, 4), 'dilation': (2, 1), 'groups': 1, 'in_batches': 5, 'in_h': 33, 'in_w': 19}\n"
     ]
    },
    {
     "name": "stderr",
     "output_type": "stream",
     "text": [
      "\r",
      " 84%|██████████████████████████████████▏      | 167/200 [29:11<17:48, 32.39s/it]"
     ]
    },
    {
     "name": "stdout",
     "output_type": "stream",
     "text": [
      "Result: True\n",
      "\n",
      "\n",
      "Test: 167\n",
      "Params: {'in_channels': 3, 'out_channels': 5, 'kernel_size': (4, 17), 'padding': (7, 8), 'stride': (4, 5), 'dilation': (3, 1), 'groups': 1, 'in_batches': 4, 'in_h': 11, 'in_w': 22}\n"
     ]
    },
    {
     "name": "stderr",
     "output_type": "stream",
     "text": [
      "\r",
      " 84%|██████████████████████████████████▍      | 168/200 [29:12<12:15, 22.99s/it]"
     ]
    },
    {
     "name": "stdout",
     "output_type": "stream",
     "text": [
      "Result: True\n",
      "\n",
      "\n",
      "Test: 168\n",
      "Params: {'in_channels': 2, 'out_channels': 19, 'kernel_size': (5, 3), 'padding': (4, 5), 'stride': (5, 2), 'dilation': (5, 1), 'groups': 1, 'in_batches': 4, 'in_h': 13, 'in_w': 22}\n"
     ]
    },
    {
     "name": "stderr",
     "output_type": "stream",
     "text": [
      "\r",
      " 84%|██████████████████████████████████▋      | 169/200 [29:13<08:25, 16.32s/it]"
     ]
    },
    {
     "name": "stdout",
     "output_type": "stream",
     "text": [
      "Result: True\n",
      "\n",
      "\n",
      "Test: 169\n",
      "Params: {'in_channels': 1, 'out_channels': 11, 'kernel_size': (1, 2), 'padding': (3, 10), 'stride': (5, 1), 'dilation': (6, 4), 'groups': 1, 'in_batches': 4, 'in_h': 29, 'in_w': 17}\n"
     ]
    },
    {
     "name": "stderr",
     "output_type": "stream",
     "text": [
      "\r",
      " 85%|██████████████████████████████████▊      | 170/200 [29:13<05:45, 11.52s/it]"
     ]
    },
    {
     "name": "stdout",
     "output_type": "stream",
     "text": [
      "Result: True\n",
      "\n",
      "\n",
      "Test: 170\n",
      "Params: {'in_channels': 1, 'out_channels': 11, 'kernel_size': (6, 20), 'padding': (5, 3), 'stride': (4, 5), 'dilation': (7, 1), 'groups': 1, 'in_batches': 4, 'in_h': 30, 'in_w': 19}\n"
     ]
    },
    {
     "name": "stderr",
     "output_type": "stream",
     "text": [
      "\r",
      " 86%|███████████████████████████████████      | 171/200 [29:14<03:59,  8.27s/it]"
     ]
    },
    {
     "name": "stdout",
     "output_type": "stream",
     "text": [
      "Result: True\n",
      "\n",
      "\n",
      "Test: 171\n",
      "Params: {'in_channels': 7, 'out_channels': 8, 'kernel_size': (1, 5), 'padding': (7, 7), 'stride': (3, 4), 'dilation': (3, 4), 'groups': 1, 'in_batches': 4, 'in_h': 24, 'in_w': 16}\n"
     ]
    },
    {
     "name": "stderr",
     "output_type": "stream",
     "text": [
      "\r",
      " 86%|███████████████████████████████████▎     | 172/200 [29:15<02:51,  6.14s/it]"
     ]
    },
    {
     "name": "stdout",
     "output_type": "stream",
     "text": [
      "Result: True\n",
      "\n",
      "\n",
      "Test: 172\n",
      "Params: {'in_channels': 18, 'out_channels': 16, 'kernel_size': (10, 1), 'padding': (1, 4), 'stride': (4, 1), 'dilation': (3, 5), 'groups': 2, 'in_batches': 2, 'in_h': 27, 'in_w': 6}\n"
     ]
    },
    {
     "name": "stderr",
     "output_type": "stream",
     "text": [
      "\r",
      " 86%|███████████████████████████████████▍     | 173/200 [29:16<02:01,  4.50s/it]"
     ]
    },
    {
     "name": "stdout",
     "output_type": "stream",
     "text": [
      "Result: True\n",
      "\n",
      "\n",
      "Test: 173\n",
      "Params: {'in_channels': 2, 'out_channels': 4, 'kernel_size': (16, 5), 'padding': (2, 8), 'stride': (2, 4), 'dilation': (2, 4), 'groups': 1, 'in_batches': 2, 'in_h': 34, 'in_w': 28}\n"
     ]
    },
    {
     "name": "stderr",
     "output_type": "stream",
     "text": [
      "\r",
      " 87%|███████████████████████████████████▋     | 174/200 [29:17<01:32,  3.55s/it]"
     ]
    },
    {
     "name": "stdout",
     "output_type": "stream",
     "text": [
      "Result: True\n",
      "\n",
      "\n",
      "Test: 174\n",
      "Params: {'in_channels': 12, 'out_channels': 3, 'kernel_size': (19, 7), 'padding': (5, 2), 'stride': (4, 1), 'dilation': (1, 1), 'groups': 1, 'in_batches': 4, 'in_h': 28, 'in_w': 22}\n"
     ]
    },
    {
     "name": "stderr",
     "output_type": "stream",
     "text": [
      "\r",
      " 88%|███████████████████████████████████▉     | 175/200 [29:27<02:19,  5.57s/it]"
     ]
    },
    {
     "name": "stdout",
     "output_type": "stream",
     "text": [
      "Result: True\n",
      "\n",
      "\n",
      "Test: 175\n",
      "Params: {'in_channels': 1, 'out_channels': 2, 'kernel_size': (12, 11), 'padding': (7, 2), 'stride': (3, 1), 'dilation': (4, 2), 'groups': 1, 'in_batches': 3, 'in_h': 31, 'in_w': 29}\n"
     ]
    },
    {
     "name": "stderr",
     "output_type": "stream",
     "text": [
      "\r",
      " 88%|████████████████████████████████████     | 176/200 [29:28<01:36,  4.02s/it]"
     ]
    },
    {
     "name": "stdout",
     "output_type": "stream",
     "text": [
      "Result: True\n",
      "\n",
      "\n",
      "Test: 176\n",
      "Params: {'in_channels': 11, 'out_channels': 13, 'kernel_size': (16, 20), 'padding': (1, 4), 'stride': (5, 5), 'dilation': (1, 1), 'groups': 1, 'in_batches': 4, 'in_h': 32, 'in_w': 22}\n"
     ]
    },
    {
     "name": "stderr",
     "output_type": "stream",
     "text": [
      "\r",
      " 88%|████████████████████████████████████▎    | 177/200 [29:39<02:23,  6.25s/it]"
     ]
    },
    {
     "name": "stdout",
     "output_type": "stream",
     "text": [
      "Result: True\n",
      "\n",
      "\n",
      "Test: 177\n",
      "Params: {'in_channels': 1, 'out_channels': 15, 'kernel_size': (2, 1), 'padding': (9, 10), 'stride': (1, 3), 'dilation': (4, 6), 'groups': 1, 'in_batches': 4, 'in_h': 28, 'in_w': 29}\n"
     ]
    },
    {
     "name": "stderr",
     "output_type": "stream",
     "text": [
      "\r",
      " 89%|████████████████████████████████████▍    | 178/200 [29:40<01:45,  4.79s/it]"
     ]
    },
    {
     "name": "stdout",
     "output_type": "stream",
     "text": [
      "Result: True\n",
      "\n",
      "\n",
      "Test: 178\n",
      "Params: {'in_channels': 13, 'out_channels': 5, 'kernel_size': (7, 14), 'padding': (5, 10), 'stride': (4, 5), 'dilation': (6, 2), 'groups': 1, 'in_batches': 4, 'in_h': 30, 'in_w': 33}\n"
     ]
    },
    {
     "name": "stderr",
     "output_type": "stream",
     "text": [
      "\r",
      " 90%|████████████████████████████████████▋    | 179/200 [29:49<02:02,  5.82s/it]"
     ]
    },
    {
     "name": "stdout",
     "output_type": "stream",
     "text": [
      "Result: True\n",
      "\n",
      "\n",
      "Test: 179\n",
      "Params: {'in_channels': 1, 'out_channels': 3, 'kernel_size': (15, 2), 'padding': (8, 2), 'stride': (2, 3), 'dilation': (1, 7), 'groups': 1, 'in_batches': 4, 'in_h': 9, 'in_w': 34}\n"
     ]
    },
    {
     "name": "stderr",
     "output_type": "stream",
     "text": [
      "\r",
      " 90%|████████████████████████████████████▉    | 180/200 [29:49<01:24,  4.25s/it]"
     ]
    },
    {
     "name": "stdout",
     "output_type": "stream",
     "text": [
      "Result: True\n",
      "\n",
      "\n",
      "Test: 180\n",
      "Params: {'in_channels': 19, 'out_channels': 11, 'kernel_size': (12, 1), 'padding': (9, 6), 'stride': (5, 3), 'dilation': (4, 6), 'groups': 1, 'in_batches': 5, 'in_h': 32, 'in_w': 34}\n"
     ]
    },
    {
     "name": "stderr",
     "output_type": "stream",
     "text": [
      "\r",
      " 90%|█████████████████████████████████████    | 181/200 [29:58<01:45,  5.54s/it]"
     ]
    },
    {
     "name": "stdout",
     "output_type": "stream",
     "text": [
      "Result: True\n",
      "\n",
      "\n",
      "Test: 181\n",
      "Params: {'in_channels': 6, 'out_channels': 20, 'kernel_size': (5, 1), 'padding': (8, 9), 'stride': (4, 1), 'dilation': (2, 2), 'groups': 2, 'in_batches': 2, 'in_h': 19, 'in_w': 20}\n"
     ]
    },
    {
     "name": "stderr",
     "output_type": "stream",
     "text": [
      "\r",
      " 91%|█████████████████████████████████████▎   | 182/200 [29:59<01:18,  4.36s/it]"
     ]
    },
    {
     "name": "stdout",
     "output_type": "stream",
     "text": [
      "Result: True\n",
      "\n",
      "\n",
      "Test: 182\n",
      "Params: {'in_channels': 4, 'out_channels': 17, 'kernel_size': (3, 8), 'padding': (7, 10), 'stride': (5, 4), 'dilation': (7, 5), 'groups': 1, 'in_batches': 2, 'in_h': 24, 'in_w': 24}\n"
     ]
    },
    {
     "name": "stderr",
     "output_type": "stream",
     "text": [
      "\r",
      " 92%|█████████████████████████████████████▌   | 183/200 [30:05<01:19,  4.68s/it]"
     ]
    },
    {
     "name": "stdout",
     "output_type": "stream",
     "text": [
      "Result: True\n",
      "\n",
      "\n",
      "Test: 183\n",
      "Params: {'in_channels': 3, 'out_channels': 15, 'kernel_size': (10, 3), 'padding': (9, 2), 'stride': (5, 5), 'dilation': (2, 2), 'groups': 1, 'in_batches': 1, 'in_h': 21, 'in_w': 33}\n"
     ]
    },
    {
     "name": "stderr",
     "output_type": "stream",
     "text": [
      "\r",
      " 92%|█████████████████████████████████████▋   | 184/200 [30:06<00:56,  3.51s/it]"
     ]
    },
    {
     "name": "stdout",
     "output_type": "stream",
     "text": [
      "Result: True\n",
      "\n",
      "\n",
      "Test: 184\n",
      "Params: {'in_channels': 13, 'out_channels': 16, 'kernel_size': (13, 2), 'padding': (10, 8), 'stride': (2, 5), 'dilation': (3, 10), 'groups': 1, 'in_batches': 2, 'in_h': 31, 'in_w': 5}\n"
     ]
    },
    {
     "name": "stderr",
     "output_type": "stream",
     "text": [
      "\r",
      " 92%|█████████████████████████████████████▉   | 185/200 [30:26<02:07,  8.53s/it]"
     ]
    },
    {
     "name": "stdout",
     "output_type": "stream",
     "text": [
      "Result: True\n",
      "\n",
      "\n",
      "Test: 185\n",
      "Params: {'in_channels': 12, 'out_channels': 15, 'kernel_size': (3, 14), 'padding': (4, 9), 'stride': (4, 4), 'dilation': (5, 1), 'groups': 1, 'in_batches': 2, 'in_h': 19, 'in_w': 27}\n"
     ]
    },
    {
     "name": "stderr",
     "output_type": "stream",
     "text": [
      "\r",
      " 93%|██████████████████████████████████████▏  | 186/200 [30:37<02:09,  9.27s/it]"
     ]
    },
    {
     "name": "stdout",
     "output_type": "stream",
     "text": [
      "Result: True\n",
      "\n",
      "\n",
      "Test: 186\n",
      "Params: {'in_channels': 20, 'out_channels': 2, 'kernel_size': (4, 6), 'padding': (4, 5), 'stride': (1, 1), 'dilation': (2, 2), 'groups': 1, 'in_batches': 2, 'in_h': 19, 'in_w': 17}\n"
     ]
    },
    {
     "name": "stderr",
     "output_type": "stream",
     "text": [
      "\r",
      " 94%|██████████████████████████████████████▎  | 187/200 [30:48<02:07,  9.79s/it]"
     ]
    },
    {
     "name": "stdout",
     "output_type": "stream",
     "text": [
      "Result: True\n",
      "\n",
      "\n",
      "Test: 187\n",
      "Params: {'in_channels': 19, 'out_channels': 1, 'kernel_size': (3, 1), 'padding': (10, 3), 'stride': (1, 1), 'dilation': (4, 2), 'groups': 1, 'in_batches': 5, 'in_h': 6, 'in_w': 19}\n"
     ]
    },
    {
     "name": "stderr",
     "output_type": "stream",
     "text": [
      "\r",
      " 94%|██████████████████████████████████████▌  | 188/200 [30:50<01:29,  7.48s/it]"
     ]
    },
    {
     "name": "stdout",
     "output_type": "stream",
     "text": [
      "Result: True\n",
      "\n",
      "\n",
      "Test: 188\n",
      "Params: {'in_channels': 2, 'out_channels': 8, 'kernel_size': (20, 3), 'padding': (4, 6), 'stride': (3, 4), 'dilation': (1, 10), 'groups': 1, 'in_batches': 5, 'in_h': 27, 'in_w': 32}\n"
     ]
    },
    {
     "name": "stderr",
     "output_type": "stream",
     "text": [
      "\r",
      " 94%|██████████████████████████████████████▋  | 189/200 [30:56<01:18,  7.14s/it]"
     ]
    },
    {
     "name": "stdout",
     "output_type": "stream",
     "text": [
      "Result: True\n",
      "\n",
      "\n",
      "Test: 189\n",
      "Params: {'in_channels': 10, 'out_channels': 9, 'kernel_size': (13, 2), 'padding': (6, 3), 'stride': (1, 1), 'dilation': (2, 8), 'groups': 1, 'in_batches': 2, 'in_h': 27, 'in_w': 21}\n"
     ]
    },
    {
     "name": "stderr",
     "output_type": "stream",
     "text": [
      " 96%|███████████████████████████████████████▏ | 191/200 [31:55<02:22, 15.88s/it]"
     ]
    },
    {
     "name": "stdout",
     "output_type": "stream",
     "text": [
      "Result: True\n",
      "\n",
      "\n",
      "Test: 190\n",
      "Params: {'in_channels': 1, 'out_channels': 17, 'kernel_size': (1, 3), 'padding': (3, 7), 'stride': (3, 2), 'dilation': (1, 9), 'groups': 1, 'in_batches': 1, 'in_h': 24, 'in_w': 18}\n",
      "Result: True\n",
      "\n",
      "\n",
      "Test: 191\n",
      "Params: {'in_channels': 13, 'out_channels': 13, 'kernel_size': (1, 7), 'padding': (1, 9), 'stride': (4, 3), 'dilation': (10, 2), 'groups': 1, 'in_batches': 5, 'in_h': 21, 'in_w': 12}\n"
     ]
    },
    {
     "name": "stderr",
     "output_type": "stream",
     "text": [
      "\r",
      " 96%|███████████████████████████████████████▎ | 192/200 [31:57<01:33, 11.72s/it]"
     ]
    },
    {
     "name": "stdout",
     "output_type": "stream",
     "text": [
      "Result: True\n",
      "\n",
      "\n",
      "Test: 192\n",
      "Params: {'in_channels': 7, 'out_channels': 11, 'kernel_size': (5, 2), 'padding': (3, 3), 'stride': (5, 4), 'dilation': (4, 8), 'groups': 1, 'in_batches': 4, 'in_h': 31, 'in_w': 29}\n"
     ]
    },
    {
     "name": "stderr",
     "output_type": "stream",
     "text": [
      "\r",
      " 96%|███████████████████████████████████████▌ | 193/200 [32:06<01:15, 10.80s/it]"
     ]
    },
    {
     "name": "stdout",
     "output_type": "stream",
     "text": [
      "Result: True\n",
      "\n",
      "\n",
      "Test: 193\n",
      "Params: {'in_channels': 13, 'out_channels': 16, 'kernel_size': (12, 3), 'padding': (3, 7), 'stride': (2, 5), 'dilation': (2, 3), 'groups': 1, 'in_batches': 4, 'in_h': 22, 'in_w': 15}\n"
     ]
    },
    {
     "name": "stderr",
     "output_type": "stream",
     "text": [
      "\r",
      " 97%|███████████████████████████████████████▊ | 194/200 [32:16<01:03, 10.52s/it]"
     ]
    },
    {
     "name": "stdout",
     "output_type": "stream",
     "text": [
      "Result: True\n",
      "\n",
      "\n",
      "Test: 194\n",
      "Params: {'in_channels': 11, 'out_channels': 18, 'kernel_size': (4, 3), 'padding': (3, 3), 'stride': (2, 5), 'dilation': (2, 4), 'groups': 1, 'in_batches': 4, 'in_h': 32, 'in_w': 23}\n"
     ]
    },
    {
     "name": "stderr",
     "output_type": "stream",
     "text": [
      "\r",
      " 98%|███████████████████████████████████████▉ | 195/200 [32:36<01:07, 13.52s/it]"
     ]
    },
    {
     "name": "stdout",
     "output_type": "stream",
     "text": [
      "Result: True\n",
      "\n",
      "\n",
      "Test: 195\n",
      "Params: {'in_channels': 5, 'out_channels': 14, 'kernel_size': (4, 3), 'padding': (8, 9), 'stride': (4, 5), 'dilation': (6, 7), 'groups': 1, 'in_batches': 5, 'in_h': 20, 'in_w': 21}\n"
     ]
    },
    {
     "name": "stderr",
     "output_type": "stream",
     "text": [
      "\r",
      " 98%|████████████████████████████████████████▏| 196/200 [32:48<00:52, 13.10s/it]"
     ]
    },
    {
     "name": "stdout",
     "output_type": "stream",
     "text": [
      "Result: True\n",
      "\n",
      "\n",
      "Test: 196\n",
      "Params: {'in_channels': 17, 'out_channels': 16, 'kernel_size': (9, 5), 'padding': (3, 10), 'stride': (4, 3), 'dilation': (3, 4), 'groups': 1, 'in_batches': 3, 'in_h': 22, 'in_w': 7}\n"
     ]
    },
    {
     "name": "stderr",
     "output_type": "stream",
     "text": [
      "\r",
      " 98%|████████████████████████████████████████▍| 197/200 [32:55<00:33, 11.29s/it]"
     ]
    },
    {
     "name": "stdout",
     "output_type": "stream",
     "text": [
      "Result: True\n",
      "\n",
      "\n",
      "Test: 197\n",
      "Params: {'in_channels': 1, 'out_channels': 9, 'kernel_size': (2, 1), 'padding': (7, 5), 'stride': (5, 2), 'dilation': (5, 10), 'groups': 1, 'in_batches': 2, 'in_h': 22, 'in_w': 22}\n",
      "Result: True\n",
      "\n",
      "\n",
      "Test: 198\n",
      "Params: {'in_channels': 16, 'out_channels': 14, 'kernel_size': (6, 5), 'padding': (5, 1), 'stride': (1, 4), 'dilation': (8, 6), 'groups': 1, 'in_batches': 5, 'in_h': 34, 'in_w': 31}\n"
     ]
    },
    {
     "name": "stderr",
     "output_type": "stream",
     "text": [
      "\r",
      "100%|████████████████████████████████████████▊| 199/200 [34:05<00:22, 22.11s/it]"
     ]
    },
    {
     "name": "stdout",
     "output_type": "stream",
     "text": [
      "Result: True\n",
      "\n",
      "\n",
      "Test: 199\n",
      "Params: {'in_channels': 1, 'out_channels': 6, 'kernel_size': (3, 4), 'padding': (5, 4), 'stride': (2, 3), 'dilation': (5, 6), 'groups': 1, 'in_batches': 3, 'in_h': 7, 'in_w': 20}\n"
     ]
    },
    {
     "name": "stderr",
     "output_type": "stream",
     "text": [
      "100%|█████████████████████████████████████████| 200/200 [34:05<00:00, 10.23s/it]"
     ]
    },
    {
     "name": "stdout",
     "output_type": "stream",
     "text": [
      "Result: True\n",
      "\n",
      "\n",
      "200 out of 200 (100.0%) tests passed\n"
     ]
    },
    {
     "name": "stderr",
     "output_type": "stream",
     "text": [
      "\n"
     ]
    }
   ],
   "source": [
    "num_tests = 200\n",
    "run_tests(num_tests)"
   ]
  }
 ],
 "metadata": {
  "kernelspec": {
   "display_name": "Python 3 (ipykernel)",
   "language": "python",
   "name": "python3"
  },
  "language_info": {
   "codemirror_mode": {
    "name": "ipython",
    "version": 3
   },
   "file_extension": ".py",
   "mimetype": "text/x-python",
   "name": "python",
   "nbconvert_exporter": "python",
   "pygments_lexer": "ipython3",
   "version": "3.10.9"
  }
 },
 "nbformat": 4,
 "nbformat_minor": 5
}
