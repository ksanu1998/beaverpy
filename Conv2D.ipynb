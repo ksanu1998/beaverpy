{
 "cells": [
  {
   "cell_type": "markdown",
   "id": "b20a6f8d",
   "metadata": {},
   "source": [
    "### `Conv2D` code"
   ]
  },
  {
   "cell_type": "code",
   "execution_count": 1,
   "id": "19182ede",
   "metadata": {},
   "outputs": [],
   "source": [
    "import numpy as np\n",
    "import torch # needed for tests\n",
    "from tqdm import tqdm # needed for tests"
   ]
  },
  {
   "cell_type": "code",
   "execution_count": 2,
   "id": "7ed1691b",
   "metadata": {},
   "outputs": [],
   "source": [
    "class Conv2D:\n",
    "    ''' Computes convolution given the input parameters '''\n",
    "    \n",
    "    ''' * The class implementation will be along the lines of torch.nn.Conv2D in order to \n",
    "          enable comparison of this NumPy only implementation and seamless testing\n",
    "        * Can expect extensive refactoring of the existing code in the days to come\n",
    "        * As part of refactoring, some code will be de-modularized\n",
    "        * Old code will be retained at the end of the notebook for reference\n",
    "    '''\n",
    "    '''\n",
    "        TODO:\n",
    "        * Replace `torch.round()` with `np.allclose()` for tests\n",
    "        * Add various 'same' `padding` mode\n",
    "        * Implementing other features and caveats offered by nn.torch.Conv2D \n",
    "          (e.g., uniform sampling of kernel weights, bias etc.)\n",
    "        * Optimizing code\n",
    "    '''\n",
    "    \n",
    "    def __init__(\n",
    "        self, \n",
    "        in_channels, \n",
    "        out_channels, \n",
    "        kernel_size, \n",
    "        padding = (0, 0), \n",
    "        stride = (1, 1), \n",
    "        dilation = (1, 1), \n",
    "        groups = 1, \n",
    "        bias = True, \n",
    "        padding_mode = 'zeros', \n",
    "        device = None, \n",
    "        dtype = None, \n",
    "        verbose = False\n",
    "        ):\n",
    "        super(Conv2D, self).__init__()\n",
    "        \n",
    "        ''' mandatory parameters '''\n",
    "        self.in_channels = in_channels\n",
    "        self.out_channels = out_channels\n",
    "        if isinstance(kernel_size, tuple):\n",
    "            self.kernel_size = kernel_size\n",
    "        elif isinstance(kernel_size, int):\n",
    "            self.kernel_size = (kernel_size, kernel_size)\n",
    "        else:\n",
    "            raise Exception('invalid input parameters: kernel_size should either be an int or a tuple')\n",
    "        \n",
    "        ''' optional parameters '''\n",
    "        if isinstance(padding, str):\n",
    "            if padding == 'valid':\n",
    "                self.padding = (0, 0)\n",
    "            elif padding == 'same':\n",
    "                raise Exception(\"invalid input parameters: padding = 'same' not yet supported\")\n",
    "            else:\n",
    "                raise Exception('invalid input parameters: padding is not valid')\n",
    "        elif isinstance(padding, tuple):\n",
    "            if padding[0] >= 0 and padding[1] >= 0:\n",
    "                self.padding = padding\n",
    "            else:\n",
    "                raise Exception('invalid input parameters: padding is not valid')\n",
    "        elif isinstance(padding, int):\n",
    "            if padding >= 0:\n",
    "                self.padding = (padding, padding)\n",
    "            else:\n",
    "                raise Exception('invalid input parameters: padding is not valid')\n",
    "        else:\n",
    "            raise Exception('invalid input parametersL padding should be either an int or a tuple')\n",
    "        if isinstance(stride, tuple):\n",
    "            if stride[0] >= 1 and stride[1] >= 1:\n",
    "                self.stride = stride\n",
    "            else:\n",
    "                raise Exception('invalid input parameters: stride is not valid')\n",
    "        elif isinstance(stride, int):\n",
    "            if stride >= 1:\n",
    "                self.stride = (stride, stride)\n",
    "            else:\n",
    "                raise Exception('invalid input parameters: stride is not valid')\n",
    "        else:\n",
    "            raise Exception('invalid input parameters: stride should be either an int or a tuple')\n",
    "        if isinstance(dilation, tuple):\n",
    "            if dilation[0] >= 1 and dilation[1] >= 1:\n",
    "                self.dilation = dilation\n",
    "            else:\n",
    "                raise Exception('invalid input parameters: dilation is not valid')\n",
    "        elif isinstance(dilation, int):\n",
    "            if dilation >= 1:\n",
    "                self.dilation = (dilation, dilation)\n",
    "            else:\n",
    "                raise Exception('invalid input parameters: dilation is not valid')\n",
    "        else:\n",
    "            raise Exception('invalid input parameters: dilation should be either an int or a tuple')\n",
    "        self.groups = groups\n",
    "        \n",
    "        ''' optional parameters (dummy, yet to be implemented)'''\n",
    "        self.bias = bias\n",
    "        self.padding_mode = padding_mode\n",
    "        self.device = device\n",
    "        self.dtype = dtype\n",
    "        \n",
    "        ''' additional parameters (different from torch.nn.Conv2D)'''\n",
    "        self.verbose = verbose\n",
    "        self.verboseprint = print if self.verbose else lambda *a, **k: None\n",
    "        self.verboseprint('*** parameters ***')\n",
    "        self.verboseprint('in_channels: {}, out_channels: {}, kernel_size: {}'.format(self.in_channels, self.out_channels, self.kernel_size))\n",
    "        self.verboseprint('padding: {}, stride: {}, dilation factor: {}'.format(self.padding, self.stride, self.dilation))\n",
    "        self.verboseprint('groups: {}, bias: {}, padding_mode: {}, device: {}, dtype: {}'.format(self.groups, self.bias, self.padding_mode, self.device, self.dtype))\n",
    "        self.verboseprint('\\n')\n",
    "    \n",
    "    def forward(self, _input, kernels = None):\n",
    "        ''' forward pass to perform convolution '''\n",
    "        \n",
    "        ''' do error checking '''\n",
    "        _input_n, _input_c, _input_h, _input_w = _input.shape\n",
    "        if _input_h + 2 * self.padding[0] < self.dilation[0] * (self.kernel_size[0] - 1) + 1: # check if (dilated) ker_h is valid\n",
    "            raise Exception('invalid input parameters: kernel height is larger than input height')\n",
    "        if _input_w + 2 * self.padding[1] < self.dilation[1] * (self.kernel_size[1] - 1) + 1: # check if (dilated) ker_w is valid\n",
    "            raise Exception('invalid input parameters: kernel width is larger than input width')\n",
    "        if ((_input_h + 2 * self.padding[0] - (self.dilation[0] * (self.kernel_size[0] - 1) + 1)) / self.stride[0]) + 1 < 0: # check if out_h is valid\n",
    "            raise Exception('invalid input parameters: output height is negative')\n",
    "        if ((_input_w + 2 * self.padding[1] - (self.dilation[1] * (self.kernel_size[1] - 1) + 1)) / self.stride[1]) + 1 < 0: # check if out_w is valid\n",
    "            raise Exception('invalid input parameters: output width is negative')\n",
    "        if  self.in_channels % self.groups != 0: # check if groups is valid\n",
    "            raise Exception('invalid input parameters: input channels is not divisible by groups')\n",
    "        if self.out_channels % self.groups != 0: # check if groups is valid\n",
    "            raise Exception('invalid input parametes: output channels is not divisible by groups')\n",
    "         \n",
    "        ''' add zero padding based on the input parameters '''\n",
    "        if self.padding != (0, 0):\n",
    "            _input = np.array([[np.pad(channel, ((self.padding[0], self.padding[0]), (self.padding[1], self.padding[1])), 'constant', constant_values = 0) for channel in batch] for batch in _input])    \n",
    "            self.verboseprint('*** padded input image ***')\n",
    "            self.verboseprint('input batches: {}, input channels: {}, input height: {}, input weight: {}'.format(_input.shape[0], _input.shape[1], _input.shape[2], _input.shape[3]))\n",
    "            self.verboseprint(_input)\n",
    "            self.verboseprint('\\n')\n",
    "        \n",
    "        ''' use the provided kernels or create random kernels based on the input kernel parameters '''\n",
    "        if kernels is not None:\n",
    "            self.verboseprint('*** kernels ***')\n",
    "            self.verboseprint('kernels: {}, kernel channels: {}, kernel height: {}, kernel weight: {}'.format(self.out_channels, int(self.in_channels / self.groups), self.kernel_size[0], self.kernel_size[1]))\n",
    "        else:\n",
    "            kernels = []\n",
    "            self.verboseprint('*** kernels ***')\n",
    "            self.verboseprint('kernels: {}, kernel channels: {}, kernel height: {}, kernel weight: {}'.format(self.out_channels, int(self.in_channels / self.groups), self.kernel_size[0], self.kernel_size[1]))\n",
    "            for k in range(self.out_channels):\n",
    "                kernel = np.random.rand(int(self.in_channels / self.groups), self.kernel_size[0], self.kernel_size[1]) # define a random kernel based on the kernel parameters\n",
    "                kernels.append(kernel)\n",
    "                self.verboseprint('kernel {}'.format(k))\n",
    "                self.verboseprint(kernel)\n",
    "            self.verboseprint('\\n')\n",
    "        \n",
    "        ''' dilate a kernel '''\n",
    "        dil_ker_h = self.dilation[0] * (self.kernel_size[0] - 1) + 1\n",
    "        dil_ker_w = self.dilation[1] * (self.kernel_size[1] - 1) + 1\n",
    "        dil_kernels = []\n",
    "        for kernel in kernels:\n",
    "            dil_kernel = []\n",
    "            for channel in kernel:\n",
    "                dil_channel = np.zeros((dil_ker_h, dil_ker_w))\n",
    "                for row in range(len(channel)):\n",
    "                    for col in range(len(channel[0])):\n",
    "                        dil_channel[self.dilation[0] * row][self.dilation[1] * col] = channel[row][col] # check if the indices 0 and 1 need to be swapped\n",
    "                dil_kernel.append(dil_channel.tolist())\n",
    "            dil_kernels.append(dil_kernel)\n",
    "        kernels, self.kernel_size = dil_kernels, (dil_ker_h, dil_ker_w)\n",
    "        self.verboseprint('*** dilated kernels ***')\n",
    "        self.verboseprint('kernels: {}, dilation factor: {}, kernel channels: {}, kernel height: {}, kernel weight: {}'.format(self.out_channels, self.dilation, int(self.in_channels / self.groups), self.kernel_size[0], self.kernel_size[1]))\n",
    "        for k in range(self.out_channels):\n",
    "            self.verboseprint('kernel {}'.format(k))\n",
    "            self.verboseprint(kernels[k])\n",
    "        self.verboseprint('\\n')\n",
    "        \n",
    "        ''' compute output volume from the input and kernel parameters '''\n",
    "        _input_n, _, _input_h, _input_w = _input.shape\n",
    "        out_n = int(_input_n)\n",
    "        out_c = int(self.out_channels)\n",
    "        out_h = int((_input_h - self.kernel_size[0]) / self.stride[0]) + 1\n",
    "        out_w = int((_input_w - self.kernel_size[1]) / self.stride[1]) + 1\n",
    "        output = np.zeros([out_n, out_c, out_h, out_w])\n",
    "        \n",
    "        ''' parse through every element of the output and compute the convolution value for that element '''\n",
    "        for b_out in range(out_n):\n",
    "            for c_out in range(out_c):\n",
    "                for h_out in range(out_h):\n",
    "                    for w_out in range(out_w):\n",
    "                        # convolve kernel over the input slices\n",
    "                        self.verboseprint('kernel indices, image indices')\n",
    "                        self.verboseprint('[n, c, h, w]', '[n, c, h, w]')\n",
    "                        convol_sum = 0\n",
    "                        ker_c = int(self.in_channels / self.groups)\n",
    "                        ker_h = self.kernel_size[0]\n",
    "                        ker_w = self.kernel_size[1]\n",
    "                        for c_ker in range(ker_c):\n",
    "                            for h_ker in range(ker_h):\n",
    "                                for w_ker in range(ker_w):\n",
    "                                    self.verboseprint([c_out, c_ker, h_ker, w_ker], [b_out, c_ker + (ker_c * int(np.floor(c_out / (self.out_channels / self.groups)))), h_ker + self.stride[0] * h_out, w_ker + self.stride[1] * w_out])\n",
    "                                    convol_sum += kernels[c_out][c_ker][h_ker][w_ker] * _input[b_out][c_ker + (ker_c * int(np.floor(c_out / (self.out_channels / self.groups))))][h_ker + self.stride[0] * h_out][w_ker + self.stride[1] * w_out] # works for all 1 <= `groups` <= in_channels\n",
    "                        self.verboseprint('\\n')\n",
    "                        output[b_out, c_out, h_out, w_out] += convol_sum\n",
    "        self.verboseprint('*** Conv2D output ***')\n",
    "        output_shape = output.shape\n",
    "        self.verboseprint('output batches: {}, ouput channels: {}, output height: {}, output weight: {}'.format(output_shape[0], output_shape[1], output_shape[2], output_shape[3]))\n",
    "        assert((out_n, out_c, out_h, out_w) == output_shape)\n",
    "        self.verboseprint(output)\n",
    "        self.verboseprint('\\n')\n",
    "        return output"
   ]
  },
  {
   "cell_type": "markdown",
   "id": "7450ac24",
   "metadata": {},
   "source": [
    "### Standalone test (random kernel, random input)"
   ]
  },
  {
   "cell_type": "code",
   "execution_count": 3,
   "id": "a0377df6",
   "metadata": {},
   "outputs": [],
   "source": [
    "in_channels = 6 # input channels\n",
    "out_channels = 4 # output channels\n",
    "kernel_size = (2, 2) # kernel size\n",
    "\n",
    "padding = (1, 3) # padding (optional)\n",
    "stride = (2, 1) # stride (optional)\n",
    "dilation = (2, 3) # dilation factor (optional)\n",
    "groups = 2 # groups (optional)\n",
    "\n",
    "in_batches = 2 # input batches\n",
    "in_h = 4 # input height\n",
    "in_w = 4 # input weight\n",
    "\n",
    "_input = np.random.rand(in_batches, in_channels, in_h, in_w) # define a random image based on the input parameters\n",
    "kernels = []\n",
    "for k in range(out_channels):\n",
    "    kernel = np.random.rand(int(in_channels / groups), kernel_size[0], kernel_size[1]) # define a random kernel based on the kernel parameters\n",
    "    kernels.append(kernel)"
   ]
  },
  {
   "cell_type": "code",
   "execution_count": 4,
   "id": "29c79bef",
   "metadata": {},
   "outputs": [
    {
     "name": "stdout",
     "output_type": "stream",
     "text": [
      "*** Conv2D output ***\n",
      "[[[[0.31156689 0.12976007 0.20901492 1.13981248 0.52667357 0.84274376\n",
      "    0.92394844]\n",
      "   [1.6762093  1.23672141 1.6330833  3.65349577 0.7764963  0.846364\n",
      "    1.53199108]]\n",
      "\n",
      "  [[0.36683901 0.49581511 0.60500712 1.13057524 0.56241608 0.66995413\n",
      "    0.82600904]\n",
      "   [1.22031214 0.9447563  1.12248209 3.22654924 0.85131498 1.05977693\n",
      "    1.97070397]]\n",
      "\n",
      "  [[0.56231802 0.39599075 0.92403719 1.04508857 0.5612201  1.01598124\n",
      "    0.72118227]\n",
      "   [1.31288186 1.94556545 1.5148487  3.26236162 1.85659707 1.54513379\n",
      "    1.68542343]]\n",
      "\n",
      "  [[0.65862103 0.6507498  0.93873479 1.26329097 0.80511639 0.87124539\n",
      "    0.79406599]\n",
      "   [0.62476535 1.47360496 1.05754898 2.37225034 1.67667192 1.04871\n",
      "    1.35383272]]]\n",
      "\n",
      "\n",
      " [[[0.2138944  0.32242041 0.45862936 0.7778761  0.54527008 1.03894177\n",
      "    0.82270475]\n",
      "   [1.22488572 1.6095512  2.43778092 2.66142763 1.27612107 1.6630827\n",
      "    1.52612738]]\n",
      "\n",
      "  [[0.45020421 0.54152677 0.90062944 1.00473857 0.62029316 1.01874124\n",
      "    0.53779039]\n",
      "   [1.24424514 1.65655072 2.00338969 2.64283588 1.74554056 1.99703089\n",
      "    1.41225529]]\n",
      "\n",
      "  [[0.78347057 0.30924237 0.83097942 1.43629052 0.3381785  0.97266933\n",
      "    0.78381084]\n",
      "   [1.6981409  1.00283607 2.10728216 2.78038149 1.22786245 1.92658069\n",
      "    1.06914632]]\n",
      "\n",
      "  [[0.90390651 0.34062579 1.06707352 1.40086967 0.32628014 1.13091084\n",
      "    0.5147662 ]\n",
      "   [1.01246457 0.94755226 1.4428367  2.33109575 1.14823262 1.67676609\n",
      "    0.67082988]]]]\n"
     ]
    }
   ],
   "source": [
    "# get Conv2D output with the random inputs\n",
    "\n",
    "conv2d = Conv2D(in_channels, out_channels, kernel_size, stride = stride, padding = padding, dilation = dilation, groups = groups) # call an instance of the class with the input parameters \n",
    "_output = conv2d.forward(_input, kernels) # perform convolution\n",
    "print(\"*** Conv2D output ***\")\n",
    "print(_output)"
   ]
  },
  {
   "cell_type": "code",
   "execution_count": 5,
   "id": "df346af0",
   "metadata": {
    "scrolled": true
   },
   "outputs": [
    {
     "name": "stdout",
     "output_type": "stream",
     "text": [
      "*** PyTorch output ***\n",
      "tensor([[[[0.3116, 0.1298, 0.2090, 1.1398, 0.5267, 0.8427, 0.9239],\n",
      "          [1.6762, 1.2367, 1.6331, 3.6535, 0.7765, 0.8464, 1.5320]],\n",
      "\n",
      "         [[0.3668, 0.4958, 0.6050, 1.1306, 0.5624, 0.6700, 0.8260],\n",
      "          [1.2203, 0.9448, 1.1225, 3.2265, 0.8513, 1.0598, 1.9707]],\n",
      "\n",
      "         [[0.5623, 0.3960, 0.9240, 1.0451, 0.5612, 1.0160, 0.7212],\n",
      "          [1.3129, 1.9456, 1.5148, 3.2624, 1.8566, 1.5451, 1.6854]],\n",
      "\n",
      "         [[0.6586, 0.6507, 0.9387, 1.2633, 0.8051, 0.8712, 0.7941],\n",
      "          [0.6248, 1.4736, 1.0575, 2.3723, 1.6767, 1.0487, 1.3538]]],\n",
      "\n",
      "\n",
      "        [[[0.2139, 0.3224, 0.4586, 0.7779, 0.5453, 1.0389, 0.8227],\n",
      "          [1.2249, 1.6096, 2.4378, 2.6614, 1.2761, 1.6631, 1.5261]],\n",
      "\n",
      "         [[0.4502, 0.5415, 0.9006, 1.0047, 0.6203, 1.0187, 0.5378],\n",
      "          [1.2442, 1.6566, 2.0034, 2.6428, 1.7455, 1.9970, 1.4123]],\n",
      "\n",
      "         [[0.7835, 0.3092, 0.8310, 1.4363, 0.3382, 0.9727, 0.7838],\n",
      "          [1.6981, 1.0028, 2.1073, 2.7804, 1.2279, 1.9266, 1.0691]],\n",
      "\n",
      "         [[0.9039, 0.3406, 1.0671, 1.4009, 0.3263, 1.1309, 0.5148],\n",
      "          [1.0125, 0.9476, 1.4428, 2.3311, 1.1482, 1.6768, 0.6708]]]],\n",
      "       dtype=torch.float64)\n"
     ]
    }
   ],
   "source": [
    "# get PyTorch output with the same random inputs as above\n",
    "\n",
    "x = torch.DoubleTensor(_input)\n",
    "weights = torch.stack([torch.DoubleTensor(kernel) for kernel in kernels])\n",
    "output = torch.nn.functional.conv2d(x, weights, stride = stride, padding = padding, dilation = dilation, groups = groups)\n",
    "print(\"*** PyTorch output ***\")\n",
    "print(output)"
   ]
  },
  {
   "cell_type": "code",
   "execution_count": 6,
   "id": "d8e5a3f5",
   "metadata": {
    "scrolled": true
   },
   "outputs": [
    {
     "name": "stdout",
     "output_type": "stream",
     "text": [
      "True\n"
     ]
    }
   ],
   "source": [
    "# compare outputs of Conv2D and PyTorch\n",
    "print(torch.equal(torch.round(torch.DoubleTensor(_output)), torch.round(output))) # need to round the output due to precision difference"
   ]
  },
  {
   "cell_type": "markdown",
   "id": "c87813f3",
   "metadata": {},
   "source": [
    "### Extensive tests (random kernel, random input)"
   ]
  },
  {
   "cell_type": "code",
   "execution_count": 7,
   "id": "8b986f3c",
   "metadata": {},
   "outputs": [],
   "source": [
    "def valid_params(num_tests):\n",
    "    ''' generates `num_tests` number of valid input and kernel parameters '''\n",
    "    \n",
    "    params_list = []\n",
    "    sample_count = 0\n",
    "    while sample_count < num_tests:\n",
    "        in_channels = np.random.randint(20) + 1 # input channels\n",
    "        out_channels = np.random.randint(20) + 1 # output channels\n",
    "        \n",
    "        kernel_h = np.random.randint(20) + 1\n",
    "        kernel_w = np.random.randint(20) + 1\n",
    "        kernel_size = (kernel_h, kernel_w) # kernel size\n",
    "        \n",
    "        padding_h = np.random.randint(10) + 1\n",
    "        padding_w = np.random.randint(10) + 1\n",
    "        padding = (padding_h, padding_w) # padding (optional)\n",
    "        stride_h = np.random.randint(5) + 1\n",
    "        stride_w = np.random.randint(5) + 1\n",
    "        stride = (stride_h, stride_w) # stride (optional)\n",
    "        dilation_h = np.random.randint(10) + 1\n",
    "        dilation_w = np.random.randint(10) + 1\n",
    "        dilation = (dilation_h, dilation_w) # dilation factor (optional)\n",
    "        groups = np.random.randint(in_channels) + 1 # groups (optional)\n",
    "        \n",
    "        in_batches = np.random.randint(5) + 1 # input batches\n",
    "        in_h = np.random.randint(30) + 5 # input height\n",
    "        in_w = np.random.randint(30) + 5 # input weight\n",
    "    \n",
    "        ker_h_flag, ker_w_flag, out_h_flag, out_w_flag, in_group_flag, out_group_flag = True, True, True, True, True, True\n",
    "        \n",
    "        if in_h + 2 * padding_h < dilation_h * (kernel_h - 1) + 1: # check if (dilated) ker_h is valid\n",
    "            ker_h_flag = False\n",
    "        if in_w + 2 * padding_w < dilation_w * (kernel_w - 1) + 1: # check if (dilated) ker_w is valid\n",
    "            ker_w_flag = False\n",
    "        if ((in_h + 2 * padding_h - (dilation_h * (kernel_h - 1) + 1)) / stride_h) + 1 < 0: # check if out_h is valid\n",
    "            out_h_flag = False\n",
    "        if ((in_w + 2 * padding_w - (dilation_w * (kernel_w - 1) + 1)) / stride_w) + 1 < 0: # check if out_w is valid\n",
    "            out_w_flag = False\n",
    "        if  in_channels % groups != 0: # check if groups is valid\n",
    "            in_group_flag = False\n",
    "        if out_channels % groups != 0: # check if groups is valid\n",
    "            out_group_flag = False\n",
    "        \n",
    "        if ker_h_flag and ker_w_flag and out_h_flag and out_w_flag and in_group_flag and out_group_flag:\n",
    "            params_list.append({'in_channels': in_channels, 'out_channels': out_channels, 'kernel_size': kernel_size,\n",
    "                          'padding': padding, 'stride': stride, 'dilation': dilation, 'groups': groups, 'in_batches': in_batches,\n",
    "                          'in_h': in_h, 'in_w': in_w})\n",
    "            sample_count += 1\n",
    "    return params_list"
   ]
  },
  {
   "cell_type": "code",
   "execution_count": 8,
   "id": "472a4c0f",
   "metadata": {
    "scrolled": true
   },
   "outputs": [],
   "source": [
    "def run_tests(num_tests):\n",
    "    ''' sweep different input parameters and test by comparing outputs of Conv2D and PyTorch '''\n",
    "    \n",
    "    num_passed = 0\n",
    "    params_list = valid_params(num_tests)\n",
    "    print('Number of tests: {}\\n\\n'.format(len(params_list)))\n",
    "\n",
    "    for i, params in enumerate(tqdm(params_list)):\n",
    "        print('Test: {}\\nParams: {}'.format(i, params))\n",
    "        in_channels = params['in_channels'] # input channels\n",
    "        out_channels = params['out_channels'] # output channels\n",
    "        kernel_size = params['kernel_size'] # kernel size\n",
    "\n",
    "        padding = params['padding'] # padding (optional)\n",
    "        stride = params['stride'] # stride (optional)\n",
    "        dilation = params['dilation'] # dilation factor (optional)\n",
    "        groups = params['groups'] # groups (optional)\n",
    "\n",
    "        in_batches = params['in_batches'] # input batches\n",
    "        in_h = params['in_h'] # input height\n",
    "        in_w = params['in_w'] # input weight\n",
    "\n",
    "        _input = np.random.rand(in_batches, in_channels, in_h, in_w) # define a random image based on the input parameters\n",
    "        kernels = []\n",
    "        for k in range(out_channels):\n",
    "            kernel = np.random.rand(int(in_channels / groups), kernel_size[0], kernel_size[1]) # define a random kernel based on the kernel parameters\n",
    "            kernels.append(kernel)\n",
    "\n",
    "        try:\n",
    "            # get Conv2D output with the random inputs\n",
    "            conv2d = Conv2D(in_channels, out_channels, kernel_size, stride = stride, padding = padding, dilation = dilation, groups = groups) # call an instance of the class with the input parameters \n",
    "            _output = conv2d.forward(_input, kernels) # perform convolution\n",
    "\n",
    "            # get PyTorch output with the same random inputs as above\n",
    "            x = torch.DoubleTensor(_input)\n",
    "            weights = torch.stack([torch.DoubleTensor(kernel) for kernel in kernels])\n",
    "            output = torch.nn.functional.conv2d(x, weights, stride = stride, padding = padding, dilation = dilation, groups = groups)\n",
    "\n",
    "        except Exception as e:\n",
    "            print(e)\n",
    "            print('Result: False\\n\\n') # treating exception as a failed test\n",
    "            continue\n",
    "\n",
    "        # compare outputs of Conv2D and PyTorch\n",
    "        result = torch.equal(torch.round(torch.DoubleTensor(_output)), torch.round(output)) # need to round the output due to precision difference\n",
    "        print('Result: {}\\n\\n'.format(result))\n",
    "        if result:\n",
    "            num_passed += 1\n",
    "\n",
    "    print('{} out of {} ({}%) tests passed'.format(num_passed, num_tests, float(100 * num_passed / num_tests)))\n"
   ]
  },
  {
   "cell_type": "code",
   "execution_count": 9,
   "id": "ab748d82",
   "metadata": {},
   "outputs": [
    {
     "name": "stdout",
     "output_type": "stream",
     "text": [
      "Number of tests: 200\n",
      "\n",
      "\n"
     ]
    },
    {
     "name": "stderr",
     "output_type": "stream",
     "text": [
      "\r",
      "  0%|                                                   | 0/200 [00:00<?, ?it/s]"
     ]
    },
    {
     "name": "stdout",
     "output_type": "stream",
     "text": [
      "Test: 0\n",
      "Params: {'in_channels': 8, 'out_channels': 1, 'kernel_size': (2, 20), 'padding': (8, 2), 'stride': (5, 3), 'dilation': (10, 1), 'groups': 1, 'in_batches': 2, 'in_h': 21, 'in_w': 30}\n"
     ]
    },
    {
     "name": "stderr",
     "output_type": "stream",
     "text": [
      "\r",
      "  0%|▏                                          | 1/200 [00:00<02:09,  1.53it/s]"
     ]
    },
    {
     "name": "stdout",
     "output_type": "stream",
     "text": [
      "Result: True\n",
      "\n",
      "\n",
      "Test: 1\n",
      "Params: {'in_channels': 4, 'out_channels': 12, 'kernel_size': (11, 2), 'padding': (2, 9), 'stride': (2, 4), 'dilation': (2, 7), 'groups': 2, 'in_batches': 2, 'in_h': 32, 'in_w': 25}\n"
     ]
    },
    {
     "name": "stderr",
     "output_type": "stream",
     "text": [
      "\r",
      "  1%|▍                                          | 2/200 [00:04<08:29,  2.57s/it]"
     ]
    },
    {
     "name": "stdout",
     "output_type": "stream",
     "text": [
      "Result: True\n",
      "\n",
      "\n",
      "Test: 2\n",
      "Params: {'in_channels': 6, 'out_channels': 18, 'kernel_size': (8, 5), 'padding': (10, 3), 'stride': (1, 5), 'dilation': (4, 1), 'groups': 1, 'in_batches': 2, 'in_h': 24, 'in_w': 18}\n"
     ]
    },
    {
     "name": "stderr",
     "output_type": "stream",
     "text": [
      "\r",
      "  2%|▋                                          | 3/200 [00:16<22:17,  6.79s/it]"
     ]
    },
    {
     "name": "stdout",
     "output_type": "stream",
     "text": [
      "Result: True\n",
      "\n",
      "\n",
      "Test: 3\n",
      "Params: {'in_channels': 1, 'out_channels': 8, 'kernel_size': (3, 4), 'padding': (8, 4), 'stride': (2, 3), 'dilation': (7, 5), 'groups': 1, 'in_batches': 2, 'in_h': 8, 'in_w': 21}\n"
     ]
    },
    {
     "name": "stderr",
     "output_type": "stream",
     "text": [
      "\r",
      "  2%|▊                                          | 4/200 [00:16<14:06,  4.32s/it]"
     ]
    },
    {
     "name": "stdout",
     "output_type": "stream",
     "text": [
      "Result: True\n",
      "\n",
      "\n",
      "Test: 4\n",
      "Params: {'in_channels': 7, 'out_channels': 1, 'kernel_size': (5, 6), 'padding': (4, 8), 'stride': (2, 2), 'dilation': (6, 3), 'groups': 1, 'in_batches': 4, 'in_h': 24, 'in_w': 21}\n"
     ]
    },
    {
     "name": "stderr",
     "output_type": "stream",
     "text": [
      "\r",
      "  2%|█                                          | 5/200 [00:19<11:54,  3.66s/it]"
     ]
    },
    {
     "name": "stdout",
     "output_type": "stream",
     "text": [
      "Result: True\n",
      "\n",
      "\n",
      "Test: 5\n",
      "Params: {'in_channels': 6, 'out_channels': 12, 'kernel_size': (1, 8), 'padding': (5, 2), 'stride': (1, 1), 'dilation': (7, 2), 'groups': 6, 'in_batches': 3, 'in_h': 22, 'in_w': 20}\n"
     ]
    },
    {
     "name": "stderr",
     "output_type": "stream",
     "text": [
      "\r",
      "  3%|█▎                                         | 6/200 [00:20<08:51,  2.74s/it]"
     ]
    },
    {
     "name": "stdout",
     "output_type": "stream",
     "text": [
      "Result: True\n",
      "\n",
      "\n",
      "Test: 6\n",
      "Params: {'in_channels': 18, 'out_channels': 18, 'kernel_size': (12, 11), 'padding': (9, 9), 'stride': (1, 1), 'dilation': (3, 1), 'groups': 6, 'in_batches': 3, 'in_h': 18, 'in_w': 17}\n"
     ]
    },
    {
     "name": "stderr",
     "output_type": "stream",
     "text": [
      "\r",
      "  4%|█▌                                         | 7/200 [00:44<31:18,  9.73s/it]"
     ]
    },
    {
     "name": "stdout",
     "output_type": "stream",
     "text": [
      "Result: True\n",
      "\n",
      "\n",
      "Test: 7\n",
      "Params: {'in_channels': 8, 'out_channels': 10, 'kernel_size': (2, 5), 'padding': (1, 2), 'stride': (5, 3), 'dilation': (1, 3), 'groups': 2, 'in_batches': 5, 'in_h': 20, 'in_w': 32}\n"
     ]
    },
    {
     "name": "stderr",
     "output_type": "stream",
     "text": [
      "  4%|█▉                                         | 9/200 [00:45<15:28,  4.86s/it]"
     ]
    },
    {
     "name": "stdout",
     "output_type": "stream",
     "text": [
      "Result: True\n",
      "\n",
      "\n",
      "Test: 8\n",
      "Params: {'in_channels': 1, 'out_channels': 5, 'kernel_size': (2, 8), 'padding': (6, 8), 'stride': (2, 1), 'dilation': (1, 6), 'groups': 1, 'in_batches': 2, 'in_h': 17, 'in_w': 29}\n",
      "Result: True\n",
      "\n",
      "\n",
      "Test: 9\n",
      "Params: {'in_channels': 17, 'out_channels': 18, 'kernel_size': (3, 4), 'padding': (9, 3), 'stride': (2, 2), 'dilation': (8, 5), 'groups': 1, 'in_batches': 4, 'in_h': 11, 'in_w': 19}\n"
     ]
    },
    {
     "name": "stderr",
     "output_type": "stream",
     "text": [
      "\r",
      "  5%|██                                      | 10/200 [01:46<1:10:07, 22.14s/it]"
     ]
    },
    {
     "name": "stdout",
     "output_type": "stream",
     "text": [
      "Result: True\n",
      "\n",
      "\n",
      "Test: 10\n",
      "Params: {'in_channels': 1, 'out_channels': 9, 'kernel_size': (13, 12), 'padding': (9, 3), 'stride': (1, 3), 'dilation': (2, 1), 'groups': 1, 'in_batches': 3, 'in_h': 10, 'in_w': 15}\n"
     ]
    },
    {
     "name": "stderr",
     "output_type": "stream",
     "text": [
      "\r",
      "  6%|██▎                                       | 11/200 [01:47<49:04, 15.58s/it]"
     ]
    },
    {
     "name": "stdout",
     "output_type": "stream",
     "text": [
      "Result: True\n",
      "\n",
      "\n",
      "Test: 11\n",
      "Params: {'in_channels': 1, 'out_channels': 1, 'kernel_size': (3, 3), 'padding': (6, 2), 'stride': (3, 1), 'dilation': (4, 7), 'groups': 1, 'in_batches': 3, 'in_h': 31, 'in_w': 23}\n"
     ]
    },
    {
     "name": "stderr",
     "output_type": "stream",
     "text": [
      "\r",
      "  6%|██▌                                       | 12/200 [01:47<34:18, 10.95s/it]"
     ]
    },
    {
     "name": "stdout",
     "output_type": "stream",
     "text": [
      "Result: True\n",
      "\n",
      "\n",
      "Test: 12\n",
      "Params: {'in_channels': 20, 'out_channels': 11, 'kernel_size': (15, 2), 'padding': (4, 8), 'stride': (1, 1), 'dilation': (2, 3), 'groups': 1, 'in_batches': 3, 'in_h': 30, 'in_w': 17}\n"
     ]
    },
    {
     "name": "stderr",
     "output_type": "stream",
     "text": [
      "\r",
      "  6%|██▌                                     | 13/200 [03:48<2:17:51, 44.24s/it]"
     ]
    },
    {
     "name": "stdout",
     "output_type": "stream",
     "text": [
      "Result: True\n",
      "\n",
      "\n",
      "Test: 13\n",
      "Params: {'in_channels': 16, 'out_channels': 2, 'kernel_size': (1, 13), 'padding': (9, 4), 'stride': (1, 3), 'dilation': (2, 1), 'groups': 1, 'in_batches': 1, 'in_h': 25, 'in_w': 14}\n"
     ]
    },
    {
     "name": "stderr",
     "output_type": "stream",
     "text": [
      "\r",
      "  7%|██▊                                     | 14/200 [03:48<1:36:04, 30.99s/it]"
     ]
    },
    {
     "name": "stdout",
     "output_type": "stream",
     "text": [
      "Result: True\n",
      "\n",
      "\n",
      "Test: 14\n",
      "Params: {'in_channels': 4, 'out_channels': 17, 'kernel_size': (17, 4), 'padding': (1, 6), 'stride': (1, 4), 'dilation': (1, 6), 'groups': 1, 'in_batches': 4, 'in_h': 27, 'in_w': 9}\n"
     ]
    },
    {
     "name": "stderr",
     "output_type": "stream",
     "text": [
      "\r",
      "  8%|███                                     | 15/200 [03:54<1:12:17, 23.45s/it]"
     ]
    },
    {
     "name": "stdout",
     "output_type": "stream",
     "text": [
      "Result: True\n",
      "\n",
      "\n",
      "Test: 15\n",
      "Params: {'in_channels': 20, 'out_channels': 20, 'kernel_size': (2, 19), 'padding': (7, 2), 'stride': (1, 3), 'dilation': (5, 1), 'groups': 5, 'in_batches': 3, 'in_h': 9, 'in_w': 23}\n"
     ]
    },
    {
     "name": "stderr",
     "output_type": "stream",
     "text": [
      "\r",
      "  8%|███▎                                      | 16/200 [04:02<57:17, 18.68s/it]"
     ]
    },
    {
     "name": "stdout",
     "output_type": "stream",
     "text": [
      "Result: True\n",
      "\n",
      "\n",
      "Test: 16\n",
      "Params: {'in_channels': 8, 'out_channels': 5, 'kernel_size': (7, 7), 'padding': (8, 4), 'stride': (1, 5), 'dilation': (7, 5), 'groups': 1, 'in_batches': 2, 'in_h': 33, 'in_w': 30}\n"
     ]
    },
    {
     "name": "stderr",
     "output_type": "stream",
     "text": [
      "\r",
      "  8%|███▌                                      | 17/200 [04:10<46:48, 15.35s/it]"
     ]
    },
    {
     "name": "stdout",
     "output_type": "stream",
     "text": [
      "Result: True\n",
      "\n",
      "\n",
      "Test: 17\n",
      "Params: {'in_channels': 1, 'out_channels': 7, 'kernel_size': (1, 8), 'padding': (7, 5), 'stride': (3, 3), 'dilation': (7, 4), 'groups': 1, 'in_batches': 2, 'in_h': 14, 'in_w': 27}\n",
      "Result: True\n",
      "\n",
      "\n",
      "Test: 18\n",
      "Params: {'in_channels': 2, 'out_channels': 13, 'kernel_size': (15, 1), 'padding': (5, 10), 'stride': (4, 2), 'dilation': (2, 10), 'groups': 1, 'in_batches': 1, 'in_h': 26, 'in_w': 28}\n"
     ]
    },
    {
     "name": "stderr",
     "output_type": "stream",
     "text": [
      " 10%|████▏                                     | 20/200 [04:10<18:53,  6.30s/it]"
     ]
    },
    {
     "name": "stdout",
     "output_type": "stream",
     "text": [
      "Result: True\n",
      "\n",
      "\n",
      "Test: 19\n",
      "Params: {'in_channels': 7, 'out_channels': 6, 'kernel_size': (1, 2), 'padding': (3, 10), 'stride': (3, 3), 'dilation': (2, 2), 'groups': 1, 'in_batches': 3, 'in_h': 10, 'in_w': 18}\n",
      "Result: True\n",
      "\n",
      "\n",
      "Test: 20\n",
      "Params: {'in_channels': 12, 'out_channels': 18, 'kernel_size': (6, 18), 'padding': (8, 10), 'stride': (5, 2), 'dilation': (5, 1), 'groups': 3, 'in_batches': 5, 'in_h': 26, 'in_w': 21}\n"
     ]
    },
    {
     "name": "stderr",
     "output_type": "stream",
     "text": [
      "\r",
      " 10%|████▍                                     | 21/200 [04:52<46:30, 15.59s/it]"
     ]
    },
    {
     "name": "stdout",
     "output_type": "stream",
     "text": [
      "Result: True\n",
      "\n",
      "\n",
      "Test: 21\n",
      "Params: {'in_channels': 14, 'out_channels': 8, 'kernel_size': (1, 4), 'padding': (1, 5), 'stride': (3, 5), 'dilation': (1, 7), 'groups': 1, 'in_batches': 2, 'in_h': 17, 'in_w': 34}\n"
     ]
    },
    {
     "name": "stderr",
     "output_type": "stream",
     "text": [
      "\r",
      " 11%|████▌                                     | 22/200 [04:53<34:23, 11.59s/it]"
     ]
    },
    {
     "name": "stdout",
     "output_type": "stream",
     "text": [
      "Result: True\n",
      "\n",
      "\n",
      "Test: 22\n",
      "Params: {'in_channels': 1, 'out_channels': 9, 'kernel_size': (3, 1), 'padding': (4, 10), 'stride': (1, 1), 'dilation': (7, 1), 'groups': 1, 'in_batches': 2, 'in_h': 11, 'in_w': 9}\n"
     ]
    },
    {
     "name": "stderr",
     "output_type": "stream",
     "text": [
      "\r",
      " 12%|████▊                                     | 23/200 [04:53<24:49,  8.42s/it]"
     ]
    },
    {
     "name": "stdout",
     "output_type": "stream",
     "text": [
      "Result: True\n",
      "\n",
      "\n",
      "Test: 23\n",
      "Params: {'in_channels': 1, 'out_channels': 1, 'kernel_size': (12, 8), 'padding': (5, 9), 'stride': (4, 1), 'dilation': (1, 4), 'groups': 1, 'in_batches': 4, 'in_h': 6, 'in_w': 14}\n",
      "Result: True\n",
      "\n",
      "\n",
      "Test: 24\n",
      "Params: {'in_channels': 6, 'out_channels': 16, 'kernel_size': (7, 5), 'padding': (6, 2), 'stride': (4, 2), 'dilation': (4, 4), 'groups': 1, 'in_batches': 2, 'in_h': 26, 'in_w': 34}\n"
     ]
    },
    {
     "name": "stderr",
     "output_type": "stream",
     "text": [
      "\r",
      " 12%|█████▎                                    | 25/200 [05:11<25:38,  8.79s/it]"
     ]
    },
    {
     "name": "stdout",
     "output_type": "stream",
     "text": [
      "Result: True\n",
      "\n",
      "\n",
      "Test: 25\n",
      "Params: {'in_channels': 2, 'out_channels': 12, 'kernel_size': (3, 4), 'padding': (10, 10), 'stride': (2, 3), 'dilation': (5, 6), 'groups': 1, 'in_batches': 5, 'in_h': 23, 'in_w': 23}\n"
     ]
    },
    {
     "name": "stderr",
     "output_type": "stream",
     "text": [
      "\r",
      " 13%|█████▍                                    | 26/200 [05:32<33:19, 11.49s/it]"
     ]
    },
    {
     "name": "stdout",
     "output_type": "stream",
     "text": [
      "Result: True\n",
      "\n",
      "\n",
      "Test: 26\n",
      "Params: {'in_channels': 5, 'out_channels': 18, 'kernel_size': (7, 6), 'padding': (10, 5), 'stride': (1, 4), 'dilation': (6, 1), 'groups': 1, 'in_batches': 1, 'in_h': 27, 'in_w': 23}\n"
     ]
    },
    {
     "name": "stderr",
     "output_type": "stream",
     "text": [
      "\r",
      " 14%|█████▋                                    | 27/200 [05:39<30:30, 10.58s/it]"
     ]
    },
    {
     "name": "stdout",
     "output_type": "stream",
     "text": [
      "Result: True\n",
      "\n",
      "\n",
      "Test: 27\n",
      "Params: {'in_channels': 5, 'out_channels': 11, 'kernel_size': (18, 8), 'padding': (8, 8), 'stride': (3, 1), 'dilation': (1, 2), 'groups': 1, 'in_batches': 3, 'in_h': 7, 'in_w': 29}\n"
     ]
    },
    {
     "name": "stderr",
     "output_type": "stream",
     "text": [
      "\r",
      " 14%|█████▉                                    | 28/200 [05:54<33:07, 11.56s/it]"
     ]
    },
    {
     "name": "stdout",
     "output_type": "stream",
     "text": [
      "Result: True\n",
      "\n",
      "\n",
      "Test: 28\n",
      "Params: {'in_channels': 5, 'out_channels': 3, 'kernel_size': (3, 5), 'padding': (6, 2), 'stride': (4, 2), 'dilation': (7, 6), 'groups': 1, 'in_batches': 4, 'in_h': 23, 'in_w': 34}\n"
     ]
    },
    {
     "name": "stderr",
     "output_type": "stream",
     "text": [
      "\r",
      " 14%|██████                                    | 29/200 [05:58<27:37,  9.69s/it]"
     ]
    },
    {
     "name": "stdout",
     "output_type": "stream",
     "text": [
      "Result: True\n",
      "\n",
      "\n",
      "Test: 29\n",
      "Params: {'in_channels': 3, 'out_channels': 3, 'kernel_size': (10, 1), 'padding': (9, 8), 'stride': (4, 4), 'dilation': (5, 9), 'groups': 3, 'in_batches': 4, 'in_h': 28, 'in_w': 26}\n",
      "Result: True\n",
      "\n",
      "\n",
      "Test: 30\n",
      "Params: {'in_channels': 15, 'out_channels': 15, 'kernel_size': (14, 9), 'padding': (5, 1), 'stride': (3, 2), 'dilation': (1, 1), 'groups': 5, 'in_batches': 2, 'in_h': 33, 'in_w': 25}\n"
     ]
    },
    {
     "name": "stderr",
     "output_type": "stream",
     "text": [
      "\r",
      " 16%|██████▌                                   | 31/200 [06:05<19:02,  6.76s/it]"
     ]
    },
    {
     "name": "stdout",
     "output_type": "stream",
     "text": [
      "Result: True\n",
      "\n",
      "\n",
      "Test: 31\n",
      "Params: {'in_channels': 7, 'out_channels': 19, 'kernel_size': (10, 6), 'padding': (3, 9), 'stride': (2, 4), 'dilation': (1, 2), 'groups': 1, 'in_batches': 2, 'in_h': 6, 'in_w': 29}\n"
     ]
    },
    {
     "name": "stderr",
     "output_type": "stream",
     "text": [
      "\r",
      " 16%|██████▋                                   | 32/200 [06:08<16:27,  5.88s/it]"
     ]
    },
    {
     "name": "stdout",
     "output_type": "stream",
     "text": [
      "Result: True\n",
      "\n",
      "\n",
      "Test: 32\n",
      "Params: {'in_channels': 3, 'out_channels': 19, 'kernel_size': (3, 7), 'padding': (9, 2), 'stride': (4, 1), 'dilation': (7, 5), 'groups': 1, 'in_batches': 5, 'in_h': 8, 'in_w': 31}\n"
     ]
    },
    {
     "name": "stderr",
     "output_type": "stream",
     "text": [
      "\r",
      " 16%|██████▉                                   | 33/200 [06:18<19:26,  6.99s/it]"
     ]
    },
    {
     "name": "stdout",
     "output_type": "stream",
     "text": [
      "Result: True\n",
      "\n",
      "\n",
      "Test: 33\n",
      "Params: {'in_channels': 1, 'out_channels': 20, 'kernel_size': (2, 5), 'padding': (1, 6), 'stride': (2, 5), 'dilation': (4, 4), 'groups': 1, 'in_batches': 2, 'in_h': 24, 'in_w': 14}\n"
     ]
    },
    {
     "name": "stderr",
     "output_type": "stream",
     "text": [
      "\r",
      " 17%|███████▏                                  | 34/200 [06:18<14:28,  5.23s/it]"
     ]
    },
    {
     "name": "stdout",
     "output_type": "stream",
     "text": [
      "Result: True\n",
      "\n",
      "\n",
      "Test: 34\n",
      "Params: {'in_channels': 19, 'out_channels': 13, 'kernel_size': (3, 9), 'padding': (9, 7), 'stride': (3, 2), 'dilation': (6, 2), 'groups': 1, 'in_batches': 4, 'in_h': 9, 'in_w': 7}\n"
     ]
    },
    {
     "name": "stderr",
     "output_type": "stream",
     "text": [
      "\r",
      " 18%|███████▎                                  | 35/200 [06:35<23:16,  8.47s/it]"
     ]
    },
    {
     "name": "stdout",
     "output_type": "stream",
     "text": [
      "Result: True\n",
      "\n",
      "\n",
      "Test: 35\n",
      "Params: {'in_channels': 17, 'out_channels': 3, 'kernel_size': (5, 5), 'padding': (1, 8), 'stride': (2, 2), 'dilation': (7, 4), 'groups': 1, 'in_batches': 3, 'in_h': 32, 'in_w': 24}\n"
     ]
    },
    {
     "name": "stderr",
     "output_type": "stream",
     "text": [
      "\r",
      " 18%|███████▌                                  | 36/200 [06:50<27:54, 10.21s/it]"
     ]
    },
    {
     "name": "stdout",
     "output_type": "stream",
     "text": [
      "Result: True\n",
      "\n",
      "\n",
      "Test: 36\n",
      "Params: {'in_channels': 19, 'out_channels': 20, 'kernel_size': (4, 2), 'padding': (10, 8), 'stride': (5, 1), 'dilation': (4, 10), 'groups': 1, 'in_batches': 2, 'in_h': 22, 'in_w': 24}\n"
     ]
    },
    {
     "name": "stderr",
     "output_type": "stream",
     "text": [
      "\r",
      " 18%|███████▍                                | 37/200 [08:30<1:37:53, 36.03s/it]"
     ]
    },
    {
     "name": "stdout",
     "output_type": "stream",
     "text": [
      "Result: True\n",
      "\n",
      "\n",
      "Test: 37\n",
      "Params: {'in_channels': 11, 'out_channels': 18, 'kernel_size': (3, 5), 'padding': (1, 10), 'stride': (5, 5), 'dilation': (6, 1), 'groups': 1, 'in_batches': 4, 'in_h': 16, 'in_w': 19}\n"
     ]
    },
    {
     "name": "stderr",
     "output_type": "stream",
     "text": [
      "\r",
      " 19%|███████▌                                | 38/200 [08:34<1:11:52, 26.62s/it]"
     ]
    },
    {
     "name": "stdout",
     "output_type": "stream",
     "text": [
      "Result: True\n",
      "\n",
      "\n",
      "Test: 38\n",
      "Params: {'in_channels': 3, 'out_channels': 18, 'kernel_size': (2, 3), 'padding': (9, 9), 'stride': (3, 2), 'dilation': (6, 3), 'groups': 1, 'in_batches': 4, 'in_h': 23, 'in_w': 34}\n"
     ]
    },
    {
     "name": "stderr",
     "output_type": "stream",
     "text": [
      "\r",
      " 20%|███████▊                                | 39/200 [08:48<1:02:14, 23.20s/it]"
     ]
    },
    {
     "name": "stdout",
     "output_type": "stream",
     "text": [
      "Result: True\n",
      "\n",
      "\n",
      "Test: 39\n",
      "Params: {'in_channels': 9, 'out_channels': 3, 'kernel_size': (7, 4), 'padding': (4, 1), 'stride': (5, 1), 'dilation': (2, 3), 'groups': 3, 'in_batches': 1, 'in_h': 9, 'in_w': 20}\n",
      "Result: True\n",
      "\n",
      "\n",
      "Test: 40\n",
      "Params: {'in_channels': 11, 'out_channels': 16, 'kernel_size': (6, 2), 'padding': (1, 9), 'stride': (3, 3), 'dilation': (3, 9), 'groups': 1, 'in_batches': 1, 'in_h': 22, 'in_w': 8}\n"
     ]
    },
    {
     "name": "stderr",
     "output_type": "stream",
     "text": [
      "\r",
      " 20%|████████▌                                 | 41/200 [08:51<35:03, 13.23s/it]"
     ]
    },
    {
     "name": "stdout",
     "output_type": "stream",
     "text": [
      "Result: True\n",
      "\n",
      "\n",
      "Test: 41\n",
      "Params: {'in_channels': 2, 'out_channels': 9, 'kernel_size': (2, 17), 'padding': (4, 3), 'stride': (1, 4), 'dilation': (1, 2), 'groups': 1, 'in_batches': 4, 'in_h': 26, 'in_w': 34}\n"
     ]
    },
    {
     "name": "stderr",
     "output_type": "stream",
     "text": [
      "\r",
      " 21%|████████▊                                 | 42/200 [08:53<27:18, 10.37s/it]"
     ]
    },
    {
     "name": "stdout",
     "output_type": "stream",
     "text": [
      "Result: True\n",
      "\n",
      "\n",
      "Test: 42\n",
      "Params: {'in_channels': 12, 'out_channels': 12, 'kernel_size': (7, 4), 'padding': (3, 3), 'stride': (2, 2), 'dilation': (1, 4), 'groups': 1, 'in_batches': 4, 'in_h': 17, 'in_w': 34}\n"
     ]
    },
    {
     "name": "stderr",
     "output_type": "stream",
     "text": [
      " 22%|█████████▏                                | 44/200 [09:27<31:18, 12.04s/it]"
     ]
    },
    {
     "name": "stdout",
     "output_type": "stream",
     "text": [
      "Result: True\n",
      "\n",
      "\n",
      "Test: 43\n",
      "Params: {'in_channels': 1, 'out_channels': 7, 'kernel_size': (4, 4), 'padding': (1, 9), 'stride': (4, 1), 'dilation': (6, 7), 'groups': 1, 'in_batches': 2, 'in_h': 23, 'in_w': 6}\n",
      "Result: True\n",
      "\n",
      "\n",
      "Test: 44\n",
      "Params: {'in_channels': 1, 'out_channels': 11, 'kernel_size': (19, 4), 'padding': (3, 4), 'stride': (3, 5), 'dilation': (1, 2), 'groups': 1, 'in_batches': 2, 'in_h': 15, 'in_w': 32}\n"
     ]
    },
    {
     "name": "stderr",
     "output_type": "stream",
     "text": [
      "\r",
      " 22%|█████████▍                                | 45/200 [09:27<22:30,  8.72s/it]"
     ]
    },
    {
     "name": "stdout",
     "output_type": "stream",
     "text": [
      "Result: True\n",
      "\n",
      "\n",
      "Test: 45\n",
      "Params: {'in_channels': 5, 'out_channels': 5, 'kernel_size': (5, 4), 'padding': (9, 8), 'stride': (1, 2), 'dilation': (10, 10), 'groups': 1, 'in_batches': 3, 'in_h': 27, 'in_w': 28}\n"
     ]
    },
    {
     "name": "stderr",
     "output_type": "stream",
     "text": [
      " 24%|█████████▊                                | 47/200 [09:44<19:57,  7.82s/it]"
     ]
    },
    {
     "name": "stdout",
     "output_type": "stream",
     "text": [
      "Result: True\n",
      "\n",
      "\n",
      "Test: 46\n",
      "Params: {'in_channels': 1, 'out_channels': 2, 'kernel_size': (1, 9), 'padding': (10, 3), 'stride': (1, 4), 'dilation': (2, 2), 'groups': 1, 'in_batches': 3, 'in_h': 26, 'in_w': 24}\n",
      "Result: True\n",
      "\n",
      "\n",
      "Test: 47\n",
      "Params: {'in_channels': 16, 'out_channels': 4, 'kernel_size': (4, 5), 'padding': (3, 10), 'stride': (2, 3), 'dilation': (9, 8), 'groups': 2, 'in_batches': 2, 'in_h': 27, 'in_w': 23}\n"
     ]
    },
    {
     "name": "stderr",
     "output_type": "stream",
     "text": [
      "\r",
      " 24%|██████████                                | 48/200 [09:47<16:43,  6.60s/it]"
     ]
    },
    {
     "name": "stdout",
     "output_type": "stream",
     "text": [
      "Result: True\n",
      "\n",
      "\n",
      "Test: 48\n",
      "Params: {'in_channels': 7, 'out_channels': 6, 'kernel_size': (2, 2), 'padding': (1, 5), 'stride': (5, 5), 'dilation': (7, 5), 'groups': 1, 'in_batches': 2, 'in_h': 22, 'in_w': 19}\n"
     ]
    },
    {
     "name": "stderr",
     "output_type": "stream",
     "text": [
      " 25%|██████████▌                               | 50/200 [09:48<08:30,  3.40s/it]"
     ]
    },
    {
     "name": "stdout",
     "output_type": "stream",
     "text": [
      "Result: True\n",
      "\n",
      "\n",
      "Test: 49\n",
      "Params: {'in_channels': 1, 'out_channels': 1, 'kernel_size': (1, 9), 'padding': (7, 9), 'stride': (1, 2), 'dilation': (4, 2), 'groups': 1, 'in_batches': 3, 'in_h': 17, 'in_w': 24}\n",
      "Result: True\n",
      "\n",
      "\n",
      "Test: 50\n",
      "Params: {'in_channels': 5, 'out_channels': 13, 'kernel_size': (5, 5), 'padding': (7, 3), 'stride': (2, 5), 'dilation': (1, 2), 'groups': 1, 'in_batches': 1, 'in_h': 33, 'in_w': 14}\n"
     ]
    },
    {
     "name": "stderr",
     "output_type": "stream",
     "text": [
      "\r",
      " 26%|██████████▋                               | 51/200 [09:49<06:41,  2.70s/it]"
     ]
    },
    {
     "name": "stdout",
     "output_type": "stream",
     "text": [
      "Result: True\n",
      "\n",
      "\n",
      "Test: 51\n",
      "Params: {'in_channels': 1, 'out_channels': 4, 'kernel_size': (1, 7), 'padding': (10, 10), 'stride': (1, 3), 'dilation': (7, 6), 'groups': 1, 'in_batches': 4, 'in_h': 32, 'in_w': 24}\n"
     ]
    },
    {
     "name": "stderr",
     "output_type": "stream",
     "text": [
      "\r",
      " 26%|██████████▉                               | 52/200 [09:49<05:02,  2.04s/it]"
     ]
    },
    {
     "name": "stdout",
     "output_type": "stream",
     "text": [
      "Result: True\n",
      "\n",
      "\n",
      "Test: 52\n",
      "Params: {'in_channels': 10, 'out_channels': 20, 'kernel_size': (11, 4), 'padding': (3, 2), 'stride': (2, 1), 'dilation': (1, 3), 'groups': 2, 'in_batches': 3, 'in_h': 18, 'in_w': 25}\n"
     ]
    },
    {
     "name": "stderr",
     "output_type": "stream",
     "text": [
      "\r",
      " 26%|███████████▏                              | 53/200 [10:13<20:53,  8.52s/it]"
     ]
    },
    {
     "name": "stdout",
     "output_type": "stream",
     "text": [
      "Result: True\n",
      "\n",
      "\n",
      "Test: 53\n",
      "Params: {'in_channels': 11, 'out_channels': 4, 'kernel_size': (3, 2), 'padding': (5, 4), 'stride': (3, 5), 'dilation': (9, 8), 'groups': 1, 'in_batches': 5, 'in_h': 32, 'in_w': 13}\n"
     ]
    },
    {
     "name": "stderr",
     "output_type": "stream",
     "text": [
      "\r",
      " 27%|███████████▎                              | 54/200 [10:18<17:55,  7.36s/it]"
     ]
    },
    {
     "name": "stdout",
     "output_type": "stream",
     "text": [
      "Result: True\n",
      "\n",
      "\n",
      "Test: 54\n",
      "Params: {'in_channels': 6, 'out_channels': 20, 'kernel_size': (11, 1), 'padding': (4, 10), 'stride': (4, 3), 'dilation': (4, 9), 'groups': 1, 'in_batches': 4, 'in_h': 33, 'in_w': 31}\n"
     ]
    },
    {
     "name": "stderr",
     "output_type": "stream",
     "text": [
      "\r",
      " 28%|███████████▌                              | 55/200 [10:20<13:52,  5.74s/it]"
     ]
    },
    {
     "name": "stdout",
     "output_type": "stream",
     "text": [
      "Result: True\n",
      "\n",
      "\n",
      "Test: 55\n",
      "Params: {'in_channels': 11, 'out_channels': 3, 'kernel_size': (2, 11), 'padding': (9, 7), 'stride': (4, 2), 'dilation': (10, 2), 'groups': 1, 'in_batches': 1, 'in_h': 23, 'in_w': 29}\n"
     ]
    },
    {
     "name": "stderr",
     "output_type": "stream",
     "text": [
      "\r",
      " 28%|███████████▊                              | 56/200 [10:23<12:21,  5.15s/it]"
     ]
    },
    {
     "name": "stdout",
     "output_type": "stream",
     "text": [
      "Result: True\n",
      "\n",
      "\n",
      "Test: 56\n",
      "Params: {'in_channels': 11, 'out_channels': 14, 'kernel_size': (12, 5), 'padding': (4, 9), 'stride': (1, 5), 'dilation': (2, 7), 'groups': 1, 'in_batches': 4, 'in_h': 34, 'in_w': 25}\n"
     ]
    },
    {
     "name": "stderr",
     "output_type": "stream",
     "text": [
      "\r",
      " 28%|███████████▍                            | 57/200 [12:29<1:38:27, 41.31s/it]"
     ]
    },
    {
     "name": "stdout",
     "output_type": "stream",
     "text": [
      "Result: True\n",
      "\n",
      "\n",
      "Test: 57\n",
      "Params: {'in_channels': 9, 'out_channels': 14, 'kernel_size': (1, 2), 'padding': (2, 6), 'stride': (4, 2), 'dilation': (6, 10), 'groups': 1, 'in_batches': 4, 'in_h': 28, 'in_w': 25}\n"
     ]
    },
    {
     "name": "stderr",
     "output_type": "stream",
     "text": [
      "\r",
      " 29%|███████████▌                            | 58/200 [12:32<1:10:46, 29.90s/it]"
     ]
    },
    {
     "name": "stdout",
     "output_type": "stream",
     "text": [
      "Result: True\n",
      "\n",
      "\n",
      "Test: 58\n",
      "Params: {'in_channels': 2, 'out_channels': 19, 'kernel_size': (8, 5), 'padding': (1, 10), 'stride': (4, 1), 'dilation': (1, 3), 'groups': 1, 'in_batches': 4, 'in_h': 19, 'in_w': 9}\n"
     ]
    },
    {
     "name": "stderr",
     "output_type": "stream",
     "text": [
      "\r",
      " 30%|████████████▍                             | 59/200 [12:38<53:07, 22.61s/it]"
     ]
    },
    {
     "name": "stdout",
     "output_type": "stream",
     "text": [
      "Result: True\n",
      "\n",
      "\n",
      "Test: 59\n",
      "Params: {'in_channels': 5, 'out_channels': 10, 'kernel_size': (3, 18), 'padding': (4, 5), 'stride': (1, 1), 'dilation': (6, 1), 'groups': 1, 'in_batches': 4, 'in_h': 25, 'in_w': 30}\n"
     ]
    },
    {
     "name": "stderr",
     "output_type": "stream",
     "text": [
      "\r",
      " 30%|████████████                            | 60/200 [14:31<1:56:17, 49.84s/it]"
     ]
    },
    {
     "name": "stdout",
     "output_type": "stream",
     "text": [
      "Result: True\n",
      "\n",
      "\n",
      "Test: 60\n",
      "Params: {'in_channels': 6, 'out_channels': 17, 'kernel_size': (4, 3), 'padding': (3, 6), 'stride': (4, 4), 'dilation': (4, 7), 'groups': 1, 'in_batches': 1, 'in_h': 28, 'in_w': 24}\n"
     ]
    },
    {
     "name": "stderr",
     "output_type": "stream",
     "text": [
      " 31%|█████████████                             | 62/200 [14:35<58:01, 25.23s/it]"
     ]
    },
    {
     "name": "stdout",
     "output_type": "stream",
     "text": [
      "Result: True\n",
      "\n",
      "\n",
      "Test: 61\n",
      "Params: {'in_channels': 1, 'out_channels': 19, 'kernel_size': (1, 5), 'padding': (3, 8), 'stride': (2, 2), 'dilation': (10, 5), 'groups': 1, 'in_batches': 1, 'in_h': 20, 'in_w': 13}\n",
      "Result: True\n",
      "\n",
      "\n",
      "Test: 62\n",
      "Params: {'in_channels': 6, 'out_channels': 17, 'kernel_size': (13, 2), 'padding': (7, 7), 'stride': (4, 3), 'dilation': (1, 5), 'groups': 1, 'in_batches': 1, 'in_h': 17, 'in_w': 31}\n"
     ]
    },
    {
     "name": "stderr",
     "output_type": "stream",
     "text": [
      "\r",
      " 32%|█████████████▏                            | 63/200 [14:38<42:18, 18.53s/it]"
     ]
    },
    {
     "name": "stdout",
     "output_type": "stream",
     "text": [
      "Result: True\n",
      "\n",
      "\n",
      "Test: 63\n",
      "Params: {'in_channels': 5, 'out_channels': 20, 'kernel_size': (18, 1), 'padding': (10, 9), 'stride': (3, 2), 'dilation': (2, 7), 'groups': 1, 'in_batches': 1, 'in_h': 16, 'in_w': 13}\n"
     ]
    },
    {
     "name": "stderr",
     "output_type": "stream",
     "text": [
      "\r",
      " 32%|█████████████▍                            | 64/200 [14:38<29:37, 13.07s/it]"
     ]
    },
    {
     "name": "stdout",
     "output_type": "stream",
     "text": [
      "Result: True\n",
      "\n",
      "\n",
      "Test: 64\n",
      "Params: {'in_channels': 1, 'out_channels': 16, 'kernel_size': (10, 19), 'padding': (5, 6), 'stride': (3, 4), 'dilation': (3, 1), 'groups': 1, 'in_batches': 5, 'in_h': 26, 'in_w': 7}\n"
     ]
    },
    {
     "name": "stderr",
     "output_type": "stream",
     "text": [
      "\r",
      " 32%|█████████████▋                            | 65/200 [14:39<21:02,  9.35s/it]"
     ]
    },
    {
     "name": "stdout",
     "output_type": "stream",
     "text": [
      "Result: True\n",
      "\n",
      "\n",
      "Test: 65\n",
      "Params: {'in_channels': 5, 'out_channels': 7, 'kernel_size': (5, 1), 'padding': (5, 10), 'stride': (2, 3), 'dilation': (1, 8), 'groups': 1, 'in_batches': 5, 'in_h': 18, 'in_w': 31}\n"
     ]
    },
    {
     "name": "stderr",
     "output_type": "stream",
     "text": [
      "\r",
      " 33%|█████████████▊                            | 66/200 [14:40<15:18,  6.85s/it]"
     ]
    },
    {
     "name": "stdout",
     "output_type": "stream",
     "text": [
      "Result: True\n",
      "\n",
      "\n",
      "Test: 66\n",
      "Params: {'in_channels': 2, 'out_channels': 8, 'kernel_size': (3, 1), 'padding': (10, 5), 'stride': (2, 4), 'dilation': (1, 8), 'groups': 2, 'in_batches': 2, 'in_h': 30, 'in_w': 32}\n",
      "Result: True\n",
      "\n",
      "\n",
      "Test: 67\n",
      "Params: {'in_channels': 10, 'out_channels': 6, 'kernel_size': (2, 1), 'padding': (1, 5), 'stride': (1, 3), 'dilation': (4, 4), 'groups': 1, 'in_batches': 3, 'in_h': 19, 'in_w': 14}\n"
     ]
    },
    {
     "name": "stderr",
     "output_type": "stream",
     "text": [
      " 34%|██████████████▍                           | 69/200 [14:41<06:26,  2.95s/it]"
     ]
    },
    {
     "name": "stdout",
     "output_type": "stream",
     "text": [
      "Result: True\n",
      "\n",
      "\n",
      "Test: 68\n",
      "Params: {'in_channels': 3, 'out_channels': 6, 'kernel_size': (3, 1), 'padding': (8, 4), 'stride': (2, 4), 'dilation': (6, 3), 'groups': 3, 'in_batches': 5, 'in_h': 13, 'in_w': 20}\n",
      "Result: True\n",
      "\n",
      "\n",
      "Test: 69\n",
      "Params: {'in_channels': 5, 'out_channels': 10, 'kernel_size': (5, 5), 'padding': (2, 3), 'stride': (3, 2), 'dilation': (3, 2), 'groups': 5, 'in_batches': 1, 'in_h': 31, 'in_w': 23}\n"
     ]
    },
    {
     "name": "stderr",
     "output_type": "stream",
     "text": [
      "\r",
      " 35%|██████████████▋                           | 70/200 [14:42<05:03,  2.33s/it]"
     ]
    },
    {
     "name": "stdout",
     "output_type": "stream",
     "text": [
      "Result: True\n",
      "\n",
      "\n",
      "Test: 70\n",
      "Params: {'in_channels': 2, 'out_channels': 16, 'kernel_size': (8, 6), 'padding': (3, 9), 'stride': (2, 5), 'dilation': (1, 5), 'groups': 1, 'in_batches': 5, 'in_h': 31, 'in_w': 24}\n"
     ]
    },
    {
     "name": "stderr",
     "output_type": "stream",
     "text": [
      "\r",
      " 36%|██████████████▉                           | 71/200 [14:52<09:44,  4.53s/it]"
     ]
    },
    {
     "name": "stdout",
     "output_type": "stream",
     "text": [
      "Result: True\n",
      "\n",
      "\n",
      "Test: 71\n",
      "Params: {'in_channels': 17, 'out_channels': 16, 'kernel_size': (3, 13), 'padding': (10, 5), 'stride': (2, 5), 'dilation': (10, 1), 'groups': 1, 'in_batches': 2, 'in_h': 29, 'in_w': 29}\n"
     ]
    },
    {
     "name": "stderr",
     "output_type": "stream",
     "text": [
      "\r",
      " 36%|███████████████                           | 72/200 [16:01<48:04, 22.53s/it]"
     ]
    },
    {
     "name": "stdout",
     "output_type": "stream",
     "text": [
      "Result: True\n",
      "\n",
      "\n",
      "Test: 72\n",
      "Params: {'in_channels': 11, 'out_channels': 7, 'kernel_size': (10, 19), 'padding': (3, 6), 'stride': (1, 5), 'dilation': (1, 1), 'groups': 1, 'in_batches': 5, 'in_h': 34, 'in_w': 22}\n"
     ]
    },
    {
     "name": "stderr",
     "output_type": "stream",
     "text": [
      "\r",
      " 36%|██████████████▌                         | 73/200 [16:48<1:02:17, 29.43s/it]"
     ]
    },
    {
     "name": "stdout",
     "output_type": "stream",
     "text": [
      "Result: True\n",
      "\n",
      "\n",
      "Test: 73\n",
      "Params: {'in_channels': 20, 'out_channels': 11, 'kernel_size': (2, 1), 'padding': (9, 4), 'stride': (3, 3), 'dilation': (4, 5), 'groups': 1, 'in_batches': 5, 'in_h': 10, 'in_w': 18}\n"
     ]
    },
    {
     "name": "stderr",
     "output_type": "stream",
     "text": [
      "\r",
      " 37%|███████████████▌                          | 74/200 [16:50<45:17, 21.56s/it]"
     ]
    },
    {
     "name": "stdout",
     "output_type": "stream",
     "text": [
      "Result: True\n",
      "\n",
      "\n",
      "Test: 74\n",
      "Params: {'in_channels': 10, 'out_channels': 9, 'kernel_size': (7, 3), 'padding': (5, 7), 'stride': (3, 4), 'dilation': (1, 8), 'groups': 1, 'in_batches': 5, 'in_h': 21, 'in_w': 9}\n"
     ]
    },
    {
     "name": "stderr",
     "output_type": "stream",
     "text": [
      "\r",
      " 38%|███████████████▊                          | 75/200 [16:55<34:53, 16.75s/it]"
     ]
    },
    {
     "name": "stdout",
     "output_type": "stream",
     "text": [
      "Result: True\n",
      "\n",
      "\n",
      "Test: 75\n",
      "Params: {'in_channels': 2, 'out_channels': 2, 'kernel_size': (2, 2), 'padding': (2, 1), 'stride': (1, 1), 'dilation': (1, 1), 'groups': 1, 'in_batches': 2, 'in_h': 18, 'in_w': 11}\n",
      "Result: True\n",
      "\n",
      "\n",
      "Test: 76\n",
      "Params: {'in_channels': 4, 'out_channels': 19, 'kernel_size': (1, 9), 'padding': (5, 7), 'stride': (2, 2), 'dilation': (3, 3), 'groups': 1, 'in_batches': 2, 'in_h': 33, 'in_w': 32}\n"
     ]
    },
    {
     "name": "stderr",
     "output_type": "stream",
     "text": [
      " 39%|████████████████▍                         | 78/200 [17:00<15:46,  7.75s/it]"
     ]
    },
    {
     "name": "stdout",
     "output_type": "stream",
     "text": [
      "Result: True\n",
      "\n",
      "\n",
      "Test: 77\n",
      "Params: {'in_channels': 8, 'out_channels': 4, 'kernel_size': (5, 1), 'padding': (10, 2), 'stride': (5, 5), 'dilation': (4, 5), 'groups': 1, 'in_batches': 3, 'in_h': 21, 'in_w': 5}\n",
      "Result: True\n",
      "\n",
      "\n",
      "Test: 78\n",
      "Params: {'in_channels': 2, 'out_channels': 16, 'kernel_size': (16, 2), 'padding': (3, 5), 'stride': (5, 5), 'dilation': (2, 2), 'groups': 1, 'in_batches': 1, 'in_h': 29, 'in_w': 9}\n",
      "Result: True\n",
      "\n",
      "\n",
      "Test: 79\n",
      "Params: {'in_channels': 5, 'out_channels': 10, 'kernel_size': (19, 1), 'padding': (4, 4), 'stride': (3, 2), 'dilation': (1, 1), 'groups': 5, 'in_batches': 3, 'in_h': 14, 'in_w': 19}\n"
     ]
    },
    {
     "name": "stderr",
     "output_type": "stream",
     "text": [
      "\r",
      " 40%|████████████████▊                         | 80/200 [17:00<09:11,  4.60s/it]"
     ]
    },
    {
     "name": "stdout",
     "output_type": "stream",
     "text": [
      "Result: True\n",
      "\n",
      "\n",
      "Test: 80\n",
      "Params: {'in_channels': 2, 'out_channels': 19, 'kernel_size': (8, 3), 'padding': (7, 6), 'stride': (3, 2), 'dilation': (5, 1), 'groups': 1, 'in_batches': 5, 'in_h': 32, 'in_w': 26}\n"
     ]
    },
    {
     "name": "stderr",
     "output_type": "stream",
     "text": [
      "\r",
      " 40%|█████████████████                         | 81/200 [17:08<10:31,  5.30s/it]"
     ]
    },
    {
     "name": "stdout",
     "output_type": "stream",
     "text": [
      "Result: True\n",
      "\n",
      "\n",
      "Test: 81\n",
      "Params: {'in_channels': 1, 'out_channels': 15, 'kernel_size': (7, 6), 'padding': (6, 7), 'stride': (2, 5), 'dilation': (1, 4), 'groups': 1, 'in_batches': 5, 'in_h': 13, 'in_w': 26}\n"
     ]
    },
    {
     "name": "stderr",
     "output_type": "stream",
     "text": [
      "\r",
      " 41%|█████████████████▏                        | 82/200 [17:10<08:59,  4.57s/it]"
     ]
    },
    {
     "name": "stdout",
     "output_type": "stream",
     "text": [
      "Result: True\n",
      "\n",
      "\n",
      "Test: 82\n",
      "Params: {'in_channels': 10, 'out_channels': 2, 'kernel_size': (3, 20), 'padding': (1, 7), 'stride': (4, 2), 'dilation': (1, 1), 'groups': 2, 'in_batches': 1, 'in_h': 5, 'in_w': 27}\n",
      "Result: True\n",
      "\n",
      "\n",
      "Test: 83\n",
      "Params: {'in_channels': 2, 'out_channels': 4, 'kernel_size': (8, 4), 'padding': (3, 8), 'stride': (5, 1), 'dilation': (3, 5), 'groups': 1, 'in_batches': 5, 'in_h': 26, 'in_w': 19}\n"
     ]
    },
    {
     "name": "stderr",
     "output_type": "stream",
     "text": [
      "\r",
      " 42%|█████████████████▋                        | 84/200 [17:15<06:58,  3.61s/it]"
     ]
    },
    {
     "name": "stdout",
     "output_type": "stream",
     "text": [
      "Result: True\n",
      "\n",
      "\n",
      "Test: 84\n",
      "Params: {'in_channels': 1, 'out_channels': 1, 'kernel_size': (13, 14), 'padding': (10, 2), 'stride': (2, 2), 'dilation': (2, 1), 'groups': 1, 'in_batches': 1, 'in_h': 33, 'in_w': 28}\n"
     ]
    },
    {
     "name": "stderr",
     "output_type": "stream",
     "text": [
      "\r",
      " 42%|█████████████████▊                        | 85/200 [17:15<05:28,  2.86s/it]"
     ]
    },
    {
     "name": "stdout",
     "output_type": "stream",
     "text": [
      "Result: True\n",
      "\n",
      "\n",
      "Test: 85\n",
      "Params: {'in_channels': 1, 'out_channels': 3, 'kernel_size': (5, 7), 'padding': (5, 3), 'stride': (1, 4), 'dilation': (4, 5), 'groups': 1, 'in_batches': 2, 'in_h': 34, 'in_w': 31}\n"
     ]
    },
    {
     "name": "stderr",
     "output_type": "stream",
     "text": [
      "\r",
      " 43%|██████████████████                        | 86/200 [17:16<04:31,  2.38s/it]"
     ]
    },
    {
     "name": "stdout",
     "output_type": "stream",
     "text": [
      "Result: True\n",
      "\n",
      "\n",
      "Test: 86\n",
      "Params: {'in_channels': 1, 'out_channels': 11, 'kernel_size': (13, 7), 'padding': (2, 6), 'stride': (3, 3), 'dilation': (1, 5), 'groups': 1, 'in_batches': 4, 'in_h': 10, 'in_w': 31}\n"
     ]
    },
    {
     "name": "stderr",
     "output_type": "stream",
     "text": [
      " 44%|██████████████████▍                       | 88/200 [17:17<02:38,  1.42s/it]"
     ]
    },
    {
     "name": "stdout",
     "output_type": "stream",
     "text": [
      "Result: True\n",
      "\n",
      "\n",
      "Test: 87\n",
      "Params: {'in_channels': 1, 'out_channels': 3, 'kernel_size': (2, 3), 'padding': (1, 7), 'stride': (2, 2), 'dilation': (1, 9), 'groups': 1, 'in_batches': 3, 'in_h': 21, 'in_w': 18}\n",
      "Result: True\n",
      "\n",
      "\n",
      "Test: 88\n",
      "Params: {'in_channels': 12, 'out_channels': 15, 'kernel_size': (6, 10), 'padding': (3, 9), 'stride': (4, 5), 'dilation': (2, 1), 'groups': 1, 'in_batches': 4, 'in_h': 32, 'in_w': 21}\n"
     ]
    },
    {
     "name": "stderr",
     "output_type": "stream",
     "text": [
      "\r",
      " 44%|██████████████████▋                       | 89/200 [17:34<10:43,  5.79s/it]"
     ]
    },
    {
     "name": "stdout",
     "output_type": "stream",
     "text": [
      "Result: True\n",
      "\n",
      "\n",
      "Test: 89\n",
      "Params: {'in_channels': 3, 'out_channels': 4, 'kernel_size': (4, 4), 'padding': (8, 1), 'stride': (4, 5), 'dilation': (4, 5), 'groups': 1, 'in_batches': 3, 'in_h': 29, 'in_w': 16}\n"
     ]
    },
    {
     "name": "stderr",
     "output_type": "stream",
     "text": [
      "\r",
      " 45%|██████████████████▉                       | 90/200 [17:34<07:47,  4.25s/it]"
     ]
    },
    {
     "name": "stdout",
     "output_type": "stream",
     "text": [
      "Result: True\n",
      "\n",
      "\n",
      "Test: 90\n",
      "Params: {'in_channels': 11, 'out_channels': 12, 'kernel_size': (2, 12), 'padding': (8, 9), 'stride': (1, 4), 'dilation': (1, 1), 'groups': 1, 'in_batches': 1, 'in_h': 32, 'in_w': 16}\n"
     ]
    },
    {
     "name": "stderr",
     "output_type": "stream",
     "text": [
      " 46%|███████████████████▎                      | 92/200 [17:39<05:37,  3.13s/it]"
     ]
    },
    {
     "name": "stdout",
     "output_type": "stream",
     "text": [
      "Result: True\n",
      "\n",
      "\n",
      "Test: 91\n",
      "Params: {'in_channels': 3, 'out_channels': 15, 'kernel_size': (3, 1), 'padding': (4, 3), 'stride': (5, 3), 'dilation': (2, 5), 'groups': 3, 'in_batches': 5, 'in_h': 19, 'in_w': 26}\n",
      "Result: True\n",
      "\n",
      "\n",
      "Test: 92\n",
      "Params: {'in_channels': 8, 'out_channels': 13, 'kernel_size': (3, 13), 'padding': (4, 8), 'stride': (2, 5), 'dilation': (4, 1), 'groups': 1, 'in_batches': 3, 'in_h': 22, 'in_w': 8}\n"
     ]
    },
    {
     "name": "stderr",
     "output_type": "stream",
     "text": [
      "\r",
      " 46%|███████████████████▌                      | 93/200 [17:45<07:10,  4.02s/it]"
     ]
    },
    {
     "name": "stdout",
     "output_type": "stream",
     "text": [
      "Result: True\n",
      "\n",
      "\n",
      "Test: 93\n",
      "Params: {'in_channels': 4, 'out_channels': 8, 'kernel_size': (14, 2), 'padding': (8, 3), 'stride': (1, 3), 'dilation': (1, 8), 'groups': 4, 'in_batches': 1, 'in_h': 33, 'in_w': 6}\n"
     ]
    },
    {
     "name": "stderr",
     "output_type": "stream",
     "text": [
      "\r",
      " 47%|███████████████████▋                      | 94/200 [17:45<05:12,  2.95s/it]"
     ]
    },
    {
     "name": "stdout",
     "output_type": "stream",
     "text": [
      "Result: True\n",
      "\n",
      "\n",
      "Test: 94\n",
      "Params: {'in_channels': 14, 'out_channels': 14, 'kernel_size': (11, 13), 'padding': (4, 9), 'stride': (5, 1), 'dilation': (2, 1), 'groups': 1, 'in_batches': 4, 'in_h': 32, 'in_w': 21}\n"
     ]
    },
    {
     "name": "stderr",
     "output_type": "stream",
     "text": [
      "\r",
      " 48%|███████████████████                     | 95/200 [19:45<1:05:48, 37.60s/it]"
     ]
    },
    {
     "name": "stdout",
     "output_type": "stream",
     "text": [
      "Result: True\n",
      "\n",
      "\n",
      "Test: 95\n",
      "Params: {'in_channels': 7, 'out_channels': 20, 'kernel_size': (6, 3), 'padding': (9, 4), 'stride': (3, 2), 'dilation': (5, 9), 'groups': 1, 'in_batches': 1, 'in_h': 27, 'in_w': 15}\n"
     ]
    },
    {
     "name": "stderr",
     "output_type": "stream",
     "text": [
      "\r",
      " 48%|████████████████████▏                     | 96/200 [19:52<49:35, 28.61s/it]"
     ]
    },
    {
     "name": "stdout",
     "output_type": "stream",
     "text": [
      "Result: True\n",
      "\n",
      "\n",
      "Test: 96\n",
      "Params: {'in_channels': 4, 'out_channels': 4, 'kernel_size': (1, 9), 'padding': (3, 9), 'stride': (4, 2), 'dilation': (4, 4), 'groups': 2, 'in_batches': 4, 'in_h': 5, 'in_w': 22}\n",
      "Result: True\n",
      "\n",
      "\n",
      "Test: 97\n",
      "Params: {'in_channels': 2, 'out_channels': 15, 'kernel_size': (3, 1), 'padding': (4, 9), 'stride': (2, 1), 'dilation': (10, 10), 'groups': 1, 'in_batches': 4, 'in_h': 30, 'in_w': 16}\n"
     ]
    },
    {
     "name": "stderr",
     "output_type": "stream",
     "text": [
      "\r",
      " 49%|████████████████████▌                     | 98/200 [19:57<28:02, 16.50s/it]"
     ]
    },
    {
     "name": "stdout",
     "output_type": "stream",
     "text": [
      "Result: True\n",
      "\n",
      "\n",
      "Test: 98\n",
      "Params: {'in_channels': 9, 'out_channels': 15, 'kernel_size': (7, 2), 'padding': (1, 4), 'stride': (5, 5), 'dilation': (5, 7), 'groups': 1, 'in_batches': 2, 'in_h': 29, 'in_w': 5}\n"
     ]
    },
    {
     "name": "stderr",
     "output_type": "stream",
     "text": [
      "\r",
      " 50%|████████████████████▊                     | 99/200 [19:58<21:12, 12.60s/it]"
     ]
    },
    {
     "name": "stdout",
     "output_type": "stream",
     "text": [
      "Result: True\n",
      "\n",
      "\n",
      "Test: 99\n",
      "Params: {'in_channels': 1, 'out_channels': 19, 'kernel_size': (4, 5), 'padding': (1, 6), 'stride': (5, 3), 'dilation': (4, 7), 'groups': 1, 'in_batches': 5, 'in_h': 25, 'in_w': 22}\n"
     ]
    },
    {
     "name": "stderr",
     "output_type": "stream",
     "text": [
      "\r",
      " 50%|████████████████████▌                    | 100/200 [19:59<16:01,  9.61s/it]"
     ]
    },
    {
     "name": "stdout",
     "output_type": "stream",
     "text": [
      "Result: True\n",
      "\n",
      "\n",
      "Test: 100\n",
      "Params: {'in_channels': 14, 'out_channels': 2, 'kernel_size': (1, 4), 'padding': (8, 3), 'stride': (2, 5), 'dilation': (7, 6), 'groups': 2, 'in_batches': 5, 'in_h': 23, 'in_w': 32}\n"
     ]
    },
    {
     "name": "stderr",
     "output_type": "stream",
     "text": [
      "\r",
      " 50%|████████████████████▋                    | 101/200 [19:59<11:48,  7.16s/it]"
     ]
    },
    {
     "name": "stdout",
     "output_type": "stream",
     "text": [
      "Result: True\n",
      "\n",
      "\n",
      "Test: 101\n",
      "Params: {'in_channels': 15, 'out_channels': 15, 'kernel_size': (8, 14), 'padding': (4, 5), 'stride': (1, 3), 'dilation': (4, 1), 'groups': 1, 'in_batches': 3, 'in_h': 27, 'in_w': 33}\n"
     ]
    },
    {
     "name": "stderr",
     "output_type": "stream",
     "text": [
      "\r",
      " 51%|████████████████████▉                    | 102/200 [21:37<53:06, 32.52s/it]"
     ]
    },
    {
     "name": "stdout",
     "output_type": "stream",
     "text": [
      "Result: True\n",
      "\n",
      "\n",
      "Test: 102\n",
      "Params: {'in_channels': 8, 'out_channels': 8, 'kernel_size': (5, 4), 'padding': (8, 5), 'stride': (3, 4), 'dilation': (4, 2), 'groups': 8, 'in_batches': 5, 'in_h': 23, 'in_w': 24}\n"
     ]
    },
    {
     "name": "stderr",
     "output_type": "stream",
     "text": [
      "\r",
      " 52%|█████████████████████                    | 103/200 [21:39<38:13, 23.65s/it]"
     ]
    },
    {
     "name": "stdout",
     "output_type": "stream",
     "text": [
      "Result: True\n",
      "\n",
      "\n",
      "Test: 103\n",
      "Params: {'in_channels': 2, 'out_channels': 6, 'kernel_size': (4, 3), 'padding': (10, 2), 'stride': (5, 2), 'dilation': (9, 2), 'groups': 1, 'in_batches': 3, 'in_h': 18, 'in_w': 24}\n"
     ]
    },
    {
     "name": "stderr",
     "output_type": "stream",
     "text": [
      "\r",
      " 52%|█████████████████████▎                   | 104/200 [21:40<27:19, 17.07s/it]"
     ]
    },
    {
     "name": "stdout",
     "output_type": "stream",
     "text": [
      "Result: True\n",
      "\n",
      "\n",
      "Test: 104\n",
      "Params: {'in_channels': 9, 'out_channels': 6, 'kernel_size': (1, 9), 'padding': (8, 2), 'stride': (5, 1), 'dilation': (10, 3), 'groups': 1, 'in_batches': 3, 'in_h': 12, 'in_w': 34}\n"
     ]
    },
    {
     "name": "stderr",
     "output_type": "stream",
     "text": [
      "\r",
      " 52%|█████████████████████▌                   | 105/200 [21:41<19:56, 12.59s/it]"
     ]
    },
    {
     "name": "stdout",
     "output_type": "stream",
     "text": [
      "Result: True\n",
      "\n",
      "\n",
      "Test: 105\n",
      "Params: {'in_channels': 4, 'out_channels': 15, 'kernel_size': (2, 6), 'padding': (7, 9), 'stride': (4, 4), 'dilation': (6, 4), 'groups': 1, 'in_batches': 5, 'in_h': 33, 'in_w': 22}\n"
     ]
    },
    {
     "name": "stderr",
     "output_type": "stream",
     "text": [
      "\r",
      " 53%|█████████████████████▋                   | 106/200 [21:54<19:39, 12.55s/it]"
     ]
    },
    {
     "name": "stdout",
     "output_type": "stream",
     "text": [
      "Result: True\n",
      "\n",
      "\n",
      "Test: 106\n",
      "Params: {'in_channels': 3, 'out_channels': 9, 'kernel_size': (2, 4), 'padding': (9, 9), 'stride': (3, 4), 'dilation': (9, 4), 'groups': 1, 'in_batches': 1, 'in_h': 17, 'in_w': 27}\n"
     ]
    },
    {
     "name": "stderr",
     "output_type": "stream",
     "text": [
      "\r",
      " 54%|█████████████████████▉                   | 107/200 [21:55<14:22,  9.28s/it]"
     ]
    },
    {
     "name": "stdout",
     "output_type": "stream",
     "text": [
      "Result: True\n",
      "\n",
      "\n",
      "Test: 107\n",
      "Params: {'in_channels': 14, 'out_channels': 6, 'kernel_size': (7, 2), 'padding': (7, 1), 'stride': (2, 5), 'dilation': (2, 3), 'groups': 2, 'in_batches': 2, 'in_h': 33, 'in_w': 22}\n"
     ]
    },
    {
     "name": "stderr",
     "output_type": "stream",
     "text": [
      " 55%|██████████████████████▎                  | 109/200 [21:58<07:41,  5.07s/it]"
     ]
    },
    {
     "name": "stdout",
     "output_type": "stream",
     "text": [
      "Result: True\n",
      "\n",
      "\n",
      "Test: 108\n",
      "Params: {'in_channels': 2, 'out_channels': 18, 'kernel_size': (8, 14), 'padding': (4, 4), 'stride': (1, 4), 'dilation': (2, 2), 'groups': 2, 'in_batches': 5, 'in_h': 7, 'in_w': 21}\n",
      "Result: True\n",
      "\n",
      "\n",
      "Test: 109\n",
      "Params: {'in_channels': 1, 'out_channels': 1, 'kernel_size': (1, 12), 'padding': (7, 4), 'stride': (5, 3), 'dilation': (7, 2), 'groups': 1, 'in_batches': 1, 'in_h': 16, 'in_w': 22}\n"
     ]
    },
    {
     "name": "stderr",
     "output_type": "stream",
     "text": [
      "\r",
      " 56%|██████████████████████▊                  | 111/200 [21:58<04:07,  2.78s/it]"
     ]
    },
    {
     "name": "stdout",
     "output_type": "stream",
     "text": [
      "Result: True\n",
      "\n",
      "\n",
      "Test: 110\n",
      "Params: {'in_channels': 2, 'out_channels': 19, 'kernel_size': (1, 14), 'padding': (1, 2), 'stride': (2, 4), 'dilation': (5, 1), 'groups': 1, 'in_batches': 2, 'in_h': 27, 'in_w': 14}\n",
      "Result: True\n",
      "\n",
      "\n",
      "Test: 111\n",
      "Params: {'in_channels': 1, 'out_channels': 10, 'kernel_size': (4, 8), 'padding': (10, 1), 'stride': (1, 1), 'dilation': (5, 3), 'groups': 1, 'in_batches': 1, 'in_h': 18, 'in_w': 20}\n"
     ]
    },
    {
     "name": "stderr",
     "output_type": "stream",
     "text": [
      " 56%|███████████████████████▏                 | 113/200 [21:58<02:24,  1.66s/it]"
     ]
    },
    {
     "name": "stdout",
     "output_type": "stream",
     "text": [
      "Result: True\n",
      "\n",
      "\n",
      "Test: 112\n",
      "Params: {'in_channels': 1, 'out_channels': 10, 'kernel_size': (7, 3), 'padding': (3, 10), 'stride': (2, 5), 'dilation': (6, 1), 'groups': 1, 'in_batches': 2, 'in_h': 34, 'in_w': 5}\n",
      "Result: True\n",
      "\n",
      "\n",
      "Test: 113\n",
      "Params: {'in_channels': 1, 'out_channels': 5, 'kernel_size': (3, 2), 'padding': (3, 5), 'stride': (4, 4), 'dilation': (7, 9), 'groups': 1, 'in_batches': 5, 'in_h': 17, 'in_w': 28}\n"
     ]
    },
    {
     "name": "stderr",
     "output_type": "stream",
     "text": [
      " 57%|███████████████████████▌                 | 115/200 [21:59<01:25,  1.00s/it]"
     ]
    },
    {
     "name": "stdout",
     "output_type": "stream",
     "text": [
      "Result: True\n",
      "\n",
      "\n",
      "Test: 114\n",
      "Params: {'in_channels': 1, 'out_channels': 19, 'kernel_size': (9, 15), 'padding': (7, 2), 'stride': (4, 2), 'dilation': (2, 1), 'groups': 1, 'in_batches': 1, 'in_h': 16, 'in_w': 11}\n",
      "Result: True\n",
      "\n",
      "\n",
      "Test: 115\n",
      "Params: {'in_channels': 1, 'out_channels': 1, 'kernel_size': (6, 5), 'padding': (6, 1), 'stride': (2, 1), 'dilation': (3, 1), 'groups': 1, 'in_batches': 5, 'in_h': 23, 'in_w': 33}\n"
     ]
    },
    {
     "name": "stderr",
     "output_type": "stream",
     "text": [
      "\r",
      " 58%|███████████████████████▊                 | 116/200 [22:00<01:15,  1.11it/s]"
     ]
    },
    {
     "name": "stdout",
     "output_type": "stream",
     "text": [
      "Result: True\n",
      "\n",
      "\n",
      "Test: 116\n",
      "Params: {'in_channels': 1, 'out_channels': 19, 'kernel_size': (8, 10), 'padding': (6, 9), 'stride': (3, 3), 'dilation': (3, 4), 'groups': 1, 'in_batches': 5, 'in_h': 10, 'in_w': 33}\n"
     ]
    },
    {
     "name": "stderr",
     "output_type": "stream",
     "text": [
      "\r",
      " 58%|███████████████████████▉                 | 117/200 [22:02<01:41,  1.22s/it]"
     ]
    },
    {
     "name": "stdout",
     "output_type": "stream",
     "text": [
      "Result: True\n",
      "\n",
      "\n",
      "Test: 117\n",
      "Params: {'in_channels': 8, 'out_channels': 5, 'kernel_size': (19, 9), 'padding': (6, 9), 'stride': (2, 2), 'dilation': (2, 2), 'groups': 1, 'in_batches': 3, 'in_h': 33, 'in_w': 11}\n"
     ]
    },
    {
     "name": "stderr",
     "output_type": "stream",
     "text": [
      "\r",
      " 59%|████████████████████████▏                | 118/200 [22:15<06:34,  4.81s/it]"
     ]
    },
    {
     "name": "stdout",
     "output_type": "stream",
     "text": [
      "Result: True\n",
      "\n",
      "\n",
      "Test: 118\n",
      "Params: {'in_channels': 6, 'out_channels': 10, 'kernel_size': (12, 3), 'padding': (4, 5), 'stride': (5, 4), 'dilation': (1, 3), 'groups': 1, 'in_batches': 2, 'in_h': 17, 'in_w': 19}\n"
     ]
    },
    {
     "name": "stderr",
     "output_type": "stream",
     "text": [
      "\r",
      " 60%|████████████████████████▍                | 119/200 [22:16<04:57,  3.68s/it]"
     ]
    },
    {
     "name": "stdout",
     "output_type": "stream",
     "text": [
      "Result: True\n",
      "\n",
      "\n",
      "Test: 119\n",
      "Params: {'in_channels': 8, 'out_channels': 16, 'kernel_size': (14, 19), 'padding': (4, 10), 'stride': (5, 5), 'dilation': (1, 2), 'groups': 2, 'in_batches': 3, 'in_h': 17, 'in_w': 18}\n"
     ]
    },
    {
     "name": "stderr",
     "output_type": "stream",
     "text": [
      "\r",
      " 60%|████████████████████████▌                | 120/200 [22:18<04:04,  3.05s/it]"
     ]
    },
    {
     "name": "stdout",
     "output_type": "stream",
     "text": [
      "Result: True\n",
      "\n",
      "\n",
      "Test: 120\n",
      "Params: {'in_channels': 8, 'out_channels': 20, 'kernel_size': (3, 10), 'padding': (9, 5), 'stride': (4, 2), 'dilation': (10, 2), 'groups': 2, 'in_batches': 5, 'in_h': 18, 'in_w': 25}\n"
     ]
    },
    {
     "name": "stderr",
     "output_type": "stream",
     "text": [
      "\r",
      " 60%|████████████████████████▊                | 121/200 [22:47<14:23, 10.94s/it]"
     ]
    },
    {
     "name": "stdout",
     "output_type": "stream",
     "text": [
      "Result: True\n",
      "\n",
      "\n",
      "Test: 121\n",
      "Params: {'in_channels': 2, 'out_channels': 20, 'kernel_size': (7, 7), 'padding': (4, 6), 'stride': (2, 2), 'dilation': (2, 5), 'groups': 1, 'in_batches': 2, 'in_h': 8, 'in_w': 28}\n"
     ]
    },
    {
     "name": "stderr",
     "output_type": "stream",
     "text": [
      "\r",
      " 61%|█████████████████████████                | 122/200 [22:49<10:37,  8.17s/it]"
     ]
    },
    {
     "name": "stdout",
     "output_type": "stream",
     "text": [
      "Result: True\n",
      "\n",
      "\n",
      "Test: 122\n",
      "Params: {'in_channels': 2, 'out_channels': 3, 'kernel_size': (5, 1), 'padding': (10, 8), 'stride': (4, 5), 'dilation': (1, 5), 'groups': 1, 'in_batches': 4, 'in_h': 19, 'in_w': 33}\n",
      "Result: True\n",
      "\n",
      "\n",
      "Test: 123\n",
      "Params: {'in_channels': 2, 'out_channels': 10, 'kernel_size': (9, 1), 'padding': (4, 2), 'stride': (4, 2), 'dilation': (4, 7), 'groups': 1, 'in_batches': 4, 'in_h': 25, 'in_w': 19}\n"
     ]
    },
    {
     "name": "stderr",
     "output_type": "stream",
     "text": [
      " 62%|█████████████████████████▋               | 125/200 [22:49<04:15,  3.41s/it]"
     ]
    },
    {
     "name": "stdout",
     "output_type": "stream",
     "text": [
      "Result: True\n",
      "\n",
      "\n",
      "Test: 124\n",
      "Params: {'in_channels': 4, 'out_channels': 13, 'kernel_size': (20, 3), 'padding': (10, 3), 'stride': (2, 1), 'dilation': (2, 7), 'groups': 1, 'in_batches': 1, 'in_h': 20, 'in_w': 9}\n",
      "Result: True\n",
      "\n",
      "\n",
      "Test: 125\n",
      "Params: {'in_channels': 14, 'out_channels': 2, 'kernel_size': (6, 1), 'padding': (6, 10), 'stride': (3, 3), 'dilation': (2, 10), 'groups': 2, 'in_batches': 4, 'in_h': 25, 'in_w': 18}\n"
     ]
    },
    {
     "name": "stderr",
     "output_type": "stream",
     "text": [
      "\r",
      " 63%|█████████████████████████▊               | 126/200 [22:50<03:14,  2.63s/it]"
     ]
    },
    {
     "name": "stdout",
     "output_type": "stream",
     "text": [
      "Result: True\n",
      "\n",
      "\n",
      "Test: 126\n",
      "Params: {'in_channels': 5, 'out_channels': 5, 'kernel_size': (15, 10), 'padding': (9, 3), 'stride': (3, 2), 'dilation': (2, 2), 'groups': 1, 'in_batches': 4, 'in_h': 20, 'in_w': 15}\n"
     ]
    },
    {
     "name": "stderr",
     "output_type": "stream",
     "text": [
      "\r",
      " 64%|██████████████████████████               | 127/200 [22:52<03:06,  2.55s/it]"
     ]
    },
    {
     "name": "stdout",
     "output_type": "stream",
     "text": [
      "Result: True\n",
      "\n",
      "\n",
      "Test: 127\n",
      "Params: {'in_channels': 1, 'out_channels': 4, 'kernel_size': (18, 4), 'padding': (5, 4), 'stride': (5, 3), 'dilation': (1, 7), 'groups': 1, 'in_batches': 3, 'in_h': 18, 'in_w': 23}\n"
     ]
    },
    {
     "name": "stderr",
     "output_type": "stream",
     "text": [
      "\r",
      " 64%|██████████████████████████▏              | 128/200 [22:52<02:18,  1.92s/it]"
     ]
    },
    {
     "name": "stdout",
     "output_type": "stream",
     "text": [
      "Result: True\n",
      "\n",
      "\n",
      "Test: 128\n",
      "Params: {'in_channels': 4, 'out_channels': 12, 'kernel_size': (20, 1), 'padding': (6, 1), 'stride': (3, 3), 'dilation': (1, 7), 'groups': 4, 'in_batches': 5, 'in_h': 21, 'in_w': 22}\n"
     ]
    },
    {
     "name": "stderr",
     "output_type": "stream",
     "text": [
      "\r",
      " 64%|██████████████████████████▍              | 129/200 [22:53<01:43,  1.46s/it]"
     ]
    },
    {
     "name": "stdout",
     "output_type": "stream",
     "text": [
      "Result: True\n",
      "\n",
      "\n",
      "Test: 129\n",
      "Params: {'in_channels': 12, 'out_channels': 17, 'kernel_size': (8, 8), 'padding': (6, 6), 'stride': (1, 3), 'dilation': (2, 4), 'groups': 1, 'in_batches': 4, 'in_h': 31, 'in_w': 22}\n"
     ]
    },
    {
     "name": "stderr",
     "output_type": "stream",
     "text": [
      "\r",
      " 65%|██████████████████████████▋              | 130/200 [24:37<36:23, 31.19s/it]"
     ]
    },
    {
     "name": "stdout",
     "output_type": "stream",
     "text": [
      "Result: True\n",
      "\n",
      "\n",
      "Test: 130\n",
      "Params: {'in_channels': 4, 'out_channels': 3, 'kernel_size': (2, 13), 'padding': (4, 6), 'stride': (2, 3), 'dilation': (8, 2), 'groups': 1, 'in_batches': 3, 'in_h': 21, 'in_w': 34}\n"
     ]
    },
    {
     "name": "stderr",
     "output_type": "stream",
     "text": [
      "\r",
      " 66%|██████████████████████████▊              | 131/200 [24:40<26:35, 23.13s/it]"
     ]
    },
    {
     "name": "stdout",
     "output_type": "stream",
     "text": [
      "Result: True\n",
      "\n",
      "\n",
      "Test: 131\n",
      "Params: {'in_channels': 5, 'out_channels': 4, 'kernel_size': (7, 8), 'padding': (10, 9), 'stride': (5, 1), 'dilation': (3, 1), 'groups': 1, 'in_batches': 3, 'in_h': 13, 'in_w': 25}\n"
     ]
    },
    {
     "name": "stderr",
     "output_type": "stream",
     "text": [
      "\r",
      " 66%|███████████████████████████              | 132/200 [24:46<20:12, 17.83s/it]"
     ]
    },
    {
     "name": "stdout",
     "output_type": "stream",
     "text": [
      "Result: True\n",
      "\n",
      "\n",
      "Test: 132\n",
      "Params: {'in_channels': 1, 'out_channels': 1, 'kernel_size': (19, 8), 'padding': (8, 4), 'stride': (5, 5), 'dilation': (1, 1), 'groups': 1, 'in_batches': 3, 'in_h': 20, 'in_w': 26}\n",
      "Result: True\n",
      "\n",
      "\n",
      "Test: 133\n",
      "Params: {'in_channels': 8, 'out_channels': 14, 'kernel_size': (2, 4), 'padding': (2, 3), 'stride': (2, 2), 'dilation': (3, 3), 'groups': 2, 'in_batches': 1, 'in_h': 22, 'in_w': 30}\n"
     ]
    },
    {
     "name": "stderr",
     "output_type": "stream",
     "text": [
      "\r",
      " 67%|███████████████████████████▍             | 134/200 [24:48<11:09, 10.15s/it]"
     ]
    },
    {
     "name": "stdout",
     "output_type": "stream",
     "text": [
      "Result: True\n",
      "\n",
      "\n",
      "Test: 134\n",
      "Params: {'in_channels': 5, 'out_channels': 16, 'kernel_size': (4, 5), 'padding': (1, 7), 'stride': (4, 5), 'dilation': (6, 1), 'groups': 1, 'in_batches': 5, 'in_h': 26, 'in_w': 25}\n"
     ]
    },
    {
     "name": "stderr",
     "output_type": "stream",
     "text": [
      "\r",
      " 68%|███████████████████████████▋             | 135/200 [24:53<09:37,  8.88s/it]"
     ]
    },
    {
     "name": "stdout",
     "output_type": "stream",
     "text": [
      "Result: True\n",
      "\n",
      "\n",
      "Test: 135\n",
      "Params: {'in_channels': 12, 'out_channels': 4, 'kernel_size': (1, 8), 'padding': (9, 7), 'stride': (1, 2), 'dilation': (9, 6), 'groups': 2, 'in_batches': 5, 'in_h': 24, 'in_w': 31}\n"
     ]
    },
    {
     "name": "stderr",
     "output_type": "stream",
     "text": [
      "\r",
      " 68%|███████████████████████████▉             | 136/200 [24:55<07:38,  7.16s/it]"
     ]
    },
    {
     "name": "stdout",
     "output_type": "stream",
     "text": [
      "Result: True\n",
      "\n",
      "\n",
      "Test: 136\n",
      "Params: {'in_channels': 1, 'out_channels': 5, 'kernel_size': (5, 18), 'padding': (8, 4), 'stride': (5, 1), 'dilation': (5, 2), 'groups': 1, 'in_batches': 5, 'in_h': 9, 'in_w': 32}\n"
     ]
    },
    {
     "name": "stderr",
     "output_type": "stream",
     "text": [
      "\r",
      " 68%|████████████████████████████             | 137/200 [24:56<05:38,  5.38s/it]"
     ]
    },
    {
     "name": "stdout",
     "output_type": "stream",
     "text": [
      "Result: True\n",
      "\n",
      "\n",
      "Test: 137\n",
      "Params: {'in_channels': 4, 'out_channels': 19, 'kernel_size': (4, 3), 'padding': (7, 4), 'stride': (3, 4), 'dilation': (4, 3), 'groups': 1, 'in_batches': 3, 'in_h': 22, 'in_w': 5}\n"
     ]
    },
    {
     "name": "stderr",
     "output_type": "stream",
     "text": [
      "\r",
      " 69%|████████████████████████████▎            | 138/200 [24:57<04:30,  4.37s/it]"
     ]
    },
    {
     "name": "stdout",
     "output_type": "stream",
     "text": [
      "Result: True\n",
      "\n",
      "\n",
      "Test: 138\n",
      "Params: {'in_channels': 4, 'out_channels': 18, 'kernel_size': (10, 15), 'padding': (1, 4), 'stride': (5, 1), 'dilation': (3, 1), 'groups': 2, 'in_batches': 5, 'in_h': 33, 'in_w': 34}\n"
     ]
    },
    {
     "name": "stderr",
     "output_type": "stream",
     "text": [
      " 70%|████████████████████████████▋            | 140/200 [25:19<06:42,  6.71s/it]"
     ]
    },
    {
     "name": "stdout",
     "output_type": "stream",
     "text": [
      "Result: True\n",
      "\n",
      "\n",
      "Test: 139\n",
      "Params: {'in_channels': 20, 'out_channels': 20, 'kernel_size': (10, 14), 'padding': (7, 3), 'stride': (4, 4), 'dilation': (2, 1), 'groups': 20, 'in_batches': 1, 'in_h': 10, 'in_w': 14}\n",
      "Result: True\n",
      "\n",
      "\n",
      "Test: 140\n",
      "Params: {'in_channels': 1, 'out_channels': 5, 'kernel_size': (4, 8), 'padding': (10, 3), 'stride': (1, 1), 'dilation': (2, 1), 'groups': 1, 'in_batches': 2, 'in_h': 14, 'in_w': 10}\n"
     ]
    },
    {
     "name": "stderr",
     "output_type": "stream",
     "text": [
      "\r",
      " 70%|████████████████████████████▉            | 141/200 [25:20<04:52,  4.97s/it]"
     ]
    },
    {
     "name": "stdout",
     "output_type": "stream",
     "text": [
      "Result: True\n",
      "\n",
      "\n",
      "Test: 141\n",
      "Params: {'in_channels': 1, 'out_channels': 14, 'kernel_size': (8, 12), 'padding': (1, 5), 'stride': (3, 1), 'dilation': (1, 1), 'groups': 1, 'in_batches': 4, 'in_h': 34, 'in_w': 9}\n"
     ]
    },
    {
     "name": "stderr",
     "output_type": "stream",
     "text": [
      "\r",
      " 71%|█████████████████████████████            | 142/200 [25:22<04:01,  4.17s/it]"
     ]
    },
    {
     "name": "stdout",
     "output_type": "stream",
     "text": [
      "Result: True\n",
      "\n",
      "\n",
      "Test: 142\n",
      "Params: {'in_channels': 2, 'out_channels': 3, 'kernel_size': (12, 12), 'padding': (9, 5), 'stride': (1, 4), 'dilation': (2, 3), 'groups': 1, 'in_batches': 4, 'in_h': 26, 'in_w': 26}\n"
     ]
    },
    {
     "name": "stderr",
     "output_type": "stream",
     "text": [
      " 72%|█████████████████████████████▌           | 144/200 [25:25<02:22,  2.55s/it]"
     ]
    },
    {
     "name": "stdout",
     "output_type": "stream",
     "text": [
      "Result: True\n",
      "\n",
      "\n",
      "Test: 143\n",
      "Params: {'in_channels': 2, 'out_channels': 6, 'kernel_size': (14, 10), 'padding': (5, 5), 'stride': (2, 5), 'dilation': (2, 2), 'groups': 2, 'in_batches': 1, 'in_h': 21, 'in_w': 20}\n",
      "Result: True\n",
      "\n",
      "\n",
      "Test: 144\n",
      "Params: {'in_channels': 2, 'out_channels': 18, 'kernel_size': (9, 6), 'padding': (4, 7), 'stride': (2, 4), 'dilation': (4, 5), 'groups': 2, 'in_batches': 1, 'in_h': 26, 'in_w': 15}\n",
      "Result: True\n",
      "\n",
      "\n",
      "Test: 145\n",
      "Params: {'in_channels': 1, 'out_channels': 9, 'kernel_size': (2, 4), 'padding': (5, 4), 'stride': (2, 5), 'dilation': (2, 2), 'groups': 1, 'in_batches': 3, 'in_h': 18, 'in_w': 24}\n"
     ]
    },
    {
     "name": "stderr",
     "output_type": "stream",
     "text": [
      "\r",
      " 73%|█████████████████████████████▉           | 146/200 [25:25<01:18,  1.45s/it]"
     ]
    },
    {
     "name": "stdout",
     "output_type": "stream",
     "text": [
      "Result: True\n",
      "\n",
      "\n",
      "Test: 146\n",
      "Params: {'in_channels': 15, 'out_channels': 5, 'kernel_size': (2, 2), 'padding': (1, 1), 'stride': (1, 1), 'dilation': (3, 1), 'groups': 5, 'in_batches': 5, 'in_h': 23, 'in_w': 12}\n"
     ]
    },
    {
     "name": "stderr",
     "output_type": "stream",
     "text": [
      "\r",
      " 74%|██████████████████████████████▏          | 147/200 [25:26<01:10,  1.33s/it]"
     ]
    },
    {
     "name": "stdout",
     "output_type": "stream",
     "text": [
      "Result: True\n",
      "\n",
      "\n",
      "Test: 147\n",
      "Params: {'in_channels': 2, 'out_channels': 10, 'kernel_size': (11, 16), 'padding': (9, 6), 'stride': (1, 5), 'dilation': (1, 2), 'groups': 2, 'in_batches': 5, 'in_h': 27, 'in_w': 19}\n"
     ]
    },
    {
     "name": "stderr",
     "output_type": "stream",
     "text": [
      "\r",
      " 74%|██████████████████████████████▎          | 148/200 [25:29<01:33,  1.80s/it]"
     ]
    },
    {
     "name": "stdout",
     "output_type": "stream",
     "text": [
      "Result: True\n",
      "\n",
      "\n",
      "Test: 148\n",
      "Params: {'in_channels': 3, 'out_channels': 9, 'kernel_size': (2, 6), 'padding': (6, 10), 'stride': (4, 3), 'dilation': (8, 1), 'groups': 1, 'in_batches': 3, 'in_h': 13, 'in_w': 10}\n"
     ]
    },
    {
     "name": "stderr",
     "output_type": "stream",
     "text": [
      "\r",
      " 74%|██████████████████████████████▌          | 149/200 [25:30<01:21,  1.59s/it]"
     ]
    },
    {
     "name": "stdout",
     "output_type": "stream",
     "text": [
      "Result: True\n",
      "\n",
      "\n",
      "Test: 149\n",
      "Params: {'in_channels': 14, 'out_channels': 4, 'kernel_size': (5, 1), 'padding': (8, 3), 'stride': (2, 5), 'dilation': (8, 1), 'groups': 2, 'in_batches': 5, 'in_h': 21, 'in_w': 5}\n"
     ]
    },
    {
     "name": "stderr",
     "output_type": "stream",
     "text": [
      "\r",
      " 75%|██████████████████████████████▊          | 150/200 [25:30<01:01,  1.22s/it]"
     ]
    },
    {
     "name": "stdout",
     "output_type": "stream",
     "text": [
      "Result: True\n",
      "\n",
      "\n",
      "Test: 150\n",
      "Params: {'in_channels': 7, 'out_channels': 9, 'kernel_size': (5, 13), 'padding': (8, 7), 'stride': (5, 1), 'dilation': (4, 3), 'groups': 1, 'in_batches': 4, 'in_h': 30, 'in_w': 32}\n"
     ]
    },
    {
     "name": "stderr",
     "output_type": "stream",
     "text": [
      "\r",
      " 76%|██████████████████████████████▉          | 151/200 [26:20<12:11, 14.93s/it]"
     ]
    },
    {
     "name": "stdout",
     "output_type": "stream",
     "text": [
      "Result: True\n",
      "\n",
      "\n",
      "Test: 151\n",
      "Params: {'in_channels': 15, 'out_channels': 10, 'kernel_size': (2, 3), 'padding': (7, 7), 'stride': (4, 1), 'dilation': (10, 8), 'groups': 1, 'in_batches': 2, 'in_h': 13, 'in_w': 23}\n"
     ]
    },
    {
     "name": "stderr",
     "output_type": "stream",
     "text": [
      "\r",
      " 76%|███████████████████████████████▏         | 152/200 [26:50<15:37, 19.52s/it]"
     ]
    },
    {
     "name": "stdout",
     "output_type": "stream",
     "text": [
      "Result: True\n",
      "\n",
      "\n",
      "Test: 152\n",
      "Params: {'in_channels': 1, 'out_channels': 2, 'kernel_size': (2, 16), 'padding': (3, 6), 'stride': (4, 3), 'dilation': (5, 3), 'groups': 1, 'in_batches': 3, 'in_h': 25, 'in_w': 34}\n",
      "Result: True\n",
      "\n",
      "\n",
      "Test: 153\n",
      "Params: {'in_channels': 14, 'out_channels': 9, 'kernel_size': (16, 19), 'padding': (2, 5), 'stride': (1, 5), 'dilation': (1, 1), 'groups': 1, 'in_batches': 2, 'in_h': 22, 'in_w': 13}\n"
     ]
    },
    {
     "name": "stderr",
     "output_type": "stream",
     "text": [
      "\r",
      " 77%|███████████████████████████████▌         | 154/200 [26:55<08:58, 11.71s/it]"
     ]
    },
    {
     "name": "stdout",
     "output_type": "stream",
     "text": [
      "Result: True\n",
      "\n",
      "\n",
      "Test: 154\n",
      "Params: {'in_channels': 4, 'out_channels': 12, 'kernel_size': (7, 1), 'padding': (10, 6), 'stride': (2, 4), 'dilation': (3, 4), 'groups': 2, 'in_batches': 2, 'in_h': 30, 'in_w': 31}\n"
     ]
    },
    {
     "name": "stderr",
     "output_type": "stream",
     "text": [
      " 78%|███████████████████████████████▉         | 156/200 [26:56<04:57,  6.77s/it]"
     ]
    },
    {
     "name": "stdout",
     "output_type": "stream",
     "text": [
      "Result: True\n",
      "\n",
      "\n",
      "Test: 155\n",
      "Params: {'in_channels': 2, 'out_channels': 10, 'kernel_size': (9, 8), 'padding': (9, 2), 'stride': (5, 2), 'dilation': (1, 4), 'groups': 2, 'in_batches': 2, 'in_h': 12, 'in_w': 26}\n",
      "Result: True\n",
      "\n",
      "\n",
      "Test: 156\n",
      "Params: {'in_channels': 16, 'out_channels': 18, 'kernel_size': (3, 10), 'padding': (7, 2), 'stride': (4, 3), 'dilation': (10, 3), 'groups': 1, 'in_batches': 4, 'in_h': 29, 'in_w': 34}\n"
     ]
    },
    {
     "name": "stderr",
     "output_type": "stream",
     "text": [
      "\r",
      " 78%|████████████████████████████████▏        | 157/200 [28:18<19:27, 27.15s/it]"
     ]
    },
    {
     "name": "stdout",
     "output_type": "stream",
     "text": [
      "Result: True\n",
      "\n",
      "\n",
      "Test: 157\n",
      "Params: {'in_channels': 13, 'out_channels': 9, 'kernel_size': (1, 5), 'padding': (3, 7), 'stride': (1, 3), 'dilation': (9, 1), 'groups': 1, 'in_batches': 1, 'in_h': 18, 'in_w': 23}\n"
     ]
    },
    {
     "name": "stderr",
     "output_type": "stream",
     "text": [
      "\r",
      " 79%|████████████████████████████████▍        | 158/200 [28:19<13:52, 19.83s/it]"
     ]
    },
    {
     "name": "stdout",
     "output_type": "stream",
     "text": [
      "Result: True\n",
      "\n",
      "\n",
      "Test: 158\n",
      "Params: {'in_channels': 1, 'out_channels': 19, 'kernel_size': (1, 19), 'padding': (1, 8), 'stride': (5, 5), 'dilation': (9, 1), 'groups': 1, 'in_batches': 2, 'in_h': 13, 'in_w': 20}\n",
      "Result: True\n",
      "\n",
      "\n",
      "Test: 159\n",
      "Params: {'in_channels': 1, 'out_channels': 19, 'kernel_size': (13, 7), 'padding': (6, 7), 'stride': (3, 2), 'dilation': (2, 1), 'groups': 1, 'in_batches': 2, 'in_h': 19, 'in_w': 27}\n"
     ]
    },
    {
     "name": "stderr",
     "output_type": "stream",
     "text": [
      "\r",
      " 80%|████████████████████████████████▊        | 160/200 [28:21<07:38, 11.47s/it]"
     ]
    },
    {
     "name": "stdout",
     "output_type": "stream",
     "text": [
      "Result: True\n",
      "\n",
      "\n",
      "Test: 160\n",
      "Params: {'in_channels': 2, 'out_channels': 2, 'kernel_size': (12, 2), 'padding': (6, 2), 'stride': (3, 1), 'dilation': (1, 9), 'groups': 1, 'in_batches': 4, 'in_h': 10, 'in_w': 22}\n"
     ]
    },
    {
     "name": "stderr",
     "output_type": "stream",
     "text": [
      " 81%|█████████████████████████████████▏       | 162/200 [28:22<04:12,  6.66s/it]"
     ]
    },
    {
     "name": "stdout",
     "output_type": "stream",
     "text": [
      "Result: True\n",
      "\n",
      "\n",
      "Test: 161\n",
      "Params: {'in_channels': 1, 'out_channels': 4, 'kernel_size': (11, 1), 'padding': (6, 7), 'stride': (5, 1), 'dilation': (3, 8), 'groups': 1, 'in_batches': 3, 'in_h': 33, 'in_w': 11}\n",
      "Result: True\n",
      "\n",
      "\n",
      "Test: 162\n",
      "Params: {'in_channels': 3, 'out_channels': 18, 'kernel_size': (16, 8), 'padding': (6, 4), 'stride': (3, 2), 'dilation': (1, 4), 'groups': 1, 'in_batches': 1, 'in_h': 16, 'in_w': 27}\n"
     ]
    },
    {
     "name": "stderr",
     "output_type": "stream",
     "text": [
      "\r",
      " 82%|█████████████████████████████████▍       | 163/200 [28:25<03:25,  5.57s/it]"
     ]
    },
    {
     "name": "stdout",
     "output_type": "stream",
     "text": [
      "Result: True\n",
      "\n",
      "\n",
      "Test: 163\n",
      "Params: {'in_channels': 14, 'out_channels': 11, 'kernel_size': (1, 1), 'padding': (4, 10), 'stride': (4, 4), 'dilation': (4, 2), 'groups': 1, 'in_batches': 2, 'in_h': 8, 'in_w': 15}\n",
      "Result: True\n",
      "\n",
      "\n",
      "Test: 164\n",
      "Params: {'in_channels': 1, 'out_channels': 14, 'kernel_size': (17, 3), 'padding': (6, 8), 'stride': (5, 3), 'dilation': (1, 4), 'groups': 1, 'in_batches': 2, 'in_h': 33, 'in_w': 33}\n"
     ]
    },
    {
     "name": "stderr",
     "output_type": "stream",
     "text": [
      "\r",
      " 82%|█████████████████████████████████▊       | 165/200 [28:27<02:05,  3.59s/it]"
     ]
    },
    {
     "name": "stdout",
     "output_type": "stream",
     "text": [
      "Result: True\n",
      "\n",
      "\n",
      "Test: 165\n",
      "Params: {'in_channels': 4, 'out_channels': 4, 'kernel_size': (3, 3), 'padding': (10, 7), 'stride': (2, 4), 'dilation': (1, 8), 'groups': 2, 'in_batches': 4, 'in_h': 14, 'in_w': 24}\n"
     ]
    },
    {
     "name": "stderr",
     "output_type": "stream",
     "text": [
      "\r",
      " 83%|██████████████████████████████████       | 166/200 [28:27<01:40,  2.95s/it]"
     ]
    },
    {
     "name": "stdout",
     "output_type": "stream",
     "text": [
      "Result: True\n",
      "\n",
      "\n",
      "Test: 166\n",
      "Params: {'in_channels': 6, 'out_channels': 14, 'kernel_size': (3, 3), 'padding': (6, 4), 'stride': (3, 1), 'dilation': (6, 10), 'groups': 2, 'in_batches': 5, 'in_h': 25, 'in_w': 17}\n"
     ]
    },
    {
     "name": "stderr",
     "output_type": "stream",
     "text": [
      "\r",
      " 84%|██████████████████████████████████▏      | 167/200 [28:41<03:04,  5.60s/it]"
     ]
    },
    {
     "name": "stdout",
     "output_type": "stream",
     "text": [
      "Result: True\n",
      "\n",
      "\n",
      "Test: 167\n",
      "Params: {'in_channels': 3, 'out_channels': 11, 'kernel_size': (7, 10), 'padding': (10, 4), 'stride': (5, 2), 'dilation': (4, 2), 'groups': 1, 'in_batches': 1, 'in_h': 27, 'in_w': 11}\n"
     ]
    },
    {
     "name": "stderr",
     "output_type": "stream",
     "text": [
      "\r",
      " 84%|██████████████████████████████████▍      | 168/200 [28:41<02:15,  4.23s/it]"
     ]
    },
    {
     "name": "stdout",
     "output_type": "stream",
     "text": [
      "Result: True\n",
      "\n",
      "\n",
      "Test: 168\n",
      "Params: {'in_channels': 2, 'out_channels': 14, 'kernel_size': (12, 19), 'padding': (4, 6), 'stride': (4, 4), 'dilation': (2, 1), 'groups': 2, 'in_batches': 2, 'in_h': 32, 'in_w': 34}\n"
     ]
    },
    {
     "name": "stderr",
     "output_type": "stream",
     "text": [
      "\r",
      " 84%|██████████████████████████████████▋      | 169/200 [28:44<01:54,  3.69s/it]"
     ]
    },
    {
     "name": "stdout",
     "output_type": "stream",
     "text": [
      "Result: True\n",
      "\n",
      "\n",
      "Test: 169\n",
      "Params: {'in_channels': 1, 'out_channels': 14, 'kernel_size': (3, 14), 'padding': (7, 10), 'stride': (5, 3), 'dilation': (6, 1), 'groups': 1, 'in_batches': 3, 'in_h': 7, 'in_w': 33}\n"
     ]
    },
    {
     "name": "stderr",
     "output_type": "stream",
     "text": [
      "\r",
      " 85%|██████████████████████████████████▊      | 170/200 [28:45<01:29,  2.97s/it]"
     ]
    },
    {
     "name": "stdout",
     "output_type": "stream",
     "text": [
      "Result: True\n",
      "\n",
      "\n",
      "Test: 170\n",
      "Params: {'in_channels': 13, 'out_channels': 1, 'kernel_size': (2, 7), 'padding': (7, 5), 'stride': (1, 5), 'dilation': (1, 2), 'groups': 1, 'in_batches': 1, 'in_h': 13, 'in_w': 29}\n"
     ]
    },
    {
     "name": "stderr",
     "output_type": "stream",
     "text": [
      "\r",
      " 86%|███████████████████████████████████      | 171/200 [28:45<01:03,  2.20s/it]"
     ]
    },
    {
     "name": "stdout",
     "output_type": "stream",
     "text": [
      "Result: True\n",
      "\n",
      "\n",
      "Test: 171\n",
      "Params: {'in_channels': 18, 'out_channels': 18, 'kernel_size': (7, 1), 'padding': (8, 3), 'stride': (3, 2), 'dilation': (6, 4), 'groups': 2, 'in_batches': 2, 'in_h': 33, 'in_w': 23}\n"
     ]
    },
    {
     "name": "stderr",
     "output_type": "stream",
     "text": [
      "\r",
      " 86%|███████████████████████████████████▎     | 172/200 [28:50<01:24,  3.01s/it]"
     ]
    },
    {
     "name": "stdout",
     "output_type": "stream",
     "text": [
      "Result: True\n",
      "\n",
      "\n",
      "Test: 172\n",
      "Params: {'in_channels': 4, 'out_channels': 9, 'kernel_size': (9, 2), 'padding': (10, 3), 'stride': (1, 3), 'dilation': (3, 4), 'groups': 1, 'in_batches': 1, 'in_h': 34, 'in_w': 5}\n"
     ]
    },
    {
     "name": "stderr",
     "output_type": "stream",
     "text": [
      "\r",
      " 86%|███████████████████████████████████▍     | 173/200 [28:52<01:14,  2.75s/it]"
     ]
    },
    {
     "name": "stdout",
     "output_type": "stream",
     "text": [
      "Result: True\n",
      "\n",
      "\n",
      "Test: 173\n",
      "Params: {'in_channels': 1, 'out_channels': 4, 'kernel_size': (9, 8), 'padding': (10, 8), 'stride': (4, 3), 'dilation': (2, 1), 'groups': 1, 'in_batches': 5, 'in_h': 8, 'in_w': 33}\n"
     ]
    },
    {
     "name": "stderr",
     "output_type": "stream",
     "text": [
      "\r",
      " 87%|███████████████████████████████████▋     | 174/200 [28:53<00:55,  2.12s/it]"
     ]
    },
    {
     "name": "stdout",
     "output_type": "stream",
     "text": [
      "Result: True\n",
      "\n",
      "\n",
      "Test: 174\n",
      "Params: {'in_channels': 2, 'out_channels': 7, 'kernel_size': (4, 13), 'padding': (6, 7), 'stride': (3, 2), 'dilation': (1, 2), 'groups': 1, 'in_batches': 1, 'in_h': 25, 'in_w': 18}\n"
     ]
    },
    {
     "name": "stderr",
     "output_type": "stream",
     "text": [
      "\r",
      " 88%|███████████████████████████████████▉     | 175/200 [28:53<00:39,  1.60s/it]"
     ]
    },
    {
     "name": "stdout",
     "output_type": "stream",
     "text": [
      "Result: True\n",
      "\n",
      "\n",
      "Test: 175\n",
      "Params: {'in_channels': 2, 'out_channels': 4, 'kernel_size': (7, 6), 'padding': (10, 2), 'stride': (5, 2), 'dilation': (2, 3), 'groups': 2, 'in_batches': 3, 'in_h': 15, 'in_w': 13}\n",
      "Result: True\n",
      "\n",
      "\n",
      "Test: 176\n",
      "Params: {'in_channels': 8, 'out_channels': 12, 'kernel_size': (4, 2), 'padding': (9, 9), 'stride': (3, 4), 'dilation': (7, 5), 'groups': 2, 'in_batches': 1, 'in_h': 34, 'in_w': 33}\n"
     ]
    },
    {
     "name": "stderr",
     "output_type": "stream",
     "text": [
      "\r",
      " 88%|████████████████████████████████████▎    | 177/200 [28:58<00:43,  1.88s/it]"
     ]
    },
    {
     "name": "stdout",
     "output_type": "stream",
     "text": [
      "Result: True\n",
      "\n",
      "\n",
      "Test: 177\n",
      "Params: {'in_channels': 10, 'out_channels': 4, 'kernel_size': (2, 8), 'padding': (5, 7), 'stride': (3, 3), 'dilation': (2, 3), 'groups': 2, 'in_batches': 5, 'in_h': 16, 'in_w': 29}\n"
     ]
    },
    {
     "name": "stderr",
     "output_type": "stream",
     "text": [
      "\r",
      " 89%|████████████████████████████████████▍    | 178/200 [29:00<00:43,  1.97s/it]"
     ]
    },
    {
     "name": "stdout",
     "output_type": "stream",
     "text": [
      "Result: True\n",
      "\n",
      "\n",
      "Test: 178\n",
      "Params: {'in_channels': 1, 'out_channels': 10, 'kernel_size': (3, 8), 'padding': (5, 10), 'stride': (1, 1), 'dilation': (9, 1), 'groups': 1, 'in_batches': 3, 'in_h': 15, 'in_w': 6}\n"
     ]
    },
    {
     "name": "stderr",
     "output_type": "stream",
     "text": [
      "\r",
      " 90%|████████████████████████████████████▋    | 179/200 [29:03<00:47,  2.28s/it]"
     ]
    },
    {
     "name": "stdout",
     "output_type": "stream",
     "text": [
      "Result: True\n",
      "\n",
      "\n",
      "Test: 179\n",
      "Params: {'in_channels': 6, 'out_channels': 15, 'kernel_size': (5, 16), 'padding': (7, 8), 'stride': (5, 2), 'dilation': (4, 1), 'groups': 3, 'in_batches': 1, 'in_h': 18, 'in_w': 19}\n"
     ]
    },
    {
     "name": "stderr",
     "output_type": "stream",
     "text": [
      "\r",
      " 90%|████████████████████████████████████▉    | 180/200 [29:05<00:42,  2.12s/it]"
     ]
    },
    {
     "name": "stdout",
     "output_type": "stream",
     "text": [
      "Result: True\n",
      "\n",
      "\n",
      "Test: 180\n",
      "Params: {'in_channels': 5, 'out_channels': 19, 'kernel_size': (6, 8), 'padding': (8, 9), 'stride': (5, 1), 'dilation': (1, 2), 'groups': 1, 'in_batches': 2, 'in_h': 7, 'in_w': 16}\n"
     ]
    },
    {
     "name": "stderr",
     "output_type": "stream",
     "text": [
      "\r",
      " 90%|█████████████████████████████████████    | 181/200 [29:12<01:06,  3.48s/it]"
     ]
    },
    {
     "name": "stdout",
     "output_type": "stream",
     "text": [
      "Result: True\n",
      "\n",
      "\n",
      "Test: 181\n",
      "Params: {'in_channels': 16, 'out_channels': 16, 'kernel_size': (12, 3), 'padding': (4, 3), 'stride': (1, 2), 'dilation': (1, 10), 'groups': 1, 'in_batches': 2, 'in_h': 22, 'in_w': 30}\n"
     ]
    },
    {
     "name": "stderr",
     "output_type": "stream",
     "text": [
      "\r",
      " 91%|█████████████████████████████████████▎   | 182/200 [30:52<09:22, 31.24s/it]"
     ]
    },
    {
     "name": "stdout",
     "output_type": "stream",
     "text": [
      "Result: True\n",
      "\n",
      "\n",
      "Test: 182\n",
      "Params: {'in_channels': 2, 'out_channels': 5, 'kernel_size': (15, 5), 'padding': (9, 8), 'stride': (4, 5), 'dilation': (3, 5), 'groups': 1, 'in_batches': 3, 'in_h': 32, 'in_w': 5}\n"
     ]
    },
    {
     "name": "stderr",
     "output_type": "stream",
     "text": [
      "\r",
      " 92%|█████████████████████████████████████▌   | 183/200 [30:53<06:18, 22.29s/it]"
     ]
    },
    {
     "name": "stdout",
     "output_type": "stream",
     "text": [
      "Result: True\n",
      "\n",
      "\n",
      "Test: 183\n",
      "Params: {'in_channels': 6, 'out_channels': 4, 'kernel_size': (2, 14), 'padding': (3, 3), 'stride': (1, 3), 'dilation': (9, 2), 'groups': 1, 'in_batches': 4, 'in_h': 7, 'in_w': 21}\n"
     ]
    },
    {
     "name": "stderr",
     "output_type": "stream",
     "text": [
      "\r",
      " 92%|█████████████████████████████████████▋   | 184/200 [30:53<04:14, 15.93s/it]"
     ]
    },
    {
     "name": "stdout",
     "output_type": "stream",
     "text": [
      "Result: True\n",
      "\n",
      "\n",
      "Test: 184\n",
      "Params: {'in_channels': 6, 'out_channels': 16, 'kernel_size': (7, 16), 'padding': (5, 10), 'stride': (2, 5), 'dilation': (4, 3), 'groups': 1, 'in_batches': 4, 'in_h': 24, 'in_w': 28}\n"
     ]
    },
    {
     "name": "stderr",
     "output_type": "stream",
     "text": [
      "\r",
      " 92%|█████████████████████████████████████▉   | 185/200 [31:05<03:38, 14.56s/it]"
     ]
    },
    {
     "name": "stdout",
     "output_type": "stream",
     "text": [
      "Result: True\n",
      "\n",
      "\n",
      "Test: 185\n",
      "Params: {'in_channels': 1, 'out_channels': 18, 'kernel_size': (2, 4), 'padding': (3, 6), 'stride': (3, 5), 'dilation': (5, 5), 'groups': 1, 'in_batches': 4, 'in_h': 21, 'in_w': 8}\n"
     ]
    },
    {
     "name": "stderr",
     "output_type": "stream",
     "text": [
      "\r",
      " 93%|██████████████████████████████████████▏  | 186/200 [31:05<02:24, 10.34s/it]"
     ]
    },
    {
     "name": "stdout",
     "output_type": "stream",
     "text": [
      "Result: True\n",
      "\n",
      "\n",
      "Test: 186\n",
      "Params: {'in_channels': 1, 'out_channels': 10, 'kernel_size': (4, 5), 'padding': (6, 10), 'stride': (3, 4), 'dilation': (9, 6), 'groups': 1, 'in_batches': 3, 'in_h': 25, 'in_w': 17}\n"
     ]
    },
    {
     "name": "stderr",
     "output_type": "stream",
     "text": [
      "\r",
      " 94%|██████████████████████████████████████▎  | 187/200 [31:07<01:41,  7.78s/it]"
     ]
    },
    {
     "name": "stdout",
     "output_type": "stream",
     "text": [
      "Result: True\n",
      "\n",
      "\n",
      "Test: 187\n",
      "Params: {'in_channels': 1, 'out_channels': 9, 'kernel_size': (7, 17), 'padding': (5, 3), 'stride': (4, 1), 'dilation': (6, 1), 'groups': 1, 'in_batches': 1, 'in_h': 30, 'in_w': 24}\n"
     ]
    },
    {
     "name": "stderr",
     "output_type": "stream",
     "text": [
      "\r",
      " 94%|██████████████████████████████████████▌  | 188/200 [31:07<01:07,  5.59s/it]"
     ]
    },
    {
     "name": "stdout",
     "output_type": "stream",
     "text": [
      "Result: True\n",
      "\n",
      "\n",
      "Test: 188\n",
      "Params: {'in_channels': 1, 'out_channels': 2, 'kernel_size': (10, 2), 'padding': (6, 4), 'stride': (4, 4), 'dilation': (3, 8), 'groups': 1, 'in_batches': 2, 'in_h': 34, 'in_w': 31}\n"
     ]
    },
    {
     "name": "stderr",
     "output_type": "stream",
     "text": [
      "\r",
      " 94%|██████████████████████████████████████▋  | 189/200 [31:07<00:43,  3.98s/it]"
     ]
    },
    {
     "name": "stdout",
     "output_type": "stream",
     "text": [
      "Result: True\n",
      "\n",
      "\n",
      "Test: 189\n",
      "Params: {'in_channels': 10, 'out_channels': 4, 'kernel_size': (3, 2), 'padding': (10, 9), 'stride': (1, 4), 'dilation': (3, 9), 'groups': 1, 'in_batches': 2, 'in_h': 17, 'in_w': 22}\n"
     ]
    },
    {
     "name": "stderr",
     "output_type": "stream",
     "text": [
      " 96%|███████████████████████████████████████▏ | 191/200 [31:15<00:31,  3.49s/it]"
     ]
    },
    {
     "name": "stdout",
     "output_type": "stream",
     "text": [
      "Result: True\n",
      "\n",
      "\n",
      "Test: 190\n",
      "Params: {'in_channels': 1, 'out_channels': 8, 'kernel_size': (4, 3), 'padding': (3, 9), 'stride': (4, 4), 'dilation': (9, 9), 'groups': 1, 'in_batches': 1, 'in_h': 25, 'in_w': 28}\n",
      "Result: True\n",
      "\n",
      "\n",
      "Test: 191\n",
      "Params: {'in_channels': 2, 'out_channels': 14, 'kernel_size': (3, 13), 'padding': (7, 8), 'stride': (4, 2), 'dilation': (4, 1), 'groups': 2, 'in_batches': 4, 'in_h': 31, 'in_w': 32}\n"
     ]
    },
    {
     "name": "stderr",
     "output_type": "stream",
     "text": [
      "\r",
      " 96%|███████████████████████████████████████▎ | 192/200 [31:21<00:34,  4.33s/it]"
     ]
    },
    {
     "name": "stdout",
     "output_type": "stream",
     "text": [
      "Result: True\n",
      "\n",
      "\n",
      "Test: 192\n",
      "Params: {'in_channels': 3, 'out_channels': 3, 'kernel_size': (17, 9), 'padding': (4, 10), 'stride': (2, 1), 'dilation': (1, 1), 'groups': 1, 'in_batches': 4, 'in_h': 10, 'in_w': 13}\n"
     ]
    },
    {
     "name": "stderr",
     "output_type": "stream",
     "text": [
      " 97%|███████████████████████████████████████▊ | 194/200 [31:22<00:13,  2.31s/it]"
     ]
    },
    {
     "name": "stdout",
     "output_type": "stream",
     "text": [
      "Result: True\n",
      "\n",
      "\n",
      "Test: 193\n",
      "Params: {'in_channels': 1, 'out_channels': 15, 'kernel_size': (1, 2), 'padding': (2, 2), 'stride': (1, 4), 'dilation': (4, 7), 'groups': 1, 'in_batches': 2, 'in_h': 23, 'in_w': 13}\n",
      "Result: True\n",
      "\n",
      "\n",
      "Test: 194\n",
      "Params: {'in_channels': 8, 'out_channels': 20, 'kernel_size': (1, 3), 'padding': (9, 8), 'stride': (5, 5), 'dilation': (6, 10), 'groups': 4, 'in_batches': 1, 'in_h': 31, 'in_w': 12}\n",
      "Result: True\n",
      "\n",
      "\n",
      "Test: 195\n",
      "Params: {'in_channels': 15, 'out_channels': 12, 'kernel_size': (11, 8), 'padding': (3, 6), 'stride': (5, 1), 'dilation': (2, 1), 'groups': 3, 'in_batches': 4, 'in_h': 27, 'in_w': 22}\n"
     ]
    },
    {
     "name": "stderr",
     "output_type": "stream",
     "text": [
      "\r",
      " 98%|████████████████████████████████████████▏| 196/200 [31:39<00:20,  5.16s/it]"
     ]
    },
    {
     "name": "stdout",
     "output_type": "stream",
     "text": [
      "Result: True\n",
      "\n",
      "\n",
      "Test: 196\n",
      "Params: {'in_channels': 3, 'out_channels': 6, 'kernel_size': (7, 9), 'padding': (10, 8), 'stride': (4, 4), 'dilation': (2, 1), 'groups': 3, 'in_batches': 5, 'in_h': 30, 'in_w': 16}\n"
     ]
    },
    {
     "name": "stderr",
     "output_type": "stream",
     "text": [
      "\r",
      " 98%|████████████████████████████████████████▍| 197/200 [31:40<00:12,  4.16s/it]"
     ]
    },
    {
     "name": "stdout",
     "output_type": "stream",
     "text": [
      "Result: True\n",
      "\n",
      "\n",
      "Test: 197\n",
      "Params: {'in_channels': 10, 'out_channels': 4, 'kernel_size': (10, 5), 'padding': (7, 1), 'stride': (3, 3), 'dilation': (2, 4), 'groups': 1, 'in_batches': 5, 'in_h': 23, 'in_w': 18}\n"
     ]
    },
    {
     "name": "stderr",
     "output_type": "stream",
     "text": [
      "100%|████████████████████████████████████████▊| 199/200 [31:45<00:03,  3.15s/it]"
     ]
    },
    {
     "name": "stdout",
     "output_type": "stream",
     "text": [
      "Result: True\n",
      "\n",
      "\n",
      "Test: 198\n",
      "Params: {'in_channels': 1, 'out_channels': 19, 'kernel_size': (2, 1), 'padding': (5, 3), 'stride': (2, 4), 'dilation': (4, 7), 'groups': 1, 'in_batches': 3, 'in_h': 27, 'in_w': 9}\n",
      "Result: True\n",
      "\n",
      "\n",
      "Test: 199\n",
      "Params: {'in_channels': 2, 'out_channels': 8, 'kernel_size': (7, 6), 'padding': (7, 10), 'stride': (5, 2), 'dilation': (3, 1), 'groups': 2, 'in_batches': 5, 'in_h': 31, 'in_w': 11}\n"
     ]
    },
    {
     "name": "stderr",
     "output_type": "stream",
     "text": [
      "100%|█████████████████████████████████████████| 200/200 [31:46<00:00,  9.53s/it]"
     ]
    },
    {
     "name": "stdout",
     "output_type": "stream",
     "text": [
      "Result: True\n",
      "\n",
      "\n",
      "200 out of 200 (100.0%) tests passed\n"
     ]
    },
    {
     "name": "stderr",
     "output_type": "stream",
     "text": [
      "\n"
     ]
    }
   ],
   "source": [
    "num_tests = 200\n",
    "run_tests(num_tests)"
   ]
  }
 ],
 "metadata": {
  "kernelspec": {
   "display_name": "Python 3 (ipykernel)",
   "language": "python",
   "name": "python3"
  },
  "language_info": {
   "codemirror_mode": {
    "name": "ipython",
    "version": 3
   },
   "file_extension": ".py",
   "mimetype": "text/x-python",
   "name": "python",
   "nbconvert_exporter": "python",
   "pygments_lexer": "ipython3",
   "version": "3.7.1"
  }
 },
 "nbformat": 4,
 "nbformat_minor": 5
}
