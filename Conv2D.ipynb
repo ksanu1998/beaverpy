{
 "cells": [
  {
   "cell_type": "code",
   "execution_count": 84,
   "id": "19182ede",
   "metadata": {},
   "outputs": [],
   "source": [
    "import numpy as np"
   ]
  },
  {
   "cell_type": "code",
   "execution_count": 88,
   "id": "97bdd410",
   "metadata": {},
   "outputs": [
    {
     "name": "stdout",
     "output_type": "stream",
     "text": [
      "input channels: 2, input height: 4, input weight: 4\n",
      "kernel channels: 2, kernel height: 2, kernel weight: 2\n"
     ]
    }
   ],
   "source": [
    "inp_c, inp_h, inp_w = 2, 4, 4 # input channels, input height, input weight\n",
    "ker_c, ker_h, ker_w = 2, 2, 2 # kernel channels, kernel height, kernel weight\n",
    "s = 1 # stride\n",
    "num_ker = 3 # number of kernels\n",
    "dilation = 1 # dilation factor\n",
    "padding = 0 # padding\n",
    "print('input channels: {}, input height: {}, input weight: {}'.format(inp_c, inp_h, inp_w))\n",
    "print('kernel channels: {}, kernel height: {}, kernel weight: {}'.format(ker_c, ker_h, ker_w))"
   ]
  },
  {
   "cell_type": "code",
   "execution_count": 86,
   "id": "23f3fbf9",
   "metadata": {},
   "outputs": [
    {
     "name": "stdout",
     "output_type": "stream",
     "text": [
      "input image\n",
      "[[[1. 1. 1. 1.]\n",
      "  [1. 1. 1. 1.]\n",
      "  [1. 1. 1. 1.]\n",
      "  [1. 1. 1. 1.]]\n",
      "\n",
      " [[1. 1. 1. 1.]\n",
      "  [1. 1. 1. 1.]\n",
      "  [1. 1. 1. 1.]\n",
      "  [1. 1. 1. 1.]]]\n"
     ]
    }
   ],
   "source": [
    "input_img = np.random.rand(inp_c, inp_h, inp_w) # define a random image based on the input parameters\n",
    "input_img = np.ones_like(input_img) # define an image of all ones based on the input parameters\n",
    "print('input image')\n",
    "print(input_img)"
   ]
  },
  {
   "cell_type": "code",
   "execution_count": 87,
   "id": "760b59b5",
   "metadata": {},
   "outputs": [
    {
     "name": "stdout",
     "output_type": "stream",
     "text": [
      "padded input image\n",
      "[array([[0., 0., 0., 0., 0., 0., 0., 0., 0., 0.],\n",
      "       [0., 0., 0., 0., 0., 0., 0., 0., 0., 0.],\n",
      "       [0., 0., 0., 0., 0., 0., 0., 0., 0., 0.],\n",
      "       [0., 0., 0., 1., 1., 1., 1., 0., 0., 0.],\n",
      "       [0., 0., 0., 1., 1., 1., 1., 0., 0., 0.],\n",
      "       [0., 0., 0., 1., 1., 1., 1., 0., 0., 0.],\n",
      "       [0., 0., 0., 1., 1., 1., 1., 0., 0., 0.],\n",
      "       [0., 0., 0., 0., 0., 0., 0., 0., 0., 0.],\n",
      "       [0., 0., 0., 0., 0., 0., 0., 0., 0., 0.],\n",
      "       [0., 0., 0., 0., 0., 0., 0., 0., 0., 0.]]), array([[0., 0., 0., 0., 0., 0., 0., 0., 0., 0.],\n",
      "       [0., 0., 0., 0., 0., 0., 0., 0., 0., 0.],\n",
      "       [0., 0., 0., 0., 0., 0., 0., 0., 0., 0.],\n",
      "       [0., 0., 0., 1., 1., 1., 1., 0., 0., 0.],\n",
      "       [0., 0., 0., 1., 1., 1., 1., 0., 0., 0.],\n",
      "       [0., 0., 0., 1., 1., 1., 1., 0., 0., 0.],\n",
      "       [0., 0., 0., 1., 1., 1., 1., 0., 0., 0.],\n",
      "       [0., 0., 0., 0., 0., 0., 0., 0., 0., 0.],\n",
      "       [0., 0., 0., 0., 0., 0., 0., 0., 0., 0.],\n",
      "       [0., 0., 0., 0., 0., 0., 0., 0., 0., 0.]])]\n",
      "padded input channels: 2, padded input height: 10, padded input weight: 10\n"
     ]
    }
   ],
   "source": [
    "# add zero padding based on the input parameters\n",
    "if padding != 0:\n",
    "    input_img = [np.pad(channel, padding, 'constant', constant_values=0) for channel in input_img]    \n",
    "    inp_h += 2 * padding\n",
    "    inp_w += 2 * padding\n",
    "    print('padded input image')\n",
    "    print(input_img)\n",
    "    print('padded input channels: {}, padded input height: {}, padded input weight: {}'.format(inp_c, inp_h, inp_w))\n"
   ]
  },
  {
   "cell_type": "code",
   "execution_count": 53,
   "id": "5282ee7a",
   "metadata": {},
   "outputs": [],
   "source": [
    "# method to dilate a kernel\n",
    "def dilate_kernel(dilation, kernels):\n",
    "    dil_ker_h = dilation * (ker_h - 1) + 1\n",
    "    dil_ker_w = dilation * (ker_w - 1) + 1\n",
    "    dil_kernels = []\n",
    "    for kernel in kernels:\n",
    "        dil_kernel = []\n",
    "        for channel in kernel:\n",
    "            dil_channel = np.zeros((dil_ker_h, dil_ker_w))\n",
    "            for row in range(len(channel)):\n",
    "                for col in range(len(channel[0])):\n",
    "                    dil_channel[dilation*row][dilation*col] = channel[row][col]\n",
    "            dil_kernel.append(dil_channel.tolist())\n",
    "        dil_kernels.append(dil_kernel)\n",
    "    return dil_kernels, dil_ker_h, dil_ker_w"
   ]
  },
  {
   "cell_type": "code",
   "execution_count": 54,
   "id": "48f56eb4",
   "metadata": {},
   "outputs": [
    {
     "name": "stdout",
     "output_type": "stream",
     "text": [
      "3 kernels\n",
      "kernel 0\n",
      "[[[0. 0.]\n",
      "  [0. 0.]]\n",
      "\n",
      " [[0. 0.]\n",
      "  [0. 0.]]]\n",
      "kernel 1\n",
      "[[[1. 1.]\n",
      "  [1. 1.]]\n",
      "\n",
      " [[1. 1.]\n",
      "  [1. 1.]]]\n",
      "kernel 2\n",
      "[[[2. 2.]\n",
      "  [2. 2.]]\n",
      "\n",
      " [[2. 2.]\n",
      "  [2. 2.]]]\n",
      "kernel channels: 2, kernel height: 2, kernel weight: 2\n"
     ]
    }
   ],
   "source": [
    "# define random kernels based on the input kernel parameters\n",
    "kernels = []\n",
    "print('{} kernels'.format(num_ker))\n",
    "for k in range(num_ker):\n",
    "    kernel = np.random.rand(ker_c, ker_h, ker_w) # define a random kernel based on the kernel parameters\n",
    "    kernel = k * np.ones_like(kernel)\n",
    "    kernels.append(kernel)\n",
    "    print('kernel {}'.format(k))\n",
    "    print(kernel)\n",
    "print('kernel channels: {}, kernel height: {}, kernel weight: {}'.format(ker_c, ker_h, ker_w))"
   ]
  },
  {
   "cell_type": "code",
   "execution_count": 55,
   "id": "980204fe",
   "metadata": {},
   "outputs": [
    {
     "name": "stdout",
     "output_type": "stream",
     "text": [
      "dilated kernel 0\n",
      "[[[0.0, 0.0], [0.0, 0.0]], [[0.0, 0.0], [0.0, 0.0]]]\n",
      "dilated kernel 1\n",
      "[[[1.0, 1.0], [1.0, 1.0]], [[1.0, 1.0], [1.0, 1.0]]]\n",
      "dilated kernel 2\n",
      "[[[2.0, 2.0], [2.0, 2.0]], [[2.0, 2.0], [2.0, 2.0]]]\n",
      "dilated kernel channels: 2, dilated kernel height: 2, dilated kernel weight: 2\n"
     ]
    }
   ],
   "source": [
    "# dilate kernels\n",
    "kernels, ker_h, ker_w = dilate_kernel(dilation, kernels)\n",
    "for k in range(num_ker):\n",
    "    print('dilated kernel {}'.format(k))\n",
    "    print(kernels[k])\n",
    "print('dilated kernel channels: {}, dilated kernel height: {}, dilated kernel weight: {}'.format(ker_c, ker_h, ker_w))"
   ]
  },
  {
   "cell_type": "code",
   "execution_count": 40,
   "id": "b3c4c9d8",
   "metadata": {},
   "outputs": [],
   "source": [
    "# method to compute output volume from the input and kernel parameters\n",
    "def compute_out_vol(inp_c, inp_h, inp_w, ker_c, ker_h, ker_w, s, num_ker):\n",
    "    out_c = int(num_ker)\n",
    "    out_h = int((inp_h - ker_h)/s) + 1\n",
    "    out_w = int((inp_w - ker_h)/s) + 1\n",
    "    return out_c, out_h, out_w"
   ]
  },
  {
   "cell_type": "code",
   "execution_count": 41,
   "id": "98918c42",
   "metadata": {},
   "outputs": [],
   "source": [
    "out_c, out_h, out_w = compute_out_vol(inp_c, inp_h, inp_w, ker_c, ker_h, ker_w, s, num_ker)\n",
    "print('ouput channels: {}, output height: {}, output weight: {}'.format(out_c, out_h, out_w))"
   ]
  },
  {
   "cell_type": "code",
   "execution_count": 42,
   "id": "0f5d4fbf",
   "metadata": {},
   "outputs": [],
   "source": [
    "# method to convolve kernel over the input slices\n",
    "def convolve(c, h, w, ker_c, ker_h, ker_w, s, ker_num):\n",
    "    print('kernel indices, image indices')\n",
    "    print('[c, h, w]', '[c, h, w]')\n",
    "    convol_sum = 0\n",
    "    for c_ker in range(ker_c):\n",
    "        for h_ker in range(ker_h):\n",
    "            for w_ker in range(ker_w):\n",
    "                print([c_ker, h_ker, w_ker], [c_ker, h_ker + s*h, w_ker + s*w])\n",
    "#                 convol_sum += kernels[ker_num][c_ker, h_ker, w_ker] * input_img[c_ker, h_ker + s*h, w_ker + s*w]\n",
    "                convol_sum += kernels[ker_num][c_ker][h_ker][w_ker] * input_img[c_ker][h_ker + s*h][w_ker + s*w]\n",
    "    print('\\n')\n",
    "    return convol_sum"
   ]
  },
  {
   "cell_type": "code",
   "execution_count": 43,
   "id": "bf81a1c7",
   "metadata": {},
   "outputs": [],
   "source": [
    "# method to create output from the input and kernel parameters \n",
    "def create_output(inp_c, inp_h, inp_w, ker_c, ker_h, ker_w, s, num_ker):\n",
    "    out_c, out_h, out_w = compute_out_vol(inp_c, inp_h, inp_w, ker_c, ker_h, ker_w, s, num_ker)\n",
    "    output = np.zeros([out_c, out_h, out_w])\n",
    "    # parse through every element of the output and compute the convolution value for that element\n",
    "    for k in range(num_ker):\n",
    "        for h in range(out_h):\n",
    "            for w in range(out_w):\n",
    "                for c in range(inp_c):\n",
    "                    output[k, h, w] += convolve(c, h, w, ker_c, ker_h, ker_w, s, k)\n",
    "    return output"
   ]
  },
  {
   "cell_type": "code",
   "execution_count": 44,
   "id": "ecdf905e",
   "metadata": {},
   "outputs": [],
   "source": [
    "output = create_output(inp_c, inp_h, inp_w, ker_c, ker_h, ker_w, s, num_ker)\n",
    "print('output')\n",
    "output_shape = output.shape\n",
    "print('ouput channels: {}, output height: {}, output weight: {}'.format(output_shape[0], output_shape[1], output_shape[2]))\n",
    "assert((out_c, out_h, out_w) == output_shape)\n",
    "print(output)"
   ]
  },
  {
   "cell_type": "code",
   "execution_count": null,
   "id": "0d7bfa12",
   "metadata": {},
   "outputs": [],
   "source": []
  }
 ],
 "metadata": {
  "kernelspec": {
   "display_name": "Python 3 (ipykernel)",
   "language": "python",
   "name": "python3"
  },
  "language_info": {
   "codemirror_mode": {
    "name": "ipython",
    "version": 3
   },
   "file_extension": ".py",
   "mimetype": "text/x-python",
   "name": "python",
   "nbconvert_exporter": "python",
   "pygments_lexer": "ipython3",
   "version": "3.10.9"
  }
 },
 "nbformat": 4,
 "nbformat_minor": 5
}
