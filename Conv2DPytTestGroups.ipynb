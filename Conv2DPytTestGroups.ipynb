{
 "cells": [
  {
   "cell_type": "markdown",
   "id": "b20a6f8d",
   "metadata": {},
   "source": [
    "### `Conv2DPytTestGroups` code"
   ]
  },
  {
   "cell_type": "code",
   "execution_count": 17,
   "id": "19182ede",
   "metadata": {},
   "outputs": [],
   "source": [
    "import numpy as np"
   ]
  },
  {
   "cell_type": "code",
   "execution_count": 18,
   "id": "7ed1691b",
   "metadata": {},
   "outputs": [],
   "source": [
    "class Conv2DPytTestGroups:\n",
    "    ''' Computes convolution given the input parameters '''\n",
    "    \n",
    "    ''' * The class implementation will be along the lines of torch.nn.Conv2D in order to \n",
    "          enable comparison of this NumPy only implementation and seamless testing\n",
    "        * Can expect extensive refactoring of the existing code in the days to come\n",
    "        * As part of refactoring, some code will be de-modularized\n",
    "        * Old code will be retained at the end of the notebook for reference\n",
    "    '''\n",
    "    '''\n",
    "        TODO:\n",
    "        * Implementing other features and caveats offered by nn.torch.Conv2D \n",
    "          (e.g., `groups` flag to enable depthwise convolution, uniform sampling of kernel weights etc.)\n",
    "        * Optimizing code\n",
    "    '''\n",
    "    \n",
    "    def __init__(\n",
    "        self, \n",
    "        in_channels, \n",
    "        out_channels, \n",
    "        kernel_size, \n",
    "        padding = 0, \n",
    "        stride = 1, \n",
    "        dilation = 1, \n",
    "        groups = 1, \n",
    "        bias = True, \n",
    "        padding_mode = 'zeros', \n",
    "        device = None, \n",
    "        dtype = None, \n",
    "        verbose = True, \n",
    "        debug = False\n",
    "        ):\n",
    "        super(Conv2DPytTestGroups, self).__init__()\n",
    "        \n",
    "        ''' mandatory parameters '''\n",
    "        self.in_channels = in_channels\n",
    "        self.out_channels = out_channels\n",
    "        self.kernel_size = kernel_size\n",
    "        \n",
    "        ''' optional parameters '''\n",
    "        self.padding = padding\n",
    "        self.stride = stride\n",
    "        self.dilation = dilation\n",
    "        self.groups = groups\n",
    "        \n",
    "        ''' optional parameters (dummy, yet to be implemented)'''\n",
    "        self.bias = bias\n",
    "        self.padding_mode = padding_mode\n",
    "        self.device = device\n",
    "        self.dtype = dtype\n",
    "        \n",
    "        ''' additional parameters (different from torch.nn.Conv2D)'''\n",
    "        self.verbose = verbose\n",
    "        self.verboseprint = print if self.verbose else lambda *a, **k: None\n",
    "        self.debug = debug\n",
    "        self.debugprint = print if self.debug else lambda *a, **k: None\n",
    "        self.verboseprint('*** parameters ***')\n",
    "        self.verboseprint('in_channels: {}, out_channels: {}, kernel_size: {}'.format(self.in_channels, self.out_channels, self.kernel_size))\n",
    "        self.verboseprint('padding: {}, stride: {}, dilation factor: {}'.format(self.padding, self.stride, self.dilation))\n",
    "        self.verboseprint('groups: {}, bias: {}, padding_mode: {}, device: {}, dtype: {}'.format(self.groups, self.bias, self.padding_mode, self.device, self.dtype))\n",
    "        self.verboseprint('\\n')\n",
    "    \n",
    "    def forward(self, _input, kernels):\n",
    "        ''' forward pass to perform convolution '''\n",
    "        \n",
    "        ''' do error checking '''\n",
    "        _input_n, _input_c, _input_h, _input_w = _input.shape\n",
    "        if _input_h + 2 * self.padding < self.dilation * (self.kernel_size[0] - 1) + 1: # check if (dilated) ker_h is valid\n",
    "            raise Exception('invalid input parameters: kernel height is larger than input height')\n",
    "        if _input_w + 2 * self.padding < self.dilation * (self.kernel_size[1] - 1) + 1: # check if (dilated) ker_w is valid\n",
    "            raise Exception('invalid input parameters: kernel width is larger than input width')\n",
    "        if ((_input_h + 2 * self.padding - (self.dilation * (self.kernel_size[0] - 1) + 1)) / self.stride) + 1 < 0: # check if out_h is valid\n",
    "            raise Exception('invalid input parameters: output height is negative')\n",
    "        if ((_input_h + 2 * self.padding - (self.dilation * (self.kernel_size[1] - 1) + 1)) / self.stride) + 1 < 0: # check if out_w is valid\n",
    "            raise Exception('invalid input parameters: output width is negative')\n",
    "        if  self.in_channels % self.groups != 0: # check if groups is valid\n",
    "            raise Exception('invalid input parameters: input channels is not divisible by groups')\n",
    "        if self.out_channels % self.groups != 0: # check if groups is valid\n",
    "            raise Exception('invalid input parametes: output channels is not divisible by groups')\n",
    "        if not (self.groups == 1 or self.groups == self.in_channels): # check if groups is valid - remove once groups is properly implemented\n",
    "            raise Exception('invalid input parameters: currently groups == 1 or groups == in_channels only supported')\n",
    "            \n",
    "        ''' add zero padding based on the input parameters '''\n",
    "        if self.padding != 0:\n",
    "            _input = np.array([[np.pad(channel,self.padding, 'constant', constant_values = 0) for channel in batch] for batch in _input])    \n",
    "            self.verboseprint('*** padded input image ***')\n",
    "            self.verboseprint('input batches: {}, input channels: {}, input height: {}, input weight: {}'.format(_input.shape[0], _input.shape[1], _input.shape[2], _input.shape[3]))\n",
    "            self.verboseprint(_input)\n",
    "            self.verboseprint('\\n')\n",
    "        if self.debug:\n",
    "            for b in range(_input.shape[0]):\n",
    "                _input[b] = (b+1) * np.ones_like(_input[b]) # define an image of all ones (twos etc.) based on the input parameters\n",
    "        \n",
    "        ''' use the provided kernels or create random kernels based on the input kernel parameters '''\n",
    "        if kernels is not None:\n",
    "            self.verboseprint('*** kernels ***')\n",
    "            self.verboseprint('kernels: {}, kernel channels: {}, kernel height: {}, kernel weight: {}'.format(self.out_channels, int(self.in_channels / self.groups), self.kernel_size[0], self.kernel_size[1]))\n",
    "        else:\n",
    "            kernels = []\n",
    "            self.verboseprint('*** kernels ***')\n",
    "            self.verboseprint('kernels: {}, kernel channels: {}, kernel height: {}, kernel weight: {}'.format(self.out_channels, int(self.in_channels / self.groups), self.kernel_size[0], self.kernel_size[1]))\n",
    "            for k in range(self.out_channels):\n",
    "                kernel = np.random.rand(int(self.in_channels/self.groups), self.kernel_size[0], self.kernel_size[1]) # define a random kernel based on the kernel parameters\n",
    "                if self.debug:\n",
    "                    kernel = k * np.ones_like(kernel)\n",
    "                kernels.append(kernel)\n",
    "                self.verboseprint('kernel {}'.format(k))\n",
    "                self.verboseprint(kernel)\n",
    "            self.verboseprint('\\n')\n",
    "        \n",
    "        ''' dilate a kernel '''\n",
    "        dil_ker_h = self.dilation * (self.kernel_size[0] - 1) + 1\n",
    "        dil_ker_w = self.dilation * (self.kernel_size[1] - 1) + 1\n",
    "        dil_kernels = []\n",
    "        for kernel in kernels:\n",
    "            dil_kernel = []\n",
    "            for channel in kernel:\n",
    "                dil_channel = np.zeros((dil_ker_h, dil_ker_w))\n",
    "                for row in range(len(channel)):\n",
    "                    for col in range(len(channel[0])):\n",
    "                        dil_channel[self.dilation*row][self.dilation*col] = channel[row][col]\n",
    "                dil_kernel.append(dil_channel.tolist())\n",
    "            dil_kernels.append(dil_kernel)\n",
    "        kernels, self.kernel_size = dil_kernels, (dil_ker_h, dil_ker_w)\n",
    "        self.verboseprint('*** dilated kernels ***')\n",
    "        self.verboseprint('kernels: {}, dilation factor: {}, kernel channels: {}, kernel height: {}, kernel weight: {}'.format(self.out_channels, self.dilation, int(self.in_channels / self.groups), self.kernel_size[0], self.kernel_size[1]))\n",
    "        for k in range(self.out_channels):\n",
    "            self.verboseprint('kernel {}'.format(k))\n",
    "            self.verboseprint(kernels[k])\n",
    "        self.verboseprint('\\n')\n",
    "        \n",
    "        ''' compute output volume from the input and kernel parameters '''\n",
    "        _input_n, _, _input_h, _input_w = _input.shape\n",
    "        out_n = int(_input_n)\n",
    "        out_c = int(self.out_channels)\n",
    "        out_h = int((_input_h - self.kernel_size[0])/self.stride) + 1\n",
    "        out_w = int((_input_w - self.kernel_size[1])/self.stride) + 1\n",
    "        output = np.zeros([out_n, out_c, out_h, out_w])\n",
    "        \n",
    "        ''' parse through every element of the output and compute the convolution value for that element '''\n",
    "        for b in range(out_n):\n",
    "            for k in range(out_c):\n",
    "                for h in range(out_h):\n",
    "                    for w in range(out_w):\n",
    "                        # convolve kernel over the input slices\n",
    "                        self.debugprint('kernel indices, image indices')\n",
    "                        self.debugprint('[c, h, w]', '[n, c, h, w]')\n",
    "                        convol_sum = 0\n",
    "                        ker_c = int(self.in_channels / self.groups)\n",
    "                        ker_h = self.kernel_size[0]\n",
    "                        ker_w = self.kernel_size[1]\n",
    "                        for c_ker in range(ker_c):\n",
    "                            for h_ker in range(ker_h):\n",
    "                                for w_ker in range(ker_w):\n",
    "                                    if self.groups == 1:\n",
    "                                        self.debugprint([c_ker, h_ker, w_ker], [b, c_ker, h_ker + self.stride * h, w_ker + self.stride * w])\n",
    "                                        convol_sum += kernels[k][c_ker][h_ker][w_ker] * _input[b][c_ker][h_ker + self.stride*h][w_ker + self.stride*w] # if groups == 1\n",
    "                                    elif self.groups == self.in_channels:\n",
    "                                        self.debugprint([c_ker, h_ker, w_ker], [b, k, h_ker + self.stride * h, w_ker + self.stride * w])\n",
    "                                        convol_sum += kernels[k][c_ker][h_ker][w_ker] * _input[b][k][h_ker + self.stride * h][w_ker + self.stride * w] # if groups == in_channels\n",
    "                                    else:\n",
    "                                        raise Exception('invalid input parameters: currently groups == 1 or groups == in_channels only supported')\n",
    "                        self.debugprint('\\n')\n",
    "                        output[b, k, h, w] += convol_sum\n",
    "        self.verboseprint('*** Conv2DPytTest output ***')\n",
    "        output_shape = output.shape\n",
    "        self.verboseprint('output batches: {}, ouput channels: {}, output height: {}, output weight: {}'.format(output_shape[0], output_shape[1], output_shape[2], output_shape[3]))\n",
    "        assert((out_n, out_c, out_h, out_w) == output_shape)\n",
    "        self.verboseprint(output)\n",
    "        self.verboseprint('\\n')\n",
    "        return output"
   ]
  },
  {
   "cell_type": "markdown",
   "id": "7450ac24",
   "metadata": {},
   "source": [
    "### Standalone test (random kernel, random input)"
   ]
  },
  {
   "cell_type": "code",
   "execution_count": 19,
   "id": "a0377df6",
   "metadata": {},
   "outputs": [],
   "source": [
    "debug = False # DO NOT CHANGE THIS while using Conv2DPytTest - TODO: modify this flag to `test`\n",
    "\n",
    "in_channels = 2 # input channels\n",
    "out_channels = 2 # output channels\n",
    "kernel_size = (2, 2) # kernel size\n",
    "\n",
    "padding = 1 # padding (optional)\n",
    "stride = 2 # stride (optional)\n",
    "dilation = 1 # dilation factor (optional)\n",
    "groups = 1 # groups (optional)\n",
    "\n",
    "in_batches = 2 # input batches\n",
    "in_h = 4 # input height\n",
    "in_w = 4 # input weight\n",
    "\n",
    "_input = np.random.rand(in_batches, in_channels, in_h, in_w) # define a random image based on the input parameters\n",
    "kernels = []\n",
    "for k in range(out_channels):\n",
    "    kernel = np.random.rand(int(in_channels / groups), kernel_size[0], kernel_size[1]) # define a random kernel based on the kernel parameters\n",
    "    kernels.append(kernel)"
   ]
  },
  {
   "cell_type": "code",
   "execution_count": 20,
   "id": "29c79bef",
   "metadata": {},
   "outputs": [],
   "source": [
    "# get Conv2DPytTest output with the random inputs\n",
    "\n",
    "conv2dpyttestgroups = Conv2DPytTestGroups(in_channels, out_channels, kernel_size, stride = stride, padding = padding, dilation = dilation, groups = groups, debug = debug, verbose = False) # call an instance of the class with the input parameters \n",
    "_output = conv2dpyttestgroups.forward(_input, kernels) # perform convolution"
   ]
  },
  {
   "cell_type": "code",
   "execution_count": 21,
   "id": "df346af0",
   "metadata": {},
   "outputs": [
    {
     "name": "stdout",
     "output_type": "stream",
     "text": [
      "*** PyTorch output ***\n",
      "tensor([[[[0.4720, 1.2445, 0.0458],\n",
      "          [0.6737, 1.8442, 0.1990],\n",
      "          [0.1922, 1.5642, 0.5151]],\n",
      "\n",
      "         [[0.3936, 1.1184, 0.1799],\n",
      "          [0.8662, 1.6801, 0.6207],\n",
      "          [0.5459, 1.7093, 0.1750]]],\n",
      "\n",
      "\n",
      "        [[[0.8826, 0.9902, 0.0622],\n",
      "          [0.8383, 1.7836, 1.0708],\n",
      "          [0.3067, 0.8336, 0.2855]],\n",
      "\n",
      "         [[0.3754, 0.5145, 0.3712],\n",
      "          [1.1382, 1.7281, 1.0648],\n",
      "          [0.8700, 0.9402, 0.1019]]]], dtype=torch.float64)\n"
     ]
    }
   ],
   "source": [
    "# get PyTorch output with the same random inputs as above\n",
    "\n",
    "import torch\n",
    "\n",
    "x = torch.DoubleTensor(_input)\n",
    "weights = torch.stack([torch.DoubleTensor(kernel) for kernel in kernels])\n",
    "output = torch.nn.functional.conv2d(x, weights, stride = stride, padding = padding, groups = groups)\n",
    "print(\"*** PyTorch output ***\")\n",
    "print(output)"
   ]
  },
  {
   "cell_type": "code",
   "execution_count": 22,
   "id": "d8e5a3f5",
   "metadata": {
    "scrolled": true
   },
   "outputs": [
    {
     "name": "stdout",
     "output_type": "stream",
     "text": [
      "True\n"
     ]
    }
   ],
   "source": [
    "# compare outputs of conv-Numpy and PyTorch\n",
    "print(torch.equal(torch.round(torch.DoubleTensor(_output)), torch.round(output))) # need to round the output due to precision difference"
   ]
  },
  {
   "cell_type": "markdown",
   "id": "c87813f3",
   "metadata": {},
   "source": [
    "### Extensive tests (random kernel, random input)"
   ]
  },
  {
   "cell_type": "code",
   "execution_count": 23,
   "id": "8b986f3c",
   "metadata": {},
   "outputs": [],
   "source": [
    "def valid_params(num_tests):\n",
    "    # generates `num_samples` number of valid input and kernel parameters \n",
    "    params_list = []\n",
    "    sample_count = 0\n",
    "    while sample_count < num_tests:\n",
    "        in_channels = np.random.randint(20) + 1 # input channels\n",
    "        out_channels = np.random.randint(40) + 1 # output channels\n",
    "        \n",
    "        ker_h = np.random.randint(20) + 1\n",
    "        ker_w = np.random.randint(20) + 1\n",
    "        kernel_size = (ker_h, ker_w) # kernel size\n",
    "        \n",
    "        padding = np.random.randint(10) + 1 # padding (optional)\n",
    "        stride = np.random.randint(5) + 1 # stride (optional)\n",
    "        dilation = np.random.randint(10) + 1 # dilation factor (optional)\n",
    "        groups = np.random.randint(in_channels) + 1 # groups (optional)\n",
    "        \n",
    "        in_batches = np.random.randint(5) + 1 # input batches\n",
    "        in_h = np.random.randint(30) + 5 # input height\n",
    "        in_w = np.random.randint(30) + 5 # input weight\n",
    "    \n",
    "        ker_h_flag, ker_w_flag, out_h_flag, out_w_flag, in_group_flag, out_group_flag, valid_group_flag = True, True, True, True, True, True, True\n",
    "        \n",
    "        if in_h + 2 * padding < dilation * (ker_h - 1) + 1: # check if (dilated) ker_h is valid\n",
    "            ker_h_flag = False\n",
    "        if in_w + 2 * padding < dilation * (ker_w - 1) + 1: # check if (dilated) ker_w is valid\n",
    "            ker_w_flag = False\n",
    "        if ((in_h + 2 * padding - (dilation * (ker_h - 1) + 1)) / stride) + 1 < 0: # check if out_h is valid\n",
    "            out_h_flag = False\n",
    "        if ((in_w + 2 * padding - (dilation * (ker_w - 1) + 1)) / stride) + 1 < 0: # check if out_w is valid\n",
    "            out_w_flag = False\n",
    "        if  in_channels % groups != 0: # check if groups is valid\n",
    "            in_group_flag = False\n",
    "        if out_channels % groups != 0: # check if groups is valid\n",
    "            out_group_flag = False\n",
    "        if not (groups == 1 or groups == in_channels): # check if groups is valid - remove once groups is properly implemented\n",
    "            valid_group_flag = False\n",
    "            \n",
    "        if ker_h_flag and ker_w_flag and out_h_flag and out_w_flag and in_group_flag and out_group_flag and valid_group_flag:\n",
    "            params_list.append({'in_channels': in_channels, 'out_channels': out_channels, 'kernel_size': kernel_size,\n",
    "                          'padding': padding, 'stride': stride, 'dilation': dilation, 'groups': groups, 'in_batches': in_batches,\n",
    "                          'in_h': in_h, 'in_w': in_w})\n",
    "            sample_count += 1\n",
    "    return params_list"
   ]
  },
  {
   "cell_type": "code",
   "execution_count": 24,
   "id": "472a4c0f",
   "metadata": {},
   "outputs": [
    {
     "name": "stdout",
     "output_type": "stream",
     "text": [
      "Number of tests: 100\n",
      "\n",
      "\n"
     ]
    },
    {
     "name": "stderr",
     "output_type": "stream",
     "text": [
      "\r",
      "  0%|                                                   | 0/100 [00:00<?, ?it/s]"
     ]
    },
    {
     "name": "stdout",
     "output_type": "stream",
     "text": [
      "Test: 0\n",
      "Params: {'in_channels': 12, 'out_channels': 40, 'kernel_size': (7, 2), 'padding': 10, 'stride': 1, 'dilation': 4, 'groups': 1, 'in_batches': 3, 'in_h': 21, 'in_w': 23}\n"
     ]
    },
    {
     "name": "stderr",
     "output_type": "stream",
     "text": [
      "\r",
      "  1%|▍                                       | 1/100 [05:19<8:46:54, 319.34s/it]"
     ]
    },
    {
     "name": "stdout",
     "output_type": "stream",
     "text": [
      "Result: True\n",
      "\n",
      "\n",
      "Test: 1\n",
      "Params: {'in_channels': 3, 'out_channels': 32, 'kernel_size': (2, 2), 'padding': 7, 'stride': 3, 'dilation': 8, 'groups': 1, 'in_batches': 5, 'in_h': 32, 'in_w': 28}\n"
     ]
    },
    {
     "name": "stderr",
     "output_type": "stream",
     "text": [
      "\r",
      "  2%|▊                                       | 2/100 [05:32<3:47:20, 139.18s/it]"
     ]
    },
    {
     "name": "stdout",
     "output_type": "stream",
     "text": [
      "Result: True\n",
      "\n",
      "\n",
      "Test: 2\n",
      "Params: {'in_channels': 4, 'out_channels': 5, 'kernel_size': (8, 4), 'padding': 10, 'stride': 1, 'dilation': 3, 'groups': 1, 'in_batches': 5, 'in_h': 34, 'in_w': 9}\n"
     ]
    },
    {
     "name": "stderr",
     "output_type": "stream",
     "text": [
      "  6%|██▌                                        | 6/100 [06:03<47:42, 30.46s/it]"
     ]
    },
    {
     "name": "stdout",
     "output_type": "stream",
     "text": [
      "Result: True\n",
      "\n",
      "\n",
      "Test: 3\n",
      "Params: {'in_channels': 2, 'out_channels': 22, 'kernel_size': (5, 17), 'padding': 10, 'stride': 3, 'dilation': 1, 'groups': 2, 'in_batches': 4, 'in_h': 9, 'in_w': 28}\n",
      "index 2 is out of bounds for axis 0 with size 2\n",
      "Result: True\n",
      "\n",
      "\n",
      "Test: 4\n",
      "Params: {'in_channels': 1, 'out_channels': 6, 'kernel_size': (9, 3), 'padding': 1, 'stride': 5, 'dilation': 1, 'groups': 1, 'in_batches': 1, 'in_h': 16, 'in_w': 34}\n",
      "Result: True\n",
      "\n",
      "\n",
      "Test: 5\n",
      "Params: {'in_channels': 3, 'out_channels': 24, 'kernel_size': (5, 1), 'padding': 10, 'stride': 2, 'dilation': 7, 'groups': 3, 'in_batches': 1, 'in_h': 26, 'in_w': 27}\n",
      "index 3 is out of bounds for axis 0 with size 3\n",
      "Result: True\n",
      "\n",
      "\n",
      "Test: 6\n",
      "Params: {'in_channels': 4, 'out_channels': 23, 'kernel_size': (6, 3), 'padding': 4, 'stride': 1, 'dilation': 1, 'groups': 1, 'in_batches': 2, 'in_h': 23, 'in_w': 14}\n",
      "Result: True\n",
      "\n",
      "\n",
      "Test: 7\n",
      "Params: {'in_channels': 8, 'out_channels': 1, 'kernel_size': (8, 17), 'padding': 8, 'stride': 4, 'dilation': 1, 'groups': 1, 'in_batches': 3, 'in_h': 30, 'in_w': 19}\n",
      "Result: True\n",
      "\n",
      "\n",
      "Test: 8\n",
      "Params: {'in_channels': 1, 'out_channels': 34, 'kernel_size': (3, 1), 'padding': 6, 'stride': 1, 'dilation': 6, 'groups': 1, 'in_batches': 2, 'in_h': 24, 'in_w': 12}\n"
     ]
    },
    {
     "name": "stderr",
     "output_type": "stream",
     "text": [
      "\r",
      "  9%|███▊                                       | 9/100 [06:09<25:08, 16.58s/it]"
     ]
    },
    {
     "name": "stdout",
     "output_type": "stream",
     "text": [
      "Result: True\n",
      "\n",
      "\n",
      "Test: 9\n",
      "Params: {'in_channels': 2, 'out_channels': 35, 'kernel_size': (15, 13), 'padding': 10, 'stride': 4, 'dilation': 2, 'groups': 1, 'in_batches': 4, 'in_h': 22, 'in_w': 14}\n"
     ]
    },
    {
     "name": "stderr",
     "output_type": "stream",
     "text": [
      "\r",
      " 11%|████▌                                     | 11/100 [06:14<18:02, 12.16s/it]"
     ]
    },
    {
     "name": "stdout",
     "output_type": "stream",
     "text": [
      "Result: True\n",
      "\n",
      "\n",
      "Test: 10\n",
      "Params: {'in_channels': 2, 'out_channels': 18, 'kernel_size': (3, 8), 'padding': 1, 'stride': 1, 'dilation': 4, 'groups': 2, 'in_batches': 2, 'in_h': 10, 'in_w': 29}\n",
      "invalid input parameters: output width is negative\n",
      "Result: True\n",
      "\n",
      "\n",
      "Test: 11\n",
      "Params: {'in_channels': 2, 'out_channels': 20, 'kernel_size': (7, 10), 'padding': 4, 'stride': 4, 'dilation': 1, 'groups': 1, 'in_batches': 5, 'in_h': 29, 'in_w': 23}\n"
     ]
    },
    {
     "name": "stderr",
     "output_type": "stream",
     "text": [
      "\r",
      " 12%|█████                                     | 12/100 [06:16<14:56, 10.19s/it]"
     ]
    },
    {
     "name": "stdout",
     "output_type": "stream",
     "text": [
      "Result: True\n",
      "\n",
      "\n",
      "Test: 12\n",
      "Params: {'in_channels': 10, 'out_channels': 35, 'kernel_size': (11, 16), 'padding': 4, 'stride': 3, 'dilation': 1, 'groups': 1, 'in_batches': 3, 'in_h': 20, 'in_w': 15}\n"
     ]
    },
    {
     "name": "stderr",
     "output_type": "stream",
     "text": [
      "\r",
      " 13%|█████▍                                    | 13/100 [06:23<13:54,  9.60s/it]"
     ]
    },
    {
     "name": "stdout",
     "output_type": "stream",
     "text": [
      "Result: True\n",
      "\n",
      "\n",
      "Test: 13\n",
      "Params: {'in_channels': 6, 'out_channels': 6, 'kernel_size': (3, 2), 'padding': 10, 'stride': 2, 'dilation': 7, 'groups': 6, 'in_batches': 5, 'in_h': 24, 'in_w': 11}\n"
     ]
    },
    {
     "name": "stderr",
     "output_type": "stream",
     "text": [
      "\r",
      " 14%|█████▉                                    | 14/100 [06:25<11:06,  7.75s/it]"
     ]
    },
    {
     "name": "stdout",
     "output_type": "stream",
     "text": [
      "Result: True\n",
      "\n",
      "\n",
      "Test: 14\n",
      "Params: {'in_channels': 15, 'out_channels': 10, 'kernel_size': (3, 1), 'padding': 7, 'stride': 4, 'dilation': 4, 'groups': 1, 'in_batches': 1, 'in_h': 18, 'in_w': 33}\n"
     ]
    },
    {
     "name": "stderr",
     "output_type": "stream",
     "text": [
      "\r",
      " 15%|██████▎                                   | 15/100 [06:25<08:21,  5.90s/it]"
     ]
    },
    {
     "name": "stdout",
     "output_type": "stream",
     "text": [
      "Result: True\n",
      "\n",
      "\n",
      "Test: 15\n",
      "Params: {'in_channels': 11, 'out_channels': 8, 'kernel_size': (6, 19), 'padding': 3, 'stride': 1, 'dilation': 1, 'groups': 1, 'in_batches': 5, 'in_h': 5, 'in_w': 23}\n",
      "invalid input parameters: output width is negative\n",
      "Result: True\n",
      "\n",
      "\n",
      "Test: 16\n",
      "Params: {'in_channels': 11, 'out_channels': 38, 'kernel_size': (17, 18), 'padding': 9, 'stride': 5, 'dilation': 2, 'groups': 1, 'in_batches': 3, 'in_h': 22, 'in_w': 19}\n"
     ]
    },
    {
     "name": "stderr",
     "output_type": "stream",
     "text": [
      "\r",
      " 17%|███████▏                                  | 17/100 [06:31<06:37,  4.79s/it]"
     ]
    },
    {
     "name": "stdout",
     "output_type": "stream",
     "text": [
      "Result: True\n",
      "\n",
      "\n",
      "Test: 17\n",
      "Params: {'in_channels': 1, 'out_channels': 25, 'kernel_size': (11, 12), 'padding': 10, 'stride': 5, 'dilation': 2, 'groups': 1, 'in_batches': 4, 'in_h': 14, 'in_w': 12}\n"
     ]
    },
    {
     "name": "stderr",
     "output_type": "stream",
     "text": [
      "\r",
      " 18%|███████▌                                  | 18/100 [06:32<05:15,  3.84s/it]"
     ]
    },
    {
     "name": "stdout",
     "output_type": "stream",
     "text": [
      "Result: True\n",
      "\n",
      "\n",
      "Test: 18\n",
      "Params: {'in_channels': 4, 'out_channels': 20, 'kernel_size': (5, 2), 'padding': 7, 'stride': 5, 'dilation': 5, 'groups': 1, 'in_batches': 1, 'in_h': 10, 'in_w': 11}\n",
      "Result: True\n",
      "\n",
      "\n",
      "Test: 19\n",
      "Params: {'in_channels': 10, 'out_channels': 20, 'kernel_size': (7, 8), 'padding': 6, 'stride': 1, 'dilation': 1, 'groups': 10, 'in_batches': 1, 'in_h': 28, 'in_w': 10}\n"
     ]
    },
    {
     "name": "stderr",
     "output_type": "stream",
     "text": [
      "\r",
      " 20%|████████▍                                 | 20/100 [06:33<03:18,  2.48s/it]"
     ]
    },
    {
     "name": "stdout",
     "output_type": "stream",
     "text": [
      "index 10 is out of bounds for axis 0 with size 10\n",
      "Result: True\n",
      "\n",
      "\n",
      "Test: 20\n",
      "Params: {'in_channels': 1, 'out_channels': 37, 'kernel_size': (4, 2), 'padding': 2, 'stride': 1, 'dilation': 4, 'groups': 1, 'in_batches': 2, 'in_h': 20, 'in_w': 7}\n"
     ]
    },
    {
     "name": "stderr",
     "output_type": "stream",
     "text": [
      " 22%|█████████▏                                | 22/100 [06:34<02:09,  1.66s/it]"
     ]
    },
    {
     "name": "stdout",
     "output_type": "stream",
     "text": [
      "Result: True\n",
      "\n",
      "\n",
      "Test: 21\n",
      "Params: {'in_channels': 1, 'out_channels': 40, 'kernel_size': (3, 18), 'padding': 9, 'stride': 4, 'dilation': 2, 'groups': 1, 'in_batches': 1, 'in_h': 16, 'in_w': 19}\n",
      "Result: True\n",
      "\n",
      "\n",
      "Test: 22\n",
      "Params: {'in_channels': 1, 'out_channels': 9, 'kernel_size': (9, 10), 'padding': 9, 'stride': 4, 'dilation': 3, 'groups': 1, 'in_batches': 1, 'in_h': 22, 'in_w': 13}\n",
      "Result: True\n",
      "\n",
      "\n",
      "Test: 23\n",
      "Params: {'in_channels': 3, 'out_channels': 17, 'kernel_size': (10, 5), 'padding': 7, 'stride': 3, 'dilation': 5, 'groups': 1, 'in_batches': 3, 'in_h': 33, 'in_w': 14}\n"
     ]
    },
    {
     "name": "stderr",
     "output_type": "stream",
     "text": [
      "\r",
      " 24%|██████████                                | 24/100 [06:35<01:30,  1.20s/it]"
     ]
    },
    {
     "name": "stdout",
     "output_type": "stream",
     "text": [
      "Result: True\n",
      "\n",
      "\n",
      "Test: 24\n",
      "Params: {'in_channels': 7, 'out_channels': 12, 'kernel_size': (12, 17), 'padding': 10, 'stride': 5, 'dilation': 1, 'groups': 1, 'in_batches': 4, 'in_h': 7, 'in_w': 8}\n"
     ]
    },
    {
     "name": "stderr",
     "output_type": "stream",
     "text": [
      "\r",
      " 25%|██████████▌                               | 25/100 [06:37<01:39,  1.33s/it]"
     ]
    },
    {
     "name": "stdout",
     "output_type": "stream",
     "text": [
      "Result: True\n",
      "\n",
      "\n",
      "Test: 25\n",
      "Params: {'in_channels': 2, 'out_channels': 22, 'kernel_size': (5, 2), 'padding': 10, 'stride': 1, 'dilation': 1, 'groups': 1, 'in_batches': 2, 'in_h': 9, 'in_w': 21}\n"
     ]
    },
    {
     "name": "stderr",
     "output_type": "stream",
     "text": [
      "\r",
      " 26%|██████████▉                               | 26/100 [06:39<01:53,  1.54s/it]"
     ]
    },
    {
     "name": "stdout",
     "output_type": "stream",
     "text": [
      "Result: True\n",
      "\n",
      "\n",
      "Test: 26\n",
      "Params: {'in_channels': 3, 'out_channels': 36, 'kernel_size': (1, 4), 'padding': 9, 'stride': 5, 'dilation': 2, 'groups': 1, 'in_batches': 5, 'in_h': 5, 'in_w': 28}\n"
     ]
    },
    {
     "name": "stderr",
     "output_type": "stream",
     "text": [
      "\r",
      " 27%|███████████▎                              | 27/100 [06:39<01:31,  1.25s/it]"
     ]
    },
    {
     "name": "stdout",
     "output_type": "stream",
     "text": [
      "Result: True\n",
      "\n",
      "\n",
      "Test: 27\n",
      "Params: {'in_channels': 1, 'out_channels': 31, 'kernel_size': (4, 5), 'padding': 10, 'stride': 3, 'dilation': 9, 'groups': 1, 'in_batches': 5, 'in_h': 34, 'in_w': 20}\n"
     ]
    },
    {
     "name": "stderr",
     "output_type": "stream",
     "text": [
      "\r",
      " 28%|███████████▊                              | 28/100 [06:45<03:03,  2.56s/it]"
     ]
    },
    {
     "name": "stdout",
     "output_type": "stream",
     "text": [
      "Result: True\n",
      "\n",
      "\n",
      "Test: 28\n",
      "Params: {'in_channels': 2, 'out_channels': 13, 'kernel_size': (3, 6), 'padding': 9, 'stride': 2, 'dilation': 10, 'groups': 1, 'in_batches': 2, 'in_h': 29, 'in_w': 34}\n",
      "invalid input parameters: output width is negative\n",
      "Result: True\n",
      "\n",
      "\n",
      "Test: 29\n",
      "Params: {'in_channels': 1, 'out_channels': 22, 'kernel_size': (2, 7), 'padding': 8, 'stride': 5, 'dilation': 5, 'groups': 1, 'in_batches': 5, 'in_h': 33, 'in_w': 29}\n"
     ]
    },
    {
     "name": "stderr",
     "output_type": "stream",
     "text": [
      "\r",
      " 30%|████████████▌                             | 30/100 [06:47<01:58,  1.70s/it]"
     ]
    },
    {
     "name": "stdout",
     "output_type": "stream",
     "text": [
      "Result: True\n",
      "\n",
      "\n",
      "Test: 30\n",
      "Params: {'in_channels': 4, 'out_channels': 20, 'kernel_size': (4, 11), 'padding': 3, 'stride': 4, 'dilation': 1, 'groups': 4, 'in_batches': 4, 'in_h': 25, 'in_w': 6}\n",
      "index 4 is out of bounds for axis 0 with size 4\n",
      "Result: True\n",
      "\n",
      "\n",
      "Test: 31\n",
      "Params: {'in_channels': 5, 'out_channels': 14, 'kernel_size': (12, 4), 'padding': 8, 'stride': 1, 'dilation': 3, 'groups': 1, 'in_batches': 2, 'in_h': 25, 'in_w': 12}\n"
     ]
    },
    {
     "name": "stderr",
     "output_type": "stream",
     "text": [
      " 34%|██████████████▎                           | 34/100 [07:02<02:54,  2.64s/it]"
     ]
    },
    {
     "name": "stdout",
     "output_type": "stream",
     "text": [
      "Result: True\n",
      "\n",
      "\n",
      "Test: 32\n",
      "Params: {'in_channels': 2, 'out_channels': 24, 'kernel_size': (5, 5), 'padding': 8, 'stride': 5, 'dilation': 7, 'groups': 2, 'in_batches': 5, 'in_h': 22, 'in_w': 13}\n",
      "index 2 is out of bounds for axis 0 with size 2\n",
      "Result: True\n",
      "\n",
      "\n",
      "Test: 33\n",
      "Params: {'in_channels': 2, 'out_channels': 21, 'kernel_size': (2, 2), 'padding': 7, 'stride': 3, 'dilation': 4, 'groups': 1, 'in_batches': 1, 'in_h': 6, 'in_w': 24}\n",
      "Result: True\n",
      "\n",
      "\n",
      "Test: 34\n",
      "Params: {'in_channels': 1, 'out_channels': 4, 'kernel_size': (17, 8), 'padding': 10, 'stride': 1, 'dilation': 2, 'groups': 1, 'in_batches': 5, 'in_h': 18, 'in_w': 30}\n"
     ]
    },
    {
     "name": "stderr",
     "output_type": "stream",
     "text": [
      "\r",
      " 35%|██████████████▋                           | 35/100 [07:07<03:16,  3.02s/it]"
     ]
    },
    {
     "name": "stdout",
     "output_type": "stream",
     "text": [
      "Result: True\n",
      "\n",
      "\n",
      "Test: 35\n",
      "Params: {'in_channels': 1, 'out_channels': 15, 'kernel_size': (15, 12), 'padding': 5, 'stride': 3, 'dilation': 1, 'groups': 1, 'in_batches': 4, 'in_h': 16, 'in_w': 11}\n"
     ]
    },
    {
     "name": "stderr",
     "output_type": "stream",
     "text": [
      "\r",
      " 36%|███████████████                           | 36/100 [07:07<02:35,  2.43s/it]"
     ]
    },
    {
     "name": "stdout",
     "output_type": "stream",
     "text": [
      "Result: True\n",
      "\n",
      "\n",
      "Test: 36\n",
      "Params: {'in_channels': 1, 'out_channels': 31, 'kernel_size': (9, 2), 'padding': 10, 'stride': 3, 'dilation': 3, 'groups': 1, 'in_batches': 4, 'in_h': 33, 'in_w': 29}\n"
     ]
    },
    {
     "name": "stderr",
     "output_type": "stream",
     "text": [
      " 38%|███████████████▉                          | 38/100 [07:12<02:18,  2.23s/it]"
     ]
    },
    {
     "name": "stdout",
     "output_type": "stream",
     "text": [
      "Result: True\n",
      "\n",
      "\n",
      "Test: 37\n",
      "Params: {'in_channels': 2, 'out_channels': 32, 'kernel_size': (5, 1), 'padding': 4, 'stride': 5, 'dilation': 1, 'groups': 1, 'in_batches': 5, 'in_h': 33, 'in_w': 12}\n",
      "Result: True\n",
      "\n",
      "\n",
      "Test: 38\n",
      "Params: {'in_channels': 2, 'out_channels': 26, 'kernel_size': (3, 2), 'padding': 8, 'stride': 5, 'dilation': 4, 'groups': 2, 'in_batches': 3, 'in_h': 22, 'in_w': 8}\n",
      "index 2 is out of bounds for axis 0 with size 2\n",
      "Result: True\n",
      "\n",
      "\n",
      "Test: 39\n",
      "Params: {'in_channels': 5, 'out_channels': 18, 'kernel_size': (5, 10), 'padding': 8, 'stride': 5, 'dilation': 1, 'groups': 1, 'in_batches': 2, 'in_h': 15, 'in_w': 22}\n"
     ]
    },
    {
     "name": "stderr",
     "output_type": "stream",
     "text": [
      "\r",
      " 40%|████████████████▊                         | 40/100 [07:13<01:26,  1.44s/it]"
     ]
    },
    {
     "name": "stdout",
     "output_type": "stream",
     "text": [
      "Result: True\n",
      "\n",
      "\n",
      "Test: 40\n",
      "Params: {'in_channels': 19, 'out_channels': 18, 'kernel_size': (5, 4), 'padding': 9, 'stride': 5, 'dilation': 2, 'groups': 1, 'in_batches': 4, 'in_h': 24, 'in_w': 11}\n"
     ]
    },
    {
     "name": "stderr",
     "output_type": "stream",
     "text": [
      "\r",
      " 41%|█████████████████▏                        | 41/100 [07:19<02:36,  2.65s/it]"
     ]
    },
    {
     "name": "stdout",
     "output_type": "stream",
     "text": [
      "Result: True\n",
      "\n",
      "\n",
      "Test: 41\n",
      "Params: {'in_channels': 9, 'out_channels': 29, 'kernel_size': (1, 6), 'padding': 9, 'stride': 5, 'dilation': 8, 'groups': 1, 'in_batches': 5, 'in_h': 20, 'in_w': 32}\n"
     ]
    },
    {
     "name": "stderr",
     "output_type": "stream",
     "text": [
      "\r",
      " 42%|█████████████████▋                        | 42/100 [07:21<02:21,  2.45s/it]"
     ]
    },
    {
     "name": "stdout",
     "output_type": "stream",
     "text": [
      "Result: True\n",
      "\n",
      "\n",
      "Test: 42\n",
      "Params: {'in_channels': 3, 'out_channels': 17, 'kernel_size': (16, 15), 'padding': 5, 'stride': 1, 'dilation': 1, 'groups': 1, 'in_batches': 5, 'in_h': 14, 'in_w': 23}\n"
     ]
    },
    {
     "name": "stderr",
     "output_type": "stream",
     "text": [
      "\r",
      " 43%|██████████████████                        | 43/100 [07:44<07:21,  7.74s/it]"
     ]
    },
    {
     "name": "stdout",
     "output_type": "stream",
     "text": [
      "Result: True\n",
      "\n",
      "\n",
      "Test: 43\n",
      "Params: {'in_channels': 6, 'out_channels': 8, 'kernel_size': (7, 7), 'padding': 9, 'stride': 4, 'dilation': 1, 'groups': 1, 'in_batches': 5, 'in_h': 31, 'in_w': 21}\n"
     ]
    },
    {
     "name": "stderr",
     "output_type": "stream",
     "text": [
      "\r",
      " 44%|██████████████████▍                       | 44/100 [07:46<05:53,  6.32s/it]"
     ]
    },
    {
     "name": "stdout",
     "output_type": "stream",
     "text": [
      "Result: True\n",
      "\n",
      "\n",
      "Test: 44\n",
      "Params: {'in_channels': 1, 'out_channels': 15, 'kernel_size': (4, 1), 'padding': 10, 'stride': 4, 'dilation': 10, 'groups': 1, 'in_batches': 4, 'in_h': 27, 'in_w': 28}\n"
     ]
    },
    {
     "name": "stderr",
     "output_type": "stream",
     "text": [
      "\r",
      " 45%|██████████████████▉                       | 45/100 [07:47<04:14,  4.63s/it]"
     ]
    },
    {
     "name": "stdout",
     "output_type": "stream",
     "text": [
      "Result: True\n",
      "\n",
      "\n",
      "Test: 45\n",
      "Params: {'in_channels': 2, 'out_channels': 5, 'kernel_size': (13, 17), 'padding': 9, 'stride': 1, 'dilation': 2, 'groups': 1, 'in_batches': 5, 'in_h': 33, 'in_w': 21}\n"
     ]
    },
    {
     "name": "stderr",
     "output_type": "stream",
     "text": [
      "\r",
      " 46%|███████████████████▎                      | 46/100 [08:03<07:14,  8.04s/it]"
     ]
    },
    {
     "name": "stdout",
     "output_type": "stream",
     "text": [
      "Result: True\n",
      "\n",
      "\n",
      "Test: 46\n",
      "Params: {'in_channels': 13, 'out_channels': 16, 'kernel_size': (2, 2), 'padding': 8, 'stride': 5, 'dilation': 4, 'groups': 1, 'in_batches': 2, 'in_h': 20, 'in_w': 31}\n"
     ]
    },
    {
     "name": "stderr",
     "output_type": "stream",
     "text": [
      "\r",
      " 47%|███████████████████▋                      | 47/100 [08:05<05:25,  6.15s/it]"
     ]
    },
    {
     "name": "stdout",
     "output_type": "stream",
     "text": [
      "Result: True\n",
      "\n",
      "\n",
      "Test: 47\n",
      "Params: {'in_channels': 3, 'out_channels': 20, 'kernel_size': (8, 8), 'padding': 3, 'stride': 4, 'dilation': 1, 'groups': 1, 'in_batches': 5, 'in_h': 15, 'in_w': 24}\n"
     ]
    },
    {
     "name": "stderr",
     "output_type": "stream",
     "text": [
      "\r",
      " 48%|████████████████████▏                     | 48/100 [08:06<04:01,  4.64s/it]"
     ]
    },
    {
     "name": "stdout",
     "output_type": "stream",
     "text": [
      "Result: True\n",
      "\n",
      "\n",
      "Test: 48\n",
      "Params: {'in_channels': 11, 'out_channels': 22, 'kernel_size': (4, 7), 'padding': 6, 'stride': 5, 'dilation': 4, 'groups': 1, 'in_batches': 5, 'in_h': 19, 'in_w': 17}\n"
     ]
    },
    {
     "name": "stderr",
     "output_type": "stream",
     "text": [
      "\r",
      " 49%|████████████████████▌                     | 49/100 [08:09<03:37,  4.27s/it]"
     ]
    },
    {
     "name": "stdout",
     "output_type": "stream",
     "text": [
      "Result: True\n",
      "\n",
      "\n",
      "Test: 49\n",
      "Params: {'in_channels': 2, 'out_channels': 20, 'kernel_size': (18, 17), 'padding': 9, 'stride': 1, 'dilation': 1, 'groups': 1, 'in_batches': 4, 'in_h': 25, 'in_w': 22}\n"
     ]
    },
    {
     "name": "stderr",
     "output_type": "stream",
     "text": [
      "\r",
      " 50%|█████████████████████                     | 50/100 [09:14<18:26, 22.14s/it]"
     ]
    },
    {
     "name": "stdout",
     "output_type": "stream",
     "text": [
      "Result: True\n",
      "\n",
      "\n",
      "Test: 50\n",
      "Params: {'in_channels': 7, 'out_channels': 27, 'kernel_size': (14, 17), 'padding': 10, 'stride': 4, 'dilation': 2, 'groups': 1, 'in_batches': 5, 'in_h': 24, 'in_w': 30}\n"
     ]
    },
    {
     "name": "stderr",
     "output_type": "stream",
     "text": [
      "\r",
      " 51%|█████████████████████▍                    | 51/100 [09:59<23:45, 29.09s/it]"
     ]
    },
    {
     "name": "stdout",
     "output_type": "stream",
     "text": [
      "Result: True\n",
      "\n",
      "\n",
      "Test: 51\n",
      "Params: {'in_channels': 2, 'out_channels': 27, 'kernel_size': (5, 16), 'padding': 8, 'stride': 3, 'dilation': 1, 'groups': 1, 'in_batches': 2, 'in_h': 23, 'in_w': 17}\n"
     ]
    },
    {
     "name": "stderr",
     "output_type": "stream",
     "text": [
      "\r",
      " 52%|█████████████████████▊                    | 52/100 [10:01<16:39, 20.82s/it]"
     ]
    },
    {
     "name": "stdout",
     "output_type": "stream",
     "text": [
      "Result: True\n",
      "\n",
      "\n",
      "Test: 52\n",
      "Params: {'in_channels': 4, 'out_channels': 31, 'kernel_size': (7, 7), 'padding': 10, 'stride': 5, 'dilation': 3, 'groups': 1, 'in_batches': 1, 'in_h': 5, 'in_w': 24}\n"
     ]
    },
    {
     "name": "stderr",
     "output_type": "stream",
     "text": [
      "\r",
      " 53%|██████████████████████▎                   | 53/100 [10:02<11:42, 14.94s/it]"
     ]
    },
    {
     "name": "stdout",
     "output_type": "stream",
     "text": [
      "Result: True\n",
      "\n",
      "\n",
      "Test: 53\n",
      "Params: {'in_channels': 1, 'out_channels': 35, 'kernel_size': (19, 7), 'padding': 2, 'stride': 2, 'dilation': 1, 'groups': 1, 'in_batches': 1, 'in_h': 31, 'in_w': 30}\n"
     ]
    },
    {
     "name": "stderr",
     "output_type": "stream",
     "text": [
      "\r",
      " 54%|██████████████████████▋                   | 54/100 [10:03<08:19, 10.86s/it]"
     ]
    },
    {
     "name": "stdout",
     "output_type": "stream",
     "text": [
      "Result: True\n",
      "\n",
      "\n",
      "Test: 54\n",
      "Params: {'in_channels': 1, 'out_channels': 32, 'kernel_size': (2, 9), 'padding': 7, 'stride': 5, 'dilation': 1, 'groups': 1, 'in_batches': 2, 'in_h': 7, 'in_w': 6}\n",
      "Result: True\n",
      "\n",
      "\n",
      "Test: 55\n",
      "Params: {'in_channels': 13, 'out_channels': 40, 'kernel_size': (7, 2), 'padding': 3, 'stride': 3, 'dilation': 3, 'groups': 1, 'in_batches': 5, 'in_h': 20, 'in_w': 12}\n"
     ]
    },
    {
     "name": "stderr",
     "output_type": "stream",
     "text": [
      "\r",
      " 56%|███████████████████████▌                  | 56/100 [10:10<05:24,  7.37s/it]"
     ]
    },
    {
     "name": "stdout",
     "output_type": "stream",
     "text": [
      "Result: True\n",
      "\n",
      "\n",
      "Test: 56\n",
      "Params: {'in_channels': 4, 'out_channels': 4, 'kernel_size': (2, 3), 'padding': 5, 'stride': 4, 'dilation': 1, 'groups': 4, 'in_batches': 5, 'in_h': 5, 'in_w': 10}\n",
      "Result: True\n",
      "\n",
      "\n",
      "Test: 57\n",
      "Params: {'in_channels': 1, 'out_channels': 38, 'kernel_size': (20, 8), 'padding': 9, 'stride': 4, 'dilation': 1, 'groups': 1, 'in_batches': 2, 'in_h': 12, 'in_w': 28}\n"
     ]
    },
    {
     "name": "stderr",
     "output_type": "stream",
     "text": [
      "\r",
      " 58%|████████████████████████▎                 | 58/100 [10:10<03:13,  4.61s/it]"
     ]
    },
    {
     "name": "stdout",
     "output_type": "stream",
     "text": [
      "Result: True\n",
      "\n",
      "\n",
      "Test: 58\n",
      "Params: {'in_channels': 1, 'out_channels': 23, 'kernel_size': (16, 4), 'padding': 7, 'stride': 5, 'dilation': 2, 'groups': 1, 'in_batches': 4, 'in_h': 28, 'in_w': 31}\n"
     ]
    },
    {
     "name": "stderr",
     "output_type": "stream",
     "text": [
      "\r",
      " 59%|████████████████████████▊                 | 59/100 [10:11<02:36,  3.82s/it]"
     ]
    },
    {
     "name": "stdout",
     "output_type": "stream",
     "text": [
      "Result: True\n",
      "\n",
      "\n",
      "Test: 59\n",
      "Params: {'in_channels': 2, 'out_channels': 32, 'kernel_size': (8, 16), 'padding': 7, 'stride': 5, 'dilation': 2, 'groups': 1, 'in_batches': 1, 'in_h': 14, 'in_w': 30}\n"
     ]
    },
    {
     "name": "stderr",
     "output_type": "stream",
     "text": [
      "\r",
      " 60%|█████████████████████████▏                | 60/100 [10:12<02:01,  3.05s/it]"
     ]
    },
    {
     "name": "stdout",
     "output_type": "stream",
     "text": [
      "Result: True\n",
      "\n",
      "\n",
      "Test: 60\n",
      "Params: {'in_channels': 2, 'out_channels': 16, 'kernel_size': (16, 6), 'padding': 7, 'stride': 2, 'dilation': 1, 'groups': 2, 'in_batches': 1, 'in_h': 19, 'in_w': 27}\n",
      "index 2 is out of bounds for axis 0 with size 2\n",
      "Result: True\n",
      "\n",
      "\n",
      "Test: 61\n",
      "Params: {'in_channels': 1, 'out_channels': 38, 'kernel_size': (11, 13), 'padding': 5, 'stride': 1, 'dilation': 1, 'groups': 1, 'in_batches': 2, 'in_h': 34, 'in_w': 23}\n"
     ]
    },
    {
     "name": "stderr",
     "output_type": "stream",
     "text": [
      "\r",
      " 62%|██████████████████████████                | 62/100 [10:29<03:18,  5.21s/it]"
     ]
    },
    {
     "name": "stdout",
     "output_type": "stream",
     "text": [
      "Result: True\n",
      "\n",
      "\n",
      "Test: 62\n",
      "Params: {'in_channels': 10, 'out_channels': 8, 'kernel_size': (8, 2), 'padding': 2, 'stride': 4, 'dilation': 1, 'groups': 1, 'in_batches': 4, 'in_h': 17, 'in_w': 18}\n"
     ]
    },
    {
     "name": "stderr",
     "output_type": "stream",
     "text": [
      "\r",
      " 63%|██████████████████████████▍               | 63/100 [10:29<02:32,  4.11s/it]"
     ]
    },
    {
     "name": "stdout",
     "output_type": "stream",
     "text": [
      "Result: True\n",
      "\n",
      "\n",
      "Test: 63\n",
      "Params: {'in_channels': 1, 'out_channels': 36, 'kernel_size': (7, 3), 'padding': 5, 'stride': 2, 'dilation': 6, 'groups': 1, 'in_batches': 3, 'in_h': 29, 'in_w': 28}\n"
     ]
    },
    {
     "name": "stderr",
     "output_type": "stream",
     "text": [
      "\r",
      " 64%|██████████████████████████▉               | 64/100 [10:32<02:17,  3.82s/it]"
     ]
    },
    {
     "name": "stdout",
     "output_type": "stream",
     "text": [
      "Result: True\n",
      "\n",
      "\n",
      "Test: 64\n",
      "Params: {'in_channels': 8, 'out_channels': 26, 'kernel_size': (13, 16), 'padding': 8, 'stride': 4, 'dilation': 1, 'groups': 1, 'in_batches': 5, 'in_h': 31, 'in_w': 8}\n"
     ]
    },
    {
     "name": "stderr",
     "output_type": "stream",
     "text": [
      "\r",
      " 65%|███████████████████████████▎              | 65/100 [10:45<03:32,  6.07s/it]"
     ]
    },
    {
     "name": "stdout",
     "output_type": "stream",
     "text": [
      "Result: True\n",
      "\n",
      "\n",
      "Test: 65\n",
      "Params: {'in_channels': 5, 'out_channels': 13, 'kernel_size': (10, 2), 'padding': 9, 'stride': 1, 'dilation': 2, 'groups': 1, 'in_batches': 5, 'in_h': 19, 'in_w': 14}\n"
     ]
    },
    {
     "name": "stderr",
     "output_type": "stream",
     "text": [
      "\r",
      " 66%|███████████████████████████▋              | 66/100 [11:08<06:06, 10.78s/it]"
     ]
    },
    {
     "name": "stdout",
     "output_type": "stream",
     "text": [
      "Result: True\n",
      "\n",
      "\n",
      "Test: 66\n",
      "Params: {'in_channels': 4, 'out_channels': 40, 'kernel_size': (6, 8), 'padding': 8, 'stride': 5, 'dilation': 2, 'groups': 1, 'in_batches': 4, 'in_h': 23, 'in_w': 18}\n"
     ]
    },
    {
     "name": "stderr",
     "output_type": "stream",
     "text": [
      "\r",
      " 67%|████████████████████████████▏             | 67/100 [11:14<05:07,  9.31s/it]"
     ]
    },
    {
     "name": "stdout",
     "output_type": "stream",
     "text": [
      "Result: True\n",
      "\n",
      "\n",
      "Test: 67\n",
      "Params: {'in_channels': 15, 'out_channels': 3, 'kernel_size': (7, 11), 'padding': 10, 'stride': 3, 'dilation': 3, 'groups': 1, 'in_batches': 3, 'in_h': 6, 'in_w': 34}\n",
      "invalid input parameters: output width is negative\n",
      "Result: True\n",
      "\n",
      "\n",
      "Test: 68\n",
      "Params: {'in_channels': 15, 'out_channels': 3, 'kernel_size': (4, 15), 'padding': 10, 'stride': 2, 'dilation': 1, 'groups': 1, 'in_batches': 3, 'in_h': 5, 'in_w': 17}\n"
     ]
    },
    {
     "name": "stderr",
     "output_type": "stream",
     "text": [
      "\r",
      " 69%|████████████████████████████▉             | 69/100 [11:16<02:56,  5.70s/it]"
     ]
    },
    {
     "name": "stdout",
     "output_type": "stream",
     "text": [
      "Result: True\n",
      "\n",
      "\n",
      "Test: 69\n",
      "Params: {'in_channels': 4, 'out_channels': 25, 'kernel_size': (2, 5), 'padding': 8, 'stride': 2, 'dilation': 6, 'groups': 1, 'in_batches': 3, 'in_h': 14, 'in_w': 17}\n"
     ]
    },
    {
     "name": "stderr",
     "output_type": "stream",
     "text": [
      "\r",
      " 70%|█████████████████████████████▍            | 70/100 [11:23<02:58,  5.94s/it]"
     ]
    },
    {
     "name": "stdout",
     "output_type": "stream",
     "text": [
      "Result: True\n",
      "\n",
      "\n",
      "Test: 70\n",
      "Params: {'in_channels': 10, 'out_channels': 28, 'kernel_size': (1, 7), 'padding': 9, 'stride': 4, 'dilation': 4, 'groups': 1, 'in_batches': 1, 'in_h': 14, 'in_w': 14}\n"
     ]
    },
    {
     "name": "stderr",
     "output_type": "stream",
     "text": [
      "\r",
      " 71%|█████████████████████████████▊            | 71/100 [11:23<02:10,  4.49s/it]"
     ]
    },
    {
     "name": "stdout",
     "output_type": "stream",
     "text": [
      "Result: True\n",
      "\n",
      "\n",
      "Test: 71\n",
      "Params: {'in_channels': 13, 'out_channels': 9, 'kernel_size': (4, 2), 'padding': 10, 'stride': 3, 'dilation': 5, 'groups': 1, 'in_batches': 4, 'in_h': 10, 'in_w': 5}\n"
     ]
    },
    {
     "name": "stderr",
     "output_type": "stream",
     "text": [
      "\r",
      " 72%|██████████████████████████████▏           | 72/100 [11:26<01:57,  4.21s/it]"
     ]
    },
    {
     "name": "stdout",
     "output_type": "stream",
     "text": [
      "Result: True\n",
      "\n",
      "\n",
      "Test: 72\n",
      "Params: {'in_channels': 15, 'out_channels': 30, 'kernel_size': (2, 3), 'padding': 9, 'stride': 5, 'dilation': 3, 'groups': 15, 'in_batches': 5, 'in_h': 19, 'in_w': 27}\n",
      "index 15 is out of bounds for axis 0 with size 15\n",
      "Result: True\n",
      "\n",
      "\n",
      "Test: 73\n",
      "Params: {'in_channels': 6, 'out_channels': 31, 'kernel_size': (1, 3), 'padding': 5, 'stride': 2, 'dilation': 7, 'groups': 1, 'in_batches': 1, 'in_h': 22, 'in_w': 31}\n"
     ]
    },
    {
     "name": "stderr",
     "output_type": "stream",
     "text": [
      "\r",
      " 74%|███████████████████████████████           | 74/100 [11:28<01:10,  2.70s/it]"
     ]
    },
    {
     "name": "stdout",
     "output_type": "stream",
     "text": [
      "Result: True\n",
      "\n",
      "\n",
      "Test: 74\n",
      "Params: {'in_channels': 5, 'out_channels': 23, 'kernel_size': (6, 1), 'padding': 5, 'stride': 1, 'dilation': 2, 'groups': 1, 'in_batches': 2, 'in_h': 11, 'in_w': 34}\n"
     ]
    },
    {
     "name": "stderr",
     "output_type": "stream",
     "text": [
      "\r",
      " 75%|███████████████████████████████▌          | 75/100 [11:31<01:10,  2.80s/it]"
     ]
    },
    {
     "name": "stdout",
     "output_type": "stream",
     "text": [
      "Result: True\n",
      "\n",
      "\n",
      "Test: 75\n",
      "Params: {'in_channels': 11, 'out_channels': 25, 'kernel_size': (5, 16), 'padding': 8, 'stride': 4, 'dilation': 1, 'groups': 1, 'in_batches': 3, 'in_h': 15, 'in_w': 19}\n"
     ]
    },
    {
     "name": "stderr",
     "output_type": "stream",
     "text": [
      "\r",
      " 76%|███████████████████████████████▉          | 76/100 [11:36<01:20,  3.35s/it]"
     ]
    },
    {
     "name": "stdout",
     "output_type": "stream",
     "text": [
      "Result: True\n",
      "\n",
      "\n",
      "Test: 76\n",
      "Params: {'in_channels': 1, 'out_channels': 19, 'kernel_size': (4, 13), 'padding': 7, 'stride': 1, 'dilation': 3, 'groups': 1, 'in_batches': 1, 'in_h': 27, 'in_w': 32}\n"
     ]
    },
    {
     "name": "stderr",
     "output_type": "stream",
     "text": [
      "\r",
      " 77%|████████████████████████████████▎         | 77/100 [11:41<01:26,  3.74s/it]"
     ]
    },
    {
     "name": "stdout",
     "output_type": "stream",
     "text": [
      "Result: True\n",
      "\n",
      "\n",
      "Test: 77\n",
      "Params: {'in_channels': 15, 'out_channels': 24, 'kernel_size': (2, 8), 'padding': 4, 'stride': 5, 'dilation': 1, 'groups': 1, 'in_batches': 4, 'in_h': 32, 'in_w': 28}\n"
     ]
    },
    {
     "name": "stderr",
     "output_type": "stream",
     "text": [
      "\r",
      " 78%|████████████████████████████████▊         | 78/100 [11:43<01:14,  3.40s/it]"
     ]
    },
    {
     "name": "stdout",
     "output_type": "stream",
     "text": [
      "Result: True\n",
      "\n",
      "\n",
      "Test: 78\n",
      "Params: {'in_channels': 3, 'out_channels': 7, 'kernel_size': (15, 13), 'padding': 7, 'stride': 4, 'dilation': 1, 'groups': 1, 'in_batches': 4, 'in_h': 12, 'in_w': 28}\n"
     ]
    },
    {
     "name": "stderr",
     "output_type": "stream",
     "text": [
      "\r",
      " 79%|█████████████████████████████████▏        | 79/100 [11:44<00:56,  2.68s/it]"
     ]
    },
    {
     "name": "stdout",
     "output_type": "stream",
     "text": [
      "Result: True\n",
      "\n",
      "\n",
      "Test: 79\n",
      "Params: {'in_channels': 2, 'out_channels': 3, 'kernel_size': (2, 18), 'padding': 7, 'stride': 1, 'dilation': 1, 'groups': 1, 'in_batches': 2, 'in_h': 24, 'in_w': 33}\n"
     ]
    },
    {
     "name": "stderr",
     "output_type": "stream",
     "text": [
      "\r",
      " 80%|█████████████████████████████████▌        | 80/100 [11:45<00:44,  2.21s/it]"
     ]
    },
    {
     "name": "stdout",
     "output_type": "stream",
     "text": [
      "Result: True\n",
      "\n",
      "\n",
      "Test: 80\n",
      "Params: {'in_channels': 1, 'out_channels': 9, 'kernel_size': (14, 11), 'padding': 5, 'stride': 5, 'dilation': 1, 'groups': 1, 'in_batches': 3, 'in_h': 14, 'in_w': 6}\n",
      "Result: True\n",
      "\n",
      "\n",
      "Test: 81\n",
      "Params: {'in_channels': 1, 'out_channels': 11, 'kernel_size': (13, 1), 'padding': 10, 'stride': 1, 'dilation': 1, 'groups': 1, 'in_batches': 5, 'in_h': 34, 'in_w': 13}\n"
     ]
    },
    {
     "name": "stderr",
     "output_type": "stream",
     "text": [
      "\r",
      " 82%|██████████████████████████████████▍       | 82/100 [11:48<00:32,  1.83s/it]"
     ]
    },
    {
     "name": "stdout",
     "output_type": "stream",
     "text": [
      "Result: True\n",
      "\n",
      "\n",
      "Test: 82\n",
      "Params: {'in_channels': 3, 'out_channels': 12, 'kernel_size': (19, 17), 'padding': 8, 'stride': 5, 'dilation': 1, 'groups': 3, 'in_batches': 1, 'in_h': 9, 'in_w': 23}\n",
      "index 3 is out of bounds for axis 0 with size 3\n",
      "Result: True\n",
      "\n",
      "\n",
      "Test: 83\n",
      "Params: {'in_channels': 2, 'out_channels': 10, 'kernel_size': (10, 11), 'padding': 7, 'stride': 1, 'dilation': 2, 'groups': 1, 'in_batches': 2, 'in_h': 10, 'in_w': 20}\n"
     ]
    },
    {
     "name": "stderr",
     "output_type": "stream",
     "text": [
      "\r",
      " 84%|███████████████████████████████████▎      | 84/100 [11:51<00:26,  1.67s/it]"
     ]
    },
    {
     "name": "stdout",
     "output_type": "stream",
     "text": [
      "Result: True\n",
      "\n",
      "\n",
      "Test: 84\n",
      "Params: {'in_channels': 17, 'out_channels': 6, 'kernel_size': (7, 8), 'padding': 1, 'stride': 2, 'dilation': 3, 'groups': 1, 'in_batches': 4, 'in_h': 25, 'in_w': 22}\n"
     ]
    },
    {
     "name": "stderr",
     "output_type": "stream",
     "text": [
      "\r",
      " 85%|███████████████████████████████████▋      | 85/100 [11:54<00:31,  2.11s/it]"
     ]
    },
    {
     "name": "stdout",
     "output_type": "stream",
     "text": [
      "Result: True\n",
      "\n",
      "\n",
      "Test: 85\n",
      "Params: {'in_channels': 1, 'out_channels': 8, 'kernel_size': (2, 5), 'padding': 4, 'stride': 2, 'dilation': 6, 'groups': 1, 'in_batches': 5, 'in_h': 17, 'in_w': 21}\n"
     ]
    },
    {
     "name": "stderr",
     "output_type": "stream",
     "text": [
      "\r",
      " 86%|████████████████████████████████████      | 86/100 [11:55<00:24,  1.72s/it]"
     ]
    },
    {
     "name": "stdout",
     "output_type": "stream",
     "text": [
      "Result: True\n",
      "\n",
      "\n",
      "Test: 86\n",
      "Params: {'in_channels': 8, 'out_channels': 8, 'kernel_size': (10, 17), 'padding': 7, 'stride': 1, 'dilation': 1, 'groups': 8, 'in_batches': 1, 'in_h': 26, 'in_w': 18}\n"
     ]
    },
    {
     "name": "stderr",
     "output_type": "stream",
     "text": [
      "\r",
      " 87%|████████████████████████████████████▌     | 87/100 [11:56<00:21,  1.68s/it]"
     ]
    },
    {
     "name": "stdout",
     "output_type": "stream",
     "text": [
      "Result: True\n",
      "\n",
      "\n",
      "Test: 87\n",
      "Params: {'in_channels': 17, 'out_channels': 34, 'kernel_size': (20, 3), 'padding': 10, 'stride': 1, 'dilation': 2, 'groups': 17, 'in_batches': 1, 'in_h': 31, 'in_w': 14}\n"
     ]
    },
    {
     "name": "stderr",
     "output_type": "stream",
     "text": [
      "\r",
      " 88%|████████████████████████████████████▉     | 88/100 [11:59<00:24,  2.04s/it]"
     ]
    },
    {
     "name": "stdout",
     "output_type": "stream",
     "text": [
      "index 17 is out of bounds for axis 0 with size 17\n",
      "Result: True\n",
      "\n",
      "\n",
      "Test: 88\n",
      "Params: {'in_channels': 18, 'out_channels': 22, 'kernel_size': (13, 5), 'padding': 10, 'stride': 1, 'dilation': 3, 'groups': 1, 'in_batches': 3, 'in_h': 30, 'in_w': 21}\n"
     ]
    },
    {
     "name": "stderr",
     "output_type": "stream",
     "text": [
      "\r",
      " 89%|████████████████████████████████████▍    | 89/100 [21:24<28:46, 157.00s/it]"
     ]
    },
    {
     "name": "stdout",
     "output_type": "stream",
     "text": [
      "Result: True\n",
      "\n",
      "\n",
      "Test: 89\n",
      "Params: {'in_channels': 3, 'out_channels': 18, 'kernel_size': (2, 19), 'padding': 5, 'stride': 2, 'dilation': 2, 'groups': 1, 'in_batches': 2, 'in_h': 14, 'in_w': 31}\n",
      "invalid input parameters: output width is negative\n",
      "Result: True\n",
      "\n",
      "\n",
      "Test: 90\n",
      "Params: {'in_channels': 6, 'out_channels': 33, 'kernel_size': (18, 13), 'padding': 3, 'stride': 2, 'dilation': 1, 'groups': 1, 'in_batches': 2, 'in_h': 30, 'in_w': 30}\n"
     ]
    },
    {
     "name": "stderr",
     "output_type": "stream",
     "text": [
      "\r",
      " 91%|██████████████████████████████████████▏   | 91/100 [21:48<13:57, 93.03s/it]"
     ]
    },
    {
     "name": "stdout",
     "output_type": "stream",
     "text": [
      "Result: True\n",
      "\n",
      "\n",
      "Test: 91\n",
      "Params: {'in_channels': 2, 'out_channels': 14, 'kernel_size': (10, 11), 'padding': 8, 'stride': 3, 'dilation': 1, 'groups': 1, 'in_batches': 4, 'in_h': 30, 'in_w': 8}\n"
     ]
    },
    {
     "name": "stderr",
     "output_type": "stream",
     "text": [
      "\r",
      " 92%|██████████████████████████████████████▋   | 92/100 [21:49<09:29, 71.20s/it]"
     ]
    },
    {
     "name": "stdout",
     "output_type": "stream",
     "text": [
      "Result: True\n",
      "\n",
      "\n",
      "Test: 92\n",
      "Params: {'in_channels': 6, 'out_channels': 13, 'kernel_size': (13, 7), 'padding': 10, 'stride': 1, 'dilation': 2, 'groups': 1, 'in_batches': 3, 'in_h': 6, 'in_w': 13}\n"
     ]
    },
    {
     "name": "stderr",
     "output_type": "stream",
     "text": [
      " 94%|███████████████████████████████████████▍  | 94/100 [21:56<04:01, 40.23s/it]"
     ]
    },
    {
     "name": "stdout",
     "output_type": "stream",
     "text": [
      "Result: True\n",
      "\n",
      "\n",
      "Test: 93\n",
      "Params: {'in_channels': 2, 'out_channels': 4, 'kernel_size': (6, 6), 'padding': 8, 'stride': 1, 'dilation': 2, 'groups': 2, 'in_batches': 4, 'in_h': 6, 'in_w': 11}\n",
      "index 2 is out of bounds for axis 0 with size 2\n",
      "Result: True\n",
      "\n",
      "\n",
      "Test: 94\n",
      "Params: {'in_channels': 17, 'out_channels': 22, 'kernel_size': (5, 5), 'padding': 7, 'stride': 1, 'dilation': 2, 'groups': 1, 'in_batches': 3, 'in_h': 5, 'in_w': 28}\n"
     ]
    },
    {
     "name": "stderr",
     "output_type": "stream",
     "text": [
      "\r",
      " 95%|███████████████████████████████████████▉  | 95/100 [23:09<04:05, 49.08s/it]"
     ]
    },
    {
     "name": "stdout",
     "output_type": "stream",
     "text": [
      "Result: True\n",
      "\n",
      "\n",
      "Test: 95\n",
      "Params: {'in_channels': 5, 'out_channels': 20, 'kernel_size': (16, 2), 'padding': 10, 'stride': 1, 'dilation': 2, 'groups': 5, 'in_batches': 2, 'in_h': 30, 'in_w': 6}\n"
     ]
    },
    {
     "name": "stderr",
     "output_type": "stream",
     "text": [
      "\r",
      " 96%|████████████████████████████████████████▎ | 96/100 [23:09<02:21, 35.36s/it]"
     ]
    },
    {
     "name": "stdout",
     "output_type": "stream",
     "text": [
      "index 5 is out of bounds for axis 0 with size 5\n",
      "Result: True\n",
      "\n",
      "\n",
      "Test: 96\n",
      "Params: {'in_channels': 8, 'out_channels': 20, 'kernel_size': (5, 2), 'padding': 1, 'stride': 1, 'dilation': 5, 'groups': 1, 'in_batches': 1, 'in_h': 21, 'in_w': 24}\n"
     ]
    },
    {
     "name": "stderr",
     "output_type": "stream",
     "text": [
      "\r",
      " 97%|████████████████████████████████████████▋ | 97/100 [23:12<01:17, 25.98s/it]"
     ]
    },
    {
     "name": "stdout",
     "output_type": "stream",
     "text": [
      "Result: True\n",
      "\n",
      "\n",
      "Test: 97\n",
      "Params: {'in_channels': 5, 'out_channels': 40, 'kernel_size': (7, 2), 'padding': 1, 'stride': 3, 'dilation': 3, 'groups': 5, 'in_batches': 5, 'in_h': 25, 'in_w': 6}\n",
      "index 5 is out of bounds for axis 0 with size 5\n",
      "Result: True\n",
      "\n",
      "\n",
      "Test: 98\n",
      "Params: {'in_channels': 1, 'out_channels': 14, 'kernel_size': (3, 16), 'padding': 1, 'stride': 1, 'dilation': 2, 'groups': 1, 'in_batches': 4, 'in_h': 5, 'in_w': 30}\n",
      "invalid input parameters: output width is negative\n",
      "Result: True\n",
      "\n",
      "\n",
      "Test: 99\n",
      "Params: {'in_channels': 15, 'out_channels': 11, 'kernel_size': (3, 7), 'padding': 8, 'stride': 1, 'dilation': 2, 'groups': 1, 'in_batches': 4, 'in_h': 12, 'in_w': 25}\n"
     ]
    },
    {
     "name": "stderr",
     "output_type": "stream",
     "text": [
      "100%|█████████████████████████████████████████| 100/100 [24:16<00:00, 14.57s/it]"
     ]
    },
    {
     "name": "stdout",
     "output_type": "stream",
     "text": [
      "Result: True\n",
      "\n",
      "\n",
      "100 out of 100 (100.0%) tests passed\n"
     ]
    },
    {
     "name": "stderr",
     "output_type": "stream",
     "text": [
      "\n"
     ]
    }
   ],
   "source": [
    "# for loop sweeping different input parameters and testing the outputs of Conv2DPytTestGroups and PyTorch\n",
    "from tqdm import tqdm\n",
    "\n",
    "num_tests = 100 # only test parameter to be varied\n",
    "num_passed = 0\n",
    "params_list = valid_params(num_tests)\n",
    "print('Number of tests: {}\\n\\n'.format(len(params_list)))\n",
    "\n",
    "for i, params in enumerate(tqdm(params_list)):\n",
    "    print('Test: {}\\nParams: {}'.format(i, params))\n",
    "    debug = False # DO NOT CHANGE THIS while using Conv2DPytTest - TODO: modify this flag to `test`\n",
    "\n",
    "    in_channels = params['in_channels'] # input channels\n",
    "    out_channels = params['out_channels'] # output channels\n",
    "    \n",
    "    kernel_size = params['kernel_size'] # kernel size\n",
    "\n",
    "    padding = params['padding'] # padding (optional)\n",
    "    stride = params['stride'] # stride (optional)\n",
    "    dilation = params['dilation'] # dilation factor (optional)\n",
    "    groups = params['groups'] # groups (optional)\n",
    "    \n",
    "    in_batches = params['in_batches'] # input batches\n",
    "    in_h = params['in_h'] # input height\n",
    "    in_w = params['in_w'] # input weight\n",
    "    \n",
    "    _input = np.random.rand(in_batches, in_channels, in_h, in_w) # define a random image based on the input parameters\n",
    "    kernels = []\n",
    "    for k in range(out_channels):\n",
    "        kernel = np.random.rand(int(in_channels / groups), kernel_size[0], kernel_size[1]) # define a random kernel based on the kernel parameters\n",
    "        kernels.append(kernel)\n",
    "    \n",
    "    try:\n",
    "        # get Conv2DPytTest output with the random inputs\n",
    "        conv2dpyttestgroups = Conv2DPytTestGroups(in_channels, out_channels, kernel_size, stride = stride, padding = padding, dilation = dilation, groups = groups, debug = debug, verbose = False) # call an instance of the class with the input parameters \n",
    "        _output = conv2dpyttestgroups.forward(_input, kernels) # perform convolution\n",
    "\n",
    "        # get PyTorch output with the same random inputs as above\n",
    "        x = torch.DoubleTensor(_input)\n",
    "        weights = torch.stack([torch.DoubleTensor(kernel) for kernel in kernels])\n",
    "        output = torch.nn.functional.conv2d(x, weights, stride = stride, padding = padding, dilation = dilation, groups = groups)\n",
    "        \n",
    "    except Exception as e:\n",
    "        print(e)\n",
    "        pass\n",
    "    \n",
    "    # compare outputs of conv-Numpy and PyTorch\n",
    "    result = torch.equal(torch.round(torch.DoubleTensor(_output)), torch.round(output)) # need to round the output due to precision difference\n",
    "    print('Result: {}\\n\\n'.format(result))\n",
    "    if result:\n",
    "        num_passed += 1\n",
    "\n",
    "print('{} out of {} ({}%) tests passed'.format(num_passed, num_tests, float(100 * num_passed / num_tests)))\n",
    "    "
   ]
  },
  {
   "cell_type": "markdown",
   "id": "8fe45ea6",
   "metadata": {},
   "source": [
    "### Modular code for methods in `forward()`"
   ]
  },
  {
   "cell_type": "raw",
   "id": "9b77c6ca",
   "metadata": {},
   "source": [
    "''' Modular code - can replace bloated def forward()'''\n",
    "def print_params(self):\n",
    "    self.verboseprint('*** parameters ***')\n",
    "    self.verboseprint('in_channels: {}, out_channels: {}, kernel_size: {}'.format(self.in_channels, self.out_channels, self.kernel_size))\n",
    "    self.verboseprint('padding: {}, stride: {}, dilation factor: {}'.format(self.padding, self.stride, self.dilation))\n",
    "    self.verboseprint('groups: {}, bias: {}, padding_mode: {}, device: {}, dtype: {}'.format(self.groups, self.bias, self.padding_mode, self.device, self.dtype))\n",
    "    self.verboseprint('\\n')\n",
    "\n",
    "def add_padding(self, _input):\n",
    "    ''' add zero padding based on the input parameters '''\n",
    "    if self.padding != 0:\n",
    "        _input = np.array([[np.pad(channel,self.padding, 'constant', constant_values = 0) for channel in batch] for batch in _input])    \n",
    "        self.verboseprint('*** padded input image ***')\n",
    "        self.verboseprint('input batches: {}, input channels: {}, input height: {}, input weight: {}'.format(_input.shape[0], _input.shape[1], _input.shape[2], _input.shape[3]))\n",
    "        self.verboseprint(_input)\n",
    "        self.verboseprint('\\n')\n",
    "    return _input\n",
    "\n",
    "def create_kernels(self, kernels):\n",
    "    ''' use the provided kernels or create random kernels based on the input kernel parameters '''\n",
    "    if kernels is not None:\n",
    "        self.verboseprint('*** kernels ***')\n",
    "        self.verboseprint('kernels: {}, kernel channels: {}, kernel height: {}, kernel weight: {}'.format(self.out_channels, int(self.in_channels / self.groups), self.kernel_size[0], self.kernel_size[1]))\n",
    "        kernels = self.dilate_kernels(kernels)\n",
    "        return kernels\n",
    "\n",
    "    ''' Below code never executes as we are passing `kernels` as input - can be commented/removed '''\n",
    "    kernels = []\n",
    "    self.verboseprint('*** kernels ***')\n",
    "    self.verboseprint('kernels: {}, kernel channels: {}, kernel height: {}, kernel weight: {}'.format(self.out_channels, int(self.in_channels / self.groups), self.kernel_size[0], self.kernel_size[1]))\n",
    "    for k in range(self.out_channels):\n",
    "        kernel = np.random.rand(int(self.in_channels/self.groups), self.kernel_size[0], self.kernel_size[1]) # define a random kernel based on the kernel parameters\n",
    "        if self.debug:\n",
    "            kernel = k * np.ones_like(kernel)\n",
    "        kernels.append(kernel)\n",
    "        self.verboseprint('kernel {}'.format(k))\n",
    "        self.verboseprint(kernel)\n",
    "    self.verboseprint('\\n')\n",
    "    kernels = self.dilate_kernels(kernels)\n",
    "    return kernels \n",
    "\n",
    "def dilate_kernels(self, kernels):\n",
    "    ''' dilate a kernel '''\n",
    "    dil_ker_h = self.dilation * (self.kernel_size[0] - 1) + 1\n",
    "    dil_ker_w = self.dilation * (self.kernel_size[1] - 1) + 1\n",
    "    dil_kernels = []\n",
    "    for kernel in kernels:\n",
    "        dil_kernel = []\n",
    "        for channel in kernel:\n",
    "            dil_channel = np.zeros((dil_ker_h, dil_ker_w))\n",
    "            for row in range(len(channel)):\n",
    "                for col in range(len(channel[0])):\n",
    "                    dil_channel[self.dilation*row][self.dilation*col] = channel[row][col]\n",
    "            dil_kernel.append(dil_channel.tolist())\n",
    "        dil_kernels.append(dil_kernel)\n",
    "    kernels, self.kernel_size = dil_kernels, (dil_ker_h, dil_ker_w)\n",
    "    self.verboseprint('*** dilated kernels ***')\n",
    "    self.verboseprint('kernels: {}, dilation factor: {}, kernel channels: {}, kernel height: {}, kernel weight: {}'.format(self.out_channels, self.dilation, int(self.in_channels / self.groups), self.kernel_size[0], self.kernel_size[1]))\n",
    "    for k in range(self.out_channels):\n",
    "        self.verboseprint('kernel {}'.format(k))\n",
    "        self.verboseprint(kernels[k])\n",
    "    self.verboseprint('\\n')\n",
    "    return kernels\n",
    "\n",
    "def compute_out_vol(self, _input):\n",
    "    ''' compute output volume from the input and kernel parameters '''\n",
    "    _input_n, _, _input_h, _input_w = _input.shape\n",
    "    out_n = int(_input_n)\n",
    "    out_c = int(self.out_channels)\n",
    "    out_h = int((_input_h - self.kernel_size[0])/self.stride) + 1\n",
    "    out_w = int((_input_w - self.kernel_size[1])/self.stride) + 1\n",
    "    return out_n, out_c, out_h, out_w\n",
    "\n",
    "def error_checking(self, _input):\n",
    "    ''' do error checking '''\n",
    "    _input_n, _input_c, _input_h, _input_w = _input.shape\n",
    "    if _input_h + 2 * self.padding < self.dilation * (self.kernel_size[0] - 1) + 1: # check if (dilated) ker_h is valid\n",
    "        raise Exception('invalid input parameters: kernel height is larger than input height')\n",
    "    if _input_w + 2 * self.padding < self.dilation * (self.kernel_size[1] - 1) + 1: # check if (dilated) ker_w is valid\n",
    "        raise Exception('invalid input parameters: kernel width is larger than input width')\n",
    "    if ((_input_h + 2 * self.padding - (self.dilation * (self.kernel_size[0] - 1) + 1)) / self.stride) + 1 < 0: # check if out_h is valid\n",
    "        raise Exception('invalid input parameters: output height is negative')\n",
    "    if ((_input_h + 2 * self.padding - (self.dilation * (self.kernel_size[1] - 1) + 1)) / self.stride) + 1 < 0: # check if out_w is valid\n",
    "        raise Exception('invalid input parameters: output width is negative')\n",
    "    if  self.in_channels % self.groups != 0: # check if groups is valid\n",
    "        raise Exception('invalid input parameters: input channels is not divisible by groups')\n",
    "    if self.out_channels % self.groups != 0: # check if groups is valid\n",
    "        raise Exception('invalid input parametes: output channels is not divisible by groups')\n",
    "    if not (self.groups == 1 or self.groups == self.in_channels): # check if groups is valid - remove once groups is properly implemented\n",
    "        raise Exception('invalid input parameters: currently groups == 1 or groups == in_channels only supported')\n"
   ]
  },
  {
   "cell_type": "markdown",
   "id": "2a4c8ab2",
   "metadata": {},
   "source": [
    "### Modular code for `forward()`"
   ]
  },
  {
   "cell_type": "raw",
   "id": "51abe93d",
   "metadata": {},
   "source": [
    "''' Modular code - can replace bloated def forward()'''\n",
    "'''\n",
    "    def convolve(self, h, w, ker_num, batch_num, _input, kernels):\n",
    "        # convolve kernel over the input slices\n",
    "        self.debugprint('kernel indices, image indices')\n",
    "        self.debugprint('[c, h, w]', '[n, c, h, w]')\n",
    "        convol_sum = 0\n",
    "        ker_c = self.in_channels\n",
    "        ker_h = self.kernel_size[0]\n",
    "        ker_w = self.kernel_size[1]\n",
    "        for c_ker in range(ker_c):\n",
    "            for h_ker in range(ker_h):\n",
    "                for w_ker in range(ker_w):\n",
    "                    self.debugprint([c_ker, h_ker, w_ker], [batch_num, c_ker, h_ker + self.stride*h, w_ker + self.stride*w])\n",
    "                    convol_sum += kernels[ker_num][c_ker][h_ker][w_ker] * _input[batch_num][c_ker][h_ker + self.stride*h][w_ker + self.stride*w]\n",
    "        self.debugprint('\\n')\n",
    "        return convol_sum\n",
    "    '''\n",
    "    '''\n",
    "    def forward(self, _input):\n",
    "        # create output from the input and kernel parameters \n",
    "        _input = self.add_padding(_input)\n",
    "        if self.debug:\n",
    "            for b in range(_input.shape[0]):\n",
    "                _input[b] = (b+1) * np.ones_like(_input[b]) # define an image of all ones (twos etc.) based on the input parameters\n",
    "        kernels = self.create_kernels()\n",
    "        out_n, out_c, out_h, out_w = self.compute_out_vol(_input)\n",
    "        output = np.zeros([out_n, out_c, out_h, out_w])\n",
    "        # parse through every element of the output and compute the convolution value for that element\n",
    "        for b in range(out_n):\n",
    "            for k in range(out_c):\n",
    "                for h in range(out_h):\n",
    "                    for w in range(out_w):\n",
    "                        output[b, k, h, w] += self.convolve(h, w, k, b, _input, kernels)\n",
    "        self.verboseprint('*** output ***')\n",
    "        output_shape = output.shape\n",
    "        self.verboseprint('output batches: {}, ouput channels: {}, output height: {}, output weight: {}'.format(output_shape[0], output_shape[1], output_shape[2], output_shape[3]))\n",
    "        assert((out_n, out_c, out_h, out_w) == output_shape)\n",
    "        self.verboseprint(output)\n",
    "        self.verboseprint('\\n')\n",
    "        return output\n",
    "    '''\n",
    "    "
   ]
  },
  {
   "cell_type": "markdown",
   "id": "c8eb97cc",
   "metadata": {},
   "source": [
    "### Old `Conv2D` code  for reference"
   ]
  },
  {
   "cell_type": "raw",
   "id": "eb6b032e",
   "metadata": {},
   "source": [
    "'''\n",
    "class Conv2D:\n",
    "    \"\"\"Computes convolution given the input parameters\"\"\"\n",
    "    def __init__(self, params, verbose=True, debug=False):\n",
    "        super(Conv2D, self).__init__()\n",
    "        default_params = {\n",
    "        'stride': 1,\n",
    "        'dilation': 1,\n",
    "        'padding': 0\n",
    "        }\n",
    "        for key, value in default_params.items():\n",
    "            setattr(self, key, params.get(key, value))\n",
    "        self.inp_n = params['inp_n']\n",
    "        self.inp_c = params['inp_c']\n",
    "        self.inp_h = params['inp_h']\n",
    "        self.inp_w = params['inp_w']\n",
    "        self.ker_c = params['ker_c']\n",
    "        self.ker_h = params['ker_h']\n",
    "        self.ker_w = params['ker_w']\n",
    "        self.num_ker = params['num_ker']\n",
    "        self.input_img = None\n",
    "        self.kernels = None\n",
    "        self.out_n = None\n",
    "        self.out_c = None\n",
    "        self.out_h = None\n",
    "        self.out_w = None\n",
    "        self.output = None\n",
    "        self.verbose = verbose\n",
    "        self.verboseprint = print if self.verbose else lambda *a, **k: None\n",
    "        self.debug = debug\n",
    "        self.debugprint = print if self.debug else lambda *a, **k: None\n",
    "        self.print_params()\n",
    "\n",
    "    def print_params(self):\n",
    "        self.verboseprint('*** parameters ***')\n",
    "        self.verboseprint('input batches: {}, input channels: {}, input height: {}, input weight: {}'.format(self.inp_n, self.inp_c, self.inp_h, self.inp_w))\n",
    "        self.verboseprint('kernels: {}, kernel channels: {}, kernel height: {}, kernel weight: {}'.format(self.num_ker, self.ker_c, self.ker_h, self.ker_w))\n",
    "        self.verboseprint('stride: {}, dilation factor: {}, padding: {}'.format(self.stride, self.dilation, self.padding))\n",
    "        self.verboseprint('\\n')\n",
    "\n",
    "    def create_input_img(self):\n",
    "        # create image from the input parameters\n",
    "        input_img = np.random.rand(self.inp_n, self.inp_c, self.inp_h, self.inp_w) # define a random image based on the input parameters\n",
    "        if self.debug:\n",
    "            for b in range(self.inp_n):\n",
    "                input_img[b] = (b+1) * np.ones_like(input_img[b]) # define an image of all ones (twos etc.) based on the input parameters\n",
    "        self.verboseprint('*** input image ***')\n",
    "        self.verboseprint('input batches: {}, input channels: {}, input height: {}, input weight: {}'.format(self.inp_n, self.inp_c, self.inp_h, self.inp_w))\n",
    "        self.verboseprint(input_img)\n",
    "        self.verboseprint('\\n')\n",
    "        self.input_img = input_img\n",
    "        self.add_padding()\n",
    "\n",
    "    def add_padding(self):\n",
    "        # add zero padding based on the input parameters\n",
    "        if self.padding != 0:\n",
    "            self.input_img = [[np.pad(channel,self.padding, 'constant', constant_values=0) for channel in batch] for batch in self.input_img]    \n",
    "            self.inp_h += 2 * self.padding\n",
    "            self.inp_w += 2 * self.padding\n",
    "            self.verboseprint('*** padded input image ***')\n",
    "            self.verboseprint('input batches: {}, input channels: {}, input height: {}, input weight: {}'.format(self.inp_n, self.inp_c, self.inp_h, self.inp_w))\n",
    "            self.verboseprint(self.input_img)\n",
    "            self.verboseprint('\\n')\n",
    "\n",
    "    def create_kernels(self):\n",
    "        # create random kernels based on the input kernel parameters\n",
    "        kernels = []\n",
    "        self.verboseprint('*** kernels ***')\n",
    "        self.verboseprint('kernels: {}, kernel channels: {}, kernel height: {}, kernel weight: {}'.format(self.num_ker, self.ker_c, self.ker_h, self.ker_w))\n",
    "        for k in range(self.num_ker):\n",
    "            kernel = np.random.rand(self.ker_c, self.ker_h, self.ker_w) # define a random kernel based on the kernel parameters\n",
    "            if self.debug:\n",
    "                kernel = k * np.ones_like(kernel)\n",
    "            kernels.append(kernel)\n",
    "            self.verboseprint('kernel {}'.format(k))\n",
    "            self.verboseprint(kernel)\n",
    "        self.verboseprint('\\n')\n",
    "        self.kernels = kernels\n",
    "        self.dilate_kernels()\n",
    "\n",
    "    def dilate_kernels(self):\n",
    "        # dilate a kernel\n",
    "        dil_ker_h = self.dilation * (self.ker_h - 1) + 1\n",
    "        dil_ker_w = self.dilation * (self.ker_w - 1) + 1\n",
    "        dil_kernels = []\n",
    "        for kernel in self.kernels:\n",
    "            dil_kernel = []\n",
    "            for channel in kernel:\n",
    "                dil_channel = np.zeros((dil_ker_h, dil_ker_w))\n",
    "                for row in range(len(channel)):\n",
    "                    for col in range(len(channel[0])):\n",
    "                        dil_channel[self.dilation*row][self.dilation*col] = channel[row][col]\n",
    "                dil_kernel.append(dil_channel.tolist())\n",
    "            dil_kernels.append(dil_kernel)\n",
    "        self.kernels, self.ker_h, self.ker_w = dil_kernels, dil_ker_h, dil_ker_w\n",
    "        self.verboseprint('*** dilated kernels ***')\n",
    "        self.verboseprint('kernels: {}, dilation factor: {}, kernel channels: {}, kernel height: {}, kernel weight: {}'.format(self.num_ker, self.dilation, self.ker_c, self.ker_h, self.ker_w))\n",
    "        for k in range(self.num_ker):\n",
    "            self.verboseprint('kernel {}'.format(k))\n",
    "            self.verboseprint(self.kernels[k])\n",
    "        self.verboseprint('\\n')\n",
    "\n",
    "    def compute_out_vol(self):\n",
    "        # compute output volume from the input and kernel parameters\n",
    "        out_n = int(self.inp_n)\n",
    "        out_c = int(self.num_ker)\n",
    "        out_h = int((self.inp_h - self.ker_h)/self.stride) + 1\n",
    "        out_w = int((self.inp_w - self.ker_w)/self.stride) + 1\n",
    "        self.out_n, self.out_c, self.out_h, self.out_w = out_n, out_c, out_h, out_w\n",
    "\n",
    "    def convolve(self, h, w, ker_num, batch_num):\n",
    "        # convolve kernel over the input slices\n",
    "        self.debugprint('kernel indices, image indices')\n",
    "        self.debugprint('[c, h, w]', '[n, c, h, w]')\n",
    "        convol_sum = 0\n",
    "        for c_ker in range(self.ker_c):\n",
    "            for h_ker in range(self.ker_h):\n",
    "                for w_ker in range(self.ker_w):\n",
    "                    self.debugprint([c_ker, h_ker, w_ker], [batch_num, c_ker, h_ker + self.stride*h, w_ker + self.stride*w])\n",
    "                    convol_sum += self.kernels[ker_num][c_ker][h_ker][w_ker] * self.input_img[batch_num][c_ker][h_ker + self.stride*h][w_ker + self.stride*w]\n",
    "        self.debugprint('\\n')\n",
    "        return convol_sum\n",
    "\n",
    "    def create_output(self):\n",
    "        # create output from the input and kernel parameters \n",
    "        self.compute_out_vol()\n",
    "        self.output = np.zeros([self.out_n, self.out_c, self.out_h, self.out_w])\n",
    "        # parse through every element of the output and compute the convolution value for that element\n",
    "        for b in range(self.out_n):\n",
    "            for k in range(self.num_ker):\n",
    "                for h in range(self.out_h):\n",
    "                    for w in range(self.out_w):\n",
    "                        self.output[b, k, h, w] += self.convolve(h, w, k, b)\n",
    "        self.verboseprint('*** output ***')\n",
    "        output_shape = self.output.shape\n",
    "        self.verboseprint('output batches: {}, ouput channels: {}, output height: {}, output weight: {}'.format(output_shape[0], output_shape[1], output_shape[2], output_shape[3]))\n",
    "        assert((self.out_n, self.out_c, self.out_h, self.out_w) == output_shape)\n",
    "        self.verboseprint(self.output)\n",
    "        self.verboseprint('\\n')\n",
    "\n",
    "    def forward(self, _input):\n",
    "        # create output from the input and kernel parameters \n",
    "        self.compute_out_vol(_input)\n",
    "        self.output = np.zeros([self.out_n, self.out_c, self.out_h, self.out_w])\n",
    "        # parse through every element of the output and compute the convolution value for that element\n",
    "        for b in range(self.out_n):\n",
    "            for k in range(self.num_ker):\n",
    "                for h in range(self.out_h):\n",
    "                    for w in range(self.out_w):\n",
    "                        self.output[b, k, h, w] += self.convolve(h, w, k, b)\n",
    "        self.verboseprint('*** output ***')\n",
    "        output_shape = self.output.shape\n",
    "        self.verboseprint('output batches: {}, ouput channels: {}, output height: {}, output weight: {}'.format(output_shape[0], output_shape[1], output_shape[2], output_shape[3]))\n",
    "        assert((self.out_n, self.out_c, self.out_h, self.out_w) == output_shape)\n",
    "        self.verboseprint(self.output)\n",
    "        self.verboseprint('\\n')\n",
    "'''"
   ]
  },
  {
   "cell_type": "raw",
   "id": "f4ff949d",
   "metadata": {},
   "source": [
    "'''\n",
    "inp_n = 2 # number of input batches\n",
    "inp_c, inp_h, inp_w = 2, 4, 4 # input channels, input height, input weight\n",
    "ker_c, ker_h, ker_w = 2, 2, 2 # kernel channels, kernel height, kernel weight\n",
    "num_ker = 3 # number of kernels\n",
    "stride = 2 # stride (optional)\n",
    "dilation = 1 # dilation factor (optional)\n",
    "padding = 0 # padding (optional)\n",
    "params = {'inp_n':inp_n, 'inp_c':inp_c, 'inp_h':inp_h, 'inp_w':inp_w, 'ker_c':ker_c, 'ker_h':ker_h, \n",
    "              'ker_w':ker_w, 'num_ker':num_ker, 'stride':stride, 'dilation':dilation, 'padding':padding}\n",
    "\n",
    "conv2D = Conv2D(params, debug=True)\n",
    "conv2D.create_input_img()\n",
    "conv2D.create_kernels()\n",
    "conv2D.create_output()\n",
    "'''"
   ]
  }
 ],
 "metadata": {
  "kernelspec": {
   "display_name": "Python 3 (ipykernel)",
   "language": "python",
   "name": "python3"
  },
  "language_info": {
   "codemirror_mode": {
    "name": "ipython",
    "version": 3
   },
   "file_extension": ".py",
   "mimetype": "text/x-python",
   "name": "python",
   "nbconvert_exporter": "python",
   "pygments_lexer": "ipython3",
   "version": "3.7.1"
  }
 },
 "nbformat": 4,
 "nbformat_minor": 5
}
