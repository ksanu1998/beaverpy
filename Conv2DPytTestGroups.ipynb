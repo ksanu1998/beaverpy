{
 "cells": [
  {
   "cell_type": "markdown",
   "id": "b20a6f8d",
   "metadata": {},
   "source": [
    "### `Conv2DPytTestGroups` code"
   ]
  },
  {
   "cell_type": "code",
   "execution_count": 21,
   "id": "19182ede",
   "metadata": {},
   "outputs": [],
   "source": [
    "import numpy as np"
   ]
  },
  {
   "cell_type": "code",
   "execution_count": 22,
   "id": "7ed1691b",
   "metadata": {},
   "outputs": [],
   "source": [
    "class Conv2DPytTestGroups:\n",
    "    \"\"\" Computes convolution given the input parameters \"\"\"\n",
    "    \n",
    "    \"\"\" * The class implementation will be along the lines of torch.nn.Conv2D in order to \n",
    "          enable comparison of this NumPy only implementation and seamless testing\n",
    "        * Can expect extensive refactoring of the existing code in the days to come\n",
    "        * As part of refactoring, some code will be de-modularized\n",
    "        * Old code will be retained at the end of the notebook for reference\n",
    "    \"\"\"\n",
    "    \"\"\"\n",
    "        TODO:\n",
    "        * Implementing other features and caveats offered by nn.torch.Conv2D \n",
    "          (e.g., `groups` flag to enable depthwise convolution, uniform sampling of kernel weights etc.)\n",
    "        * Optimizing code\n",
    "    \"\"\"\n",
    "    \n",
    "    def __init__(\n",
    "        self, \n",
    "        in_channels, \n",
    "        out_channels, \n",
    "        kernel_size, \n",
    "        padding = 0, \n",
    "        stride = 1, \n",
    "        dilation = 1, \n",
    "        groups = 1, \n",
    "        bias = True, \n",
    "        padding_mode = 'zeros', \n",
    "        device = None, \n",
    "        dtype = None, \n",
    "        verbose = True, \n",
    "        debug = False\n",
    "        ):\n",
    "        super(Conv2DPytTestGroups, self).__init__()\n",
    "        \n",
    "        ''' mandatory parameters '''\n",
    "        self.in_channels = in_channels\n",
    "        self.out_channels = out_channels\n",
    "        self.kernel_size = kernel_size\n",
    "        \n",
    "        ''' optional parameters '''\n",
    "        self.padding = padding\n",
    "        self.stride = stride\n",
    "        self.dilation = dilation\n",
    "        self.groups = groups\n",
    "        \n",
    "        ''' optional parameters (dummy, yet to be implemented)'''\n",
    "        self.bias = bias\n",
    "        self.padding_mode = padding_mode\n",
    "        self.device = device\n",
    "        self.dtype = dtype\n",
    "        \n",
    "        ''' additional parameters (different from torch.nn.Conv2D)'''\n",
    "        self.verbose = verbose\n",
    "        self.verboseprint = print if self.verbose else lambda *a, **k: None\n",
    "        self.debug = debug\n",
    "        self.debugprint = print if self.debug else lambda *a, **k: None\n",
    "        self.print_params()\n",
    "    \n",
    "    def print_params(self):\n",
    "        self.verboseprint('*** parameters ***')\n",
    "        self.verboseprint('in_channels: {}, out_channels: {}, kernel_size: {}'.format(self.in_channels, self.out_channels, self.kernel_size))\n",
    "        self.verboseprint('padding: {}, stride: {}, dilation factor: {}'.format(self.padding, self.stride, self.dilation))\n",
    "        self.verboseprint('groups: {}, bias: {}, padding_mode: {}, device: {}, dtype: {}'.format(self.groups, self.bias, self.padding_mode, self.device, self.dtype))\n",
    "        self.verboseprint('\\n')\n",
    "    \n",
    "    def add_padding(self, _input):\n",
    "        ''' add zero padding based on the input parameters '''\n",
    "        if self.padding != 0:\n",
    "            _input = np.array([[np.pad(channel,self.padding, 'constant', constant_values = 0) for channel in batch] for batch in _input])    \n",
    "            self.verboseprint('*** padded input image ***')\n",
    "            self.verboseprint('input batches: {}, input channels: {}, input height: {}, input weight: {}'.format(_input.shape[0], _input.shape[1], _input.shape[2], _input.shape[3]))\n",
    "            self.verboseprint(_input)\n",
    "            self.verboseprint('\\n')\n",
    "        return _input\n",
    "    \n",
    "    def create_kernels(self, kernels):\n",
    "        ''' use the provided kernels or create random kernels based on the input kernel parameters '''\n",
    "        if kernels is not None:\n",
    "            self.verboseprint('*** kernels ***')\n",
    "            self.verboseprint('kernels: {}, kernel channels: {}, kernel height: {}, kernel weight: {}'.format(self.out_channels, int(self.in_channels / self.groups), self.kernel_size[0], self.kernel_size[1]))\n",
    "            kernels = self.dilate_kernels(kernels)\n",
    "            return kernels\n",
    "        \n",
    "        ''' Below code never executes as we are passing `kernels` as input - can be commented/removed '''\n",
    "        kernels = []\n",
    "        self.verboseprint('*** kernels ***')\n",
    "        self.verboseprint('kernels: {}, kernel channels: {}, kernel height: {}, kernel weight: {}'.format(self.out_channels, int(self.in_channels / self.groups), self.kernel_size[0], self.kernel_size[1]))\n",
    "        for k in range(self.out_channels):\n",
    "            kernel = np.random.rand(int(self.in_channels/self.groups), self.kernel_size[0], self.kernel_size[1]) # define a random kernel based on the kernel parameters\n",
    "            if self.debug:\n",
    "                kernel = k * np.ones_like(kernel)\n",
    "            kernels.append(kernel)\n",
    "            self.verboseprint('kernel {}'.format(k))\n",
    "            self.verboseprint(kernel)\n",
    "        self.verboseprint('\\n')\n",
    "        kernels = self.dilate_kernels(kernels)\n",
    "        return kernels \n",
    "    \n",
    "    def dilate_kernels(self, kernels):\n",
    "        ''' dilate a kernel '''\n",
    "        dil_ker_h = self.dilation * (self.kernel_size[0] - 1) + 1\n",
    "        dil_ker_w = self.dilation * (self.kernel_size[1] - 1) + 1\n",
    "        dil_kernels = []\n",
    "        for kernel in kernels:\n",
    "            dil_kernel = []\n",
    "            for channel in kernel:\n",
    "                dil_channel = np.zeros((dil_ker_h, dil_ker_w))\n",
    "                for row in range(len(channel)):\n",
    "                    for col in range(len(channel[0])):\n",
    "                        dil_channel[self.dilation*row][self.dilation*col] = channel[row][col]\n",
    "                dil_kernel.append(dil_channel.tolist())\n",
    "            dil_kernels.append(dil_kernel)\n",
    "        kernels, self.kernel_size = dil_kernels, (dil_ker_h, dil_ker_w)\n",
    "        self.verboseprint('*** dilated kernels ***')\n",
    "        self.verboseprint('kernels: {}, dilation factor: {}, kernel channels: {}, kernel height: {}, kernel weight: {}'.format(self.out_channels, self.dilation, int(self.in_channels / self.groups), self.kernel_size[0], self.kernel_size[1]))\n",
    "        for k in range(self.out_channels):\n",
    "            self.verboseprint('kernel {}'.format(k))\n",
    "            self.verboseprint(kernels[k])\n",
    "        self.verboseprint('\\n')\n",
    "        return kernels\n",
    "    \n",
    "    def compute_out_vol(self, _input):\n",
    "        ''' compute output volume from the input and kernel parameters '''\n",
    "        _input_n, _, _input_h, _input_w = _input.shape\n",
    "        out_n = int(_input_n)\n",
    "        out_c = int(self.out_channels)\n",
    "        out_h = int((_input_h - self.kernel_size[0])/self.stride) + 1\n",
    "        out_w = int((_input_w - self.kernel_size[1])/self.stride) + 1\n",
    "        return out_n, out_c, out_h, out_w\n",
    "    \n",
    "    def error_checking(self, _input):\n",
    "        ''' do error checking '''\n",
    "        _input_n, _input_c, _input_h, _input_w = _input.shape\n",
    "        if _input_h + 2 * self.padding < self.dilation * (self.kernel_size[0] - 1) + 1: # check if (dilated) ker_h is valid\n",
    "            raise Exception('invalid input parameters: kernel height is larger than input height')\n",
    "        if _input_w + 2 * self.padding < self.dilation * (self.kernel_size[1] - 1) + 1: # check if (dilated) ker_w is valid\n",
    "            raise Exception('invalid input parameters: kernel width is larger than input width')\n",
    "        if ((_input_h + 2 * self.padding - (self.dilation * (self.kernel_size[0] - 1) + 1)) / self.stride) + 1 < 0: # check if out_h is valid\n",
    "            raise Exception('invalid input parameters: output height is negative')\n",
    "        if ((_input_h + 2 * self.padding - (self.dilation * (self.kernel_size[1] - 1) + 1)) / self.stride) + 1 < 0: # check if out_w is valid\n",
    "            raise Exception('invalid input parameters: output width is negative')\n",
    "        if  self.in_channels % self.groups != 0: # check if groups is valid\n",
    "            raise Exception('invalid input parameters: input channels is not divisible by groups')\n",
    "        if self.out_channels % self.groups != 0: # check if groups is valid\n",
    "            raise Exception('invalid input parametes: output channels is not divisible by groups')\n",
    "        if not (self.groups == 1 or self.groups == self.in_channels): # check if groups is valid - remove once groups is properly implemented\n",
    "            raise Exception('invalid input parameters: currently groups == 1 or groups == in_channels only supported')\n",
    "            \n",
    "    def forward(self, _input, kernels):\n",
    "        ''' forward pass to perform convolution '''\n",
    "        self.error_checking(_input) # check for validity of input and kernel parameters\n",
    "        # create output from the input and kernel parameters \n",
    "        _input = self.add_padding(_input)\n",
    "        if self.debug:\n",
    "            for b in range(_input.shape[0]):\n",
    "                _input[b] = (b+1) * np.ones_like(_input[b]) # define an image of all ones (twos etc.) based on the input parameters\n",
    "        kernels = self.create_kernels(kernels)\n",
    "        out_n, out_c, out_h, out_w = self.compute_out_vol(_input)\n",
    "        output = np.zeros([out_n, out_c, out_h, out_w])\n",
    "        # parse through every element of the output and compute the convolution value for that element\n",
    "        for b in range(out_n):\n",
    "            for k in range(out_c):\n",
    "                for h in range(out_h):\n",
    "                    for w in range(out_w):\n",
    "                        # convolve kernel over the input slices\n",
    "                        self.debugprint('kernel indices, image indices')\n",
    "                        self.debugprint('[c, h, w]', '[n, c, h, w]')\n",
    "                        convol_sum = 0\n",
    "                        ker_c = int(self.in_channels / self.groups)\n",
    "                        ker_h = self.kernel_size[0]\n",
    "                        ker_w = self.kernel_size[1]\n",
    "                        for c_ker in range(ker_c):\n",
    "                            for h_ker in range(ker_h):\n",
    "                                for w_ker in range(ker_w):\n",
    "                                    if self.groups == 1:\n",
    "                                        self.debugprint([c_ker, h_ker, w_ker], [b, c_ker, h_ker + self.stride * h, w_ker + self.stride * w])\n",
    "                                        convol_sum += kernels[k][c_ker][h_ker][w_ker] * _input[b][c_ker][h_ker + self.stride*h][w_ker + self.stride*w] # if groups == 1\n",
    "                                    elif self.groups == self.in_channels:\n",
    "                                        self.debugprint([c_ker, h_ker, w_ker], [b, k, h_ker + self.stride * h, w_ker + self.stride * w])\n",
    "                                        convol_sum += kernels[k][c_ker][h_ker][w_ker] * _input[b][k][h_ker + self.stride * h][w_ker + self.stride * w] # if groups == in_channels\n",
    "                                    else:\n",
    "                                        raise Exception('invalid input parameters: currently groups == 1 or groups == in_channels only supported')\n",
    "                        self.debugprint('\\n')\n",
    "                        output[b, k, h, w] += convol_sum\n",
    "        self.verboseprint('*** Conv2DPytTest output ***')\n",
    "        output_shape = output.shape\n",
    "        self.verboseprint('output batches: {}, ouput channels: {}, output height: {}, output weight: {}'.format(output_shape[0], output_shape[1], output_shape[2], output_shape[3]))\n",
    "        assert((out_n, out_c, out_h, out_w) == output_shape)\n",
    "        self.verboseprint(output)\n",
    "        self.verboseprint('\\n')\n",
    "        return output"
   ]
  },
  {
   "cell_type": "markdown",
   "id": "7450ac24",
   "metadata": {},
   "source": [
    "### Standalone test (random kernel, random input)"
   ]
  },
  {
   "cell_type": "code",
   "execution_count": 23,
   "id": "a0377df6",
   "metadata": {},
   "outputs": [],
   "source": [
    "debug = False # DO NOT CHANGE THIS while using Conv2DPytTest - TODO: modify this flag to `test`\n",
    "\n",
    "in_channels = 2 # input channels\n",
    "out_channels = 2 # output channels\n",
    "kernel_size = (2, 2) # kernel size\n",
    "\n",
    "padding = 1 # padding (optional)\n",
    "stride = 2 # stride (optional)\n",
    "dilation = 1 # dilation factor (optional)\n",
    "groups = 1 # groups (optional)\n",
    "\n",
    "in_batches = 2 # input batches\n",
    "in_h = 4 # input height\n",
    "in_w = 4 # input weight\n",
    "\n",
    "_input = np.random.rand(in_batches, in_channels, in_h, in_w) # define a random image based on the input parameters\n",
    "kernels = []\n",
    "for k in range(out_channels):\n",
    "    kernel = np.random.rand(int(in_channels / groups), kernel_size[0], kernel_size[1]) # define a random kernel based on the kernel parameters\n",
    "    kernels.append(kernel)"
   ]
  },
  {
   "cell_type": "code",
   "execution_count": 24,
   "id": "29c79bef",
   "metadata": {},
   "outputs": [],
   "source": [
    "# get Conv2DPytTest output with the random inputs\n",
    "\n",
    "conv2dpyttestgroups = Conv2DPytTestGroups(in_channels, out_channels, kernel_size, stride = stride, padding = padding, dilation = dilation, groups = groups, debug = debug, verbose = False) # call an instance of the class with the input parameters \n",
    "_output = conv2dpyttestgroups.forward(_input, kernels) # perform convolution"
   ]
  },
  {
   "cell_type": "code",
   "execution_count": 25,
   "id": "df346af0",
   "metadata": {},
   "outputs": [
    {
     "name": "stdout",
     "output_type": "stream",
     "text": [
      "*** PyTorch output ***\n",
      "tensor([[[[0.5544, 1.3145, 0.6396],\n",
      "          [0.5616, 1.5347, 1.3313],\n",
      "          [0.1406, 0.4357, 0.4896]],\n",
      "\n",
      "         [[0.3656, 1.1316, 0.3364],\n",
      "          [1.4700, 2.2986, 0.9741],\n",
      "          [0.1595, 0.8355, 0.8748]]],\n",
      "\n",
      "\n",
      "        [[[0.6633, 2.1084, 1.0179],\n",
      "          [1.0221, 2.6983, 1.2511],\n",
      "          [0.0761, 0.3528, 0.2998]],\n",
      "\n",
      "         [[0.7676, 1.3263, 0.5424],\n",
      "          [0.7417, 3.3255, 1.4209],\n",
      "          [0.5697, 0.5124, 0.5588]]]], dtype=torch.float64)\n"
     ]
    }
   ],
   "source": [
    "# get PyTorch output with the same random inputs as above\n",
    "\n",
    "import torch\n",
    "\n",
    "x = torch.DoubleTensor(_input)\n",
    "weights = torch.stack([torch.DoubleTensor(kernel) for kernel in kernels])\n",
    "output = torch.nn.functional.conv2d(x, weights, stride = stride, padding = padding, groups = groups)\n",
    "print(\"*** PyTorch output ***\")\n",
    "print(output)"
   ]
  },
  {
   "cell_type": "code",
   "execution_count": 26,
   "id": "d8e5a3f5",
   "metadata": {
    "scrolled": true
   },
   "outputs": [
    {
     "name": "stdout",
     "output_type": "stream",
     "text": [
      "True\n"
     ]
    }
   ],
   "source": [
    "# compare outputs of conv-Numpy and PyTorch\n",
    "print(torch.equal(torch.round(torch.DoubleTensor(_output)), torch.round(output))) # need to round the output due to precision difference"
   ]
  },
  {
   "cell_type": "markdown",
   "id": "c87813f3",
   "metadata": {},
   "source": [
    "### Extensive tests (random kernel, random input)"
   ]
  },
  {
   "cell_type": "code",
   "execution_count": 27,
   "id": "8b986f3c",
   "metadata": {},
   "outputs": [],
   "source": [
    "def valid_params(num_tests):\n",
    "    # generates `num_samples` number of valid input and kernel parameters \n",
    "    params_list = []\n",
    "    sample_count = 0\n",
    "    while sample_count < num_tests:\n",
    "        in_channels = np.random.randint(20) + 1 # input channels\n",
    "        out_channels = np.random.randint(40) + 1 # output channels\n",
    "        \n",
    "        ker_h = np.random.randint(20) + 1\n",
    "        ker_w = np.random.randint(20) + 1\n",
    "        kernel_size = (ker_h, ker_w) # kernel size\n",
    "        \n",
    "        padding = np.random.randint(10) + 1 # padding (optional)\n",
    "        stride = np.random.randint(5) + 1 # stride (optional)\n",
    "        dilation = np.random.randint(10) + 1 # dilation factor (optional)\n",
    "        groups = np.random.randint(in_channels) + 1 # groups (optional)\n",
    "        \n",
    "        in_batches = np.random.randint(5) + 1 # input batches\n",
    "        in_h = np.random.randint(30) + 5 # input height\n",
    "        in_w = np.random.randint(30) + 5 # input weight\n",
    "    \n",
    "        ker_h_flag, ker_w_flag, out_h_flag, out_w_flag, in_group_flag, out_group_flag, valid_group_flag = True, True, True, True, True, True, True\n",
    "        \n",
    "        if in_h + 2 * padding < dilation * (ker_h - 1) + 1: # check if (dilated) ker_h is valid\n",
    "            ker_h_flag = False\n",
    "        if in_w + 2 * padding < dilation * (ker_w - 1) + 1: # check if (dilated) ker_w is valid\n",
    "            ker_w_flag = False\n",
    "        if ((in_h + 2 * padding - (dilation * (ker_h - 1) + 1)) / stride) + 1 < 0: # check if out_h is valid\n",
    "            out_h_flag = False\n",
    "        if ((in_w + 2 * padding - (dilation * (ker_w - 1) + 1)) / stride) + 1 < 0: # check if out_w is valid\n",
    "            out_w_flag = False\n",
    "        if  in_channels % groups != 0: # check if groups is valid\n",
    "            in_group_flag = False\n",
    "        if out_channels % groups != 0: # check if groups is valid\n",
    "            out_group_flag = False\n",
    "        if not (groups == 1 or groups == in_channels): # check if groups is valid - remove once groups is properly implemented\n",
    "            valid_group_flag = False\n",
    "            \n",
    "        if ker_h_flag and ker_w_flag and out_h_flag and out_w_flag and in_group_flag and out_group_flag and valid_group_flag:\n",
    "            params_list.append({'in_channels': in_channels, 'out_channels': out_channels, 'kernel_size': kernel_size,\n",
    "                          'padding': padding, 'stride': stride, 'dilation': dilation, 'groups': groups, 'in_batches': in_batches,\n",
    "                          'in_h': in_h, 'in_w': in_w})\n",
    "            sample_count += 1\n",
    "    return params_list"
   ]
  },
  {
   "cell_type": "code",
   "execution_count": 31,
   "id": "472a4c0f",
   "metadata": {},
   "outputs": [
    {
     "name": "stdout",
     "output_type": "stream",
     "text": [
      "Number of tests: 200\n",
      "\n",
      "\n"
     ]
    },
    {
     "name": "stderr",
     "output_type": "stream",
     "text": [
      "\r",
      "  0%|                                                   | 0/200 [00:00<?, ?it/s]"
     ]
    },
    {
     "name": "stdout",
     "output_type": "stream",
     "text": [
      "Test: 0\n",
      "Params: {'in_channels': 4, 'out_channels': 9, 'kernel_size': (3, 9), 'padding': 4, 'stride': 2, 'dilation': 1, 'groups': 1, 'in_batches': 5, 'in_h': 19, 'in_w': 17}\n"
     ]
    },
    {
     "name": "stderr",
     "output_type": "stream",
     "text": [
      "\r",
      "  0%|▏                                          | 1/200 [00:01<04:22,  1.32s/it]"
     ]
    },
    {
     "name": "stdout",
     "output_type": "stream",
     "text": [
      "Result: True\n",
      "\n",
      "\n",
      "Test: 1\n",
      "Params: {'in_channels': 10, 'out_channels': 36, 'kernel_size': (5, 5), 'padding': 5, 'stride': 4, 'dilation': 6, 'groups': 1, 'in_batches': 2, 'in_h': 15, 'in_w': 27}\n"
     ]
    },
    {
     "name": "stderr",
     "output_type": "stream",
     "text": [
      "\r",
      "  1%|▍                                          | 2/200 [00:06<10:57,  3.32s/it]"
     ]
    },
    {
     "name": "stdout",
     "output_type": "stream",
     "text": [
      "Result: True\n",
      "\n",
      "\n",
      "Test: 2\n",
      "Params: {'in_channels': 9, 'out_channels': 29, 'kernel_size': (12, 4), 'padding': 10, 'stride': 3, 'dilation': 2, 'groups': 1, 'in_batches': 3, 'in_h': 30, 'in_w': 10}\n"
     ]
    },
    {
     "name": "stderr",
     "output_type": "stream",
     "text": [
      "\r",
      "  2%|▋                                          | 3/200 [00:31<44:49, 13.65s/it]"
     ]
    },
    {
     "name": "stdout",
     "output_type": "stream",
     "text": [
      "Result: True\n",
      "\n",
      "\n",
      "Test: 3\n",
      "Params: {'in_channels': 6, 'out_channels': 11, 'kernel_size': (10, 7), 'padding': 6, 'stride': 3, 'dilation': 2, 'groups': 1, 'in_batches': 4, 'in_h': 30, 'in_w': 29}\n"
     ]
    },
    {
     "name": "stderr",
     "output_type": "stream",
     "text": [
      "\r",
      "  2%|▊                                          | 4/200 [00:44<43:14, 13.24s/it]"
     ]
    },
    {
     "name": "stdout",
     "output_type": "stream",
     "text": [
      "Result: True\n",
      "\n",
      "\n",
      "Test: 4\n",
      "Params: {'in_channels': 19, 'out_channels': 4, 'kernel_size': (17, 15), 'padding': 6, 'stride': 4, 'dilation': 2, 'groups': 1, 'in_batches': 2, 'in_h': 26, 'in_w': 22}\n"
     ]
    },
    {
     "name": "stderr",
     "output_type": "stream",
     "text": [
      "  4%|█▌                                         | 7/200 [00:46<14:19,  4.45s/it]"
     ]
    },
    {
     "name": "stdout",
     "output_type": "stream",
     "text": [
      "Result: True\n",
      "\n",
      "\n",
      "Test: 5\n",
      "Params: {'in_channels': 3, 'out_channels': 15, 'kernel_size': (3, 12), 'padding': 2, 'stride': 3, 'dilation': 1, 'groups': 1, 'in_batches': 1, 'in_h': 22, 'in_w': 12}\n",
      "Result: True\n",
      "\n",
      "\n",
      "Test: 6\n",
      "Params: {'in_channels': 2, 'out_channels': 3, 'kernel_size': (2, 12), 'padding': 2, 'stride': 1, 'dilation': 1, 'groups': 1, 'in_batches': 1, 'in_h': 11, 'in_w': 26}\n",
      "Result: True\n",
      "\n",
      "\n",
      "Test: 7\n",
      "Params: {'in_channels': 7, 'out_channels': 21, 'kernel_size': (11, 17), 'padding': 6, 'stride': 2, 'dilation': 1, 'groups': 7, 'in_batches': 1, 'in_h': 30, 'in_w': 33}\n"
     ]
    },
    {
     "name": "stderr",
     "output_type": "stream",
     "text": [
      "\r",
      "  4%|█▋                                         | 8/200 [00:46<11:07,  3.47s/it]"
     ]
    },
    {
     "name": "stdout",
     "output_type": "stream",
     "text": [
      "index 7 is out of bounds for axis 0 with size 7\n",
      "Result: True\n",
      "\n",
      "\n",
      "Test: 8\n",
      "Params: {'in_channels': 10, 'out_channels': 30, 'kernel_size': (5, 1), 'padding': 7, 'stride': 5, 'dilation': 1, 'groups': 10, 'in_batches': 4, 'in_h': 28, 'in_w': 24}\n",
      "index 10 is out of bounds for axis 0 with size 10\n",
      "Result: True\n",
      "\n",
      "\n",
      "Test: 9\n",
      "Params: {'in_channels': 1, 'out_channels': 38, 'kernel_size': (10, 6), 'padding': 9, 'stride': 1, 'dilation': 4, 'groups': 1, 'in_batches': 3, 'in_h': 21, 'in_w': 32}\n"
     ]
    },
    {
     "name": "stderr",
     "output_type": "stream",
     "text": [
      "\r",
      "  5%|██                                        | 10/200 [01:06<19:52,  6.28s/it]"
     ]
    },
    {
     "name": "stdout",
     "output_type": "stream",
     "text": [
      "Result: True\n",
      "\n",
      "\n",
      "Test: 10\n",
      "Params: {'in_channels': 2, 'out_channels': 11, 'kernel_size': (1, 6), 'padding': 5, 'stride': 5, 'dilation': 1, 'groups': 1, 'in_batches': 4, 'in_h': 14, 'in_w': 15}\n",
      "Result: True\n",
      "\n",
      "\n",
      "Test: 11\n",
      "Params: {'in_channels': 9, 'out_channels': 16, 'kernel_size': (2, 3), 'padding': 8, 'stride': 3, 'dilation': 9, 'groups': 1, 'in_batches': 5, 'in_h': 32, 'in_w': 14}\n"
     ]
    },
    {
     "name": "stderr",
     "output_type": "stream",
     "text": [
      "\r",
      "  6%|██▌                                       | 12/200 [01:23<22:20,  7.13s/it]"
     ]
    },
    {
     "name": "stdout",
     "output_type": "stream",
     "text": [
      "Result: True\n",
      "\n",
      "\n",
      "Test: 12\n",
      "Params: {'in_channels': 10, 'out_channels': 8, 'kernel_size': (5, 1), 'padding': 10, 'stride': 1, 'dilation': 7, 'groups': 1, 'in_batches': 4, 'in_h': 10, 'in_w': 10}\n"
     ]
    },
    {
     "name": "stderr",
     "output_type": "stream",
     "text": [
      "\r",
      "  6%|██▋                                       | 13/200 [01:25<18:28,  5.93s/it]"
     ]
    },
    {
     "name": "stdout",
     "output_type": "stream",
     "text": [
      "Result: True\n",
      "\n",
      "\n",
      "Test: 13\n",
      "Params: {'in_channels': 1, 'out_channels': 21, 'kernel_size': (2, 6), 'padding': 1, 'stride': 5, 'dilation': 2, 'groups': 1, 'in_batches': 2, 'in_h': 25, 'in_w': 9}\n",
      "Result: True\n",
      "\n",
      "\n",
      "Test: 14\n",
      "Params: {'in_channels': 3, 'out_channels': 39, 'kernel_size': (3, 2), 'padding': 9, 'stride': 3, 'dilation': 4, 'groups': 3, 'in_batches': 5, 'in_h': 15, 'in_w': 20}\n",
      "index 3 is out of bounds for axis 0 with size 3\n",
      "Result: True\n",
      "\n",
      "\n",
      "Test: 15\n",
      "Params: {'in_channels': 10, 'out_channels': 25, 'kernel_size': (11, 10), 'padding': 8, 'stride': 4, 'dilation': 3, 'groups': 1, 'in_batches': 2, 'in_h': 17, 'in_w': 30}\n"
     ]
    },
    {
     "name": "stderr",
     "output_type": "stream",
     "text": [
      "\r",
      "  8%|███▎                                      | 16/200 [01:30<11:59,  3.91s/it]"
     ]
    },
    {
     "name": "stdout",
     "output_type": "stream",
     "text": [
      "Result: True\n",
      "\n",
      "\n",
      "Test: 16\n",
      "Params: {'in_channels': 1, 'out_channels': 3, 'kernel_size': (7, 9), 'padding': 8, 'stride': 1, 'dilation': 5, 'groups': 1, 'in_batches': 3, 'in_h': 31, 'in_w': 34}\n"
     ]
    },
    {
     "name": "stderr",
     "output_type": "stream",
     "text": [
      "\r",
      "  8%|███▌                                      | 17/200 [01:35<12:21,  4.05s/it]"
     ]
    },
    {
     "name": "stdout",
     "output_type": "stream",
     "text": [
      "Result: True\n",
      "\n",
      "\n",
      "Test: 17\n",
      "Params: {'in_channels': 2, 'out_channels': 38, 'kernel_size': (1, 9), 'padding': 7, 'stride': 2, 'dilation': 3, 'groups': 2, 'in_batches': 1, 'in_h': 21, 'in_w': 24}\n",
      "index 2 is out of bounds for axis 0 with size 2\n",
      "Result: True\n",
      "\n",
      "\n",
      "Test: 18\n",
      "Params: {'in_channels': 5, 'out_channels': 21, 'kernel_size': (19, 8), 'padding': 7, 'stride': 5, 'dilation': 1, 'groups': 1, 'in_batches': 3, 'in_h': 24, 'in_w': 22}\n"
     ]
    },
    {
     "name": "stderr",
     "output_type": "stream",
     "text": [
      "\r",
      " 10%|███▉                                      | 19/200 [01:38<09:29,  3.15s/it]"
     ]
    },
    {
     "name": "stdout",
     "output_type": "stream",
     "text": [
      "Result: True\n",
      "\n",
      "\n",
      "Test: 19\n",
      "Params: {'in_channels': 14, 'out_channels': 4, 'kernel_size': (15, 3), 'padding': 6, 'stride': 2, 'dilation': 2, 'groups': 1, 'in_batches': 1, 'in_h': 32, 'in_w': 17}\n"
     ]
    },
    {
     "name": "stderr",
     "output_type": "stream",
     "text": [
      "\r",
      " 10%|████▏                                     | 20/200 [01:40<08:47,  2.93s/it]"
     ]
    },
    {
     "name": "stdout",
     "output_type": "stream",
     "text": [
      "Result: True\n",
      "\n",
      "\n",
      "Test: 20\n",
      "Params: {'in_channels': 2, 'out_channels': 29, 'kernel_size': (7, 16), 'padding': 5, 'stride': 5, 'dilation': 2, 'groups': 1, 'in_batches': 5, 'in_h': 34, 'in_w': 34}\n"
     ]
    },
    {
     "name": "stderr",
     "output_type": "stream",
     "text": [
      "\r",
      " 10%|████▍                                     | 21/200 [01:46<11:05,  3.72s/it]"
     ]
    },
    {
     "name": "stdout",
     "output_type": "stream",
     "text": [
      "Result: True\n",
      "\n",
      "\n",
      "Test: 21\n",
      "Params: {'in_channels': 11, 'out_channels': 25, 'kernel_size': (8, 6), 'padding': 4, 'stride': 3, 'dilation': 2, 'groups': 1, 'in_batches': 1, 'in_h': 12, 'in_w': 22}\n"
     ]
    },
    {
     "name": "stderr",
     "output_type": "stream",
     "text": [
      " 12%|█████                                     | 24/200 [01:48<05:41,  1.94s/it]"
     ]
    },
    {
     "name": "stdout",
     "output_type": "stream",
     "text": [
      "Result: True\n",
      "\n",
      "\n",
      "Test: 22\n",
      "Params: {'in_channels': 1, 'out_channels': 38, 'kernel_size': (5, 1), 'padding': 9, 'stride': 4, 'dilation': 1, 'groups': 1, 'in_batches': 2, 'in_h': 19, 'in_w': 8}\n",
      "Result: True\n",
      "\n",
      "\n",
      "Test: 23\n",
      "Params: {'in_channels': 1, 'out_channels': 4, 'kernel_size': (7, 14), 'padding': 1, 'stride': 2, 'dilation': 1, 'groups': 1, 'in_batches': 3, 'in_h': 13, 'in_w': 16}\n",
      "Result: True\n",
      "\n",
      "\n",
      "Test: 24\n",
      "Params: {'in_channels': 1, 'out_channels': 31, 'kernel_size': (14, 7), 'padding': 2, 'stride': 2, 'dilation': 2, 'groups': 1, 'in_batches': 1, 'in_h': 29, 'in_w': 16}\n"
     ]
    },
    {
     "name": "stderr",
     "output_type": "stream",
     "text": [
      "\r",
      " 12%|█████▎                                    | 25/200 [01:48<04:43,  1.62s/it]"
     ]
    },
    {
     "name": "stdout",
     "output_type": "stream",
     "text": [
      "Result: True\n",
      "\n",
      "\n",
      "Test: 25\n",
      "Params: {'in_channels': 6, 'out_channels': 6, 'kernel_size': (9, 20), 'padding': 2, 'stride': 2, 'dilation': 1, 'groups': 1, 'in_batches': 2, 'in_h': 31, 'in_w': 30}\n"
     ]
    },
    {
     "name": "stderr",
     "output_type": "stream",
     "text": [
      "\r",
      " 13%|█████▍                                    | 26/200 [01:52<06:03,  2.09s/it]"
     ]
    },
    {
     "name": "stdout",
     "output_type": "stream",
     "text": [
      "Result: True\n",
      "\n",
      "\n",
      "Test: 26\n",
      "Params: {'in_channels': 2, 'out_channels': 24, 'kernel_size': (5, 9), 'padding': 7, 'stride': 2, 'dilation': 4, 'groups': 1, 'in_batches': 5, 'in_h': 18, 'in_w': 24}\n"
     ]
    },
    {
     "name": "stderr",
     "output_type": "stream",
     "text": [
      "\r",
      " 14%|█████▋                                    | 27/200 [02:05<14:01,  4.86s/it]"
     ]
    },
    {
     "name": "stdout",
     "output_type": "stream",
     "text": [
      "Result: True\n",
      "\n",
      "\n",
      "Test: 27\n",
      "Params: {'in_channels': 2, 'out_channels': 5, 'kernel_size': (3, 7), 'padding': 10, 'stride': 2, 'dilation': 2, 'groups': 1, 'in_batches': 3, 'in_h': 21, 'in_w': 30}\n"
     ]
    },
    {
     "name": "stderr",
     "output_type": "stream",
     "text": [
      "\r",
      " 14%|█████▉                                    | 28/200 [02:07<12:13,  4.26s/it]"
     ]
    },
    {
     "name": "stdout",
     "output_type": "stream",
     "text": [
      "Result: True\n",
      "\n",
      "\n",
      "Test: 28\n",
      "Params: {'in_channels': 5, 'out_channels': 36, 'kernel_size': (5, 2), 'padding': 6, 'stride': 3, 'dilation': 4, 'groups': 1, 'in_batches': 3, 'in_h': 15, 'in_w': 8}\n"
     ]
    },
    {
     "name": "stderr",
     "output_type": "stream",
     "text": [
      "\r",
      " 14%|██████                                    | 29/200 [02:13<13:02,  4.57s/it]"
     ]
    },
    {
     "name": "stdout",
     "output_type": "stream",
     "text": [
      "Result: True\n",
      "\n",
      "\n",
      "Test: 29\n",
      "Params: {'in_channels': 1, 'out_channels': 39, 'kernel_size': (6, 2), 'padding': 8, 'stride': 4, 'dilation': 5, 'groups': 1, 'in_batches': 4, 'in_h': 16, 'in_w': 21}\n"
     ]
    },
    {
     "name": "stderr",
     "output_type": "stream",
     "text": [
      "\r",
      " 15%|██████▎                                   | 30/200 [02:14<10:20,  3.65s/it]"
     ]
    },
    {
     "name": "stdout",
     "output_type": "stream",
     "text": [
      "Result: True\n",
      "\n",
      "\n",
      "Test: 30\n",
      "Params: {'in_channels': 2, 'out_channels': 11, 'kernel_size': (11, 4), 'padding': 9, 'stride': 2, 'dilation': 1, 'groups': 1, 'in_batches': 2, 'in_h': 9, 'in_w': 24}\n"
     ]
    },
    {
     "name": "stderr",
     "output_type": "stream",
     "text": [
      "\r",
      " 16%|██████▌                                   | 31/200 [02:15<08:16,  2.94s/it]"
     ]
    },
    {
     "name": "stdout",
     "output_type": "stream",
     "text": [
      "Result: True\n",
      "\n",
      "\n",
      "Test: 31\n",
      "Params: {'in_channels': 2, 'out_channels': 8, 'kernel_size': (3, 3), 'padding': 6, 'stride': 3, 'dilation': 7, 'groups': 1, 'in_batches': 1, 'in_h': 28, 'in_w': 24}\n"
     ]
    },
    {
     "name": "stderr",
     "output_type": "stream",
     "text": [
      "\r",
      " 16%|██████▋                                   | 32/200 [02:16<06:23,  2.28s/it]"
     ]
    },
    {
     "name": "stdout",
     "output_type": "stream",
     "text": [
      "Result: True\n",
      "\n",
      "\n",
      "Test: 32\n",
      "Params: {'in_channels': 4, 'out_channels': 5, 'kernel_size': (1, 19), 'padding': 2, 'stride': 2, 'dilation': 1, 'groups': 1, 'in_batches': 1, 'in_h': 8, 'in_w': 16}\n",
      "invalid input parameters: output width is negative\n",
      "Result: True\n",
      "\n",
      "\n",
      "Test: 33\n",
      "Params: {'in_channels': 8, 'out_channels': 32, 'kernel_size': (2, 3), 'padding': 6, 'stride': 2, 'dilation': 3, 'groups': 8, 'in_batches': 3, 'in_h': 32, 'in_w': 23}\n"
     ]
    },
    {
     "name": "stderr",
     "output_type": "stream",
     "text": [
      " 18%|███████▊                                  | 37/200 [02:16<01:52,  1.45it/s]"
     ]
    },
    {
     "name": "stdout",
     "output_type": "stream",
     "text": [
      "index 8 is out of bounds for axis 0 with size 8\n",
      "Result: True\n",
      "\n",
      "\n",
      "Test: 34\n",
      "Params: {'in_channels': 8, 'out_channels': 24, 'kernel_size': (11, 4), 'padding': 1, 'stride': 3, 'dilation': 1, 'groups': 8, 'in_batches': 4, 'in_h': 24, 'in_w': 9}\n",
      "index 8 is out of bounds for axis 0 with size 8\n",
      "Result: True\n",
      "\n",
      "\n",
      "Test: 35\n",
      "Params: {'in_channels': 1, 'out_channels': 14, 'kernel_size': (19, 2), 'padding': 4, 'stride': 5, 'dilation': 2, 'groups': 1, 'in_batches': 5, 'in_h': 31, 'in_w': 8}\n",
      "Result: True\n",
      "\n",
      "\n",
      "Test: 36\n",
      "Params: {'in_channels': 2, 'out_channels': 16, 'kernel_size': (6, 2), 'padding': 9, 'stride': 2, 'dilation': 3, 'groups': 2, 'in_batches': 4, 'in_h': 8, 'in_w': 31}\n",
      "index 2 is out of bounds for axis 0 with size 2\n",
      "Result: True\n",
      "\n",
      "\n",
      "Test: 37\n",
      "Params: {'in_channels': 1, 'out_channels': 33, 'kernel_size': (3, 7), 'padding': 2, 'stride': 1, 'dilation': 1, 'groups': 1, 'in_batches': 2, 'in_h': 6, 'in_w': 15}\n"
     ]
    },
    {
     "name": "stderr",
     "output_type": "stream",
     "text": [
      "\r",
      " 19%|███████▉                                  | 38/200 [02:17<01:44,  1.55it/s]"
     ]
    },
    {
     "name": "stdout",
     "output_type": "stream",
     "text": [
      "Result: True\n",
      "\n",
      "\n",
      "Test: 38\n",
      "Params: {'in_channels': 1, 'out_channels': 29, 'kernel_size': (17, 16), 'padding': 4, 'stride': 5, 'dilation': 2, 'groups': 1, 'in_batches': 4, 'in_h': 33, 'in_w': 30}\n"
     ]
    },
    {
     "name": "stderr",
     "output_type": "stream",
     "text": [
      "\r",
      " 20%|████████▏                                 | 39/200 [02:18<02:03,  1.30it/s]"
     ]
    },
    {
     "name": "stdout",
     "output_type": "stream",
     "text": [
      "Result: True\n",
      "\n",
      "\n",
      "Test: 39\n",
      "Params: {'in_channels': 1, 'out_channels': 23, 'kernel_size': (19, 17), 'padding': 8, 'stride': 4, 'dilation': 1, 'groups': 1, 'in_batches': 2, 'in_h': 5, 'in_w': 6}\n",
      "Result: True\n",
      "\n",
      "\n",
      "Test: 40\n",
      "Params: {'in_channels': 10, 'out_channels': 5, 'kernel_size': (13, 6), 'padding': 10, 'stride': 2, 'dilation': 4, 'groups': 1, 'in_batches': 5, 'in_h': 31, 'in_w': 33}\n"
     ]
    },
    {
     "name": "stderr",
     "output_type": "stream",
     "text": [
      "\r",
      " 20%|████████▌                                 | 41/200 [02:41<12:31,  4.73s/it]"
     ]
    },
    {
     "name": "stdout",
     "output_type": "stream",
     "text": [
      "Result: True\n",
      "\n",
      "\n",
      "Test: 41\n",
      "Params: {'in_channels': 8, 'out_channels': 2, 'kernel_size': (4, 4), 'padding': 8, 'stride': 3, 'dilation': 1, 'groups': 1, 'in_batches': 3, 'in_h': 26, 'in_w': 7}\n"
     ]
    },
    {
     "name": "stderr",
     "output_type": "stream",
     "text": [
      "\r",
      " 21%|████████▊                                 | 42/200 [02:41<09:56,  3.78s/it]"
     ]
    },
    {
     "name": "stdout",
     "output_type": "stream",
     "text": [
      "Result: True\n",
      "\n",
      "\n",
      "Test: 42\n",
      "Params: {'in_channels': 8, 'out_channels': 34, 'kernel_size': (10, 19), 'padding': 8, 'stride': 2, 'dilation': 1, 'groups': 1, 'in_batches': 1, 'in_h': 17, 'in_w': 21}\n"
     ]
    },
    {
     "name": "stderr",
     "output_type": "stream",
     "text": [
      "\r",
      " 22%|█████████                                 | 43/200 [02:56<16:52,  6.45s/it]"
     ]
    },
    {
     "name": "stdout",
     "output_type": "stream",
     "text": [
      "Result: True\n",
      "\n",
      "\n",
      "Test: 43\n",
      "Params: {'in_channels': 1, 'out_channels': 19, 'kernel_size': (6, 3), 'padding': 4, 'stride': 1, 'dilation': 3, 'groups': 1, 'in_batches': 4, 'in_h': 24, 'in_w': 11}\n"
     ]
    },
    {
     "name": "stderr",
     "output_type": "stream",
     "text": [
      "\r",
      " 22%|█████████▏                                | 44/200 [03:01<15:26,  5.94s/it]"
     ]
    },
    {
     "name": "stdout",
     "output_type": "stream",
     "text": [
      "Result: True\n",
      "\n",
      "\n",
      "Test: 44\n",
      "Params: {'in_channels': 8, 'out_channels': 27, 'kernel_size': (6, 1), 'padding': 9, 'stride': 1, 'dilation': 6, 'groups': 1, 'in_batches': 2, 'in_h': 22, 'in_w': 20}\n"
     ]
    },
    {
     "name": "stderr",
     "output_type": "stream",
     "text": [
      "\r",
      " 22%|█████████▍                                | 45/200 [03:15<21:15,  8.23s/it]"
     ]
    },
    {
     "name": "stdout",
     "output_type": "stream",
     "text": [
      "Result: True\n",
      "\n",
      "\n",
      "Test: 45\n",
      "Params: {'in_channels': 1, 'out_channels': 8, 'kernel_size': (10, 14), 'padding': 8, 'stride': 1, 'dilation': 1, 'groups': 1, 'in_batches': 5, 'in_h': 24, 'in_w': 14}\n"
     ]
    },
    {
     "name": "stderr",
     "output_type": "stream",
     "text": [
      "\r",
      " 23%|█████████▋                                | 46/200 [03:23<20:48,  8.11s/it]"
     ]
    },
    {
     "name": "stdout",
     "output_type": "stream",
     "text": [
      "Result: True\n",
      "\n",
      "\n",
      "Test: 46\n",
      "Params: {'in_channels': 1, 'out_channels': 13, 'kernel_size': (5, 6), 'padding': 10, 'stride': 4, 'dilation': 2, 'groups': 1, 'in_batches': 5, 'in_h': 30, 'in_w': 24}\n"
     ]
    },
    {
     "name": "stderr",
     "output_type": "stream",
     "text": [
      "\r",
      " 24%|█████████▊                                | 47/200 [03:25<16:28,  6.46s/it]"
     ]
    },
    {
     "name": "stdout",
     "output_type": "stream",
     "text": [
      "Result: True\n",
      "\n",
      "\n",
      "Test: 47\n",
      "Params: {'in_channels': 10, 'out_channels': 15, 'kernel_size': (7, 15), 'padding': 5, 'stride': 1, 'dilation': 1, 'groups': 1, 'in_batches': 3, 'in_h': 12, 'in_w': 29}\n"
     ]
    },
    {
     "name": "stderr",
     "output_type": "stream",
     "text": [
      "\r",
      " 24%|██████████                                | 48/200 [04:12<45:28, 17.95s/it]"
     ]
    },
    {
     "name": "stdout",
     "output_type": "stream",
     "text": [
      "Result: True\n",
      "\n",
      "\n",
      "Test: 48\n",
      "Params: {'in_channels': 13, 'out_channels': 15, 'kernel_size': (1, 6), 'padding': 8, 'stride': 2, 'dilation': 6, 'groups': 1, 'in_batches': 1, 'in_h': 10, 'in_w': 24}\n",
      "invalid input parameters: output width is negative\n",
      "Result: True\n",
      "\n",
      "\n",
      "Test: 49\n",
      "Params: {'in_channels': 17, 'out_channels': 19, 'kernel_size': (9, 10), 'padding': 8, 'stride': 3, 'dilation': 3, 'groups': 1, 'in_batches': 4, 'in_h': 25, 'in_w': 16}\n"
     ]
    },
    {
     "name": "stderr",
     "output_type": "stream",
     "text": [
      "\r",
      " 25%|██████████▌                               | 50/200 [04:38<39:33, 15.82s/it]"
     ]
    },
    {
     "name": "stdout",
     "output_type": "stream",
     "text": [
      "Result: True\n",
      "\n",
      "\n",
      "Test: 50\n",
      "Params: {'in_channels': 20, 'out_channels': 15, 'kernel_size': (3, 7), 'padding': 7, 'stride': 4, 'dilation': 3, 'groups': 1, 'in_batches': 1, 'in_h': 9, 'in_w': 20}\n"
     ]
    },
    {
     "name": "stderr",
     "output_type": "stream",
     "text": [
      "\r",
      " 26%|██████████▋                               | 51/200 [04:40<30:57, 12.47s/it]"
     ]
    },
    {
     "name": "stdout",
     "output_type": "stream",
     "text": [
      "Result: True\n",
      "\n",
      "\n",
      "Test: 51\n",
      "Params: {'in_channels': 5, 'out_channels': 20, 'kernel_size': (13, 13), 'padding': 9, 'stride': 2, 'dilation': 2, 'groups': 1, 'in_batches': 1, 'in_h': 20, 'in_w': 26}\n"
     ]
    },
    {
     "name": "stderr",
     "output_type": "stream",
     "text": [
      "\r",
      " 26%|██████████▉                               | 52/200 [04:51<29:28, 11.95s/it]"
     ]
    },
    {
     "name": "stdout",
     "output_type": "stream",
     "text": [
      "Result: True\n",
      "\n",
      "\n",
      "Test: 52\n",
      "Params: {'in_channels': 2, 'out_channels': 36, 'kernel_size': (5, 5), 'padding': 5, 'stride': 4, 'dilation': 6, 'groups': 2, 'in_batches': 3, 'in_h': 32, 'in_w': 26}\n",
      "index 2 is out of bounds for axis 0 with size 2\n",
      "Result: True\n",
      "\n",
      "\n",
      "Test: 53\n",
      "Params: {'in_channels': 2, 'out_channels': 34, 'kernel_size': (4, 1), 'padding': 8, 'stride': 3, 'dilation': 3, 'groups': 1, 'in_batches': 4, 'in_h': 24, 'in_w': 6}\n"
     ]
    },
    {
     "name": "stderr",
     "output_type": "stream",
     "text": [
      "\r",
      " 27%|███████████▎                              | 54/200 [04:51<17:08,  7.05s/it]"
     ]
    },
    {
     "name": "stdout",
     "output_type": "stream",
     "text": [
      "Result: True\n",
      "\n",
      "\n",
      "Test: 54\n",
      "Params: {'in_channels': 3, 'out_channels': 6, 'kernel_size': (11, 4), 'padding': 1, 'stride': 3, 'dilation': 1, 'groups': 1, 'in_batches': 4, 'in_h': 29, 'in_w': 21}\n"
     ]
    },
    {
     "name": "stderr",
     "output_type": "stream",
     "text": [
      "\r",
      " 28%|███████████▌                              | 55/200 [04:52<13:17,  5.50s/it]"
     ]
    },
    {
     "name": "stdout",
     "output_type": "stream",
     "text": [
      "Result: True\n",
      "\n",
      "\n",
      "Test: 55\n",
      "Params: {'in_channels': 1, 'out_channels': 3, 'kernel_size': (7, 5), 'padding': 2, 'stride': 5, 'dilation': 1, 'groups': 1, 'in_batches': 1, 'in_h': 18, 'in_w': 23}\n",
      "Result: True\n",
      "\n",
      "\n",
      "Test: 56\n",
      "Params: {'in_channels': 4, 'out_channels': 24, 'kernel_size': (7, 4), 'padding': 10, 'stride': 5, 'dilation': 6, 'groups': 4, 'in_batches': 1, 'in_h': 17, 'in_w': 12}\n",
      "index 4 is out of bounds for axis 0 with size 4\n",
      "Result: True\n",
      "\n",
      "\n",
      "Test: 57\n",
      "Params: {'in_channels': 2, 'out_channels': 36, 'kernel_size': (3, 14), 'padding': 10, 'stride': 5, 'dilation': 3, 'groups': 1, 'in_batches': 3, 'in_h': 24, 'in_w': 34}\n"
     ]
    },
    {
     "name": "stderr",
     "output_type": "stream",
     "text": [
      "\r",
      " 29%|████████████▏                             | 58/200 [04:56<08:05,  3.42s/it]"
     ]
    },
    {
     "name": "stdout",
     "output_type": "stream",
     "text": [
      "Result: True\n",
      "\n",
      "\n",
      "Test: 58\n",
      "Params: {'in_channels': 1, 'out_channels': 26, 'kernel_size': (2, 13), 'padding': 8, 'stride': 1, 'dilation': 2, 'groups': 1, 'in_batches': 2, 'in_h': 14, 'in_w': 34}\n"
     ]
    },
    {
     "name": "stderr",
     "output_type": "stream",
     "text": [
      "\r",
      " 30%|████████████▍                             | 59/200 [05:03<09:41,  4.12s/it]"
     ]
    },
    {
     "name": "stdout",
     "output_type": "stream",
     "text": [
      "Result: True\n",
      "\n",
      "\n",
      "Test: 59\n",
      "Params: {'in_channels': 16, 'out_channels': 26, 'kernel_size': (13, 1), 'padding': 6, 'stride': 1, 'dilation': 2, 'groups': 1, 'in_batches': 1, 'in_h': 14, 'in_w': 26}\n"
     ]
    },
    {
     "name": "stderr",
     "output_type": "stream",
     "text": [
      "\r",
      " 30%|████████████▌                             | 60/200 [05:05<08:39,  3.71s/it]"
     ]
    },
    {
     "name": "stdout",
     "output_type": "stream",
     "text": [
      "Result: True\n",
      "\n",
      "\n",
      "Test: 60\n",
      "Params: {'in_channels': 12, 'out_channels': 20, 'kernel_size': (19, 15), 'padding': 6, 'stride': 2, 'dilation': 1, 'groups': 1, 'in_batches': 2, 'in_h': 19, 'in_w': 7}\n"
     ]
    },
    {
     "name": "stderr",
     "output_type": "stream",
     "text": [
      "\r",
      " 30%|████████████▊                             | 61/200 [05:12<10:20,  4.46s/it]"
     ]
    },
    {
     "name": "stdout",
     "output_type": "stream",
     "text": [
      "Result: True\n",
      "\n",
      "\n",
      "Test: 61\n",
      "Params: {'in_channels': 1, 'out_channels': 30, 'kernel_size': (2, 10), 'padding': 6, 'stride': 3, 'dilation': 1, 'groups': 1, 'in_batches': 1, 'in_h': 28, 'in_w': 29}\n"
     ]
    },
    {
     "name": "stderr",
     "output_type": "stream",
     "text": [
      " 32%|█████████████▋                            | 65/200 [05:12<03:43,  1.66s/it]"
     ]
    },
    {
     "name": "stdout",
     "output_type": "stream",
     "text": [
      "Result: True\n",
      "\n",
      "\n",
      "Test: 62\n",
      "Params: {'in_channels': 2, 'out_channels': 26, 'kernel_size': (11, 4), 'padding': 5, 'stride': 5, 'dilation': 1, 'groups': 2, 'in_batches': 4, 'in_h': 14, 'in_w': 12}\n",
      "index 2 is out of bounds for axis 0 with size 2\n",
      "Result: True\n",
      "\n",
      "\n",
      "Test: 63\n",
      "Params: {'in_channels': 13, 'out_channels': 18, 'kernel_size': (1, 1), 'padding': 1, 'stride': 3, 'dilation': 1, 'groups': 1, 'in_batches': 1, 'in_h': 28, 'in_w': 28}\n",
      "Result: True\n",
      "\n",
      "\n",
      "Test: 64\n",
      "Params: {'in_channels': 1, 'out_channels': 10, 'kernel_size': (4, 1), 'padding': 10, 'stride': 2, 'dilation': 1, 'groups': 1, 'in_batches': 1, 'in_h': 9, 'in_w': 15}\n",
      "Result: True\n",
      "\n",
      "\n",
      "Test: 65\n",
      "Params: {'in_channels': 5, 'out_channels': 28, 'kernel_size': (10, 8), 'padding': 6, 'stride': 4, 'dilation': 1, 'groups': 1, 'in_batches': 5, 'in_h': 31, 'in_w': 25}\n"
     ]
    },
    {
     "name": "stderr",
     "output_type": "stream",
     "text": [
      " 34%|██████████████                            | 67/200 [05:24<06:21,  2.87s/it]"
     ]
    },
    {
     "name": "stdout",
     "output_type": "stream",
     "text": [
      "Result: True\n",
      "\n",
      "\n",
      "Test: 66\n",
      "Params: {'in_channels': 2, 'out_channels': 12, 'kernel_size': (7, 13), 'padding': 7, 'stride': 2, 'dilation': 2, 'groups': 2, 'in_batches': 3, 'in_h': 28, 'in_w': 24}\n",
      "index 2 is out of bounds for axis 0 with size 2\n",
      "Result: True\n",
      "\n",
      "\n",
      "Test: 67\n",
      "Params: {'in_channels': 12, 'out_channels': 29, 'kernel_size': (3, 6), 'padding': 4, 'stride': 1, 'dilation': 4, 'groups': 1, 'in_batches': 4, 'in_h': 10, 'in_w': 16}\n",
      "invalid input parameters: output width is negative\n",
      "Result: True\n",
      "\n",
      "\n",
      "Test: 68\n",
      "Params: {'in_channels': 1, 'out_channels': 38, 'kernel_size': (8, 4), 'padding': 10, 'stride': 1, 'dilation': 5, 'groups': 1, 'in_batches': 4, 'in_h': 17, 'in_w': 12}\n"
     ]
    },
    {
     "name": "stderr",
     "output_type": "stream",
     "text": [
      "\r",
      " 34%|██████████████▍                           | 69/200 [05:31<06:38,  3.04s/it]"
     ]
    },
    {
     "name": "stdout",
     "output_type": "stream",
     "text": [
      "Result: True\n",
      "\n",
      "\n",
      "Test: 69\n",
      "Params: {'in_channels': 2, 'out_channels': 4, 'kernel_size': (3, 3), 'padding': 6, 'stride': 4, 'dilation': 9, 'groups': 1, 'in_batches': 1, 'in_h': 29, 'in_w': 34}\n"
     ]
    },
    {
     "name": "stderr",
     "output_type": "stream",
     "text": [
      "\r",
      " 35%|██████████████▋                           | 70/200 [05:31<05:18,  2.45s/it]"
     ]
    },
    {
     "name": "stdout",
     "output_type": "stream",
     "text": [
      "Result: True\n",
      "\n",
      "\n",
      "Test: 70\n",
      "Params: {'in_channels': 3, 'out_channels': 3, 'kernel_size': (6, 1), 'padding': 6, 'stride': 1, 'dilation': 4, 'groups': 1, 'in_batches': 3, 'in_h': 19, 'in_w': 26}\n"
     ]
    },
    {
     "name": "stderr",
     "output_type": "stream",
     "text": [
      "\r",
      " 36%|██████████████▉                           | 71/200 [05:32<04:20,  2.02s/it]"
     ]
    },
    {
     "name": "stdout",
     "output_type": "stream",
     "text": [
      "Result: True\n",
      "\n",
      "\n",
      "Test: 71\n",
      "Params: {'in_channels': 3, 'out_channels': 37, 'kernel_size': (2, 4), 'padding': 3, 'stride': 1, 'dilation': 8, 'groups': 1, 'in_batches': 4, 'in_h': 7, 'in_w': 30}\n",
      "invalid input parameters: output width is negative\n",
      "Result: True\n",
      "\n",
      "\n",
      "Test: 72\n",
      "Params: {'in_channels': 18, 'out_channels': 31, 'kernel_size': (13, 6), 'padding': 2, 'stride': 5, 'dilation': 1, 'groups': 1, 'in_batches': 5, 'in_h': 27, 'in_w': 10}\n"
     ]
    },
    {
     "name": "stderr",
     "output_type": "stream",
     "text": [
      "\r",
      " 36%|███████████████▎                          | 73/200 [05:36<04:25,  2.09s/it]"
     ]
    },
    {
     "name": "stdout",
     "output_type": "stream",
     "text": [
      "Result: True\n",
      "\n",
      "\n",
      "Test: 73\n",
      "Params: {'in_channels': 1, 'out_channels': 20, 'kernel_size': (1, 13), 'padding': 9, 'stride': 2, 'dilation': 3, 'groups': 1, 'in_batches': 4, 'in_h': 10, 'in_w': 33}\n",
      "invalid input parameters: output width is negative\n",
      "Result: True\n",
      "\n",
      "\n",
      "Test: 74\n",
      "Params: {'in_channels': 2, 'out_channels': 17, 'kernel_size': (14, 2), 'padding': 6, 'stride': 1, 'dilation': 2, 'groups': 1, 'in_batches': 3, 'in_h': 25, 'in_w': 27}\n"
     ]
    },
    {
     "name": "stderr",
     "output_type": "stream",
     "text": [
      "\r",
      " 38%|███████████████▊                          | 75/200 [05:45<06:09,  2.95s/it]"
     ]
    },
    {
     "name": "stdout",
     "output_type": "stream",
     "text": [
      "Result: True\n",
      "\n",
      "\n",
      "Test: 75\n",
      "Params: {'in_channels': 8, 'out_channels': 17, 'kernel_size': (15, 14), 'padding': 5, 'stride': 5, 'dilation': 1, 'groups': 1, 'in_batches': 4, 'in_h': 11, 'in_w': 26}\n"
     ]
    },
    {
     "name": "stderr",
     "output_type": "stream",
     "text": [
      "\r",
      " 38%|███████████████▉                          | 76/200 [05:48<06:05,  2.95s/it]"
     ]
    },
    {
     "name": "stdout",
     "output_type": "stream",
     "text": [
      "Result: True\n",
      "\n",
      "\n",
      "Test: 76\n",
      "Params: {'in_channels': 2, 'out_channels': 18, 'kernel_size': (7, 7), 'padding': 2, 'stride': 2, 'dilation': 3, 'groups': 1, 'in_batches': 4, 'in_h': 26, 'in_w': 22}\n"
     ]
    },
    {
     "name": "stderr",
     "output_type": "stream",
     "text": [
      "\r",
      " 38%|████████████████▏                         | 77/200 [05:51<06:06,  2.98s/it]"
     ]
    },
    {
     "name": "stdout",
     "output_type": "stream",
     "text": [
      "Result: True\n",
      "\n",
      "\n",
      "Test: 77\n",
      "Params: {'in_channels': 16, 'out_channels': 26, 'kernel_size': (4, 14), 'padding': 3, 'stride': 3, 'dilation': 1, 'groups': 1, 'in_batches': 4, 'in_h': 6, 'in_w': 22}\n"
     ]
    },
    {
     "name": "stderr",
     "output_type": "stream",
     "text": [
      "\r",
      " 39%|████████████████▍                         | 78/200 [05:55<06:26,  3.17s/it]"
     ]
    },
    {
     "name": "stdout",
     "output_type": "stream",
     "text": [
      "Result: True\n",
      "\n",
      "\n",
      "Test: 78\n",
      "Params: {'in_channels': 1, 'out_channels': 22, 'kernel_size': (5, 3), 'padding': 6, 'stride': 1, 'dilation': 4, 'groups': 1, 'in_batches': 3, 'in_h': 13, 'in_w': 33}\n"
     ]
    },
    {
     "name": "stderr",
     "output_type": "stream",
     "text": [
      "\r",
      " 40%|████████████████▌                         | 79/200 [06:03<09:06,  4.51s/it]"
     ]
    },
    {
     "name": "stdout",
     "output_type": "stream",
     "text": [
      "Result: True\n",
      "\n",
      "\n",
      "Test: 79\n",
      "Params: {'in_channels': 2, 'out_channels': 30, 'kernel_size': (3, 2), 'padding': 7, 'stride': 3, 'dilation': 10, 'groups': 1, 'in_batches': 4, 'in_h': 30, 'in_w': 9}\n"
     ]
    },
    {
     "name": "stderr",
     "output_type": "stream",
     "text": [
      "\r",
      " 40%|████████████████▊                         | 80/200 [06:08<09:26,  4.72s/it]"
     ]
    },
    {
     "name": "stdout",
     "output_type": "stream",
     "text": [
      "Result: True\n",
      "\n",
      "\n",
      "Test: 80\n",
      "Params: {'in_channels': 2, 'out_channels': 12, 'kernel_size': (6, 7), 'padding': 5, 'stride': 1, 'dilation': 4, 'groups': 2, 'in_batches': 3, 'in_h': 30, 'in_w': 24}\n"
     ]
    },
    {
     "name": "stderr",
     "output_type": "stream",
     "text": [
      "\r",
      " 40%|█████████████████                         | 81/200 [06:09<07:02,  3.55s/it]"
     ]
    },
    {
     "name": "stdout",
     "output_type": "stream",
     "text": [
      "index 2 is out of bounds for axis 0 with size 2\n",
      "Result: True\n",
      "\n",
      "\n",
      "Test: 81\n",
      "Params: {'in_channels': 10, 'out_channels': 31, 'kernel_size': (3, 7), 'padding': 5, 'stride': 5, 'dilation': 4, 'groups': 1, 'in_batches': 4, 'in_h': 17, 'in_w': 23}\n"
     ]
    },
    {
     "name": "stderr",
     "output_type": "stream",
     "text": [
      "\r",
      " 41%|█████████████████▏                        | 82/200 [06:14<07:53,  4.01s/it]"
     ]
    },
    {
     "name": "stdout",
     "output_type": "stream",
     "text": [
      "Result: True\n",
      "\n",
      "\n",
      "Test: 82\n",
      "Params: {'in_channels': 7, 'out_channels': 10, 'kernel_size': (11, 1), 'padding': 10, 'stride': 4, 'dilation': 2, 'groups': 1, 'in_batches': 5, 'in_h': 27, 'in_w': 7}\n"
     ]
    },
    {
     "name": "stderr",
     "output_type": "stream",
     "text": [
      "\r",
      " 42%|█████████████████▍                        | 83/200 [06:15<06:05,  3.12s/it]"
     ]
    },
    {
     "name": "stdout",
     "output_type": "stream",
     "text": [
      "Result: True\n",
      "\n",
      "\n",
      "Test: 83\n",
      "Params: {'in_channels': 1, 'out_channels': 3, 'kernel_size': (4, 18), 'padding': 3, 'stride': 4, 'dilation': 1, 'groups': 1, 'in_batches': 5, 'in_h': 17, 'in_w': 25}\n",
      "Result: True\n",
      "\n",
      "\n",
      "Test: 84\n",
      "Params: {'in_channels': 1, 'out_channels': 16, 'kernel_size': (3, 14), 'padding': 9, 'stride': 1, 'dilation': 3, 'groups': 1, 'in_batches': 2, 'in_h': 18, 'in_w': 29}\n",
      "invalid input parameters: output width is negative\n",
      "Result: True\n",
      "\n",
      "\n",
      "Test: 85\n",
      "Params: {'in_channels': 3, 'out_channels': 33, 'kernel_size': (5, 2), 'padding': 1, 'stride': 5, 'dilation': 8, 'groups': 3, 'in_batches': 4, 'in_h': 34, 'in_w': 21}\n",
      "index 3 is out of bounds for axis 0 with size 3\n",
      "Result: True\n",
      "\n",
      "\n",
      "Test: 86\n",
      "Params: {'in_channels': 1, 'out_channels': 31, 'kernel_size': (15, 8), 'padding': 6, 'stride': 4, 'dilation': 2, 'groups': 1, 'in_batches': 3, 'in_h': 17, 'in_w': 30}\n"
     ]
    },
    {
     "name": "stderr",
     "output_type": "stream",
     "text": [
      " 44%|██████████████████▍                       | 88/200 [06:16<02:00,  1.08s/it]"
     ]
    },
    {
     "name": "stdout",
     "output_type": "stream",
     "text": [
      "Result: True\n",
      "\n",
      "\n",
      "Test: 87\n",
      "Params: {'in_channels': 1, 'out_channels': 6, 'kernel_size': (5, 13), 'padding': 8, 'stride': 2, 'dilation': 1, 'groups': 1, 'in_batches': 2, 'in_h': 15, 'in_w': 7}\n",
      "Result: True\n",
      "\n",
      "\n",
      "Test: 88\n",
      "Params: {'in_channels': 2, 'out_channels': 31, 'kernel_size': (3, 3), 'padding': 7, 'stride': 5, 'dilation': 3, 'groups': 1, 'in_batches': 1, 'in_h': 29, 'in_w': 17}\n"
     ]
    },
    {
     "name": "stderr",
     "output_type": "stream",
     "text": [
      "\r",
      " 44%|██████████████████▋                       | 89/200 [06:16<01:42,  1.08it/s]"
     ]
    },
    {
     "name": "stdout",
     "output_type": "stream",
     "text": [
      "Result: True\n",
      "\n",
      "\n",
      "Test: 89\n",
      "Params: {'in_channels': 11, 'out_channels': 27, 'kernel_size': (4, 16), 'padding': 10, 'stride': 5, 'dilation': 1, 'groups': 1, 'in_batches': 4, 'in_h': 25, 'in_w': 25}\n"
     ]
    },
    {
     "name": "stderr",
     "output_type": "stream",
     "text": [
      "\r",
      " 45%|██████████████████▉                       | 90/200 [06:26<05:22,  2.93s/it]"
     ]
    },
    {
     "name": "stdout",
     "output_type": "stream",
     "text": [
      "Result: True\n",
      "\n",
      "\n",
      "Test: 90\n",
      "Params: {'in_channels': 5, 'out_channels': 18, 'kernel_size': (6, 6), 'padding': 6, 'stride': 5, 'dilation': 4, 'groups': 1, 'in_batches': 2, 'in_h': 27, 'in_w': 24}\n"
     ]
    },
    {
     "name": "stderr",
     "output_type": "stream",
     "text": [
      "\r",
      " 46%|███████████████████                       | 91/200 [06:29<05:20,  2.94s/it]"
     ]
    },
    {
     "name": "stdout",
     "output_type": "stream",
     "text": [
      "Result: True\n",
      "\n",
      "\n",
      "Test: 91\n",
      "Params: {'in_channels': 4, 'out_channels': 34, 'kernel_size': (15, 4), 'padding': 8, 'stride': 3, 'dilation': 2, 'groups': 1, 'in_batches': 5, 'in_h': 29, 'in_w': 6}\n"
     ]
    },
    {
     "name": "stderr",
     "output_type": "stream",
     "text": [
      "\r",
      " 46%|███████████████████▎                      | 92/200 [06:42<09:51,  5.48s/it]"
     ]
    },
    {
     "name": "stdout",
     "output_type": "stream",
     "text": [
      "Result: True\n",
      "\n",
      "\n",
      "Test: 92\n",
      "Params: {'in_channels': 8, 'out_channels': 34, 'kernel_size': (6, 11), 'padding': 2, 'stride': 1, 'dilation': 1, 'groups': 1, 'in_batches': 2, 'in_h': 5, 'in_w': 18}\n",
      "invalid input parameters: output width is negative\n",
      "Result: True\n",
      "\n",
      "\n",
      "Test: 93\n",
      "Params: {'in_channels': 5, 'out_channels': 39, 'kernel_size': (14, 5), 'padding': 7, 'stride': 1, 'dilation': 1, 'groups': 1, 'in_batches': 2, 'in_h': 25, 'in_w': 20}\n"
     ]
    },
    {
     "name": "stderr",
     "output_type": "stream",
     "text": [
      "\r",
      " 47%|███████████████████▋                      | 94/200 [07:37<26:17, 14.88s/it]"
     ]
    },
    {
     "name": "stdout",
     "output_type": "stream",
     "text": [
      "Result: True\n",
      "\n",
      "\n",
      "Test: 94\n",
      "Params: {'in_channels': 20, 'out_channels': 31, 'kernel_size': (9, 3), 'padding': 10, 'stride': 2, 'dilation': 2, 'groups': 1, 'in_batches': 4, 'in_h': 27, 'in_w': 11}\n"
     ]
    },
    {
     "name": "stderr",
     "output_type": "stream",
     "text": [
      "\r",
      " 48%|███████████████████                     | 95/200 [09:42<1:11:08, 40.65s/it]"
     ]
    },
    {
     "name": "stdout",
     "output_type": "stream",
     "text": [
      "Result: True\n",
      "\n",
      "\n",
      "Test: 95\n",
      "Params: {'in_channels': 9, 'out_channels': 7, 'kernel_size': (19, 7), 'padding': 10, 'stride': 1, 'dilation': 1, 'groups': 1, 'in_batches': 1, 'in_h': 9, 'in_w': 7}\n"
     ]
    },
    {
     "name": "stderr",
     "output_type": "stream",
     "text": [
      "\r",
      " 48%|████████████████████▏                     | 96/200 [09:47<54:54, 31.68s/it]"
     ]
    },
    {
     "name": "stdout",
     "output_type": "stream",
     "text": [
      "Result: True\n",
      "\n",
      "\n",
      "Test: 96\n",
      "Params: {'in_channels': 5, 'out_channels': 7, 'kernel_size': (1, 12), 'padding': 7, 'stride': 2, 'dilation': 2, 'groups': 1, 'in_batches': 1, 'in_h': 16, 'in_w': 28}\n"
     ]
    },
    {
     "name": "stderr",
     "output_type": "stream",
     "text": [
      "\r",
      " 48%|████████████████████▎                     | 97/200 [09:47<40:12, 23.42s/it]"
     ]
    },
    {
     "name": "stdout",
     "output_type": "stream",
     "text": [
      "Result: True\n",
      "\n",
      "\n",
      "Test: 97\n",
      "Params: {'in_channels': 7, 'out_channels': 38, 'kernel_size': (5, 6), 'padding': 5, 'stride': 1, 'dilation': 5, 'groups': 1, 'in_batches': 4, 'in_h': 29, 'in_w': 25}\n"
     ]
    },
    {
     "name": "stderr",
     "output_type": "stream",
     "text": [
      " 50%|███████████████████▌                   | 100/200 [14:30<1:28:12, 52.92s/it]"
     ]
    },
    {
     "name": "stdout",
     "output_type": "stream",
     "text": [
      "Result: True\n",
      "\n",
      "\n",
      "Test: 98\n",
      "Params: {'in_channels': 1, 'out_channels': 31, 'kernel_size': (5, 6), 'padding': 3, 'stride': 5, 'dilation': 3, 'groups': 1, 'in_batches': 1, 'in_h': 16, 'in_w': 14}\n",
      "Result: True\n",
      "\n",
      "\n",
      "Test: 99\n",
      "Params: {'in_channels': 8, 'out_channels': 8, 'kernel_size': (6, 2), 'padding': 3, 'stride': 3, 'dilation': 3, 'groups': 8, 'in_batches': 2, 'in_h': 11, 'in_w': 33}\n",
      "Result: True\n",
      "\n",
      "\n",
      "Test: 100\n",
      "Params: {'in_channels': 3, 'out_channels': 26, 'kernel_size': (2, 1), 'padding': 2, 'stride': 2, 'dilation': 6, 'groups': 1, 'in_batches': 5, 'in_h': 23, 'in_w': 27}\n"
     ]
    },
    {
     "name": "stderr",
     "output_type": "stream",
     "text": [
      "\r",
      " 50%|███████████████████▋                   | 101/200 [14:31<1:07:05, 40.66s/it]"
     ]
    },
    {
     "name": "stdout",
     "output_type": "stream",
     "text": [
      "Result: True\n",
      "\n",
      "\n",
      "Test: 101\n",
      "Params: {'in_channels': 1, 'out_channels': 13, 'kernel_size': (5, 4), 'padding': 6, 'stride': 1, 'dilation': 1, 'groups': 1, 'in_batches': 4, 'in_h': 22, 'in_w': 12}\n"
     ]
    },
    {
     "name": "stderr",
     "output_type": "stream",
     "text": [
      "\r",
      " 51%|████████████████████▉                    | 102/200 [14:33<50:16, 30.78s/it]"
     ]
    },
    {
     "name": "stdout",
     "output_type": "stream",
     "text": [
      "Result: True\n",
      "\n",
      "\n",
      "Test: 102\n",
      "Params: {'in_channels': 1, 'out_channels': 39, 'kernel_size': (3, 7), 'padding': 4, 'stride': 5, 'dilation': 4, 'groups': 1, 'in_batches': 2, 'in_h': 13, 'in_w': 31}\n"
     ]
    },
    {
     "name": "stderr",
     "output_type": "stream",
     "text": [
      "\r",
      " 52%|█████████████████████                    | 103/200 [14:33<36:40, 22.69s/it]"
     ]
    },
    {
     "name": "stdout",
     "output_type": "stream",
     "text": [
      "Result: True\n",
      "\n",
      "\n",
      "Test: 103\n",
      "Params: {'in_channels': 13, 'out_channels': 29, 'kernel_size': (3, 7), 'padding': 8, 'stride': 1, 'dilation': 5, 'groups': 1, 'in_batches': 5, 'in_h': 32, 'in_w': 23}\n"
     ]
    },
    {
     "name": "stderr",
     "output_type": "stream",
     "text": [
      "\r",
      " 52%|███████████████████▊                  | 104/200 [24:10<4:40:39, 175.41s/it]"
     ]
    },
    {
     "name": "stdout",
     "output_type": "stream",
     "text": [
      "Result: True\n",
      "\n",
      "\n",
      "Test: 104\n",
      "Params: {'in_channels': 7, 'out_channels': 34, 'kernel_size': (5, 5), 'padding': 4, 'stride': 3, 'dilation': 2, 'groups': 1, 'in_batches': 2, 'in_h': 18, 'in_w': 22}\n"
     ]
    },
    {
     "name": "stderr",
     "output_type": "stream",
     "text": [
      "\r",
      " 52%|███████████████████▉                  | 105/200 [24:15<3:21:15, 127.12s/it]"
     ]
    },
    {
     "name": "stdout",
     "output_type": "stream",
     "text": [
      "Result: True\n",
      "\n",
      "\n",
      "Test: 105\n",
      "Params: {'in_channels': 5, 'out_channels': 18, 'kernel_size': (2, 1), 'padding': 2, 'stride': 5, 'dilation': 5, 'groups': 1, 'in_batches': 2, 'in_h': 33, 'in_w': 5}\n",
      "Result: True\n",
      "\n",
      "\n",
      "Test: 106\n",
      "Params: {'in_channels': 3, 'out_channels': 23, 'kernel_size': (4, 3), 'padding': 4, 'stride': 5, 'dilation': 6, 'groups': 1, 'in_batches': 5, 'in_h': 15, 'in_w': 15}\n"
     ]
    },
    {
     "name": "stderr",
     "output_type": "stream",
     "text": [
      "\r",
      " 54%|████████████████████▊                  | 107/200 [24:15<1:49:15, 70.49s/it]"
     ]
    },
    {
     "name": "stdout",
     "output_type": "stream",
     "text": [
      "Result: True\n",
      "\n",
      "\n",
      "Test: 107\n",
      "Params: {'in_channels': 2, 'out_channels': 4, 'kernel_size': (3, 7), 'padding': 9, 'stride': 1, 'dilation': 5, 'groups': 1, 'in_batches': 3, 'in_h': 16, 'in_w': 22}\n"
     ]
    },
    {
     "name": "stderr",
     "output_type": "stream",
     "text": [
      "\r",
      " 54%|█████████████████████                  | 108/200 [24:20<1:23:38, 54.55s/it]"
     ]
    },
    {
     "name": "stdout",
     "output_type": "stream",
     "text": [
      "Result: True\n",
      "\n",
      "\n",
      "Test: 108\n",
      "Params: {'in_channels': 1, 'out_channels': 17, 'kernel_size': (3, 15), 'padding': 10, 'stride': 1, 'dilation': 3, 'groups': 1, 'in_batches': 4, 'in_h': 26, 'in_w': 32}\n"
     ]
    },
    {
     "name": "stderr",
     "output_type": "stream",
     "text": [
      "\r",
      " 55%|█████████████████████▎                 | 109/200 [24:41<1:09:41, 45.95s/it]"
     ]
    },
    {
     "name": "stdout",
     "output_type": "stream",
     "text": [
      "Result: True\n",
      "\n",
      "\n",
      "Test: 109\n",
      "Params: {'in_channels': 2, 'out_channels': 28, 'kernel_size': (4, 1), 'padding': 8, 'stride': 3, 'dilation': 4, 'groups': 2, 'in_batches': 3, 'in_h': 33, 'in_w': 23}\n",
      "index 2 is out of bounds for axis 0 with size 2\n",
      "Result: True\n",
      "\n",
      "\n",
      "Test: 110\n",
      "Params: {'in_channels': 10, 'out_channels': 12, 'kernel_size': (1, 4), 'padding': 5, 'stride': 4, 'dilation': 2, 'groups': 1, 'in_batches': 2, 'in_h': 15, 'in_w': 32}\n"
     ]
    },
    {
     "name": "stderr",
     "output_type": "stream",
     "text": [
      "\r",
      " 56%|██████████████████████▊                  | 111/200 [24:41<39:23, 26.56s/it]"
     ]
    },
    {
     "name": "stdout",
     "output_type": "stream",
     "text": [
      "Result: True\n",
      "\n",
      "\n",
      "Test: 111\n",
      "Params: {'in_channels': 1, 'out_channels': 5, 'kernel_size': (13, 8), 'padding': 10, 'stride': 2, 'dilation': 3, 'groups': 1, 'in_batches': 5, 'in_h': 18, 'in_w': 27}\n"
     ]
    },
    {
     "name": "stderr",
     "output_type": "stream",
     "text": [
      "\r",
      " 56%|██████████████████████▉                  | 112/200 [24:42<30:06, 20.53s/it]"
     ]
    },
    {
     "name": "stdout",
     "output_type": "stream",
     "text": [
      "Result: True\n",
      "\n",
      "\n",
      "Test: 112\n",
      "Params: {'in_channels': 4, 'out_channels': 22, 'kernel_size': (3, 1), 'padding': 5, 'stride': 1, 'dilation': 3, 'groups': 1, 'in_batches': 4, 'in_h': 16, 'in_w': 33}\n"
     ]
    },
    {
     "name": "stderr",
     "output_type": "stream",
     "text": [
      "\r",
      " 56%|███████████████████████▏                 | 113/200 [24:48<24:34, 16.95s/it]"
     ]
    },
    {
     "name": "stdout",
     "output_type": "stream",
     "text": [
      "Result: True\n",
      "\n",
      "\n",
      "Test: 113\n",
      "Params: {'in_channels': 7, 'out_channels': 34, 'kernel_size': (6, 9), 'padding': 8, 'stride': 3, 'dilation': 4, 'groups': 1, 'in_batches': 3, 'in_h': 7, 'in_w': 32}\n",
      "invalid input parameters: output width is negative\n",
      "Result: True\n",
      "\n",
      "\n",
      "Test: 114\n",
      "Params: {'in_channels': 5, 'out_channels': 10, 'kernel_size': (12, 9), 'padding': 8, 'stride': 4, 'dilation': 1, 'groups': 5, 'in_batches': 3, 'in_h': 21, 'in_w': 8}\n",
      "index 5 is out of bounds for axis 0 with size 5\n",
      "Result: True\n",
      "\n",
      "\n",
      "Test: 115\n",
      "Params: {'in_channels': 1, 'out_channels': 11, 'kernel_size': (5, 1), 'padding': 10, 'stride': 2, 'dilation': 8, 'groups': 1, 'in_batches': 3, 'in_h': 23, 'in_w': 24}\n"
     ]
    },
    {
     "name": "stderr",
     "output_type": "stream",
     "text": [
      "\r",
      " 58%|███████████████████████▊                 | 116/200 [24:48<11:35,  8.28s/it]"
     ]
    },
    {
     "name": "stdout",
     "output_type": "stream",
     "text": [
      "Result: True\n",
      "\n",
      "\n",
      "Test: 116\n",
      "Params: {'in_channels': 20, 'out_channels': 13, 'kernel_size': (10, 16), 'padding': 1, 'stride': 2, 'dilation': 1, 'groups': 1, 'in_batches': 3, 'in_h': 28, 'in_w': 22}\n"
     ]
    },
    {
     "name": "stderr",
     "output_type": "stream",
     "text": [
      "\r",
      " 58%|███████████████████████▉                 | 117/200 [25:06<14:03, 10.16s/it]"
     ]
    },
    {
     "name": "stdout",
     "output_type": "stream",
     "text": [
      "Result: True\n",
      "\n",
      "\n",
      "Test: 117\n",
      "Params: {'in_channels': 4, 'out_channels': 23, 'kernel_size': (8, 11), 'padding': 10, 'stride': 1, 'dilation': 3, 'groups': 1, 'in_batches': 1, 'in_h': 29, 'in_w': 18}\n"
     ]
    },
    {
     "name": "stderr",
     "output_type": "stream",
     "text": [
      "\r",
      " 59%|████████████████████████▏                | 118/200 [25:40<21:05, 15.43s/it]"
     ]
    },
    {
     "name": "stdout",
     "output_type": "stream",
     "text": [
      "Result: True\n",
      "\n",
      "\n",
      "Test: 118\n",
      "Params: {'in_channels': 2, 'out_channels': 27, 'kernel_size': (4, 11), 'padding': 10, 'stride': 5, 'dilation': 3, 'groups': 1, 'in_batches': 2, 'in_h': 8, 'in_w': 15}\n"
     ]
    },
    {
     "name": "stderr",
     "output_type": "stream",
     "text": [
      "\r",
      " 60%|████████████████████████▍                | 119/200 [25:41<15:57, 11.82s/it]"
     ]
    },
    {
     "name": "stdout",
     "output_type": "stream",
     "text": [
      "Result: True\n",
      "\n",
      "\n",
      "Test: 119\n",
      "Params: {'in_channels': 2, 'out_channels': 14, 'kernel_size': (6, 8), 'padding': 9, 'stride': 5, 'dilation': 2, 'groups': 1, 'in_batches': 4, 'in_h': 21, 'in_w': 27}\n"
     ]
    },
    {
     "name": "stderr",
     "output_type": "stream",
     "text": [
      " 60%|████████████████████████▊                | 121/200 [25:43<08:57,  6.81s/it]"
     ]
    },
    {
     "name": "stdout",
     "output_type": "stream",
     "text": [
      "Result: True\n",
      "\n",
      "\n",
      "Test: 120\n",
      "Params: {'in_channels': 1, 'out_channels': 25, 'kernel_size': (6, 1), 'padding': 8, 'stride': 3, 'dilation': 3, 'groups': 1, 'in_batches': 4, 'in_h': 6, 'in_w': 6}\n",
      "Result: True\n",
      "\n",
      "\n",
      "Test: 121\n",
      "Params: {'in_channels': 1, 'out_channels': 4, 'kernel_size': (1, 4), 'padding': 9, 'stride': 4, 'dilation': 3, 'groups': 1, 'in_batches': 1, 'in_h': 24, 'in_w': 8}\n",
      "Result: True\n",
      "\n",
      "\n",
      "Test: 122\n",
      "Params: {'in_channels': 3, 'out_channels': 25, 'kernel_size': (8, 10), 'padding': 4, 'stride': 4, 'dilation': 1, 'groups': 1, 'in_batches': 1, 'in_h': 30, 'in_w': 14}\n"
     ]
    },
    {
     "name": "stderr",
     "output_type": "stream",
     "text": [
      "\r",
      " 62%|█████████████████████████▏               | 123/200 [25:43<05:04,  3.96s/it]"
     ]
    },
    {
     "name": "stdout",
     "output_type": "stream",
     "text": [
      "Result: True\n",
      "\n",
      "\n",
      "Test: 123\n",
      "Params: {'in_channels': 3, 'out_channels': 19, 'kernel_size': (7, 2), 'padding': 7, 'stride': 1, 'dilation': 1, 'groups': 1, 'in_batches': 4, 'in_h': 14, 'in_w': 25}\n"
     ]
    },
    {
     "name": "stderr",
     "output_type": "stream",
     "text": [
      " 62%|█████████████████████████▋               | 125/200 [25:50<04:18,  3.45s/it]"
     ]
    },
    {
     "name": "stdout",
     "output_type": "stream",
     "text": [
      "Result: True\n",
      "\n",
      "\n",
      "Test: 124\n",
      "Params: {'in_channels': 1, 'out_channels': 4, 'kernel_size': (11, 15), 'padding': 10, 'stride': 4, 'dilation': 1, 'groups': 1, 'in_batches': 2, 'in_h': 30, 'in_w': 8}\n",
      "Result: True\n",
      "\n",
      "\n",
      "Test: 125\n",
      "Params: {'in_channels': 9, 'out_channels': 36, 'kernel_size': (7, 9), 'padding': 10, 'stride': 4, 'dilation': 2, 'groups': 1, 'in_batches': 2, 'in_h': 5, 'in_w': 20}\n"
     ]
    },
    {
     "name": "stderr",
     "output_type": "stream",
     "text": [
      "\r",
      " 63%|█████████████████████████▊               | 126/200 [25:57<05:30,  4.46s/it]"
     ]
    },
    {
     "name": "stdout",
     "output_type": "stream",
     "text": [
      "Result: True\n",
      "\n",
      "\n",
      "Test: 126\n",
      "Params: {'in_channels': 4, 'out_channels': 36, 'kernel_size': (13, 17), 'padding': 3, 'stride': 1, 'dilation': 1, 'groups': 1, 'in_batches': 2, 'in_h': 17, 'in_w': 13}\n"
     ]
    },
    {
     "name": "stderr",
     "output_type": "stream",
     "text": [
      " 64%|██████████████████████████▏              | 128/200 [26:02<03:54,  3.26s/it]"
     ]
    },
    {
     "name": "stdout",
     "output_type": "stream",
     "text": [
      "Result: True\n",
      "\n",
      "\n",
      "Test: 127\n",
      "Params: {'in_channels': 6, 'out_channels': 36, 'kernel_size': (8, 12), 'padding': 9, 'stride': 3, 'dilation': 2, 'groups': 6, 'in_batches': 1, 'in_h': 28, 'in_w': 11}\n",
      "index 6 is out of bounds for axis 0 with size 6\n",
      "Result: True\n",
      "\n",
      "\n",
      "Test: 128\n",
      "Params: {'in_channels': 12, 'out_channels': 2, 'kernel_size': (17, 12), 'padding': 4, 'stride': 1, 'dilation': 1, 'groups': 1, 'in_batches': 1, 'in_h': 9, 'in_w': 30}\n"
     ]
    },
    {
     "name": "stderr",
     "output_type": "stream",
     "text": [
      "\r",
      " 64%|██████████████████████████▍              | 129/200 [26:02<02:51,  2.41s/it]"
     ]
    },
    {
     "name": "stdout",
     "output_type": "stream",
     "text": [
      "Result: True\n",
      "\n",
      "\n",
      "Test: 129\n",
      "Params: {'in_channels': 1, 'out_channels': 38, 'kernel_size': (4, 1), 'padding': 7, 'stride': 1, 'dilation': 4, 'groups': 1, 'in_batches': 5, 'in_h': 8, 'in_w': 33}\n"
     ]
    },
    {
     "name": "stderr",
     "output_type": "stream",
     "text": [
      "\r",
      " 65%|██████████████████████████▋              | 130/200 [26:05<03:05,  2.65s/it]"
     ]
    },
    {
     "name": "stdout",
     "output_type": "stream",
     "text": [
      "Result: True\n",
      "\n",
      "\n",
      "Test: 130\n",
      "Params: {'in_channels': 20, 'out_channels': 3, 'kernel_size': (15, 10), 'padding': 10, 'stride': 5, 'dilation': 2, 'groups': 1, 'in_batches': 5, 'in_h': 10, 'in_w': 29}\n"
     ]
    },
    {
     "name": "stderr",
     "output_type": "stream",
     "text": [
      " 66%|███████████████████████████              | 132/200 [26:08<02:10,  1.92s/it]"
     ]
    },
    {
     "name": "stdout",
     "output_type": "stream",
     "text": [
      "Result: True\n",
      "\n",
      "\n",
      "Test: 131\n",
      "Params: {'in_channels': 4, 'out_channels': 16, 'kernel_size': (4, 5), 'padding': 2, 'stride': 3, 'dilation': 1, 'groups': 1, 'in_batches': 3, 'in_h': 10, 'in_w': 11}\n",
      "Result: True\n",
      "\n",
      "\n",
      "Test: 132\n",
      "Params: {'in_channels': 6, 'out_channels': 39, 'kernel_size': (18, 15), 'padding': 6, 'stride': 3, 'dilation': 2, 'groups': 1, 'in_batches': 2, 'in_h': 24, 'in_w': 30}\n"
     ]
    },
    {
     "name": "stderr",
     "output_type": "stream",
     "text": [
      "\r",
      " 66%|███████████████████████████▎             | 133/200 [26:14<03:23,  3.04s/it]"
     ]
    },
    {
     "name": "stdout",
     "output_type": "stream",
     "text": [
      "Result: True\n",
      "\n",
      "\n",
      "Test: 133\n",
      "Params: {'in_channels': 1, 'out_channels': 37, 'kernel_size': (15, 14), 'padding': 9, 'stride': 5, 'dilation': 3, 'groups': 1, 'in_batches': 3, 'in_h': 28, 'in_w': 31}\n"
     ]
    },
    {
     "name": "stderr",
     "output_type": "stream",
     "text": [
      "\r",
      " 67%|███████████████████████████▍             | 134/200 [26:15<02:37,  2.39s/it]"
     ]
    },
    {
     "name": "stdout",
     "output_type": "stream",
     "text": [
      "Result: True\n",
      "\n",
      "\n",
      "Test: 134\n",
      "Params: {'in_channels': 11, 'out_channels': 18, 'kernel_size': (14, 1), 'padding': 10, 'stride': 1, 'dilation': 1, 'groups': 1, 'in_batches': 2, 'in_h': 25, 'in_w': 33}\n"
     ]
    },
    {
     "name": "stderr",
     "output_type": "stream",
     "text": [
      "\r",
      " 68%|███████████████████████████▋             | 135/200 [26:40<10:08,  9.37s/it]"
     ]
    },
    {
     "name": "stdout",
     "output_type": "stream",
     "text": [
      "Result: True\n",
      "\n",
      "\n",
      "Test: 135\n",
      "Params: {'in_channels': 2, 'out_channels': 17, 'kernel_size': (7, 1), 'padding': 5, 'stride': 4, 'dilation': 3, 'groups': 1, 'in_batches': 5, 'in_h': 12, 'in_w': 22}\n",
      "Result: True\n",
      "\n",
      "\n",
      "Test: 136\n",
      "Params: {'in_channels': 1, 'out_channels': 11, 'kernel_size': (10, 4), 'padding': 9, 'stride': 5, 'dilation': 2, 'groups': 1, 'in_batches': 3, 'in_h': 25, 'in_w': 34}\n"
     ]
    },
    {
     "name": "stderr",
     "output_type": "stream",
     "text": [
      " 69%|████████████████████████████▎            | 138/200 [26:41<04:05,  3.95s/it]"
     ]
    },
    {
     "name": "stdout",
     "output_type": "stream",
     "text": [
      "Result: True\n",
      "\n",
      "\n",
      "Test: 137\n",
      "Params: {'in_channels': 1, 'out_channels': 22, 'kernel_size': (2, 8), 'padding': 6, 'stride': 4, 'dilation': 3, 'groups': 1, 'in_batches': 5, 'in_h': 23, 'in_w': 11}\n",
      "Result: True\n",
      "\n",
      "\n",
      "Test: 138\n",
      "Params: {'in_channels': 3, 'out_channels': 5, 'kernel_size': (12, 11), 'padding': 9, 'stride': 1, 'dilation': 2, 'groups': 1, 'in_batches': 3, 'in_h': 17, 'in_w': 6}\n"
     ]
    },
    {
     "name": "stderr",
     "output_type": "stream",
     "text": [
      "\r",
      " 70%|████████████████████████████▍            | 139/200 [26:44<03:43,  3.66s/it]"
     ]
    },
    {
     "name": "stdout",
     "output_type": "stream",
     "text": [
      "Result: True\n",
      "\n",
      "\n",
      "Test: 139\n",
      "Params: {'in_channels': 2, 'out_channels': 24, 'kernel_size': (12, 19), 'padding': 4, 'stride': 3, 'dilation': 1, 'groups': 1, 'in_batches': 4, 'in_h': 24, 'in_w': 32}\n"
     ]
    },
    {
     "name": "stderr",
     "output_type": "stream",
     "text": [
      "\r",
      " 70%|████████████████████████████▋            | 140/200 [26:50<04:18,  4.31s/it]"
     ]
    },
    {
     "name": "stdout",
     "output_type": "stream",
     "text": [
      "Result: True\n",
      "\n",
      "\n",
      "Test: 140\n",
      "Params: {'in_channels': 1, 'out_channels': 8, 'kernel_size': (2, 7), 'padding': 4, 'stride': 5, 'dilation': 1, 'groups': 1, 'in_batches': 4, 'in_h': 17, 'in_w': 21}\n",
      "Result: True\n",
      "\n",
      "\n",
      "Test: 141\n",
      "Params: {'in_channels': 19, 'out_channels': 1, 'kernel_size': (16, 19), 'padding': 9, 'stride': 5, 'dilation': 1, 'groups': 1, 'in_batches': 2, 'in_h': 26, 'in_w': 28}\n"
     ]
    },
    {
     "name": "stderr",
     "output_type": "stream",
     "text": [
      "\r",
      " 71%|█████████████████████████████            | 142/200 [26:51<02:33,  2.65s/it]"
     ]
    },
    {
     "name": "stdout",
     "output_type": "stream",
     "text": [
      "Result: True\n",
      "\n",
      "\n",
      "Test: 142\n",
      "Params: {'in_channels': 1, 'out_channels': 22, 'kernel_size': (2, 2), 'padding': 5, 'stride': 3, 'dilation': 7, 'groups': 1, 'in_batches': 1, 'in_h': 24, 'in_w': 25}\n"
     ]
    },
    {
     "name": "stderr",
     "output_type": "stream",
     "text": [
      "\r",
      " 72%|█████████████████████████████▎           | 143/200 [26:51<01:59,  2.10s/it]"
     ]
    },
    {
     "name": "stdout",
     "output_type": "stream",
     "text": [
      "Result: True\n",
      "\n",
      "\n",
      "Test: 143\n",
      "Params: {'in_channels': 19, 'out_channels': 2, 'kernel_size': (19, 12), 'padding': 5, 'stride': 1, 'dilation': 2, 'groups': 1, 'in_batches': 5, 'in_h': 33, 'in_w': 31}\n"
     ]
    },
    {
     "name": "stderr",
     "output_type": "stream",
     "text": [
      " 72%|█████████████████████████████▋           | 145/200 [27:45<10:18, 11.24s/it]"
     ]
    },
    {
     "name": "stdout",
     "output_type": "stream",
     "text": [
      "Result: True\n",
      "\n",
      "\n",
      "Test: 144\n",
      "Params: {'in_channels': 4, 'out_channels': 24, 'kernel_size': (6, 6), 'padding': 6, 'stride': 4, 'dilation': 4, 'groups': 4, 'in_batches': 1, 'in_h': 23, 'in_w': 27}\n",
      "index 4 is out of bounds for axis 0 with size 4\n",
      "Result: True\n",
      "\n",
      "\n",
      "Test: 145\n",
      "Params: {'in_channels': 7, 'out_channels': 16, 'kernel_size': (1, 9), 'padding': 7, 'stride': 1, 'dilation': 3, 'groups': 1, 'in_batches': 5, 'in_h': 13, 'in_w': 29}\n"
     ]
    },
    {
     "name": "stderr",
     "output_type": "stream",
     "text": [
      "\r",
      " 73%|█████████████████████████████▉           | 146/200 [28:05<12:12, 13.56s/it]"
     ]
    },
    {
     "name": "stdout",
     "output_type": "stream",
     "text": [
      "Result: True\n",
      "\n",
      "\n",
      "Test: 146\n",
      "Params: {'in_channels': 14, 'out_channels': 23, 'kernel_size': (2, 2), 'padding': 3, 'stride': 5, 'dilation': 9, 'groups': 1, 'in_batches': 3, 'in_h': 26, 'in_w': 24}\n"
     ]
    },
    {
     "name": "stderr",
     "output_type": "stream",
     "text": [
      "\r",
      " 74%|██████████████████████████████▏          | 147/200 [28:10<09:53, 11.19s/it]"
     ]
    },
    {
     "name": "stdout",
     "output_type": "stream",
     "text": [
      "Result: True\n",
      "\n",
      "\n",
      "Test: 147\n",
      "Params: {'in_channels': 2, 'out_channels': 26, 'kernel_size': (18, 3), 'padding': 5, 'stride': 1, 'dilation': 1, 'groups': 1, 'in_batches': 3, 'in_h': 25, 'in_w': 8}\n"
     ]
    },
    {
     "name": "stderr",
     "output_type": "stream",
     "text": [
      "\r",
      " 74%|██████████████████████████████▎          | 148/200 [28:16<08:18,  9.59s/it]"
     ]
    },
    {
     "name": "stdout",
     "output_type": "stream",
     "text": [
      "Result: True\n",
      "\n",
      "\n",
      "Test: 148\n",
      "Params: {'in_channels': 3, 'out_channels': 20, 'kernel_size': (7, 3), 'padding': 3, 'stride': 5, 'dilation': 1, 'groups': 1, 'in_batches': 4, 'in_h': 5, 'in_w': 26}\n",
      "Result: True\n",
      "\n",
      "\n",
      "Test: 149\n",
      "Params: {'in_channels': 10, 'out_channels': 36, 'kernel_size': (10, 14), 'padding': 10, 'stride': 1, 'dilation': 3, 'groups': 1, 'in_batches': 1, 'in_h': 34, 'in_w': 27}\n"
     ]
    },
    {
     "name": "stderr",
     "output_type": "stream",
     "text": [
      "\r",
      " 75%|██████████████████████████████▊          | 150/200 [31:40<42:43, 51.27s/it]"
     ]
    },
    {
     "name": "stdout",
     "output_type": "stream",
     "text": [
      "Result: True\n",
      "\n",
      "\n",
      "Test: 150\n",
      "Params: {'in_channels': 8, 'out_channels': 3, 'kernel_size': (2, 3), 'padding': 9, 'stride': 2, 'dilation': 6, 'groups': 1, 'in_batches': 2, 'in_h': 28, 'in_w': 28}\n"
     ]
    },
    {
     "name": "stderr",
     "output_type": "stream",
     "text": [
      "\r",
      " 76%|██████████████████████████████▉          | 151/200 [31:43<32:21, 39.62s/it]"
     ]
    },
    {
     "name": "stdout",
     "output_type": "stream",
     "text": [
      "Result: True\n",
      "\n",
      "\n",
      "Test: 151\n",
      "Params: {'in_channels': 2, 'out_channels': 20, 'kernel_size': (4, 8), 'padding': 10, 'stride': 4, 'dilation': 3, 'groups': 1, 'in_batches': 2, 'in_h': 18, 'in_w': 30}\n"
     ]
    },
    {
     "name": "stderr",
     "output_type": "stream",
     "text": [
      "\r",
      " 76%|███████████████████████████████▏         | 152/200 [31:46<24:02, 30.06s/it]"
     ]
    },
    {
     "name": "stdout",
     "output_type": "stream",
     "text": [
      "Result: True\n",
      "\n",
      "\n",
      "Test: 152\n",
      "Params: {'in_channels': 2, 'out_channels': 10, 'kernel_size': (2, 12), 'padding': 9, 'stride': 1, 'dilation': 3, 'groups': 1, 'in_batches': 2, 'in_h': 22, 'in_w': 30}\n"
     ]
    },
    {
     "name": "stderr",
     "output_type": "stream",
     "text": [
      "\r",
      " 76%|███████████████████████████████▎         | 153/200 [31:53<18:40, 23.85s/it]"
     ]
    },
    {
     "name": "stdout",
     "output_type": "stream",
     "text": [
      "Result: True\n",
      "\n",
      "\n",
      "Test: 153\n",
      "Params: {'in_channels': 6, 'out_channels': 27, 'kernel_size': (12, 9), 'padding': 2, 'stride': 5, 'dilation': 1, 'groups': 1, 'in_batches': 1, 'in_h': 33, 'in_w': 18}\n"
     ]
    },
    {
     "name": "stderr",
     "output_type": "stream",
     "text": [
      "\r",
      " 77%|███████████████████████████████▌         | 154/200 [31:54<13:22, 17.44s/it]"
     ]
    },
    {
     "name": "stdout",
     "output_type": "stream",
     "text": [
      "Result: True\n",
      "\n",
      "\n",
      "Test: 154\n",
      "Params: {'in_channels': 15, 'out_channels': 30, 'kernel_size': (11, 18), 'padding': 2, 'stride': 1, 'dilation': 1, 'groups': 15, 'in_batches': 1, 'in_h': 30, 'in_w': 34}\n"
     ]
    },
    {
     "name": "stderr",
     "output_type": "stream",
     "text": [
      "\r",
      " 78%|███████████████████████████████▊         | 155/200 [31:57<10:08, 13.52s/it]"
     ]
    },
    {
     "name": "stdout",
     "output_type": "stream",
     "text": [
      "index 15 is out of bounds for axis 0 with size 15\n",
      "Result: True\n",
      "\n",
      "\n",
      "Test: 155\n",
      "Params: {'in_channels': 16, 'out_channels': 19, 'kernel_size': (4, 8), 'padding': 6, 'stride': 3, 'dilation': 4, 'groups': 1, 'in_batches': 5, 'in_h': 23, 'in_w': 34}\n"
     ]
    },
    {
     "name": "stderr",
     "output_type": "stream",
     "text": [
      "\r",
      " 78%|███████████████████████████████▉         | 156/200 [33:03<20:55, 28.53s/it]"
     ]
    },
    {
     "name": "stdout",
     "output_type": "stream",
     "text": [
      "Result: True\n",
      "\n",
      "\n",
      "Test: 156\n",
      "Params: {'in_channels': 11, 'out_channels': 21, 'kernel_size': (12, 11), 'padding': 4, 'stride': 5, 'dilation': 1, 'groups': 1, 'in_batches': 3, 'in_h': 15, 'in_w': 9}\n"
     ]
    },
    {
     "name": "stderr",
     "output_type": "stream",
     "text": [
      "\r",
      " 78%|████████████████████████████████▏        | 157/200 [33:04<14:47, 20.63s/it]"
     ]
    },
    {
     "name": "stdout",
     "output_type": "stream",
     "text": [
      "Result: True\n",
      "\n",
      "\n",
      "Test: 157\n",
      "Params: {'in_channels': 7, 'out_channels': 4, 'kernel_size': (9, 6), 'padding': 10, 'stride': 4, 'dilation': 3, 'groups': 1, 'in_batches': 2, 'in_h': 8, 'in_w': 13}\n"
     ]
    },
    {
     "name": "stderr",
     "output_type": "stream",
     "text": [
      "\r",
      " 79%|████████████████████████████████▍        | 158/200 [33:05<10:15, 14.65s/it]"
     ]
    },
    {
     "name": "stdout",
     "output_type": "stream",
     "text": [
      "Result: True\n",
      "\n",
      "\n",
      "Test: 158\n",
      "Params: {'in_channels': 1, 'out_channels': 15, 'kernel_size': (7, 14), 'padding': 9, 'stride': 4, 'dilation': 2, 'groups': 1, 'in_batches': 5, 'in_h': 11, 'in_w': 34}\n"
     ]
    },
    {
     "name": "stderr",
     "output_type": "stream",
     "text": [
      "\r",
      " 80%|████████████████████████████████▌        | 159/200 [33:07<07:31, 11.01s/it]"
     ]
    },
    {
     "name": "stdout",
     "output_type": "stream",
     "text": [
      "Result: True\n",
      "\n",
      "\n",
      "Test: 159\n",
      "Params: {'in_channels': 11, 'out_channels': 25, 'kernel_size': (11, 4), 'padding': 4, 'stride': 1, 'dilation': 1, 'groups': 1, 'in_batches': 2, 'in_h': 16, 'in_w': 18}\n"
     ]
    },
    {
     "name": "stderr",
     "output_type": "stream",
     "text": [
      "\r",
      " 80%|████████████████████████████████▊        | 160/200 [33:26<08:48, 13.22s/it]"
     ]
    },
    {
     "name": "stdout",
     "output_type": "stream",
     "text": [
      "Result: True\n",
      "\n",
      "\n",
      "Test: 160\n",
      "Params: {'in_channels': 3, 'out_channels': 15, 'kernel_size': (9, 11), 'padding': 8, 'stride': 3, 'dilation': 3, 'groups': 3, 'in_batches': 5, 'in_h': 12, 'in_w': 15}\n",
      "index 3 is out of bounds for axis 0 with size 3\n",
      "Result: True\n",
      "\n",
      "\n",
      "Test: 161\n",
      "Params: {'in_channels': 9, 'out_channels': 17, 'kernel_size': (5, 9), 'padding': 5, 'stride': 5, 'dilation': 2, 'groups': 1, 'in_batches': 1, 'in_h': 34, 'in_w': 25}\n"
     ]
    },
    {
     "name": "stderr",
     "output_type": "stream",
     "text": [
      "\r",
      " 81%|█████████████████████████████████▏       | 162/200 [33:27<04:47,  7.55s/it]"
     ]
    },
    {
     "name": "stdout",
     "output_type": "stream",
     "text": [
      "Result: True\n",
      "\n",
      "\n",
      "Test: 162\n",
      "Params: {'in_channels': 10, 'out_channels': 39, 'kernel_size': (2, 15), 'padding': 3, 'stride': 3, 'dilation': 1, 'groups': 1, 'in_batches': 3, 'in_h': 5, 'in_w': 25}\n",
      "invalid input parameters: output width is negative\n",
      "Result: True\n",
      "\n",
      "\n",
      "Test: 163\n",
      "Params: {'in_channels': 2, 'out_channels': 19, 'kernel_size': (20, 13), 'padding': 8, 'stride': 3, 'dilation': 1, 'groups': 1, 'in_batches': 3, 'in_h': 30, 'in_w': 9}\n"
     ]
    },
    {
     "name": "stderr",
     "output_type": "stream",
     "text": [
      "\r",
      " 82%|█████████████████████████████████▌       | 164/200 [33:30<03:06,  5.19s/it]"
     ]
    },
    {
     "name": "stdout",
     "output_type": "stream",
     "text": [
      "Result: True\n",
      "\n",
      "\n",
      "Test: 164\n",
      "Params: {'in_channels': 4, 'out_channels': 40, 'kernel_size': (3, 12), 'padding': 10, 'stride': 3, 'dilation': 4, 'groups': 1, 'in_batches': 5, 'in_h': 22, 'in_w': 32}\n"
     ]
    },
    {
     "name": "stderr",
     "output_type": "stream",
     "text": [
      "\r",
      " 82%|█████████████████████████████████▊       | 165/200 [34:01<06:15, 10.72s/it]"
     ]
    },
    {
     "name": "stdout",
     "output_type": "stream",
     "text": [
      "Result: True\n",
      "\n",
      "\n",
      "Test: 165\n",
      "Params: {'in_channels': 4, 'out_channels': 40, 'kernel_size': (12, 4), 'padding': 8, 'stride': 1, 'dilation': 2, 'groups': 4, 'in_batches': 5, 'in_h': 25, 'in_w': 25}\n"
     ]
    },
    {
     "name": "stderr",
     "output_type": "stream",
     "text": [
      "\r",
      " 83%|██████████████████████████████████       | 166/200 [34:02<04:46,  8.44s/it]"
     ]
    },
    {
     "name": "stdout",
     "output_type": "stream",
     "text": [
      "index 4 is out of bounds for axis 0 with size 4\n",
      "Result: True\n",
      "\n",
      "\n",
      "Test: 166\n",
      "Params: {'in_channels': 1, 'out_channels': 26, 'kernel_size': (2, 10), 'padding': 3, 'stride': 4, 'dilation': 1, 'groups': 1, 'in_batches': 2, 'in_h': 11, 'in_w': 23}\n",
      "Result: True\n",
      "\n",
      "\n",
      "Test: 167\n",
      "Params: {'in_channels': 14, 'out_channels': 17, 'kernel_size': (4, 3), 'padding': 7, 'stride': 2, 'dilation': 1, 'groups': 1, 'in_batches': 2, 'in_h': 11, 'in_w': 33}\n"
     ]
    },
    {
     "name": "stderr",
     "output_type": "stream",
     "text": [
      "\r",
      " 84%|██████████████████████████████████▍      | 168/200 [34:06<03:05,  5.79s/it]"
     ]
    },
    {
     "name": "stdout",
     "output_type": "stream",
     "text": [
      "Result: True\n",
      "\n",
      "\n",
      "Test: 168\n",
      "Params: {'in_channels': 16, 'out_channels': 35, 'kernel_size': (1, 15), 'padding': 5, 'stride': 3, 'dilation': 1, 'groups': 1, 'in_batches': 2, 'in_h': 27, 'in_w': 25}\n"
     ]
    },
    {
     "name": "stderr",
     "output_type": "stream",
     "text": [
      "\r",
      " 84%|██████████████████████████████████▋      | 169/200 [34:10<02:45,  5.35s/it]"
     ]
    },
    {
     "name": "stdout",
     "output_type": "stream",
     "text": [
      "Result: True\n",
      "\n",
      "\n",
      "Test: 169\n",
      "Params: {'in_channels': 2, 'out_channels': 26, 'kernel_size': (4, 5), 'padding': 4, 'stride': 4, 'dilation': 2, 'groups': 2, 'in_batches': 3, 'in_h': 31, 'in_w': 9}\n",
      "index 2 is out of bounds for axis 0 with size 2\n",
      "Result: True\n",
      "\n",
      "\n",
      "Test: 170\n",
      "Params: {'in_channels': 1, 'out_channels': 31, 'kernel_size': (5, 8), 'padding': 10, 'stride': 5, 'dilation': 4, 'groups': 1, 'in_batches': 2, 'in_h': 28, 'in_w': 14}\n"
     ]
    },
    {
     "name": "stderr",
     "output_type": "stream",
     "text": [
      " 86%|███████████████████████████████████▎     | 172/200 [34:11<01:17,  2.76s/it]"
     ]
    },
    {
     "name": "stdout",
     "output_type": "stream",
     "text": [
      "Result: True\n",
      "\n",
      "\n",
      "Test: 171\n",
      "Params: {'in_channels': 5, 'out_channels': 2, 'kernel_size': (16, 19), 'padding': 6, 'stride': 4, 'dilation': 1, 'groups': 1, 'in_batches': 3, 'in_h': 19, 'in_w': 14}\n",
      "Result: True\n",
      "\n",
      "\n",
      "Test: 172\n",
      "Params: {'in_channels': 17, 'out_channels': 27, 'kernel_size': (5, 15), 'padding': 8, 'stride': 3, 'dilation': 1, 'groups': 1, 'in_batches': 3, 'in_h': 26, 'in_w': 28}\n"
     ]
    },
    {
     "name": "stderr",
     "output_type": "stream",
     "text": [
      "\r",
      " 86%|███████████████████████████████████▍     | 173/200 [34:48<04:54, 10.90s/it]"
     ]
    },
    {
     "name": "stdout",
     "output_type": "stream",
     "text": [
      "Result: True\n",
      "\n",
      "\n",
      "Test: 173\n",
      "Params: {'in_channels': 6, 'out_channels': 13, 'kernel_size': (4, 13), 'padding': 5, 'stride': 3, 'dilation': 1, 'groups': 1, 'in_batches': 4, 'in_h': 25, 'in_w': 16}\n"
     ]
    },
    {
     "name": "stderr",
     "output_type": "stream",
     "text": [
      "\r",
      " 87%|███████████████████████████████████▋     | 174/200 [34:50<03:47,  8.73s/it]"
     ]
    },
    {
     "name": "stdout",
     "output_type": "stream",
     "text": [
      "Result: True\n",
      "\n",
      "\n",
      "Test: 174\n",
      "Params: {'in_channels': 15, 'out_channels': 30, 'kernel_size': (8, 3), 'padding': 4, 'stride': 4, 'dilation': 1, 'groups': 15, 'in_batches': 5, 'in_h': 10, 'in_w': 22}\n",
      "index 15 is out of bounds for axis 0 with size 15\n",
      "Result: True\n",
      "\n",
      "\n",
      "Test: 175\n",
      "Params: {'in_channels': 2, 'out_channels': 27, 'kernel_size': (11, 3), 'padding': 9, 'stride': 5, 'dilation': 2, 'groups': 1, 'in_batches': 1, 'in_h': 15, 'in_w': 27}\n"
     ]
    },
    {
     "name": "stderr",
     "output_type": "stream",
     "text": [
      "\r",
      " 88%|████████████████████████████████████     | 176/200 [34:51<02:03,  5.17s/it]"
     ]
    },
    {
     "name": "stdout",
     "output_type": "stream",
     "text": [
      "Result: True\n",
      "\n",
      "\n",
      "Test: 176\n",
      "Params: {'in_channels': 17, 'out_channels': 4, 'kernel_size': (10, 6), 'padding': 2, 'stride': 4, 'dilation': 3, 'groups': 1, 'in_batches': 5, 'in_h': 30, 'in_w': 12}\n"
     ]
    },
    {
     "name": "stderr",
     "output_type": "stream",
     "text": [
      "\r",
      " 88%|████████████████████████████████████▎    | 177/200 [34:52<01:35,  4.16s/it]"
     ]
    },
    {
     "name": "stdout",
     "output_type": "stream",
     "text": [
      "Result: True\n",
      "\n",
      "\n",
      "Test: 177\n",
      "Params: {'in_channels': 2, 'out_channels': 23, 'kernel_size': (20, 13), 'padding': 9, 'stride': 5, 'dilation': 1, 'groups': 1, 'in_batches': 1, 'in_h': 31, 'in_w': 24}\n"
     ]
    },
    {
     "name": "stderr",
     "output_type": "stream",
     "text": [
      " 90%|████████████████████████████████████▋    | 179/200 [34:53<00:53,  2.56s/it]"
     ]
    },
    {
     "name": "stdout",
     "output_type": "stream",
     "text": [
      "Result: True\n",
      "\n",
      "\n",
      "Test: 178\n",
      "Params: {'in_channels': 13, 'out_channels': 24, 'kernel_size': (2, 5), 'padding': 3, 'stride': 5, 'dilation': 1, 'groups': 1, 'in_batches': 1, 'in_h': 18, 'in_w': 9}\n",
      "Result: True\n",
      "\n",
      "\n",
      "Test: 179\n",
      "Params: {'in_channels': 14, 'out_channels': 38, 'kernel_size': (8, 6), 'padding': 6, 'stride': 4, 'dilation': 3, 'groups': 1, 'in_batches': 1, 'in_h': 21, 'in_w': 29}\n"
     ]
    },
    {
     "name": "stderr",
     "output_type": "stream",
     "text": [
      "\r",
      " 90%|████████████████████████████████████▉    | 180/200 [35:03<01:31,  4.58s/it]"
     ]
    },
    {
     "name": "stdout",
     "output_type": "stream",
     "text": [
      "Result: True\n",
      "\n",
      "\n",
      "Test: 180\n",
      "Params: {'in_channels': 2, 'out_channels': 26, 'kernel_size': (16, 10), 'padding': 2, 'stride': 2, 'dilation': 1, 'groups': 2, 'in_batches': 1, 'in_h': 22, 'in_w': 13}\n",
      "index 2 is out of bounds for axis 0 with size 2\n",
      "Result: True\n",
      "\n",
      "\n",
      "Test: 181\n",
      "Params: {'in_channels': 16, 'out_channels': 20, 'kernel_size': (16, 11), 'padding': 10, 'stride': 3, 'dilation': 3, 'groups': 1, 'in_batches': 2, 'in_h': 26, 'in_w': 27}\n"
     ]
    },
    {
     "name": "stderr",
     "output_type": "stream",
     "text": [
      "\r",
      " 91%|█████████████████████████████████████▎   | 182/200 [35:17<01:40,  5.60s/it]"
     ]
    },
    {
     "name": "stdout",
     "output_type": "stream",
     "text": [
      "Result: True\n",
      "\n",
      "\n",
      "Test: 182\n",
      "Params: {'in_channels': 14, 'out_channels': 38, 'kernel_size': (4, 1), 'padding': 6, 'stride': 3, 'dilation': 3, 'groups': 1, 'in_batches': 5, 'in_h': 24, 'in_w': 31}\n"
     ]
    },
    {
     "name": "stderr",
     "output_type": "stream",
     "text": [
      "\r",
      " 92%|█████████████████████████████████████▌   | 183/200 [35:28<01:59,  7.01s/it]"
     ]
    },
    {
     "name": "stdout",
     "output_type": "stream",
     "text": [
      "Result: True\n",
      "\n",
      "\n",
      "Test: 183\n",
      "Params: {'in_channels': 2, 'out_channels': 14, 'kernel_size': (17, 15), 'padding': 10, 'stride': 4, 'dilation': 1, 'groups': 2, 'in_batches': 2, 'in_h': 12, 'in_w': 17}\n",
      "index 2 is out of bounds for axis 0 with size 2\n",
      "Result: True\n",
      "\n",
      "\n",
      "Test: 184\n",
      "Params: {'in_channels': 3, 'out_channels': 21, 'kernel_size': (8, 1), 'padding': 5, 'stride': 2, 'dilation': 6, 'groups': 1, 'in_batches': 5, 'in_h': 33, 'in_w': 25}\n"
     ]
    },
    {
     "name": "stderr",
     "output_type": "stream",
     "text": [
      " 93%|██████████████████████████████████████▏  | 186/200 [35:29<00:47,  3.39s/it]"
     ]
    },
    {
     "name": "stdout",
     "output_type": "stream",
     "text": [
      "Result: True\n",
      "\n",
      "\n",
      "Test: 185\n",
      "Params: {'in_channels': 1, 'out_channels': 8, 'kernel_size': (7, 2), 'padding': 4, 'stride': 2, 'dilation': 5, 'groups': 1, 'in_batches': 1, 'in_h': 33, 'in_w': 9}\n",
      "Result: True\n",
      "\n",
      "\n",
      "Test: 186\n",
      "Params: {'in_channels': 1, 'out_channels': 20, 'kernel_size': (3, 15), 'padding': 10, 'stride': 3, 'dilation': 2, 'groups': 1, 'in_batches': 2, 'in_h': 17, 'in_w': 11}\n"
     ]
    },
    {
     "name": "stderr",
     "output_type": "stream",
     "text": [
      "\r",
      " 94%|██████████████████████████████████████▎  | 187/200 [35:29<00:33,  2.61s/it]"
     ]
    },
    {
     "name": "stdout",
     "output_type": "stream",
     "text": [
      "Result: True\n",
      "\n",
      "\n",
      "Test: 187\n",
      "Params: {'in_channels': 2, 'out_channels': 20, 'kernel_size': (11, 9), 'padding': 7, 'stride': 5, 'dilation': 1, 'groups': 2, 'in_batches': 4, 'in_h': 14, 'in_w': 14}\n",
      "index 2 is out of bounds for axis 0 with size 2\n",
      "Result: True\n",
      "\n",
      "\n",
      "Test: 188\n",
      "Params: {'in_channels': 1, 'out_channels': 12, 'kernel_size': (7, 6), 'padding': 8, 'stride': 1, 'dilation': 2, 'groups': 1, 'in_batches': 2, 'in_h': 18, 'in_w': 29}\n"
     ]
    },
    {
     "name": "stderr",
     "output_type": "stream",
     "text": [
      "\r",
      " 94%|██████████████████████████████████████▋  | 189/200 [35:36<00:32,  2.97s/it]"
     ]
    },
    {
     "name": "stdout",
     "output_type": "stream",
     "text": [
      "Result: True\n",
      "\n",
      "\n",
      "Test: 189\n",
      "Params: {'in_channels': 3, 'out_channels': 12, 'kernel_size': (3, 20), 'padding': 3, 'stride': 3, 'dilation': 1, 'groups': 3, 'in_batches': 1, 'in_h': 15, 'in_w': 15}\n",
      "index 3 is out of bounds for axis 0 with size 3\n",
      "Result: True\n",
      "\n",
      "\n",
      "Test: 190\n",
      "Params: {'in_channels': 2, 'out_channels': 39, 'kernel_size': (14, 12), 'padding': 3, 'stride': 5, 'dilation': 2, 'groups': 1, 'in_batches': 3, 'in_h': 34, 'in_w': 23}\n"
     ]
    },
    {
     "name": "stderr",
     "output_type": "stream",
     "text": [
      "\r",
      " 96%|███████████████████████████████████████▏ | 191/200 [35:38<00:20,  2.27s/it]"
     ]
    },
    {
     "name": "stdout",
     "output_type": "stream",
     "text": [
      "Result: True\n",
      "\n",
      "\n",
      "Test: 191\n",
      "Params: {'in_channels': 2, 'out_channels': 38, 'kernel_size': (4, 15), 'padding': 10, 'stride': 4, 'dilation': 2, 'groups': 1, 'in_batches': 5, 'in_h': 21, 'in_w': 11}\n"
     ]
    },
    {
     "name": "stderr",
     "output_type": "stream",
     "text": [
      "\r",
      " 96%|███████████████████████████████████████▎ | 192/200 [35:40<00:17,  2.17s/it]"
     ]
    },
    {
     "name": "stdout",
     "output_type": "stream",
     "text": [
      "Result: True\n",
      "\n",
      "\n",
      "Test: 192\n",
      "Params: {'in_channels': 5, 'out_channels': 40, 'kernel_size': (9, 6), 'padding': 10, 'stride': 1, 'dilation': 3, 'groups': 1, 'in_batches': 5, 'in_h': 7, 'in_w': 31}\n"
     ]
    },
    {
     "name": "stderr",
     "output_type": "stream",
     "text": [
      " 97%|███████████████████████████████████████▊ | 194/200 [38:00<02:32, 25.44s/it]"
     ]
    },
    {
     "name": "stdout",
     "output_type": "stream",
     "text": [
      "Result: True\n",
      "\n",
      "\n",
      "Test: 193\n",
      "Params: {'in_channels': 2, 'out_channels': 34, 'kernel_size': (7, 6), 'padding': 4, 'stride': 2, 'dilation': 3, 'groups': 2, 'in_batches': 3, 'in_h': 26, 'in_w': 23}\n",
      "index 2 is out of bounds for axis 0 with size 2\n",
      "Result: True\n",
      "\n",
      "\n",
      "Test: 194\n",
      "Params: {'in_channels': 10, 'out_channels': 31, 'kernel_size': (19, 4), 'padding': 2, 'stride': 2, 'dilation': 1, 'groups': 1, 'in_batches': 4, 'in_h': 28, 'in_w': 28}\n"
     ]
    },
    {
     "name": "stderr",
     "output_type": "stream",
     "text": [
      "\r",
      " 98%|███████████████████████████████████████▉ | 195/200 [38:26<02:07, 25.49s/it]"
     ]
    },
    {
     "name": "stdout",
     "output_type": "stream",
     "text": [
      "Result: True\n",
      "\n",
      "\n",
      "Test: 195\n",
      "Params: {'in_channels': 1, 'out_channels': 18, 'kernel_size': (4, 4), 'padding': 9, 'stride': 4, 'dilation': 7, 'groups': 1, 'in_batches': 5, 'in_h': 24, 'in_w': 18}\n"
     ]
    },
    {
     "name": "stderr",
     "output_type": "stream",
     "text": [
      "\r",
      " 98%|████████████████████████████████████████▏| 196/200 [38:28<01:17, 19.26s/it]"
     ]
    },
    {
     "name": "stdout",
     "output_type": "stream",
     "text": [
      "Result: True\n",
      "\n",
      "\n",
      "Test: 196\n",
      "Params: {'in_channels': 1, 'out_channels': 17, 'kernel_size': (2, 8), 'padding': 6, 'stride': 3, 'dilation': 2, 'groups': 1, 'in_batches': 2, 'in_h': 28, 'in_w': 20}\n"
     ]
    },
    {
     "name": "stderr",
     "output_type": "stream",
     "text": [
      "\r",
      " 98%|████████████████████████████████████████▍| 197/200 [38:29<00:41, 13.96s/it]"
     ]
    },
    {
     "name": "stdout",
     "output_type": "stream",
     "text": [
      "Result: True\n",
      "\n",
      "\n",
      "Test: 197\n",
      "Params: {'in_channels': 2, 'out_channels': 40, 'kernel_size': (5, 7), 'padding': 4, 'stride': 2, 'dilation': 1, 'groups': 1, 'in_batches': 5, 'in_h': 29, 'in_w': 22}\n"
     ]
    },
    {
     "name": "stderr",
     "output_type": "stream",
     "text": [
      "\r",
      " 99%|████████████████████████████████████████▌| 198/200 [38:37<00:24, 12.41s/it]"
     ]
    },
    {
     "name": "stdout",
     "output_type": "stream",
     "text": [
      "Result: True\n",
      "\n",
      "\n",
      "Test: 198\n",
      "Params: {'in_channels': 2, 'out_channels': 15, 'kernel_size': (4, 7), 'padding': 9, 'stride': 1, 'dilation': 4, 'groups': 1, 'in_batches': 5, 'in_h': 9, 'in_w': 33}\n"
     ]
    },
    {
     "name": "stderr",
     "output_type": "stream",
     "text": [
      "100%|█████████████████████████████████████████| 200/200 [39:32<00:00, 11.86s/it]"
     ]
    },
    {
     "name": "stdout",
     "output_type": "stream",
     "text": [
      "Result: True\n",
      "\n",
      "\n",
      "Test: 199\n",
      "Params: {'in_channels': 2, 'out_channels': 3, 'kernel_size': (3, 5), 'padding': 5, 'stride': 3, 'dilation': 4, 'groups': 1, 'in_batches': 4, 'in_h': 32, 'in_w': 8}\n",
      "Result: True\n",
      "\n",
      "\n",
      "200 out of 200 (100.0%) tests passed\n"
     ]
    },
    {
     "name": "stderr",
     "output_type": "stream",
     "text": [
      "\n"
     ]
    }
   ],
   "source": [
    "# for loop sweeping different input parameters and testing the outputs of Conv2DPytTest and PyTorch\n",
    "from tqdm import tqdm\n",
    "\n",
    "num_tests = 200 # only test parameter to be varied\n",
    "num_passed = 0\n",
    "params_list = valid_params(num_tests)\n",
    "print('Number of tests: {}\\n\\n'.format(len(params_list)))\n",
    "\n",
    "for i, params in enumerate(tqdm(params_list)):\n",
    "    print('Test: {}\\nParams: {}'.format(i, params))\n",
    "    debug = False # DO NOT CHANGE THIS while using Conv2DPytTest - TODO: modify this flag to `test`\n",
    "\n",
    "    in_channels = params['in_channels'] # input channels\n",
    "    out_channels = params['out_channels'] # output channels\n",
    "    \n",
    "    kernel_size = params['kernel_size'] # kernel size\n",
    "\n",
    "    padding = params['padding'] # padding (optional)\n",
    "    stride = params['stride'] # stride (optional)\n",
    "    dilation = params['dilation'] # dilation factor (optional)\n",
    "    groups = params['groups'] # groups (optional)\n",
    "    \n",
    "    in_batches = params['in_batches'] # input batches\n",
    "    in_h = params['in_h'] # input height\n",
    "    in_w = params['in_w'] # input weight\n",
    "    \n",
    "    _input = np.random.rand(in_batches, in_channels, in_h, in_w) # define a random image based on the input parameters\n",
    "    kernels = []\n",
    "    for k in range(out_channels):\n",
    "        kernel = np.random.rand(int(in_channels / groups), kernel_size[0], kernel_size[1]) # define a random kernel based on the kernel parameters\n",
    "        kernels.append(kernel)\n",
    "    \n",
    "    try:\n",
    "        # get Conv2DPytTest output with the random inputs\n",
    "\n",
    "        conv2dpyttestgroups = Conv2DPytTestGroups(in_channels, out_channels, kernel_size, stride = stride, padding = padding, dilation = dilation, groups = groups, debug = debug, verbose = False) # call an instance of the class with the input parameters \n",
    "        _output = conv2dpyttestgroups.forward(_input, kernels) # perform convolution\n",
    "\n",
    "        # get PyTorch output with the same random inputs as above\n",
    "\n",
    "        x = torch.DoubleTensor(_input)\n",
    "        weights = torch.stack([torch.DoubleTensor(kernel) for kernel in kernels])\n",
    "        output = torch.nn.functional.conv2d(x, weights, stride = stride, padding = padding, dilation = dilation, groups = groups)\n",
    "        \n",
    "    except Exception as e:\n",
    "        print(e)\n",
    "        pass\n",
    "    \n",
    "    # compare outputs of conv-Numpy and PyTorch\n",
    "    result = torch.equal(torch.round(torch.DoubleTensor(_output)), torch.round(output)) # need to round the output due to precision difference\n",
    "    print('Result: {}\\n\\n'.format(result))\n",
    "    if result:\n",
    "        num_passed += 1\n",
    "\n",
    "print('{} out of {} ({}%) tests passed'.format(num_passed, num_tests, float(100 * num_passed / num_tests)))\n",
    "    "
   ]
  },
  {
   "cell_type": "markdown",
   "id": "8fe45ea6",
   "metadata": {},
   "source": [
    "### Modular code for `forward()`"
   ]
  },
  {
   "cell_type": "raw",
   "id": "51abe93d",
   "metadata": {},
   "source": [
    "''' Modular code - can be replaced with bloated def forward()'''\n",
    "'''\n",
    "    def convolve(self, h, w, ker_num, batch_num, _input, kernels):\n",
    "        # convolve kernel over the input slices\n",
    "        self.debugprint('kernel indices, image indices')\n",
    "        self.debugprint('[c, h, w]', '[n, c, h, w]')\n",
    "        convol_sum = 0\n",
    "        ker_c = self.in_channels\n",
    "        ker_h = self.kernel_size[0]\n",
    "        ker_w = self.kernel_size[1]\n",
    "        for c_ker in range(ker_c):\n",
    "            for h_ker in range(ker_h):\n",
    "                for w_ker in range(ker_w):\n",
    "                    self.debugprint([c_ker, h_ker, w_ker], [batch_num, c_ker, h_ker + self.stride*h, w_ker + self.stride*w])\n",
    "                    convol_sum += kernels[ker_num][c_ker][h_ker][w_ker] * _input[batch_num][c_ker][h_ker + self.stride*h][w_ker + self.stride*w]\n",
    "        self.debugprint('\\n')\n",
    "        return convol_sum\n",
    "    '''\n",
    "    '''\n",
    "    def forward(self, _input):\n",
    "        # create output from the input and kernel parameters \n",
    "        _input = self.add_padding(_input)\n",
    "        if self.debug:\n",
    "            for b in range(_input.shape[0]):\n",
    "                _input[b] = (b+1) * np.ones_like(_input[b]) # define an image of all ones (twos etc.) based on the input parameters\n",
    "        kernels = self.create_kernels()\n",
    "        out_n, out_c, out_h, out_w = self.compute_out_vol(_input)\n",
    "        output = np.zeros([out_n, out_c, out_h, out_w])\n",
    "        # parse through every element of the output and compute the convolution value for that element\n",
    "        for b in range(out_n):\n",
    "            for k in range(out_c):\n",
    "                for h in range(out_h):\n",
    "                    for w in range(out_w):\n",
    "                        output[b, k, h, w] += self.convolve(h, w, k, b, _input, kernels)\n",
    "        self.verboseprint('*** output ***')\n",
    "        output_shape = output.shape\n",
    "        self.verboseprint('output batches: {}, ouput channels: {}, output height: {}, output weight: {}'.format(output_shape[0], output_shape[1], output_shape[2], output_shape[3]))\n",
    "        assert((out_n, out_c, out_h, out_w) == output_shape)\n",
    "        self.verboseprint(output)\n",
    "        self.verboseprint('\\n')\n",
    "        return output\n",
    "    '''\n",
    "    "
   ]
  },
  {
   "cell_type": "markdown",
   "id": "c8eb97cc",
   "metadata": {},
   "source": [
    "### Old `Conv2D` code  for reference"
   ]
  },
  {
   "cell_type": "raw",
   "id": "eb6b032e",
   "metadata": {},
   "source": [
    "'''\n",
    "class Conv2D:\n",
    "    \"\"\"Computes convolution given the input parameters\"\"\"\n",
    "    def __init__(self, params, verbose=True, debug=False):\n",
    "        super(Conv2D, self).__init__()\n",
    "        default_params = {\n",
    "        'stride': 1,\n",
    "        'dilation': 1,\n",
    "        'padding': 0\n",
    "        }\n",
    "        for key, value in default_params.items():\n",
    "            setattr(self, key, params.get(key, value))\n",
    "        self.inp_n = params['inp_n']\n",
    "        self.inp_c = params['inp_c']\n",
    "        self.inp_h = params['inp_h']\n",
    "        self.inp_w = params['inp_w']\n",
    "        self.ker_c = params['ker_c']\n",
    "        self.ker_h = params['ker_h']\n",
    "        self.ker_w = params['ker_w']\n",
    "        self.num_ker = params['num_ker']\n",
    "        self.input_img = None\n",
    "        self.kernels = None\n",
    "        self.out_n = None\n",
    "        self.out_c = None\n",
    "        self.out_h = None\n",
    "        self.out_w = None\n",
    "        self.output = None\n",
    "        self.verbose = verbose\n",
    "        self.verboseprint = print if self.verbose else lambda *a, **k: None\n",
    "        self.debug = debug\n",
    "        self.debugprint = print if self.debug else lambda *a, **k: None\n",
    "        self.print_params()\n",
    "\n",
    "    def print_params(self):\n",
    "        self.verboseprint('*** parameters ***')\n",
    "        self.verboseprint('input batches: {}, input channels: {}, input height: {}, input weight: {}'.format(self.inp_n, self.inp_c, self.inp_h, self.inp_w))\n",
    "        self.verboseprint('kernels: {}, kernel channels: {}, kernel height: {}, kernel weight: {}'.format(self.num_ker, self.ker_c, self.ker_h, self.ker_w))\n",
    "        self.verboseprint('stride: {}, dilation factor: {}, padding: {}'.format(self.stride, self.dilation, self.padding))\n",
    "        self.verboseprint('\\n')\n",
    "\n",
    "    def create_input_img(self):\n",
    "        # create image from the input parameters\n",
    "        input_img = np.random.rand(self.inp_n, self.inp_c, self.inp_h, self.inp_w) # define a random image based on the input parameters\n",
    "        if self.debug:\n",
    "            for b in range(self.inp_n):\n",
    "                input_img[b] = (b+1) * np.ones_like(input_img[b]) # define an image of all ones (twos etc.) based on the input parameters\n",
    "        self.verboseprint('*** input image ***')\n",
    "        self.verboseprint('input batches: {}, input channels: {}, input height: {}, input weight: {}'.format(self.inp_n, self.inp_c, self.inp_h, self.inp_w))\n",
    "        self.verboseprint(input_img)\n",
    "        self.verboseprint('\\n')\n",
    "        self.input_img = input_img\n",
    "        self.add_padding()\n",
    "\n",
    "    def add_padding(self):\n",
    "        # add zero padding based on the input parameters\n",
    "        if self.padding != 0:\n",
    "            self.input_img = [[np.pad(channel,self.padding, 'constant', constant_values=0) for channel in batch] for batch in self.input_img]    \n",
    "            self.inp_h += 2 * self.padding\n",
    "            self.inp_w += 2 * self.padding\n",
    "            self.verboseprint('*** padded input image ***')\n",
    "            self.verboseprint('input batches: {}, input channels: {}, input height: {}, input weight: {}'.format(self.inp_n, self.inp_c, self.inp_h, self.inp_w))\n",
    "            self.verboseprint(self.input_img)\n",
    "            self.verboseprint('\\n')\n",
    "\n",
    "    def create_kernels(self):\n",
    "        # create random kernels based on the input kernel parameters\n",
    "        kernels = []\n",
    "        self.verboseprint('*** kernels ***')\n",
    "        self.verboseprint('kernels: {}, kernel channels: {}, kernel height: {}, kernel weight: {}'.format(self.num_ker, self.ker_c, self.ker_h, self.ker_w))\n",
    "        for k in range(self.num_ker):\n",
    "            kernel = np.random.rand(self.ker_c, self.ker_h, self.ker_w) # define a random kernel based on the kernel parameters\n",
    "            if self.debug:\n",
    "                kernel = k * np.ones_like(kernel)\n",
    "            kernels.append(kernel)\n",
    "            self.verboseprint('kernel {}'.format(k))\n",
    "            self.verboseprint(kernel)\n",
    "        self.verboseprint('\\n')\n",
    "        self.kernels = kernels\n",
    "        self.dilate_kernels()\n",
    "\n",
    "    def dilate_kernels(self):\n",
    "        # dilate a kernel\n",
    "        dil_ker_h = self.dilation * (self.ker_h - 1) + 1\n",
    "        dil_ker_w = self.dilation * (self.ker_w - 1) + 1\n",
    "        dil_kernels = []\n",
    "        for kernel in self.kernels:\n",
    "            dil_kernel = []\n",
    "            for channel in kernel:\n",
    "                dil_channel = np.zeros((dil_ker_h, dil_ker_w))\n",
    "                for row in range(len(channel)):\n",
    "                    for col in range(len(channel[0])):\n",
    "                        dil_channel[self.dilation*row][self.dilation*col] = channel[row][col]\n",
    "                dil_kernel.append(dil_channel.tolist())\n",
    "            dil_kernels.append(dil_kernel)\n",
    "        self.kernels, self.ker_h, self.ker_w = dil_kernels, dil_ker_h, dil_ker_w\n",
    "        self.verboseprint('*** dilated kernels ***')\n",
    "        self.verboseprint('kernels: {}, dilation factor: {}, kernel channels: {}, kernel height: {}, kernel weight: {}'.format(self.num_ker, self.dilation, self.ker_c, self.ker_h, self.ker_w))\n",
    "        for k in range(self.num_ker):\n",
    "            self.verboseprint('kernel {}'.format(k))\n",
    "            self.verboseprint(self.kernels[k])\n",
    "        self.verboseprint('\\n')\n",
    "\n",
    "    def compute_out_vol(self):\n",
    "        # compute output volume from the input and kernel parameters\n",
    "        out_n = int(self.inp_n)\n",
    "        out_c = int(self.num_ker)\n",
    "        out_h = int((self.inp_h - self.ker_h)/self.stride) + 1\n",
    "        out_w = int((self.inp_w - self.ker_w)/self.stride) + 1\n",
    "        self.out_n, self.out_c, self.out_h, self.out_w = out_n, out_c, out_h, out_w\n",
    "\n",
    "    def convolve(self, h, w, ker_num, batch_num):\n",
    "        # convolve kernel over the input slices\n",
    "        self.debugprint('kernel indices, image indices')\n",
    "        self.debugprint('[c, h, w]', '[n, c, h, w]')\n",
    "        convol_sum = 0\n",
    "        for c_ker in range(self.ker_c):\n",
    "            for h_ker in range(self.ker_h):\n",
    "                for w_ker in range(self.ker_w):\n",
    "                    self.debugprint([c_ker, h_ker, w_ker], [batch_num, c_ker, h_ker + self.stride*h, w_ker + self.stride*w])\n",
    "                    convol_sum += self.kernels[ker_num][c_ker][h_ker][w_ker] * self.input_img[batch_num][c_ker][h_ker + self.stride*h][w_ker + self.stride*w]\n",
    "        self.debugprint('\\n')\n",
    "        return convol_sum\n",
    "\n",
    "    def create_output(self):\n",
    "        # create output from the input and kernel parameters \n",
    "        self.compute_out_vol()\n",
    "        self.output = np.zeros([self.out_n, self.out_c, self.out_h, self.out_w])\n",
    "        # parse through every element of the output and compute the convolution value for that element\n",
    "        for b in range(self.out_n):\n",
    "            for k in range(self.num_ker):\n",
    "                for h in range(self.out_h):\n",
    "                    for w in range(self.out_w):\n",
    "                        self.output[b, k, h, w] += self.convolve(h, w, k, b)\n",
    "        self.verboseprint('*** output ***')\n",
    "        output_shape = self.output.shape\n",
    "        self.verboseprint('output batches: {}, ouput channels: {}, output height: {}, output weight: {}'.format(output_shape[0], output_shape[1], output_shape[2], output_shape[3]))\n",
    "        assert((self.out_n, self.out_c, self.out_h, self.out_w) == output_shape)\n",
    "        self.verboseprint(self.output)\n",
    "        self.verboseprint('\\n')\n",
    "\n",
    "    def forward(self, _input):\n",
    "        # create output from the input and kernel parameters \n",
    "        self.compute_out_vol(_input)\n",
    "        self.output = np.zeros([self.out_n, self.out_c, self.out_h, self.out_w])\n",
    "        # parse through every element of the output and compute the convolution value for that element\n",
    "        for b in range(self.out_n):\n",
    "            for k in range(self.num_ker):\n",
    "                for h in range(self.out_h):\n",
    "                    for w in range(self.out_w):\n",
    "                        self.output[b, k, h, w] += self.convolve(h, w, k, b)\n",
    "        self.verboseprint('*** output ***')\n",
    "        output_shape = self.output.shape\n",
    "        self.verboseprint('output batches: {}, ouput channels: {}, output height: {}, output weight: {}'.format(output_shape[0], output_shape[1], output_shape[2], output_shape[3]))\n",
    "        assert((self.out_n, self.out_c, self.out_h, self.out_w) == output_shape)\n",
    "        self.verboseprint(self.output)\n",
    "        self.verboseprint('\\n')\n",
    "'''"
   ]
  },
  {
   "cell_type": "raw",
   "id": "f4ff949d",
   "metadata": {},
   "source": [
    "'''\n",
    "inp_n = 2 # number of input batches\n",
    "inp_c, inp_h, inp_w = 2, 4, 4 # input channels, input height, input weight\n",
    "ker_c, ker_h, ker_w = 2, 2, 2 # kernel channels, kernel height, kernel weight\n",
    "num_ker = 3 # number of kernels\n",
    "stride = 2 # stride (optional)\n",
    "dilation = 1 # dilation factor (optional)\n",
    "padding = 0 # padding (optional)\n",
    "params = {'inp_n':inp_n, 'inp_c':inp_c, 'inp_h':inp_h, 'inp_w':inp_w, 'ker_c':ker_c, 'ker_h':ker_h, \n",
    "              'ker_w':ker_w, 'num_ker':num_ker, 'stride':stride, 'dilation':dilation, 'padding':padding}\n",
    "\n",
    "conv2D = Conv2D(params, debug=True)\n",
    "conv2D.create_input_img()\n",
    "conv2D.create_kernels()\n",
    "conv2D.create_output()\n",
    "'''"
   ]
  }
 ],
 "metadata": {
  "kernelspec": {
   "display_name": "Python 3 (ipykernel)",
   "language": "python",
   "name": "python3"
  },
  "language_info": {
   "codemirror_mode": {
    "name": "ipython",
    "version": 3
   },
   "file_extension": ".py",
   "mimetype": "text/x-python",
   "name": "python",
   "nbconvert_exporter": "python",
   "pygments_lexer": "ipython3",
   "version": "3.7.1"
  }
 },
 "nbformat": 4,
 "nbformat_minor": 5
}
