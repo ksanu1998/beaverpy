{
 "cells": [
  {
   "cell_type": "markdown",
   "id": "b20a6f8d",
   "metadata": {},
   "source": [
    "### `Conv2DPytTestGroups` code"
   ]
  },
  {
   "cell_type": "code",
   "execution_count": 8,
   "id": "19182ede",
   "metadata": {},
   "outputs": [],
   "source": [
    "import numpy as np"
   ]
  },
  {
   "cell_type": "code",
   "execution_count": 80,
   "id": "7ed1691b",
   "metadata": {},
   "outputs": [],
   "source": [
    "class Conv2DPytTestGroups:\n",
    "    ''' Computes convolution given the input parameters '''\n",
    "    \n",
    "    ''' * The class implementation will be along the lines of torch.nn.Conv2D in order to \n",
    "          enable comparison of this NumPy only implementation and seamless testing\n",
    "        * Can expect extensive refactoring of the existing code in the days to come\n",
    "        * As part of refactoring, some code will be de-modularized\n",
    "        * Old code will be retained at the end of the notebook for reference\n",
    "    '''\n",
    "    '''\n",
    "        TODO:\n",
    "        * Add various `padding` modes - {'valid' (no padding / padding = 0), 'same'}\n",
    "        * Add various `kernel_size` modes - a single `int` or a `tuple` of ints\n",
    "        * Implementing other features and caveats offered by nn.torch.Conv2D \n",
    "          (e.g., uniform sampling of kernel weights etc.)\n",
    "        * Clean-up `debug` mode\n",
    "        * Optimizing code\n",
    "    '''\n",
    "    \n",
    "    def __init__(\n",
    "        self, \n",
    "        in_channels, \n",
    "        out_channels, \n",
    "        kernel_size, \n",
    "        padding = 0, \n",
    "        stride = 1, \n",
    "        dilation = 1, \n",
    "        groups = 1, \n",
    "        bias = True, \n",
    "        padding_mode = 'zeros', \n",
    "        device = None, \n",
    "        dtype = None, \n",
    "        verbose = True, \n",
    "        debug = False\n",
    "        ):\n",
    "        super(Conv2DPytTestGroups, self).__init__()\n",
    "        \n",
    "        ''' mandatory parameters '''\n",
    "        self.in_channels = in_channels\n",
    "        self.out_channels = out_channels\n",
    "        self.kernel_size = kernel_size\n",
    "        \n",
    "        ''' optional parameters '''\n",
    "        self.padding = padding\n",
    "        self.stride = stride\n",
    "        self.dilation = dilation\n",
    "        self.groups = groups\n",
    "        \n",
    "        ''' optional parameters (dummy, yet to be implemented)'''\n",
    "        self.bias = bias\n",
    "        self.padding_mode = padding_mode\n",
    "        self.device = device\n",
    "        self.dtype = dtype\n",
    "        \n",
    "        ''' additional parameters (different from torch.nn.Conv2D)'''\n",
    "        self.verbose = verbose\n",
    "        self.verboseprint = print if self.verbose else lambda *a, **k: None\n",
    "        self.debug = debug\n",
    "        self.debugprint = print if self.debug else lambda *a, **k: None\n",
    "        self.verboseprint('*** parameters ***')\n",
    "        self.verboseprint('in_channels: {}, out_channels: {}, kernel_size: {}'.format(self.in_channels, self.out_channels, self.kernel_size))\n",
    "        self.verboseprint('padding: {}, stride: {}, dilation factor: {}'.format(self.padding, self.stride, self.dilation))\n",
    "        self.verboseprint('groups: {}, bias: {}, padding_mode: {}, device: {}, dtype: {}'.format(self.groups, self.bias, self.padding_mode, self.device, self.dtype))\n",
    "        self.verboseprint('\\n')\n",
    "    \n",
    "    def forward(self, _input, kernels):\n",
    "        ''' forward pass to perform convolution '''\n",
    "        \n",
    "        ''' do error checking '''\n",
    "        _input_n, _input_c, _input_h, _input_w = _input.shape\n",
    "        if _input_h + 2 * self.padding < self.dilation * (self.kernel_size[0] - 1) + 1: # check if (dilated) ker_h is valid\n",
    "            raise Exception('invalid input parameters: kernel height is larger than input height')\n",
    "        if _input_w + 2 * self.padding < self.dilation * (self.kernel_size[1] - 1) + 1: # check if (dilated) ker_w is valid\n",
    "            raise Exception('invalid input parameters: kernel width is larger than input width')\n",
    "        if ((_input_h + 2 * self.padding - (self.dilation * (self.kernel_size[0] - 1) + 1)) / self.stride) + 1 < 0: # check if out_h is valid\n",
    "            raise Exception('invalid input parameters: output height is negative')\n",
    "        if ((_input_w + 2 * self.padding - (self.dilation * (self.kernel_size[1] - 1) + 1)) / self.stride) + 1 < 0: # check if out_w is valid\n",
    "            raise Exception('invalid input parameters: output width is negative')\n",
    "        if  self.in_channels % self.groups != 0: # check if groups is valid\n",
    "            raise Exception('invalid input parameters: input channels is not divisible by groups')\n",
    "        if self.out_channels % self.groups != 0: # check if groups is valid\n",
    "            raise Exception('invalid input parametes: output channels is not divisible by groups')\n",
    "         \n",
    "        ''' add zero padding based on the input parameters '''\n",
    "        if self.padding != 0:\n",
    "            _input = np.array([[np.pad(channel,self.padding, 'constant', constant_values = 0) for channel in batch] for batch in _input])    \n",
    "            self.verboseprint('*** padded input image ***')\n",
    "            self.verboseprint('input batches: {}, input channels: {}, input height: {}, input weight: {}'.format(_input.shape[0], _input.shape[1], _input.shape[2], _input.shape[3]))\n",
    "            self.verboseprint(_input)\n",
    "            self.verboseprint('\\n')\n",
    "        if self.debug:\n",
    "            for b in range(_input.shape[0]):\n",
    "                _input[b] = (b+1) * np.ones_like(_input[b]) # define an image of all ones (twos etc.) based on the input parameters\n",
    "        \n",
    "        ''' use the provided kernels or create random kernels based on the input kernel parameters '''\n",
    "        if kernels is not None:\n",
    "            self.verboseprint('*** kernels ***')\n",
    "            self.verboseprint('kernels: {}, kernel channels: {}, kernel height: {}, kernel weight: {}'.format(self.out_channels, int(self.in_channels / self.groups), self.kernel_size[0], self.kernel_size[1]))\n",
    "        else:\n",
    "            kernels = []\n",
    "            self.verboseprint('*** kernels ***')\n",
    "            self.verboseprint('kernels: {}, kernel channels: {}, kernel height: {}, kernel weight: {}'.format(self.out_channels, int(self.in_channels / self.groups), self.kernel_size[0], self.kernel_size[1]))\n",
    "            for k in range(self.out_channels):\n",
    "                kernel = np.random.rand(int(self.in_channels/self.groups), self.kernel_size[0], self.kernel_size[1]) # define a random kernel based on the kernel parameters\n",
    "                if self.debug:\n",
    "                    kernel = k * np.ones_like(kernel)\n",
    "                kernels.append(kernel)\n",
    "                self.verboseprint('kernel {}'.format(k))\n",
    "                self.verboseprint(kernel)\n",
    "            self.verboseprint('\\n')\n",
    "        \n",
    "        ''' dilate a kernel '''\n",
    "        dil_ker_h = self.dilation * (self.kernel_size[0] - 1) + 1\n",
    "        dil_ker_w = self.dilation * (self.kernel_size[1] - 1) + 1\n",
    "        dil_kernels = []\n",
    "        for kernel in kernels:\n",
    "            dil_kernel = []\n",
    "            for channel in kernel:\n",
    "                dil_channel = np.zeros((dil_ker_h, dil_ker_w))\n",
    "                for row in range(len(channel)):\n",
    "                    for col in range(len(channel[0])):\n",
    "                        dil_channel[self.dilation*row][self.dilation*col] = channel[row][col]\n",
    "                dil_kernel.append(dil_channel.tolist())\n",
    "            dil_kernels.append(dil_kernel)\n",
    "        kernels, self.kernel_size = dil_kernels, (dil_ker_h, dil_ker_w)\n",
    "        self.verboseprint('*** dilated kernels ***')\n",
    "        self.verboseprint('kernels: {}, dilation factor: {}, kernel channels: {}, kernel height: {}, kernel weight: {}'.format(self.out_channels, self.dilation, int(self.in_channels / self.groups), self.kernel_size[0], self.kernel_size[1]))\n",
    "        for k in range(self.out_channels):\n",
    "            self.verboseprint('kernel {}'.format(k))\n",
    "            self.verboseprint(kernels[k])\n",
    "        self.verboseprint('\\n')\n",
    "        \n",
    "        ''' compute output volume from the input and kernel parameters '''\n",
    "        _input_n, _, _input_h, _input_w = _input.shape\n",
    "        out_n = int(_input_n)\n",
    "        out_c = int(self.out_channels)\n",
    "        out_h = int((_input_h - self.kernel_size[0])/self.stride) + 1\n",
    "        out_w = int((_input_w - self.kernel_size[1])/self.stride) + 1\n",
    "        output = np.zeros([out_n, out_c, out_h, out_w])\n",
    "        \n",
    "        ''' parse through every element of the output and compute the convolution value for that element '''\n",
    "        for b in range(out_n):\n",
    "            for k in range(out_c):\n",
    "                for h in range(out_h):\n",
    "                    for w in range(out_w):\n",
    "                        # convolve kernel over the input slices\n",
    "                        self.debugprint('kernel indices, image indices')\n",
    "                        self.debugprint('[n, c, h, w]', '[n, c, h, w]')\n",
    "                        convol_sum = 0\n",
    "                        ker_c = int(self.in_channels / self.groups)\n",
    "                        ker_h = self.kernel_size[0]\n",
    "                        ker_w = self.kernel_size[1]\n",
    "                        for c_ker in range(ker_c):\n",
    "                            for h_ker in range(ker_h):\n",
    "                                for w_ker in range(ker_w):\n",
    "                                    # if self.groups == 1:\n",
    "                                        # self.debugprint([k, c_ker, h_ker, w_ker], [b, c_ker, h_ker + self.stride * h, w_ker + self.stride * w])\n",
    "                                        # convol_sum += kernels[k][c_ker][h_ker][w_ker] * _input[b][c_ker][h_ker + self.stride*h][w_ker + self.stride*w] # works only when `groups` == 1\n",
    "                                    # elif self.groups == self.in_channels:\n",
    "                                        # self.debugprint([k, c_ker, h_ker, w_ker], [b, k, h_ker + self.stride * h, w_ker + self.stride * w])\n",
    "                                        # convol_sum += kernels[k][c_ker][h_ker][w_ker] * _input[b][k][h_ker + self.stride * h][w_ker + self.stride * w] # works only when `groups` == in_channels\n",
    "                                    # else:\n",
    "                                        # self.debugprint([k, c_ker, h_ker, w_ker], [b, c_ker if k < self.groups else c_ker + ker_c, h_ker + self.stride * h, w_ker + self.stride * w])\n",
    "                                        # convol_sum += kernels[k][c_ker][h_ker][w_ker] * _input[b][c_ker if k < self.groups else c_ker + ker_c][h_ker + self.stride * h][w_ker + self.stride * w] # works in some cases when 1 < `groups` < in_channels\n",
    "                                    self.debugprint([k, c_ker, h_ker, w_ker], [b, c_ker + (ker_c * int(np.floor(k / (self.out_channels / self.groups)))), h_ker + self.stride * h, w_ker + self.stride * w])\n",
    "                                    convol_sum += kernels[k][c_ker][h_ker][w_ker] * _input[b][c_ker + (ker_c * int(np.floor(k / (self.out_channels / self.groups))))][h_ker + self.stride * h][w_ker + self.stride * w] # works for all 1 <= `groups` <= in_channels\n",
    "                        self.debugprint('\\n')\n",
    "                        output[b, k, h, w] += convol_sum\n",
    "        self.verboseprint('*** Conv2DPytTest output ***')\n",
    "        output_shape = output.shape\n",
    "        self.verboseprint('output batches: {}, ouput channels: {}, output height: {}, output weight: {}'.format(output_shape[0], output_shape[1], output_shape[2], output_shape[3]))\n",
    "        assert((out_n, out_c, out_h, out_w) == output_shape)\n",
    "        self.verboseprint(output)\n",
    "        self.verboseprint('\\n')\n",
    "        return output"
   ]
  },
  {
   "cell_type": "markdown",
   "id": "7450ac24",
   "metadata": {},
   "source": [
    "### Standalone test (random kernel, random input)"
   ]
  },
  {
   "cell_type": "code",
   "execution_count": 81,
   "id": "a0377df6",
   "metadata": {},
   "outputs": [],
   "source": [
    "debug = False # DO NOT CHANGE THIS while using Conv2DPytTestGroups - TODO: modify this flag to `test`\n",
    "\n",
    "in_channels = 6 # input channels\n",
    "out_channels = 4 # output channels\n",
    "kernel_size = (2, 2) # kernel size\n",
    "\n",
    "padding = 1 # padding (optional)\n",
    "stride = 2 # stride (optional)\n",
    "dilation = 1 # dilation factor (optional)\n",
    "groups = 2 # groups (optional)\n",
    "\n",
    "in_batches = 2 # input batches\n",
    "in_h = 4 # input height\n",
    "in_w = 4 # input weight\n",
    "\n",
    "_input = np.random.rand(in_batches, in_channels, in_h, in_w) # define a random image based on the input parameters\n",
    "kernels = []\n",
    "for k in range(out_channels):\n",
    "    kernel = np.random.rand(int(in_channels / groups), kernel_size[0], kernel_size[1]) # define a random kernel based on the kernel parameters\n",
    "    kernels.append(kernel)"
   ]
  },
  {
   "cell_type": "markdown",
   "id": "c2f64709",
   "metadata": {},
   "source": [
    "### Debug cell"
   ]
  },
  {
   "cell_type": "raw",
   "id": "cfe60da5",
   "metadata": {},
   "source": [
    "\"\"\"\n",
    "debug = False # DO NOT CHANGE THIS while using Conv2DPytTestGroups - TODO: modify this flag to `test`\n",
    "\n",
    "in_channels = 9 # input channels\n",
    "out_channels = 3 # output channels\n",
    "kernel_size = (3, 3) # kernel size\n",
    "\n",
    "padding = 1 # padding (optional)\n",
    "stride = 3 # stride (optional)\n",
    "dilation = 9 # dilation factor (optional)\n",
    "groups = 3 # groups (optional)\n",
    "\n",
    "in_batches = 5 # input batches\n",
    "in_h = 6 # input height\n",
    "in_w = 16 # input weight\n",
    "\n",
    "_input = np.random.rand(in_batches, in_channels, in_h, in_w) # define a random image based on the input parameters\n",
    "kernels = []\n",
    "for k in range(out_channels):\n",
    "    kernel = np.random.rand(int(in_channels / groups), kernel_size[0], kernel_size[1]) # define a random kernel based on the kernel parameters\n",
    "    kernels.append(kernel)\n",
    "\"\"\""
   ]
  },
  {
   "cell_type": "code",
   "execution_count": 83,
   "id": "29c79bef",
   "metadata": {},
   "outputs": [
    {
     "name": "stdout",
     "output_type": "stream",
     "text": [
      "*** Conv2DPytTestGroups output ***\n",
      "[[[[1.10192836]\n",
      "   [1.51187638]\n",
      "   [1.02969919]\n",
      "   [0.64293919]]\n",
      "\n",
      "  [[1.26775422]\n",
      "   [1.8186179 ]\n",
      "   [2.22417617]\n",
      "   [1.71097682]]]\n",
      "\n",
      "\n",
      " [[[1.1597717 ]\n",
      "   [0.74006726]\n",
      "   [0.63493165]\n",
      "   [0.66291379]]\n",
      "\n",
      "  [[1.05911239]\n",
      "   [0.80990874]\n",
      "   [1.26669659]\n",
      "   [1.68991502]]]\n",
      "\n",
      "\n",
      " [[[1.03753299]\n",
      "   [1.53259776]\n",
      "   [0.67928173]\n",
      "   [0.54115662]]\n",
      "\n",
      "  [[0.94056286]\n",
      "   [2.03424528]\n",
      "   [1.26534445]\n",
      "   [1.24467719]]]\n",
      "\n",
      "\n",
      " [[[0.73065443]\n",
      "   [1.41083697]\n",
      "   [0.70651766]\n",
      "   [0.51291586]]\n",
      "\n",
      "  [[1.05819814]\n",
      "   [2.11853918]\n",
      "   [1.63883502]\n",
      "   [0.91626343]]]\n",
      "\n",
      "\n",
      " [[[1.46247271]\n",
      "   [0.91815224]\n",
      "   [0.96290508]\n",
      "   [1.0433927 ]]\n",
      "\n",
      "  [[1.24622601]\n",
      "   [0.86230355]\n",
      "   [1.81638351]\n",
      "   [2.00142631]]]]\n"
     ]
    }
   ],
   "source": [
    "# get Conv2DPytTestGroups output with the random inputs\n",
    "\n",
    "conv2dpyttestgroups = Conv2DPytTestGroups(in_channels, out_channels, kernel_size, stride = stride, padding = padding, dilation = dilation, groups = groups, debug = debug, verbose = False) # call an instance of the class with the input parameters \n",
    "_output = conv2dpyttestgroups.forward(_input, kernels) # perform convolution\n",
    "print(\"*** Conv2DPytTestGroups output ***\")\n",
    "print(_output)"
   ]
  },
  {
   "cell_type": "code",
   "execution_count": 88,
   "id": "df346af0",
   "metadata": {
    "scrolled": true
   },
   "outputs": [
    {
     "name": "stdout",
     "output_type": "stream",
     "text": [
      "*** PyTorch output ***\n",
      "tensor([[[[1.1019],\n",
      "          [1.5119],\n",
      "          [1.0297],\n",
      "          [0.6429]],\n",
      "\n",
      "         [[1.2678],\n",
      "          [1.8186],\n",
      "          [2.2242],\n",
      "          [1.7110]]],\n",
      "\n",
      "\n",
      "        [[[1.1598],\n",
      "          [0.7401],\n",
      "          [0.6349],\n",
      "          [0.6629]],\n",
      "\n",
      "         [[1.0591],\n",
      "          [0.8099],\n",
      "          [1.2667],\n",
      "          [1.6899]]],\n",
      "\n",
      "\n",
      "        [[[1.0375],\n",
      "          [1.5326],\n",
      "          [0.6793],\n",
      "          [0.5412]],\n",
      "\n",
      "         [[0.9406],\n",
      "          [2.0342],\n",
      "          [1.2653],\n",
      "          [1.2447]]],\n",
      "\n",
      "\n",
      "        [[[0.7307],\n",
      "          [1.4108],\n",
      "          [0.7065],\n",
      "          [0.5129]],\n",
      "\n",
      "         [[1.0582],\n",
      "          [2.1185],\n",
      "          [1.6388],\n",
      "          [0.9163]]],\n",
      "\n",
      "\n",
      "        [[[1.4625],\n",
      "          [0.9182],\n",
      "          [0.9629],\n",
      "          [1.0434]],\n",
      "\n",
      "         [[1.2462],\n",
      "          [0.8623],\n",
      "          [1.8164],\n",
      "          [2.0014]]]], dtype=torch.float64)\n"
     ]
    }
   ],
   "source": [
    "# get PyTorch output with the same random inputs as above\n",
    "\n",
    "import torch\n",
    "\n",
    "x = torch.DoubleTensor(_input)\n",
    "weights = torch.stack([torch.DoubleTensor(kernel) for kernel in kernels])\n",
    "output = torch.nn.functional.conv2d(x, weights, stride = stride, padding = padding, dilation = dilation, groups = groups)\n",
    "print(\"*** PyTorch output ***\")\n",
    "print(output)"
   ]
  },
  {
   "cell_type": "code",
   "execution_count": 89,
   "id": "d8e5a3f5",
   "metadata": {
    "scrolled": true
   },
   "outputs": [
    {
     "name": "stdout",
     "output_type": "stream",
     "text": [
      "True\n"
     ]
    }
   ],
   "source": [
    "# compare outputs of conv-Numpy and PyTorch\n",
    "print(torch.equal(torch.round(torch.DoubleTensor(_output)), torch.round(output))) # need to round the output due to precision difference"
   ]
  },
  {
   "cell_type": "markdown",
   "id": "c87813f3",
   "metadata": {},
   "source": [
    "### Extensive tests (random kernel, random input)"
   ]
  },
  {
   "cell_type": "code",
   "execution_count": 7,
   "id": "8b986f3c",
   "metadata": {},
   "outputs": [],
   "source": [
    "def valid_params(num_tests):\n",
    "    # generates `num_samples` number of valid input and kernel parameters \n",
    "    params_list = []\n",
    "    sample_count = 0\n",
    "    while sample_count < num_tests:\n",
    "        in_channels = np.random.randint(20) + 1 # input channels\n",
    "        out_channels = np.random.randint(20) + 1 # output channels\n",
    "        \n",
    "        ker_h = np.random.randint(20) + 1\n",
    "        ker_w = np.random.randint(20) + 1\n",
    "        kernel_size = (ker_h, ker_w) # kernel size\n",
    "        \n",
    "        padding = np.random.randint(10) + 1 # padding (optional)\n",
    "        stride = np.random.randint(5) + 1 # stride (optional)\n",
    "        dilation = np.random.randint(10) + 1 # dilation factor (optional)\n",
    "        groups = np.random.randint(in_channels) + 1 # groups (optional)\n",
    "        \n",
    "        in_batches = np.random.randint(5) + 1 # input batches\n",
    "        in_h = np.random.randint(30) + 5 # input height\n",
    "        in_w = np.random.randint(30) + 5 # input weight\n",
    "    \n",
    "        ker_h_flag, ker_w_flag, out_h_flag, out_w_flag, in_group_flag, out_group_flag = True, True, True, True, True, True\n",
    "        \n",
    "        if in_h + 2 * padding < dilation * (ker_h - 1) + 1: # check if (dilated) ker_h is valid\n",
    "            ker_h_flag = False\n",
    "        if in_w + 2 * padding < dilation * (ker_w - 1) + 1: # check if (dilated) ker_w is valid\n",
    "            ker_w_flag = False\n",
    "        if ((in_h + 2 * padding - (dilation * (ker_h - 1) + 1)) / stride) + 1 < 0: # check if out_h is valid\n",
    "            out_h_flag = False\n",
    "        if ((in_w + 2 * padding - (dilation * (ker_w - 1) + 1)) / stride) + 1 < 0: # check if out_w is valid\n",
    "            out_w_flag = False\n",
    "        if  in_channels % groups != 0: # check if groups is valid\n",
    "            in_group_flag = False\n",
    "        if out_channels % groups != 0: # check if groups is valid\n",
    "            out_group_flag = False\n",
    "        \n",
    "        if ker_h_flag and ker_w_flag and out_h_flag and out_w_flag and in_group_flag and out_group_flag:\n",
    "            params_list.append({'in_channels': in_channels, 'out_channels': out_channels, 'kernel_size': kernel_size,\n",
    "                          'padding': padding, 'stride': stride, 'dilation': dilation, 'groups': groups, 'in_batches': in_batches,\n",
    "                          'in_h': in_h, 'in_w': in_w})\n",
    "            sample_count += 1\n",
    "    return params_list"
   ]
  },
  {
   "cell_type": "code",
   "execution_count": 90,
   "id": "472a4c0f",
   "metadata": {
    "scrolled": false
   },
   "outputs": [
    {
     "name": "stdout",
     "output_type": "stream",
     "text": [
      "Number of tests: 200\n",
      "\n",
      "\n"
     ]
    },
    {
     "name": "stderr",
     "output_type": "stream",
     "text": [
      "\r",
      "  0%|                                                   | 0/200 [00:00<?, ?it/s]"
     ]
    },
    {
     "name": "stdout",
     "output_type": "stream",
     "text": [
      "Test: 0\n",
      "Params: {'in_channels': 14, 'out_channels': 4, 'kernel_size': (7, 5), 'padding': 9, 'stride': 5, 'dilation': 2, 'groups': 1, 'in_batches': 4, 'in_h': 27, 'in_w': 24}\n"
     ]
    },
    {
     "name": "stderr",
     "output_type": "stream",
     "text": [
      "\r",
      "  0%|▏                                          | 1/200 [00:06<22:56,  6.92s/it]"
     ]
    },
    {
     "name": "stdout",
     "output_type": "stream",
     "text": [
      "Result: True\n",
      "\n",
      "\n",
      "Test: 1\n",
      "Params: {'in_channels': 4, 'out_channels': 4, 'kernel_size': (20, 11), 'padding': 8, 'stride': 3, 'dilation': 1, 'groups': 1, 'in_batches': 1, 'in_h': 23, 'in_w': 28}\n"
     ]
    },
    {
     "name": "stderr",
     "output_type": "stream",
     "text": [
      "\r",
      "  1%|▍                                          | 2/200 [00:08<13:09,  3.99s/it]"
     ]
    },
    {
     "name": "stdout",
     "output_type": "stream",
     "text": [
      "Result: True\n",
      "\n",
      "\n",
      "Test: 2\n",
      "Params: {'in_channels': 4, 'out_channels': 2, 'kernel_size': (16, 16), 'padding': 7, 'stride': 1, 'dilation': 1, 'groups': 1, 'in_batches': 3, 'in_h': 5, 'in_w': 8}\n"
     ]
    },
    {
     "name": "stderr",
     "output_type": "stream",
     "text": [
      "\r",
      "  2%|▋                                          | 3/200 [00:09<08:35,  2.62s/it]"
     ]
    },
    {
     "name": "stdout",
     "output_type": "stream",
     "text": [
      "Result: True\n",
      "\n",
      "\n",
      "Test: 3\n",
      "Params: {'in_channels': 1, 'out_channels': 1, 'kernel_size': (11, 10), 'padding': 4, 'stride': 5, 'dilation': 2, 'groups': 1, 'in_batches': 2, 'in_h': 16, 'in_w': 34}\n",
      "Result: True\n",
      "\n",
      "\n",
      "Test: 4\n",
      "Params: {'in_channels': 3, 'out_channels': 2, 'kernel_size': (12, 19), 'padding': 10, 'stride': 3, 'dilation': 1, 'groups': 1, 'in_batches': 5, 'in_h': 18, 'in_w': 27}\n"
     ]
    },
    {
     "name": "stderr",
     "output_type": "stream",
     "text": [
      "\r",
      "  2%|█                                          | 5/200 [00:13<07:09,  2.20s/it]"
     ]
    },
    {
     "name": "stdout",
     "output_type": "stream",
     "text": [
      "Result: True\n",
      "\n",
      "\n",
      "Test: 5\n",
      "Params: {'in_channels': 8, 'out_channels': 8, 'kernel_size': (7, 5), 'padding': 8, 'stride': 3, 'dilation': 3, 'groups': 2, 'in_batches': 1, 'in_h': 30, 'in_w': 13}\n"
     ]
    },
    {
     "name": "stderr",
     "output_type": "stream",
     "text": [
      "\r",
      "  3%|█▎                                         | 6/200 [00:16<07:32,  2.33s/it]"
     ]
    },
    {
     "name": "stdout",
     "output_type": "stream",
     "text": [
      "Result: True\n",
      "\n",
      "\n",
      "Test: 6\n",
      "Params: {'in_channels': 8, 'out_channels': 4, 'kernel_size': (9, 16), 'padding': 1, 'stride': 3, 'dilation': 1, 'groups': 2, 'in_batches': 3, 'in_h': 16, 'in_w': 19}\n"
     ]
    },
    {
     "name": "stderr",
     "output_type": "stream",
     "text": [
      "\r",
      "  4%|█▌                                         | 7/200 [00:16<05:38,  1.75s/it]"
     ]
    },
    {
     "name": "stdout",
     "output_type": "stream",
     "text": [
      "Result: True\n",
      "\n",
      "\n",
      "Test: 7\n",
      "Params: {'in_channels': 8, 'out_channels': 8, 'kernel_size': (1, 4), 'padding': 4, 'stride': 4, 'dilation': 2, 'groups': 8, 'in_batches': 2, 'in_h': 17, 'in_w': 5}\n",
      "Result: True\n",
      "\n",
      "\n",
      "Test: 8\n",
      "Params: {'in_channels': 2, 'out_channels': 2, 'kernel_size': (1, 16), 'padding': 1, 'stride': 4, 'dilation': 2, 'groups': 2, 'in_batches': 4, 'in_h': 21, 'in_w': 33}\n",
      "Result: True\n",
      "\n",
      "\n",
      "Test: 9\n",
      "Params: {'in_channels': 2, 'out_channels': 2, 'kernel_size': (2, 2), 'padding': 9, 'stride': 1, 'dilation': 3, 'groups': 1, 'in_batches': 1, 'in_h': 10, 'in_w': 26}\n"
     ]
    },
    {
     "name": "stderr",
     "output_type": "stream",
     "text": [
      "\r",
      "  5%|██                                        | 10/200 [00:17<02:42,  1.17it/s]"
     ]
    },
    {
     "name": "stdout",
     "output_type": "stream",
     "text": [
      "Result: True\n",
      "\n",
      "\n",
      "Test: 10\n",
      "Params: {'in_channels': 1, 'out_channels': 1, 'kernel_size': (8, 20), 'padding': 10, 'stride': 5, 'dilation': 2, 'groups': 1, 'in_batches': 1, 'in_h': 30, 'in_w': 28}\n",
      "Result: True\n",
      "\n",
      "\n",
      "Test: 11\n",
      "Params: {'in_channels': 1, 'out_channels': 1, 'kernel_size': (20, 7), 'padding': 6, 'stride': 3, 'dilation': 1, 'groups': 1, 'in_batches': 3, 'in_h': 10, 'in_w': 34}\n",
      "Result: True\n",
      "\n",
      "\n",
      "Test: 12\n",
      "Params: {'in_channels': 6, 'out_channels': 2, 'kernel_size': (2, 2), 'padding': 4, 'stride': 2, 'dilation': 3, 'groups': 2, 'in_batches': 2, 'in_h': 20, 'in_w': 16}\n"
     ]
    },
    {
     "name": "stderr",
     "output_type": "stream",
     "text": [
      "\r",
      "  6%|██▋                                       | 13/200 [00:17<01:35,  1.95it/s]"
     ]
    },
    {
     "name": "stdout",
     "output_type": "stream",
     "text": [
      "Result: True\n",
      "\n",
      "\n",
      "Test: 13\n",
      "Params: {'in_channels': 16, 'out_channels': 7, 'kernel_size': (1, 2), 'padding': 8, 'stride': 1, 'dilation': 8, 'groups': 1, 'in_batches': 5, 'in_h': 10, 'in_w': 13}\n"
     ]
    },
    {
     "name": "stderr",
     "output_type": "stream",
     "text": [
      "\r",
      "  7%|██▉                                       | 14/200 [00:33<10:14,  3.30s/it]"
     ]
    },
    {
     "name": "stdout",
     "output_type": "stream",
     "text": [
      "Result: True\n",
      "\n",
      "\n",
      "Test: 14\n",
      "Params: {'in_channels': 1, 'out_channels': 1, 'kernel_size': (6, 1), 'padding': 10, 'stride': 2, 'dilation': 1, 'groups': 1, 'in_batches': 5, 'in_h': 21, 'in_w': 10}\n",
      "Result: True\n",
      "\n",
      "\n",
      "Test: 15\n",
      "Params: {'in_channels': 2, 'out_channels': 2, 'kernel_size': (6, 17), 'padding': 3, 'stride': 2, 'dilation': 1, 'groups': 2, 'in_batches': 2, 'in_h': 12, 'in_w': 32}\n"
     ]
    },
    {
     "name": "stderr",
     "output_type": "stream",
     "text": [
      "\r",
      "  8%|███▎                                      | 16/200 [00:34<06:52,  2.24s/it]"
     ]
    },
    {
     "name": "stdout",
     "output_type": "stream",
     "text": [
      "Result: True\n",
      "\n",
      "\n",
      "Test: 16\n",
      "Params: {'in_channels': 16, 'out_channels': 8, 'kernel_size': (1, 9), 'padding': 7, 'stride': 4, 'dilation': 3, 'groups': 4, 'in_batches': 1, 'in_h': 32, 'in_w': 13}\n",
      "Result: True\n",
      "\n",
      "\n",
      "Test: 17\n",
      "Params: {'in_channels': 3, 'out_channels': 2, 'kernel_size': (12, 2), 'padding': 5, 'stride': 1, 'dilation': 1, 'groups': 1, 'in_batches': 3, 'in_h': 30, 'in_w': 33}\n"
     ]
    },
    {
     "name": "stderr",
     "output_type": "stream",
     "text": [
      "\r",
      "  9%|███▊                                      | 18/200 [00:36<06:02,  1.99s/it]"
     ]
    },
    {
     "name": "stdout",
     "output_type": "stream",
     "text": [
      "Result: True\n",
      "\n",
      "\n",
      "Test: 18\n",
      "Params: {'in_channels': 6, 'out_channels': 6, 'kernel_size': (6, 3), 'padding': 6, 'stride': 4, 'dilation': 4, 'groups': 3, 'in_batches': 2, 'in_h': 12, 'in_w': 31}\n"
     ]
    },
    {
     "name": "stderr",
     "output_type": "stream",
     "text": [
      "\r",
      " 10%|███▉                                      | 19/200 [00:37<05:00,  1.66s/it]"
     ]
    },
    {
     "name": "stdout",
     "output_type": "stream",
     "text": [
      "Result: True\n",
      "\n",
      "\n",
      "Test: 19\n",
      "Params: {'in_channels': 10, 'out_channels': 8, 'kernel_size': (11, 2), 'padding': 6, 'stride': 3, 'dilation': 1, 'groups': 1, 'in_batches': 5, 'in_h': 6, 'in_w': 6}\n"
     ]
    },
    {
     "name": "stderr",
     "output_type": "stream",
     "text": [
      "\r",
      " 10%|████▏                                     | 20/200 [00:38<04:29,  1.50s/it]"
     ]
    },
    {
     "name": "stdout",
     "output_type": "stream",
     "text": [
      "Result: True\n",
      "\n",
      "\n",
      "Test: 20\n",
      "Params: {'in_channels': 2, 'out_channels': 2, 'kernel_size': (9, 7), 'padding': 5, 'stride': 3, 'dilation': 1, 'groups': 1, 'in_batches': 4, 'in_h': 12, 'in_w': 21}\n"
     ]
    },
    {
     "name": "stderr",
     "output_type": "stream",
     "text": [
      "\r",
      " 10%|████▍                                     | 21/200 [00:38<03:36,  1.21s/it]"
     ]
    },
    {
     "name": "stdout",
     "output_type": "stream",
     "text": [
      "Result: True\n",
      "\n",
      "\n",
      "Test: 21\n",
      "Params: {'in_channels': 1, 'out_channels': 1, 'kernel_size': (6, 3), 'padding': 5, 'stride': 3, 'dilation': 1, 'groups': 1, 'in_batches': 3, 'in_h': 8, 'in_w': 26}\n",
      "Result: True\n",
      "\n",
      "\n",
      "Test: 22\n",
      "Params: {'in_channels': 1, 'out_channels': 1, 'kernel_size': (8, 9), 'padding': 9, 'stride': 4, 'dilation': 3, 'groups': 1, 'in_batches': 1, 'in_h': 32, 'in_w': 14}\n",
      "Result: True\n",
      "\n",
      "\n",
      "Test: 23\n",
      "Params: {'in_channels': 6, 'out_channels': 2, 'kernel_size': (13, 6), 'padding': 10, 'stride': 3, 'dilation': 1, 'groups': 2, 'in_batches': 2, 'in_h': 10, 'in_w': 19}\n"
     ]
    },
    {
     "name": "stderr",
     "output_type": "stream",
     "text": [
      "\r",
      " 12%|█████                                     | 24/200 [00:38<01:59,  1.47it/s]"
     ]
    },
    {
     "name": "stdout",
     "output_type": "stream",
     "text": [
      "Result: True\n",
      "\n",
      "\n",
      "Test: 24\n",
      "Params: {'in_channels': 2, 'out_channels': 1, 'kernel_size': (10, 9), 'padding': 9, 'stride': 3, 'dilation': 2, 'groups': 1, 'in_batches': 3, 'in_h': 33, 'in_w': 17}\n"
     ]
    },
    {
     "name": "stderr",
     "output_type": "stream",
     "text": [
      "\r",
      " 12%|█████▎                                    | 25/200 [00:39<02:00,  1.45it/s]"
     ]
    },
    {
     "name": "stdout",
     "output_type": "stream",
     "text": [
      "Result: True\n",
      "\n",
      "\n",
      "Test: 25\n",
      "Params: {'in_channels': 4, 'out_channels': 3, 'kernel_size': (10, 1), 'padding': 8, 'stride': 3, 'dilation': 1, 'groups': 1, 'in_batches': 5, 'in_h': 29, 'in_w': 12}\n"
     ]
    },
    {
     "name": "stderr",
     "output_type": "stream",
     "text": [
      " 14%|█████▋                                    | 27/200 [00:40<01:30,  1.91it/s]"
     ]
    },
    {
     "name": "stdout",
     "output_type": "stream",
     "text": [
      "Result: True\n",
      "\n",
      "\n",
      "Test: 26\n",
      "Params: {'in_channels': 15, 'out_channels': 6, 'kernel_size': (19, 2), 'padding': 2, 'stride': 5, 'dilation': 1, 'groups': 3, 'in_batches': 3, 'in_h': 18, 'in_w': 20}\n",
      "Result: True\n",
      "\n",
      "\n",
      "Test: 27\n",
      "Params: {'in_channels': 1, 'out_channels': 1, 'kernel_size': (6, 17), 'padding': 7, 'stride': 2, 'dilation': 2, 'groups': 1, 'in_batches': 3, 'in_h': 26, 'in_w': 27}\n"
     ]
    },
    {
     "name": "stderr",
     "output_type": "stream",
     "text": [
      "\r",
      " 14%|█████▉                                    | 28/200 [00:40<01:26,  2.00it/s]"
     ]
    },
    {
     "name": "stdout",
     "output_type": "stream",
     "text": [
      "Result: True\n",
      "\n",
      "\n",
      "Test: 28\n",
      "Params: {'in_channels': 12, 'out_channels': 3, 'kernel_size': (8, 19), 'padding': 10, 'stride': 3, 'dilation': 1, 'groups': 3, 'in_batches': 4, 'in_h': 15, 'in_w': 28}\n"
     ]
    },
    {
     "name": "stderr",
     "output_type": "stream",
     "text": [
      "\r",
      " 14%|██████                                    | 29/200 [00:44<03:53,  1.36s/it]"
     ]
    },
    {
     "name": "stdout",
     "output_type": "stream",
     "text": [
      "Result: True\n",
      "\n",
      "\n",
      "Test: 29\n",
      "Params: {'in_channels': 6, 'out_channels': 6, 'kernel_size': (3, 7), 'padding': 4, 'stride': 5, 'dilation': 1, 'groups': 3, 'in_batches': 2, 'in_h': 11, 'in_w': 24}\n",
      "Result: True\n",
      "\n",
      "\n",
      "Test: 30\n",
      "Params: {'in_channels': 1, 'out_channels': 1, 'kernel_size': (4, 7), 'padding': 8, 'stride': 1, 'dilation': 1, 'groups': 1, 'in_batches': 5, 'in_h': 22, 'in_w': 10}\n"
     ]
    },
    {
     "name": "stderr",
     "output_type": "stream",
     "text": [
      "\r",
      " 16%|██████▌                                   | 31/200 [00:44<02:32,  1.11it/s]"
     ]
    },
    {
     "name": "stdout",
     "output_type": "stream",
     "text": [
      "Result: True\n",
      "\n",
      "\n",
      "Test: 31\n",
      "Params: {'in_channels': 14, 'out_channels': 8, 'kernel_size': (3, 2), 'padding': 2, 'stride': 4, 'dilation': 7, 'groups': 2, 'in_batches': 5, 'in_h': 33, 'in_w': 12}\n"
     ]
    },
    {
     "name": "stderr",
     "output_type": "stream",
     "text": [
      "\r",
      " 16%|██████▋                                   | 32/200 [00:47<03:53,  1.39s/it]"
     ]
    },
    {
     "name": "stdout",
     "output_type": "stream",
     "text": [
      "Result: True\n",
      "\n",
      "\n",
      "Test: 32\n",
      "Params: {'in_channels': 1, 'out_channels': 1, 'kernel_size': (11, 3), 'padding': 5, 'stride': 1, 'dilation': 2, 'groups': 1, 'in_batches': 2, 'in_h': 24, 'in_w': 21}\n"
     ]
    },
    {
     "name": "stderr",
     "output_type": "stream",
     "text": [
      "\r",
      " 16%|██████▉                                   | 33/200 [00:48<03:11,  1.15s/it]"
     ]
    },
    {
     "name": "stdout",
     "output_type": "stream",
     "text": [
      "Result: True\n",
      "\n",
      "\n",
      "Test: 33\n",
      "Params: {'in_channels': 2, 'out_channels': 2, 'kernel_size': (7, 3), 'padding': 9, 'stride': 4, 'dilation': 4, 'groups': 2, 'in_batches': 5, 'in_h': 22, 'in_w': 24}\n"
     ]
    },
    {
     "name": "stderr",
     "output_type": "stream",
     "text": [
      "\r",
      " 17%|███████▏                                  | 34/200 [00:48<02:38,  1.05it/s]"
     ]
    },
    {
     "name": "stdout",
     "output_type": "stream",
     "text": [
      "Result: True\n",
      "\n",
      "\n",
      "Test: 34\n",
      "Params: {'in_channels': 2, 'out_channels': 2, 'kernel_size': (8, 8), 'padding': 9, 'stride': 5, 'dilation': 1, 'groups': 1, 'in_batches': 3, 'in_h': 30, 'in_w': 27}\n"
     ]
    },
    {
     "name": "stderr",
     "output_type": "stream",
     "text": [
      "\r",
      " 18%|███████▎                                  | 35/200 [00:48<02:07,  1.29it/s]"
     ]
    },
    {
     "name": "stdout",
     "output_type": "stream",
     "text": [
      "Result: True\n",
      "\n",
      "\n",
      "Test: 35\n",
      "Params: {'in_channels': 4, 'out_channels': 4, 'kernel_size': (3, 16), 'padding': 6, 'stride': 5, 'dilation': 2, 'groups': 4, 'in_batches': 4, 'in_h': 21, 'in_w': 19}\n",
      "Result: True\n",
      "\n",
      "\n",
      "Test: 36\n",
      "Params: {'in_channels': 3, 'out_channels': 3, 'kernel_size': (3, 4), 'padding': 8, 'stride': 3, 'dilation': 8, 'groups': 1, 'in_batches': 3, 'in_h': 14, 'in_w': 13}\n"
     ]
    },
    {
     "name": "stderr",
     "output_type": "stream",
     "text": [
      " 19%|███████▉                                  | 38/200 [00:49<01:15,  2.13it/s]"
     ]
    },
    {
     "name": "stdout",
     "output_type": "stream",
     "text": [
      "Result: True\n",
      "\n",
      "\n",
      "Test: 37\n",
      "Params: {'in_channels': 12, 'out_channels': 6, 'kernel_size': (4, 7), 'padding': 4, 'stride': 2, 'dilation': 1, 'groups': 6, 'in_batches': 1, 'in_h': 14, 'in_w': 10}\n",
      "Result: True\n",
      "\n",
      "\n",
      "Test: 38\n",
      "Params: {'in_channels': 16, 'out_channels': 4, 'kernel_size': (11, 1), 'padding': 10, 'stride': 1, 'dilation': 1, 'groups': 2, 'in_batches': 1, 'in_h': 8, 'in_w': 7}\n"
     ]
    },
    {
     "name": "stderr",
     "output_type": "stream",
     "text": [
      "\r",
      " 20%|████████▏                                 | 39/200 [00:50<01:35,  1.69it/s]"
     ]
    },
    {
     "name": "stdout",
     "output_type": "stream",
     "text": [
      "Result: True\n",
      "\n",
      "\n",
      "Test: 39\n",
      "Params: {'in_channels': 3, 'out_channels': 3, 'kernel_size': (11, 18), 'padding': 2, 'stride': 1, 'dilation': 1, 'groups': 3, 'in_batches': 3, 'in_h': 23, 'in_w': 22}\n"
     ]
    },
    {
     "name": "stderr",
     "output_type": "stream",
     "text": [
      "\r",
      " 20%|████████▍                                 | 40/200 [00:52<02:07,  1.25it/s]"
     ]
    },
    {
     "name": "stdout",
     "output_type": "stream",
     "text": [
      "Result: True\n",
      "\n",
      "\n",
      "Test: 40\n",
      "Params: {'in_channels': 14, 'out_channels': 12, 'kernel_size': (5, 3), 'padding': 2, 'stride': 5, 'dilation': 2, 'groups': 2, 'in_batches': 5, 'in_h': 10, 'in_w': 24}\n"
     ]
    },
    {
     "name": "stderr",
     "output_type": "stream",
     "text": [
      "\r",
      " 20%|████████▌                                 | 41/200 [00:53<02:18,  1.15it/s]"
     ]
    },
    {
     "name": "stdout",
     "output_type": "stream",
     "text": [
      "Result: True\n",
      "\n",
      "\n",
      "Test: 41\n",
      "Params: {'in_channels': 12, 'out_channels': 10, 'kernel_size': (6, 4), 'padding': 10, 'stride': 5, 'dilation': 4, 'groups': 2, 'in_batches': 3, 'in_h': 7, 'in_w': 5}\n"
     ]
    },
    {
     "name": "stderr",
     "output_type": "stream",
     "text": [
      "\r",
      " 21%|████████▊                                 | 42/200 [00:54<02:46,  1.05s/it]"
     ]
    },
    {
     "name": "stdout",
     "output_type": "stream",
     "text": [
      "Result: True\n",
      "\n",
      "\n",
      "Test: 42\n",
      "Params: {'in_channels': 5, 'out_channels': 2, 'kernel_size': (1, 4), 'padding': 7, 'stride': 2, 'dilation': 9, 'groups': 1, 'in_batches': 5, 'in_h': 27, 'in_w': 28}\n"
     ]
    },
    {
     "name": "stderr",
     "output_type": "stream",
     "text": [
      "\r",
      " 22%|█████████                                 | 43/200 [00:55<02:49,  1.08s/it]"
     ]
    },
    {
     "name": "stdout",
     "output_type": "stream",
     "text": [
      "Result: True\n",
      "\n",
      "\n",
      "Test: 43\n",
      "Params: {'in_channels': 2, 'out_channels': 2, 'kernel_size': (9, 5), 'padding': 7, 'stride': 3, 'dilation': 1, 'groups': 1, 'in_batches': 3, 'in_h': 32, 'in_w': 7}\n"
     ]
    },
    {
     "name": "stderr",
     "output_type": "stream",
     "text": [
      "\r",
      " 22%|█████████▏                                | 44/200 [00:56<02:09,  1.20it/s]"
     ]
    },
    {
     "name": "stdout",
     "output_type": "stream",
     "text": [
      "Result: True\n",
      "\n",
      "\n",
      "Test: 44\n",
      "Params: {'in_channels': 16, 'out_channels': 8, 'kernel_size': (3, 1), 'padding': 10, 'stride': 2, 'dilation': 1, 'groups': 1, 'in_batches': 2, 'in_h': 7, 'in_w': 22}\n"
     ]
    },
    {
     "name": "stderr",
     "output_type": "stream",
     "text": [
      "\r",
      " 22%|█████████▍                                | 45/200 [00:57<02:29,  1.04it/s]"
     ]
    },
    {
     "name": "stdout",
     "output_type": "stream",
     "text": [
      "Result: True\n",
      "\n",
      "\n",
      "Test: 45\n",
      "Params: {'in_channels': 2, 'out_channels': 1, 'kernel_size': (2, 3), 'padding': 1, 'stride': 5, 'dilation': 4, 'groups': 1, 'in_batches': 4, 'in_h': 34, 'in_w': 18}\n",
      "Result: True\n",
      "\n",
      "\n",
      "Test: 46\n",
      "Params: {'in_channels': 2, 'out_channels': 2, 'kernel_size': (3, 5), 'padding': 7, 'stride': 2, 'dilation': 8, 'groups': 1, 'in_batches': 2, 'in_h': 27, 'in_w': 19}\n"
     ]
    },
    {
     "name": "stderr",
     "output_type": "stream",
     "text": [
      "\r",
      " 24%|█████████▊                                | 47/200 [00:57<01:33,  1.64it/s]"
     ]
    },
    {
     "name": "stdout",
     "output_type": "stream",
     "text": [
      "Result: True\n",
      "\n",
      "\n",
      "Test: 47\n",
      "Params: {'in_channels': 6, 'out_channels': 2, 'kernel_size': (7, 8), 'padding': 7, 'stride': 2, 'dilation': 2, 'groups': 2, 'in_batches': 5, 'in_h': 8, 'in_w': 24}\n"
     ]
    },
    {
     "name": "stderr",
     "output_type": "stream",
     "text": [
      "\r",
      " 24%|██████████                                | 48/200 [00:59<02:19,  1.09it/s]"
     ]
    },
    {
     "name": "stdout",
     "output_type": "stream",
     "text": [
      "Result: True\n",
      "\n",
      "\n",
      "Test: 48\n",
      "Params: {'in_channels': 2, 'out_channels': 2, 'kernel_size': (6, 18), 'padding': 10, 'stride': 5, 'dilation': 2, 'groups': 2, 'in_batches': 1, 'in_h': 11, 'in_w': 20}\n",
      "Result: True\n",
      "\n",
      "\n",
      "Test: 49\n",
      "Params: {'in_channels': 14, 'out_channels': 14, 'kernel_size': (13, 1), 'padding': 3, 'stride': 1, 'dilation': 2, 'groups': 14, 'in_batches': 5, 'in_h': 28, 'in_w': 16}\n"
     ]
    },
    {
     "name": "stderr",
     "output_type": "stream",
     "text": [
      "\r",
      " 25%|██████████▌                               | 50/200 [01:01<02:34,  1.03s/it]"
     ]
    },
    {
     "name": "stdout",
     "output_type": "stream",
     "text": [
      "Result: True\n",
      "\n",
      "\n",
      "Test: 50\n",
      "Params: {'in_channels': 6, 'out_channels': 6, 'kernel_size': (2, 4), 'padding': 5, 'stride': 3, 'dilation': 2, 'groups': 1, 'in_batches': 1, 'in_h': 23, 'in_w': 11}\n"
     ]
    },
    {
     "name": "stderr",
     "output_type": "stream",
     "text": [
      "\r",
      " 26%|██████████▋                               | 51/200 [01:02<02:06,  1.18it/s]"
     ]
    },
    {
     "name": "stdout",
     "output_type": "stream",
     "text": [
      "Result: True\n",
      "\n",
      "\n",
      "Test: 51\n",
      "Params: {'in_channels': 4, 'out_channels': 3, 'kernel_size': (11, 12), 'padding': 5, 'stride': 1, 'dilation': 2, 'groups': 1, 'in_batches': 1, 'in_h': 11, 'in_w': 24}\n"
     ]
    },
    {
     "name": "stderr",
     "output_type": "stream",
     "text": [
      "\r",
      " 26%|██████████▉                               | 52/200 [01:02<01:48,  1.36it/s]"
     ]
    },
    {
     "name": "stdout",
     "output_type": "stream",
     "text": [
      "Result: True\n",
      "\n",
      "\n",
      "Test: 52\n",
      "Params: {'in_channels': 7, 'out_channels': 7, 'kernel_size': (4, 10), 'padding': 9, 'stride': 5, 'dilation': 5, 'groups': 7, 'in_batches': 1, 'in_h': 5, 'in_w': 31}\n",
      "Result: True\n",
      "\n",
      "\n",
      "Test: 53\n",
      "Params: {'in_channels': 8, 'out_channels': 4, 'kernel_size': (13, 11), 'padding': 6, 'stride': 1, 'dilation': 3, 'groups': 1, 'in_batches': 3, 'in_h': 31, 'in_w': 26}\n"
     ]
    },
    {
     "name": "stderr",
     "output_type": "stream",
     "text": [
      "\r",
      " 27%|███████████▎                              | 54/200 [01:35<17:40,  7.27s/it]"
     ]
    },
    {
     "name": "stdout",
     "output_type": "stream",
     "text": [
      "Result: True\n",
      "\n",
      "\n",
      "Test: 54\n",
      "Params: {'in_channels': 20, 'out_channels': 5, 'kernel_size': (17, 16), 'padding': 3, 'stride': 3, 'dilation': 2, 'groups': 1, 'in_batches': 1, 'in_h': 30, 'in_w': 25}\n"
     ]
    },
    {
     "name": "stderr",
     "output_type": "stream",
     "text": [
      "\r",
      " 28%|███████████▌                              | 55/200 [01:36<14:08,  5.85s/it]"
     ]
    },
    {
     "name": "stdout",
     "output_type": "stream",
     "text": [
      "Result: True\n",
      "\n",
      "\n",
      "Test: 55\n",
      "Params: {'in_channels': 19, 'out_channels': 4, 'kernel_size': (17, 14), 'padding': 9, 'stride': 1, 'dilation': 1, 'groups': 1, 'in_batches': 4, 'in_h': 26, 'in_w': 25}\n"
     ]
    },
    {
     "name": "stderr",
     "output_type": "stream",
     "text": [
      " 28%|███████████▍                            | 57/200 [06:57<2:26:38, 61.53s/it]"
     ]
    },
    {
     "name": "stdout",
     "output_type": "stream",
     "text": [
      "Result: True\n",
      "\n",
      "\n",
      "Test: 56\n",
      "Params: {'in_channels': 20, 'out_channels': 10, 'kernel_size': (2, 1), 'padding': 3, 'stride': 4, 'dilation': 7, 'groups': 5, 'in_batches': 3, 'in_h': 23, 'in_w': 14}\n",
      "Result: True\n",
      "\n",
      "\n",
      "Test: 57\n",
      "Params: {'in_channels': 4, 'out_channels': 2, 'kernel_size': (5, 3), 'padding': 9, 'stride': 5, 'dilation': 3, 'groups': 1, 'in_batches': 3, 'in_h': 27, 'in_w': 25}\n"
     ]
    },
    {
     "name": "stderr",
     "output_type": "stream",
     "text": [
      "\r",
      " 29%|███████████▌                            | 58/200 [06:58<1:46:46, 45.12s/it]"
     ]
    },
    {
     "name": "stdout",
     "output_type": "stream",
     "text": [
      "Result: True\n",
      "\n",
      "\n",
      "Test: 58\n",
      "Params: {'in_channels': 6, 'out_channels': 6, 'kernel_size': (9, 8), 'padding': 10, 'stride': 1, 'dilation': 3, 'groups': 2, 'in_batches': 1, 'in_h': 9, 'in_w': 31}\n"
     ]
    },
    {
     "name": "stderr",
     "output_type": "stream",
     "text": [
      "\r",
      " 30%|███████████▊                            | 59/200 [07:07<1:22:21, 35.05s/it]"
     ]
    },
    {
     "name": "stdout",
     "output_type": "stream",
     "text": [
      "Result: True\n",
      "\n",
      "\n",
      "Test: 59\n",
      "Params: {'in_channels': 2, 'out_channels': 1, 'kernel_size': (11, 9), 'padding': 9, 'stride': 5, 'dilation': 3, 'groups': 1, 'in_batches': 1, 'in_h': 33, 'in_w': 34}\n"
     ]
    },
    {
     "name": "stderr",
     "output_type": "stream",
     "text": [
      " 32%|█████████████▏                            | 63/200 [07:07<25:54, 11.35s/it]"
     ]
    },
    {
     "name": "stdout",
     "output_type": "stream",
     "text": [
      "Result: True\n",
      "\n",
      "\n",
      "Test: 60\n",
      "Params: {'in_channels': 2, 'out_channels': 2, 'kernel_size': (1, 2), 'padding': 6, 'stride': 5, 'dilation': 7, 'groups': 1, 'in_batches': 2, 'in_h': 9, 'in_w': 29}\n",
      "Result: True\n",
      "\n",
      "\n",
      "Test: 61\n",
      "Params: {'in_channels': 1, 'out_channels': 1, 'kernel_size': (2, 3), 'padding': 7, 'stride': 5, 'dilation': 5, 'groups': 1, 'in_batches': 5, 'in_h': 27, 'in_w': 9}\n",
      "Result: True\n",
      "\n",
      "\n",
      "Test: 62\n",
      "Params: {'in_channels': 6, 'out_channels': 6, 'kernel_size': (2, 1), 'padding': 9, 'stride': 4, 'dilation': 6, 'groups': 6, 'in_batches': 5, 'in_h': 12, 'in_w': 14}\n",
      "Result: True\n",
      "\n",
      "\n",
      "Test: 63\n",
      "Params: {'in_channels': 13, 'out_channels': 6, 'kernel_size': (5, 12), 'padding': 7, 'stride': 2, 'dilation': 2, 'groups': 1, 'in_batches': 3, 'in_h': 26, 'in_w': 33}\n"
     ]
    },
    {
     "name": "stderr",
     "output_type": "stream",
     "text": [
      "\r",
      " 32%|█████████████▍                            | 64/200 [08:02<46:03, 20.32s/it]"
     ]
    },
    {
     "name": "stdout",
     "output_type": "stream",
     "text": [
      "Result: True\n",
      "\n",
      "\n",
      "Test: 64\n",
      "Params: {'in_channels': 4, 'out_channels': 1, 'kernel_size': (4, 1), 'padding': 8, 'stride': 2, 'dilation': 8, 'groups': 1, 'in_batches': 3, 'in_h': 23, 'in_w': 22}\n"
     ]
    },
    {
     "name": "stderr",
     "output_type": "stream",
     "text": [
      "\r",
      " 32%|█████████████▋                            | 65/200 [08:02<35:29, 15.77s/it]"
     ]
    },
    {
     "name": "stdout",
     "output_type": "stream",
     "text": [
      "Result: True\n",
      "\n",
      "\n",
      "Test: 65\n",
      "Params: {'in_channels': 15, 'out_channels': 10, 'kernel_size': (20, 16), 'padding': 7, 'stride': 2, 'dilation': 1, 'groups': 5, 'in_batches': 5, 'in_h': 26, 'in_w': 11}\n"
     ]
    },
    {
     "name": "stderr",
     "output_type": "stream",
     "text": [
      "\r",
      " 33%|█████████████▊                            | 66/200 [08:17<34:48, 15.58s/it]"
     ]
    },
    {
     "name": "stdout",
     "output_type": "stream",
     "text": [
      "Result: True\n",
      "\n",
      "\n",
      "Test: 66\n",
      "Params: {'in_channels': 3, 'out_channels': 3, 'kernel_size': (1, 4), 'padding': 7, 'stride': 5, 'dilation': 8, 'groups': 3, 'in_batches': 4, 'in_h': 19, 'in_w': 15}\n",
      "Result: True\n",
      "\n",
      "\n",
      "Test: 67\n",
      "Params: {'in_channels': 1, 'out_channels': 1, 'kernel_size': (2, 1), 'padding': 3, 'stride': 1, 'dilation': 1, 'groups': 1, 'in_batches': 4, 'in_h': 24, 'in_w': 15}\n",
      "Result: True\n",
      "\n",
      "\n",
      "Test: 68\n",
      "Params: {'in_channels': 4, 'out_channels': 1, 'kernel_size': (1, 7), 'padding': 6, 'stride': 1, 'dilation': 1, 'groups': 1, 'in_batches': 5, 'in_h': 19, 'in_w': 6}\n"
     ]
    },
    {
     "name": "stderr",
     "output_type": "stream",
     "text": [
      "\r",
      " 34%|██████████████▍                           | 69/200 [08:18<16:41,  7.65s/it]"
     ]
    },
    {
     "name": "stdout",
     "output_type": "stream",
     "text": [
      "Result: True\n",
      "\n",
      "\n",
      "Test: 69\n",
      "Params: {'in_channels': 1, 'out_channels': 1, 'kernel_size': (15, 10), 'padding': 1, 'stride': 4, 'dilation': 1, 'groups': 1, 'in_batches': 3, 'in_h': 26, 'in_w': 19}\n",
      "Result: True\n",
      "\n",
      "\n",
      "Test: 70\n",
      "Params: {'in_channels': 20, 'out_channels': 5, 'kernel_size': (8, 16), 'padding': 9, 'stride': 2, 'dilation': 3, 'groups': 5, 'in_batches': 1, 'in_h': 27, 'in_w': 32}\n"
     ]
    },
    {
     "name": "stderr",
     "output_type": "stream",
     "text": [
      "\r",
      " 36%|██████████████▉                           | 71/200 [08:21<12:22,  5.76s/it]"
     ]
    },
    {
     "name": "stdout",
     "output_type": "stream",
     "text": [
      "Result: True\n",
      "\n",
      "\n",
      "Test: 71\n",
      "Params: {'in_channels': 2, 'out_channels': 1, 'kernel_size': (3, 2), 'padding': 4, 'stride': 5, 'dilation': 10, 'groups': 1, 'in_batches': 2, 'in_h': 14, 'in_w': 26}\n",
      "Result: True\n",
      "\n",
      "\n",
      "Test: 72\n",
      "Params: {'in_channels': 4, 'out_channels': 4, 'kernel_size': (2, 3), 'padding': 6, 'stride': 5, 'dilation': 7, 'groups': 4, 'in_batches': 5, 'in_h': 28, 'in_w': 32}\n"
     ]
    },
    {
     "name": "stderr",
     "output_type": "stream",
     "text": [
      "\r",
      " 36%|███████████████▎                          | 73/200 [08:22<08:28,  4.00s/it]"
     ]
    },
    {
     "name": "stdout",
     "output_type": "stream",
     "text": [
      "Result: True\n",
      "\n",
      "\n",
      "Test: 73\n",
      "Params: {'in_channels': 15, 'out_channels': 12, 'kernel_size': (9, 14), 'padding': 9, 'stride': 2, 'dilation': 2, 'groups': 1, 'in_batches': 5, 'in_h': 24, 'in_w': 11}\n"
     ]
    },
    {
     "name": "stderr",
     "output_type": "stream",
     "text": [
      "\r",
      " 37%|███████████████▌                          | 74/200 [09:15<27:45, 13.22s/it]"
     ]
    },
    {
     "name": "stdout",
     "output_type": "stream",
     "text": [
      "Result: True\n",
      "\n",
      "\n",
      "Test: 74\n",
      "Params: {'in_channels': 12, 'out_channels': 6, 'kernel_size': (5, 4), 'padding': 7, 'stride': 4, 'dilation': 2, 'groups': 2, 'in_batches': 4, 'in_h': 15, 'in_w': 28}\n"
     ]
    },
    {
     "name": "stderr",
     "output_type": "stream",
     "text": [
      " 38%|███████████████▉                          | 76/200 [09:19<17:41,  8.56s/it]"
     ]
    },
    {
     "name": "stdout",
     "output_type": "stream",
     "text": [
      "Result: True\n",
      "\n",
      "\n",
      "Test: 75\n",
      "Params: {'in_channels': 2, 'out_channels': 1, 'kernel_size': (4, 9), 'padding': 10, 'stride': 4, 'dilation': 1, 'groups': 1, 'in_batches': 3, 'in_h': 23, 'in_w': 5}\n",
      "Result: True\n",
      "\n",
      "\n",
      "Test: 76\n",
      "Params: {'in_channels': 7, 'out_channels': 5, 'kernel_size': (12, 19), 'padding': 9, 'stride': 4, 'dilation': 2, 'groups': 1, 'in_batches': 2, 'in_h': 13, 'in_w': 32}\n"
     ]
    },
    {
     "name": "stderr",
     "output_type": "stream",
     "text": [
      "\r",
      " 38%|████████████████▏                         | 77/200 [09:23<15:36,  7.61s/it]"
     ]
    },
    {
     "name": "stdout",
     "output_type": "stream",
     "text": [
      "Result: True\n",
      "\n",
      "\n",
      "Test: 77\n",
      "Params: {'in_channels': 1, 'out_channels': 1, 'kernel_size': (2, 7), 'padding': 3, 'stride': 4, 'dilation': 4, 'groups': 1, 'in_batches': 3, 'in_h': 21, 'in_w': 21}\n",
      "Result: True\n",
      "\n",
      "\n",
      "Test: 78\n",
      "Params: {'in_channels': 15, 'out_channels': 1, 'kernel_size': (12, 11), 'padding': 6, 'stride': 2, 'dilation': 2, 'groups': 1, 'in_batches': 5, 'in_h': 26, 'in_w': 31}\n"
     ]
    },
    {
     "name": "stderr",
     "output_type": "stream",
     "text": [
      "\r",
      " 40%|████████████████▌                         | 79/200 [09:44<17:44,  8.79s/it]"
     ]
    },
    {
     "name": "stdout",
     "output_type": "stream",
     "text": [
      "Result: True\n",
      "\n",
      "\n",
      "Test: 79\n",
      "Params: {'in_channels': 1, 'out_channels': 1, 'kernel_size': (1, 4), 'padding': 5, 'stride': 2, 'dilation': 10, 'groups': 1, 'in_batches': 5, 'in_h': 9, 'in_w': 22}\n",
      "Result: True\n",
      "\n",
      "\n",
      "Test: 80\n",
      "Params: {'in_channels': 8, 'out_channels': 8, 'kernel_size': (6, 3), 'padding': 10, 'stride': 3, 'dilation': 3, 'groups': 8, 'in_batches': 2, 'in_h': 9, 'in_w': 33}\n"
     ]
    },
    {
     "name": "stderr",
     "output_type": "stream",
     "text": [
      "\r",
      " 40%|█████████████████                         | 81/200 [09:45<11:15,  5.67s/it]"
     ]
    },
    {
     "name": "stdout",
     "output_type": "stream",
     "text": [
      "Result: True\n",
      "\n",
      "\n",
      "Test: 81\n",
      "Params: {'in_channels': 20, 'out_channels': 6, 'kernel_size': (2, 3), 'padding': 8, 'stride': 5, 'dilation': 6, 'groups': 1, 'in_batches': 2, 'in_h': 17, 'in_w': 31}\n"
     ]
    },
    {
     "name": "stderr",
     "output_type": "stream",
     "text": [
      " 42%|█████████████████▍                        | 83/200 [09:52<08:48,  4.52s/it]"
     ]
    },
    {
     "name": "stdout",
     "output_type": "stream",
     "text": [
      "Result: True\n",
      "\n",
      "\n",
      "Test: 82\n",
      "Params: {'in_channels': 1, 'out_channels': 1, 'kernel_size': (7, 16), 'padding': 8, 'stride': 3, 'dilation': 2, 'groups': 1, 'in_batches': 2, 'in_h': 11, 'in_w': 25}\n",
      "Result: True\n",
      "\n",
      "\n",
      "Test: 83\n",
      "Params: {'in_channels': 3, 'out_channels': 3, 'kernel_size': (13, 13), 'padding': 5, 'stride': 3, 'dilation': 2, 'groups': 3, 'in_batches': 4, 'in_h': 33, 'in_w': 25}\n"
     ]
    },
    {
     "name": "stderr",
     "output_type": "stream",
     "text": [
      "\r",
      " 42%|█████████████████▋                        | 84/200 [09:54<07:30,  3.89s/it]"
     ]
    },
    {
     "name": "stdout",
     "output_type": "stream",
     "text": [
      "Result: True\n",
      "\n",
      "\n",
      "Test: 84\n",
      "Params: {'in_channels': 3, 'out_channels': 2, 'kernel_size': (6, 1), 'padding': 8, 'stride': 5, 'dilation': 2, 'groups': 1, 'in_batches': 2, 'in_h': 25, 'in_w': 29}\n",
      "Result: True\n",
      "\n",
      "\n",
      "Test: 85\n",
      "Params: {'in_channels': 3, 'out_channels': 3, 'kernel_size': (6, 5), 'padding': 6, 'stride': 1, 'dilation': 1, 'groups': 3, 'in_batches': 3, 'in_h': 9, 'in_w': 7}\n"
     ]
    },
    {
     "name": "stderr",
     "output_type": "stream",
     "text": [
      "\r",
      " 43%|██████████████████                        | 86/200 [09:54<04:30,  2.37s/it]"
     ]
    },
    {
     "name": "stdout",
     "output_type": "stream",
     "text": [
      "Result: True\n",
      "\n",
      "\n",
      "Test: 86\n",
      "Params: {'in_channels': 1, 'out_channels': 1, 'kernel_size': (9, 19), 'padding': 10, 'stride': 1, 'dilation': 1, 'groups': 1, 'in_batches': 4, 'in_h': 14, 'in_w': 8}\n"
     ]
    },
    {
     "name": "stderr",
     "output_type": "stream",
     "text": [
      "\r",
      " 44%|██████████████████▎                       | 87/200 [09:55<03:51,  2.05s/it]"
     ]
    },
    {
     "name": "stdout",
     "output_type": "stream",
     "text": [
      "Result: True\n",
      "\n",
      "\n",
      "Test: 87\n",
      "Params: {'in_channels': 4, 'out_channels': 2, 'kernel_size': (14, 18), 'padding': 10, 'stride': 1, 'dilation': 2, 'groups': 2, 'in_batches': 3, 'in_h': 16, 'in_w': 24}\n"
     ]
    },
    {
     "name": "stderr",
     "output_type": "stream",
     "text": [
      "\r",
      " 44%|██████████████████▍                       | 88/200 [10:01<05:49,  3.12s/it]"
     ]
    },
    {
     "name": "stdout",
     "output_type": "stream",
     "text": [
      "Result: True\n",
      "\n",
      "\n",
      "Test: 88\n",
      "Params: {'in_channels': 1, 'out_channels': 1, 'kernel_size': (4, 4), 'padding': 9, 'stride': 3, 'dilation': 2, 'groups': 1, 'in_batches': 1, 'in_h': 9, 'in_w': 29}\n",
      "Result: True\n",
      "\n",
      "\n",
      "Test: 89\n",
      "Params: {'in_channels': 18, 'out_channels': 11, 'kernel_size': (19, 1), 'padding': 7, 'stride': 5, 'dilation': 1, 'groups': 1, 'in_batches': 3, 'in_h': 25, 'in_w': 15}\n"
     ]
    },
    {
     "name": "stderr",
     "output_type": "stream",
     "text": [
      "\r",
      " 45%|██████████████████▉                       | 90/200 [10:04<04:12,  2.29s/it]"
     ]
    },
    {
     "name": "stdout",
     "output_type": "stream",
     "text": [
      "Result: True\n",
      "\n",
      "\n",
      "Test: 90\n",
      "Params: {'in_channels': 2, 'out_channels': 2, 'kernel_size': (1, 3), 'padding': 6, 'stride': 4, 'dilation': 7, 'groups': 2, 'in_batches': 4, 'in_h': 33, 'in_w': 21}\n",
      "Result: True\n",
      "\n",
      "\n",
      "Test: 91\n",
      "Params: {'in_channels': 10, 'out_channels': 6, 'kernel_size': (9, 2), 'padding': 1, 'stride': 1, 'dilation': 1, 'groups': 1, 'in_batches': 1, 'in_h': 25, 'in_w': 6}\n"
     ]
    },
    {
     "name": "stderr",
     "output_type": "stream",
     "text": [
      "\r",
      " 46%|███████████████████▎                      | 92/200 [10:05<02:55,  1.63s/it]"
     ]
    },
    {
     "name": "stdout",
     "output_type": "stream",
     "text": [
      "Result: True\n",
      "\n",
      "\n",
      "Test: 92\n",
      "Params: {'in_channels': 16, 'out_channels': 7, 'kernel_size': (11, 13), 'padding': 3, 'stride': 2, 'dilation': 2, 'groups': 1, 'in_batches': 5, 'in_h': 18, 'in_w': 29}\n"
     ]
    },
    {
     "name": "stderr",
     "output_type": "stream",
     "text": [
      "\r",
      " 46%|███████████████████▌                      | 93/200 [10:25<09:50,  5.52s/it]"
     ]
    },
    {
     "name": "stdout",
     "output_type": "stream",
     "text": [
      "Result: True\n",
      "\n",
      "\n",
      "Test: 93\n",
      "Params: {'in_channels': 15, 'out_channels': 7, 'kernel_size': (5, 8), 'padding': 7, 'stride': 2, 'dilation': 3, 'groups': 1, 'in_batches': 3, 'in_h': 32, 'in_w': 18}\n"
     ]
    },
    {
     "name": "stderr",
     "output_type": "stream",
     "text": [
      " 48%|███████████████████▉                      | 95/200 [11:14<20:35, 11.77s/it]"
     ]
    },
    {
     "name": "stdout",
     "output_type": "stream",
     "text": [
      "Result: True\n",
      "\n",
      "\n",
      "Test: 94\n",
      "Params: {'in_channels': 4, 'out_channels': 1, 'kernel_size': (6, 9), 'padding': 2, 'stride': 5, 'dilation': 2, 'groups': 1, 'in_batches': 4, 'in_h': 7, 'in_w': 31}\n",
      "Result: True\n",
      "\n",
      "\n",
      "Test: 95\n",
      "Params: {'in_channels': 10, 'out_channels': 2, 'kernel_size': (1, 9), 'padding': 3, 'stride': 3, 'dilation': 2, 'groups': 1, 'in_batches': 1, 'in_h': 11, 'in_w': 16}\n",
      "Result: True\n",
      "\n",
      "\n",
      "Test: 96\n",
      "Params: {'in_channels': 18, 'out_channels': 2, 'kernel_size': (9, 4), 'padding': 9, 'stride': 2, 'dilation': 3, 'groups': 1, 'in_batches': 4, 'in_h': 34, 'in_w': 6}\n"
     ]
    },
    {
     "name": "stderr",
     "output_type": "stream",
     "text": [
      "\r",
      " 48%|████████████████████▎                     | 97/200 [11:44<22:18, 12.99s/it]"
     ]
    },
    {
     "name": "stdout",
     "output_type": "stream",
     "text": [
      "Result: True\n",
      "\n",
      "\n",
      "Test: 97\n",
      "Params: {'in_channels': 1, 'out_channels': 1, 'kernel_size': (12, 8), 'padding': 10, 'stride': 1, 'dilation': 1, 'groups': 1, 'in_batches': 5, 'in_h': 28, 'in_w': 26}\n"
     ]
    },
    {
     "name": "stderr",
     "output_type": "stream",
     "text": [
      "\r",
      " 49%|████████████████████▌                     | 98/200 [11:48<18:48, 11.06s/it]"
     ]
    },
    {
     "name": "stdout",
     "output_type": "stream",
     "text": [
      "Result: True\n",
      "\n",
      "\n",
      "Test: 98\n",
      "Params: {'in_channels': 8, 'out_channels': 8, 'kernel_size': (15, 3), 'padding': 9, 'stride': 2, 'dilation': 1, 'groups': 2, 'in_batches': 4, 'in_h': 31, 'in_w': 8}\n"
     ]
    },
    {
     "name": "stderr",
     "output_type": "stream",
     "text": [
      "\r",
      " 50%|████████████████████▊                     | 99/200 [11:56<17:02, 10.13s/it]"
     ]
    },
    {
     "name": "stdout",
     "output_type": "stream",
     "text": [
      "Result: True\n",
      "\n",
      "\n",
      "Test: 99\n",
      "Params: {'in_channels': 1, 'out_channels': 1, 'kernel_size': (1, 2), 'padding': 6, 'stride': 4, 'dilation': 2, 'groups': 1, 'in_batches': 3, 'in_h': 30, 'in_w': 32}\n",
      "Result: True\n",
      "\n",
      "\n",
      "Test: 100\n",
      "Params: {'in_channels': 4, 'out_channels': 2, 'kernel_size': (11, 7), 'padding': 10, 'stride': 3, 'dilation': 2, 'groups': 2, 'in_batches': 1, 'in_h': 33, 'in_w': 21}\n"
     ]
    },
    {
     "name": "stderr",
     "output_type": "stream",
     "text": [
      "\r",
      " 50%|████████████████████▋                    | 101/200 [11:56<10:02,  6.09s/it]"
     ]
    },
    {
     "name": "stdout",
     "output_type": "stream",
     "text": [
      "Result: True\n",
      "\n",
      "\n",
      "Test: 101\n",
      "Params: {'in_channels': 2, 'out_channels': 2, 'kernel_size': (18, 20), 'padding': 6, 'stride': 5, 'dilation': 1, 'groups': 2, 'in_batches': 2, 'in_h': 22, 'in_w': 9}\n",
      "Result: True\n",
      "\n",
      "\n",
      "Test: 102\n",
      "Params: {'in_channels': 5, 'out_channels': 4, 'kernel_size': (5, 4), 'padding': 6, 'stride': 3, 'dilation': 2, 'groups': 1, 'in_batches': 1, 'in_h': 31, 'in_w': 31}\n"
     ]
    },
    {
     "name": "stderr",
     "output_type": "stream",
     "text": [
      "\r",
      " 52%|█████████████████████                    | 103/200 [11:57<06:33,  4.05s/it]"
     ]
    },
    {
     "name": "stdout",
     "output_type": "stream",
     "text": [
      "Result: True\n",
      "\n",
      "\n",
      "Test: 103\n",
      "Params: {'in_channels': 4, 'out_channels': 2, 'kernel_size': (10, 11), 'padding': 7, 'stride': 3, 'dilation': 3, 'groups': 1, 'in_batches': 3, 'in_h': 17, 'in_w': 23}\n"
     ]
    },
    {
     "name": "stderr",
     "output_type": "stream",
     "text": [
      "\r",
      " 52%|█████████████████████▎                   | 104/200 [11:58<05:20,  3.34s/it]"
     ]
    },
    {
     "name": "stdout",
     "output_type": "stream",
     "text": [
      "Result: True\n",
      "\n",
      "\n",
      "Test: 104\n",
      "Params: {'in_channels': 8, 'out_channels': 6, 'kernel_size': (5, 1), 'padding': 6, 'stride': 3, 'dilation': 1, 'groups': 2, 'in_batches': 3, 'in_h': 33, 'in_w': 10}\n"
     ]
    },
    {
     "name": "stderr",
     "output_type": "stream",
     "text": [
      "\r",
      " 52%|█████████████████████▌                   | 105/200 [11:58<04:09,  2.63s/it]"
     ]
    },
    {
     "name": "stdout",
     "output_type": "stream",
     "text": [
      "Result: True\n",
      "\n",
      "\n",
      "Test: 105\n",
      "Params: {'in_channels': 2, 'out_channels': 1, 'kernel_size': (1, 1), 'padding': 7, 'stride': 5, 'dilation': 5, 'groups': 1, 'in_batches': 4, 'in_h': 28, 'in_w': 20}\n",
      "Result: True\n",
      "\n",
      "\n",
      "Test: 106\n",
      "Params: {'in_channels': 20, 'out_channels': 7, 'kernel_size': (17, 8), 'padding': 10, 'stride': 2, 'dilation': 2, 'groups': 1, 'in_batches': 4, 'in_h': 27, 'in_w': 27}\n"
     ]
    },
    {
     "name": "stderr",
     "output_type": "stream",
     "text": [
      "\r",
      " 54%|████████████████████▊                  | 107/200 [15:45<1:12:11, 46.58s/it]"
     ]
    },
    {
     "name": "stdout",
     "output_type": "stream",
     "text": [
      "Result: True\n",
      "\n",
      "\n",
      "Test: 107\n",
      "Params: {'in_channels': 10, 'out_channels': 9, 'kernel_size': (10, 7), 'padding': 4, 'stride': 2, 'dilation': 1, 'groups': 1, 'in_batches': 5, 'in_h': 17, 'in_w': 19}\n"
     ]
    },
    {
     "name": "stderr",
     "output_type": "stream",
     "text": [
      "\r",
      " 54%|█████████████████████                  | 108/200 [16:00<1:00:36, 39.53s/it]"
     ]
    },
    {
     "name": "stdout",
     "output_type": "stream",
     "text": [
      "Result: True\n",
      "\n",
      "\n",
      "Test: 108\n",
      "Params: {'in_channels': 6, 'out_channels': 2, 'kernel_size': (11, 13), 'padding': 10, 'stride': 3, 'dilation': 1, 'groups': 2, 'in_batches': 2, 'in_h': 19, 'in_w': 32}\n"
     ]
    },
    {
     "name": "stderr",
     "output_type": "stream",
     "text": [
      "\r",
      " 55%|██████████████████████▎                  | 109/200 [16:01<46:08, 30.42s/it]"
     ]
    },
    {
     "name": "stdout",
     "output_type": "stream",
     "text": [
      "Result: True\n",
      "\n",
      "\n",
      "Test: 109\n",
      "Params: {'in_channels': 4, 'out_channels': 4, 'kernel_size': (20, 17), 'padding': 9, 'stride': 2, 'dilation': 1, 'groups': 4, 'in_batches': 1, 'in_h': 29, 'in_w': 22}\n"
     ]
    },
    {
     "name": "stderr",
     "output_type": "stream",
     "text": [
      "\r",
      " 55%|██████████████████████▌                  | 110/200 [16:03<34:29, 22.99s/it]"
     ]
    },
    {
     "name": "stdout",
     "output_type": "stream",
     "text": [
      "Result: True\n",
      "\n",
      "\n",
      "Test: 110\n",
      "Params: {'in_channels': 8, 'out_channels': 4, 'kernel_size': (1, 3), 'padding': 4, 'stride': 5, 'dilation': 1, 'groups': 4, 'in_batches': 4, 'in_h': 25, 'in_w': 25}\n",
      "Result: True\n",
      "\n",
      "\n",
      "Test: 111\n",
      "Params: {'in_channels': 2, 'out_channels': 1, 'kernel_size': (5, 6), 'padding': 3, 'stride': 2, 'dilation': 2, 'groups': 1, 'in_batches': 4, 'in_h': 20, 'in_w': 27}\n"
     ]
    },
    {
     "name": "stderr",
     "output_type": "stream",
     "text": [
      "\r",
      " 56%|██████████████████████▉                  | 112/200 [16:03<19:40, 13.41s/it]"
     ]
    },
    {
     "name": "stdout",
     "output_type": "stream",
     "text": [
      "Result: True\n",
      "\n",
      "\n",
      "Test: 112\n",
      "Params: {'in_channels': 7, 'out_channels': 1, 'kernel_size': (1, 2), 'padding': 7, 'stride': 2, 'dilation': 10, 'groups': 1, 'in_batches': 4, 'in_h': 28, 'in_w': 32}\n"
     ]
    },
    {
     "name": "stderr",
     "output_type": "stream",
     "text": [
      "\r",
      " 56%|███████████████████████▏                 | 113/200 [16:04<15:10, 10.47s/it]"
     ]
    },
    {
     "name": "stdout",
     "output_type": "stream",
     "text": [
      "Result: True\n",
      "\n",
      "\n",
      "Test: 113\n",
      "Params: {'in_channels': 1, 'out_channels': 1, 'kernel_size': (16, 16), 'padding': 5, 'stride': 2, 'dilation': 1, 'groups': 1, 'in_batches': 2, 'in_h': 8, 'in_w': 26}\n",
      "Result: True\n",
      "\n",
      "\n",
      "Test: 114\n",
      "Params: {'in_channels': 1, 'out_channels': 1, 'kernel_size': (10, 18), 'padding': 5, 'stride': 1, 'dilation': 1, 'groups': 1, 'in_batches': 2, 'in_h': 18, 'in_w': 25}\n"
     ]
    },
    {
     "name": "stderr",
     "output_type": "stream",
     "text": [
      "\r",
      " 57%|███████████████████████▌                 | 115/200 [16:05<09:09,  6.47s/it]"
     ]
    },
    {
     "name": "stdout",
     "output_type": "stream",
     "text": [
      "Result: True\n",
      "\n",
      "\n",
      "Test: 115\n",
      "Params: {'in_channels': 4, 'out_channels': 4, 'kernel_size': (1, 2), 'padding': 9, 'stride': 2, 'dilation': 7, 'groups': 4, 'in_batches': 3, 'in_h': 26, 'in_w': 13}\n"
     ]
    },
    {
     "name": "stderr",
     "output_type": "stream",
     "text": [
      "\r",
      " 58%|███████████████████████▊                 | 116/200 [16:05<07:07,  5.09s/it]"
     ]
    },
    {
     "name": "stdout",
     "output_type": "stream",
     "text": [
      "Result: True\n",
      "\n",
      "\n",
      "Test: 116\n",
      "Params: {'in_channels': 2, 'out_channels': 2, 'kernel_size': (12, 3), 'padding': 7, 'stride': 1, 'dilation': 2, 'groups': 2, 'in_batches': 4, 'in_h': 14, 'in_w': 17}\n"
     ]
    },
    {
     "name": "stderr",
     "output_type": "stream",
     "text": [
      "\r",
      " 58%|███████████████████████▉                 | 117/200 [16:06<05:39,  4.09s/it]"
     ]
    },
    {
     "name": "stdout",
     "output_type": "stream",
     "text": [
      "Result: True\n",
      "\n",
      "\n",
      "Test: 117\n",
      "Params: {'in_channels': 1, 'out_channels': 1, 'kernel_size': (14, 7), 'padding': 2, 'stride': 3, 'dilation': 1, 'groups': 1, 'in_batches': 3, 'in_h': 17, 'in_w': 9}\n",
      "Result: True\n",
      "\n",
      "\n",
      "Test: 118\n",
      "Params: {'in_channels': 10, 'out_channels': 8, 'kernel_size': (7, 11), 'padding': 1, 'stride': 2, 'dilation': 2, 'groups': 1, 'in_batches': 2, 'in_h': 17, 'in_w': 23}\n"
     ]
    },
    {
     "name": "stderr",
     "output_type": "stream",
     "text": [
      "\r",
      " 60%|████████████████████████▍                | 119/200 [16:09<04:10,  3.09s/it]"
     ]
    },
    {
     "name": "stdout",
     "output_type": "stream",
     "text": [
      "Result: True\n",
      "\n",
      "\n",
      "Test: 119\n",
      "Params: {'in_channels': 3, 'out_channels': 3, 'kernel_size': (6, 7), 'padding': 5, 'stride': 1, 'dilation': 3, 'groups': 3, 'in_batches': 4, 'in_h': 32, 'in_w': 17}\n"
     ]
    },
    {
     "name": "stderr",
     "output_type": "stream",
     "text": [
      "\r",
      " 60%|████████████████████████▌                | 120/200 [16:15<04:58,  3.73s/it]"
     ]
    },
    {
     "name": "stdout",
     "output_type": "stream",
     "text": [
      "Result: True\n",
      "\n",
      "\n",
      "Test: 120\n",
      "Params: {'in_channels': 12, 'out_channels': 7, 'kernel_size': (13, 5), 'padding': 3, 'stride': 1, 'dilation': 2, 'groups': 1, 'in_batches': 2, 'in_h': 24, 'in_w': 27}\n"
     ]
    },
    {
     "name": "stderr",
     "output_type": "stream",
     "text": [
      "\r",
      " 60%|████████████████████████▊                | 121/200 [16:52<15:33, 11.82s/it]"
     ]
    },
    {
     "name": "stdout",
     "output_type": "stream",
     "text": [
      "Result: True\n",
      "\n",
      "\n",
      "Test: 121\n",
      "Params: {'in_channels': 10, 'out_channels': 10, 'kernel_size': (8, 17), 'padding': 2, 'stride': 4, 'dilation': 1, 'groups': 5, 'in_batches': 5, 'in_h': 15, 'in_w': 22}\n"
     ]
    },
    {
     "name": "stderr",
     "output_type": "stream",
     "text": [
      "\r",
      " 61%|█████████████████████████                | 122/200 [16:53<11:44,  9.04s/it]"
     ]
    },
    {
     "name": "stdout",
     "output_type": "stream",
     "text": [
      "Result: True\n",
      "\n",
      "\n",
      "Test: 122\n",
      "Params: {'in_channels': 8, 'out_channels': 8, 'kernel_size': (2, 17), 'padding': 4, 'stride': 1, 'dilation': 1, 'groups': 4, 'in_batches': 3, 'in_h': 29, 'in_w': 32}\n"
     ]
    },
    {
     "name": "stderr",
     "output_type": "stream",
     "text": [
      "\r",
      " 62%|█████████████████████████▏               | 123/200 [17:02<11:39,  9.08s/it]"
     ]
    },
    {
     "name": "stdout",
     "output_type": "stream",
     "text": [
      "Result: True\n",
      "\n",
      "\n",
      "Test: 123\n",
      "Params: {'in_channels': 2, 'out_channels': 1, 'kernel_size': (7, 13), 'padding': 7, 'stride': 2, 'dilation': 2, 'groups': 1, 'in_batches': 4, 'in_h': 5, 'in_w': 11}\n",
      "Result: True\n",
      "\n",
      "\n",
      "Test: 124\n",
      "Params: {'in_channels': 6, 'out_channels': 6, 'kernel_size': (4, 5), 'padding': 2, 'stride': 2, 'dilation': 2, 'groups': 1, 'in_batches': 2, 'in_h': 12, 'in_w': 32}\n"
     ]
    },
    {
     "name": "stderr",
     "output_type": "stream",
     "text": [
      "\r",
      " 62%|█████████████████████████▋               | 125/200 [17:05<07:13,  5.78s/it]"
     ]
    },
    {
     "name": "stdout",
     "output_type": "stream",
     "text": [
      "Result: True\n",
      "\n",
      "\n",
      "Test: 125\n",
      "Params: {'in_channels': 2, 'out_channels': 1, 'kernel_size': (4, 14), 'padding': 9, 'stride': 1, 'dilation': 1, 'groups': 1, 'in_batches': 3, 'in_h': 13, 'in_w': 9}\n"
     ]
    },
    {
     "name": "stderr",
     "output_type": "stream",
     "text": [
      "\r",
      " 63%|█████████████████████████▊               | 126/200 [17:06<05:45,  4.67s/it]"
     ]
    },
    {
     "name": "stdout",
     "output_type": "stream",
     "text": [
      "Result: True\n",
      "\n",
      "\n",
      "Test: 126\n",
      "Params: {'in_channels': 1, 'out_channels': 1, 'kernel_size': (11, 2), 'padding': 2, 'stride': 1, 'dilation': 2, 'groups': 1, 'in_batches': 5, 'in_h': 26, 'in_w': 13}\n"
     ]
    },
    {
     "name": "stderr",
     "output_type": "stream",
     "text": [
      "\r",
      " 64%|██████████████████████████               | 127/200 [17:07<04:21,  3.59s/it]"
     ]
    },
    {
     "name": "stdout",
     "output_type": "stream",
     "text": [
      "Result: True\n",
      "\n",
      "\n",
      "Test: 127\n",
      "Params: {'in_channels': 4, 'out_channels': 4, 'kernel_size': (17, 11), 'padding': 8, 'stride': 2, 'dilation': 1, 'groups': 1, 'in_batches': 1, 'in_h': 15, 'in_w': 18}\n"
     ]
    },
    {
     "name": "stderr",
     "output_type": "stream",
     "text": [
      "\r",
      " 64%|██████████████████████████▏              | 128/200 [17:08<03:42,  3.09s/it]"
     ]
    },
    {
     "name": "stdout",
     "output_type": "stream",
     "text": [
      "Result: True\n",
      "\n",
      "\n",
      "Test: 128\n",
      "Params: {'in_channels': 20, 'out_channels': 20, 'kernel_size': (11, 12), 'padding': 6, 'stride': 5, 'dilation': 1, 'groups': 2, 'in_batches': 4, 'in_h': 33, 'in_w': 33}\n"
     ]
    },
    {
     "name": "stderr",
     "output_type": "stream",
     "text": [
      " 65%|██████████████████████████▋              | 130/200 [17:40<09:05,  7.80s/it]"
     ]
    },
    {
     "name": "stdout",
     "output_type": "stream",
     "text": [
      "Result: True\n",
      "\n",
      "\n",
      "Test: 129\n",
      "Params: {'in_channels': 2, 'out_channels': 2, 'kernel_size': (13, 12), 'padding': 1, 'stride': 5, 'dilation': 1, 'groups': 1, 'in_batches': 5, 'in_h': 14, 'in_w': 24}\n",
      "Result: True\n",
      "\n",
      "\n",
      "Test: 130\n",
      "Params: {'in_channels': 3, 'out_channels': 2, 'kernel_size': (6, 8), 'padding': 6, 'stride': 1, 'dilation': 2, 'groups': 1, 'in_batches': 3, 'in_h': 29, 'in_w': 11}\n"
     ]
    },
    {
     "name": "stderr",
     "output_type": "stream",
     "text": [
      "\r",
      " 66%|██████████████████████████▊              | 131/200 [17:46<08:18,  7.22s/it]"
     ]
    },
    {
     "name": "stdout",
     "output_type": "stream",
     "text": [
      "Result: True\n",
      "\n",
      "\n",
      "Test: 131\n",
      "Params: {'in_channels': 8, 'out_channels': 4, 'kernel_size': (8, 7), 'padding': 6, 'stride': 3, 'dilation': 1, 'groups': 4, 'in_batches': 5, 'in_h': 22, 'in_w': 7}\n"
     ]
    },
    {
     "name": "stderr",
     "output_type": "stream",
     "text": [
      "\r",
      " 66%|███████████████████████████              | 132/200 [17:46<06:00,  5.31s/it]"
     ]
    },
    {
     "name": "stdout",
     "output_type": "stream",
     "text": [
      "Result: True\n",
      "\n",
      "\n",
      "Test: 132\n",
      "Params: {'in_channels': 3, 'out_channels': 3, 'kernel_size': (3, 7), 'padding': 7, 'stride': 4, 'dilation': 6, 'groups': 3, 'in_batches': 2, 'in_h': 33, 'in_w': 29}\n"
     ]
    },
    {
     "name": "stderr",
     "output_type": "stream",
     "text": [
      "\r",
      " 66%|███████████████████████████▎             | 133/200 [17:47<04:19,  3.87s/it]"
     ]
    },
    {
     "name": "stdout",
     "output_type": "stream",
     "text": [
      "Result: True\n",
      "\n",
      "\n",
      "Test: 133\n",
      "Params: {'in_channels': 3, 'out_channels': 3, 'kernel_size': (9, 5), 'padding': 4, 'stride': 3, 'dilation': 2, 'groups': 3, 'in_batches': 2, 'in_h': 20, 'in_w': 25}\n"
     ]
    },
    {
     "name": "stderr",
     "output_type": "stream",
     "text": [
      "\r",
      " 67%|███████████████████████████▍             | 134/200 [17:47<03:06,  2.82s/it]"
     ]
    },
    {
     "name": "stdout",
     "output_type": "stream",
     "text": [
      "Result: True\n",
      "\n",
      "\n",
      "Test: 134\n",
      "Params: {'in_channels': 8, 'out_channels': 4, 'kernel_size': (10, 13), 'padding': 6, 'stride': 4, 'dilation': 2, 'groups': 2, 'in_batches': 1, 'in_h': 15, 'in_w': 29}\n"
     ]
    },
    {
     "name": "stderr",
     "output_type": "stream",
     "text": [
      "\r",
      " 68%|███████████████████████████▋             | 135/200 [17:48<02:23,  2.21s/it]"
     ]
    },
    {
     "name": "stdout",
     "output_type": "stream",
     "text": [
      "Result: True\n",
      "\n",
      "\n",
      "Test: 135\n",
      "Params: {'in_channels': 6, 'out_channels': 1, 'kernel_size': (1, 2), 'padding': 8, 'stride': 4, 'dilation': 8, 'groups': 1, 'in_batches': 1, 'in_h': 25, 'in_w': 25}\n",
      "Result: True\n",
      "\n",
      "\n",
      "Test: 136\n",
      "Params: {'in_channels': 1, 'out_channels': 1, 'kernel_size': (17, 6), 'padding': 3, 'stride': 2, 'dilation': 1, 'groups': 1, 'in_batches': 1, 'in_h': 16, 'in_w': 11}\n",
      "Result: True\n",
      "\n",
      "\n",
      "Test: 137\n",
      "Params: {'in_channels': 1, 'out_channels': 1, 'kernel_size': (5, 11), 'padding': 6, 'stride': 2, 'dilation': 1, 'groups': 1, 'in_batches': 4, 'in_h': 11, 'in_w': 28}\n"
     ]
    },
    {
     "name": "stderr",
     "output_type": "stream",
     "text": [
      "\r",
      " 69%|████████████████████████████▎            | 138/200 [17:48<01:02,  1.02s/it]"
     ]
    },
    {
     "name": "stdout",
     "output_type": "stream",
     "text": [
      "Result: True\n",
      "\n",
      "\n",
      "Test: 138\n",
      "Params: {'in_channels': 6, 'out_channels': 4, 'kernel_size': (20, 16), 'padding': 2, 'stride': 3, 'dilation': 1, 'groups': 2, 'in_batches': 2, 'in_h': 16, 'in_w': 18}\n"
     ]
    },
    {
     "name": "stderr",
     "output_type": "stream",
     "text": [
      "\r",
      " 70%|████████████████████████████▍            | 139/200 [17:48<00:52,  1.17it/s]"
     ]
    },
    {
     "name": "stdout",
     "output_type": "stream",
     "text": [
      "Result: True\n",
      "\n",
      "\n",
      "Test: 139\n",
      "Params: {'in_channels': 1, 'out_channels': 1, 'kernel_size': (3, 11), 'padding': 10, 'stride': 2, 'dilation': 2, 'groups': 1, 'in_batches': 3, 'in_h': 14, 'in_w': 23}\n"
     ]
    },
    {
     "name": "stderr",
     "output_type": "stream",
     "text": [
      "\r",
      " 70%|████████████████████████████▋            | 140/200 [17:49<00:44,  1.35it/s]"
     ]
    },
    {
     "name": "stdout",
     "output_type": "stream",
     "text": [
      "Result: True\n",
      "\n",
      "\n",
      "Test: 140\n",
      "Params: {'in_channels': 4, 'out_channels': 4, 'kernel_size': (3, 7), 'padding': 5, 'stride': 1, 'dilation': 5, 'groups': 2, 'in_batches': 5, 'in_h': 26, 'in_w': 28}\n"
     ]
    },
    {
     "name": "stderr",
     "output_type": "stream",
     "text": [
      "\r",
      " 70%|████████████████████████████▉            | 141/200 [18:07<05:07,  5.21s/it]"
     ]
    },
    {
     "name": "stdout",
     "output_type": "stream",
     "text": [
      "Result: True\n",
      "\n",
      "\n",
      "Test: 141\n",
      "Params: {'in_channels': 3, 'out_channels': 3, 'kernel_size': (5, 4), 'padding': 6, 'stride': 3, 'dilation': 1, 'groups': 1, 'in_batches': 2, 'in_h': 32, 'in_w': 15}\n"
     ]
    },
    {
     "name": "stderr",
     "output_type": "stream",
     "text": [
      "\r",
      " 71%|█████████████████████████████            | 142/200 [18:08<03:46,  3.91s/it]"
     ]
    },
    {
     "name": "stdout",
     "output_type": "stream",
     "text": [
      "Result: True\n",
      "\n",
      "\n",
      "Test: 142\n",
      "Params: {'in_channels': 6, 'out_channels': 4, 'kernel_size': (12, 9), 'padding': 10, 'stride': 4, 'dilation': 1, 'groups': 1, 'in_batches': 5, 'in_h': 12, 'in_w': 18}\n"
     ]
    },
    {
     "name": "stderr",
     "output_type": "stream",
     "text": [
      "\r",
      " 72%|█████████████████████████████▎           | 143/200 [18:11<03:41,  3.89s/it]"
     ]
    },
    {
     "name": "stdout",
     "output_type": "stream",
     "text": [
      "Result: True\n",
      "\n",
      "\n",
      "Test: 143\n",
      "Params: {'in_channels': 6, 'out_channels': 2, 'kernel_size': (10, 16), 'padding': 5, 'stride': 5, 'dilation': 1, 'groups': 1, 'in_batches': 3, 'in_h': 33, 'in_w': 27}\n"
     ]
    },
    {
     "name": "stderr",
     "output_type": "stream",
     "text": [
      "\r",
      " 72%|█████████████████████████████▌           | 144/200 [18:13<02:55,  3.14s/it]"
     ]
    },
    {
     "name": "stdout",
     "output_type": "stream",
     "text": [
      "Result: True\n",
      "\n",
      "\n",
      "Test: 144\n",
      "Params: {'in_channels': 6, 'out_channels': 6, 'kernel_size': (3, 2), 'padding': 5, 'stride': 5, 'dilation': 10, 'groups': 6, 'in_batches': 3, 'in_h': 20, 'in_w': 23}\n"
     ]
    },
    {
     "name": "stderr",
     "output_type": "stream",
     "text": [
      "\r",
      " 72%|█████████████████████████████▋           | 145/200 [18:13<02:10,  2.36s/it]"
     ]
    },
    {
     "name": "stdout",
     "output_type": "stream",
     "text": [
      "Result: True\n",
      "\n",
      "\n",
      "Test: 145\n",
      "Params: {'in_channels': 12, 'out_channels': 8, 'kernel_size': (5, 6), 'padding': 5, 'stride': 4, 'dilation': 8, 'groups': 4, 'in_batches': 2, 'in_h': 28, 'in_w': 34}\n"
     ]
    },
    {
     "name": "stderr",
     "output_type": "stream",
     "text": [
      "\r",
      " 73%|█████████████████████████████▉           | 146/200 [18:14<01:42,  1.89s/it]"
     ]
    },
    {
     "name": "stdout",
     "output_type": "stream",
     "text": [
      "Result: True\n",
      "\n",
      "\n",
      "Test: 146\n",
      "Params: {'in_channels': 3, 'out_channels': 3, 'kernel_size': (1, 20), 'padding': 6, 'stride': 2, 'dilation': 2, 'groups': 3, 'in_batches': 3, 'in_h': 7, 'in_w': 29}\n",
      "Result: True\n",
      "\n",
      "\n",
      "Test: 147\n",
      "Params: {'in_channels': 5, 'out_channels': 1, 'kernel_size': (13, 3), 'padding': 5, 'stride': 2, 'dilation': 3, 'groups': 1, 'in_batches': 5, 'in_h': 34, 'in_w': 9}\n"
     ]
    },
    {
     "name": "stderr",
     "output_type": "stream",
     "text": [
      "\r",
      " 74%|██████████████████████████████▎          | 148/200 [18:15<01:05,  1.26s/it]"
     ]
    },
    {
     "name": "stdout",
     "output_type": "stream",
     "text": [
      "Result: True\n",
      "\n",
      "\n",
      "Test: 148\n",
      "Params: {'in_channels': 7, 'out_channels': 3, 'kernel_size': (10, 1), 'padding': 5, 'stride': 3, 'dilation': 2, 'groups': 1, 'in_batches': 5, 'in_h': 24, 'in_w': 20}\n"
     ]
    },
    {
     "name": "stderr",
     "output_type": "stream",
     "text": [
      "\r",
      " 74%|██████████████████████████████▌          | 149/200 [18:16<00:58,  1.15s/it]"
     ]
    },
    {
     "name": "stdout",
     "output_type": "stream",
     "text": [
      "Result: True\n",
      "\n",
      "\n",
      "Test: 149\n",
      "Params: {'in_channels': 1, 'out_channels': 1, 'kernel_size': (9, 4), 'padding': 2, 'stride': 5, 'dilation': 1, 'groups': 1, 'in_batches': 3, 'in_h': 16, 'in_w': 33}\n",
      "Result: True\n",
      "\n",
      "\n",
      "Test: 150\n",
      "Params: {'in_channels': 6, 'out_channels': 5, 'kernel_size': (11, 11), 'padding': 3, 'stride': 1, 'dilation': 1, 'groups': 1, 'in_batches': 5, 'in_h': 21, 'in_w': 12}\n"
     ]
    },
    {
     "name": "stderr",
     "output_type": "stream",
     "text": [
      "\r",
      " 76%|██████████████████████████████▉          | 151/200 [18:31<03:11,  3.92s/it]"
     ]
    },
    {
     "name": "stdout",
     "output_type": "stream",
     "text": [
      "Result: True\n",
      "\n",
      "\n",
      "Test: 151\n",
      "Params: {'in_channels': 5, 'out_channels': 5, 'kernel_size': (8, 8), 'padding': 5, 'stride': 4, 'dilation': 1, 'groups': 5, 'in_batches': 4, 'in_h': 12, 'in_w': 28}\n"
     ]
    },
    {
     "name": "stderr",
     "output_type": "stream",
     "text": [
      "\r",
      " 76%|███████████████████████████████▏         | 152/200 [18:32<02:27,  3.08s/it]"
     ]
    },
    {
     "name": "stdout",
     "output_type": "stream",
     "text": [
      "Result: True\n",
      "\n",
      "\n",
      "Test: 152\n",
      "Params: {'in_channels': 2, 'out_channels': 2, 'kernel_size': (1, 7), 'padding': 8, 'stride': 2, 'dilation': 1, 'groups': 1, 'in_batches': 1, 'in_h': 9, 'in_w': 16}\n",
      "Result: True\n",
      "\n",
      "\n",
      "Test: 153\n",
      "Params: {'in_channels': 1, 'out_channels': 1, 'kernel_size': (13, 2), 'padding': 7, 'stride': 4, 'dilation': 2, 'groups': 1, 'in_batches': 5, 'in_h': 11, 'in_w': 21}\n",
      "Result: True\n",
      "\n",
      "\n",
      "Test: 154\n",
      "Params: {'in_channels': 2, 'out_channels': 2, 'kernel_size': (11, 10), 'padding': 7, 'stride': 1, 'dilation': 3, 'groups': 1, 'in_batches': 3, 'in_h': 21, 'in_w': 28}\n"
     ]
    },
    {
     "name": "stderr",
     "output_type": "stream",
     "text": [
      "\r",
      " 78%|███████████████████████████████▊         | 155/200 [18:36<01:45,  2.34s/it]"
     ]
    },
    {
     "name": "stdout",
     "output_type": "stream",
     "text": [
      "Result: True\n",
      "\n",
      "\n",
      "Test: 155\n",
      "Params: {'in_channels': 1, 'out_channels': 1, 'kernel_size': (8, 15), 'padding': 4, 'stride': 5, 'dilation': 1, 'groups': 1, 'in_batches': 1, 'in_h': 15, 'in_w': 34}\n",
      "Result: True\n",
      "\n",
      "\n",
      "Test: 156\n",
      "Params: {'in_channels': 1, 'out_channels': 1, 'kernel_size': (4, 4), 'padding': 4, 'stride': 1, 'dilation': 6, 'groups': 1, 'in_batches': 2, 'in_h': 34, 'in_w': 30}\n"
     ]
    },
    {
     "name": "stderr",
     "output_type": "stream",
     "text": [
      "\r",
      " 78%|████████████████████████████████▏        | 157/200 [18:38<01:20,  1.87s/it]"
     ]
    },
    {
     "name": "stdout",
     "output_type": "stream",
     "text": [
      "Result: True\n",
      "\n",
      "\n",
      "Test: 157\n",
      "Params: {'in_channels': 1, 'out_channels': 1, 'kernel_size': (5, 10), 'padding': 6, 'stride': 3, 'dilation': 4, 'groups': 1, 'in_batches': 3, 'in_h': 17, 'in_w': 25}\n",
      "Result: True\n",
      "\n",
      "\n",
      "Test: 158\n",
      "Params: {'in_channels': 15, 'out_channels': 15, 'kernel_size': (4, 7), 'padding': 5, 'stride': 3, 'dilation': 5, 'groups': 3, 'in_batches': 3, 'in_h': 20, 'in_w': 33}\n"
     ]
    },
    {
     "name": "stderr",
     "output_type": "stream",
     "text": [
      "\r",
      " 80%|████████████████████████████████▌        | 159/200 [18:52<02:22,  3.46s/it]"
     ]
    },
    {
     "name": "stdout",
     "output_type": "stream",
     "text": [
      "Result: True\n",
      "\n",
      "\n",
      "Test: 159\n",
      "Params: {'in_channels': 10, 'out_channels': 10, 'kernel_size': (19, 11), 'padding': 2, 'stride': 5, 'dilation': 2, 'groups': 1, 'in_batches': 1, 'in_h': 33, 'in_w': 18}\n"
     ]
    },
    {
     "name": "stderr",
     "output_type": "stream",
     "text": [
      "\r",
      " 80%|████████████████████████████████▊        | 160/200 [18:53<01:58,  2.95s/it]"
     ]
    },
    {
     "name": "stdout",
     "output_type": "stream",
     "text": [
      "Result: True\n",
      "\n",
      "\n",
      "Test: 160\n",
      "Params: {'in_channels': 6, 'out_channels': 3, 'kernel_size': (10, 19), 'padding': 7, 'stride': 4, 'dilation': 1, 'groups': 1, 'in_batches': 1, 'in_h': 28, 'in_w': 33}\n"
     ]
    },
    {
     "name": "stderr",
     "output_type": "stream",
     "text": [
      " 81%|█████████████████████████████████▏       | 162/200 [18:54<01:17,  2.05s/it]"
     ]
    },
    {
     "name": "stdout",
     "output_type": "stream",
     "text": [
      "Result: True\n",
      "\n",
      "\n",
      "Test: 161\n",
      "Params: {'in_channels': 1, 'out_channels': 1, 'kernel_size': (5, 8), 'padding': 9, 'stride': 1, 'dilation': 6, 'groups': 1, 'in_batches': 2, 'in_h': 10, 'in_w': 28}\n",
      "Result: True\n",
      "\n",
      "\n",
      "Test: 162\n",
      "Params: {'in_channels': 6, 'out_channels': 5, 'kernel_size': (3, 15), 'padding': 10, 'stride': 4, 'dilation': 1, 'groups': 1, 'in_batches': 5, 'in_h': 6, 'in_w': 6}\n"
     ]
    },
    {
     "name": "stderr",
     "output_type": "stream",
     "text": [
      "\r",
      " 82%|█████████████████████████████████▍       | 163/200 [18:55<01:03,  1.71s/it]"
     ]
    },
    {
     "name": "stdout",
     "output_type": "stream",
     "text": [
      "Result: True\n",
      "\n",
      "\n",
      "Test: 163\n",
      "Params: {'in_channels': 3, 'out_channels': 1, 'kernel_size': (18, 11), 'padding': 9, 'stride': 4, 'dilation': 2, 'groups': 1, 'in_batches': 5, 'in_h': 32, 'in_w': 31}\n"
     ]
    },
    {
     "name": "stderr",
     "output_type": "stream",
     "text": [
      "\r",
      " 82%|█████████████████████████████████▌       | 164/200 [18:56<01:02,  1.72s/it]"
     ]
    },
    {
     "name": "stdout",
     "output_type": "stream",
     "text": [
      "Result: True\n",
      "\n",
      "\n",
      "Test: 164\n",
      "Params: {'in_channels': 4, 'out_channels': 1, 'kernel_size': (3, 18), 'padding': 8, 'stride': 1, 'dilation': 1, 'groups': 1, 'in_batches': 5, 'in_h': 5, 'in_w': 27}\n"
     ]
    },
    {
     "name": "stderr",
     "output_type": "stream",
     "text": [
      "\r",
      " 82%|█████████████████████████████████▊       | 165/200 [19:00<01:14,  2.12s/it]"
     ]
    },
    {
     "name": "stdout",
     "output_type": "stream",
     "text": [
      "Result: True\n",
      "\n",
      "\n",
      "Test: 165\n",
      "Params: {'in_channels': 18, 'out_channels': 18, 'kernel_size': (14, 11), 'padding': 9, 'stride': 2, 'dilation': 1, 'groups': 9, 'in_batches': 1, 'in_h': 13, 'in_w': 10}\n"
     ]
    },
    {
     "name": "stderr",
     "output_type": "stream",
     "text": [
      "\r",
      " 83%|██████████████████████████████████       | 166/200 [19:02<01:17,  2.27s/it]"
     ]
    },
    {
     "name": "stdout",
     "output_type": "stream",
     "text": [
      "Result: True\n",
      "\n",
      "\n",
      "Test: 166\n",
      "Params: {'in_channels': 2, 'out_channels': 1, 'kernel_size': (8, 2), 'padding': 7, 'stride': 5, 'dilation': 4, 'groups': 1, 'in_batches': 4, 'in_h': 26, 'in_w': 32}\n"
     ]
    },
    {
     "name": "stderr",
     "output_type": "stream",
     "text": [
      "\r",
      " 84%|██████████████████████████████████▏      | 167/200 [19:02<00:55,  1.68s/it]"
     ]
    },
    {
     "name": "stdout",
     "output_type": "stream",
     "text": [
      "Result: True\n",
      "\n",
      "\n",
      "Test: 167\n",
      "Params: {'in_channels': 2, 'out_channels': 2, 'kernel_size': (4, 20), 'padding': 5, 'stride': 4, 'dilation': 1, 'groups': 2, 'in_batches': 3, 'in_h': 9, 'in_w': 21}\n",
      "Result: True\n",
      "\n",
      "\n",
      "Test: 168\n",
      "Params: {'in_channels': 6, 'out_channels': 4, 'kernel_size': (6, 14), 'padding': 6, 'stride': 5, 'dilation': 2, 'groups': 1, 'in_batches': 4, 'in_h': 33, 'in_w': 15}\n"
     ]
    },
    {
     "name": "stderr",
     "output_type": "stream",
     "text": [
      "\r",
      " 84%|██████████████████████████████████▋      | 169/200 [19:04<00:36,  1.18s/it]"
     ]
    },
    {
     "name": "stdout",
     "output_type": "stream",
     "text": [
      "Result: True\n",
      "\n",
      "\n",
      "Test: 169\n",
      "Params: {'in_channels': 6, 'out_channels': 5, 'kernel_size': (7, 8), 'padding': 7, 'stride': 3, 'dilation': 1, 'groups': 1, 'in_batches': 5, 'in_h': 25, 'in_w': 9}\n"
     ]
    },
    {
     "name": "stderr",
     "output_type": "stream",
     "text": [
      "\r",
      " 85%|██████████████████████████████████▊      | 170/200 [19:08<00:58,  1.94s/it]"
     ]
    },
    {
     "name": "stdout",
     "output_type": "stream",
     "text": [
      "Result: True\n",
      "\n",
      "\n",
      "Test: 170\n",
      "Params: {'in_channels': 9, 'out_channels': 5, 'kernel_size': (4, 16), 'padding': 1, 'stride': 4, 'dilation': 2, 'groups': 1, 'in_batches': 5, 'in_h': 26, 'in_w': 33}\n"
     ]
    },
    {
     "name": "stderr",
     "output_type": "stream",
     "text": [
      "\r",
      " 86%|███████████████████████████████████      | 171/200 [19:12<01:11,  2.46s/it]"
     ]
    },
    {
     "name": "stdout",
     "output_type": "stream",
     "text": [
      "Result: True\n",
      "\n",
      "\n",
      "Test: 171\n",
      "Params: {'in_channels': 2, 'out_channels': 1, 'kernel_size': (1, 6), 'padding': 7, 'stride': 2, 'dilation': 2, 'groups': 1, 'in_batches': 1, 'in_h': 10, 'in_w': 20}\n",
      "Result: True\n",
      "\n",
      "\n",
      "Test: 172\n",
      "Params: {'in_channels': 19, 'out_channels': 3, 'kernel_size': (3, 5), 'padding': 5, 'stride': 3, 'dilation': 3, 'groups': 1, 'in_batches': 4, 'in_h': 16, 'in_w': 22}\n"
     ]
    },
    {
     "name": "stderr",
     "output_type": "stream",
     "text": [
      "\r",
      " 86%|███████████████████████████████████▍     | 173/200 [19:18<01:13,  2.71s/it]"
     ]
    },
    {
     "name": "stdout",
     "output_type": "stream",
     "text": [
      "Result: True\n",
      "\n",
      "\n",
      "Test: 173\n",
      "Params: {'in_channels': 12, 'out_channels': 10, 'kernel_size': (7, 7), 'padding': 7, 'stride': 4, 'dilation': 4, 'groups': 2, 'in_batches': 5, 'in_h': 19, 'in_w': 11}\n"
     ]
    },
    {
     "name": "stderr",
     "output_type": "stream",
     "text": [
      "\r",
      " 87%|███████████████████████████████████▋     | 174/200 [19:21<01:14,  2.86s/it]"
     ]
    },
    {
     "name": "stdout",
     "output_type": "stream",
     "text": [
      "Result: True\n",
      "\n",
      "\n",
      "Test: 174\n",
      "Params: {'in_channels': 1, 'out_channels': 1, 'kernel_size': (7, 4), 'padding': 8, 'stride': 4, 'dilation': 1, 'groups': 1, 'in_batches': 3, 'in_h': 17, 'in_w': 17}\n",
      "Result: True\n",
      "\n",
      "\n",
      "Test: 175\n",
      "Params: {'in_channels': 2, 'out_channels': 2, 'kernel_size': (6, 4), 'padding': 1, 'stride': 2, 'dilation': 3, 'groups': 2, 'in_batches': 5, 'in_h': 29, 'in_w': 26}\n"
     ]
    },
    {
     "name": "stderr",
     "output_type": "stream",
     "text": [
      "\r",
      " 88%|████████████████████████████████████     | 176/200 [19:22<00:45,  1.88s/it]"
     ]
    },
    {
     "name": "stdout",
     "output_type": "stream",
     "text": [
      "Result: True\n",
      "\n",
      "\n",
      "Test: 176\n",
      "Params: {'in_channels': 12, 'out_channels': 12, 'kernel_size': (11, 4), 'padding': 10, 'stride': 4, 'dilation': 2, 'groups': 12, 'in_batches': 5, 'in_h': 25, 'in_w': 16}\n"
     ]
    },
    {
     "name": "stderr",
     "output_type": "stream",
     "text": [
      "\r",
      " 88%|████████████████████████████████████▎    | 177/200 [19:25<00:48,  2.09s/it]"
     ]
    },
    {
     "name": "stdout",
     "output_type": "stream",
     "text": [
      "Result: True\n",
      "\n",
      "\n",
      "Test: 177\n",
      "Params: {'in_channels': 2, 'out_channels': 2, 'kernel_size': (18, 11), 'padding': 4, 'stride': 1, 'dilation': 1, 'groups': 2, 'in_batches': 1, 'in_h': 29, 'in_w': 34}\n"
     ]
    },
    {
     "name": "stderr",
     "output_type": "stream",
     "text": [
      " 90%|████████████████████████████████████▉    | 180/200 [19:26<00:23,  1.15s/it]"
     ]
    },
    {
     "name": "stdout",
     "output_type": "stream",
     "text": [
      "Result: True\n",
      "\n",
      "\n",
      "Test: 178\n",
      "Params: {'in_channels': 2, 'out_channels': 2, 'kernel_size': (18, 5), 'padding': 9, 'stride': 4, 'dilation': 1, 'groups': 2, 'in_batches': 2, 'in_h': 18, 'in_w': 15}\n",
      "Result: True\n",
      "\n",
      "\n",
      "Test: 179\n",
      "Params: {'in_channels': 1, 'out_channels': 1, 'kernel_size': (10, 5), 'padding': 6, 'stride': 4, 'dilation': 1, 'groups': 1, 'in_batches': 4, 'in_h': 10, 'in_w': 17}\n",
      "Result: True\n",
      "\n",
      "\n",
      "Test: 180\n",
      "Params: {'in_channels': 1, 'out_channels': 1, 'kernel_size': (4, 2), 'padding': 4, 'stride': 4, 'dilation': 7, 'groups': 1, 'in_batches': 5, 'in_h': 27, 'in_w': 10}\n",
      "Result: True\n",
      "\n",
      "\n",
      "Test: 181\n",
      "Params: {'in_channels': 4, 'out_channels': 4, 'kernel_size': (7, 5), 'padding': 2, 'stride': 3, 'dilation': 1, 'groups': 1, 'in_batches': 3, 'in_h': 20, 'in_w': 30}\n"
     ]
    },
    {
     "name": "stderr",
     "output_type": "stream",
     "text": [
      " 92%|█████████████████████████████████████▌   | 183/200 [19:27<00:11,  1.45it/s]"
     ]
    },
    {
     "name": "stdout",
     "output_type": "stream",
     "text": [
      "Result: True\n",
      "\n",
      "\n",
      "Test: 182\n",
      "Params: {'in_channels': 1, 'out_channels': 1, 'kernel_size': (16, 4), 'padding': 5, 'stride': 1, 'dilation': 1, 'groups': 1, 'in_batches': 5, 'in_h': 7, 'in_w': 30}\n",
      "Result: True\n",
      "\n",
      "\n",
      "Test: 183\n",
      "Params: {'in_channels': 10, 'out_channels': 10, 'kernel_size': (6, 7), 'padding': 8, 'stride': 2, 'dilation': 6, 'groups': 1, 'in_batches': 3, 'in_h': 21, 'in_w': 29}\n"
     ]
    },
    {
     "name": "stderr",
     "output_type": "stream",
     "text": [
      "\r",
      " 92%|█████████████████████████████████████▋   | 184/200 [20:14<03:00, 11.29s/it]"
     ]
    },
    {
     "name": "stdout",
     "output_type": "stream",
     "text": [
      "Result: True\n",
      "\n",
      "\n",
      "Test: 184\n",
      "Params: {'in_channels': 4, 'out_channels': 2, 'kernel_size': (6, 14), 'padding': 3, 'stride': 5, 'dilation': 2, 'groups': 2, 'in_batches': 3, 'in_h': 28, 'in_w': 31}\n"
     ]
    },
    {
     "name": "stderr",
     "output_type": "stream",
     "text": [
      "\r",
      " 92%|█████████████████████████████████████▉   | 185/200 [20:14<02:08,  8.58s/it]"
     ]
    },
    {
     "name": "stdout",
     "output_type": "stream",
     "text": [
      "Result: True\n",
      "\n",
      "\n",
      "Test: 185\n",
      "Params: {'in_channels': 7, 'out_channels': 5, 'kernel_size': (9, 1), 'padding': 10, 'stride': 1, 'dilation': 5, 'groups': 1, 'in_batches': 3, 'in_h': 26, 'in_w': 6}\n"
     ]
    },
    {
     "name": "stderr",
     "output_type": "stream",
     "text": [
      " 94%|██████████████████████████████████████▎  | 187/200 [20:18<01:09,  5.35s/it]"
     ]
    },
    {
     "name": "stdout",
     "output_type": "stream",
     "text": [
      "Result: True\n",
      "\n",
      "\n",
      "Test: 186\n",
      "Params: {'in_channels': 2, 'out_channels': 1, 'kernel_size': (18, 20), 'padding': 2, 'stride': 2, 'dilation': 1, 'groups': 1, 'in_batches': 4, 'in_h': 32, 'in_w': 17}\n",
      "Result: True\n",
      "\n",
      "\n",
      "Test: 187\n",
      "Params: {'in_channels': 4, 'out_channels': 4, 'kernel_size': (3, 1), 'padding': 8, 'stride': 3, 'dilation': 4, 'groups': 2, 'in_batches': 5, 'in_h': 14, 'in_w': 10}\n"
     ]
    },
    {
     "name": "stderr",
     "output_type": "stream",
     "text": [
      "\r",
      " 94%|██████████████████████████████████████▌  | 188/200 [20:18<00:46,  3.90s/it]"
     ]
    },
    {
     "name": "stdout",
     "output_type": "stream",
     "text": [
      "Result: True\n",
      "\n",
      "\n",
      "Test: 188\n",
      "Params: {'in_channels': 18, 'out_channels': 12, 'kernel_size': (4, 4), 'padding': 8, 'stride': 3, 'dilation': 4, 'groups': 3, 'in_batches': 5, 'in_h': 25, 'in_w': 31}\n"
     ]
    },
    {
     "name": "stderr",
     "output_type": "stream",
     "text": [
      "\r",
      " 94%|██████████████████████████████████████▋  | 189/200 [20:55<02:27, 13.39s/it]"
     ]
    },
    {
     "name": "stdout",
     "output_type": "stream",
     "text": [
      "Result: True\n",
      "\n",
      "\n",
      "Test: 189\n",
      "Params: {'in_channels': 3, 'out_channels': 3, 'kernel_size': (4, 4), 'padding': 9, 'stride': 3, 'dilation': 7, 'groups': 1, 'in_batches': 3, 'in_h': 34, 'in_w': 25}\n"
     ]
    },
    {
     "name": "stderr",
     "output_type": "stream",
     "text": [
      "\r",
      " 95%|██████████████████████████████████████▉  | 190/200 [21:01<01:51, 11.13s/it]"
     ]
    },
    {
     "name": "stdout",
     "output_type": "stream",
     "text": [
      "Result: True\n",
      "\n",
      "\n",
      "Test: 190\n",
      "Params: {'in_channels': 9, 'out_channels': 9, 'kernel_size': (9, 8), 'padding': 5, 'stride': 4, 'dilation': 4, 'groups': 1, 'in_batches': 2, 'in_h': 25, 'in_w': 33}\n"
     ]
    },
    {
     "name": "stderr",
     "output_type": "stream",
     "text": [
      "\r",
      " 96%|███████████████████████████████████████▏ | 191/200 [21:04<01:18,  8.74s/it]"
     ]
    },
    {
     "name": "stdout",
     "output_type": "stream",
     "text": [
      "Result: True\n",
      "\n",
      "\n",
      "Test: 191\n",
      "Params: {'in_channels': 1, 'out_channels': 1, 'kernel_size': (2, 4), 'padding': 8, 'stride': 5, 'dilation': 1, 'groups': 1, 'in_batches': 3, 'in_h': 12, 'in_w': 18}\n",
      "Result: True\n",
      "\n",
      "\n",
      "Test: 192\n",
      "Params: {'in_channels': 20, 'out_channels': 8, 'kernel_size': (10, 3), 'padding': 6, 'stride': 4, 'dilation': 3, 'groups': 4, 'in_batches': 3, 'in_h': 28, 'in_w': 22}\n"
     ]
    },
    {
     "name": "stderr",
     "output_type": "stream",
     "text": [
      "\r",
      " 96%|███████████████████████████████████████▌ | 193/200 [21:07<00:38,  5.51s/it]"
     ]
    },
    {
     "name": "stdout",
     "output_type": "stream",
     "text": [
      "Result: True\n",
      "\n",
      "\n",
      "Test: 193\n",
      "Params: {'in_channels': 12, 'out_channels': 10, 'kernel_size': (9, 7), 'padding': 2, 'stride': 5, 'dilation': 3, 'groups': 2, 'in_batches': 2, 'in_h': 33, 'in_w': 16}\n"
     ]
    },
    {
     "name": "stderr",
     "output_type": "stream",
     "text": [
      "\r",
      " 97%|███████████████████████████████████████▊ | 194/200 [21:08<00:26,  4.37s/it]"
     ]
    },
    {
     "name": "stdout",
     "output_type": "stream",
     "text": [
      "Result: True\n",
      "\n",
      "\n",
      "Test: 194\n",
      "Params: {'in_channels': 6, 'out_channels': 3, 'kernel_size': (1, 5), 'padding': 5, 'stride': 4, 'dilation': 8, 'groups': 3, 'in_batches': 1, 'in_h': 8, 'in_w': 32}\n",
      "Result: True\n",
      "\n",
      "\n",
      "Test: 195\n",
      "Params: {'in_channels': 20, 'out_channels': 8, 'kernel_size': (15, 16), 'padding': 8, 'stride': 1, 'dilation': 1, 'groups': 2, 'in_batches': 2, 'in_h': 31, 'in_w': 19}\n"
     ]
    },
    {
     "name": "stderr",
     "output_type": "stream",
     "text": [
      "\r",
      " 98%|████████████████████████████████████████▏| 196/200 [23:40<02:15, 33.80s/it]"
     ]
    },
    {
     "name": "stdout",
     "output_type": "stream",
     "text": [
      "Result: True\n",
      "\n",
      "\n",
      "Test: 196\n",
      "Params: {'in_channels': 1, 'out_channels': 1, 'kernel_size': (19, 14), 'padding': 9, 'stride': 2, 'dilation': 2, 'groups': 1, 'in_batches': 5, 'in_h': 32, 'in_w': 16}\n"
     ]
    },
    {
     "name": "stderr",
     "output_type": "stream",
     "text": [
      "\r",
      " 98%|████████████████████████████████████████▍| 197/200 [23:41<01:19, 26.38s/it]"
     ]
    },
    {
     "name": "stdout",
     "output_type": "stream",
     "text": [
      "Result: True\n",
      "\n",
      "\n",
      "Test: 197\n",
      "Params: {'in_channels': 14, 'out_channels': 8, 'kernel_size': (3, 15), 'padding': 10, 'stride': 1, 'dilation': 2, 'groups': 2, 'in_batches': 3, 'in_h': 15, 'in_w': 16}\n"
     ]
    },
    {
     "name": "stderr",
     "output_type": "stream",
     "text": [
      "\r",
      " 99%|████████████████████████████████████████▌| 198/200 [24:15<00:56, 28.18s/it]"
     ]
    },
    {
     "name": "stdout",
     "output_type": "stream",
     "text": [
      "Result: True\n",
      "\n",
      "\n",
      "Test: 198\n",
      "Params: {'in_channels': 3, 'out_channels': 2, 'kernel_size': (8, 2), 'padding': 10, 'stride': 5, 'dilation': 3, 'groups': 1, 'in_batches': 3, 'in_h': 29, 'in_w': 24}\n"
     ]
    },
    {
     "name": "stderr",
     "output_type": "stream",
     "text": [
      "\r",
      "100%|████████████████████████████████████████▊| 199/200 [24:15<00:20, 20.99s/it]"
     ]
    },
    {
     "name": "stdout",
     "output_type": "stream",
     "text": [
      "Result: True\n",
      "\n",
      "\n",
      "Test: 199\n",
      "Params: {'in_channels': 10, 'out_channels': 4, 'kernel_size': (6, 8), 'padding': 8, 'stride': 3, 'dilation': 4, 'groups': 1, 'in_batches': 1, 'in_h': 17, 'in_w': 18}\n"
     ]
    },
    {
     "name": "stderr",
     "output_type": "stream",
     "text": [
      "100%|█████████████████████████████████████████| 200/200 [24:16<00:00,  7.28s/it]"
     ]
    },
    {
     "name": "stdout",
     "output_type": "stream",
     "text": [
      "Result: True\n",
      "\n",
      "\n",
      "200 out of 200 (100.0%) tests passed\n"
     ]
    },
    {
     "name": "stderr",
     "output_type": "stream",
     "text": [
      "\n"
     ]
    }
   ],
   "source": [
    "# for loop sweeping different input parameters and testing the outputs of Conv2DPytTestGroups and PyTorch\n",
    "from tqdm import tqdm\n",
    "\n",
    "num_tests = 200 # only test parameter to be varied\n",
    "num_passed = 0\n",
    "params_list = valid_params(num_tests)\n",
    "print('Number of tests: {}\\n\\n'.format(len(params_list)))\n",
    "\n",
    "for i, params in enumerate(tqdm(params_list)):\n",
    "    print('Test: {}\\nParams: {}'.format(i, params))\n",
    "    debug = False # DO NOT CHANGE THIS while using Conv2DPytTest - TODO: modify this flag to `test`\n",
    "\n",
    "    in_channels = params['in_channels'] # input channels\n",
    "    out_channels = params['out_channels'] # output channels\n",
    "    \n",
    "    kernel_size = params['kernel_size'] # kernel size\n",
    "\n",
    "    padding = params['padding'] # padding (optional)\n",
    "    stride = params['stride'] # stride (optional)\n",
    "    dilation = params['dilation'] # dilation factor (optional)\n",
    "    groups = params['groups'] # groups (optional)\n",
    "    \n",
    "    in_batches = params['in_batches'] # input batches\n",
    "    in_h = params['in_h'] # input height\n",
    "    in_w = params['in_w'] # input weight\n",
    "    \n",
    "    _input = np.random.rand(in_batches, in_channels, in_h, in_w) # define a random image based on the input parameters\n",
    "    kernels = []\n",
    "    for k in range(out_channels):\n",
    "        kernel = np.random.rand(int(in_channels / groups), kernel_size[0], kernel_size[1]) # define a random kernel based on the kernel parameters\n",
    "        kernels.append(kernel)\n",
    "    \n",
    "    try:\n",
    "        # get Conv2DPytTest output with the random inputs\n",
    "        conv2dpyttestgroups = Conv2DPytTestGroups(in_channels, out_channels, kernel_size, stride = stride, padding = padding, dilation = dilation, groups = groups, debug = debug, verbose = False) # call an instance of the class with the input parameters \n",
    "        _output = conv2dpyttestgroups.forward(_input, kernels) # perform convolution\n",
    "\n",
    "        # get PyTorch output with the same random inputs as above\n",
    "        x = torch.DoubleTensor(_input)\n",
    "        weights = torch.stack([torch.DoubleTensor(kernel) for kernel in kernels])\n",
    "        output = torch.nn.functional.conv2d(x, weights, stride = stride, padding = padding, dilation = dilation, groups = groups)\n",
    "        \n",
    "    except Exception as e:\n",
    "        print(e)\n",
    "        print('Result: False\\n\\n') # treating exception as a failed test\n",
    "        continue\n",
    "    \n",
    "    # compare outputs of conv-Numpy and PyTorch\n",
    "    result = torch.equal(torch.round(torch.DoubleTensor(_output)), torch.round(output)) # need to round the output due to precision difference\n",
    "    print('Result: {}\\n\\n'.format(result))\n",
    "    if result:\n",
    "        num_passed += 1\n",
    "\n",
    "print('{} out of {} ({}%) tests passed'.format(num_passed, num_tests, float(100 * num_passed / num_tests)))\n",
    "    "
   ]
  },
  {
   "cell_type": "markdown",
   "id": "8fe45ea6",
   "metadata": {},
   "source": [
    "### Modular code for methods in `forward()`"
   ]
  },
  {
   "cell_type": "raw",
   "id": "b53291ca",
   "metadata": {},
   "source": [
    "''' Modular code - can replace bloated def forward()'''\n",
    "def print_params(self):\n",
    "    self.verboseprint('*** parameters ***')\n",
    "    self.verboseprint('in_channels: {}, out_channels: {}, kernel_size: {}'.format(self.in_channels, self.out_channels, self.kernel_size))\n",
    "    self.verboseprint('padding: {}, stride: {}, dilation factor: {}'.format(self.padding, self.stride, self.dilation))\n",
    "    self.verboseprint('groups: {}, bias: {}, padding_mode: {}, device: {}, dtype: {}'.format(self.groups, self.bias, self.padding_mode, self.device, self.dtype))\n",
    "    self.verboseprint('\\n')\n",
    "\n",
    "def add_padding(self, _input):\n",
    "    ''' add zero padding based on the input parameters '''\n",
    "    if self.padding != 0:\n",
    "        _input = np.array([[np.pad(channel,self.padding, 'constant', constant_values = 0) for channel in batch] for batch in _input])    \n",
    "        self.verboseprint('*** padded input image ***')\n",
    "        self.verboseprint('input batches: {}, input channels: {}, input height: {}, input weight: {}'.format(_input.shape[0], _input.shape[1], _input.shape[2], _input.shape[3]))\n",
    "        self.verboseprint(_input)\n",
    "        self.verboseprint('\\n')\n",
    "    return _input\n",
    "\n",
    "def create_kernels(self, kernels):\n",
    "    ''' use the provided kernels or create random kernels based on the input kernel parameters '''\n",
    "    if kernels is not None:\n",
    "        self.verboseprint('*** kernels ***')\n",
    "        self.verboseprint('kernels: {}, kernel channels: {}, kernel height: {}, kernel weight: {}'.format(self.out_channels, int(self.in_channels / self.groups), self.kernel_size[0], self.kernel_size[1]))\n",
    "        kernels = self.dilate_kernels(kernels)\n",
    "        return kernels\n",
    "\n",
    "    ''' Below code never executes as we are passing `kernels` as input - can be commented/removed '''\n",
    "    kernels = []\n",
    "    self.verboseprint('*** kernels ***')\n",
    "    self.verboseprint('kernels: {}, kernel channels: {}, kernel height: {}, kernel weight: {}'.format(self.out_channels, int(self.in_channels / self.groups), self.kernel_size[0], self.kernel_size[1]))\n",
    "    for k in range(self.out_channels):\n",
    "        kernel = np.random.rand(int(self.in_channels/self.groups), self.kernel_size[0], self.kernel_size[1]) # define a random kernel based on the kernel parameters\n",
    "        if self.debug:\n",
    "            kernel = k * np.ones_like(kernel)\n",
    "        kernels.append(kernel)\n",
    "        self.verboseprint('kernel {}'.format(k))\n",
    "        self.verboseprint(kernel)\n",
    "    self.verboseprint('\\n')\n",
    "    kernels = self.dilate_kernels(kernels)\n",
    "    return kernels \n",
    "\n",
    "def dilate_kernels(self, kernels):\n",
    "    ''' dilate a kernel '''\n",
    "    dil_ker_h = self.dilation * (self.kernel_size[0] - 1) + 1\n",
    "    dil_ker_w = self.dilation * (self.kernel_size[1] - 1) + 1\n",
    "    dil_kernels = []\n",
    "    for kernel in kernels:\n",
    "        dil_kernel = []\n",
    "        for channel in kernel:\n",
    "            dil_channel = np.zeros((dil_ker_h, dil_ker_w))\n",
    "            for row in range(len(channel)):\n",
    "                for col in range(len(channel[0])):\n",
    "                    dil_channel[self.dilation*row][self.dilation*col] = channel[row][col]\n",
    "            dil_kernel.append(dil_channel.tolist())\n",
    "        dil_kernels.append(dil_kernel)\n",
    "    kernels, self.kernel_size = dil_kernels, (dil_ker_h, dil_ker_w)\n",
    "    self.verboseprint('*** dilated kernels ***')\n",
    "    self.verboseprint('kernels: {}, dilation factor: {}, kernel channels: {}, kernel height: {}, kernel weight: {}'.format(self.out_channels, self.dilation, int(self.in_channels / self.groups), self.kernel_size[0], self.kernel_size[1]))\n",
    "    for k in range(self.out_channels):\n",
    "        self.verboseprint('kernel {}'.format(k))\n",
    "        self.verboseprint(kernels[k])\n",
    "    self.verboseprint('\\n')\n",
    "    return kernels\n",
    "\n",
    "def compute_out_vol(self, _input):\n",
    "    ''' compute output volume from the input and kernel parameters '''\n",
    "    _input_n, _, _input_h, _input_w = _input.shape\n",
    "    out_n = int(_input_n)\n",
    "    out_c = int(self.out_channels)\n",
    "    out_h = int((_input_h - self.kernel_size[0])/self.stride) + 1\n",
    "    out_w = int((_input_w - self.kernel_size[1])/self.stride) + 1\n",
    "    return out_n, out_c, out_h, out_w\n",
    "\n",
    "def error_checking(self, _input):\n",
    "    ''' do error checking '''\n",
    "    _input_n, _input_c, _input_h, _input_w = _input.shape\n",
    "    if _input_h + 2 * self.padding < self.dilation * (self.kernel_size[0] - 1) + 1: # check if (dilated) ker_h is valid\n",
    "        raise Exception('invalid input parameters: kernel height is larger than input height')\n",
    "    if _input_w + 2 * self.padding < self.dilation * (self.kernel_size[1] - 1) + 1: # check if (dilated) ker_w is valid\n",
    "        raise Exception('invalid input parameters: kernel width is larger than input width')\n",
    "    if ((_input_h + 2 * self.padding - (self.dilation * (self.kernel_size[0] - 1) + 1)) / self.stride) + 1 < 0: # check if out_h is valid\n",
    "        raise Exception('invalid input parameters: output height is negative')\n",
    "    if ((_input_h + 2 * self.padding - (self.dilation * (self.kernel_size[1] - 1) + 1)) / self.stride) + 1 < 0: # check if out_w is valid\n",
    "        raise Exception('invalid input parameters: output width is negative')\n",
    "    if  self.in_channels % self.groups != 0: # check if groups is valid\n",
    "        raise Exception('invalid input parameters: input channels is not divisible by groups')\n",
    "    if self.out_channels % self.groups != 0: # check if groups is valid\n",
    "        raise Exception('invalid input parametes: output channels is not divisible by groups')\n",
    "    if not (self.groups == 1 or self.groups == self.in_channels): # check if groups is valid - remove once groups is properly implemented\n",
    "        raise Exception('invalid input parameters: currently groups == 1 or groups == in_channels only supported')\n"
   ]
  },
  {
   "cell_type": "markdown",
   "id": "ca85c279",
   "metadata": {},
   "source": [
    "### Modular code for `forward()`"
   ]
  },
  {
   "cell_type": "raw",
   "id": "51abe93d",
   "metadata": {},
   "source": [
    "''' Modular code - can replace bloated def forward()'''\n",
    "'''\n",
    "    def convolve(self, h, w, ker_num, batch_num, _input, kernels):\n",
    "        # convolve kernel over the input slices\n",
    "        self.debugprint('kernel indices, image indices')\n",
    "        self.debugprint('[c, h, w]', '[n, c, h, w]')\n",
    "        convol_sum = 0\n",
    "        ker_c = self.in_channels\n",
    "        ker_h = self.kernel_size[0]\n",
    "        ker_w = self.kernel_size[1]\n",
    "        for c_ker in range(ker_c):\n",
    "            for h_ker in range(ker_h):\n",
    "                for w_ker in range(ker_w):\n",
    "                    self.debugprint([c_ker, h_ker, w_ker], [batch_num, c_ker, h_ker + self.stride*h, w_ker + self.stride*w])\n",
    "                    convol_sum += kernels[ker_num][c_ker][h_ker][w_ker] * _input[batch_num][c_ker][h_ker + self.stride*h][w_ker + self.stride*w]\n",
    "        self.debugprint('\\n')\n",
    "        return convol_sum\n",
    "    '''\n",
    "    '''\n",
    "    def forward(self, _input):\n",
    "        # create output from the input and kernel parameters \n",
    "        _input = self.add_padding(_input)\n",
    "        if self.debug:\n",
    "            for b in range(_input.shape[0]):\n",
    "                _input[b] = (b+1) * np.ones_like(_input[b]) # define an image of all ones (twos etc.) based on the input parameters\n",
    "        kernels = self.create_kernels()\n",
    "        out_n, out_c, out_h, out_w = self.compute_out_vol(_input)\n",
    "        output = np.zeros([out_n, out_c, out_h, out_w])\n",
    "        # parse through every element of the output and compute the convolution value for that element\n",
    "        for b in range(out_n):\n",
    "            for k in range(out_c):\n",
    "                for h in range(out_h):\n",
    "                    for w in range(out_w):\n",
    "                        output[b, k, h, w] += self.convolve(h, w, k, b, _input, kernels)\n",
    "        self.verboseprint('*** output ***')\n",
    "        output_shape = output.shape\n",
    "        self.verboseprint('output batches: {}, ouput channels: {}, output height: {}, output weight: {}'.format(output_shape[0], output_shape[1], output_shape[2], output_shape[3]))\n",
    "        assert((out_n, out_c, out_h, out_w) == output_shape)\n",
    "        self.verboseprint(output)\n",
    "        self.verboseprint('\\n')\n",
    "        return output\n",
    "    '''\n",
    "    "
   ]
  },
  {
   "cell_type": "markdown",
   "id": "c8eb97cc",
   "metadata": {},
   "source": [
    "### Old `Conv2D` code  for reference"
   ]
  },
  {
   "cell_type": "raw",
   "id": "eb6b032e",
   "metadata": {},
   "source": [
    "'''\n",
    "class Conv2D:\n",
    "    \"\"\"Computes convolution given the input parameters\"\"\"\n",
    "    def __init__(self, params, verbose=True, debug=False):\n",
    "        super(Conv2D, self).__init__()\n",
    "        default_params = {\n",
    "        'stride': 1,\n",
    "        'dilation': 1,\n",
    "        'padding': 0\n",
    "        }\n",
    "        for key, value in default_params.items():\n",
    "            setattr(self, key, params.get(key, value))\n",
    "        self.inp_n = params['inp_n']\n",
    "        self.inp_c = params['inp_c']\n",
    "        self.inp_h = params['inp_h']\n",
    "        self.inp_w = params['inp_w']\n",
    "        self.ker_c = params['ker_c']\n",
    "        self.ker_h = params['ker_h']\n",
    "        self.ker_w = params['ker_w']\n",
    "        self.num_ker = params['num_ker']\n",
    "        self.input_img = None\n",
    "        self.kernels = None\n",
    "        self.out_n = None\n",
    "        self.out_c = None\n",
    "        self.out_h = None\n",
    "        self.out_w = None\n",
    "        self.output = None\n",
    "        self.verbose = verbose\n",
    "        self.verboseprint = print if self.verbose else lambda *a, **k: None\n",
    "        self.debug = debug\n",
    "        self.debugprint = print if self.debug else lambda *a, **k: None\n",
    "        self.print_params()\n",
    "\n",
    "    def print_params(self):\n",
    "        self.verboseprint('*** parameters ***')\n",
    "        self.verboseprint('input batches: {}, input channels: {}, input height: {}, input weight: {}'.format(self.inp_n, self.inp_c, self.inp_h, self.inp_w))\n",
    "        self.verboseprint('kernels: {}, kernel channels: {}, kernel height: {}, kernel weight: {}'.format(self.num_ker, self.ker_c, self.ker_h, self.ker_w))\n",
    "        self.verboseprint('stride: {}, dilation factor: {}, padding: {}'.format(self.stride, self.dilation, self.padding))\n",
    "        self.verboseprint('\\n')\n",
    "\n",
    "    def create_input_img(self):\n",
    "        # create image from the input parameters\n",
    "        input_img = np.random.rand(self.inp_n, self.inp_c, self.inp_h, self.inp_w) # define a random image based on the input parameters\n",
    "        if self.debug:\n",
    "            for b in range(self.inp_n):\n",
    "                input_img[b] = (b+1) * np.ones_like(input_img[b]) # define an image of all ones (twos etc.) based on the input parameters\n",
    "        self.verboseprint('*** input image ***')\n",
    "        self.verboseprint('input batches: {}, input channels: {}, input height: {}, input weight: {}'.format(self.inp_n, self.inp_c, self.inp_h, self.inp_w))\n",
    "        self.verboseprint(input_img)\n",
    "        self.verboseprint('\\n')\n",
    "        self.input_img = input_img\n",
    "        self.add_padding()\n",
    "\n",
    "    def add_padding(self):\n",
    "        # add zero padding based on the input parameters\n",
    "        if self.padding != 0:\n",
    "            self.input_img = [[np.pad(channel,self.padding, 'constant', constant_values=0) for channel in batch] for batch in self.input_img]    \n",
    "            self.inp_h += 2 * self.padding\n",
    "            self.inp_w += 2 * self.padding\n",
    "            self.verboseprint('*** padded input image ***')\n",
    "            self.verboseprint('input batches: {}, input channels: {}, input height: {}, input weight: {}'.format(self.inp_n, self.inp_c, self.inp_h, self.inp_w))\n",
    "            self.verboseprint(self.input_img)\n",
    "            self.verboseprint('\\n')\n",
    "\n",
    "    def create_kernels(self):\n",
    "        # create random kernels based on the input kernel parameters\n",
    "        kernels = []\n",
    "        self.verboseprint('*** kernels ***')\n",
    "        self.verboseprint('kernels: {}, kernel channels: {}, kernel height: {}, kernel weight: {}'.format(self.num_ker, self.ker_c, self.ker_h, self.ker_w))\n",
    "        for k in range(self.num_ker):\n",
    "            kernel = np.random.rand(self.ker_c, self.ker_h, self.ker_w) # define a random kernel based on the kernel parameters\n",
    "            if self.debug:\n",
    "                kernel = k * np.ones_like(kernel)\n",
    "            kernels.append(kernel)\n",
    "            self.verboseprint('kernel {}'.format(k))\n",
    "            self.verboseprint(kernel)\n",
    "        self.verboseprint('\\n')\n",
    "        self.kernels = kernels\n",
    "        self.dilate_kernels()\n",
    "\n",
    "    def dilate_kernels(self):\n",
    "        # dilate a kernel\n",
    "        dil_ker_h = self.dilation * (self.ker_h - 1) + 1\n",
    "        dil_ker_w = self.dilation * (self.ker_w - 1) + 1\n",
    "        dil_kernels = []\n",
    "        for kernel in self.kernels:\n",
    "            dil_kernel = []\n",
    "            for channel in kernel:\n",
    "                dil_channel = np.zeros((dil_ker_h, dil_ker_w))\n",
    "                for row in range(len(channel)):\n",
    "                    for col in range(len(channel[0])):\n",
    "                        dil_channel[self.dilation*row][self.dilation*col] = channel[row][col]\n",
    "                dil_kernel.append(dil_channel.tolist())\n",
    "            dil_kernels.append(dil_kernel)\n",
    "        self.kernels, self.ker_h, self.ker_w = dil_kernels, dil_ker_h, dil_ker_w\n",
    "        self.verboseprint('*** dilated kernels ***')\n",
    "        self.verboseprint('kernels: {}, dilation factor: {}, kernel channels: {}, kernel height: {}, kernel weight: {}'.format(self.num_ker, self.dilation, self.ker_c, self.ker_h, self.ker_w))\n",
    "        for k in range(self.num_ker):\n",
    "            self.verboseprint('kernel {}'.format(k))\n",
    "            self.verboseprint(self.kernels[k])\n",
    "        self.verboseprint('\\n')\n",
    "\n",
    "    def compute_out_vol(self):\n",
    "        # compute output volume from the input and kernel parameters\n",
    "        out_n = int(self.inp_n)\n",
    "        out_c = int(self.num_ker)\n",
    "        out_h = int((self.inp_h - self.ker_h)/self.stride) + 1\n",
    "        out_w = int((self.inp_w - self.ker_w)/self.stride) + 1\n",
    "        self.out_n, self.out_c, self.out_h, self.out_w = out_n, out_c, out_h, out_w\n",
    "\n",
    "    def convolve(self, h, w, ker_num, batch_num):\n",
    "        # convolve kernel over the input slices\n",
    "        self.debugprint('kernel indices, image indices')\n",
    "        self.debugprint('[c, h, w]', '[n, c, h, w]')\n",
    "        convol_sum = 0\n",
    "        for c_ker in range(self.ker_c):\n",
    "            for h_ker in range(self.ker_h):\n",
    "                for w_ker in range(self.ker_w):\n",
    "                    self.debugprint([c_ker, h_ker, w_ker], [batch_num, c_ker, h_ker + self.stride*h, w_ker + self.stride*w])\n",
    "                    convol_sum += self.kernels[ker_num][c_ker][h_ker][w_ker] * self.input_img[batch_num][c_ker][h_ker + self.stride*h][w_ker + self.stride*w]\n",
    "        self.debugprint('\\n')\n",
    "        return convol_sum\n",
    "\n",
    "    def create_output(self):\n",
    "        # create output from the input and kernel parameters \n",
    "        self.compute_out_vol()\n",
    "        self.output = np.zeros([self.out_n, self.out_c, self.out_h, self.out_w])\n",
    "        # parse through every element of the output and compute the convolution value for that element\n",
    "        for b in range(self.out_n):\n",
    "            for k in range(self.num_ker):\n",
    "                for h in range(self.out_h):\n",
    "                    for w in range(self.out_w):\n",
    "                        self.output[b, k, h, w] += self.convolve(h, w, k, b)\n",
    "        self.verboseprint('*** output ***')\n",
    "        output_shape = self.output.shape\n",
    "        self.verboseprint('output batches: {}, ouput channels: {}, output height: {}, output weight: {}'.format(output_shape[0], output_shape[1], output_shape[2], output_shape[3]))\n",
    "        assert((self.out_n, self.out_c, self.out_h, self.out_w) == output_shape)\n",
    "        self.verboseprint(self.output)\n",
    "        self.verboseprint('\\n')\n",
    "\n",
    "    def forward(self, _input):\n",
    "        # create output from the input and kernel parameters \n",
    "        self.compute_out_vol(_input)\n",
    "        self.output = np.zeros([self.out_n, self.out_c, self.out_h, self.out_w])\n",
    "        # parse through every element of the output and compute the convolution value for that element\n",
    "        for b in range(self.out_n):\n",
    "            for k in range(self.num_ker):\n",
    "                for h in range(self.out_h):\n",
    "                    for w in range(self.out_w):\n",
    "                        self.output[b, k, h, w] += self.convolve(h, w, k, b)\n",
    "        self.verboseprint('*** output ***')\n",
    "        output_shape = self.output.shape\n",
    "        self.verboseprint('output batches: {}, ouput channels: {}, output height: {}, output weight: {}'.format(output_shape[0], output_shape[1], output_shape[2], output_shape[3]))\n",
    "        assert((self.out_n, self.out_c, self.out_h, self.out_w) == output_shape)\n",
    "        self.verboseprint(self.output)\n",
    "        self.verboseprint('\\n')\n",
    "'''"
   ]
  },
  {
   "cell_type": "raw",
   "id": "f4ff949d",
   "metadata": {},
   "source": [
    "'''\n",
    "inp_n = 2 # number of input batches\n",
    "inp_c, inp_h, inp_w = 2, 4, 4 # input channels, input height, input weight\n",
    "ker_c, ker_h, ker_w = 2, 2, 2 # kernel channels, kernel height, kernel weight\n",
    "num_ker = 3 # number of kernels\n",
    "stride = 2 # stride (optional)\n",
    "dilation = 1 # dilation factor (optional)\n",
    "padding = 0 # padding (optional)\n",
    "params = {'inp_n':inp_n, 'inp_c':inp_c, 'inp_h':inp_h, 'inp_w':inp_w, 'ker_c':ker_c, 'ker_h':ker_h, \n",
    "              'ker_w':ker_w, 'num_ker':num_ker, 'stride':stride, 'dilation':dilation, 'padding':padding}\n",
    "\n",
    "conv2D = Conv2D(params, debug=True)\n",
    "conv2D.create_input_img()\n",
    "conv2D.create_kernels()\n",
    "conv2D.create_output()\n",
    "'''"
   ]
  }
 ],
 "metadata": {
  "kernelspec": {
   "display_name": "Python 3 (ipykernel)",
   "language": "python",
   "name": "python3"
  },
  "language_info": {
   "codemirror_mode": {
    "name": "ipython",
    "version": 3
   },
   "file_extension": ".py",
   "mimetype": "text/x-python",
   "name": "python",
   "nbconvert_exporter": "python",
   "pygments_lexer": "ipython3",
   "version": "3.7.1"
  }
 },
 "nbformat": 4,
 "nbformat_minor": 5
}
