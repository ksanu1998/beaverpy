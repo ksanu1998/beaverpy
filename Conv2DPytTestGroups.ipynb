{
 "cells": [
  {
   "cell_type": "markdown",
   "id": "b20a6f8d",
   "metadata": {},
   "source": [
    "### `Conv2DPytTestGroups` code"
   ]
  },
  {
   "cell_type": "code",
   "execution_count": 281,
   "id": "19182ede",
   "metadata": {},
   "outputs": [],
   "source": [
    "import numpy as np"
   ]
  },
  {
   "cell_type": "code",
   "execution_count": 282,
   "id": "7ed1691b",
   "metadata": {},
   "outputs": [],
   "source": [
    "class Conv2DPytTestGroups:\n",
    "    ''' Computes convolution given the input parameters '''\n",
    "    \n",
    "    ''' * The class implementation will be along the lines of torch.nn.Conv2D in order to \n",
    "          enable comparison of this NumPy only implementation and seamless testing\n",
    "        * Can expect extensive refactoring of the existing code in the days to come\n",
    "        * As part of refactoring, some code will be de-modularized\n",
    "        * Old code will be retained at the end of the notebook for reference\n",
    "    '''\n",
    "    '''\n",
    "        TODO:\n",
    "        * Fix `groups` implementation to make it more robust - some tests failing\n",
    "        * Implementing other features and caveats offered by nn.torch.Conv2D \n",
    "          (e.g., uniform sampling of kernel weights etc.)\n",
    "        * Optimizing code\n",
    "    '''\n",
    "    \n",
    "    def __init__(\n",
    "        self, \n",
    "        in_channels, \n",
    "        out_channels, \n",
    "        kernel_size, \n",
    "        padding = 0, \n",
    "        stride = 1, \n",
    "        dilation = 1, \n",
    "        groups = 1, \n",
    "        bias = True, \n",
    "        padding_mode = 'zeros', \n",
    "        device = None, \n",
    "        dtype = None, \n",
    "        verbose = True, \n",
    "        debug = False\n",
    "        ):\n",
    "        super(Conv2DPytTestGroups, self).__init__()\n",
    "        \n",
    "        ''' mandatory parameters '''\n",
    "        self.in_channels = in_channels\n",
    "        self.out_channels = out_channels\n",
    "        self.kernel_size = kernel_size\n",
    "        \n",
    "        ''' optional parameters '''\n",
    "        self.padding = padding\n",
    "        self.stride = stride\n",
    "        self.dilation = dilation\n",
    "        self.groups = groups\n",
    "        \n",
    "        ''' optional parameters (dummy, yet to be implemented)'''\n",
    "        self.bias = bias\n",
    "        self.padding_mode = padding_mode\n",
    "        self.device = device\n",
    "        self.dtype = dtype\n",
    "        \n",
    "        ''' additional parameters (different from torch.nn.Conv2D)'''\n",
    "        self.verbose = verbose\n",
    "        self.verboseprint = print if self.verbose else lambda *a, **k: None\n",
    "        self.debug = debug\n",
    "        self.debugprint = print if self.debug else lambda *a, **k: None\n",
    "        self.verboseprint('*** parameters ***')\n",
    "        self.verboseprint('in_channels: {}, out_channels: {}, kernel_size: {}'.format(self.in_channels, self.out_channels, self.kernel_size))\n",
    "        self.verboseprint('padding: {}, stride: {}, dilation factor: {}'.format(self.padding, self.stride, self.dilation))\n",
    "        self.verboseprint('groups: {}, bias: {}, padding_mode: {}, device: {}, dtype: {}'.format(self.groups, self.bias, self.padding_mode, self.device, self.dtype))\n",
    "        self.verboseprint('\\n')\n",
    "    \n",
    "    def forward(self, _input, kernels):\n",
    "        ''' forward pass to perform convolution '''\n",
    "        \n",
    "        ''' do error checking '''\n",
    "        _input_n, _input_c, _input_h, _input_w = _input.shape\n",
    "        if _input_h + 2 * self.padding < self.dilation * (self.kernel_size[0] - 1) + 1: # check if (dilated) ker_h is valid\n",
    "            raise Exception('invalid input parameters: kernel height is larger than input height')\n",
    "        if _input_w + 2 * self.padding < self.dilation * (self.kernel_size[1] - 1) + 1: # check if (dilated) ker_w is valid\n",
    "            raise Exception('invalid input parameters: kernel width is larger than input width')\n",
    "        if ((_input_h + 2 * self.padding - (self.dilation * (self.kernel_size[0] - 1) + 1)) / self.stride) + 1 < 0: # check if out_h is valid\n",
    "            raise Exception('invalid input parameters: output height is negative')\n",
    "        if ((_input_h + 2 * self.padding - (self.dilation * (self.kernel_size[1] - 1) + 1)) / self.stride) + 1 < 0: # check if out_w is valid\n",
    "            raise Exception('invalid input parameters: output width is negative')\n",
    "        if  self.in_channels % self.groups != 0: # check if groups is valid\n",
    "            raise Exception('invalid input parameters: input channels is not divisible by groups')\n",
    "        if self.out_channels % self.groups != 0: # check if groups is valid\n",
    "            raise Exception('invalid input parametes: output channels is not divisible by groups')\n",
    "         \n",
    "        ''' add zero padding based on the input parameters '''\n",
    "        if self.padding != 0:\n",
    "            _input = np.array([[np.pad(channel,self.padding, 'constant', constant_values = 0) for channel in batch] for batch in _input])    \n",
    "            self.verboseprint('*** padded input image ***')\n",
    "            self.verboseprint('input batches: {}, input channels: {}, input height: {}, input weight: {}'.format(_input.shape[0], _input.shape[1], _input.shape[2], _input.shape[3]))\n",
    "            self.verboseprint(_input)\n",
    "            self.verboseprint('\\n')\n",
    "        if self.debug:\n",
    "            for b in range(_input.shape[0]):\n",
    "                _input[b] = (b+1) * np.ones_like(_input[b]) # define an image of all ones (twos etc.) based on the input parameters\n",
    "        \n",
    "        ''' use the provided kernels or create random kernels based on the input kernel parameters '''\n",
    "        if kernels is not None:\n",
    "            self.verboseprint('*** kernels ***')\n",
    "            self.verboseprint('kernels: {}, kernel channels: {}, kernel height: {}, kernel weight: {}'.format(self.out_channels, int(self.in_channels / self.groups), self.kernel_size[0], self.kernel_size[1]))\n",
    "        else:\n",
    "            kernels = []\n",
    "            self.verboseprint('*** kernels ***')\n",
    "            self.verboseprint('kernels: {}, kernel channels: {}, kernel height: {}, kernel weight: {}'.format(self.out_channels, int(self.in_channels / self.groups), self.kernel_size[0], self.kernel_size[1]))\n",
    "            for k in range(self.out_channels):\n",
    "                kernel = np.random.rand(int(self.in_channels/self.groups), self.kernel_size[0], self.kernel_size[1]) # define a random kernel based on the kernel parameters\n",
    "                if self.debug:\n",
    "                    kernel = k * np.ones_like(kernel)\n",
    "                kernels.append(kernel)\n",
    "                self.verboseprint('kernel {}'.format(k))\n",
    "                self.verboseprint(kernel)\n",
    "            self.verboseprint('\\n')\n",
    "        \n",
    "        ''' dilate a kernel '''\n",
    "        dil_ker_h = self.dilation * (self.kernel_size[0] - 1) + 1\n",
    "        dil_ker_w = self.dilation * (self.kernel_size[1] - 1) + 1\n",
    "        dil_kernels = []\n",
    "        for kernel in kernels:\n",
    "            dil_kernel = []\n",
    "            for channel in kernel:\n",
    "                dil_channel = np.zeros((dil_ker_h, dil_ker_w))\n",
    "                for row in range(len(channel)):\n",
    "                    for col in range(len(channel[0])):\n",
    "                        dil_channel[self.dilation*row][self.dilation*col] = channel[row][col]\n",
    "                dil_kernel.append(dil_channel.tolist())\n",
    "            dil_kernels.append(dil_kernel)\n",
    "        kernels, self.kernel_size = dil_kernels, (dil_ker_h, dil_ker_w)\n",
    "        self.verboseprint('*** dilated kernels ***')\n",
    "        self.verboseprint('kernels: {}, dilation factor: {}, kernel channels: {}, kernel height: {}, kernel weight: {}'.format(self.out_channels, self.dilation, int(self.in_channels / self.groups), self.kernel_size[0], self.kernel_size[1]))\n",
    "        for k in range(self.out_channels):\n",
    "            self.verboseprint('kernel {}'.format(k))\n",
    "            self.verboseprint(kernels[k])\n",
    "        self.verboseprint('\\n')\n",
    "        \n",
    "        ''' compute output volume from the input and kernel parameters '''\n",
    "        _input_n, _, _input_h, _input_w = _input.shape\n",
    "        out_n = int(_input_n)\n",
    "        out_c = int(self.out_channels)\n",
    "        out_h = int((_input_h - self.kernel_size[0])/self.stride) + 1\n",
    "        out_w = int((_input_w - self.kernel_size[1])/self.stride) + 1\n",
    "        output = np.zeros([out_n, out_c, out_h, out_w])\n",
    "        \n",
    "        ''' parse through every element of the output and compute the convolution value for that element '''\n",
    "        for b in range(out_n):\n",
    "            for k in range(out_c):\n",
    "                for h in range(out_h):\n",
    "                    for w in range(out_w):\n",
    "                        # convolve kernel over the input slices\n",
    "                        self.debugprint('kernel indices, image indices')\n",
    "                        self.debugprint('[c, h, w]', '[n, c, h, w]')\n",
    "                        convol_sum = 0\n",
    "                        ker_c = int(self.in_channels / self.groups)\n",
    "                        ker_h = self.kernel_size[0]\n",
    "                        ker_w = self.kernel_size[1]\n",
    "                        for c_ker in range(ker_c):\n",
    "                            for h_ker in range(ker_h):\n",
    "                                for w_ker in range(ker_w):\n",
    "                                    if self.groups == 1:\n",
    "                                        self.debugprint([k, c_ker, h_ker, w_ker], [b, c_ker, h_ker + self.stride * h, w_ker + self.stride * w])\n",
    "                                        convol_sum += kernels[k][c_ker][h_ker][w_ker] * _input[b][c_ker][h_ker + self.stride*h][w_ker + self.stride*w] # if groups == 1\n",
    "                                    elif self.groups == self.in_channels:\n",
    "                                        self.debugprint([k, c_ker, h_ker, w_ker], [b, k, h_ker + self.stride * h, w_ker + self.stride * w])\n",
    "                                        convol_sum += kernels[k][c_ker][h_ker][w_ker] * _input[b][k][h_ker + self.stride * h][w_ker + self.stride * w] # if groups == in_channels\n",
    "                                    else:\n",
    "                                        self.debugprint([k, c_ker, h_ker, w_ker], [b, c_ker if k < self.groups else c_ker + ker_c, h_ker + self.stride * h, w_ker + self.stride * w])\n",
    "                                        convol_sum += kernels[k][c_ker][h_ker][w_ker] * _input[b][c_ker if k < self.groups else c_ker + ker_c][h_ker + self.stride * h][w_ker + self.stride * w] # if 1 < groups < in_channels\n",
    "                        self.debugprint('\\n')\n",
    "                        output[b, k, h, w] += convol_sum\n",
    "        self.verboseprint('*** Conv2DPytTest output ***')\n",
    "        output_shape = output.shape\n",
    "        self.verboseprint('output batches: {}, ouput channels: {}, output height: {}, output weight: {}'.format(output_shape[0], output_shape[1], output_shape[2], output_shape[3]))\n",
    "        assert((out_n, out_c, out_h, out_w) == output_shape)\n",
    "        self.verboseprint(output)\n",
    "        self.verboseprint('\\n')\n",
    "        return output"
   ]
  },
  {
   "cell_type": "markdown",
   "id": "7450ac24",
   "metadata": {},
   "source": [
    "### Standalone test (random kernel, random input)"
   ]
  },
  {
   "cell_type": "code",
   "execution_count": 283,
   "id": "a0377df6",
   "metadata": {},
   "outputs": [],
   "source": [
    "debug = False # DO NOT CHANGE THIS while using Conv2DPytTestGroups - TODO: modify this flag to `test`\n",
    "\n",
    "in_channels = 6 # input channels\n",
    "out_channels = 4 # output channels\n",
    "kernel_size = (2, 2) # kernel size\n",
    "\n",
    "padding = 1 # padding (optional)\n",
    "stride = 2 # stride (optional)\n",
    "dilation = 1 # dilation factor (optional)\n",
    "groups = 2 # groups (optional)\n",
    "\n",
    "in_batches = 2 # input batches\n",
    "in_h = 4 # input height\n",
    "in_w = 4 # input weight\n",
    "\n",
    "_input = np.random.rand(in_batches, in_channels, in_h, in_w) # define a random image based on the input parameters\n",
    "kernels = []\n",
    "for k in range(out_channels):\n",
    "    kernel = np.random.rand(int(in_channels / groups), kernel_size[0], kernel_size[1]) # define a random kernel based on the kernel parameters\n",
    "    kernels.append(kernel)"
   ]
  },
  {
   "cell_type": "code",
   "execution_count": 284,
   "id": "29c79bef",
   "metadata": {},
   "outputs": [
    {
     "name": "stdout",
     "output_type": "stream",
     "text": [
      "*** Conv2DPytTestGroups output ***\n",
      "[[[[0.70427929 2.82019084 0.40261863]\n",
      "   [1.54349942 3.35092143 1.13886681]\n",
      "   [0.15326395 1.31998229 0.81070694]]\n",
      "\n",
      "  [[0.54893892 2.10956146 0.52147893]\n",
      "   [2.04195267 3.94973766 1.2034504 ]\n",
      "   [0.55683908 1.47607389 0.69651989]]\n",
      "\n",
      "  [[0.62516699 1.18566361 0.4936451 ]\n",
      "   [2.59164193 3.02877504 0.71158585]\n",
      "   [0.76244125 1.96040352 0.3562567 ]]\n",
      "\n",
      "  [[0.6692644  1.53056299 1.11834824]\n",
      "   [1.32763088 2.89185683 1.74017708]\n",
      "   [0.48735152 1.84209336 1.11125937]]]\n",
      "\n",
      "\n",
      " [[[0.6128883  1.14325889 0.70231473]\n",
      "   [2.3061121  2.80073564 0.67622515]\n",
      "   [0.48600849 1.42516353 1.03900796]]\n",
      "\n",
      "  [[0.58537121 0.96336564 0.70591761]\n",
      "   [1.7755101  2.7285069  0.59874787]\n",
      "   [0.836532   2.13708475 0.83282811]]\n",
      "\n",
      "  [[0.58247132 1.52525674 0.24810848]\n",
      "   [1.56954752 2.13698187 0.86372561]\n",
      "   [1.16611727 1.18447742 0.20073716]]\n",
      "\n",
      "  [[0.67099181 1.32553127 0.49698438]\n",
      "   [1.23806643 2.68759124 1.63231083]\n",
      "   [0.37516915 1.49920869 0.6274384 ]]]]\n"
     ]
    }
   ],
   "source": [
    "# get Conv2DPytTestGroups output with the random inputs\n",
    "\n",
    "conv2dpyttestgroups = Conv2DPytTestGroups(in_channels, out_channels, kernel_size, stride = stride, padding = padding, dilation = dilation, groups = groups, debug = debug, verbose = False) # call an instance of the class with the input parameters \n",
    "_output = conv2dpyttestgroups.forward(_input, kernels) # perform convolution\n",
    "print(\"*** Conv2DPytTestGroups output ***\")\n",
    "print(_output)"
   ]
  },
  {
   "cell_type": "code",
   "execution_count": 285,
   "id": "df346af0",
   "metadata": {},
   "outputs": [
    {
     "name": "stdout",
     "output_type": "stream",
     "text": [
      "*** PyTorch output ***\n",
      "tensor([[[[0.7043, 2.8202, 0.4026],\n",
      "          [1.5435, 3.3509, 1.1389],\n",
      "          [0.1533, 1.3200, 0.8107]],\n",
      "\n",
      "         [[0.5489, 2.1096, 0.5215],\n",
      "          [2.0420, 3.9497, 1.2035],\n",
      "          [0.5568, 1.4761, 0.6965]],\n",
      "\n",
      "         [[0.6252, 1.1857, 0.4936],\n",
      "          [2.5916, 3.0288, 0.7116],\n",
      "          [0.7624, 1.9604, 0.3563]],\n",
      "\n",
      "         [[0.6693, 1.5306, 1.1183],\n",
      "          [1.3276, 2.8919, 1.7402],\n",
      "          [0.4874, 1.8421, 1.1113]]],\n",
      "\n",
      "\n",
      "        [[[0.6129, 1.1433, 0.7023],\n",
      "          [2.3061, 2.8007, 0.6762],\n",
      "          [0.4860, 1.4252, 1.0390]],\n",
      "\n",
      "         [[0.5854, 0.9634, 0.7059],\n",
      "          [1.7755, 2.7285, 0.5987],\n",
      "          [0.8365, 2.1371, 0.8328]],\n",
      "\n",
      "         [[0.5825, 1.5253, 0.2481],\n",
      "          [1.5695, 2.1370, 0.8637],\n",
      "          [1.1661, 1.1845, 0.2007]],\n",
      "\n",
      "         [[0.6710, 1.3255, 0.4970],\n",
      "          [1.2381, 2.6876, 1.6323],\n",
      "          [0.3752, 1.4992, 0.6274]]]], dtype=torch.float64)\n"
     ]
    }
   ],
   "source": [
    "# get PyTorch output with the same random inputs as above\n",
    "\n",
    "import torch\n",
    "\n",
    "x = torch.DoubleTensor(_input)\n",
    "weights = torch.stack([torch.DoubleTensor(kernel) for kernel in kernels])\n",
    "output = torch.nn.functional.conv2d(x, weights, stride = stride, padding = padding, groups = groups)\n",
    "print(\"*** PyTorch output ***\")\n",
    "print(output)"
   ]
  },
  {
   "cell_type": "code",
   "execution_count": 286,
   "id": "d8e5a3f5",
   "metadata": {
    "scrolled": true
   },
   "outputs": [
    {
     "name": "stdout",
     "output_type": "stream",
     "text": [
      "True\n"
     ]
    }
   ],
   "source": [
    "# compare outputs of conv-Numpy and PyTorch\n",
    "print(torch.equal(torch.round(torch.DoubleTensor(_output)), torch.round(output))) # need to round the output due to precision difference"
   ]
  },
  {
   "cell_type": "markdown",
   "id": "c87813f3",
   "metadata": {},
   "source": [
    "### Extensive tests (random kernel, random input)"
   ]
  },
  {
   "cell_type": "code",
   "execution_count": 289,
   "id": "8b986f3c",
   "metadata": {},
   "outputs": [],
   "source": [
    "def valid_params(num_tests):\n",
    "    # generates `num_samples` number of valid input and kernel parameters \n",
    "    params_list = []\n",
    "    sample_count = 0\n",
    "    while sample_count < num_tests:\n",
    "        in_channels = np.random.randint(20) + 1 # input channels\n",
    "        out_channels = np.random.randint(in_channels) + 1 # output channels\n",
    "        \n",
    "        ker_h = np.random.randint(20) + 1\n",
    "        ker_w = np.random.randint(20) + 1\n",
    "        kernel_size = (ker_h, ker_w) # kernel size\n",
    "        \n",
    "        padding = np.random.randint(10) + 1 # padding (optional)\n",
    "        stride = np.random.randint(5) + 1 # stride (optional)\n",
    "        dilation = np.random.randint(10) + 1 # dilation factor (optional)\n",
    "        groups = np.random.randint(in_channels) + 1 # groups (optional)\n",
    "        \n",
    "        in_batches = np.random.randint(5) + 1 # input batches\n",
    "        in_h = np.random.randint(30) + 5 # input height\n",
    "        in_w = np.random.randint(30) + 5 # input weight\n",
    "    \n",
    "        ker_h_flag, ker_w_flag, out_h_flag, out_w_flag, in_group_flag, out_group_flag = True, True, True, True, True, True\n",
    "        \n",
    "        if in_h + 2 * padding < dilation * (ker_h - 1) + 1: # check if (dilated) ker_h is valid\n",
    "            ker_h_flag = False\n",
    "        if in_w + 2 * padding < dilation * (ker_w - 1) + 1: # check if (dilated) ker_w is valid\n",
    "            ker_w_flag = False\n",
    "        if ((in_h + 2 * padding - (dilation * (ker_h - 1) + 1)) / stride) + 1 < 0: # check if out_h is valid\n",
    "            out_h_flag = False\n",
    "        if ((in_w + 2 * padding - (dilation * (ker_w - 1) + 1)) / stride) + 1 < 0: # check if out_w is valid\n",
    "            out_w_flag = False\n",
    "        if  in_channels % groups != 0: # check if groups is valid\n",
    "            in_group_flag = False\n",
    "        if out_channels % groups != 0: # check if groups is valid\n",
    "            out_group_flag = False\n",
    "        \n",
    "        if ker_h_flag and ker_w_flag and out_h_flag and out_w_flag and in_group_flag and out_group_flag:\n",
    "            params_list.append({'in_channels': in_channels, 'out_channels': out_channels, 'kernel_size': kernel_size,\n",
    "                          'padding': padding, 'stride': stride, 'dilation': dilation, 'groups': groups, 'in_batches': in_batches,\n",
    "                          'in_h': in_h, 'in_w': in_w})\n",
    "            sample_count += 1\n",
    "    return params_list"
   ]
  },
  {
   "cell_type": "code",
   "execution_count": 290,
   "id": "472a4c0f",
   "metadata": {},
   "outputs": [
    {
     "name": "stdout",
     "output_type": "stream",
     "text": [
      "Number of tests: 100\n",
      "\n",
      "\n"
     ]
    },
    {
     "name": "stderr",
     "output_type": "stream",
     "text": [
      "\r",
      "  0%|                                                   | 0/100 [00:00<?, ?it/s]"
     ]
    },
    {
     "name": "stdout",
     "output_type": "stream",
     "text": [
      "Test: 0\n",
      "Params: {'in_channels': 1, 'out_channels': 1, 'kernel_size': (5, 10), 'padding': 3, 'stride': 1, 'dilation': 2, 'groups': 1, 'in_batches': 4, 'in_h': 7, 'in_w': 20}\n",
      "invalid input parameters: output width is negative\n",
      "Result: True\n",
      "\n",
      "\n",
      "Test: 1\n",
      "Params: {'in_channels': 3, 'out_channels': 3, 'kernel_size': (10, 18), 'padding': 3, 'stride': 2, 'dilation': 1, 'groups': 3, 'in_batches': 5, 'in_h': 15, 'in_w': 12}\n",
      "Result: True\n",
      "\n",
      "\n",
      "Test: 2\n",
      "Params: {'in_channels': 1, 'out_channels': 1, 'kernel_size': (2, 1), 'padding': 1, 'stride': 1, 'dilation': 5, 'groups': 1, 'in_batches': 3, 'in_h': 16, 'in_w': 20}\n",
      "Result: True\n",
      "\n",
      "\n",
      "Test: 3\n",
      "Params: {'in_channels': 13, 'out_channels': 13, 'kernel_size': (4, 6), 'padding': 6, 'stride': 5, 'dilation': 3, 'groups': 13, 'in_batches': 5, 'in_h': 19, 'in_w': 20}\n"
     ]
    },
    {
     "name": "stderr",
     "output_type": "stream",
     "text": [
      "\r",
      "  4%|█▋                                         | 4/100 [00:00<00:13,  6.94it/s]"
     ]
    },
    {
     "name": "stdout",
     "output_type": "stream",
     "text": [
      "Result: True\n",
      "\n",
      "\n",
      "Test: 4\n",
      "Params: {'in_channels': 3, 'out_channels': 1, 'kernel_size': (3, 11), 'padding': 10, 'stride': 3, 'dilation': 3, 'groups': 1, 'in_batches': 3, 'in_h': 34, 'in_w': 21}\n"
     ]
    },
    {
     "name": "stderr",
     "output_type": "stream",
     "text": [
      "  6%|██▌                                        | 6/100 [00:01<00:16,  5.58it/s]"
     ]
    },
    {
     "name": "stdout",
     "output_type": "stream",
     "text": [
      "Result: True\n",
      "\n",
      "\n",
      "Test: 5\n",
      "Params: {'in_channels': 1, 'out_channels': 1, 'kernel_size': (1, 6), 'padding': 10, 'stride': 1, 'dilation': 3, 'groups': 1, 'in_batches': 5, 'in_h': 31, 'in_w': 10}\n",
      "Result: True\n",
      "\n",
      "\n",
      "Test: 6\n",
      "Params: {'in_channels': 2, 'out_channels': 2, 'kernel_size': (5, 2), 'padding': 4, 'stride': 4, 'dilation': 3, 'groups': 1, 'in_batches': 4, 'in_h': 18, 'in_w': 32}\n"
     ]
    },
    {
     "name": "stderr",
     "output_type": "stream",
     "text": [
      "\r",
      "  7%|███                                        | 7/100 [00:01<00:16,  5.59it/s]"
     ]
    },
    {
     "name": "stdout",
     "output_type": "stream",
     "text": [
      "Result: True\n",
      "\n",
      "\n",
      "Test: 7\n",
      "Params: {'in_channels': 11, 'out_channels': 3, 'kernel_size': (10, 5), 'padding': 2, 'stride': 2, 'dilation': 2, 'groups': 1, 'in_batches': 4, 'in_h': 15, 'in_w': 24}\n"
     ]
    },
    {
     "name": "stderr",
     "output_type": "stream",
     "text": [
      "\r",
      "  8%|███▍                                       | 8/100 [00:01<00:27,  3.34it/s]"
     ]
    },
    {
     "name": "stdout",
     "output_type": "stream",
     "text": [
      "Result: True\n",
      "\n",
      "\n",
      "Test: 8\n",
      "Params: {'in_channels': 1, 'out_channels': 1, 'kernel_size': (8, 13), 'padding': 9, 'stride': 1, 'dilation': 2, 'groups': 1, 'in_batches': 5, 'in_h': 12, 'in_w': 26}\n"
     ]
    },
    {
     "name": "stderr",
     "output_type": "stream",
     "text": [
      "\r",
      "  9%|███▊                                       | 9/100 [00:03<01:03,  1.44it/s]"
     ]
    },
    {
     "name": "stdout",
     "output_type": "stream",
     "text": [
      "Result: True\n",
      "\n",
      "\n",
      "Test: 9\n",
      "Params: {'in_channels': 2, 'out_channels': 2, 'kernel_size': (9, 10), 'padding': 7, 'stride': 2, 'dilation': 2, 'groups': 2, 'in_batches': 4, 'in_h': 25, 'in_w': 24}\n"
     ]
    },
    {
     "name": "stderr",
     "output_type": "stream",
     "text": [
      "\r",
      " 10%|████▏                                     | 10/100 [00:04<01:19,  1.13it/s]"
     ]
    },
    {
     "name": "stdout",
     "output_type": "stream",
     "text": [
      "Result: True\n",
      "\n",
      "\n",
      "Test: 10\n",
      "Params: {'in_channels': 1, 'out_channels': 1, 'kernel_size': (4, 13), 'padding': 8, 'stride': 4, 'dilation': 1, 'groups': 1, 'in_batches': 4, 'in_h': 6, 'in_w': 20}\n",
      "Result: True\n",
      "\n",
      "\n",
      "Test: 11\n",
      "Params: {'in_channels': 6, 'out_channels': 2, 'kernel_size': (16, 12), 'padding': 3, 'stride': 4, 'dilation': 1, 'groups': 1, 'in_batches': 3, 'in_h': 19, 'in_w': 33}\n"
     ]
    },
    {
     "name": "stderr",
     "output_type": "stream",
     "text": [
      " 13%|█████▍                                    | 13/100 [00:05<00:42,  2.05it/s]"
     ]
    },
    {
     "name": "stdout",
     "output_type": "stream",
     "text": [
      "Result: True\n",
      "\n",
      "\n",
      "Test: 12\n",
      "Params: {'in_channels': 6, 'out_channels': 3, 'kernel_size': (7, 3), 'padding': 6, 'stride': 5, 'dilation': 2, 'groups': 1, 'in_batches': 3, 'in_h': 6, 'in_w': 31}\n",
      "Result: True\n",
      "\n",
      "\n",
      "Test: 13\n",
      "Params: {'in_channels': 2, 'out_channels': 2, 'kernel_size': (3, 4), 'padding': 3, 'stride': 4, 'dilation': 9, 'groups': 1, 'in_batches': 3, 'in_h': 16, 'in_w': 33}\n",
      "invalid input parameters: output width is negative\n",
      "Result: True\n",
      "\n",
      "\n",
      "Test: 14\n",
      "Params: {'in_channels': 9, 'out_channels': 3, 'kernel_size': (6, 9), 'padding': 2, 'stride': 3, 'dilation': 1, 'groups': 3, 'in_batches': 2, 'in_h': 18, 'in_w': 6}\n",
      "Result: False\n",
      "\n",
      "\n",
      "Test: 15\n",
      "Params: {'in_channels': 16, 'out_channels': 1, 'kernel_size': (3, 1), 'padding': 8, 'stride': 3, 'dilation': 6, 'groups': 1, 'in_batches': 5, 'in_h': 6, 'in_w': 11}\n"
     ]
    },
    {
     "name": "stderr",
     "output_type": "stream",
     "text": [
      "\r",
      " 16%|██████▋                                   | 16/100 [00:05<00:22,  3.78it/s]"
     ]
    },
    {
     "name": "stdout",
     "output_type": "stream",
     "text": [
      "Result: True\n",
      "\n",
      "\n",
      "Test: 16\n",
      "Params: {'in_channels': 3, 'out_channels': 3, 'kernel_size': (12, 12), 'padding': 10, 'stride': 3, 'dilation': 2, 'groups': 1, 'in_batches': 4, 'in_h': 32, 'in_w': 21}\n"
     ]
    },
    {
     "name": "stderr",
     "output_type": "stream",
     "text": [
      "\r",
      " 17%|███████▏                                  | 17/100 [00:10<01:32,  1.11s/it]"
     ]
    },
    {
     "name": "stdout",
     "output_type": "stream",
     "text": [
      "Result: True\n",
      "\n",
      "\n",
      "Test: 17\n",
      "Params: {'in_channels': 3, 'out_channels': 3, 'kernel_size': (18, 1), 'padding': 9, 'stride': 3, 'dilation': 1, 'groups': 1, 'in_batches': 4, 'in_h': 14, 'in_w': 9}\n",
      "Result: True\n",
      "\n",
      "\n",
      "Test: 18\n",
      "Params: {'in_channels': 11, 'out_channels': 5, 'kernel_size': (19, 17), 'padding': 10, 'stride': 3, 'dilation': 1, 'groups': 1, 'in_batches': 1, 'in_h': 31, 'in_w': 27}\n"
     ]
    },
    {
     "name": "stderr",
     "output_type": "stream",
     "text": [
      "\r",
      " 19%|███████▉                                  | 19/100 [00:15<02:16,  1.68s/it]"
     ]
    },
    {
     "name": "stdout",
     "output_type": "stream",
     "text": [
      "Result: True\n",
      "\n",
      "\n",
      "Test: 19\n",
      "Params: {'in_channels': 4, 'out_channels': 2, 'kernel_size': (15, 8), 'padding': 7, 'stride': 2, 'dilation': 2, 'groups': 2, 'in_batches': 3, 'in_h': 16, 'in_w': 32}\n"
     ]
    },
    {
     "name": "stderr",
     "output_type": "stream",
     "text": [
      "\r",
      " 20%|████████▍                                 | 20/100 [00:15<01:50,  1.38s/it]"
     ]
    },
    {
     "name": "stdout",
     "output_type": "stream",
     "text": [
      "Result: False\n",
      "\n",
      "\n",
      "Test: 20\n",
      "Params: {'in_channels': 1, 'out_channels': 1, 'kernel_size': (17, 9), 'padding': 7, 'stride': 3, 'dilation': 1, 'groups': 1, 'in_batches': 1, 'in_h': 18, 'in_w': 22}\n",
      "Result: True\n",
      "\n",
      "\n",
      "Test: 21\n",
      "Params: {'in_channels': 3, 'out_channels': 1, 'kernel_size': (5, 2), 'padding': 4, 'stride': 5, 'dilation': 9, 'groups': 1, 'in_batches': 1, 'in_h': 32, 'in_w': 6}\n",
      "Result: True\n",
      "\n",
      "\n",
      "Test: 22\n",
      "Params: {'in_channels': 5, 'out_channels': 3, 'kernel_size': (13, 5), 'padding': 6, 'stride': 1, 'dilation': 2, 'groups': 1, 'in_batches': 4, 'in_h': 17, 'in_w': 25}\n"
     ]
    },
    {
     "name": "stderr",
     "output_type": "stream",
     "text": [
      "\r",
      " 23%|█████████▋                                | 23/100 [00:20<01:56,  1.51s/it]"
     ]
    },
    {
     "name": "stdout",
     "output_type": "stream",
     "text": [
      "Result: True\n",
      "\n",
      "\n",
      "Test: 23\n",
      "Params: {'in_channels': 2, 'out_channels': 2, 'kernel_size': (3, 18), 'padding': 10, 'stride': 4, 'dilation': 1, 'groups': 2, 'in_batches': 4, 'in_h': 9, 'in_w': 22}\n",
      "Result: True\n",
      "\n",
      "\n",
      "Test: 24\n",
      "Params: {'in_channels': 1, 'out_channels': 1, 'kernel_size': (11, 9), 'padding': 8, 'stride': 2, 'dilation': 1, 'groups': 1, 'in_batches': 5, 'in_h': 29, 'in_w': 8}\n"
     ]
    },
    {
     "name": "stderr",
     "output_type": "stream",
     "text": [
      "\r",
      " 25%|██████████▌                               | 25/100 [00:21<01:21,  1.08s/it]"
     ]
    },
    {
     "name": "stdout",
     "output_type": "stream",
     "text": [
      "Result: True\n",
      "\n",
      "\n",
      "Test: 25\n",
      "Params: {'in_channels': 2, 'out_channels': 1, 'kernel_size': (10, 3), 'padding': 5, 'stride': 5, 'dilation': 2, 'groups': 1, 'in_batches': 2, 'in_h': 23, 'in_w': 25}\n",
      "Result: True\n",
      "\n",
      "\n",
      "Test: 26\n",
      "Params: {'in_channels': 2, 'out_channels': 1, 'kernel_size': (12, 18), 'padding': 8, 'stride': 3, 'dilation': 1, 'groups': 1, 'in_batches': 5, 'in_h': 34, 'in_w': 7}\n"
     ]
    },
    {
     "name": "stderr",
     "output_type": "stream",
     "text": [
      "\r",
      " 27%|███████████▎                              | 27/100 [00:21<00:57,  1.28it/s]"
     ]
    },
    {
     "name": "stdout",
     "output_type": "stream",
     "text": [
      "Result: True\n",
      "\n",
      "\n",
      "Test: 27\n",
      "Params: {'in_channels': 2, 'out_channels': 2, 'kernel_size': (11, 12), 'padding': 10, 'stride': 2, 'dilation': 4, 'groups': 1, 'in_batches': 2, 'in_h': 30, 'in_w': 25}\n"
     ]
    },
    {
     "name": "stderr",
     "output_type": "stream",
     "text": [
      "\r",
      " 28%|███████████▊                              | 28/100 [00:21<00:49,  1.46it/s]"
     ]
    },
    {
     "name": "stdout",
     "output_type": "stream",
     "text": [
      "Result: True\n",
      "\n",
      "\n",
      "Test: 28\n",
      "Params: {'in_channels': 15, 'out_channels': 7, 'kernel_size': (20, 14), 'padding': 8, 'stride': 4, 'dilation': 1, 'groups': 1, 'in_batches': 2, 'in_h': 23, 'in_w': 17}\n"
     ]
    },
    {
     "name": "stderr",
     "output_type": "stream",
     "text": [
      "\r",
      " 29%|████████████▏                             | 29/100 [00:25<01:40,  1.41s/it]"
     ]
    },
    {
     "name": "stdout",
     "output_type": "stream",
     "text": [
      "Result: True\n",
      "\n",
      "\n",
      "Test: 29\n",
      "Params: {'in_channels': 3, 'out_channels': 2, 'kernel_size': (2, 2), 'padding': 2, 'stride': 3, 'dilation': 8, 'groups': 1, 'in_batches': 5, 'in_h': 34, 'in_w': 26}\n"
     ]
    },
    {
     "name": "stderr",
     "output_type": "stream",
     "text": [
      "\r",
      " 30%|████████████▌                             | 30/100 [00:26<01:23,  1.20s/it]"
     ]
    },
    {
     "name": "stdout",
     "output_type": "stream",
     "text": [
      "Result: True\n",
      "\n",
      "\n",
      "Test: 30\n",
      "Params: {'in_channels': 4, 'out_channels': 2, 'kernel_size': (9, 16), 'padding': 8, 'stride': 3, 'dilation': 2, 'groups': 1, 'in_batches': 3, 'in_h': 26, 'in_w': 16}\n"
     ]
    },
    {
     "name": "stderr",
     "output_type": "stream",
     "text": [
      "\r",
      " 31%|█████████████                             | 31/100 [00:26<01:06,  1.03it/s]"
     ]
    },
    {
     "name": "stdout",
     "output_type": "stream",
     "text": [
      "Result: True\n",
      "\n",
      "\n",
      "Test: 31\n",
      "Params: {'in_channels': 6, 'out_channels': 4, 'kernel_size': (6, 8), 'padding': 6, 'stride': 1, 'dilation': 1, 'groups': 1, 'in_batches': 1, 'in_h': 19, 'in_w': 27}\n"
     ]
    },
    {
     "name": "stderr",
     "output_type": "stream",
     "text": [
      "\r",
      " 32%|█████████████▍                            | 32/100 [00:30<01:51,  1.64s/it]"
     ]
    },
    {
     "name": "stdout",
     "output_type": "stream",
     "text": [
      "Result: True\n",
      "\n",
      "\n",
      "Test: 32\n",
      "Params: {'in_channels': 3, 'out_channels': 2, 'kernel_size': (11, 9), 'padding': 4, 'stride': 5, 'dilation': 1, 'groups': 1, 'in_batches': 3, 'in_h': 18, 'in_w': 18}\n",
      "Result: True\n",
      "\n",
      "\n",
      "Test: 33\n",
      "Params: {'in_channels': 5, 'out_channels': 4, 'kernel_size': (15, 3), 'padding': 9, 'stride': 5, 'dilation': 1, 'groups': 1, 'in_batches': 4, 'in_h': 6, 'in_w': 19}\n"
     ]
    },
    {
     "name": "stderr",
     "output_type": "stream",
     "text": [
      "\r",
      " 34%|██████████████▎                           | 34/100 [00:30<01:05,  1.01it/s]"
     ]
    },
    {
     "name": "stdout",
     "output_type": "stream",
     "text": [
      "Result: True\n",
      "\n",
      "\n",
      "Test: 34\n",
      "Params: {'in_channels': 8, 'out_channels': 7, 'kernel_size': (13, 4), 'padding': 9, 'stride': 5, 'dilation': 2, 'groups': 1, 'in_batches': 5, 'in_h': 24, 'in_w': 23}\n"
     ]
    },
    {
     "name": "stderr",
     "output_type": "stream",
     "text": [
      "\r",
      " 35%|██████████████▋                           | 35/100 [00:34<01:53,  1.74s/it]"
     ]
    },
    {
     "name": "stdout",
     "output_type": "stream",
     "text": [
      "Result: True\n",
      "\n",
      "\n",
      "Test: 35\n",
      "Params: {'in_channels': 3, 'out_channels': 3, 'kernel_size': (5, 4), 'padding': 7, 'stride': 4, 'dilation': 6, 'groups': 3, 'in_batches': 2, 'in_h': 18, 'in_w': 16}\n",
      "Result: True\n",
      "\n",
      "\n",
      "Test: 36\n",
      "Params: {'in_channels': 1, 'out_channels': 1, 'kernel_size': (16, 3), 'padding': 9, 'stride': 1, 'dilation': 2, 'groups': 1, 'in_batches': 5, 'in_h': 31, 'in_w': 30}\n"
     ]
    },
    {
     "name": "stderr",
     "output_type": "stream",
     "text": [
      " 39%|████████████████▍                         | 39/100 [00:36<00:56,  1.07it/s]"
     ]
    },
    {
     "name": "stdout",
     "output_type": "stream",
     "text": [
      "Result: True\n",
      "\n",
      "\n",
      "Test: 37\n",
      "Params: {'in_channels': 1, 'out_channels': 1, 'kernel_size': (11, 10), 'padding': 8, 'stride': 5, 'dilation': 1, 'groups': 1, 'in_batches': 1, 'in_h': 12, 'in_w': 14}\n",
      "Result: True\n",
      "\n",
      "\n",
      "Test: 38\n",
      "Params: {'in_channels': 6, 'out_channels': 6, 'kernel_size': (2, 12), 'padding': 4, 'stride': 2, 'dilation': 1, 'groups': 2, 'in_batches': 1, 'in_h': 10, 'in_w': 20}\n",
      "Result: False\n",
      "\n",
      "\n",
      "Test: 39\n",
      "Params: {'in_channels': 4, 'out_channels': 2, 'kernel_size': (9, 11), 'padding': 9, 'stride': 4, 'dilation': 1, 'groups': 2, 'in_batches': 4, 'in_h': 32, 'in_w': 27}\n"
     ]
    },
    {
     "name": "stderr",
     "output_type": "stream",
     "text": [
      "\r",
      " 40%|████████████████▊                         | 40/100 [00:36<00:49,  1.21it/s]"
     ]
    },
    {
     "name": "stdout",
     "output_type": "stream",
     "text": [
      "Result: False\n",
      "\n",
      "\n",
      "Test: 40\n",
      "Params: {'in_channels': 5, 'out_channels': 3, 'kernel_size': (1, 11), 'padding': 9, 'stride': 1, 'dilation': 4, 'groups': 1, 'in_batches': 3, 'in_h': 25, 'in_w': 34}\n"
     ]
    },
    {
     "name": "stderr",
     "output_type": "stream",
     "text": [
      "\r",
      " 41%|█████████████████▏                        | 41/100 [00:40<01:20,  1.36s/it]"
     ]
    },
    {
     "name": "stdout",
     "output_type": "stream",
     "text": [
      "Result: True\n",
      "\n",
      "\n",
      "Test: 41\n",
      "Params: {'in_channels': 1, 'out_channels': 1, 'kernel_size': (1, 6), 'padding': 5, 'stride': 5, 'dilation': 1, 'groups': 1, 'in_batches': 2, 'in_h': 11, 'in_w': 27}\n",
      "Result: True\n",
      "\n",
      "\n",
      "Test: 42\n",
      "Params: {'in_channels': 14, 'out_channels': 4, 'kernel_size': (14, 9), 'padding': 8, 'stride': 2, 'dilation': 1, 'groups': 1, 'in_batches': 1, 'in_h': 27, 'in_w': 12}\n"
     ]
    },
    {
     "name": "stderr",
     "output_type": "stream",
     "text": [
      " 44%|██████████████████▍                       | 44/100 [00:43<01:05,  1.17s/it]"
     ]
    },
    {
     "name": "stdout",
     "output_type": "stream",
     "text": [
      "Result: True\n",
      "\n",
      "\n",
      "Test: 43\n",
      "Params: {'in_channels': 2, 'out_channels': 2, 'kernel_size': (9, 3), 'padding': 5, 'stride': 1, 'dilation': 3, 'groups': 1, 'in_batches': 2, 'in_h': 16, 'in_w': 27}\n",
      "Result: True\n",
      "\n",
      "\n",
      "Test: 44\n",
      "Params: {'in_channels': 7, 'out_channels': 6, 'kernel_size': (12, 4), 'padding': 8, 'stride': 4, 'dilation': 1, 'groups': 1, 'in_batches': 4, 'in_h': 8, 'in_w': 8}\n"
     ]
    },
    {
     "name": "stderr",
     "output_type": "stream",
     "text": [
      "\r",
      " 45%|██████████████████▉                       | 45/100 [00:43<00:55,  1.02s/it]"
     ]
    },
    {
     "name": "stdout",
     "output_type": "stream",
     "text": [
      "Result: True\n",
      "\n",
      "\n",
      "Test: 45\n",
      "Params: {'in_channels': 2, 'out_channels': 2, 'kernel_size': (10, 9), 'padding': 7, 'stride': 1, 'dilation': 4, 'groups': 1, 'in_batches': 2, 'in_h': 24, 'in_w': 32}\n"
     ]
    },
    {
     "name": "stderr",
     "output_type": "stream",
     "text": [
      "\r",
      " 46%|███████████████████▎                      | 46/100 [00:45<00:56,  1.05s/it]"
     ]
    },
    {
     "name": "stdout",
     "output_type": "stream",
     "text": [
      "Result: True\n",
      "\n",
      "\n",
      "Test: 46\n",
      "Params: {'in_channels': 9, 'out_channels': 2, 'kernel_size': (13, 1), 'padding': 9, 'stride': 2, 'dilation': 3, 'groups': 1, 'in_batches': 5, 'in_h': 22, 'in_w': 18}\n"
     ]
    },
    {
     "name": "stderr",
     "output_type": "stream",
     "text": [
      "\r",
      " 47%|███████████████████▋                      | 47/100 [00:45<00:45,  1.16it/s]"
     ]
    },
    {
     "name": "stdout",
     "output_type": "stream",
     "text": [
      "Result: True\n",
      "\n",
      "\n",
      "Test: 47\n",
      "Params: {'in_channels': 18, 'out_channels': 17, 'kernel_size': (10, 1), 'padding': 9, 'stride': 3, 'dilation': 1, 'groups': 1, 'in_batches': 1, 'in_h': 6, 'in_w': 13}\n"
     ]
    },
    {
     "name": "stderr",
     "output_type": "stream",
     "text": [
      "\r",
      " 48%|████████████████████▏                     | 48/100 [00:45<00:39,  1.32it/s]"
     ]
    },
    {
     "name": "stdout",
     "output_type": "stream",
     "text": [
      "Result: True\n",
      "\n",
      "\n",
      "Test: 48\n",
      "Params: {'in_channels': 4, 'out_channels': 1, 'kernel_size': (12, 9), 'padding': 7, 'stride': 3, 'dilation': 2, 'groups': 1, 'in_batches': 2, 'in_h': 15, 'in_w': 28}\n"
     ]
    },
    {
     "name": "stderr",
     "output_type": "stream",
     "text": [
      " 50%|█████████████████████                     | 50/100 [00:46<00:23,  2.17it/s]"
     ]
    },
    {
     "name": "stdout",
     "output_type": "stream",
     "text": [
      "Result: True\n",
      "\n",
      "\n",
      "Test: 49\n",
      "Params: {'in_channels': 6, 'out_channels': 4, 'kernel_size': (10, 12), 'padding': 5, 'stride': 5, 'dilation': 1, 'groups': 2, 'in_batches': 1, 'in_h': 25, 'in_w': 24}\n",
      "Result: True\n",
      "\n",
      "\n",
      "Test: 50\n",
      "Params: {'in_channels': 1, 'out_channels': 1, 'kernel_size': (3, 17), 'padding': 4, 'stride': 2, 'dilation': 1, 'groups': 1, 'in_batches': 1, 'in_h': 6, 'in_w': 34}\n",
      "invalid input parameters: output width is negative\n",
      "Result: True\n",
      "\n",
      "\n",
      "Test: 51\n",
      "Params: {'in_channels': 4, 'out_channels': 4, 'kernel_size': (14, 20), 'padding': 8, 'stride': 5, 'dilation': 1, 'groups': 2, 'in_batches': 5, 'in_h': 30, 'in_w': 13}\n"
     ]
    },
    {
     "name": "stderr",
     "output_type": "stream",
     "text": [
      "\r",
      " 52%|█████████████████████▊                    | 52/100 [00:46<00:16,  2.90it/s]"
     ]
    },
    {
     "name": "stdout",
     "output_type": "stream",
     "text": [
      "Result: True\n",
      "\n",
      "\n",
      "Test: 52\n",
      "Params: {'in_channels': 4, 'out_channels': 3, 'kernel_size': (8, 4), 'padding': 8, 'stride': 2, 'dilation': 5, 'groups': 1, 'in_batches': 3, 'in_h': 20, 'in_w': 18}\n"
     ]
    },
    {
     "name": "stderr",
     "output_type": "stream",
     "text": [
      "\r",
      " 53%|██████████████████████▎                   | 53/100 [00:47<00:17,  2.64it/s]"
     ]
    },
    {
     "name": "stdout",
     "output_type": "stream",
     "text": [
      "Result: True\n",
      "\n",
      "\n",
      "Test: 53\n",
      "Params: {'in_channels': 9, 'out_channels': 3, 'kernel_size': (4, 1), 'padding': 10, 'stride': 3, 'dilation': 7, 'groups': 1, 'in_batches': 2, 'in_h': 28, 'in_w': 14}\n"
     ]
    },
    {
     "name": "stderr",
     "output_type": "stream",
     "text": [
      "\r",
      " 54%|██████████████████████▋                   | 54/100 [00:47<00:17,  2.67it/s]"
     ]
    },
    {
     "name": "stdout",
     "output_type": "stream",
     "text": [
      "Result: True\n",
      "\n",
      "\n",
      "Test: 54\n",
      "Params: {'in_channels': 6, 'out_channels': 2, 'kernel_size': (15, 9), 'padding': 6, 'stride': 2, 'dilation': 2, 'groups': 1, 'in_batches': 4, 'in_h': 29, 'in_w': 5}\n"
     ]
    },
    {
     "name": "stderr",
     "output_type": "stream",
     "text": [
      "\r",
      " 55%|███████████████████████                   | 55/100 [00:47<00:17,  2.60it/s]"
     ]
    },
    {
     "name": "stdout",
     "output_type": "stream",
     "text": [
      "Result: True\n",
      "\n",
      "\n",
      "Test: 55\n",
      "Params: {'in_channels': 1, 'out_channels': 1, 'kernel_size': (4, 7), 'padding': 6, 'stride': 4, 'dilation': 7, 'groups': 1, 'in_batches': 5, 'in_h': 21, 'in_w': 32}\n",
      "invalid input parameters: output width is negative\n",
      "Result: True\n",
      "\n",
      "\n",
      "Test: 56\n",
      "Params: {'in_channels': 4, 'out_channels': 3, 'kernel_size': (1, 13), 'padding': 3, 'stride': 5, 'dilation': 2, 'groups': 1, 'in_batches': 4, 'in_h': 11, 'in_w': 32}\n",
      "invalid input parameters: output width is negative\n",
      "Result: True\n",
      "\n",
      "\n",
      "Test: 57\n",
      "Params: {'in_channels': 1, 'out_channels': 1, 'kernel_size': (4, 2), 'padding': 4, 'stride': 3, 'dilation': 2, 'groups': 1, 'in_batches': 1, 'in_h': 34, 'in_w': 27}\n",
      "Result: True\n",
      "\n",
      "\n",
      "Test: 58\n",
      "Params: {'in_channels': 10, 'out_channels': 3, 'kernel_size': (11, 12), 'padding': 5, 'stride': 3, 'dilation': 1, 'groups': 1, 'in_batches': 4, 'in_h': 28, 'in_w': 25}\n"
     ]
    },
    {
     "name": "stderr",
     "output_type": "stream",
     "text": [
      "\r",
      " 59%|████████████████████████▊                 | 59/100 [00:50<00:24,  1.66it/s]"
     ]
    },
    {
     "name": "stdout",
     "output_type": "stream",
     "text": [
      "Result: True\n",
      "\n",
      "\n",
      "Test: 59\n",
      "Params: {'in_channels': 4, 'out_channels': 2, 'kernel_size': (12, 9), 'padding': 10, 'stride': 5, 'dilation': 3, 'groups': 2, 'in_batches': 3, 'in_h': 18, 'in_w': 18}\n",
      "Result: False\n",
      "\n",
      "\n",
      "Test: 60\n",
      "Params: {'in_channels': 5, 'out_channels': 5, 'kernel_size': (3, 2), 'padding': 8, 'stride': 5, 'dilation': 5, 'groups': 1, 'in_batches': 3, 'in_h': 11, 'in_w': 25}\n"
     ]
    },
    {
     "name": "stderr",
     "output_type": "stream",
     "text": [
      " 62%|██████████████████████████                | 62/100 [00:51<00:16,  2.33it/s]"
     ]
    },
    {
     "name": "stdout",
     "output_type": "stream",
     "text": [
      "Result: True\n",
      "\n",
      "\n",
      "Test: 61\n",
      "Params: {'in_channels': 5, 'out_channels': 2, 'kernel_size': (11, 2), 'padding': 6, 'stride': 2, 'dilation': 1, 'groups': 1, 'in_batches': 2, 'in_h': 16, 'in_w': 13}\n",
      "Result: True\n",
      "\n",
      "\n",
      "Test: 62\n",
      "Params: {'in_channels': 1, 'out_channels': 1, 'kernel_size': (3, 7), 'padding': 3, 'stride': 2, 'dilation': 5, 'groups': 1, 'in_batches': 5, 'in_h': 32, 'in_w': 33}\n"
     ]
    },
    {
     "name": "stderr",
     "output_type": "stream",
     "text": [
      " 64%|██████████████████████████▉               | 64/100 [00:51<00:12,  2.87it/s]"
     ]
    },
    {
     "name": "stdout",
     "output_type": "stream",
     "text": [
      "Result: True\n",
      "\n",
      "\n",
      "Test: 63\n",
      "Params: {'in_channels': 2, 'out_channels': 2, 'kernel_size': (10, 9), 'padding': 7, 'stride': 4, 'dilation': 3, 'groups': 1, 'in_batches': 5, 'in_h': 16, 'in_w': 29}\n",
      "Result: True\n",
      "\n",
      "\n",
      "Test: 64\n",
      "Params: {'in_channels': 2, 'out_channels': 1, 'kernel_size': (16, 3), 'padding': 4, 'stride': 2, 'dilation': 2, 'groups': 1, 'in_batches': 4, 'in_h': 30, 'in_w': 18}\n"
     ]
    },
    {
     "name": "stderr",
     "output_type": "stream",
     "text": [
      "\r",
      " 65%|███████████████████████████▎              | 65/100 [00:52<00:10,  3.37it/s]"
     ]
    },
    {
     "name": "stdout",
     "output_type": "stream",
     "text": [
      "Result: True\n",
      "\n",
      "\n",
      "Test: 65\n",
      "Params: {'in_channels': 7, 'out_channels': 4, 'kernel_size': (1, 5), 'padding': 5, 'stride': 2, 'dilation': 1, 'groups': 1, 'in_batches': 4, 'in_h': 21, 'in_w': 12}\n"
     ]
    },
    {
     "name": "stderr",
     "output_type": "stream",
     "text": [
      "\r",
      " 66%|███████████████████████████▋              | 66/100 [00:52<00:10,  3.18it/s]"
     ]
    },
    {
     "name": "stdout",
     "output_type": "stream",
     "text": [
      "Result: True\n",
      "\n",
      "\n",
      "Test: 66\n",
      "Params: {'in_channels': 11, 'out_channels': 5, 'kernel_size': (4, 7), 'padding': 9, 'stride': 4, 'dilation': 1, 'groups': 1, 'in_batches': 5, 'in_h': 5, 'in_w': 8}\n"
     ]
    },
    {
     "name": "stderr",
     "output_type": "stream",
     "text": [
      "\r",
      " 67%|████████████████████████████▏             | 67/100 [00:53<00:14,  2.28it/s]"
     ]
    },
    {
     "name": "stdout",
     "output_type": "stream",
     "text": [
      "Result: True\n",
      "\n",
      "\n",
      "Test: 67\n",
      "Params: {'in_channels': 9, 'out_channels': 7, 'kernel_size': (9, 7), 'padding': 8, 'stride': 1, 'dilation': 4, 'groups': 1, 'in_batches': 2, 'in_h': 19, 'in_w': 21}\n"
     ]
    },
    {
     "name": "stderr",
     "output_type": "stream",
     "text": [
      " 69%|████████████████████████████▉             | 69/100 [01:04<01:16,  2.45s/it]"
     ]
    },
    {
     "name": "stdout",
     "output_type": "stream",
     "text": [
      "Result: True\n",
      "\n",
      "\n",
      "Test: 68\n",
      "Params: {'in_channels': 1, 'out_channels': 1, 'kernel_size': (18, 9), 'padding': 4, 'stride': 2, 'dilation': 1, 'groups': 1, 'in_batches': 2, 'in_h': 22, 'in_w': 13}\n",
      "Result: True\n",
      "\n",
      "\n",
      "Test: 69\n",
      "Params: {'in_channels': 3, 'out_channels': 1, 'kernel_size': (3, 13), 'padding': 9, 'stride': 5, 'dilation': 3, 'groups': 1, 'in_batches': 3, 'in_h': 23, 'in_w': 20}\n",
      "Result: True\n",
      "\n",
      "\n",
      "Test: 70\n",
      "Params: {'in_channels': 1, 'out_channels': 1, 'kernel_size': (17, 17), 'padding': 7, 'stride': 4, 'dilation': 1, 'groups': 1, 'in_batches': 4, 'in_h': 20, 'in_w': 30}\n"
     ]
    },
    {
     "name": "stderr",
     "output_type": "stream",
     "text": [
      "\r",
      " 71%|█████████████████████████████▊            | 71/100 [01:04<00:40,  1.41s/it]"
     ]
    },
    {
     "name": "stdout",
     "output_type": "stream",
     "text": [
      "Result: True\n",
      "\n",
      "\n",
      "Test: 71\n",
      "Params: {'in_channels': 3, 'out_channels': 1, 'kernel_size': (12, 13), 'padding': 10, 'stride': 3, 'dilation': 1, 'groups': 1, 'in_batches': 2, 'in_h': 9, 'in_w': 33}\n"
     ]
    },
    {
     "name": "stderr",
     "output_type": "stream",
     "text": [
      "\r",
      " 72%|██████████████████████████████▏           | 72/100 [01:05<00:32,  1.15s/it]"
     ]
    },
    {
     "name": "stdout",
     "output_type": "stream",
     "text": [
      "Result: True\n",
      "\n",
      "\n",
      "Test: 72\n",
      "Params: {'in_channels': 12, 'out_channels': 12, 'kernel_size': (2, 1), 'padding': 2, 'stride': 1, 'dilation': 7, 'groups': 2, 'in_batches': 5, 'in_h': 18, 'in_w': 26}\n"
     ]
    },
    {
     "name": "stderr",
     "output_type": "stream",
     "text": [
      " 75%|███████████████████████████████▌          | 75/100 [01:11<00:37,  1.49s/it]"
     ]
    },
    {
     "name": "stdout",
     "output_type": "stream",
     "text": [
      "Result: False\n",
      "\n",
      "\n",
      "Test: 73\n",
      "Params: {'in_channels': 8, 'out_channels': 4, 'kernel_size': (18, 8), 'padding': 6, 'stride': 5, 'dilation': 1, 'groups': 4, 'in_batches': 2, 'in_h': 9, 'in_w': 14}\n",
      "Result: False\n",
      "\n",
      "\n",
      "Test: 74\n",
      "Params: {'in_channels': 2, 'out_channels': 2, 'kernel_size': (11, 18), 'padding': 9, 'stride': 5, 'dilation': 1, 'groups': 2, 'in_batches': 4, 'in_h': 27, 'in_w': 8}\n",
      "Result: True\n",
      "\n",
      "\n",
      "Test: 75\n",
      "Params: {'in_channels': 5, 'out_channels': 4, 'kernel_size': (4, 11), 'padding': 9, 'stride': 5, 'dilation': 1, 'groups': 1, 'in_batches': 1, 'in_h': 17, 'in_w': 29}\n"
     ]
    },
    {
     "name": "stderr",
     "output_type": "stream",
     "text": [
      "\r",
      " 76%|███████████████████████████████▉          | 76/100 [01:11<00:28,  1.20s/it]"
     ]
    },
    {
     "name": "stdout",
     "output_type": "stream",
     "text": [
      "Result: True\n",
      "\n",
      "\n",
      "Test: 76\n",
      "Params: {'in_channels': 1, 'out_channels': 1, 'kernel_size': (6, 20), 'padding': 9, 'stride': 2, 'dilation': 1, 'groups': 1, 'in_batches': 4, 'in_h': 22, 'in_w': 29}\n"
     ]
    },
    {
     "name": "stderr",
     "output_type": "stream",
     "text": [
      "\r",
      " 77%|████████████████████████████████▎         | 77/100 [01:12<00:22,  1.02it/s]"
     ]
    },
    {
     "name": "stdout",
     "output_type": "stream",
     "text": [
      "Result: True\n",
      "\n",
      "\n",
      "Test: 77\n",
      "Params: {'in_channels': 4, 'out_channels': 1, 'kernel_size': (1, 7), 'padding': 4, 'stride': 2, 'dilation': 5, 'groups': 1, 'in_batches': 2, 'in_h': 32, 'in_w': 32}\n",
      "Result: True\n",
      "\n",
      "\n",
      "Test: 78\n",
      "Params: {'in_channels': 4, 'out_channels': 1, 'kernel_size': (20, 2), 'padding': 2, 'stride': 1, 'dilation': 1, 'groups': 1, 'in_batches': 2, 'in_h': 34, 'in_w': 16}\n"
     ]
    },
    {
     "name": "stderr",
     "output_type": "stream",
     "text": [
      "\r",
      " 79%|█████████████████████████████████▏        | 79/100 [01:12<00:13,  1.54it/s]"
     ]
    },
    {
     "name": "stdout",
     "output_type": "stream",
     "text": [
      "Result: True\n",
      "\n",
      "\n",
      "Test: 79\n",
      "Params: {'in_channels': 15, 'out_channels': 15, 'kernel_size': (10, 13), 'padding': 10, 'stride': 5, 'dilation': 3, 'groups': 3, 'in_batches': 1, 'in_h': 15, 'in_w': 29}\n"
     ]
    },
    {
     "name": "stderr",
     "output_type": "stream",
     "text": [
      "\r",
      " 80%|█████████████████████████████████▌        | 80/100 [01:14<00:16,  1.19it/s]"
     ]
    },
    {
     "name": "stdout",
     "output_type": "stream",
     "text": [
      "Result: False\n",
      "\n",
      "\n",
      "Test: 80\n",
      "Params: {'in_channels': 1, 'out_channels': 1, 'kernel_size': (9, 7), 'padding': 10, 'stride': 3, 'dilation': 5, 'groups': 1, 'in_batches': 4, 'in_h': 34, 'in_w': 27}\n"
     ]
    },
    {
     "name": "stderr",
     "output_type": "stream",
     "text": [
      "\r",
      " 81%|██████████████████████████████████        | 81/100 [01:14<00:14,  1.35it/s]"
     ]
    },
    {
     "name": "stdout",
     "output_type": "stream",
     "text": [
      "Result: True\n",
      "\n",
      "\n",
      "Test: 81\n",
      "Params: {'in_channels': 15, 'out_channels': 14, 'kernel_size': (5, 2), 'padding': 5, 'stride': 3, 'dilation': 1, 'groups': 1, 'in_batches': 3, 'in_h': 34, 'in_w': 17}\n"
     ]
    },
    {
     "name": "stderr",
     "output_type": "stream",
     "text": [
      "\r",
      " 82%|██████████████████████████████████▍       | 82/100 [01:16<00:21,  1.18s/it]"
     ]
    },
    {
     "name": "stdout",
     "output_type": "stream",
     "text": [
      "Result: True\n",
      "\n",
      "\n",
      "Test: 82\n",
      "Params: {'in_channels': 2, 'out_channels': 2, 'kernel_size': (19, 8), 'padding': 6, 'stride': 1, 'dilation': 1, 'groups': 1, 'in_batches': 3, 'in_h': 18, 'in_w': 6}\n"
     ]
    },
    {
     "name": "stderr",
     "output_type": "stream",
     "text": [
      "\r",
      " 83%|██████████████████████████████████▊       | 83/100 [01:17<00:17,  1.03s/it]"
     ]
    },
    {
     "name": "stdout",
     "output_type": "stream",
     "text": [
      "Result: True\n",
      "\n",
      "\n",
      "Test: 83\n",
      "Params: {'in_channels': 3, 'out_channels': 3, 'kernel_size': (10, 7), 'padding': 10, 'stride': 1, 'dilation': 3, 'groups': 3, 'in_batches': 4, 'in_h': 33, 'in_w': 17}\n"
     ]
    },
    {
     "name": "stderr",
     "output_type": "stream",
     "text": [
      "\r",
      " 84%|███████████████████████████████████▎      | 84/100 [01:26<00:51,  3.21s/it]"
     ]
    },
    {
     "name": "stdout",
     "output_type": "stream",
     "text": [
      "Result: True\n",
      "\n",
      "\n",
      "Test: 84\n",
      "Params: {'in_channels': 6, 'out_channels': 6, 'kernel_size': (6, 4), 'padding': 9, 'stride': 4, 'dilation': 2, 'groups': 3, 'in_batches': 5, 'in_h': 15, 'in_w': 13}\n"
     ]
    },
    {
     "name": "stderr",
     "output_type": "stream",
     "text": [
      "\r",
      " 85%|███████████████████████████████████▋      | 85/100 [01:27<00:37,  2.48s/it]"
     ]
    },
    {
     "name": "stdout",
     "output_type": "stream",
     "text": [
      "Result: False\n",
      "\n",
      "\n",
      "Test: 85\n",
      "Params: {'in_channels': 1, 'out_channels': 1, 'kernel_size': (17, 9), 'padding': 6, 'stride': 4, 'dilation': 1, 'groups': 1, 'in_batches': 4, 'in_h': 10, 'in_w': 33}\n",
      "Result: True\n",
      "\n",
      "\n",
      "Test: 86\n",
      "Params: {'in_channels': 1, 'out_channels': 1, 'kernel_size': (7, 4), 'padding': 10, 'stride': 2, 'dilation': 6, 'groups': 1, 'in_batches': 2, 'in_h': 17, 'in_w': 14}\n",
      "Result: True\n",
      "\n",
      "\n",
      "Test: 87\n",
      "Params: {'in_channels': 18, 'out_channels': 18, 'kernel_size': (13, 12), 'padding': 1, 'stride': 4, 'dilation': 1, 'groups': 9, 'in_batches': 4, 'in_h': 31, 'in_w': 13}\n"
     ]
    },
    {
     "name": "stderr",
     "output_type": "stream",
     "text": [
      "\r",
      " 88%|████████████████████████████████████▉     | 88/100 [01:27<00:14,  1.21s/it]"
     ]
    },
    {
     "name": "stdout",
     "output_type": "stream",
     "text": [
      "Result: False\n",
      "\n",
      "\n",
      "Test: 88\n",
      "Params: {'in_channels': 8, 'out_channels': 2, 'kernel_size': (10, 20), 'padding': 7, 'stride': 3, 'dilation': 1, 'groups': 2, 'in_batches': 4, 'in_h': 22, 'in_w': 23}\n"
     ]
    },
    {
     "name": "stderr",
     "output_type": "stream",
     "text": [
      "\r",
      " 89%|█████████████████████████████████████▍    | 89/100 [01:28<00:12,  1.16s/it]"
     ]
    },
    {
     "name": "stdout",
     "output_type": "stream",
     "text": [
      "Result: False\n",
      "\n",
      "\n",
      "Test: 89\n",
      "Params: {'in_channels': 8, 'out_channels': 2, 'kernel_size': (4, 2), 'padding': 7, 'stride': 2, 'dilation': 3, 'groups': 2, 'in_batches': 4, 'in_h': 21, 'in_w': 24}\n"
     ]
    },
    {
     "name": "stderr",
     "output_type": "stream",
     "text": [
      "\r",
      " 90%|█████████████████████████████████████▊    | 90/100 [01:29<00:10,  1.09s/it]"
     ]
    },
    {
     "name": "stdout",
     "output_type": "stream",
     "text": [
      "Result: False\n",
      "\n",
      "\n",
      "Test: 90\n",
      "Params: {'in_channels': 4, 'out_channels': 3, 'kernel_size': (1, 8), 'padding': 5, 'stride': 2, 'dilation': 5, 'groups': 1, 'in_batches': 1, 'in_h': 18, 'in_w': 34}\n",
      "invalid input parameters: output width is negative\n",
      "Result: False\n",
      "\n",
      "\n",
      "Test: 91\n",
      "Params: {'in_channels': 1, 'out_channels': 1, 'kernel_size': (16, 19), 'padding': 1, 'stride': 2, 'dilation': 1, 'groups': 1, 'in_batches': 1, 'in_h': 17, 'in_w': 32}\n",
      "Result: True\n",
      "\n",
      "\n",
      "Test: 92\n",
      "Params: {'in_channels': 6, 'out_channels': 3, 'kernel_size': (1, 11), 'padding': 9, 'stride': 1, 'dilation': 3, 'groups': 1, 'in_batches': 2, 'in_h': 7, 'in_w': 32}\n",
      "invalid input parameters: output width is negative\n",
      "Result: True\n",
      "\n",
      "\n",
      "Test: 93\n",
      "Params: {'in_channels': 18, 'out_channels': 15, 'kernel_size': (10, 7), 'padding': 1, 'stride': 3, 'dilation': 1, 'groups': 1, 'in_batches': 5, 'in_h': 22, 'in_w': 10}\n"
     ]
    },
    {
     "name": "stderr",
     "output_type": "stream",
     "text": [
      " 95%|███████████████████████████████████████▉  | 95/100 [01:31<00:03,  1.46it/s]"
     ]
    },
    {
     "name": "stdout",
     "output_type": "stream",
     "text": [
      "Result: True\n",
      "\n",
      "\n",
      "Test: 94\n",
      "Params: {'in_channels': 1, 'out_channels': 1, 'kernel_size': (9, 16), 'padding': 5, 'stride': 1, 'dilation': 1, 'groups': 1, 'in_batches': 3, 'in_h': 8, 'in_w': 16}\n",
      "Result: True\n",
      "\n",
      "\n",
      "Test: 95\n",
      "Params: {'in_channels': 5, 'out_channels': 3, 'kernel_size': (5, 6), 'padding': 8, 'stride': 4, 'dilation': 2, 'groups': 1, 'in_batches': 4, 'in_h': 34, 'in_w': 22}\n"
     ]
    },
    {
     "name": "stderr",
     "output_type": "stream",
     "text": [
      "\r",
      " 96%|████████████████████████████████████████▎ | 96/100 [01:33<00:03,  1.25it/s]"
     ]
    },
    {
     "name": "stdout",
     "output_type": "stream",
     "text": [
      "Result: True\n",
      "\n",
      "\n",
      "Test: 96\n",
      "Params: {'in_channels': 1, 'out_channels': 1, 'kernel_size': (15, 6), 'padding': 2, 'stride': 4, 'dilation': 2, 'groups': 1, 'in_batches': 3, 'in_h': 26, 'in_w': 10}\n",
      "Result: True\n",
      "\n",
      "\n",
      "Test: 97\n",
      "Params: {'in_channels': 15, 'out_channels': 12, 'kernel_size': (1, 12), 'padding': 7, 'stride': 5, 'dilation': 2, 'groups': 3, 'in_batches': 5, 'in_h': 19, 'in_w': 19}\n"
     ]
    },
    {
     "name": "stderr",
     "output_type": "stream",
     "text": [
      " 99%|█████████████████████████████████████████▌| 99/100 [01:33<00:00,  2.00it/s]"
     ]
    },
    {
     "name": "stdout",
     "output_type": "stream",
     "text": [
      "Result: False\n",
      "\n",
      "\n",
      "Test: 98\n",
      "Params: {'in_channels': 6, 'out_channels': 4, 'kernel_size': (1, 1), 'padding': 10, 'stride': 2, 'dilation': 9, 'groups': 1, 'in_batches': 4, 'in_h': 26, 'in_w': 22}\n",
      "Result: True\n",
      "\n",
      "\n",
      "Test: 99\n",
      "Params: {'in_channels': 12, 'out_channels': 1, 'kernel_size': (13, 8), 'padding': 7, 'stride': 3, 'dilation': 1, 'groups': 1, 'in_batches': 4, 'in_h': 32, 'in_w': 29}\n"
     ]
    },
    {
     "name": "stderr",
     "output_type": "stream",
     "text": [
      "100%|█████████████████████████████████████████| 100/100 [01:35<00:00,  1.05it/s]"
     ]
    },
    {
     "name": "stdout",
     "output_type": "stream",
     "text": [
      "Result: True\n",
      "\n",
      "\n",
      "86 out of 100 (86.0%) tests passed\n"
     ]
    },
    {
     "name": "stderr",
     "output_type": "stream",
     "text": [
      "\n"
     ]
    }
   ],
   "source": [
    "# for loop sweeping different input parameters and testing the outputs of Conv2DPytTestGroups and PyTorch\n",
    "from tqdm import tqdm\n",
    "\n",
    "num_tests = 100 # only test parameter to be varied\n",
    "num_passed = 0\n",
    "params_list = valid_params(num_tests)\n",
    "print('Number of tests: {}\\n\\n'.format(len(params_list)))\n",
    "\n",
    "for i, params in enumerate(tqdm(params_list)):\n",
    "    print('Test: {}\\nParams: {}'.format(i, params))\n",
    "    debug = False # DO NOT CHANGE THIS while using Conv2DPytTest - TODO: modify this flag to `test`\n",
    "\n",
    "    in_channels = params['in_channels'] # input channels\n",
    "    out_channels = params['out_channels'] # output channels\n",
    "    \n",
    "    kernel_size = params['kernel_size'] # kernel size\n",
    "\n",
    "    padding = params['padding'] # padding (optional)\n",
    "    stride = params['stride'] # stride (optional)\n",
    "    dilation = params['dilation'] # dilation factor (optional)\n",
    "    groups = params['groups'] # groups (optional)\n",
    "    \n",
    "    in_batches = params['in_batches'] # input batches\n",
    "    in_h = params['in_h'] # input height\n",
    "    in_w = params['in_w'] # input weight\n",
    "    \n",
    "    _input = np.random.rand(in_batches, in_channels, in_h, in_w) # define a random image based on the input parameters\n",
    "    kernels = []\n",
    "    for k in range(out_channels):\n",
    "        kernel = np.random.rand(int(in_channels / groups), kernel_size[0], kernel_size[1]) # define a random kernel based on the kernel parameters\n",
    "        kernels.append(kernel)\n",
    "    \n",
    "    try:\n",
    "        # get Conv2DPytTest output with the random inputs\n",
    "        conv2dpyttestgroups = Conv2DPytTestGroups(in_channels, out_channels, kernel_size, stride = stride, padding = padding, dilation = dilation, groups = groups, debug = debug, verbose = False) # call an instance of the class with the input parameters \n",
    "        _output = conv2dpyttestgroups.forward(_input, kernels) # perform convolution\n",
    "\n",
    "        # get PyTorch output with the same random inputs as above\n",
    "        x = torch.DoubleTensor(_input)\n",
    "        weights = torch.stack([torch.DoubleTensor(kernel) for kernel in kernels])\n",
    "        output = torch.nn.functional.conv2d(x, weights, stride = stride, padding = padding, dilation = dilation, groups = groups)\n",
    "        \n",
    "    except Exception as e:\n",
    "        print(e)\n",
    "        pass\n",
    "    \n",
    "    # compare outputs of conv-Numpy and PyTorch\n",
    "    result = torch.equal(torch.round(torch.DoubleTensor(_output)), torch.round(output)) # need to round the output due to precision difference\n",
    "    print('Result: {}\\n\\n'.format(result))\n",
    "    if result:\n",
    "        num_passed += 1\n",
    "\n",
    "print('{} out of {} ({}%) tests passed'.format(num_passed, num_tests, float(100 * num_passed / num_tests)))\n",
    "    "
   ]
  },
  {
   "cell_type": "markdown",
   "id": "8fe45ea6",
   "metadata": {},
   "source": [
    "### Modular code for methods in `forward()`"
   ]
  },
  {
   "cell_type": "raw",
   "id": "b53291ca",
   "metadata": {},
   "source": [
    "''' Modular code - can replace bloated def forward()'''\n",
    "def print_params(self):\n",
    "    self.verboseprint('*** parameters ***')\n",
    "    self.verboseprint('in_channels: {}, out_channels: {}, kernel_size: {}'.format(self.in_channels, self.out_channels, self.kernel_size))\n",
    "    self.verboseprint('padding: {}, stride: {}, dilation factor: {}'.format(self.padding, self.stride, self.dilation))\n",
    "    self.verboseprint('groups: {}, bias: {}, padding_mode: {}, device: {}, dtype: {}'.format(self.groups, self.bias, self.padding_mode, self.device, self.dtype))\n",
    "    self.verboseprint('\\n')\n",
    "\n",
    "def add_padding(self, _input):\n",
    "    ''' add zero padding based on the input parameters '''\n",
    "    if self.padding != 0:\n",
    "        _input = np.array([[np.pad(channel,self.padding, 'constant', constant_values = 0) for channel in batch] for batch in _input])    \n",
    "        self.verboseprint('*** padded input image ***')\n",
    "        self.verboseprint('input batches: {}, input channels: {}, input height: {}, input weight: {}'.format(_input.shape[0], _input.shape[1], _input.shape[2], _input.shape[3]))\n",
    "        self.verboseprint(_input)\n",
    "        self.verboseprint('\\n')\n",
    "    return _input\n",
    "\n",
    "def create_kernels(self, kernels):\n",
    "    ''' use the provided kernels or create random kernels based on the input kernel parameters '''\n",
    "    if kernels is not None:\n",
    "        self.verboseprint('*** kernels ***')\n",
    "        self.verboseprint('kernels: {}, kernel channels: {}, kernel height: {}, kernel weight: {}'.format(self.out_channels, int(self.in_channels / self.groups), self.kernel_size[0], self.kernel_size[1]))\n",
    "        kernels = self.dilate_kernels(kernels)\n",
    "        return kernels\n",
    "\n",
    "    ''' Below code never executes as we are passing `kernels` as input - can be commented/removed '''\n",
    "    kernels = []\n",
    "    self.verboseprint('*** kernels ***')\n",
    "    self.verboseprint('kernels: {}, kernel channels: {}, kernel height: {}, kernel weight: {}'.format(self.out_channels, int(self.in_channels / self.groups), self.kernel_size[0], self.kernel_size[1]))\n",
    "    for k in range(self.out_channels):\n",
    "        kernel = np.random.rand(int(self.in_channels/self.groups), self.kernel_size[0], self.kernel_size[1]) # define a random kernel based on the kernel parameters\n",
    "        if self.debug:\n",
    "            kernel = k * np.ones_like(kernel)\n",
    "        kernels.append(kernel)\n",
    "        self.verboseprint('kernel {}'.format(k))\n",
    "        self.verboseprint(kernel)\n",
    "    self.verboseprint('\\n')\n",
    "    kernels = self.dilate_kernels(kernels)\n",
    "    return kernels \n",
    "\n",
    "def dilate_kernels(self, kernels):\n",
    "    ''' dilate a kernel '''\n",
    "    dil_ker_h = self.dilation * (self.kernel_size[0] - 1) + 1\n",
    "    dil_ker_w = self.dilation * (self.kernel_size[1] - 1) + 1\n",
    "    dil_kernels = []\n",
    "    for kernel in kernels:\n",
    "        dil_kernel = []\n",
    "        for channel in kernel:\n",
    "            dil_channel = np.zeros((dil_ker_h, dil_ker_w))\n",
    "            for row in range(len(channel)):\n",
    "                for col in range(len(channel[0])):\n",
    "                    dil_channel[self.dilation*row][self.dilation*col] = channel[row][col]\n",
    "            dil_kernel.append(dil_channel.tolist())\n",
    "        dil_kernels.append(dil_kernel)\n",
    "    kernels, self.kernel_size = dil_kernels, (dil_ker_h, dil_ker_w)\n",
    "    self.verboseprint('*** dilated kernels ***')\n",
    "    self.verboseprint('kernels: {}, dilation factor: {}, kernel channels: {}, kernel height: {}, kernel weight: {}'.format(self.out_channels, self.dilation, int(self.in_channels / self.groups), self.kernel_size[0], self.kernel_size[1]))\n",
    "    for k in range(self.out_channels):\n",
    "        self.verboseprint('kernel {}'.format(k))\n",
    "        self.verboseprint(kernels[k])\n",
    "    self.verboseprint('\\n')\n",
    "    return kernels\n",
    "\n",
    "def compute_out_vol(self, _input):\n",
    "    ''' compute output volume from the input and kernel parameters '''\n",
    "    _input_n, _, _input_h, _input_w = _input.shape\n",
    "    out_n = int(_input_n)\n",
    "    out_c = int(self.out_channels)\n",
    "    out_h = int((_input_h - self.kernel_size[0])/self.stride) + 1\n",
    "    out_w = int((_input_w - self.kernel_size[1])/self.stride) + 1\n",
    "    return out_n, out_c, out_h, out_w\n",
    "\n",
    "def error_checking(self, _input):\n",
    "    ''' do error checking '''\n",
    "    _input_n, _input_c, _input_h, _input_w = _input.shape\n",
    "    if _input_h + 2 * self.padding < self.dilation * (self.kernel_size[0] - 1) + 1: # check if (dilated) ker_h is valid\n",
    "        raise Exception('invalid input parameters: kernel height is larger than input height')\n",
    "    if _input_w + 2 * self.padding < self.dilation * (self.kernel_size[1] - 1) + 1: # check if (dilated) ker_w is valid\n",
    "        raise Exception('invalid input parameters: kernel width is larger than input width')\n",
    "    if ((_input_h + 2 * self.padding - (self.dilation * (self.kernel_size[0] - 1) + 1)) / self.stride) + 1 < 0: # check if out_h is valid\n",
    "        raise Exception('invalid input parameters: output height is negative')\n",
    "    if ((_input_h + 2 * self.padding - (self.dilation * (self.kernel_size[1] - 1) + 1)) / self.stride) + 1 < 0: # check if out_w is valid\n",
    "        raise Exception('invalid input parameters: output width is negative')\n",
    "    if  self.in_channels % self.groups != 0: # check if groups is valid\n",
    "        raise Exception('invalid input parameters: input channels is not divisible by groups')\n",
    "    if self.out_channels % self.groups != 0: # check if groups is valid\n",
    "        raise Exception('invalid input parametes: output channels is not divisible by groups')\n",
    "    if not (self.groups == 1 or self.groups == self.in_channels): # check if groups is valid - remove once groups is properly implemented\n",
    "        raise Exception('invalid input parameters: currently groups == 1 or groups == in_channels only supported')\n"
   ]
  },
  {
   "cell_type": "markdown",
   "id": "ca85c279",
   "metadata": {},
   "source": [
    "### Modular code for `forward()`"
   ]
  },
  {
   "cell_type": "raw",
   "id": "51abe93d",
   "metadata": {},
   "source": [
    "''' Modular code - can replace bloated def forward()'''\n",
    "'''\n",
    "    def convolve(self, h, w, ker_num, batch_num, _input, kernels):\n",
    "        # convolve kernel over the input slices\n",
    "        self.debugprint('kernel indices, image indices')\n",
    "        self.debugprint('[c, h, w]', '[n, c, h, w]')\n",
    "        convol_sum = 0\n",
    "        ker_c = self.in_channels\n",
    "        ker_h = self.kernel_size[0]\n",
    "        ker_w = self.kernel_size[1]\n",
    "        for c_ker in range(ker_c):\n",
    "            for h_ker in range(ker_h):\n",
    "                for w_ker in range(ker_w):\n",
    "                    self.debugprint([c_ker, h_ker, w_ker], [batch_num, c_ker, h_ker + self.stride*h, w_ker + self.stride*w])\n",
    "                    convol_sum += kernels[ker_num][c_ker][h_ker][w_ker] * _input[batch_num][c_ker][h_ker + self.stride*h][w_ker + self.stride*w]\n",
    "        self.debugprint('\\n')\n",
    "        return convol_sum\n",
    "    '''\n",
    "    '''\n",
    "    def forward(self, _input):\n",
    "        # create output from the input and kernel parameters \n",
    "        _input = self.add_padding(_input)\n",
    "        if self.debug:\n",
    "            for b in range(_input.shape[0]):\n",
    "                _input[b] = (b+1) * np.ones_like(_input[b]) # define an image of all ones (twos etc.) based on the input parameters\n",
    "        kernels = self.create_kernels()\n",
    "        out_n, out_c, out_h, out_w = self.compute_out_vol(_input)\n",
    "        output = np.zeros([out_n, out_c, out_h, out_w])\n",
    "        # parse through every element of the output and compute the convolution value for that element\n",
    "        for b in range(out_n):\n",
    "            for k in range(out_c):\n",
    "                for h in range(out_h):\n",
    "                    for w in range(out_w):\n",
    "                        output[b, k, h, w] += self.convolve(h, w, k, b, _input, kernels)\n",
    "        self.verboseprint('*** output ***')\n",
    "        output_shape = output.shape\n",
    "        self.verboseprint('output batches: {}, ouput channels: {}, output height: {}, output weight: {}'.format(output_shape[0], output_shape[1], output_shape[2], output_shape[3]))\n",
    "        assert((out_n, out_c, out_h, out_w) == output_shape)\n",
    "        self.verboseprint(output)\n",
    "        self.verboseprint('\\n')\n",
    "        return output\n",
    "    '''\n",
    "    "
   ]
  },
  {
   "cell_type": "markdown",
   "id": "c8eb97cc",
   "metadata": {},
   "source": [
    "### Old `Conv2D` code  for reference"
   ]
  },
  {
   "cell_type": "raw",
   "id": "eb6b032e",
   "metadata": {},
   "source": [
    "'''\n",
    "class Conv2D:\n",
    "    \"\"\"Computes convolution given the input parameters\"\"\"\n",
    "    def __init__(self, params, verbose=True, debug=False):\n",
    "        super(Conv2D, self).__init__()\n",
    "        default_params = {\n",
    "        'stride': 1,\n",
    "        'dilation': 1,\n",
    "        'padding': 0\n",
    "        }\n",
    "        for key, value in default_params.items():\n",
    "            setattr(self, key, params.get(key, value))\n",
    "        self.inp_n = params['inp_n']\n",
    "        self.inp_c = params['inp_c']\n",
    "        self.inp_h = params['inp_h']\n",
    "        self.inp_w = params['inp_w']\n",
    "        self.ker_c = params['ker_c']\n",
    "        self.ker_h = params['ker_h']\n",
    "        self.ker_w = params['ker_w']\n",
    "        self.num_ker = params['num_ker']\n",
    "        self.input_img = None\n",
    "        self.kernels = None\n",
    "        self.out_n = None\n",
    "        self.out_c = None\n",
    "        self.out_h = None\n",
    "        self.out_w = None\n",
    "        self.output = None\n",
    "        self.verbose = verbose\n",
    "        self.verboseprint = print if self.verbose else lambda *a, **k: None\n",
    "        self.debug = debug\n",
    "        self.debugprint = print if self.debug else lambda *a, **k: None\n",
    "        self.print_params()\n",
    "\n",
    "    def print_params(self):\n",
    "        self.verboseprint('*** parameters ***')\n",
    "        self.verboseprint('input batches: {}, input channels: {}, input height: {}, input weight: {}'.format(self.inp_n, self.inp_c, self.inp_h, self.inp_w))\n",
    "        self.verboseprint('kernels: {}, kernel channels: {}, kernel height: {}, kernel weight: {}'.format(self.num_ker, self.ker_c, self.ker_h, self.ker_w))\n",
    "        self.verboseprint('stride: {}, dilation factor: {}, padding: {}'.format(self.stride, self.dilation, self.padding))\n",
    "        self.verboseprint('\\n')\n",
    "\n",
    "    def create_input_img(self):\n",
    "        # create image from the input parameters\n",
    "        input_img = np.random.rand(self.inp_n, self.inp_c, self.inp_h, self.inp_w) # define a random image based on the input parameters\n",
    "        if self.debug:\n",
    "            for b in range(self.inp_n):\n",
    "                input_img[b] = (b+1) * np.ones_like(input_img[b]) # define an image of all ones (twos etc.) based on the input parameters\n",
    "        self.verboseprint('*** input image ***')\n",
    "        self.verboseprint('input batches: {}, input channels: {}, input height: {}, input weight: {}'.format(self.inp_n, self.inp_c, self.inp_h, self.inp_w))\n",
    "        self.verboseprint(input_img)\n",
    "        self.verboseprint('\\n')\n",
    "        self.input_img = input_img\n",
    "        self.add_padding()\n",
    "\n",
    "    def add_padding(self):\n",
    "        # add zero padding based on the input parameters\n",
    "        if self.padding != 0:\n",
    "            self.input_img = [[np.pad(channel,self.padding, 'constant', constant_values=0) for channel in batch] for batch in self.input_img]    \n",
    "            self.inp_h += 2 * self.padding\n",
    "            self.inp_w += 2 * self.padding\n",
    "            self.verboseprint('*** padded input image ***')\n",
    "            self.verboseprint('input batches: {}, input channels: {}, input height: {}, input weight: {}'.format(self.inp_n, self.inp_c, self.inp_h, self.inp_w))\n",
    "            self.verboseprint(self.input_img)\n",
    "            self.verboseprint('\\n')\n",
    "\n",
    "    def create_kernels(self):\n",
    "        # create random kernels based on the input kernel parameters\n",
    "        kernels = []\n",
    "        self.verboseprint('*** kernels ***')\n",
    "        self.verboseprint('kernels: {}, kernel channels: {}, kernel height: {}, kernel weight: {}'.format(self.num_ker, self.ker_c, self.ker_h, self.ker_w))\n",
    "        for k in range(self.num_ker):\n",
    "            kernel = np.random.rand(self.ker_c, self.ker_h, self.ker_w) # define a random kernel based on the kernel parameters\n",
    "            if self.debug:\n",
    "                kernel = k * np.ones_like(kernel)\n",
    "            kernels.append(kernel)\n",
    "            self.verboseprint('kernel {}'.format(k))\n",
    "            self.verboseprint(kernel)\n",
    "        self.verboseprint('\\n')\n",
    "        self.kernels = kernels\n",
    "        self.dilate_kernels()\n",
    "\n",
    "    def dilate_kernels(self):\n",
    "        # dilate a kernel\n",
    "        dil_ker_h = self.dilation * (self.ker_h - 1) + 1\n",
    "        dil_ker_w = self.dilation * (self.ker_w - 1) + 1\n",
    "        dil_kernels = []\n",
    "        for kernel in self.kernels:\n",
    "            dil_kernel = []\n",
    "            for channel in kernel:\n",
    "                dil_channel = np.zeros((dil_ker_h, dil_ker_w))\n",
    "                for row in range(len(channel)):\n",
    "                    for col in range(len(channel[0])):\n",
    "                        dil_channel[self.dilation*row][self.dilation*col] = channel[row][col]\n",
    "                dil_kernel.append(dil_channel.tolist())\n",
    "            dil_kernels.append(dil_kernel)\n",
    "        self.kernels, self.ker_h, self.ker_w = dil_kernels, dil_ker_h, dil_ker_w\n",
    "        self.verboseprint('*** dilated kernels ***')\n",
    "        self.verboseprint('kernels: {}, dilation factor: {}, kernel channels: {}, kernel height: {}, kernel weight: {}'.format(self.num_ker, self.dilation, self.ker_c, self.ker_h, self.ker_w))\n",
    "        for k in range(self.num_ker):\n",
    "            self.verboseprint('kernel {}'.format(k))\n",
    "            self.verboseprint(self.kernels[k])\n",
    "        self.verboseprint('\\n')\n",
    "\n",
    "    def compute_out_vol(self):\n",
    "        # compute output volume from the input and kernel parameters\n",
    "        out_n = int(self.inp_n)\n",
    "        out_c = int(self.num_ker)\n",
    "        out_h = int((self.inp_h - self.ker_h)/self.stride) + 1\n",
    "        out_w = int((self.inp_w - self.ker_w)/self.stride) + 1\n",
    "        self.out_n, self.out_c, self.out_h, self.out_w = out_n, out_c, out_h, out_w\n",
    "\n",
    "    def convolve(self, h, w, ker_num, batch_num):\n",
    "        # convolve kernel over the input slices\n",
    "        self.debugprint('kernel indices, image indices')\n",
    "        self.debugprint('[c, h, w]', '[n, c, h, w]')\n",
    "        convol_sum = 0\n",
    "        for c_ker in range(self.ker_c):\n",
    "            for h_ker in range(self.ker_h):\n",
    "                for w_ker in range(self.ker_w):\n",
    "                    self.debugprint([c_ker, h_ker, w_ker], [batch_num, c_ker, h_ker + self.stride*h, w_ker + self.stride*w])\n",
    "                    convol_sum += self.kernels[ker_num][c_ker][h_ker][w_ker] * self.input_img[batch_num][c_ker][h_ker + self.stride*h][w_ker + self.stride*w]\n",
    "        self.debugprint('\\n')\n",
    "        return convol_sum\n",
    "\n",
    "    def create_output(self):\n",
    "        # create output from the input and kernel parameters \n",
    "        self.compute_out_vol()\n",
    "        self.output = np.zeros([self.out_n, self.out_c, self.out_h, self.out_w])\n",
    "        # parse through every element of the output and compute the convolution value for that element\n",
    "        for b in range(self.out_n):\n",
    "            for k in range(self.num_ker):\n",
    "                for h in range(self.out_h):\n",
    "                    for w in range(self.out_w):\n",
    "                        self.output[b, k, h, w] += self.convolve(h, w, k, b)\n",
    "        self.verboseprint('*** output ***')\n",
    "        output_shape = self.output.shape\n",
    "        self.verboseprint('output batches: {}, ouput channels: {}, output height: {}, output weight: {}'.format(output_shape[0], output_shape[1], output_shape[2], output_shape[3]))\n",
    "        assert((self.out_n, self.out_c, self.out_h, self.out_w) == output_shape)\n",
    "        self.verboseprint(self.output)\n",
    "        self.verboseprint('\\n')\n",
    "\n",
    "    def forward(self, _input):\n",
    "        # create output from the input and kernel parameters \n",
    "        self.compute_out_vol(_input)\n",
    "        self.output = np.zeros([self.out_n, self.out_c, self.out_h, self.out_w])\n",
    "        # parse through every element of the output and compute the convolution value for that element\n",
    "        for b in range(self.out_n):\n",
    "            for k in range(self.num_ker):\n",
    "                for h in range(self.out_h):\n",
    "                    for w in range(self.out_w):\n",
    "                        self.output[b, k, h, w] += self.convolve(h, w, k, b)\n",
    "        self.verboseprint('*** output ***')\n",
    "        output_shape = self.output.shape\n",
    "        self.verboseprint('output batches: {}, ouput channels: {}, output height: {}, output weight: {}'.format(output_shape[0], output_shape[1], output_shape[2], output_shape[3]))\n",
    "        assert((self.out_n, self.out_c, self.out_h, self.out_w) == output_shape)\n",
    "        self.verboseprint(self.output)\n",
    "        self.verboseprint('\\n')\n",
    "'''"
   ]
  },
  {
   "cell_type": "raw",
   "id": "f4ff949d",
   "metadata": {},
   "source": [
    "'''\n",
    "inp_n = 2 # number of input batches\n",
    "inp_c, inp_h, inp_w = 2, 4, 4 # input channels, input height, input weight\n",
    "ker_c, ker_h, ker_w = 2, 2, 2 # kernel channels, kernel height, kernel weight\n",
    "num_ker = 3 # number of kernels\n",
    "stride = 2 # stride (optional)\n",
    "dilation = 1 # dilation factor (optional)\n",
    "padding = 0 # padding (optional)\n",
    "params = {'inp_n':inp_n, 'inp_c':inp_c, 'inp_h':inp_h, 'inp_w':inp_w, 'ker_c':ker_c, 'ker_h':ker_h, \n",
    "              'ker_w':ker_w, 'num_ker':num_ker, 'stride':stride, 'dilation':dilation, 'padding':padding}\n",
    "\n",
    "conv2D = Conv2D(params, debug=True)\n",
    "conv2D.create_input_img()\n",
    "conv2D.create_kernels()\n",
    "conv2D.create_output()\n",
    "'''"
   ]
  }
 ],
 "metadata": {
  "kernelspec": {
   "display_name": "Python 3 (ipykernel)",
   "language": "python",
   "name": "python3"
  },
  "language_info": {
   "codemirror_mode": {
    "name": "ipython",
    "version": 3
   },
   "file_extension": ".py",
   "mimetype": "text/x-python",
   "name": "python",
   "nbconvert_exporter": "python",
   "pygments_lexer": "ipython3",
   "version": "3.7.1"
  }
 },
 "nbformat": 4,
 "nbformat_minor": 5
}
